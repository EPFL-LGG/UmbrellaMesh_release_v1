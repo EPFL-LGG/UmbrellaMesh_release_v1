{
 "cells": [
  {
   "cell_type": "code",
   "execution_count": 1,
   "metadata": {},
   "outputs": [
    {
     "data": {
      "application/vnd.jupyter.widget-view+json": {
       "model_id": "12af1f6827ae4d3ebf81e0b81d7ef21e",
       "version_major": 2,
       "version_minor": 0
      },
      "text/plain": [
       "Renderer(camera=PerspectiveCamera(aspect=2.0, children=(DirectionalLight(color='white', intensity=0.6, positio…"
      ]
     },
     "metadata": {},
     "output_type": "display_data"
    }
   ],
   "source": [
    "import sys; sys.path.append('../..')\n",
    "import numpy as np, elastic_rods\n",
    "from bending_validation import suppress_stdout\n",
    "from linkage_vis import LinkageViewer\n",
    "\n",
    "l = elastic_rods.RodLinkage('data/wiggly_banana_preopt/deployed_opt.msh')\n",
    "mat = elastic_rods.RodMaterial('+', 20000, 0.3, [5.0, 5.0, 0.2, 0.2], stiffAxis=elastic_rods.StiffAxis.D1)\n",
    "l.setMaterial(mat)\n",
    "\n",
    "l.setPerSegmentRestLength(np.loadtxt('data/wiggly_banana_preopt/design_parameters.txt'))\n",
    "\n",
    "jdo = l.dofOffsetForJoint(l.centralJoint())\n",
    "fixedVars = list(range(jdo, jdo + 6)) # fix rigid motion for a single joint\n",
    "with suppress_stdout(): elastic_rods.compute_equilibrium(l, np.deg2rad(80), fixedVars=fixedVars)\n",
    "view = LinkageViewer(l, width=1024, labelOffset=-0.5)\n",
    "view.setCameraParams(((0.4075185454716348, 3.1892642201046715, 0.3099480992441177),\n",
    " (0.15364528336486324, 0.2839547329660347, 0.9464474821805594),\n",
    " (0.0, 0.0, 0.0)))\n",
    "view.show()"
   ]
  },
  {
   "cell_type": "code",
   "execution_count": 9,
   "metadata": {},
   "outputs": [],
   "source": [
    "np.savetxt('normals_wiggly_preop.txt', np.array([j.normal for j in l.joints()]))\n",
    "l.writeLinkageDebugData('deployed_wiggly_preop.msh')"
   ]
  },
  {
   "cell_type": "code",
   "execution_count": 3,
   "metadata": {},
   "outputs": [
    {
     "data": {
      "application/vnd.jupyter.widget-view+json": {
       "model_id": "253e377c5296427388d02b1e3df460aa",
       "version_major": 2,
       "version_minor": 0
      },
      "text/plain": [
       "Renderer(camera=PerspectiveCamera(aspect=2.0, children=(DirectionalLight(color='white', intensity=0.6, positio…"
      ]
     },
     "metadata": {},
     "output_type": "display_data"
    }
   ],
   "source": [
    "import sys; sys.path.append('../..')\n",
    "import numpy as np, elastic_rods\n",
    "from bending_validation import suppress_stdout\n",
    "from linkage_vis import LinkageViewer\n",
    "\n",
    "lopt = elastic_rods.RodLinkage('data/wiggly_banana_5/deployed_opt.msh')\n",
    "lopt.setMaterial(mat)\n",
    "\n",
    "lopt.setPerSegmentRestLength(np.loadtxt('data/wiggly_banana_5/design_parameters.txt'))\n",
    "\n",
    "with suppress_stdout(): elastic_rods.compute_equilibrium(lopt, np.deg2rad(80), fixedVars=fixedVars)\n",
    "viewopt = LinkageViewer(lopt, width=1024, labelOffset=-0.5)\n",
    "viewopt.setCameraParams(((0.4075185454716348, 3.1892642201046715, 0.3099480992441177),\n",
    " (0.15364528336486324, 0.2839547329660347, 0.9464474821805594),\n",
    " (0.0, 0.0, 0.0)))\n",
    "viewopt.show()"
   ]
  },
  {
   "cell_type": "code",
   "execution_count": 4,
   "metadata": {},
   "outputs": [],
   "source": [
    "jointIdxs, pre_opt_stress, parametric_coords = l.rodStresses()\n",
    "jointIdxs, post_opt_stress, parametric_coords = lopt.rodStresses()"
   ]
  },
  {
   "cell_type": "code",
   "execution_count": 5,
   "metadata": {},
   "outputs": [],
   "source": [
    "print(\"\\n\".join([\"\\t\".join(map(str, jidxs)) for jidxs in jointIdxs]), file=open('wiggly_rod_joints.txt', 'w'))\n",
    "from linkage_utils import writeRodSegments\n",
    "writeRodSegments(l, 'wiggly_rod_segments.txt', zeroBasedIndexing=True)"
   ]
  },
  {
   "cell_type": "code",
   "execution_count": 8,
   "metadata": {},
   "outputs": [],
   "source": [
    "np.savetxt('normals_postop.txt', np.array([j.normal for j in l.joints()]))\n",
    "l.writeLinkageDebugData('deployed_postop.msh')"
   ]
  },
  {
   "cell_type": "code",
   "execution_count": null,
   "metadata": {},
   "outputs": [],
   "source": []
  },
  {
   "cell_type": "code",
   "execution_count": 6,
   "metadata": {},
   "outputs": [],
   "source": [
    "from matplotlib import pyplot as plt"
   ]
  },
  {
   "cell_type": "code",
   "execution_count": 7,
   "metadata": {},
   "outputs": [],
   "source": [
    "import os\n",
    "try: os.mkdir('wiggly_stress')\n",
    "except: pass\n",
    "resolution = 1000\n",
    "normalize = plt.Normalize(vmin=0, vmax=max(max(max(pre_opt_stress)), max(max(post_opt_stress))))\n",
    "cmap = plt.cm.magma\n",
    "\n",
    "def vis(name, stressValues):\n",
    "    for ri in range(len(jointIdxs)):\n",
    "        s = stressValues[ri]\n",
    "        p = parametric_coords[ri][:]\n",
    "        # add zero stress samples at the beginning and end of the rod\n",
    "        s.insert(0, 0)\n",
    "        s.append(0)\n",
    "        p.insert(0, 0)\n",
    "        p.append(np.ceil(p[-1]))\n",
    "        interpolated_stresses = np.interp(np.linspace(0, p[-1], resolution), p, s)\n",
    "        image = cmap(normalize(np.array(interpolated_stresses).reshape(1, resolution)))\n",
    "        plt.imsave('wiggly_stress/{}_stress_{}.png'.format(name, ri), image)\n",
    "vis('pre_opt', pre_opt_stress)\n",
    "vis('post_opt', post_opt_stress)"
   ]
  },
  {
   "cell_type": "code",
   "execution_count": null,
   "metadata": {},
   "outputs": [],
   "source": []
  }
 ],
 "metadata": {
  "kernelspec": {
   "display_name": "Python 3",
   "language": "python",
   "name": "python3"
  },
  "language_info": {
   "codemirror_mode": {
    "name": "ipython",
    "version": 3
   },
   "file_extension": ".py",
   "mimetype": "text/x-python",
   "name": "python",
   "nbconvert_exporter": "python",
   "pygments_lexer": "ipython3",
   "version": "3.7.1"
  }
 },
 "nbformat": 4,
 "nbformat_minor": 2
}
