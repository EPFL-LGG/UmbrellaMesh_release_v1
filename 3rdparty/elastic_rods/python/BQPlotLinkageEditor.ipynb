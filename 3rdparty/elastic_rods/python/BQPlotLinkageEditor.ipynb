{
 "cells": [
  {
   "cell_type": "code",
   "execution_count": 1,
   "metadata": {},
   "outputs": [
    {
     "name": "stderr",
     "output_type": "stream",
     "text": [
      "/home/jpanetta/.local/lib/python3.6/site-packages/bqplot/pyplot.py:603: FutureWarning: Conversion of the second argument of issubdtype from `str` to `str` is deprecated. In future, it will be treated as `np.str_ == np.dtype(str).type`.\n",
      "  issubdtype(dtype, Scale.scale_types[key].dtype)\n"
     ]
    },
    {
     "data": {
      "application/vnd.jupyter.widget-view+json": {
       "model_id": "4f2b4f7702ed4c9a8211ba0254b60b6a",
       "version_major": 2,
       "version_minor": 0
      },
      "text/plain": [
       "VBox(children=(Figure(axes=[Axis(scale=LinearScale(max=3.0, min=-3.0)), Axis(orientation='vertical', scale=Lin…"
      ]
     },
     "metadata": {},
     "output_type": "display_data"
    }
   ],
   "source": [
    "from bqplot import pyplot as plt\n",
    "import numpy as np\n",
    "import itertools\n",
    "\n",
    "fig=plt.figure()\n",
    "\n",
    "x = np.repeat(np.linspace(0, 1, 3),3)\n",
    "y = np.tile(np.linspace(0, 1, 3),3)\n",
    "edges = [(i, i + 1) for i in [0, 1, 3, 4, 6, 7]] + [(i, i + 3) for i in range(6)]\n",
    "\n",
    "lines = None\n",
    "scatter = None\n",
    "\n",
    "def call_back(name, value):\n",
    "    for i in range(len(x)):\n",
    "        x[i] = scatter.x[i]\n",
    "        y[i] = scatter.y[i]\n",
    "    for i, e in enumerate(edges):\n",
    "        lines[i].x = [scatter.x[e[0]], scatter.x[e[1]]]\n",
    "        lines[i].y = [scatter.y[e[0]], scatter.y[e[1]]]\n",
    "        \n",
    "def selection_callback(change):\n",
    "    sel = tuple(sorted(scatter.selected))\n",
    "    if (len(sel) == 2):\n",
    "        try: edges.remove(sel)\n",
    "        except: edges.append(sel)\n",
    "        draw()\n",
    "        print(edges)\n",
    "        \n",
    "def draw():\n",
    "    plt.clear()\n",
    "    global lines, scatter\n",
    "    lines = [plt.plot(x[[e]], y[[e]]) for e in edges]\n",
    "    scatter = plt.scatter(x, y, enable_move = True, interactions={'click': 'select'}, selected_style={'opacity': 1.0, 'fill': 'DarkOrange', 'stroke': 'Red'}, unselected_style={'opacity': 0.5})\n",
    "    plt.xlim(-3,3)\n",
    "    plt.ylim(-3,3)\n",
    "    fig.layout.height = '500px'\n",
    "    fig.layout.width = '500px'\n",
    "    plt.show()\n",
    "    scatter.on_drag_end(call_back)\n",
    "    scatter.observe(selection_callback, names='selected')\n",
    "\n",
    "draw()\n",
    "\n",
    "\n",
    "# scatter.on_click(lambda self, target: print(target))\n",
    "\n"
   ]
  },
  {
   "cell_type": "code",
   "execution_count": 2,
   "metadata": {},
   "outputs": [],
   "source": [
    "a = [1, 2]"
   ]
  },
  {
   "cell_type": "code",
   "execution_count": 117,
   "metadata": {},
   "outputs": [
    {
     "ename": "AttributeError",
     "evalue": "'Lines' object has no attribute 'remove'",
     "output_type": "error",
     "traceback": [
      "\u001b[0;31m---------------------------------------------------------------------------\u001b[0m",
      "\u001b[0;31mAttributeError\u001b[0m                            Traceback (most recent call last)",
      "\u001b[0;32m<ipython-input-117-b2fb94cd90fb>\u001b[0m in \u001b[0;36m<module>\u001b[0;34m()\u001b[0m\n\u001b[0;32m----> 1\u001b[0;31m \u001b[0mlines\u001b[0m\u001b[0;34m[\u001b[0m\u001b[0;36m0\u001b[0m\u001b[0;34m]\u001b[0m\u001b[0;34m.\u001b[0m\u001b[0mremove\u001b[0m\u001b[0;34m(\u001b[0m\u001b[0;34m)\u001b[0m\u001b[0;34m\u001b[0m\u001b[0m\n\u001b[0m",
      "\u001b[0;31mAttributeError\u001b[0m: 'Lines' object has no attribute 'remove'"
     ]
    }
   ],
   "source": [
    "lines[0].remove()"
   ]
  },
  {
   "cell_type": "code",
   "execution_count": 95,
   "metadata": {},
   "outputs": [
    {
     "name": "stdout",
     "output_type": "stream",
     "text": [
      "Object `plt.lines` not found.\n"
     ]
    }
   ],
   "source": [
    "plt.lines?"
   ]
  },
  {
   "cell_type": "code",
   "execution_count": 96,
   "metadata": {},
   "outputs": [],
   "source": [
    "plt.plot?"
   ]
  },
  {
   "cell_type": "code",
   "execution_count": null,
   "metadata": {},
   "outputs": [],
   "source": []
  }
 ],
 "metadata": {
  "kernelspec": {
   "display_name": "Python 3",
   "language": "python",
   "name": "python3"
  },
  "language_info": {
   "codemirror_mode": {
    "name": "ipython",
    "version": 3
   },
   "file_extension": ".py",
   "mimetype": "text/x-python",
   "name": "python",
   "nbconvert_exporter": "python",
   "pygments_lexer": "ipython3",
   "version": "3.6.5"
  }
 },
 "nbformat": 4,
 "nbformat_minor": 2
}
