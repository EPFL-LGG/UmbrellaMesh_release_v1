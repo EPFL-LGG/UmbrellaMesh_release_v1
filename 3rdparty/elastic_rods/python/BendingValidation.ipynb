{
 "cells": [
  {
   "cell_type": "code",
   "execution_count": 1,
   "metadata": {},
   "outputs": [],
   "source": [
    "from bending_validation import *\n",
    "from ipywidgets import interact, interactive, fixed, interact_manual\n",
    "import ipywidgets as widgets"
   ]
  },
  {
   "cell_type": "code",
   "execution_count": 2,
   "metadata": {},
   "outputs": [
    {
     "data": {
      "application/vnd.jupyter.widget-view+json": {
       "model_id": "d08c52f485c8429785ebf2f703283bd9",
       "version_major": 2,
       "version_minor": 0
      },
      "text/plain": [
       "interactive(children=(FloatSlider(value=0.5, description='a', max=1.0, min=0.01, step=0.01), IntSlider(value=4…"
      ]
     },
     "metadata": {},
     "output_type": "display_data"
    }
   ],
   "source": [
    "iplot = interactive(runTestVisualization,\n",
    "                    L=fixed(1),\n",
    "                    a=widgets.FloatSlider(min=0.01, max=1, value=0.5, step=0.01),\n",
    "                    numVertices=widgets.IntSlider(min=3,max=100,step=2,value=41),\n",
    "                    gradTol=fixed(1e-12))\n",
    "iplot.children[-1].layout.height = '450px'\n",
    "display(iplot)"
   ]
  },
  {
   "cell_type": "code",
   "execution_count": 3,
   "metadata": {},
   "outputs": [
    {
     "name": "stdout",
     "output_type": "stream",
     "text": [
      "Force  error = 4.05 h^1.99\n",
      "Height error = 0.00 h^-0.03\n"
     ]
    },
    {
     "data": {
      "image/png": "[encoded data removed]",
      "text/plain": [
       "<Figure size 864x432 with 1 Axes>"
      ]
     },
     "metadata": {
      "needs_background": "light"
     },
     "output_type": "display_data"
    },
    {
     "name": "stdout",
     "output_type": "stream",
     "text": [
      "3.9098594188690186\n"
     ]
    }
   ],
   "source": [
    "t = time.time()\n",
    "convergenceTest(0.6, 300, 1e-11)\n",
    "print(time.time() - t)"
   ]
  },
  {
   "cell_type": "code",
   "execution_count": 4,
   "metadata": {},
   "outputs": [
    {
     "data": {
      "text/plain": [
       "0.3733064274452093"
      ]
     },
     "execution_count": 4,
     "metadata": {},
     "output_type": "execute_result"
    }
   ],
   "source": [
    "from PlanarElastica import AnalyticRod\n",
    "arod = AnalyticRod(1, 0.5)\n",
    "arod.height() # correct to 15 digits vs Mathematica..."
   ]
  },
  {
   "cell_type": "code",
   "execution_count": 5,
   "metadata": {},
   "outputs": [],
   "source": [
    "with suppress_stdout():\n",
    "    errors = [(i, simulationErrors(1, 0.7, i)) for i in range(3, 300, 2)]"
   ]
  },
  {
   "cell_type": "code",
   "execution_count": 6,
   "metadata": {},
   "outputs": [
    {
     "name": "stdout",
     "output_type": "stream",
     "text": [
      "System matrix is not positive definite; increasing tau to 1e-08\n",
      "System matrix is not positive definite; increasing tau to 4e-08\n",
      "System matrix is not positive definite; increasing tau to 1.6e-07\n",
      "System matrix is not positive definite; increasing tau to 6.4e-07\n",
      "System matrix is not positive definite; increasing tau to 2.56e-06\n",
      "System matrix is not positive definite; increasing tau to 1.024e-05\n",
      "System matrix is not positive definite; increasing tau to 4.096e-05\n",
      "System matrix is not positive definite; increasing tau to 0.00016384\n",
      "System matrix is not positive definite; increasing tau to 0.00065536\n",
      "System matrix is not positive definite; increasing tau to 0.00262144\n",
      "System matrix is not positive definite; increasing tau to 0.0104858\n",
      "System matrix is not positive definite; increasing tau to 0.041943\n",
      "System matrix is not positive definite; increasing tau to 0.167772\n",
      "System matrix is not positive definite; increasing tau to 0.671089\n",
      "System matrix is not positive definite; increasing tau to 2.68435\n",
      "System matrix is not positive definite; increasing tau to 1.34218\n",
      "System matrix is not positive definite; increasing tau to 0.671089\n",
      "System matrix is not positive definite; increasing tau to 0.335544\n",
      "System matrix is not positive definite; increasing tau to 0.167772\n",
      "System matrix is not positive definite; increasing tau to 0.0838861\n",
      "System matrix is not positive definite; increasing tau to 0.041943\n",
      "System matrix is not positive definite; increasing tau to 0.0209715\n",
      "System matrix is not positive definite; increasing tau to 0.0104858\n",
      "System matrix is not positive definite; increasing tau to 0.00524288\n",
      "System matrix is not positive definite; increasing tau to 0.00262144\n",
      "System matrix is not positive definite; increasing tau to 0.00131072\n",
      "System matrix is not positive definite; increasing tau to 0.00065536\n",
      "System matrix is not positive definite; increasing tau to 0.00032768\n",
      "System matrix is not positive definite; increasing tau to 0.00016384\n"
     ]
    },
    {
     "data": {
      "text/plain": [
       "((8.7329000659909e-05, 7.716005191655024e-05), 33)"
      ]
     },
     "execution_count": 6,
     "metadata": {},
     "output_type": "execute_result"
    }
   ],
   "source": [
    "simulationErrors(1, 0.7, 207, 1e-32)"
   ]
  },
  {
   "cell_type": "code",
   "execution_count": 6,
   "metadata": {},
   "outputs": [
    {
     "name": "stdout",
     "output_type": "stream",
     "text": [
      "System matrix is not positive definite; increasing tau to 1e-08\n",
      "System matrix is not positive definite; increasing tau to 4e-08\n",
      "System matrix is not positive definite; increasing tau to 1.6e-07\n",
      "System matrix is not positive definite; increasing tau to 6.4e-07\n",
      "System matrix is not positive definite; increasing tau to 2.56e-06\n",
      "System matrix is not positive definite; increasing tau to 1.024e-05\n",
      "System matrix is not positive definite; increasing tau to 4.096e-05\n",
      "System matrix is not positive definite; increasing tau to 0.00016384\n",
      "System matrix is not positive definite; increasing tau to 0.00065536\n",
      "System matrix is not positive definite; increasing tau to 0.00262144\n",
      "System matrix is not positive definite; increasing tau to 0.0104858\n",
      "System matrix is not positive definite; increasing tau to 0.041943\n",
      "System matrix is not positive definite; increasing tau to 0.167772\n",
      "System matrix is not positive definite; increasing tau to 0.671089\n",
      "System matrix is not positive definite; increasing tau to 2.68435\n",
      "0\t8.41979e-05\t0.0690451\t0.0690451\t1\t1\n",
      "System matrix is not positive definite; increasing tau to 1.34218\n",
      "1\t2.89575e-05\t0.0144437\t0.0144437\t1\t1\n",
      "System matrix is not positive definite; increasing tau to 0.671089\n",
      "2\t1.74866e-05\t0.00495631\t0.00495631\t1\t1\n",
      "System matrix is not positive definite; increasing tau to 0.335544\n",
      "3\t1.31912e-05\t0.00162656\t0.00162656\t1\t1\n",
      "System matrix is not positive definite; increasing tau to 0.167772\n",
      "4\t1.07788e-05\t0.000799383\t0.000799383\t1\t1\n",
      "System matrix is not positive definite; increasing tau to 0.0838861\n",
      "5\t9.02085e-06\t0.000493981\t0.000493981\t1\t1\n",
      "System matrix is not positive definite; increasing tau to 0.041943\n",
      "6\t7.61422e-06\t0.000325928\t0.000325928\t1\t1\n",
      "System matrix is not positive definite; increasing tau to 0.0209715\n",
      "7\t6.44824e-06\t0.000226883\t0.000226883\t1\t1\n",
      "System matrix is not positive definite; increasing tau to 0.0104858\n",
      "8\t5.46799e-06\t0.000168582\t0.000168582\t1\t1\n",
      "System matrix is not positive definite; increasing tau to 0.00524288\n",
      "9\t4.64199e-06\t0.000134252\t0.000134252\t1\t1\n",
      "System matrix is not positive definite; increasing tau to 0.00262144\n",
      "10\t3.95119e-06\t0.000112985\t0.000112985\t1\t1\n",
      "System matrix is not positive definite; increasing tau to 0.00131072\n",
      "11\t3.37192e-06\t9.81806e-05\t9.81806e-05\t1\t1\n",
      "System matrix is not positive definite; increasing tau to 0.00065536\n",
      "12\t2.87492e-06\t8.68323e-05\t8.68323e-05\t1\t1\n",
      "System matrix is not positive definite; increasing tau to 0.00032768\n",
      "13\t2.4462e-06\t7.76292e-05\t7.76292e-05\t1\t1\n",
      "System matrix is not positive definite; increasing tau to 0.00016384\n",
      "14\t2.08314e-06\t6.88246e-05\t6.88246e-05\t1\t1\n",
      "15\t1.77864e-06\t5.98916e-05\t5.98916e-05\t0.125\t0\n",
      "16\t1.57044e-06\t6.46553e-05\t6.46553e-05\t1\t0\n",
      "17\t1.32292e-06\t0.00017793\t0.00017793\t1\t0\n",
      "18\t9.37753e-07\t1.90287e-05\t1.90287e-05\t0.5\t0\n",
      "19\t8.29488e-07\t4.2134e-05\t4.2134e-05\t1\t0\n",
      "20\t7.32302e-07\t2.9839e-05\t2.9839e-05\t1\t0\n",
      "21\t6.76248e-07\t2.01405e-05\t2.01405e-05\t1\t0\n",
      "22\t6.47449e-07\t1.27963e-05\t1.27963e-05\t1\t0\n",
      "23\t6.35046e-07\t6.70288e-06\t6.70288e-06\t1\t0\n",
      "24\t6.31243e-07\t2.87237e-06\t2.87237e-06\t1\t0\n",
      "25\t6.30622e-07\t5.95297e-07\t5.95297e-07\t1\t0\n",
      "26\t6.30595e-07\t3.56135e-08\t3.56135e-08\t1\t0\n",
      "27\t6.30595e-07\t1.06262e-10\t1.06262e-10\t1\t0\n"
     ]
    },
    {
     "data": {
      "text/plain": [
       "<elastic_rods.ConvergenceReport at 0x7f13bc950458>"
      ]
     },
     "execution_count": 6,
     "metadata": {},
     "output_type": "execute_result"
    }
   ],
   "source": [
    "r, fixedVars = bendingTestRod(1, 0.7, 207)\n",
    "elastic_rods.compute_equilibrium(r, fixedVars=fixedVars)"
   ]
  },
  {
   "cell_type": "code",
   "execution_count": 8,
   "metadata": {},
   "outputs": [
    {
     "ename": "TypeError",
     "evalue": "runTestVisualization() missing 3 required positional arguments: 'L', 'a', and 'numVertices'",
     "output_type": "error",
     "traceback": [
      "\u001b[0;31m---------------------------------------------------------------------------\u001b[0m",
      "\u001b[0;31mTypeError\u001b[0m                                 Traceback (most recent call last)",
      "\u001b[0;32m<ipython-input-8-9cb18de0d170>\u001b[0m in \u001b[0;36m<module>\u001b[0;34m\u001b[0m\n\u001b[0;32m----> 1\u001b[0;31m \u001b[0mrunTestVisualization\u001b[0m\u001b[0;34m(\u001b[0m\u001b[0;34m)\u001b[0m\u001b[0;34m\u001b[0m\u001b[0;34m\u001b[0m\u001b[0m\n\u001b[0m",
      "\u001b[0;31mTypeError\u001b[0m: runTestVisualization() missing 3 required positional arguments: 'L', 'a', and 'numVertices'"
     ]
    }
   ],
   "source": [
    "runTestVisualization()"
   ]
  },
  {
   "cell_type": "code",
   "execution_count": 9,
   "metadata": {},
   "outputs": [
    {
     "data": {
      "application/vnd.jupyter.widget-view+json": {
       "model_id": "b0d022478f16488a9c05c2a4f1864c65",
       "version_major": 2,
       "version_minor": 0
      },
      "text/plain": [
       "Renderer(camera=PerspectiveCamera(aspect=1.7066666666666668, children=(DirectionalLight(color='white', intensi…"
      ]
     },
     "metadata": {},
     "output_type": "display_data"
    }
   ],
   "source": [
    "L = 1\n",
    "a = 0.1\n",
    "n = 51\n",
    "perturb = False\n",
    "r, fixedVars = bendingTestRod(L, a, n)\n",
    "pts, thetas = initialConfiguration(L, a, n, perturb)\n",
    "thetas = np.ones(n - 1) * (np.pi / 2 + 1e-2)\n",
    "r.setDeformedConfiguration(pts, thetas)\n",
    "\n",
    "view = linkage_vis.LinkageViewer(r, width=1024, height=600)\n",
    "view.setCameraParams(((0.8471149305506829, 2.303483674764291, 0.4579086561101697),\n",
    " (-0.05274977528957473, 0.1226800644593855, 0.9910434213449677),\n",
    " (-0.41643357695558714, 0.21249216220933723, -0.36668979830898635)))\n",
    "view.show()"
   ]
  },
  {
   "cell_type": "code",
   "execution_count": 10,
   "metadata": {},
   "outputs": [
    {
     "name": "stdout",
     "output_type": "stream",
     "text": [
      "System matrix is not positive definite; increasing tau to 1e-08\n",
      "System matrix is not positive definite; increasing tau to 4e-08\n",
      "System matrix is not positive definite; increasing tau to 1.6e-07\n",
      "System matrix is not positive definite; increasing tau to 6.4e-07\n",
      "System matrix is not positive definite; increasing tau to 2.56e-06\n",
      "System matrix is not positive definite; increasing tau to 1.024e-05\n",
      "System matrix is not positive definite; increasing tau to 4.096e-05\n",
      "System matrix is not positive definite; increasing tau to 0.00016384\n",
      "System matrix is not positive definite; increasing tau to 0.00065536\n",
      "System matrix is not positive definite; increasing tau to 0.00262144\n",
      "System matrix is not positive definite; increasing tau to 0.0104858\n",
      "System matrix is not positive definite; increasing tau to 0.041943\n",
      "System matrix is not positive definite; increasing tau to 0.167772\n",
      "System matrix is not positive definite; increasing tau to 0.671089\n",
      "System matrix is not positive definite; increasing tau to 2.68435\n",
      "System matrix is not positive definite; increasing tau to 10.7374\n",
      "System matrix is not positive definite; increasing tau to 42.9497\n",
      "System matrix is not positive definite; increasing tau to 171.799\n",
      "System matrix is not positive definite; increasing tau to 687.195\n",
      "System matrix is not positive definite; increasing tau to 2748.78\n",
      "System matrix is not positive definite; increasing tau to 10995.1\n",
      "0\t0.00777486\t5.58033\t5.58033\t1\t1\n",
      "System matrix is not positive definite; increasing tau to 5497.56\n",
      "1\t0.00620739\t4.01195\t4.01195\t1\t1\n",
      "System matrix is not positive definite; increasing tau to 2748.78\n",
      "2\t0.00477185\t2.73561\t2.73561\t1\t1\n",
      "System matrix is not positive definite; increasing tau to 1374.39\n",
      "3\t0.00356053\t1.79314\t1.79314\t1\t1\n",
      "System matrix is not positive definite; increasing tau to 687.195\n",
      "4\t0.00259401\t1.14212\t1.14212\t1\t1\n",
      "System matrix is not positive definite; increasing tau to 343.597\n",
      "5\t0.00185198\t0.712253\t0.712253\t1\t1\n",
      "System matrix is not positive definite; increasing tau to 171.799\n",
      "6\t0.00129829\t0.436872\t0.436872\t1\t1\n",
      "System matrix is not positive definite; increasing tau to 85.8993\n",
      "7\t0.000895456\t0.263908\t0.263908\t1\t1\n",
      "System matrix is not positive definite; increasing tau to 42.9497\n",
      "8\t0.000611188\t0.15657\t0.15657\t1\t1\n",
      "System matrix is not positive definite; increasing tau to 21.4748\n",
      "9\t0.000419765\t0.0905107\t0.0905107\t1\t1\n",
      "System matrix is not positive definite; increasing tau to 10.7374\n",
      "10\t0.000299404\t0.0505175\t0.0505175\t1\t1\n",
      "System matrix is not positive definite; increasing tau to 5.36871\n",
      "11\t0.000227945\t0.0274022\t0.0274022\t1\t1\n",
      "System matrix is not positive definite; increasing tau to 2.68435\n",
      "System matrix is not positive definite; increasing tau to 10.7374\n",
      "12\t0.000182219\t0.0148611\t0.0148611\t1\t1\n",
      "System matrix is not positive definite; increasing tau to 5.36871\n",
      "13\t0.0001673\t0.0113363\t0.0113363\t1\t1\n",
      "System matrix is not positive definite; increasing tau to 2.68435\n",
      "14\t0.000146233\t0.00814084\t0.00814084\t1\t1\n",
      "System matrix is not positive definite; increasing tau to 1.34218\n",
      "15\t8.5545e-05\t0.0053347\t0.0053347\t1\t1\n",
      "System matrix is not positive definite; increasing tau to 0.671089\n",
      "16\t6.39939e-05\t0.00250474\t0.00250474\t1\t1\n",
      "System matrix is not positive definite; increasing tau to 0.335544\n",
      "17\t4.78736e-05\t0.0016405\t0.0016405\t1\t1\n",
      "System matrix is not positive definite; increasing tau to 0.167772\n",
      "18\t3.8427e-05\t0.0011529\t0.0011529\t1\t1\n",
      "System matrix is not positive definite; increasing tau to 0.0838861\n",
      "19\t3.14543e-05\t0.000795985\t0.000795985\t1\t1\n",
      "System matrix is not positive definite; increasing tau to 0.041943\n",
      "20\t2.57768e-05\t0.000602565\t0.000602565\t1\t1\n",
      "System matrix is not positive definite; increasing tau to 0.0209715\n",
      "21\t2.11847e-05\t0.000559372\t0.000559372\t1\t1\n",
      "System matrix is not positive definite; increasing tau to 0.0104858\n",
      "22\t1.74778e-05\t0.000491343\t0.000491343\t1\t1\n",
      "System matrix is not positive definite; increasing tau to 0.00524288\n",
      "23\t1.44271e-05\t0.000465321\t0.000465321\t1\t1\n",
      "System matrix is not positive definite; increasing tau to 0.00262144\n",
      "24\t1.18292e-05\t0.000436081\t0.000436081\t1\t1\n",
      "System matrix is not positive definite; increasing tau to 0.00131072\n",
      "25\t9.69387e-06\t0.000406262\t0.000406262\t1\t1\n",
      "System matrix is not positive definite; increasing tau to 0.00065536\n",
      "26\t8.10529e-06\t0.000364122\t0.000364122\t1\t1\n",
      "27\t6.92106e-06\t0.000321627\t0.000321627\t0.5\t0\n",
      "28\t6.05052e-06\t0.000410375\t0.000410375\t1\t0\n",
      "29\t4.83715e-06\t0.000316987\t0.000316987\t0.5\t0\n",
      "30\t4.33247e-06\t0.000242971\t0.000242971\t1\t0\n",
      "31\t3.67115e-06\t0.00027261\t0.00027261\t1\t0\n",
      "32\t3.36633e-06\t0.000222812\t0.000222812\t1\t0\n",
      "33\t2.88108e-06\t0.000136156\t0.000136156\t0.5\t0\n",
      "34\t2.73966e-06\t0.000112078\t0.000112078\t1\t0\n",
      "35\t2.56394e-06\t9.33391e-05\t9.33391e-05\t1\t0\n",
      "36\t2.49499e-06\t9.66134e-05\t9.66134e-05\t1\t0\n",
      "37\t2.40761e-06\t2.73097e-05\t2.73097e-05\t1\t0\n",
      "38\t2.40091e-06\t6.91344e-05\t6.91344e-05\t1\t0\n",
      "39\t2.36933e-06\t2.53904e-06\t2.53904e-06\t1\t0\n",
      "40\t2.36769e-06\t6.54829e-06\t6.54829e-06\t1\t0\n",
      "41\t2.36744e-06\t1.09021e-08\t1.09021e-08\t1\t0\n"
     ]
    }
   ],
   "source": [
    "elastic_rods.compute_equilibrium(r, fixedVars=fixedVars)\n",
    "view.update()"
   ]
  },
  {
   "cell_type": "code",
   "execution_count": 11,
   "metadata": {},
   "outputs": [
    {
     "data": {
      "application/vnd.jupyter.widget-view+json": {
       "model_id": "5372340b087c43f78d088e8c293e3d9d",
       "version_major": 2,
       "version_minor": 0
      },
      "text/plain": [
       "VBox(children=(Renderer(camera=PerspectiveCamera(children=(DirectionalLight(color='white', intensity=0.6, posi…"
      ]
     },
     "metadata": {},
     "output_type": "display_data"
    }
   ],
   "source": [
    "from compute_vibrational_modes import compute_vibrational_modes, MassMatrixType\n",
    "import mode_viewer\n",
    "\n",
    "lambdas, modes = compute_vibrational_modes(r, fixedVars)\n",
    "mview = mode_viewer.ModeViewer(r, modes, lambdas)\n",
    "mview.show()"
   ]
  },
  {
   "cell_type": "code",
   "execution_count": null,
   "metadata": {},
   "outputs": [],
   "source": [
    "mview.exportHTML('mode_0.html')"
   ]
  },
  {
   "cell_type": "code",
   "execution_count": null,
   "metadata": {},
   "outputs": [],
   "source": [
    "mview.exportHTML('mode_1.html')"
   ]
  },
  {
   "cell_type": "code",
   "execution_count": null,
   "metadata": {},
   "outputs": [],
   "source": [
    "mview.exportHTML('mode_2.html')"
   ]
  },
  {
   "cell_type": "code",
   "execution_count": null,
   "metadata": {},
   "outputs": [],
   "source": [
    "import pickle\n",
    "pickle.dump(r, open('low_gradient.pkl', 'wb'))"
   ]
  },
  {
   "cell_type": "code",
   "execution_count": null,
   "metadata": {},
   "outputs": [],
   "source": [
    "from mode_viewer import ModeViewer\n",
    "ModeViewer"
   ]
  },
  {
   "cell_type": "code",
   "execution_count": null,
   "metadata": {},
   "outputs": [],
   "source": [
    "def getDoFs(rod):\n",
    "    return np.concatenate([np.concatenate(rod.deformedPoints()), rod.thetas()])\n",
    "def setDoFs(rod, dofs):\n",
    "    pts = list(dofs[3 * i:3 * i + 3] for i in range(rod.numVertices()))\n",
    "    thetas = dofs[3 * rod.numVertices():]\n",
    "    rod.setDeformedConfiguration(pts, thetas)\n",
    "def energyAt(rod, dof, etype = elastic_rods.EnergyType.Full):\n",
    "    prevDoF = getDoFs(rod)\n",
    "    setDoFs(rod, dof)\n",
    "    energy = rod.energy(etype)\n",
    "    setDoFs(rod, prevDoF)\n",
    "    return energy"
   ]
  },
  {
   "cell_type": "code",
   "execution_count": null,
   "metadata": {},
   "outputs": [],
   "source": [
    "import matplotlib.pyplot as plt\n",
    "def plotEnergy(rod, direction, steps):\n",
    "    restDoF = getDoFs(rod)\n",
    "    plt.plot(steps, [energyAt(rod, restDoF + s * direction) for s in steps])"
   ]
  },
  {
   "cell_type": "code",
   "execution_count": null,
   "metadata": {},
   "outputs": [],
   "source": [
    "from scipy.sparse import csc_matrix\n",
    "from scipy.sparse.linalg import spsolve\n",
    "from numpy.linalg import norm\n",
    "Htrip = r.hessian()\n",
    "Htrip.reflectUpperTriangle()\n",
    "H = csc_matrix(Htrip.compressedColumn())\n",
    "Hspsd = sparse_matrices.SPSDSystem(Htrip)\n",
    "Hspsd.fixVariables(fixedVars, [0 for i in fixedVars])\n",
    "\n",
    "g = r.gradient()\n",
    "gzero = g\n",
    "gzero[fixedVars] = 0\n",
    "direction = Hspsd.solve(-gzero)\n",
    "dunit = direction / norm(direction)\n",
    "gunit = gzero / norm(gzero)\n",
    "\n",
    "print(np.dot(r.gradient(), direction))\n",
    "print(np.dot(gunit, dunit))\n",
    "# direction = -r.gradient()\n",
    "# for var in fixedVars:\n",
    "#     direction[var] = 0\n",
    "plotEnergy(r, -gzero, np.linspace(-20, 20, 100))"
   ]
  },
  {
   "cell_type": "code",
   "execution_count": null,
   "metadata": {},
   "outputs": [],
   "source": [
    "def fd_gradient_test(r, stepSize, direction, etype=elastic_rods.EnergyType.Full):\n",
    "    grad = r.gradient(False, etype)\n",
    "    return [(energyAt(r, getDoFs(r) + stepSize * direction, etype) - energyAt(r, getDoFs(r) - stepSize * direction, etype)) / (2 * stepSize), np.dot(direction, grad)]"
   ]
  },
  {
   "cell_type": "code",
   "execution_count": null,
   "metadata": {},
   "outputs": [],
   "source": [
    "fd_gradient_test(r, 1e-8, direction, etype=elastic_rods.EnergyType.Twist)"
   ]
  },
  {
   "cell_type": "code",
   "execution_count": null,
   "metadata": {},
   "outputs": [],
   "source": [
    "fd_gradient_test(r, 1e-8, direction, etype=elastic_rods.EnergyType.Twist)"
   ]
  },
  {
   "cell_type": "code",
   "execution_count": null,
   "metadata": {},
   "outputs": [],
   "source": [
    "Htrip.dumpBinary('Htrip.mat')"
   ]
  },
  {
   "cell_type": "code",
   "execution_count": null,
   "metadata": {},
   "outputs": [],
   "source": [
    "g = r.gradient()\n",
    "\n",
    "np.dot(g / np.linalg.norm(g), direction / np.linalg.norm(direction))"
   ]
  },
  {
   "cell_type": "code",
   "execution_count": null,
   "metadata": {},
   "outputs": [],
   "source": [
    "evals,evecs = scipy.sparse.linalg.eigsh(H, which='LM', sigma=0)"
   ]
  },
  {
   "cell_type": "code",
   "execution_count": null,
   "metadata": {},
   "outputs": [],
   "source": [
    "Htrip2 = r.hessian()\n",
    "Htrip2.reflectUpperTriangle()\n",
    "Htrip2.rowColRemoval(fixedVars)\n",
    "Htrip2.dumpBinary('Htrip2.mat')\n",
    "H2 = csc_matrix(Htrip2.compressedColumn())\n",
    "g2 = np.delete(g, fixedVars)\n",
    "dir2 = spsolve(H2, -g2)\n",
    "evalsSM, evecsSM = scipy.sparse.linalg.eigsh(H2, which='LM', sigma=0)\n",
    "evalsLM, evecsLM = scipy.sparse.linalg.eigsh(H2, which='LM')\n",
    "print(evalsSM)\n",
    "print(evalsLM)"
   ]
  },
  {
   "cell_type": "code",
   "execution_count": null,
   "metadata": {},
   "outputs": [],
   "source": [
    "pts = r.deformedPoints()\n",
    "thetas = r.thetas()"
   ]
  },
  {
   "cell_type": "code",
   "execution_count": null,
   "metadata": {},
   "outputs": [],
   "source": [
    "fd_gradient_test(r, 1e-9, np.random.random_sample(direction.shape), etype=elastic_rods.EnergyType.Twist)"
   ]
  },
  {
   "cell_type": "code",
   "execution_count": null,
   "metadata": {},
   "outputs": [],
   "source": [
    "dc = r.deformedConfiguration()"
   ]
  },
  {
   "cell_type": "code",
   "execution_count": null,
   "metadata": {},
   "outputs": [],
   "source": [
    "import pickle"
   ]
  },
  {
   "cell_type": "code",
   "execution_count": null,
   "metadata": {},
   "outputs": [],
   "source": [
    "dcDict = {'energies': {t: r.energy(t) for t in elastic_rods.EnergyType.__members__.values()},\n",
    "          'gradients': {t: r.gradient(energyType=t) for t in elastic_rods.EnergyType.__members__.values()},\n",
    "          'pts': r.deformedPoints(),\n",
    "          'thetas': r.thetas(),\n",
    "          'referenceDirectors': [{'d1': r.d1, 'd2': r.d2} for r in dc.referenceDirectors],\n",
    "          'materialFrame':[{'d1': f.d1, 'd2': f.d2} for f in dc.materialFrame],\n",
    "          'referenceTwist': dc.referenceTwist}"
   ]
  },
  {
   "cell_type": "code",
   "execution_count": null,
   "metadata": {},
   "outputs": [],
   "source": [
    "pickle.dump(dcDict, open('bad_configuration.pkl', 'wb'))"
   ]
  },
  {
   "cell_type": "code",
   "execution_count": null,
   "metadata": {},
   "outputs": [],
   "source": [
    "badConfig = pickle.load(open('bad_configuration.pkl', 'rb'));"
   ]
  },
  {
   "cell_type": "code",
   "execution_count": null,
   "metadata": {},
   "outputs": [],
   "source": [
    "r2.energy()"
   ]
  },
  {
   "cell_type": "code",
   "execution_count": null,
   "metadata": {},
   "outputs": [],
   "source": [
    "r.energy()"
   ]
  },
  {
   "cell_type": "code",
   "execution_count": null,
   "metadata": {},
   "outputs": [],
   "source": [
    "{t: r.energy(t) for t in elastic_rods.EnergyType.__members__.values()}"
   ]
  },
  {
   "cell_type": "code",
   "execution_count": null,
   "metadata": {},
   "outputs": [],
   "source": [
    "fixedVars"
   ]
  },
  {
   "cell_type": "code",
   "execution_count": null,
   "metadata": {},
   "outputs": [],
   "source": []
  }
 ],
 "metadata": {
  "kernelspec": {
   "display_name": "Python 3",
   "language": "python",
   "name": "python3"
  },
  "language_info": {
   "codemirror_mode": {
    "name": "ipython",
    "version": 3
   },
   "file_extension": ".py",
   "mimetype": "text/x-python",
   "name": "python",
   "nbconvert_exporter": "python",
   "pygments_lexer": "ipython3",
   "version": "3.7.3"
  }
 },
 "nbformat": 4,
 "nbformat_minor": 4
}
