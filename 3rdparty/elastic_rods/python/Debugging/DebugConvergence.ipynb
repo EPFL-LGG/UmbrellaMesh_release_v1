{
 "cells": [
  {
   "cell_type": "code",
   "execution_count": null,
   "metadata": {},
   "outputs": [],
   "source": [
    "import sys; sys.path.append('..')\n",
    "import elastic_rods, sparse_matrices, pickle, scipy, linkage_vis, numpy as np, time, pickle\n",
    "from scipy.sparse import csc_matrix\n",
    "from scipy.sparse.linalg import spsolve\n",
    "from numpy.linalg import norm"
   ]
  },
  {
   "cell_type": "code",
   "execution_count": null,
   "metadata": {},
   "outputs": [],
   "source": [
    "elastic_rods.set_max_num_tbb_threads(1)\n",
    "linkage = pickle.load(open('../data/nonuniform_debug_convergence.pkl', 'rb'))\n",
    "driver = 64\n",
    "view = linkage_vis.LinkageViewer(linkage)\n",
    "view.setCameraParams(((-0.7239722319967554, -2.953428306702387, -0.5451540221763805),\n",
    " (0.028326464489972513, -0.2362002372339648, -0.9712914389307234),\n",
    " (0.0, 0.0, 0.0)))\n",
    "view.show()"
   ]
  },
  {
   "cell_type": "code",
   "execution_count": null,
   "metadata": {},
   "outputs": [],
   "source": [
    "linkage.joint(driver).alpha = 0.5574418589567819\n",
    "jdo = linkage.dofOffsetForJoint(driver)\n",
    "fixedVars = list(range(jdo, jdo + 6)) # fix rigid motion for a single joint\n",
    "fixedVars.append(jdo + 6) # constrain angle at the driving joint"
   ]
  },
  {
   "cell_type": "code",
   "execution_count": null,
   "metadata": {},
   "outputs": [],
   "source": [
    "equilibriumSolver = lambda l, nit, verbose, fv: elastic_rods.compute_equilibrium(l, nit, verbose, useIdentityMetric=True, beta=1e-8, useNegativeCurvatureDirection=True, fixedVars=fv)"
   ]
  },
  {
   "cell_type": "code",
   "execution_count": null,
   "metadata": {},
   "outputs": [],
   "source": [
    "cr = equilibriumSolver(linkage, 10, True, fixedVars)\n",
    "view.update()"
   ]
  },
  {
   "cell_type": "code",
   "execution_count": null,
   "metadata": {},
   "outputs": [],
   "source": [
    "from scipy.sparse.linalg import spsolve\n",
    "Htrip = linkage.hessian()\n",
    "Htrip.rowColRemoval(fixedVars)\n",
    "Htrip.reflectUpperTriangle()\n",
    "Hfree = csc_matrix(Htrip.compressedColumn())\n",
    "freeGradient = lambda l, updatedSource: np.delete(l.gradient(updatedSource), fixedVars)\n",
    "pfree = spsolve(Hfree, -freeGradient(linkage, True))\n",
    "p = np.zeros(linkage.numDoF())\n",
    "p[np.delete(np.arange(linkage.numDoF()), fixedVars)] = pfree"
   ]
  },
  {
   "cell_type": "code",
   "execution_count": null,
   "metadata": {},
   "outputs": [],
   "source": [
    "def energyAt(l, dof, etype = elastic_rods.EnergyType.Full, updateSource = False):\n",
    "    lcopy = elastic_rods.RodLinkage(l)\n",
    "    lcopy.setDoFs(dof)\n",
    "    return lcopy.energy(etype)\n",
    "def gradientAt(l, dof, etype = elastic_rods.EnergyType.Full, updateSource = False):\n",
    "    lcopy = elastic_rods.RodLinkage(l)\n",
    "    lcopy.setDoFs(dof)\n",
    "    if (updateSource): lcopy.updateSourceFrame()\n",
    "    return freeGradient(lcopy, updateSource)\n",
    "def fd_hessian_test(l, stepSize, direction, etype = elastic_rods.EnergyType.Full, updateSource = False):\n",
    "    H = l.hessian()\n",
    "    H.rowColRemoval(fixedVars)\n",
    "    H.reflectUpperTriangle()\n",
    "    H = csc_matrix(H.compressedColumn())\n",
    "    dirfree = np.delete(direction, fixedVars)\n",
    "    dof = l.getDoFs()\n",
    "    #return [(gradientAt(l, dof + stepSize * direction, etype, updateSource) - gradientAt(l, dof - stepSize * direction, etype, updateSource)) / (2 * stepSize), H * dirfree]\n",
    "    return [(gradientAt(l, dof + stepSize * direction, etype, updateSource) - gradientAt(l, dof, etype, updateSource)) / stepSize, H * dirfree]"
   ]
  },
  {
   "cell_type": "code",
   "execution_count": null,
   "metadata": {},
   "outputs": [],
   "source": [
    "gradientAt(linkage, linkage.getDoFs() + 0.4 * p, elastic_rods.EnergyType.Full)"
   ]
  },
  {
   "cell_type": "code",
   "execution_count": null,
   "metadata": {},
   "outputs": [],
   "source": [
    "fd_hessian_test(linkage, 0.25, p)"
   ]
  },
  {
   "cell_type": "code",
   "execution_count": null,
   "metadata": {},
   "outputs": [],
   "source": [
    "gradNormAlongLine = lambda l, direction, stepSize, updateSource = False: norm(gradientAt(l, l.getDoFs() + stepSize * direction, updateSource=updateSource))\n",
    "energyAlongLine   = lambda l, direction, stepSize: norm(energyAt(l, l.getDoFs() + stepSize * direction))"
   ]
  },
  {
   "cell_type": "code",
   "execution_count": null,
   "metadata": {},
   "outputs": [],
   "source": [
    "steps = np.linspace(0, 1.1, 250)\n",
    "import matplotlib\n",
    "from matplotlib import pyplot as plt\n",
    "plt.rcParams['figure.figsize'] = [12, 6]\n",
    "plt.title('Gradient norm evaluated on search ray')\n",
    "plt.ylabel('Gradient norm')\n",
    "plt.xlabel('Distance')\n",
    "plt.plot(steps, [gradNormAlongLine(linkage, p, s, False) for s in steps])\n",
    "plt.show()\n",
    "#plt.plot(steps, [gradNormAlongLine(linkage, p, s, True) for s in steps])\n",
    "#plt.show()\n",
    "plt.title('Energy evaluated on search ray')\n",
    "plt.ylabel('Energy')\n",
    "plt.xlabel('Distance')\n",
    "plt.plot(steps, [energyAlongLine(linkage, p, s) for s in steps])\n",
    "plt.show()"
   ]
  },
  {
   "cell_type": "code",
   "execution_count": null,
   "metadata": {},
   "outputs": [],
   "source": [
    "linkage = pickle.load(open('../data/nonuniform_debug_convergence.pkl', 'rb'))\n",
    "linkage.joint(driver).alpha = 0.5574418589567819\n",
    "cr = equilibriumSolver(linkage, 100, True, fixedVars)\n",
    "view.update()"
   ]
  },
  {
   "cell_type": "code",
   "execution_count": null,
   "metadata": {},
   "outputs": [],
   "source": [
    "import matplotlib\n",
    "from matplotlib import pyplot as plt\n",
    "plt.rcParams['figure.figsize'] = [12, 6]\n",
    "import convergence_reporting\n",
    "convergence_reporting.plot_energy(cr)\n",
    "plt.show()\n",
    "convergence_reporting.plot_gradnorm(cr)\n",
    "plt.show()\n",
    "plt.ylabel('Structure height')\n",
    "plt.xlabel('Newton iterations')\n",
    "heights = [d['bb_size_2'] for d in cr.customData]\n",
    "plt.scatter(np.arange(len(heights)), heights, marker='+', c=cr.indefinite, cmap='rainbow')\n",
    "plt.show()"
   ]
  }
 ],
 "metadata": {
  "kernelspec": {
   "display_name": "Python 3",
   "language": "python",
   "name": "python3"
  },
  "language_info": {
   "codemirror_mode": {
    "name": "ipython",
    "version": 3
   },
   "file_extension": ".py",
   "mimetype": "text/x-python",
   "name": "python",
   "nbconvert_exporter": "python",
   "pygments_lexer": "ipython3",
   "version": "3.6.6"
  }
 },
 "nbformat": 4,
 "nbformat_minor": 2
}
