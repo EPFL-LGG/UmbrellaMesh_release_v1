{
 "cells": [
  {
   "cell_type": "code",
   "execution_count": null,
   "metadata": {},
   "outputs": [],
   "source": [
    "import sys; sys.path.append('..')\n",
    "import elastic_rods, numpy as np"
   ]
  },
  {
   "cell_type": "code",
   "execution_count": null,
   "metadata": {},
   "outputs": [],
   "source": [
    "r = elastic_rods.ElasticRod([[x, 0, 0] for x in np.linspace(0, 1, 10)])\n",
    "r.setMaterial(elastic_rods.RodMaterial('ellipse', 200, 0.3, [0.01, 0.005]))\n",
    "pts = np.array(r.deformedPoints())\n",
    "thetas = r.thetas()\n",
    "pts += 1e-1 * np.random.random_sample(pts.shape)\n",
    "r.setDeformedConfiguration(pts, thetas)"
   ]
  },
  {
   "cell_type": "code",
   "execution_count": null,
   "metadata": {},
   "outputs": [],
   "source": [
    "from linkage_vis import LinkageViewer\n",
    "view = LinkageViewer(r)\n",
    "view.show()"
   ]
  },
  {
   "cell_type": "markdown",
   "metadata": {},
   "source": [
    "Before we fixed the calculation of reference twists from the reference frame, reference twists were always computed in the range [-pi, pi]. So attempting to set a reference twist outside this range resulted in a different reference twist (corrupting the twisting energy, since thetas were adjusted assuming that the exact change requested was made):"
   ]
  },
  {
   "cell_type": "code",
   "execution_count": null,
   "metadata": {},
   "outputs": [],
   "source": [
    "print(r.energyTwist())\n",
    "dc = r.deformedConfiguration()\n",
    "dc.setReferenceTwist(np.pi + 0.0000001)\n",
    "dc.updateSourceFrame()\n",
    "r.setDeformedConfiguration(pts, r.thetas())\n",
    "print(r.energyTwist(), r.deformedConfiguration().referenceTwist[1])"
   ]
  },
  {
   "cell_type": "markdown",
   "metadata": {},
   "source": [
    "When the reference twist crosses the bounds of this interval, the energy used to jump in a way that isn't predicted by the gradient. This can be tested for by setting the reference twist very close to the upper bound and running a finite difference validation."
   ]
  },
  {
   "cell_type": "code",
   "execution_count": null,
   "metadata": {},
   "outputs": [],
   "source": [
    "dc.setReferenceTwist(np.pi - 0.0000001 - 2 * np.pi)\n",
    "dc.updateSourceFrame()\n",
    "r.setDeformedConfiguration(pts, r.thetas())\n",
    "print(r.energyTwist(), r.deformedConfiguration().referenceTwist[1])"
   ]
  },
  {
   "cell_type": "code",
   "execution_count": null,
   "metadata": {},
   "outputs": [],
   "source": [
    "import finite_diff\n",
    "finite_diff.fd_gradient_test(r, 1e-7, direction=np.random.random_sample(r.numDoF()))"
   ]
  },
  {
   "cell_type": "code",
   "execution_count": null,
   "metadata": {},
   "outputs": [],
   "source": [
    "r.thetas()"
   ]
  },
  {
   "cell_type": "code",
   "execution_count": null,
   "metadata": {},
   "outputs": [],
   "source": []
  }
 ],
 "metadata": {
  "kernelspec": {
   "display_name": "Python 3",
   "language": "python",
   "name": "python3"
  },
  "language_info": {
   "codemirror_mode": {
    "name": "ipython",
    "version": 3
   },
   "file_extension": ".py",
   "mimetype": "text/x-python",
   "name": "python",
   "nbconvert_exporter": "python",
   "pygments_lexer": "ipython3",
   "version": "3.6.5"
  }
 },
 "nbformat": 4,
 "nbformat_minor": 2
}
