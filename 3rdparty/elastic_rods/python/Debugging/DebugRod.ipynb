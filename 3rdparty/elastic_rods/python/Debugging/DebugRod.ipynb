{
 "cells": [
  {
   "cell_type": "code",
   "execution_count": null,
   "metadata": {},
   "outputs": [],
   "source": [
    "import sys; sys.path.append('..')\n",
    "import elastic_rods, sparse_matrices, pickle, scipy, linkage_vis, numpy as np, time\n",
    "from scipy.sparse import csc_matrix\n",
    "from scipy.sparse.linalg import spsolve\n",
    "from numpy.linalg import norm\n",
    "import matplotlib.pyplot as plt\n",
    "plt.rcParams['figure.figsize'] = [12, 6]"
   ]
  },
  {
   "cell_type": "code",
   "execution_count": null,
   "metadata": {},
   "outputs": [],
   "source": [
    "r = pickle.load(open('../data/bad_rod.pkl', 'rb'))\n",
    "fixedVars = [0, 1, 2, 77, 150, 151, 152]\n",
    "view = linkage_vis.LinkageViewer(r, width=768, height=768)\n",
    "view.show()"
   ]
  },
  {
   "cell_type": "code",
   "execution_count": null,
   "metadata": {},
   "outputs": [],
   "source": [
    "from contextlib import contextmanager\n",
    "import sys, os\n",
    "@contextmanager\n",
    "def suppress_stdout():\n",
    "    with open(os.devnull, \"w\") as devnull:\n",
    "        old_stdout = sys.stdout\n",
    "        sys.stdout = devnull\n",
    "        try: yield\n",
    "        finally: sys.stdout = old_stdout"
   ]
  },
  {
   "cell_type": "code",
   "execution_count": null,
   "metadata": {},
   "outputs": [],
   "source": [
    "view.exportHTML('view.html')"
   ]
  },
  {
   "cell_type": "code",
   "execution_count": null,
   "metadata": {},
   "outputs": [],
   "source": [
    "elastic_rods.compute_equilibrium(r, verbose=True, fixedVars=fixedVars, niter=100)\n",
    "view.update()"
   ]
  },
  {
   "cell_type": "code",
   "execution_count": null,
   "metadata": {},
   "outputs": [],
   "source": [
    "with suppress_stdout():\n",
    "    t = time.time()\n",
    "    nit = elastic_rods.compute_equilibrium(r, verbose=False, fixedVars=fixedVars, niter=10000)\n",
    "    simTime = time.time() - t\n",
    "print('Sim time: ', simTime)\n",
    "print('iterations: ', nit)\n",
    "view.update()"
   ]
  },
  {
   "cell_type": "code",
   "execution_count": null,
   "metadata": {},
   "outputs": [],
   "source": [
    "def energyAt(rod, dof, etype = elastic_rods.EnergyType.Full):\n",
    "    prevDoF = rod.getDoFs()\n",
    "    r.setDoFs(dof)\n",
    "    energy = rod.energy(etype)\n",
    "    r.setDoFs(prevDoF)\n",
    "    return energy\n",
    "from enum import Enum\n",
    "class DiffScheme(Enum):\n",
    "    FORWARD = 1\n",
    "    BACKWARD = 2\n",
    "    CENTERED = 3\n",
    "def fd_gradient(r, stepSize, etype=elastic_rods.EnergyType.Full, scheme=DiffScheme.CENTERED):\n",
    "    def step(i):\n",
    "        d = np.zeros(r.numDoF())\n",
    "        d[i] = stepSize\n",
    "        return d\n",
    "    \n",
    "    if (scheme == DiffScheme.CENTERED): plus, minus, den = (lambda s: r.getDoFs() + s, lambda s: r.getDoFs() - s, 2 * stepSize)\n",
    "    if (scheme == DiffScheme.BACKWARD): plus, minus, den = (lambda s: r.getDoFs()    , lambda s: r.getDoFs() - s,     stepSize)\n",
    "    if (scheme == DiffScheme.FORWARD ): plus, minus, den = (lambda s: r.getDoFs() + s, lambda s: r.getDoFs()    ,     stepSize)\n",
    "    return np.array([energyAt(r, plus(step(i)), etype) - energyAt(r, minus(step(i)), etype) for i in range(r.numDoF())]) / den\n",
    "def fd_gradient_test(r, stepSize, direction, etype=elastic_rods.EnergyType.Full):\n",
    "    grad = r.gradient(False, etype)\n",
    "    return [(energyAt(r, r.getDoFs() + stepSize * direction, etype) - energyAt(r, r.getDoFs() - stepSize * direction, etype)) / (2 * stepSize), np.dot(direction, grad)]\n",
    "def plotEnergy(rod, direction, steps):\n",
    "    restDoF = rod.getDoFs()\n",
    "    plt.plot(steps, [energyAt(rod, restDoF + s * direction) for s in steps])"
   ]
  },
  {
   "cell_type": "code",
   "execution_count": null,
   "metadata": {},
   "outputs": [],
   "source": [
    "Htrip = r.hessian()\n",
    "Htrip.reflectUpperTriangle()\n",
    "for i in range(Htrip.m):\n",
    "    Htrip.addNZ(i, i, 0.000000167)\n",
    "H = csc_matrix(Htrip.compressedColumn())\n",
    "Hspsd = sparse_matrices.SPSDSystem(Htrip)\n",
    "Hspsd.fixVariables(fixedVars, [0 for i in fixedVars])\n",
    "\n",
    "g = r.gradient()\n",
    "gzero = g.copy()\n",
    "gzero[fixedVars] = 0\n",
    "direction = Hspsd.solve(-gzero)\n",
    "dunit = direction / norm(direction)\n",
    "gunit = gzero / norm(gzero)\n",
    "\n",
    "print(np.dot(r.gradient(), direction))\n",
    "print(np.dot(gunit, dunit))\n",
    "# direction = -r.gradient()\n",
    "# for var in fixedVars:\n",
    "#     direction[var] = 0\n",
    "plotEnergy(r, -gzero, np.linspace(-20, 20, 100))"
   ]
  },
  {
   "cell_type": "code",
   "execution_count": null,
   "metadata": {},
   "outputs": [],
   "source": [
    "print(np.dot(gzero / norm(gzero), g / norm(g)))"
   ]
  },
  {
   "cell_type": "code",
   "execution_count": null,
   "metadata": {},
   "outputs": [],
   "source": [
    "fd_gradient_test(r, 1e-8, np.random.random_sample(direction.shape), etype=elastic_rods.EnergyType.Twist)"
   ]
  },
  {
   "cell_type": "code",
   "execution_count": null,
   "metadata": {},
   "outputs": [],
   "source": [
    "Htrip2 = r.hessian()\n",
    "Htrip2.reflectUpperTriangle()\n",
    "Htrip2.rowColRemoval(fixedVars)\n",
    "Htrip2.dumpBinary('Htrip2.mat')\n",
    "H2 = csc_matrix(Htrip2.compressedColumn())\n",
    "g2 = np.delete(g, fixedVars)\n",
    "dir2 = spsolve(H2, -g2)\n",
    "evalsSM, evecsSM = scipy.sparse.linalg.eigsh(H2, which='LM', sigma=-0)\n",
    "evalsLM, evecsLM = scipy.sparse.linalg.eigsh(H2, which='LM')\n",
    "print(evalsSM)\n",
    "print(evalsLM)"
   ]
  },
  {
   "cell_type": "code",
   "execution_count": null,
   "metadata": {},
   "outputs": [],
   "source": [
    "np.max(np.abs((H2 * np.delete(direction, fixedVars) + g2) / g2))"
   ]
  },
  {
   "cell_type": "code",
   "execution_count": null,
   "metadata": {},
   "outputs": [],
   "source": [
    "et = elastic_rods.EnergyType.Twist\n",
    "fdg = fd_gradient(r, 1e-8, et, DiffScheme.CENTERED)\n",
    "relErr = np.abs((r.gradient(energyType=et) - fdg))/ np.max(np.abs(fdg))\n",
    "# display(relErr)\n",
    "np.max(relErr)"
   ]
  },
  {
   "cell_type": "code",
   "execution_count": null,
   "metadata": {},
   "outputs": [],
   "source": [
    "print(fd_gradient(r, 1e-8, elastic_rods.EnergyType.Twist, DiffScheme.BACKWARD)[3 * (r.numVertices() // 2 - 1):3 * (r.numVertices() // 2 + 2)])\n",
    "print(r.gradient(energyType=elastic_rods.EnergyType.Twist)[3 * (r.numVertices() // 2 - 1):3 * (r.numVertices() // 2 + 2)])\n",
    "relErr[3 * (r.numVertices() // 2 - 1):3 * (r.numVertices() // 2 + 2)]"
   ]
  },
  {
   "cell_type": "code",
   "execution_count": null,
   "metadata": {},
   "outputs": [],
   "source": [
    "Htrip2 = r.hessian()\n",
    "Htrip2.reflectUpperTriangle()\n",
    "Htrip2.rowColRemoval(fixedVars)\n",
    "Htrip2.dumpBinary('Htrip2.mat')\n",
    "H2 = csc_matrix(Htrip2.compressedColumn())\n",
    "Mtrip = r.massMatrix()\n",
    "Mtrip.rowColRemoval(fixedVars)\n",
    "M = csc_matrix(Mtrip.compressedColumn())\n",
    "evalsSM, evecsSM = scipy.sparse.linalg.eigsh(H2, which='LM', sigma=-0)\n",
    "evalsLM, evecsLM = scipy.sparse.linalg.eigsh(H2, which='LM')"
   ]
  },
  {
   "cell_type": "code",
   "execution_count": null,
   "metadata": {},
   "outputs": [],
   "source": [
    "lambdas, modes = scipy.sparse.linalg.eigsh(H2, 7, M=M, sigma=-0.001, which='LM')\n",
    "full_modes = np.zeros((modes.shape[0] + len(fixedVars), modes.shape[1]))\n",
    "full_modes[np.delete(np.arange(r.numDoF()), fixedVars), :] = modes"
   ]
  },
  {
   "cell_type": "code",
   "execution_count": null,
   "metadata": {},
   "outputs": [],
   "source": [
    "lambdas"
   ]
  },
  {
   "cell_type": "code",
   "execution_count": null,
   "metadata": {},
   "outputs": [],
   "source": [
    "import mode_viewer\n",
    "modeViewer = mode_viewer.ModeViewer(r, full_modes[:], lambdas)\n",
    "modeViewer.show()"
   ]
  }
 ],
 "metadata": {
  "kernelspec": {
   "display_name": "Python 3",
   "language": "python",
   "name": "python3"
  },
  "language_info": {
   "codemirror_mode": {
    "name": "ipython",
    "version": 3
   },
   "file_extension": ".py",
   "mimetype": "text/x-python",
   "name": "python",
   "nbconvert_exporter": "python",
   "pygments_lexer": "ipython3",
   "version": "3.6.5"
  }
 },
 "nbformat": 4,
 "nbformat_minor": 2
}
