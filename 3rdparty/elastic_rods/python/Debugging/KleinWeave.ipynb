{
 "cells": [
  {
   "cell_type": "code",
   "execution_count": null,
   "metadata": {},
   "outputs": [],
   "source": [
    "import sys; sys.path.append('..');\n",
    "import numpy as np, elastic_rods, linkage_vis\n",
    "from bending_validation import suppress_stdout as so\n",
    "\n",
    "RIBBON_CS = [3, 60]\n",
    "MODEL_PATH = '../../examples/klein_bottle.msh'\n",
    "SUBDIVISION_RESOLUTION = 5\n",
    "\n",
    "linkage = elastic_rods.RodLinkage(MODEL_PATH, SUBDIVISION_RESOLUTION, False, elastic_rods.InterleavingType.weaving)\n",
    "linkage.setMaterial(elastic_rods.RodMaterial('rectangle', 2000, 0.3, RIBBON_CS, stiffAxis=elastic_rods.StiffAxis.D1))\n",
    "linkage.updateSourceFrame()\n",
    "linkage.set_design_parameter_config(True, True)"
   ]
  },
  {
   "cell_type": "code",
   "execution_count": null,
   "metadata": {},
   "outputs": [],
   "source": [
    "with so():\n",
    "    elastic_rods.designParameter_solve(linkage, regularization_weight = 0.05)\n",
    "    jdo = linkage.dofOffsetForJoint(linkage.centralJoint())\n",
    "    fixedVars = list(range(jdo, jdo + 6)) # fix rigid motion for a single joint\n",
    "    elastic_rods.compute_equilibrium(linkage, fixedVars=fixedVars)"
   ]
  },
  {
   "cell_type": "code",
   "execution_count": null,
   "metadata": {},
   "outputs": [],
   "source": [
    "view = linkage_vis.getColoredRodOrientationViewer(linkage, width=1024, height=768)\n",
    "view.show()"
   ]
  }
 ],
 "metadata": {
  "kernelspec": {
   "display_name": "Python 3",
   "language": "python",
   "name": "python3"
  },
  "language_info": {
   "codemirror_mode": {
    "name": "ipython",
    "version": 3
   },
   "file_extension": ".py",
   "mimetype": "text/x-python",
   "name": "python",
   "nbconvert_exporter": "python",
   "pygments_lexer": "ipython3",
   "version": "3.7.5"
  }
 },
 "nbformat": 4,
 "nbformat_minor": 4
}
