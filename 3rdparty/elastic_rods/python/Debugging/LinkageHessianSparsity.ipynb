{
 "cells": [
  {
   "cell_type": "code",
   "execution_count": null,
   "metadata": {},
   "outputs": [],
   "source": [
    "import sys; sys.path.append('..')\n",
    "import numpy as np, elastic_rods, sparse_matrices\n",
    "from linkage_vis import LinkageViewer\n",
    "from scipy.sparse import csc_matrix\n",
    "\n",
    "varRestLen = True\n",
    "l = elastic_rods.RodLinkage('../../examples/nonuniform_linkage.obj', 5)\n",
    "l.setMaterial(elastic_rods.RodMaterial('+', 20000, 0.3, [0.05, 0.05, 0.001, 0.001]))\n",
    "l.setExtendedDoFs(l.getExtendedDoFs() + 1e-4 * np.random.random_sample(size=l.numExtendedDoF()))\n",
    "# for j in l.joints(): j.setConstrained(True)\n",
    "# l.joint(0).setConstrained(True)\n",
    "l.joint(np.random.randint(0, l.numJoints() - 1))\n",
    "H = l.hessian(variableRestLen = varRestLen)\n",
    "H.sumRepeated()\n",
    "print(H.nnz)"
   ]
  },
  {
   "cell_type": "code",
   "execution_count": null,
   "metadata": {},
   "outputs": [],
   "source": [
    "import matplotlib.pylab as plt\n",
    "plt.rcParams['figure.figsize'] = [32, 32]\n",
    "plt.spy(csc_matrix(H.compressedColumn()))\n",
    "plt.savefig('sparsity_pat_ground_truth.png')\n",
    "plt.show()"
   ]
  },
  {
   "cell_type": "code",
   "execution_count": null,
   "metadata": {},
   "outputs": [],
   "source": [
    "hPat = l.hessianSparsityPattern(variableRestLen = varRestLen, val=1.0)"
   ]
  },
  {
   "cell_type": "code",
   "execution_count": null,
   "metadata": {},
   "outputs": [],
   "source": [
    "plt.rcParams['figure.figsize'] = [32, 32]\n",
    "plt.spy(csc_matrix(([1 for i in hPat.Ai], hPat.Ai, hPat.Ap)))\n",
    "plt.savefig('sparsity_pat.png')\n",
    "plt.show()"
   ]
  },
  {
   "cell_type": "code",
   "execution_count": null,
   "metadata": {},
   "outputs": [],
   "source": [
    "print((len(hPat.Ap), len(hPat.Ai)))"
   ]
  },
  {
   "cell_type": "code",
   "execution_count": null,
   "metadata": {},
   "outputs": [],
   "source": [
    "l.numExtendedDoF()"
   ]
  }
 ],
 "metadata": {
  "kernelspec": {
   "display_name": "Python 3",
   "language": "python",
   "name": "python3"
  },
  "language_info": {
   "codemirror_mode": {
    "name": "ipython",
    "version": 3
   },
   "file_extension": ".py",
   "mimetype": "text/x-python",
   "name": "python",
   "nbconvert_exporter": "python",
   "pygments_lexer": "ipython3",
   "version": "3.6.5"
  }
 },
 "nbformat": 4,
 "nbformat_minor": 2
}
