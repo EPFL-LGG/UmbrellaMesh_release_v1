{
 "cells": [
  {
   "cell_type": "markdown",
   "metadata": {},
   "source": [
    "TODO: visualize the eigenvectors of the mass matrix as \"vibrational modes\"; why are the eigenvalue so much larger for the full mass matrix than for the lumped mass matrix?"
   ]
  },
  {
   "cell_type": "code",
   "execution_count": null,
   "metadata": {},
   "outputs": [],
   "source": [
    "import sys; sys.path.append('..')\n",
    "import elastic_rods, sparse_matrices, pickle\n",
    "import numpy as np\n",
    "from numpy.linalg import norm\n",
    "from scipy.sparse import csc_matrix, diags\n",
    "from scipy.sparse.linalg import eigsh\n",
    "import time\n",
    "\n",
    "r = pickle.load(open('../data/bad_rod.pkl', 'rb'))\n",
    "r.updateSourceFrame()\n",
    "r.setMaterial(elastic_rods.RodMaterial('ellipse', 2000, 0.3, [0.01, 0.005]))\n",
    "fixedVars = [0, 1, 2, 77, 150, 151, 152]\n",
    "\n",
    "elastic_rods.compute_equilibrium(r, verbose=True, fixedVars=fixedVars, niter=40)"
   ]
  },
  {
   "cell_type": "code",
   "execution_count": null,
   "metadata": {},
   "outputs": [],
   "source": [
    "r.updateSourceFrame()\n",
    "M = r.massMatrix()\n",
    "Mlumped = r.lumpedMassMatrix()\n",
    "\n",
    "x = (2 * np.random.random_sample(size=r.numDoF()) - 1.0)\n",
    "x = x / norm(x)\n",
    "\n",
    "t = time.time()\n",
    "power_iterations = []\n",
    "for i in range(1000):\n",
    "    x = M.apply(x)\n",
    "    lam = norm(x)\n",
    "    x = x / lam\n",
    "    power_iterations.append(lam)\n",
    "elapsed = time.time() - t\n",
    "print(\"Power method took {}s\".format(elapsed))\n",
    "\n",
    "power_iterations = np.array(power_iterations)\n",
    "print(power_iterations[-1])\n",
    "\n",
    "M.reflectUpperTriangle()\n",
    "M_csc = csc_matrix(M.compressedColumn())\n",
    "t = time.time()\n",
    "lambdas, evecs = eigsh(M_csc, 1, which='LM')\n",
    "elapsed = time.time() - t\n",
    "print(\"eigsh took {}s\".format(elapsed))\n",
    "\n",
    "max(lambdas)"
   ]
  },
  {
   "cell_type": "code",
   "execution_count": null,
   "metadata": {},
   "outputs": [],
   "source": [
    "Mlumped[-1]"
   ]
  },
  {
   "cell_type": "code",
   "execution_count": null,
   "metadata": {},
   "outputs": [],
   "source": [
    "import matplotlib.pyplot as plt\n",
    "plt.loglog(np.abs(power_iterations - max(lambdas)))\n",
    "plt.show()"
   ]
  },
  {
   "cell_type": "code",
   "execution_count": null,
   "metadata": {},
   "outputs": [],
   "source": [
    "plt.spy(M_csc)"
   ]
  },
  {
   "cell_type": "code",
   "execution_count": null,
   "metadata": {},
   "outputs": [],
   "source": [
    "np.max(sum(M_csc))"
   ]
  },
  {
   "cell_type": "code",
   "execution_count": null,
   "metadata": {},
   "outputs": [],
   "source": [
    "from mode_viewer import ModeViewer\n",
    "mview = ModeViewer(r, evecs, lambdas)"
   ]
  },
  {
   "cell_type": "code",
   "execution_count": null,
   "metadata": {},
   "outputs": [],
   "source": [
    "mview.show()"
   ]
  },
  {
   "cell_type": "code",
   "execution_count": null,
   "metadata": {},
   "outputs": [],
   "source": [
    "Mlumped"
   ]
  },
  {
   "cell_type": "code",
   "execution_count": null,
   "metadata": {},
   "outputs": [],
   "source": [
    "mat = r.material(0)"
   ]
  },
  {
   "cell_type": "code",
   "execution_count": null,
   "metadata": {},
   "outputs": [],
   "source": [
    "mat.twistingStiffness"
   ]
  },
  {
   "cell_type": "code",
   "execution_count": null,
   "metadata": {},
   "outputs": [],
   "source": [
    "mat = elastic_rods.RodMaterial()\n",
    "mat.setEllipse(200, 0.3, 0.01, 0.005)"
   ]
  },
  {
   "cell_type": "code",
   "execution_count": null,
   "metadata": {},
   "outputs": [],
   "source": [
    "from bending_validation import *\n",
    "L, a, n = 1, 0.1, 51\n",
    "perturb = False\n",
    "r, fixedVars = bendingTestRod(L, a, n)\n",
    "pts, thetas = initialConfiguration(L, a, n, perturb)\n",
    "thetas = np.ones(n - 1) * (np.pi / 2)\n",
    "r.setDeformedConfiguration(pts, thetas)"
   ]
  },
  {
   "cell_type": "code",
   "execution_count": null,
   "metadata": {},
   "outputs": [],
   "source": [
    "r.lumpedMassMatrix()"
   ]
  }
 ],
 "metadata": {
  "kernelspec": {
   "display_name": "Python 3",
   "language": "python",
   "name": "python3"
  },
  "language_info": {
   "codemirror_mode": {
    "name": "ipython",
    "version": 3
   },
   "file_extension": ".py",
   "mimetype": "text/x-python",
   "name": "python",
   "nbconvert_exporter": "python",
   "pygments_lexer": "ipython3",
   "version": "3.6.5"
  }
 },
 "nbformat": 4,
 "nbformat_minor": 2
}
