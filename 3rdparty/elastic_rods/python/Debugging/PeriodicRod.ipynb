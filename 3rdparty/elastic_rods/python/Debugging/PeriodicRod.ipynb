{
 "cells": [
  {
   "cell_type": "code",
   "execution_count": null,
   "metadata": {},
   "outputs": [],
   "source": [
    "import sys\n",
    "sys.path.append('..')\n",
    "import elastic_rods\n",
    "import numpy as np\n",
    "from typing import NamedTuple\n",
    "from bending_validation import suppress_stdout as so"
   ]
  },
  {
   "cell_type": "code",
   "execution_count": null,
   "metadata": {},
   "outputs": [],
   "source": [
    "npts = 100"
   ]
  },
  {
   "cell_type": "code",
   "execution_count": null,
   "metadata": {},
   "outputs": [],
   "source": [
    "t = np.linspace(0, 2 * np.pi, npts-2, endpoint=False)\n",
    "t = np.concatenate([t, t[0:2]])"
   ]
  },
  {
   "cell_type": "code",
   "execution_count": null,
   "metadata": {},
   "outputs": [],
   "source": [
    "R = 40\n",
    "pts = np.column_stack([R * np.cos(t), R * np.sin(t), np.zeros_like(t)])"
   ]
  },
  {
   "cell_type": "code",
   "execution_count": null,
   "metadata": {},
   "outputs": [],
   "source": [
    "pr = elastic_rods.PeriodicRod(pts, True)\n",
    "pr.setMaterial(elastic_rods.RodMaterial('rectangle', 4.0e10 / 1e6, 0.3, [1, 1], stiffAxis=elastic_rods.StiffAxis.D2))"
   ]
  },
  {
   "cell_type": "code",
   "execution_count": null,
   "metadata": {},
   "outputs": [],
   "source": [
    "dc = pr.rod.deformedConfiguration()"
   ]
  },
  {
   "cell_type": "code",
   "execution_count": null,
   "metadata": {},
   "outputs": [],
   "source": [
    "Hsp = pr.hessianSparsityPattern(1.0)"
   ]
  },
  {
   "cell_type": "code",
   "execution_count": null,
   "metadata": {},
   "outputs": [],
   "source": [
    "import linkage_vis, vis\n",
    "import matplotlib"
   ]
  },
  {
   "cell_type": "code",
   "execution_count": null,
   "metadata": {},
   "outputs": [],
   "source": [
    "import time\n",
    "def updateView():\n",
    "    v.update()\n",
    "    time.sleep(0.01)\n",
    "    cv2.update(vectorField=np.array([d.d2 for d in dc.materialFrame]))\n",
    "    refVF = vis.fields.VectorField(cv.mesh, np.array([d.d2 for d in dc.referenceDirectors]), colormap=matplotlib.cm.cool_r, glyph=vis.fields.VectorGlyph.CYLINDER)\n",
    "    cv.update(vectorField=refVF)"
   ]
  },
  {
   "cell_type": "code",
   "execution_count": null,
   "metadata": {},
   "outputs": [],
   "source": [
    "v = linkage_vis.LinkageViewer(pr, width=1200, height=720)\n",
    "cv = linkage_vis.CenterlineViewer(pr.rod, superView=v, vectorField=np.array([d.d2 for d in dc.referenceDirectors]))\n",
    "cv2 = linkage_vis.CenterlineViewer(pr.rod, superView=v, vectorField=np.array([d.d2 for d in dc.materialFrame]))\n",
    "v.show()"
   ]
  },
  {
   "cell_type": "code",
   "execution_count": null,
   "metadata": {},
   "outputs": [],
   "source": [
    "pr.twist = 16 * np.pi\n",
    "\n",
    "with so(): elastic_rods.compute_equilibrium(pr, fixedVars=[pr.numDoF()-1, pr.thetaOffset(), 0, 1, 2, 3, 4, 5], callback=lambda prob, i: updateView())"
   ]
  },
  {
   "cell_type": "markdown",
   "metadata": {},
   "source": [
    "# Finite Difference Validation"
   ]
  },
  {
   "cell_type": "code",
   "execution_count": null,
   "metadata": {},
   "outputs": [],
   "source": [
    "import fd_validation"
   ]
  },
  {
   "cell_type": "code",
   "execution_count": null,
   "metadata": {},
   "outputs": [],
   "source": [
    "class FDWrapper:\n",
    "    def __init__(self, rod):\n",
    "        self.rod = rod\n",
    "    def numVars(self): return self.rod.numDoF()\n",
    "    def getVars(self): return self.rod.getDoFs()\n",
    "    def setVars(self, x): return self.rod.setDoFs(x)\n",
    "    def energy(self): return self.rod.energy()\n",
    "    def gradient(self): return self.rod.gradient(updatedSource=False)\n",
    "    def hessian(self): return self.rod.hessian()"
   ]
  },
  {
   "cell_type": "code",
   "execution_count": null,
   "metadata": {},
   "outputs": [],
   "source": [
    "pr.setDoFs(pr.getDoFs() + 1e-3 * fd_validation.genPerturbation(pr.getDoFs()))\n",
    "pr.rod.updateSourceFrame()"
   ]
  },
  {
   "cell_type": "code",
   "execution_count": null,
   "metadata": {},
   "outputs": [],
   "source": [
    "fd_validation.gradConvergencePlot(FDWrapper(pr))"
   ]
  },
  {
   "cell_type": "code",
   "execution_count": null,
   "metadata": {},
   "outputs": [],
   "source": [
    "fd_validation.hessConvergencePlot(FDWrapper(pr.rod))"
   ]
  },
  {
   "cell_type": "code",
   "execution_count": null,
   "metadata": {},
   "outputs": [],
   "source": [
    "wpr = FDWrapper(pr)\n",
    "fd_validation.hessConvergencePlot(wpr, perturb=fd_validation.basisDirection(wpr, 0))"
   ]
  }
 ],
 "metadata": {
  "kernelspec": {
   "display_name": "Python 3",
   "language": "python",
   "name": "python3"
  },
  "language_info": {
   "codemirror_mode": {
    "name": "ipython",
    "version": 3
   },
   "file_extension": ".py",
   "mimetype": "text/x-python",
   "name": "python",
   "nbconvert_exporter": "python",
   "pygments_lexer": "ipython3",
   "version": "3.9.0+"
  }
 },
 "nbformat": 4,
 "nbformat_minor": 4
}
