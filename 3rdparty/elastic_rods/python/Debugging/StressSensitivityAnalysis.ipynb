{
 "cells": [
  {
   "cell_type": "code",
   "execution_count": null,
   "id": "cfa74a91-3a0f-4345-aa7d-772e91edd5fc",
   "metadata": {},
   "outputs": [],
   "source": [
    "import sys\n",
    "sys.path.append('..')\n",
    "import elastic_rods\n",
    "import numpy as np\n",
    "from typing import NamedTuple\n",
    "from bending_validation import suppress_stdout as so\n",
    "from tri_mesh_viewer import TriMeshViewer\n",
    "\n",
    "import fd_validation\n",
    "\n",
    "def combine(shearStress, sigma_zz):\n",
    "    return np.array(list(shearStress) + [sigma_zz])\n",
    "class StressMeasureFDWrapper():\n",
    "    def __init__(self, stressType, squared):\n",
    "        self.shearStress = np.random.uniform(size=2)\n",
    "        self.sigma_zz = np.random.uniform()\n",
    "        self.stressType = stressType\n",
    "        self.squared = squared\n",
    "    def numVars(self):    return 3\n",
    "    def getVars(self):    return combine(self.shearStress, self.sigma_zz)\n",
    "    def setVars(self, x): self.shearStress, self.sigma_zz = x[0:2], x[2]\n",
    "    def energy(self):     return elastic_rods.CrossSectionStressAnalysis.stressMeasure(self.stressType, self.shearStress, self.sigma_zz, self.squared)\n",
    "    def gradient(self):   return combine(*elastic_rods.CrossSectionStressAnalysis.gradStressMeasure(self.stressType, self.shearStress, self.sigma_zz, self.squared))\n",
    "    def name(self):       return self.stressType.name + (' Squared' if self.squared else '')\n",
    "    \n",
    "ST = elastic_rods.CrossSectionStressAnalysis.StressType\n",
    "from matplotlib import pyplot as plt\n",
    "numSTs = len(ST.__members__.items())\n",
    "counter = 1\n",
    "plt.figure(figsize=(14,12))\n",
    "for name, st in ST.__members__.items():\n",
    "    plt.subplot(numSTs, 2, counter)\n",
    "    fd_validation.gradConvergencePlot(StressMeasureFDWrapper(st, True))\n",
    "    plt.subplot(numSTs, 2, counter + 1)\n",
    "    fd_validation.gradConvergencePlot(StressMeasureFDWrapper(st, False))\n",
    "    counter += 2\n",
    "plt.tight_layout()"
   ]
  },
  {
   "cell_type": "code",
   "execution_count": null,
   "id": "3adc5247-922d-4676-83e1-160b825f94e6",
   "metadata": {},
   "outputs": [],
   "source": [
    "rodWidth = 520\n",
    "npts = 199\n",
    "midpt = (npts + 1) // 2\n",
    "thetaOffset = 3 * npts"
   ]
  },
  {
   "cell_type": "code",
   "execution_count": null,
   "id": "1090a1c4-b064-44d4-bb49-3e10503e04b2",
   "metadata": {},
   "outputs": [],
   "source": [
    "twistAngle = np.pi / 4\n",
    "x_strain = 0.01\n",
    "test = 'bend'\n",
    "#test = 'twist'\n",
    "#test = 'stretch'\n",
    "#test = 'stretchtwist'"
   ]
  },
  {
   "cell_type": "code",
   "execution_count": null,
   "id": "c7c14283-8ebc-47b9-9ffb-d574e80db050",
   "metadata": {},
   "outputs": [],
   "source": [
    "# Note: the ellipse cross-section used to construct the tetrahedral mesh below has only 20 subdivisons\n",
    "# (determined by the \"visualization resolution\" of `CrossSections::Ellipse`).\n",
    "# This introduces significant discretization error, making the energy *lower* and\n",
    "# the stress *higher* than the true values!"
   ]
  },
  {
   "cell_type": "code",
   "execution_count": null,
   "id": "caa3f6f0-0aaa-440e-9250-2636326cfc89",
   "metadata": {},
   "outputs": [],
   "source": [
    "pts = np.pad(np.linspace(-rodWidth / 2, rodWidth / 2, npts)[:,np.newaxis], [(0, 0), (0, 2)], mode='constant')\n",
    "r = elastic_rods.ElasticRod(pts)\n",
    "mat = elastic_rods.RodMaterial('rectangle', 2000, 0.3, [12, 8], stiffAxis=elastic_rods.StiffAxis.D2, keepCrossSectionMesh=True)\n",
    "r.setMaterial(mat)"
   ]
  },
  {
   "cell_type": "code",
   "execution_count": null,
   "id": "1add6023-08cb-4611-ab68-178575a09811",
   "metadata": {},
   "outputs": [],
   "source": [
    "rigidMotionVars  = [3 * midpt, 3 * midpt + 2] # pin x and z translation\n",
    "rigidMotionVars += [2]                        # pin rotation around y axis (z comp. of arbitrary vtx)\n",
    "rigidMotionVars += [thetaOffset]              # pin rotation around x axis"
   ]
  },
  {
   "cell_type": "code",
   "execution_count": null,
   "id": "1d7c51ab-aa18-46db-b173-8f8a5e3283ff",
   "metadata": {},
   "outputs": [],
   "source": [
    "x = r.getDoFs()\n",
    "dirichletVars = []\n",
    "if (test=='bend'):\n",
    "    dirichletVars = [1, 3 * midpt + 1, 3 * (npts - 1) + 1, len(x) - 1]\n",
    "    x[dirichletVars] = [10, -10, 10, 0.0]\n",
    "if ('twist' in test):\n",
    "    dirichletVars = [1, len(x) - 1]\n",
    "    x[dirichletVars] = [0, twistAngle]\n",
    "if ('stretch' in test):\n",
    "    rigidMotionVars = rigidMotionVars[1:]\n",
    "    dirichletVars += [0, 3 * (npts - 1)]\n",
    "    x[0]              = (1 + x_strain) * -260\n",
    "    x[3 * (npts - 1)] = (1 + x_strain) *  260\n",
    "r.setDoFs(x)\n",
    "fixedVars = rigidMotionVars + dirichletVars"
   ]
  },
  {
   "cell_type": "code",
   "execution_count": null,
   "id": "86d85fae-69aa-4bde-aa98-7600a4edf640",
   "metadata": {},
   "outputs": [],
   "source": [
    "import py_newton_optimizer\n",
    "opts = py_newton_optimizer.NewtonOptimizerOptions()\n",
    "opts.niter = 1000\n",
    "opts.useIdentityMetric = False\n",
    "opts.useNegativeCurvatureDirection = True\n",
    "opts.gradTol = 1e-4\n",
    "opts.verbose = 0\n",
    "forces = []\n",
    "elastic_rods.compute_equilibrium(r, fixedVars=fixedVars, options=opts);"
   ]
  },
  {
   "cell_type": "code",
   "execution_count": null,
   "id": "6bc10277-a4e5-4aae-9f70-fe9235f67c7d",
   "metadata": {},
   "outputs": [],
   "source": [
    "st = ST.VonMises"
   ]
  },
  {
   "cell_type": "code",
   "execution_count": null,
   "id": "d5ff88bc-5a5b-4729-92df-1902baba5c5f",
   "metadata": {},
   "outputs": [],
   "source": [
    "r.set_design_parameter_config(True, True)"
   ]
  },
  {
   "cell_type": "code",
   "execution_count": null,
   "id": "51374dfc-e5a1-4899-8a02-7e7ce27a5975",
   "metadata": {},
   "outputs": [],
   "source": [
    "x = r.getExtendedDoFs()"
   ]
  },
  {
   "cell_type": "code",
   "execution_count": null,
   "id": "bce992b3-469d-4d23-823f-0f9e7f9fcac4",
   "metadata": {},
   "outputs": [],
   "source": [
    "r.setExtendedDoFs(x + 1e-2 * np.random.normal(size=r.numExtendedDoF()))"
   ]
  },
  {
   "cell_type": "code",
   "execution_count": null,
   "id": "61ddfd59-7056-489d-841e-c033119430a9",
   "metadata": {},
   "outputs": [],
   "source": [
    "r.updateSourceFrame()"
   ]
  },
  {
   "cell_type": "code",
   "execution_count": null,
   "id": "40f74fe3-42b4-4fdd-b0f3-022bfa41ee48",
   "metadata": {},
   "outputs": [],
   "source": [
    "direction = np.random.normal(size=r.numExtendedDoF())\n",
    "#direction[r.numDoF():] = 0\n",
    "#direction[0:r.numDoF()] = 0"
   ]
  },
  {
   "cell_type": "code",
   "execution_count": null,
   "id": "44770411-e85f-49b2-a524-d16b26fddce2",
   "metadata": {},
   "outputs": [],
   "source": [
    "class StressLpNormFDWrapper():\n",
    "    def __init__(self, stressType, p, r):\n",
    "        self.stressType = stressType\n",
    "        self.p = p\n",
    "        self.r = r\n",
    "    def numVars(self):    return self.r.numExtendedDoF()\n",
    "    def getVars(self):    return self.r.getExtendedDoFs()\n",
    "    def setVars(self, x): self.r.setExtendedDoFs(x)\n",
    "    def energy(self):     return self.r.surfaceStressLpNorm(self.stressType, self.p, False)\n",
    "    def gradient(self):   return self.r.gradSurfaceStressLpNorm(self.stressType, self.p, True, False)\n",
    "    def name(self):       return self.stressType.name + f' L_{self.p} norm'\n",
    "    \n",
    "numSTs = len(ST.__members__.items())\n",
    "counter = 1\n",
    "plt.figure(figsize=(14,12))\n",
    "for name, st in ST.__members__.items():\n",
    "    plt.subplot(numSTs, 2, counter)\n",
    "    fd_validation.gradConvergencePlot(StressLpNormFDWrapper(st, 2, r), direction)\n",
    "    plt.subplot(numSTs, 2, counter + 1)\n",
    "    fd_validation.gradConvergencePlot(StressLpNormFDWrapper(st, 6, r), direction)\n",
    "    counter += 2\n",
    "plt.tight_layout()"
   ]
  }
 ],
 "metadata": {
  "kernelspec": {
   "display_name": "Python 3",
   "language": "python",
   "name": "python3"
  },
  "language_info": {
   "codemirror_mode": {
    "name": "ipython",
    "version": 3
   },
   "file_extension": ".py",
   "mimetype": "text/x-python",
   "name": "python",
   "nbconvert_exporter": "python",
   "pygments_lexer": "ipython3",
   "version": "3.9.9"
  }
 },
 "nbformat": 4,
 "nbformat_minor": 5
}
