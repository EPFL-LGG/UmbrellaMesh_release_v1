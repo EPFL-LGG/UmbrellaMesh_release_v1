{
 "cells": [
  {
   "cell_type": "code",
   "execution_count": null,
   "metadata": {},
   "outputs": [],
   "source": [
    "from bending_validation import *\n",
    "import elastic_rods, sparse_matrices, pickle, scipy, linkage_vis, numpy as np, time"
   ]
  },
  {
   "cell_type": "markdown",
   "metadata": {},
   "source": [
    "We can now save and restore full rod state to debug bad configurations:"
   ]
  },
  {
   "cell_type": "code",
   "execution_count": null,
   "metadata": {},
   "outputs": [],
   "source": [
    "r = pickle.load(open('bad_rod.pkl', 'rb'))\n",
    "m = elastic_rods.RodMaterial()\n",
    "m.setEllipse(200, 0.3, 0.01, 0.005)\n",
    "r.setMaterial(m)\n",
    "fixedVars = [0, 1, 2, 77, 150, 151, 152]\n",
    "view = linkage_vis.LinkageViewer(r, width=600, height=400)\n",
    "view.setCameraParams([[ 0.8559,  3.2282,  0.8117],\n",
    "       [-0.1116,  0.1192,  0.9865],\n",
    "       [ 0.0694, -0.1334, -0.3078]])\n",
    "view.show()"
   ]
  },
  {
   "cell_type": "markdown",
   "metadata": {},
   "source": [
    "The twist discontinuity was due to a bug in the frame vectors to frame rotation conversion, which is now fixed.\n",
    "\n",
    "Also, the new equilibrium solver quickly escapes the negatively curved region:"
   ]
  },
  {
   "cell_type": "code",
   "execution_count": null,
   "metadata": {},
   "outputs": [],
   "source": [
    "elastic_rods.compute_equilibrium_knitro(r, niter=10, fixedVars=fixedVars)\n",
    "view.update()"
   ]
  },
  {
   "cell_type": "code",
   "execution_count": null,
   "metadata": {},
   "outputs": [],
   "source": [
    "elastic_rods.compute_equilibrium(r, verbose=True, fixedVars=fixedVars, niter=1, useIdentityMetric = False)\n",
    "view.update()"
   ]
  },
  {
   "cell_type": "code",
   "execution_count": null,
   "metadata": {},
   "outputs": [],
   "source": [
    "pickle.dump(r, open('rod_indefinite_demo.pkl', 'wb'))"
   ]
  },
  {
   "cell_type": "code",
   "execution_count": null,
   "metadata": {},
   "outputs": [],
   "source": [
    "H = r.hessian()\n",
    "#H.reflectUpperTriangle()\n",
    "H.dumpBinary('H_badrod.mat')"
   ]
  },
  {
   "cell_type": "markdown",
   "metadata": {},
   "source": [
    "The current challenge is to escape saddle points (where the gradient is exactly zero)"
   ]
  },
  {
   "cell_type": "code",
   "execution_count": null,
   "metadata": {},
   "outputs": [],
   "source": [
    "L, a, n = 1, 0.1, 51\n",
    "perturb = False\n",
    "r, fixedVars = bendingTestRod(L, a, n)\n",
    "pts, thetas = initialConfiguration(L, a, n, perturb)\n",
    "thetas = np.ones(n - 1) * (np.pi / 2)\n",
    "r.setDeformedConfiguration(pts, thetas)\n",
    "\n",
    "view = linkage_vis.LinkageViewer(r, width=1024, height=600)\n",
    "view.setCameraParams(((0.8471149305506829, 2.303483674764291, 0.4579086561101697),\n",
    " (-0.05274977528957473, 0.1226800644593855, 0.9910434213449677),\n",
    " (-0.41643357695558714, 0.21249216220933723, -0.36668979830898635)))\n",
    "view.show()"
   ]
  },
  {
   "cell_type": "code",
   "execution_count": null,
   "metadata": {},
   "outputs": [],
   "source": [
    "elastic_rods.compute_equilibrium_knitro(r, verbose=True, fixedVars=fixedVars, niter=10)\n",
    "view.update()"
   ]
  },
  {
   "cell_type": "code",
   "execution_count": null,
   "metadata": {},
   "outputs": [],
   "source": [
    "elastic_rods.compute_equilibrium(r, verbose=True, fixedVars=fixedVars, niter=10, gradTol=1e-6)\n",
    "view.update()"
   ]
  },
  {
   "cell_type": "code",
   "execution_count": null,
   "metadata": {},
   "outputs": [],
   "source": [
    "from compute_vibrational_modes import compute_vibrational_modes, MassMatrixType\n",
    "import mode_viewer\n",
    "\n",
    "lambdas, modes = compute_vibrational_modes(r, fixedVars, n=4)\n",
    "mview = mode_viewer.ModeViewer(r, modes, lambdas)\n",
    "mview.show()"
   ]
  },
  {
   "cell_type": "markdown",
   "metadata": {},
   "source": [
    "Rest length solve: minimize elastic energy with respect to both the rest lengths and the deformed configuration.\n",
    "This works as long as the bending is below some critical threshold, as seen below (compare a = 0.44 vs a = 0.47):"
   ]
  },
  {
   "cell_type": "code",
   "execution_count": null,
   "metadata": {},
   "outputs": [],
   "source": [
    "L, a, n = 1, 0.47, 51\n",
    "r, fixedVars = bendingTestRod(L, a, n)\n",
    "pts, thetas = initialConfiguration(L, a, n, False)\n",
    "r.setDeformedConfiguration(pts, thetas)\n",
    "\n",
    "with suppress_stdout():\n",
    "    elastic_rods.compute_equilibrium(r, verbose=True, fixedVars=fixedVars, niter=100)\n",
    "\n",
    "rlview = linkage_vis.LinkageViewer(r, width=800, height=700)\n",
    "rlview.setCameraParams(((-0.08773027702370209, 0.13519066571762273, -4.1987952798224795),\n",
    " (-0.04840963028921097, 0.958400758921313, -0.28129076236931344),\n",
    " (0.01975715401252783, -0.36464795573335124, 0.12497624338029313)))\n",
    "rlview.show()"
   ]
  },
  {
   "cell_type": "code",
   "execution_count": null,
   "metadata": {},
   "outputs": [],
   "source": [
    "with suppress_stdout():\n",
    "    elastic_rods.restlen_solve(r, verbose=True, fixedVars=fixedVars, niter=5)\n",
    "rlview.update()"
   ]
  }
 ],
 "metadata": {
  "kernelspec": {
   "display_name": "Python 3",
   "language": "python",
   "name": "python3"
  },
  "language_info": {
   "codemirror_mode": {
    "name": "ipython",
    "version": 3
   },
   "file_extension": ".py",
   "mimetype": "text/x-python",
   "name": "python",
   "nbconvert_exporter": "python",
   "pygments_lexer": "ipython3",
   "version": "3.7.3"
  }
 },
 "nbformat": 4,
 "nbformat_minor": 4
}
