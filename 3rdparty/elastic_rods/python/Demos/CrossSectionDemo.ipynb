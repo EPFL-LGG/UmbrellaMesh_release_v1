{
 "cells": [
  {
   "cell_type": "code",
   "execution_count": null,
   "metadata": {},
   "outputs": [],
   "source": [
    "import sys; sys.path.append('..')\n",
    "from bending_validation import *\n",
    "import elastic_rods, sparse_matrices, pickle, scipy, linkage_vis, numpy as np, time\n",
    "import MeshFEM, mesh\n",
    "from tri_mesh_viewer import TriMeshViewer, LineMeshViewer"
   ]
  },
  {
   "cell_type": "code",
   "execution_count": null,
   "metadata": {},
   "outputs": [],
   "source": [
    "cs1 = elastic_rods.CrossSection.fromContour('../../examples/cross_sections/custom_profile.msh', 2000, 0.3, scale=0.0002)\n",
    "cs2 = elastic_rods.CrossSection.fromContour('../../examples/cross_sections/custom_profile_scaled.msh', 2000, 0.3, scale=0.0002)\n",
    "v = TriMeshViewer(cs1.interior(0.1), wireframe=True)\n",
    "v.show()"
   ]
  },
  {
   "cell_type": "code",
   "execution_count": null,
   "metadata": {},
   "outputs": [],
   "source": [
    "# Alternative using ellipse cross-section to validate interpolation against python implementation below\n",
    "cs1 = elastic_rods.CrossSection.construct('Ellipse', 200, 0.3, [0.005, 0.001])\n",
    "cs2 = elastic_rods.CrossSection.construct('Ellipse', 200, 0.3, [0.02, 0.005])"
   ]
  },
  {
   "cell_type": "code",
   "execution_count": null,
   "metadata": {},
   "outputs": [],
   "source": [
    "mat1 = elastic_rods.RodMaterial(cs1)\n",
    "mat2 = elastic_rods.RodMaterial(cs2)"
   ]
  },
  {
   "cell_type": "code",
   "execution_count": null,
   "metadata": {},
   "outputs": [],
   "source": [
    "L, a, n = 1, 0.2, 51\n",
    "perturb = False\n",
    "r, fixedVars = bendingTestRod(L, a, n)\n",
    "pts, thetas = initialConfiguration(L, a, n, perturb)\n",
    "thetas = np.ones(n - 1) * (np.pi / 2)\n",
    "r.setDeformedConfiguration(pts, thetas)\n",
    "\n",
    "view = linkage_vis.LinkageViewer(r, width=800, height=600)\n",
    "view.show()"
   ]
  },
  {
   "cell_type": "code",
   "execution_count": null,
   "metadata": {},
   "outputs": [],
   "source": [
    "view.averagedMaterialFrames = not view.averagedMaterialFrames\n",
    "view.averagedCrossSections = not view.averagedCrossSections"
   ]
  },
  {
   "cell_type": "code",
   "execution_count": null,
   "metadata": {},
   "outputs": [],
   "source": [
    "with suppress_stdout(): elastic_rods.compute_equilibrium(r, fixedVars=fixedVars)\n",
    "view.update()"
   ]
  },
  {
   "cell_type": "code",
   "execution_count": null,
   "metadata": {},
   "outputs": [],
   "source": [
    "r.setLinearlyInterpolatedMaterial(mat1, mat2)\n",
    "view.update()"
   ]
  },
  {
   "cell_type": "code",
   "execution_count": null,
   "metadata": {},
   "outputs": [],
   "source": [
    "# Change to an inhomogeneous cross-section\n",
    "def materialAtFrac(alpha):\n",
    "    mat = elastic_rods.RodMaterial()\n",
    "    mat.setEllipse(200, 0.3, 0.02 * alpha + 0.005 * (1 - alpha), 0.005 * alpha + 0.001 * (1 - alpha))\n",
    "    return mat\n",
    "r.setMaterial([materialAtFrac(alpha) for alpha in np.linspace(0, 1, r.numEdges())])"
   ]
  },
  {
   "cell_type": "code",
   "execution_count": null,
   "metadata": {},
   "outputs": [],
   "source": [
    "with suppress_stdout(): elastic_rods.compute_equilibrium(r, fixedVars=fixedVars)\n",
    "view.update(True)"
   ]
  },
  {
   "cell_type": "markdown",
   "metadata": {},
   "source": [
    "### Study the behavior of interpolated cross-sections\n",
    "Determine what types of interpolation fit their properties well."
   ]
  },
  {
   "cell_type": "code",
   "execution_count": null,
   "metadata": {},
   "outputs": [],
   "source": [
    "cs_name = 'Freeform'\n",
    "cs1 = elastic_rods.CrossSection.fromContour('../../examples/cross_sections/custom_profile.msh', 2000, 0.3, scale=0.0002)\n",
    "cs2 = elastic_rods.CrossSection.fromContour('../../examples/cross_sections/custom_profile_scaled.msh', 2000, 0.3, scale=0.0002)"
   ]
  },
  {
   "cell_type": "code",
   "execution_count": null,
   "metadata": {},
   "outputs": [],
   "source": [
    "cs_name = 'Freeform Warp'\n",
    "cs1 = elastic_rods.CrossSection.fromContour('../../examples/cross_sections/custom_profile_merged.obj', 2000, 0.3, scale=0.0002)\n",
    "cs2 = elastic_rods.CrossSection.fromContour('../../examples/cross_sections/custom_profile_merged_warped.obj', 2000, 0.3, scale=0.0002)"
   ]
  },
  {
   "cell_type": "code",
   "execution_count": null,
   "metadata": {},
   "outputs": [],
   "source": [
    "cs_name = 'Ellipse'\n",
    "cs1 = elastic_rods.CrossSection.construct('Ellipse', 200, 0.3, [0.005, 0.001])\n",
    "cs2 = elastic_rods.CrossSection.construct('Ellipse', 200, 0.3, [0.02, 0.005])"
   ]
  },
  {
   "cell_type": "code",
   "execution_count": null,
   "metadata": {},
   "outputs": [],
   "source": [
    "cs_name = 'Rectangle'\n",
    "cs1 = elastic_rods.CrossSection.construct('Rectangle', 200, 0.3, [0.005, 0.001])\n",
    "cs2 = elastic_rods.CrossSection.construct('Rectangle', 200, 0.3, [0.02, 0.005])"
   ]
  },
  {
   "cell_type": "code",
   "execution_count": null,
   "metadata": {},
   "outputs": [],
   "source": [
    "alphas = np.linspace(0, 1, 1000)\n",
    "mats = [elastic_rods.RodMaterial(elastic_rods.CrossSection.lerp(cs1, cs2, a)) for a in alphas]\n",
    "properties = ['B11', 'B22', 'I11', 'I22', 'twistingStiffness', 'torsionStressCoefficient']\n",
    "test_data = {p: [getattr(m, p) for m in mats] for p in properties}"
   ]
  },
  {
   "cell_type": "code",
   "execution_count": null,
   "metadata": {},
   "outputs": [],
   "source": [
    "plt.figure(figsize=(6, 6))\n",
    "for i, p in enumerate(properties):\n",
    "    plt.subplot(3, 2, i + 1)\n",
    "    coefs = np.polynomial.Polynomial.fit(alphas, test_data[p], 10).coef\n",
    "    plt.bar(range(len(coefs)), coefs)\n",
    "    plt.yscale('log')\n",
    "    plt.title(p)\n",
    "plt.tight_layout()"
   ]
  },
  {
   "cell_type": "code",
   "execution_count": null,
   "metadata": {},
   "outputs": [],
   "source": [
    "import scipy\n",
    "import scipy.interpolate\n",
    "\n",
    "from numpy.linalg import norm as la_norm\n",
    "from collections import defaultdict\n",
    "\n",
    "norm = lambda x: la_norm(x, ord=np.inf)\n",
    "\n",
    "fitAnalysis = defaultdict(list)\n",
    "nFitSamplesRange = range(6, 50)\n",
    "for nFitSamples in nFitSamplesRange:\n",
    "    fit_x = np.linspace(0, 1, nFitSamples)\n",
    "    fit_mats = [elastic_rods.RodMaterial(elastic_rods.CrossSection.lerp(cs1, cs2, a)) for a in fit_x]\n",
    "\n",
    "    for p in properties:\n",
    "        groundTruth = test_data[p]\n",
    "        gtNorm = norm(groundTruth)\n",
    "        fit_data = [getattr(m, p) for m in fit_mats]\n",
    "        \n",
    "        relErrors = []\n",
    "        for deg in [4]:\n",
    "            poly = np.polynomial.Polynomial.fit(fit_x, fit_data, deg)\n",
    "            relErrors.append(norm(poly(alphas) - groundTruth) / gtNorm)\n",
    "\n",
    "        for deg in range(1, 6):\n",
    "            spl  = scipy.interpolate.splrep(fit_x, fit_data, k=deg)\n",
    "            fspl = lambda x: scipy.interpolate.splev(x, spl)\n",
    "            relErrors.append(norm(fspl(alphas) - groundTruth) / gtNorm)\n",
    "\n",
    "        fitAnalysis[p].append(relErrors)\n",
    "\n",
    "for key, vals in fitAnalysis.items():\n",
    "    fitAnalysis[key] = np.array(vals)"
   ]
  },
  {
   "cell_type": "code",
   "execution_count": null,
   "metadata": {},
   "outputs": [],
   "source": [
    "plt.figure(figsize=(10, 8))\n",
    "for i, p in enumerate(properties):\n",
    "    plt.subplot(3, 2, i + 1)\n",
    "    plt.plot(nFitSamplesRange, fitAnalysis[p][:, 0], label='quartic')\n",
    "    plt.plot(nFitSamplesRange, fitAnalysis[p][:, 1], label='piecewise linear')\n",
    "    plt.plot(nFitSamplesRange, fitAnalysis[p][:, 2], label='quadratic spline')\n",
    "    plt.plot(nFitSamplesRange, fitAnalysis[p][:, 3], label='cubic spline')\n",
    "    plt.plot(nFitSamplesRange, fitAnalysis[p][:, 4], label='quartic spline')\n",
    "    plt.plot(nFitSamplesRange, fitAnalysis[p][:, 5], label='quintic spline')\n",
    "    plt.yscale('log')\n",
    "    plt.grid()\n",
    "    plt.title(f'Relative fitting error for {p}')\n",
    "    plt.xlabel('fitting samples')\n",
    "    if i == 0: plt.legend(loc='lower left', bbox_to_anchor=(0, 0.15))\n",
    "plt.tight_layout()\n",
    "plt.suptitle(cs_name, fontsize=14)\n",
    "plt.subplots_adjust(top=0.92)"
   ]
  },
  {
   "cell_type": "markdown",
   "metadata": {},
   "source": [
    "We find that the quintic spline works best across the various examples.\n",
    "Note that the scipy documentation warns against using even-degree splines for some reason."
   ]
  },
  {
   "cell_type": "code",
   "execution_count": null,
   "metadata": {},
   "outputs": [],
   "source": [
    "import cross_section_scaling\n",
    "\n",
    "import importlib\n",
    "importlib.reload(cross_section_scaling)\n",
    "\n",
    "csi = cross_section_scaling.CrossSectionInterpolator(cs1, cs2)"
   ]
  },
  {
   "cell_type": "code",
   "execution_count": null,
   "metadata": {},
   "outputs": [],
   "source": [
    "for p in properties + ['stretchingStiffness', 'area', 'youngModulus', 'shearModulus', 'crossSectionHeight']:\n",
    "    groundTruth = np.array([getattr(m, p) for m in mats])\n",
    "    print(p, norm(groundTruth - [getattr(csi(a), p) for a in alphas]) / norm(groundTruth))"
   ]
  },
  {
   "cell_type": "code",
   "execution_count": null,
   "metadata": {},
   "outputs": [],
   "source": [
    "for p in properties + ['stretchingStiffness', 'area', 'youngModulus', 'shearModulus', 'crossSectionHeight']:\n",
    "    print(p, norm((np.array([getattr(m, p) for m in mats]) - [getattr(csi(a), p) for a in alphas])))"
   ]
  },
  {
   "cell_type": "code",
   "execution_count": null,
   "metadata": {},
   "outputs": [],
   "source": [
    "# Visualize an interpolated cross-section\n",
    "c = csi(0.5)\n",
    "pts = np.pad(np.array(c.crossSectionBoundaryPts, dtype=np.float32), [(0, 0), (0, 1)])\n",
    "lv = LineMeshViewer((pts, np.array(c.crossSectionBoundaryEdges, dtype=np.uint32)))\n",
    "lv.show()"
   ]
  }
 ],
 "metadata": {
  "kernelspec": {
   "display_name": "Python 3",
   "language": "python",
   "name": "python3"
  },
  "language_info": {
   "codemirror_mode": {
    "name": "ipython",
    "version": 3
   },
   "file_extension": ".py",
   "mimetype": "text/x-python",
   "name": "python",
   "nbconvert_exporter": "python",
   "pygments_lexer": "ipython3",
   "version": "3.7.5"
  }
 },
 "nbformat": 4,
 "nbformat_minor": 4
}
