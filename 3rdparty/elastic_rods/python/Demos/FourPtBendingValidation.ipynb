{
 "cells": [
  {
   "cell_type": "markdown",
   "metadata": {},
   "source": [
    "# Four Point Bending Test\n",
    "This notebook performs a four point bending test consisting of two rollers that are pushed down vertically onto a rod with two vertical supports at its ends:\n",
    "```\n",
    "    |   |\n",
    "    o   o\n",
    " ===========\n",
    " ^         ^\n",
    "```\n",
    "This test is popular because it induces a constant bending strain between the two rollers, but is somewhat challenging to simulate since the rollers and supports must be able to slide along the rod.\n",
    "\n",
    "The parameters of this simulation were chosen to reproduce a physical lab test we performed for our [Barcelona Pavilion](http://julianpanetta.com/publication/xshell_pavilion/) and confirm that we can use such a bending test to accurately measure the rod's Young's modulus. We also compare against the known analytical solution for this test."
   ]
  },
  {
   "cell_type": "code",
   "execution_count": null,
   "metadata": {},
   "outputs": [],
   "source": [
    "import sys\n",
    "sys.path.append('..')\n",
    "import elastic_rods\n",
    "import numpy as np\n",
    "from typing import NamedTuple\n",
    "from bending_validation import suppress_stdout as so"
   ]
  },
  {
   "cell_type": "code",
   "execution_count": null,
   "metadata": {},
   "outputs": [],
   "source": [
    "rodWidth = 520\n",
    "npts = 499\n",
    "midpt = (npts + 1) // 2\n",
    "thetaOffset = 3 * npts\n",
    "# Contacts for support and loading.\n",
    "# These will cause the vertex closest to xCoord to have its y coordinate\n",
    "# constrained to the current displacement magnitude times \"yDisplacementFactor\"\n",
    "class Contact(NamedTuple):\n",
    "    xCoord: float\n",
    "    yDisplacementFactor: float\n",
    "contacts = [Contact(-212.5, 0), Contact(212.5, 0), Contact(-62.5, -1), Contact(62.5, -1)]"
   ]
  },
  {
   "cell_type": "code",
   "execution_count": null,
   "metadata": {},
   "outputs": [],
   "source": [
    "pts = np.pad(np.linspace(-rodWidth / 2, rodWidth / 2, npts)[:,np.newaxis], [(0, 0), (0, 2)], mode='constant')\n",
    "r = elastic_rods.ElasticRod(pts)\n",
    "r.setMaterial(elastic_rods.RodMaterial('rectangle', 4.0e10 / 1e6, 0.3, [12, 8], stiffAxis=elastic_rods.StiffAxis.D2, keepCrossSectionMesh=True))"
   ]
  },
  {
   "cell_type": "code",
   "execution_count": null,
   "metadata": {},
   "outputs": [],
   "source": [
    "import linkage_vis\n",
    "view = linkage_vis.LinkageViewer(r)\n",
    "view.show()"
   ]
  },
  {
   "cell_type": "code",
   "execution_count": null,
   "metadata": {},
   "outputs": [],
   "source": [
    "rigidMotionVars  = [3 * midpt, 3 * midpt + 2] # pin x and z translation\n",
    "rigidMotionVars += [2]                        # pin rotation around y axis (z comp. of arbitrary vtx)\n",
    "rigidMotionVars += [thetaOffset]              # pin rotation around x axis"
   ]
  },
  {
   "cell_type": "code",
   "execution_count": null,
   "metadata": {},
   "outputs": [],
   "source": [
    "def vtxAtXCoord(x):\n",
    "    return np.argmin(np.abs(np.array(r.deformedPoints())[:, 0] - x))\n",
    "\n",
    "def updateContacts(displacementMag):\n",
    "    currDoFs = r.getDoFs()\n",
    "    contactVars = []\n",
    "    for contact in contacts:\n",
    "        # Contact affects y component of the vertex\n",
    "        var = 3 * vtxAtXCoord(contact.xCoord) + 1\n",
    "        contactVars.append(var)\n",
    "        currDoFs[var] = contact.yDisplacementFactor * displacementMag\n",
    "    r.setDoFs(currDoFs)\n",
    "    return contactVars"
   ]
  },
  {
   "cell_type": "code",
   "execution_count": null,
   "metadata": {
    "scrolled": true
   },
   "outputs": [],
   "source": [
    "import time\n",
    "import py_newton_optimizer\n",
    "\n",
    "maxDisplacementMag = 37.5\n",
    "#maxDisplacementMag = 10\n",
    "\n",
    "opts = py_newton_optimizer.NewtonOptimizerOptions()\n",
    "opts.niter = 1000\n",
    "opts.useIdentityMetric = False\n",
    "opts.useNegativeCurvatureDirection = True\n",
    "opts.gradTol = 1e-2\n",
    "opts.verbose = 0\n",
    "displacements = np.linspace(0, maxDisplacementMag, 50)\n",
    "forces = []\n",
    "\n",
    "for displacementMag in displacements[0:50]:\n",
    "    # print(displacementMag)\n",
    "    oldContactVars = []\n",
    "    for i in range(10): # prevent cycling... (usually happens on border between rounding)\n",
    "        contactVars = updateContacts(displacementMag)\n",
    "        if (oldContactVars == contactVars): break\n",
    "        # print(\"\\t\", contactVars)\n",
    "        # time.sleep(0.05)\n",
    "        oldContactVars = contactVars\n",
    "        elastic_rods.compute_equilibrium(r, fixedVars=rigidMotionVars + contactVars, options=opts)\n",
    "    forces.append(np.sum(r.gradient()[contactVars[0:2]]))\n",
    "    # print(contactVars)\n",
    "view.update(preserveExisting=False)"
   ]
  },
  {
   "cell_type": "code",
   "execution_count": null,
   "metadata": {},
   "outputs": [],
   "source": [
    "contactVtxs = (np.array(updateContacts(displacementMag)) - 1) // 3"
   ]
  },
  {
   "cell_type": "code",
   "execution_count": null,
   "metadata": {},
   "outputs": [],
   "source": [
    "r.gradient()[contactVars]"
   ]
  },
  {
   "cell_type": "code",
   "execution_count": null,
   "metadata": {},
   "outputs": [],
   "source": [
    "np.array(r.deformedPoints())[contactVtxs]"
   ]
  },
  {
   "cell_type": "code",
   "execution_count": null,
   "metadata": {},
   "outputs": [],
   "source": [
    " from matplotlib import pyplot as plt\n",
    "plt.plot(displacements, np.array(forces))\n",
    "plt.xlabel('Displacement (mm)')\n",
    "plt.ylabel('Force (N)')\n",
    "plt.show()"
   ]
  },
  {
   "cell_type": "code",
   "execution_count": null,
   "metadata": {},
   "outputs": [],
   "source": [
    "I = elastic_rods.RodMaterial('rectangle', 1, 0.3, [8, 12]).bendingStiffness.lambda_2"
   ]
  },
  {
   "cell_type": "code",
   "execution_count": null,
   "metadata": {},
   "outputs": [],
   "source": [
    "a = 150 # length between left support and left load\n",
    "L = 425 # full length between supports"
   ]
  },
  {
   "cell_type": "code",
   "execution_count": null,
   "metadata": {},
   "outputs": [],
   "source": [
    "# Recover Young's modulus from the force/displacement data\n",
    "# using the analytical formula for the deflection at the loads:\n",
    "#      d = F * a^2 / (12 * E * I) (3L - 4a)\n",
    "# where F is the total force applied by *both* rollers.\n",
    "forces = np.array(forces)\n",
    "(forces[1:] * a * a * (3 * L - 4 * a)) / (12 * I * displacements[1:])"
   ]
  },
  {
   "cell_type": "markdown",
   "metadata": {},
   "source": [
    "## Validate stresses in the beam"
   ]
  },
  {
   "cell_type": "code",
   "execution_count": null,
   "metadata": {},
   "outputs": [],
   "source": [
    "# Compare against the analytical solution for the stress in a rod under 4pt bending\n",
    "F = forces[-1]\n",
    "x = np.array(r.deformedPoints())[:, 0]\n",
    "y = 8 / 2\n",
    "analyticalStresses = np.zeros_like(x)\n",
    "contact_x = (L / 2 - a)\n",
    "for i in range(len(x)):\n",
    "    stress = 0.0\n",
    "    if (x[i] > -L / 2) and (x[i] < -contact_x):\n",
    "        stress = F / 2 * (x[i] + L / 2) * y / I\n",
    "    if (x[i] >= -contact_x) and (x[i] <= contact_x):\n",
    "        stress = F / 2 * a * y / I\n",
    "    if (x[i] > contact_x) and (x[i] < L / 2):\n",
    "        stress = F / 2 * (L / 2 - x[i]) * y / I\n",
    "    analyticalStresses[i] = stress"
   ]
  },
  {
   "cell_type": "code",
   "execution_count": null,
   "metadata": {},
   "outputs": [],
   "source": [
    "plt.figure(figsize=(8,4))\n",
    "plt.plot(x, r.bendingStresses()[:, 0], label='DER simulation bending stress', linewidth=5)\n",
    "plt.plot(x, r.maxStresses(elastic_rods.CrossSectionStressAnalysis.StressType.MaxPrincipal), label='DER simulation max principal stress', linewidth=5)\n",
    "plt.plot(x, analyticalStresses, label='analytical formula')\n",
    "plt.xlabel('x coordinate (mm)')\n",
    "plt.ylabel('Max Stress (MPa)')\n",
    "plt.legend()\n",
    "plt.show()"
   ]
  },
  {
   "cell_type": "code",
   "execution_count": null,
   "metadata": {},
   "outputs": [],
   "source": [
    "np.max(r.bendingStresses()),  np.max(analyticalStresses)"
   ]
  },
  {
   "cell_type": "markdown",
   "metadata": {},
   "source": [
    "## Compute internal forces at rod interface"
   ]
  },
  {
   "cell_type": "code",
   "execution_count": null,
   "metadata": {},
   "outputs": [],
   "source": [
    "gsm = elastic_rods.GradientStencilMaskCustom()\n",
    "\n",
    "nv = r.numVertices()\n",
    "ne = r.numEdges()\n",
    "gsm.edgeStencilMask = np.zeros(r.numEdges())\n",
    "mask = np.zeros(nv, dtype=bool)\n",
    "mask[nv // 2 - 15:nv // 2 + 15] = True\n",
    "gsm.vtxStencilMask = mask"
   ]
  },
  {
   "cell_type": "code",
   "execution_count": null,
   "metadata": {},
   "outputs": [],
   "source": [
    "r.gradient(stencilMask=gsm)"
   ]
  },
  {
   "cell_type": "code",
   "execution_count": null,
   "metadata": {},
   "outputs": [],
   "source": [
    "g = r.gradient(stencilMask=gsm)"
   ]
  },
  {
   "cell_type": "code",
   "execution_count": null,
   "metadata": {},
   "outputs": [],
   "source": [
    "origDoF = r.getDoFs()"
   ]
  },
  {
   "cell_type": "code",
   "execution_count": null,
   "metadata": {},
   "outputs": [],
   "source": [
    "perturbedDoFs = origDoF.copy()\n",
    "perturbedDoFs[0:r.thetaOffset()] += 1 * np.random.uniform(low=-1, size=r.thetaOffset())\n",
    "r.setDoFs(perturbedDoFs)\n",
    "gperturb = r.gradient(stencilMask=gsm)"
   ]
  },
  {
   "cell_type": "code",
   "execution_count": null,
   "metadata": {},
   "outputs": [],
   "source": [
    "view.update()"
   ]
  }
 ],
 "metadata": {
  "kernelspec": {
   "display_name": "Python 3",
   "language": "python",
   "name": "python3"
  },
  "language_info": {
   "codemirror_mode": {
    "name": "ipython",
    "version": 3
   },
   "file_extension": ".py",
   "mimetype": "text/x-python",
   "name": "python",
   "nbconvert_exporter": "python",
   "pygments_lexer": "ipython3",
   "version": "3.9.9"
  }
 },
 "nbformat": 4,
 "nbformat_minor": 4
}
