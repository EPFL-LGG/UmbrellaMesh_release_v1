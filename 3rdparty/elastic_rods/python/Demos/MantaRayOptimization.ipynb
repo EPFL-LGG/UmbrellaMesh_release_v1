{
 "cells": [
  {
   "cell_type": "code",
   "execution_count": null,
   "metadata": {},
   "outputs": [],
   "source": [
    "import sys; sys.path.append('..')\n",
    "import numpy as np, elastic_rods, linkage_vis\n",
    "from elastic_rods import EnergyType, InterleavingType\n",
    "from bending_validation import suppress_stdout as so\n",
    "import linkage_optimization"
   ]
  },
  {
   "cell_type": "code",
   "execution_count": null,
   "metadata": {},
   "outputs": [],
   "source": [
    "import py_newton_optimizer\n",
    "OPTS = py_newton_optimizer.NewtonOptimizerOptions()\n",
    "OPTS.gradTol = 1e-6\n",
    "OPTS.verbose = 1;\n",
    "OPTS.beta = 1e-8\n",
    "OPTS.niter = 200\n",
    "OPTS.verboseNonPosDef = False\n",
    "rw = 1\n",
    "sw = 10\n",
    "drw = 0.01\n",
    "dsw = 0.01"
   ]
  },
  {
   "cell_type": "code",
   "execution_count": null,
   "metadata": {},
   "outputs": [],
   "source": [
    "model_path = '../../examples/florin/20181227_193550_meshID_5ca2f7ab-3602-4ede-ac4d-c2bd798b2961.obj'"
   ]
  },
  {
   "cell_type": "markdown",
   "metadata": {},
   "source": [
    "### Flat Linkage"
   ]
  },
  {
   "cell_type": "code",
   "execution_count": null,
   "metadata": {},
   "outputs": [],
   "source": [
    "flatLinkage = elastic_rods.RodLinkage(model_path, 8, True, InterleavingType.xshell)\n",
    "driver=flatLinkage.centralJoint()\n",
    "flatLinkage.setMaterial(elastic_rods.RodMaterial('rectangle', 20000, 0.3, [10, 7]))\n",
    "\n",
    "with so(): elastic_rods.restlen_solve(flatLinkage)\n",
    "jdo = flatLinkage.dofOffsetForJoint(driver)\n",
    "fixedVars = list(range(jdo, jdo + 6)) # fix rigid motion for a single joint\n",
    "with so(): elastic_rods.compute_equilibrium(flatLinkage, fixedVars=fixedVars)\n",
    "flatView = linkage_vis.LinkageViewer(flatLinkage, width=1024, height=640)\n",
    "flatView.setCameraParams(((2.3969, -1.1451, -0.5262), (0.0765, 0.0848, -0.9935), (0.1111, 0.1865, 0.5316)))\n",
    "flatView.show()"
   ]
  },
  {
   "cell_type": "code",
   "execution_count": null,
   "metadata": {},
   "outputs": [],
   "source": [
    "flatLinkage.set_design_parameter_config(True, False);"
   ]
  },
  {
   "cell_type": "code",
   "execution_count": null,
   "metadata": {},
   "outputs": [],
   "source": [
    "flatView.averagedMaterialFrames = True \n",
    "flatView.averagedCrossSections = True"
   ]
  },
  {
   "cell_type": "code",
   "execution_count": null,
   "metadata": {},
   "outputs": [],
   "source": [
    "flatView.update(scalarField=flatLinkage.stretchingStresses())"
   ]
  },
  {
   "cell_type": "markdown",
   "metadata": {},
   "source": [
    "### Design Parameter Solve"
   ]
  },
  {
   "cell_type": "code",
   "execution_count": null,
   "metadata": {},
   "outputs": [],
   "source": []
  },
  {
   "cell_type": "markdown",
   "metadata": {},
   "source": [
    "### Deployed Linkage"
   ]
  },
  {
   "cell_type": "code",
   "execution_count": null,
   "metadata": {},
   "outputs": [],
   "source": [
    "deployedLinkage = elastic_rods.RodLinkage(flatLinkage)\n",
    "deployedView = linkage_vis.LinkageViewer(deployedLinkage, width=1024, height=640)\n",
    "deployedView.setCameraParams(((2.3969, -1.1451, -0.5262), (0.0765, 0.0848, -0.9935), (0.1111, 0.1865, 0.5316)))\n",
    "deployedView.show()"
   ]
  },
  {
   "cell_type": "code",
   "execution_count": null,
   "metadata": {},
   "outputs": [],
   "source": [
    "deployedLinkage.set_design_parameter_config(True, False);"
   ]
  },
  {
   "cell_type": "code",
   "execution_count": null,
   "metadata": {},
   "outputs": [],
   "source": [
    "from open_linkage import open_linkage\n",
    "def equilibriumSolver(tgtAngle, deployedLinkage, opts, fv):\n",
    "    opts.gradTol = 1e-4\n",
    "    return elastic_rods.compute_equilibrium(deployedLinkage, tgtAngle, options=opts, fixedVars=fv)"
   ]
  },
  {
   "cell_type": "code",
   "execution_count": null,
   "metadata": {},
   "outputs": [],
   "source": [
    "import benchmark\n",
    "import time\n",
    "benchmark.reset()\n",
    "startTime = time.time()"
   ]
  },
  {
   "cell_type": "code",
   "execution_count": null,
   "metadata": {},
   "outputs": [],
   "source": [
    "with so(): open_linkage(deployedLinkage, driver, np.deg2rad(93) - deployedLinkage.averageJointAngle, 40, deployedView, equilibriumSolver=equilibriumSolver, maxNewtonIterationsIntermediate=20, useTargetAngleConstraint=True);"
   ]
  },
  {
   "cell_type": "code",
   "execution_count": null,
   "metadata": {},
   "outputs": [],
   "source": [
    "benchmark.report()\n",
    "duration = time.time() - startTime\n",
    "print(duration)"
   ]
  },
  {
   "cell_type": "code",
   "execution_count": null,
   "metadata": {},
   "outputs": [],
   "source": [
    "OPTS = py_newton_optimizer.NewtonOptimizerOptions()\n",
    "OPTS.gradTol = 1e-6\n",
    "OPTS.verbose = 1\n",
    "OPTS.beta = 1e-8\n",
    "OPTS.niter = 25\n",
    "OPTS.verboseNonPosDef = False\n",
    "\n",
    "useCenterline = True\n",
    "optimizer = linkage_optimization.XShellOptimization(flatLinkage, deployedLinkage, OPTS, np.pi / 128)\n",
    "\n",
    "\n",
    "# optimizer.rl_regularization_weight = rest_length_weight\n",
    "# optimizer.smoothing_weight = smoothing_weight\n",
    "# optimizer.beta = 500000.0\n",
    "# optimizer.gamma = 1"
   ]
  },
  {
   "cell_type": "code",
   "execution_count": null,
   "metadata": {},
   "outputs": [],
   "source": [
    "def callback():\n",
    "    flatView.update()\n",
    "    deployedView.update()"
   ]
  },
  {
   "cell_type": "code",
   "execution_count": null,
   "metadata": {},
   "outputs": [],
   "source": [
    "algorithm = linkage_optimization.OptAlgorithm.NEWTON_CG\n",
    "optimizer.XShellOptimize(algorithm, 2000, 1.0, 1e-2, callback, -1, True, True)"
   ]
  }
 ],
 "metadata": {
  "kernelspec": {
   "display_name": "Python 3",
   "language": "python",
   "name": "python3"
  },
  "language_info": {
   "codemirror_mode": {
    "name": "ipython",
    "version": 3
   },
   "file_extension": ".py",
   "mimetype": "text/x-python",
   "name": "python",
   "nbconvert_exporter": "python",
   "pygments_lexer": "ipython3",
   "version": "3.9.4"
  }
 },
 "nbformat": 4,
 "nbformat_minor": 4
}
