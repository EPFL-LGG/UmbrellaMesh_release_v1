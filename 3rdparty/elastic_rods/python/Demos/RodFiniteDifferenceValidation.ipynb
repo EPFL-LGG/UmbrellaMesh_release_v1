{
 "cells": [
  {
   "cell_type": "code",
   "execution_count": null,
   "metadata": {},
   "outputs": [],
   "source": [
    "import sys; sys.path.append('..')\n",
    "import elastic_rods, sparse_matrices, pickle, scipy, linkage_vis, numpy as np, time\n",
    "from numpy.random import uniform as random\n",
    "from linkage_vis import LinkageViewer as Viewer\n",
    "import matplotlib.pyplot as plt"
   ]
  },
  {
   "cell_type": "code",
   "execution_count": null,
   "metadata": {},
   "outputs": [],
   "source": [
    "npts = 10\n",
    "r = elastic_rods.ElasticRod(np.linspace([0, 0, 0], [5, 0, 0], npts))\n",
    "r.setMaterial(elastic_rods.RodMaterial('ellipse', 2000, 0.3, [0.1, 0.05]))\n",
    "view = Viewer(r)\n",
    "view.show()"
   ]
  },
  {
   "cell_type": "markdown",
   "metadata": {},
   "source": [
    "This codebase implements two variants of the bending energy:\n",
    "the version presented in the discrete viscous threads paper (Bergou2010) which\n",
    "non-physically averages the two incident edges' material frames to compute the\n",
    "material curvatures at a vertex, and a more physically meaningful version in the\n",
    "spirit of the original discrete elastic rods paper (Bergou2008) that averages\n",
    "the bending energies resulting from the two distinct material frames.\n",
    "The bending energy implementation can be chosen as follows:"
   ]
  },
  {
   "cell_type": "code",
   "execution_count": null,
   "metadata": {},
   "outputs": [],
   "source": [
    "# r.bendingEnergyType = elastic_rods.BendingEnergyType.Bergou2010\n",
    "r.bendingEnergyType = elastic_rods.BendingEnergyType.Bergou2008"
   ]
  },
  {
   "cell_type": "code",
   "execution_count": null,
   "metadata": {},
   "outputs": [],
   "source": [
    "# Perturb the rod into a general configuration\n",
    "r.setDeformedConfiguration([[5 * t, np.cos(2 * np.pi * t), 0] for t in np.linspace(0, 1, npts)], np.pi / 4 * random(-1, 1, r.numEdges()))\n",
    "r.setDoFs(r.getDoFs() + 1e-1 * random(-1, 1, size=r.numDoF()))\n",
    "view.update()"
   ]
  },
  {
   "cell_type": "markdown",
   "metadata": {},
   "source": [
    "Run the finite difference validation: we pick a random direction in the rod's configuration space and test whether the finite difference approximation to the directional derivative converges to the directional derivative computed using the analytical gradient. We note a perfect second order convergence in these plots (until numerical cancellation kicks in), indicating that the analytical gradients and Hessians are accurate."
   ]
  },
  {
   "cell_type": "code",
   "execution_count": null,
   "metadata": {},
   "outputs": [],
   "source": [
    "import finite_diff\n",
    "finite_diff.gradient_convergence_plot(r)"
   ]
  },
  {
   "cell_type": "code",
   "execution_count": null,
   "metadata": {},
   "outputs": [],
   "source": [
    "r.updateSourceFrame() # Hessian formulas are only accurate with an up-to-date source frame\n",
    "finite_diff.hessian_convergence_plot(r)"
   ]
  },
  {
   "cell_type": "code",
   "execution_count": null,
   "metadata": {},
   "outputs": [],
   "source": [
    "# Display the discrepancy of finite differences of the \"infinitesimal transport\" (post-update) gradient\n",
    "r.updateSourceFrame() # Hessian formulas are only accurate with an up-to-date source frame\n",
    "finite_diff.hessian_convergence_plot(r, infinitesimalTransportGradient=True)"
   ]
  }
 ],
 "metadata": {
  "kernelspec": {
   "display_name": "Python 3",
   "language": "python",
   "name": "python3"
  },
  "language_info": {
   "codemirror_mode": {
    "name": "ipython",
    "version": 3
   },
   "file_extension": ".py",
   "mimetype": "text/x-python",
   "name": "python",
   "nbconvert_exporter": "python",
   "pygments_lexer": "ipython3",
   "version": "3.7.5"
  }
 },
 "nbformat": 4,
 "nbformat_minor": 4
}
