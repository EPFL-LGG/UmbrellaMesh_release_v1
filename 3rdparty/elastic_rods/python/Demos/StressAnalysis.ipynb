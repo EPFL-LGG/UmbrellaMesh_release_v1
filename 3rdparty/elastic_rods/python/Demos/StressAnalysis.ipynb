{
 "cells": [
  {
   "cell_type": "markdown",
   "metadata": {},
   "source": [
    "## DER Stress Analysis\n",
    "Validate our DER stress analysis formulas by comparing stresses against a traditional tetrahedral FEM simulation.\n",
    "We compare in pure bending, pure twisting, pure stretching, and twisting + stretching\n",
    "(Unfortunately, combinations of bending and twisting/stretching are tricky to impose in the volumetric case.)"
   ]
  },
  {
   "cell_type": "code",
   "execution_count": null,
   "metadata": {},
   "outputs": [],
   "source": [
    "import sys\n",
    "sys.path.append('..')\n",
    "import elastic_rods\n",
    "import numpy as np\n",
    "from typing import NamedTuple\n",
    "from bending_validation import suppress_stdout as so\n",
    "from tri_mesh_viewer import TriMeshViewer"
   ]
  },
  {
   "cell_type": "code",
   "execution_count": null,
   "metadata": {},
   "outputs": [],
   "source": [
    "rodWidth = 520\n",
    "npts = 199\n",
    "midpt = (npts + 1) // 2\n",
    "thetaOffset = 3 * npts"
   ]
  },
  {
   "cell_type": "code",
   "execution_count": null,
   "metadata": {},
   "outputs": [],
   "source": [
    "# Note: the ellipse cross-section used to construct the tetrahedral mesh below has only 20 subdivisons\n",
    "# (determined by the \"visualization resolution\" of `CrossSections::Ellipse`).\n",
    "# This introduces significant discretization error, making the energy *lower* and\n",
    "# the stress *higher* than the true values!"
   ]
  },
  {
   "cell_type": "code",
   "execution_count": null,
   "metadata": {},
   "outputs": [],
   "source": [
    "pts = np.pad(np.linspace(-rodWidth / 2, rodWidth / 2, npts)[:,np.newaxis], [(0, 0), (0, 2)], mode='constant')\n",
    "r = elastic_rods.ElasticRod(pts)\n",
    "mat = elastic_rods.RodMaterial('rectangle', 2000, 0.3, [12, 8], stiffAxis=elastic_rods.StiffAxis.D2, keepCrossSectionMesh=True)\n",
    "r.setMaterial(mat)"
   ]
  },
  {
   "cell_type": "code",
   "execution_count": null,
   "metadata": {},
   "outputs": [],
   "source": [
    "import meshing, mesh"
   ]
  },
  {
   "cell_type": "code",
   "execution_count": null,
   "metadata": {},
   "outputs": [],
   "source": [
    "V, _ = mat.crossSection().boundary(False)\n",
    "V.append(V[0])\n",
    "R = np.array([[0, -1], [1, 0]])\n",
    "V = [np.array(V) @ R.T]\n",
    "\n",
    "V, T = meshing.tetrahedralize_extruded_polylines(V, [], 520, 10)\n",
    "R = np.array([[0, 0, 1], [1, 0, 0], [0, 1, 0]])\n",
    "m = mesh.Mesh(V @ R.T, T, degree=2)"
   ]
  },
  {
   "cell_type": "code",
   "execution_count": null,
   "metadata": {},
   "outputs": [],
   "source": [
    "import elastic_solid, energy, loads\n",
    "import field_sampler"
   ]
  },
  {
   "cell_type": "code",
   "execution_count": null,
   "metadata": {},
   "outputs": [],
   "source": [
    "es = elastic_solid.ElasticSolid(m, energy.CorotatedIsotropicLinearElastic(3, 2000, 0.3))"
   ]
  },
  {
   "cell_type": "code",
   "execution_count": null,
   "metadata": {},
   "outputs": [],
   "source": [
    "v_es = TriMeshViewer(es)\n",
    "v_es.show()"
   ]
  },
  {
   "cell_type": "code",
   "execution_count": null,
   "metadata": {},
   "outputs": [],
   "source": [
    "v_es.showWireframe(False)"
   ]
  },
  {
   "cell_type": "code",
   "execution_count": null,
   "metadata": {},
   "outputs": [],
   "source": [
    "import scipy.spatial"
   ]
  },
  {
   "cell_type": "code",
   "execution_count": null,
   "metadata": {},
   "outputs": [],
   "source": [
    "twistAngle = np.pi / 4\n",
    "x_strain = 0.01\n",
    "test = 'bend'\n",
    "test = 'twist'\n",
    "test = 'stretch'\n",
    "test = 'stretchtwist'"
   ]
  },
  {
   "cell_type": "code",
   "execution_count": null,
   "metadata": {},
   "outputs": [],
   "source": [
    "import scipy, sparse_matrices\n",
    "def getAverageEndcapPosMap(xval):\n",
    "    N = m.nodes()\n",
    "    beVols = m.boundaryElementVolumes()\n",
    "    weights = np.zeros((3 * m.numNodes(), 3))\n",
    "    totalWeight = 0\n",
    "    intBdryPhi = m.integratedBoundaryShapeFunctions()\n",
    "    for bei, be in enumerate(m.boundaryElementNodes()):\n",
    "        if np.any(np.abs(N[be, 0] - xval) > 1e-10): continue\n",
    "        weights[3 * be + 0, 0] += beVols[bei] * intBdryPhi\n",
    "        weights[3 * be + 1, 1] += beVols[bei] * intBdryPhi\n",
    "        weights[3 * be + 2, 2] += beVols[bei] * intBdryPhi\n",
    "        totalWeight += beVols[bei]\n",
    "    if totalWeight != 0: weights /= totalWeight\n",
    "\n",
    "    dsm_scipy = scipy.sparse.csc_matrix(weights.transpose())\n",
    "    dsm = sparse_matrices.SuiteSparseMatrix()\n",
    "    dsm.m, dsm.n = dsm_scipy.shape\n",
    "    dsm.Ap = dsm_scipy.indptr\n",
    "    dsm.Ai = dsm_scipy.indices\n",
    "    dsm.Ax = dsm_scipy.data\n",
    "    dsm.nz = len(dsm_scipy.data)\n",
    "    return dsm"
   ]
  },
  {
   "cell_type": "code",
   "execution_count": null,
   "metadata": {},
   "outputs": [],
   "source": [
    "import py_newton_optimizer\n",
    "opts = py_newton_optimizer.NewtonOptimizerOptions()\n",
    "opts.gradTol = 1e-7\n",
    "\n",
    "k = 160000\n",
    "l = []\n",
    "if (test == 'bend'):\n",
    "    dsm = es.deformationSamplerMatrix([[-260, 0, 0], [0, 0, 0], [260, 0, 0]])\n",
    "    s = loads.Springs(es, dsm, [0,  10, 0,\n",
    "                                0, -10, 0,\n",
    "                                0,  10, 0], stiffnesses=k * np.array([0, 1, 0, 1, 1, 1, 0, 1, 1]))\n",
    "    l = [s]\n",
    "if ('twist' in test):\n",
    "    leftEndCapNodes = m.nodes()[(np.abs(m.nodes()[:, 0] - -260) < 1e-8)]\n",
    "    rightEndCapNodes = m.nodes()[(np.abs(m.nodes()[:, 0] - 260) < 1e-8)]\n",
    "    twistedRightEndcapNodes = rightEndCapNodes @ scipy.spatial.transform.Rotation.from_rotvec([twistAngle, 0, 0]).as_matrix().T\n",
    "    restPts = np.vstack(([[-260, 0, 0]], leftEndCapNodes, rightEndCapNodes))\n",
    "    defoPts = np.vstack(([[-260, 0, 0]], leftEndCapNodes, twistedRightEndcapNodes))\n",
    "    stiffnesses = k * np.ones_like(defoPts)\n",
    "    stiffnesses[1:, 0] = 0 # Remove all \"x\" springs but the first (needed to remove rigid motion)\n",
    "    if ('stretch' in test): stiffnesses[0, 0] = 0 # Stretching applies different pins to the x coordinates, so remove that spring too...\n",
    "    dsm = es.deformationSamplerMatrix(restPts)\n",
    "    s = loads.Springs(es, dsm, defoPts.ravel(), stiffnesses.ravel())\n",
    "    l = [s]\n",
    "if ('stretch' in test):\n",
    "    s1 = loads.Springs(es, getAverageEndcapPosMap(-260), [-260 * (1 + x_strain), 0, 0], [k, k, k])\n",
    "    s2 = loads.Springs(es, getAverageEndcapPosMap( 260), [ 260 * (1 + x_strain), 0, 0], [k, k, k])\n",
    "    l += [s1, s2]\n",
    "es.computeEquilibrium(l, opts=opts)\n",
    "v_es.update()"
   ]
  },
  {
   "cell_type": "code",
   "execution_count": null,
   "metadata": {},
   "outputs": [],
   "source": [
    "ST = elastic_rods.CrossSectionStressAnalysis.StressType\n",
    "st = ST.MaxPrincipal"
   ]
  },
  {
   "cell_type": "code",
   "execution_count": null,
   "metadata": {},
   "outputs": [],
   "source": [
    "def deviatoricPart(sigma):\n",
    "    return sigma - np.trace(sigma) / 3 * np.identity(3)\n",
    "def stressMeasure(sigma): \n",
    "    lambdas = np.sort(np.linalg.eigvalsh(sigma))\n",
    "    if (st == ST.MaxMag):       return lambdas[0] if abs(lambdas[0]) > abs(lambdas[2]) else lambdas[2]\n",
    "    if (st == ST.MaxPrincipal): return lambdas[2]\n",
    "    if (st == ST.MinPrincipal): return lambdas[0]\n",
    "    if (st == ST.VonMises):     return np.linalg.norm(np.sqrt(3/2) * deviatoricPart(sigma).ravel())\n",
    "\n",
    "stressMeasures = np.array([stressMeasure(sigma) for sigma in es.vertexCauchyStresses()])\n",
    "v_es.update(scalarField=stressMeasures)"
   ]
  },
  {
   "cell_type": "code",
   "execution_count": null,
   "metadata": {},
   "outputs": [],
   "source": [
    "rigidMotionVars  = [3 * midpt, 3 * midpt + 2] # pin x and z translation\n",
    "rigidMotionVars += [2]                        # pin rotation around y axis (z comp. of arbitrary vtx)\n",
    "rigidMotionVars += [thetaOffset]              # pin rotation around x axis"
   ]
  },
  {
   "cell_type": "code",
   "execution_count": null,
   "metadata": {},
   "outputs": [],
   "source": [
    "x = r.getDoFs()\n",
    "dirichletVars = []\n",
    "if (test=='bend'):\n",
    "    dirichletVars = [1, 3 * midpt + 1, 3 * (npts - 1) + 1, len(x) - 1]\n",
    "    x[dirichletVars] = [10, -10, 10, 0.0]\n",
    "if ('twist' in test):\n",
    "    dirichletVars = [1, len(x) - 1]\n",
    "    x[dirichletVars] = [0, twistAngle]\n",
    "if ('stretch' in test):\n",
    "    rigidMotionVars = rigidMotionVars[1:]\n",
    "    dirichletVars += [0, 3 * (npts - 1)]\n",
    "    x[0]              = (1 + x_strain) * -260\n",
    "    x[3 * (npts - 1)] = (1 + x_strain) *  260\n",
    "r.setDoFs(x)\n",
    "fixedVars = rigidMotionVars + dirichletVars"
   ]
  },
  {
   "cell_type": "code",
   "execution_count": null,
   "metadata": {},
   "outputs": [],
   "source": [
    "import py_newton_optimizer\n",
    "opts = py_newton_optimizer.NewtonOptimizerOptions()\n",
    "opts.niter = 1000\n",
    "opts.useIdentityMetric = False\n",
    "opts.useNegativeCurvatureDirection = True\n",
    "opts.gradTol = 1e-4\n",
    "opts.verbose = 0\n",
    "forces = []\n",
    "elastic_rods.compute_equilibrium(r, fixedVars=fixedVars, options=opts);"
   ]
  },
  {
   "cell_type": "code",
   "execution_count": null,
   "metadata": {},
   "outputs": [],
   "source": [
    "es.energy(), r.energy()"
   ]
  },
  {
   "cell_type": "code",
   "execution_count": null,
   "metadata": {},
   "outputs": [],
   "source": [
    "np.abs(stressMeasures).max(), r.maxStresses(st).max()"
   ]
  },
  {
   "cell_type": "code",
   "execution_count": null,
   "metadata": {},
   "outputs": [],
   "source": [
    "p = 26\n",
    "r.surfaceStressLpNorm(ST.VonMises, p), es.surfaceStressLpNorm(p)"
   ]
  },
  {
   "cell_type": "code",
   "execution_count": null,
   "metadata": {},
   "outputs": [],
   "source": [
    "from matplotlib import pyplot as plt"
   ]
  },
  {
   "cell_type": "markdown",
   "metadata": {},
   "source": [
    "# Stress Visualization"
   ]
  },
  {
   "cell_type": "code",
   "execution_count": null,
   "metadata": {},
   "outputs": [],
   "source": [
    "from tri_mesh_viewer import TriMeshViewer\n",
    "vmv = r.stressVisualization(True, True, ST.VonMises)\n",
    "v = TriMeshViewer(vmv[0], scalarField=vmv[1].ravel())\n",
    "v.show()"
   ]
  }
 ],
 "metadata": {
  "kernelspec": {
   "display_name": "Python 3",
   "language": "python",
   "name": "python3"
  },
  "language_info": {
   "codemirror_mode": {
    "name": "ipython",
    "version": 3
   },
   "file_extension": ".py",
   "mimetype": "text/x-python",
   "name": "python",
   "nbconvert_exporter": "python",
   "pygments_lexer": "ipython3",
   "version": "3.9.9"
  }
 },
 "nbformat": 4,
 "nbformat_minor": 4
}
