{
 "cells": [
  {
   "cell_type": "code",
   "execution_count": null,
   "metadata": {},
   "outputs": [],
   "source": [
    "import sys; sys.path.append('..')\n",
    "import numpy as np, elastic_rods, linkage_vis\n",
    "from bending_validation import suppress_stdout as so\n",
    "from elastic_rods import EnergyType, InterleavingType"
   ]
  },
  {
   "cell_type": "markdown",
   "metadata": {},
   "source": [
    "### Writing the topology"
   ]
  },
  {
   "cell_type": "code",
   "execution_count": null,
   "metadata": {},
   "outputs": [],
   "source": [
    "vertices = []\n",
    "edges = []\n",
    "for i in range(10):\n",
    "    for j in range(4):\n",
    "        theta = np.pi / 2 * j\n",
    "        vertices.append([np.cos(theta), np.sin(theta), i])\n",
    "        vertices.append([np.cos(theta + np.pi / 4), np.sin(theta + np.pi / 4), i + 0.5])\n",
    "        edges.append([i * 8 + j*2, i * 8 + j*2 + 1])\n",
    "        edges.append([i * 8 + j*2, i * 8 + (j*2 - 1)%8])\n",
    "        if i != 9:\n",
    "            edges.append([i * 8 + j*2 + 1, i * 8 + j*2 + 8])\n",
    "            edges.append([i * 8 + (j*2 - 1)%8, i * 8 + j*2 + 8])"
   ]
  },
  {
   "cell_type": "code",
   "execution_count": null,
   "metadata": {},
   "outputs": [],
   "source": [
    "with open('cylinder.obj', 'w') as f:\n",
    "    for vx in vertices:\n",
    "        f.write('v {} {} {}\\n'.format(vx[0], vx[1], vx[2]))\n",
    "    for e in edges:\n",
    "        f.write('l {} {}\\n'.format(e[0] + 1, e[1] + 1))"
   ]
  },
  {
   "cell_type": "markdown",
   "metadata": {},
   "source": [
    "### Initialize the linkage and compute equilibrium"
   ]
  },
  {
   "cell_type": "code",
   "execution_count": null,
   "metadata": {},
   "outputs": [],
   "source": [
    "l = elastic_rods.RodLinkage('cylinder.obj', 8, rod_interleaving_type = InterleavingType.xshell)\n",
    "driver=l.centralJoint()\n",
    "l.setMaterial(elastic_rods.RodMaterial('rectangle', 20000, 0.3, [0.1,0.01]))\n",
    "\n",
    "# Removing the rest curvatures from initialization so the beams are straight at rest state.\n",
    "for i in range(l.numSegments()):\n",
    "    r = l.segment(i).rod\n",
    "    r.setRestKappas(np.zeros_like(r.restKappas()))\n",
    "\n",
    "jdo = l.dofOffsetForJoint(driver)\n",
    "fixedVars = list(range(jdo, jdo + 6)) # fix rigid motion for a single joint\n",
    "with so(): elastic_rods.compute_equilibrium(l, fixedVars=fixedVars)\n",
    "view = linkage_vis.LinkageViewer(l, width=1024, height=640)\n",
    "view.setCameraParams(((2.3969, -1.1451, -0.5262), (0.0765, 0.0848, -0.9935), (0.1111, 0.1865, 0.5316)))\n",
    "view.show()"
   ]
  },
  {
   "cell_type": "code",
   "execution_count": null,
   "metadata": {},
   "outputs": [],
   "source": [
    "view.averagedMaterialFrames = True\n",
    "view.averagedCrossSections = True"
   ]
  },
  {
   "cell_type": "markdown",
   "metadata": {},
   "source": [
    "### Deploy the linkage"
   ]
  },
  {
   "cell_type": "code",
   "execution_count": null,
   "metadata": {},
   "outputs": [],
   "source": [
    "from open_linkage import open_linkage\n",
    "def equilibriumSolver(tgtAngle, l, opts, fv):\n",
    "    opts.gradTol = 1e-4\n",
    "    return elastic_rods.compute_equilibrium(l, tgtAngle, options=opts, fixedVars=fv)\n",
    "with so(): open_linkage(l, driver, np.deg2rad(93) - l.averageJointAngle, 40, view, equilibriumSolver=equilibriumSolver, maxNewtonIterationsIntermediate=20, useTargetAngleConstraint=True);"
   ]
  },
  {
   "cell_type": "markdown",
   "metadata": {},
   "source": [
    "### Render a high res image"
   ]
  },
  {
   "cell_type": "code",
   "execution_count": null,
   "metadata": {},
   "outputs": [],
   "source": [
    "orender = view.offscreenRenderer(width=4096, height=2560)\n",
    "orender.render()\n",
    "orender.image()"
   ]
  },
  {
   "cell_type": "code",
   "execution_count": null,
   "metadata": {},
   "outputs": [],
   "source": [
    "orender.save('cylinder.png')"
   ]
  }
 ],
 "metadata": {
  "kernelspec": {
   "display_name": "Python 3",
   "language": "python",
   "name": "python3"
  },
  "language_info": {
   "codemirror_mode": {
    "name": "ipython",
    "version": 3
   },
   "file_extension": ".py",
   "mimetype": "text/x-python",
   "name": "python",
   "nbconvert_exporter": "python",
   "pygments_lexer": "ipython3",
   "version": "3.9.4"
  }
 },
 "nbformat": 4,
 "nbformat_minor": 4
}
