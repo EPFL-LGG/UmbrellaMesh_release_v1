{
 "cells": [
  {
   "cell_type": "code",
   "execution_count": 1,
   "metadata": {},
   "outputs": [],
   "source": [
    "import numpy as np\n",
    "from numpy.linalg import norm, inv\n",
    "\n",
    "import matplotlib\n",
    "import matplotlib.pyplot as plt\n",
    "from matplotlib.collections import LineCollection\n",
    "from matplotlib import colors as mcolors\n",
    "\n",
    "from ipywidgets import interact, interactive, fixed, interact_manual\n",
    "import ipywidgets as widgets\n",
    "\n",
    "def rotation(theta):\n",
    "    c, s = np.cos(theta), np.sin(theta)\n",
    "    return np.matrix([[c, -s],[s, c]])\n",
    "\n",
    "# Find the intersection of two lines specified by points and directions\n",
    "def intersection(p1, d1, p2, d2):\n",
    "    tvals = inv(np.column_stack([d1, -d2])) @ (p2 - p1)\n",
    "    return p1 + tvals.flat[0] * d1\n",
    "\n",
    "def generate_patch(n, dx, dy, theta_1, theta_2, alpha):\n",
    "    # First, generate the set of points and directions defining\n",
    "    # each rod in the network. These are divided into \"horizontal\"\n",
    "    # and \"vertical\" lines.\n",
    "    hpoints, vpoints, hdirections, vdirections = [], [], [], []\n",
    "    offset = -(n - 1)/2\n",
    "    hA = rotation(alpha)\n",
    "    for i in range(n):\n",
    "        hpoints.append(np.matrix([[0], [(i + offset) * dy]]))\n",
    "        vpoints.append(np.matrix([[(i + offset) * dx], [0]]))\n",
    "        hR = rotation(theta_1 * (i + offset));\n",
    "        vR = rotation(theta_2 * (i + offset));\n",
    "        hdirections.append(hA * hR * np.matrix([[1], [0]]))\n",
    "        vdirections.append(vR * np.matrix([[0], [1]]))\n",
    "    outVertices = np.zeros((n * n, 3))\n",
    "    outEdges = np.zeros((2 * (n - 1) * n, 2), dtype=int)\n",
    "    ne = 0\n",
    "    def addEdge(e):\n",
    "        nonlocal ne\n",
    "        outEdges[ne, :] = np.array(e)\n",
    "        ne = ne + 1\n",
    "    for i in range(n):\n",
    "        for j in range(n):\n",
    "            outVertices[i * n + j, 0:2] = intersection(hpoints[i], hdirections[i], vpoints[j], vdirections[j]).flat\n",
    "            if (i + 1 < n): addEdge([(n * i + j, n * (i + 1) + j)])\n",
    "            if (j + 1 < n): addEdge([(n * i + j, n * i + j + 1)])\n",
    "    return (outVertices, outEdges)"
   ]
  },
  {
   "cell_type": "code",
   "execution_count": 2,
   "metadata": {},
   "outputs": [],
   "source": [
    "graph = None\n",
    "def patch_view(n, dx, dy, theta_1, theta_2, alpha):\n",
    "    global graph\n",
    "    graph = generate_patch(n, dx, dy, theta_1, theta_2, alpha)\n",
    "    fig, ax = plt.subplots()\n",
    "    ax.set_xlim(-3, 3)\n",
    "    ax.set_ylim(-3, 3)\n",
    "\n",
    "    lines = [[graph[0][i, 0:2] for i in e] for e in graph[1]]\n",
    "\n",
    "    lc = LineCollection(lines, linewidths=2)\n",
    "    ax.add_collection(lc)\n",
    "    plt.show()"
   ]
  },
  {
   "cell_type": "code",
   "execution_count": 3,
   "metadata": {},
   "outputs": [
    {
     "data": {
      "application/vnd.jupyter.widget-view+json": {
       "model_id": "14e3c85f8095452e840e754ff27a750e",
       "version_major": 2,
       "version_minor": 0
      },
      "text/plain": [
       "interactive(children=(IntSlider(value=4, description='n', max=10, min=3), FloatSlider(value=0.44, description=…"
      ]
     },
     "metadata": {},
     "output_type": "display_data"
    }
   ],
   "source": [
    "interactive_plt = interactive(patch_view, n=widgets.IntSlider(min=3,max=10,step=1,value=4),\n",
    "                    dx=widgets.FloatSlider(min=0, max=2, value=0.44),\n",
    "                    dy=widgets.FloatSlider(min=0, max=2, value=0.44),\n",
    "               theta_1=widgets.FloatSlider(min=-np.pi/4, max=np.pi/4, value=0.11),\n",
    "               theta_2=widgets.FloatSlider(min=-np.pi/4, max=np.pi/4, value=0.11),\n",
    "                 alpha=widgets.FloatSlider(min=-np.pi/2, max=np.pi/2, value=0.9))\n",
    "interactive_plt.children[-1].layout.height = '250px'\n",
    "interactive_plt"
   ]
  },
  {
   "cell_type": "code",
   "execution_count": 89,
   "metadata": {},
   "outputs": [
    {
     "data": {
      "application/vnd.jupyter.widget-view+json": {
       "model_id": "ba80df7722514bc3a0be5dd4584cb811",
       "version_major": 2,
       "version_minor": 0
      },
      "text/plain": [
       "Renderer(camera=PerspectiveCamera(children=(DirectionalLight(color='white', intensity=0.6, position=(3.0, 5.0,…"
      ]
     },
     "metadata": {},
     "output_type": "display_data"
    }
   ],
   "source": [
    "import elastic_rods\n",
    "from linkage_vis import LinkageViewer\n",
    "l = elastic_rods.RodLinkage(graph[0], graph[1], subdivision=10)\n",
    "mat = elastic_rods.RodMaterial('+', 20000, 0.3, [0.05, 0.05, 0.001, 0.001])\n",
    "l.setMaterial(mat)\n",
    "view = LinkageViewer(l)\n",
    "view.show()"
   ]
  },
  {
   "cell_type": "code",
   "execution_count": 85,
   "metadata": {},
   "outputs": [
    {
     "ename": "NameError",
     "evalue": "name 'linkage' is not defined",
     "output_type": "error",
     "traceback": [
      "\u001b[0;31m---------------------------------------------------------------------------\u001b[0m",
      "\u001b[0;31mNameError\u001b[0m                                 Traceback (most recent call last)",
      "\u001b[0;32m<ipython-input-85-6309145d4fec>\u001b[0m in \u001b[0;36m<module>\u001b[0;34m()\u001b[0m\n\u001b[1;32m      1\u001b[0m \u001b[0ml\u001b[0m\u001b[0;34m.\u001b[0m\u001b[0mset\u001b[0m\u001b[0;34m(\u001b[0m\u001b[0mgraph\u001b[0m\u001b[0;34m[\u001b[0m\u001b[0;36m0\u001b[0m\u001b[0;34m]\u001b[0m\u001b[0;34m,\u001b[0m \u001b[0mgraph\u001b[0m\u001b[0;34m[\u001b[0m\u001b[0;36m1\u001b[0m\u001b[0;34m]\u001b[0m\u001b[0;34m,\u001b[0m \u001b[0msubdivision\u001b[0m\u001b[0;34m=\u001b[0m\u001b[0;36m10\u001b[0m\u001b[0;34m)\u001b[0m\u001b[0;34m\u001b[0m\u001b[0m\n\u001b[1;32m      2\u001b[0m \u001b[0mview\u001b[0m\u001b[0;34m.\u001b[0m\u001b[0mupdate\u001b[0m\u001b[0;34m(\u001b[0m\u001b[0;32mFalse\u001b[0m\u001b[0;34m)\u001b[0m\u001b[0;34m\u001b[0m\u001b[0m\n\u001b[0;32m----> 3\u001b[0;31m \u001b[0mview\u001b[0m\u001b[0;34m.\u001b[0m\u001b[0mshowLabels\u001b[0m\u001b[0;34m(\u001b[0m\u001b[0;32mTrue\u001b[0m\u001b[0;34m)\u001b[0m\u001b[0;34m\u001b[0m\u001b[0m\n\u001b[0m",
      "\u001b[0;32m~/Research/ElasticRods/python/linkage_vis.py\u001b[0m in \u001b[0;36mshowLabels\u001b[0;34m(self, shouldShow)\u001b[0m\n\u001b[1;32m     95\u001b[0m         \u001b[0;32mif\u001b[0m \u001b[0;34m(\u001b[0m\u001b[0mself\u001b[0m\u001b[0;34m.\u001b[0m\u001b[0mlabels\u001b[0m \u001b[0;34m==\u001b[0m \u001b[0;32mNone\u001b[0m\u001b[0;34m)\u001b[0m\u001b[0;34m:\u001b[0m\u001b[0;34m\u001b[0m\u001b[0m\n\u001b[1;32m     96\u001b[0m             \u001b[0mself\u001b[0m\u001b[0;34m.\u001b[0m\u001b[0mlabels\u001b[0m \u001b[0;34m=\u001b[0m \u001b[0mpythreejs\u001b[0m\u001b[0;34m.\u001b[0m\u001b[0mGroup\u001b[0m\u001b[0;34m(\u001b[0m\u001b[0;34m)\u001b[0m\u001b[0;34m\u001b[0m\u001b[0m\n\u001b[0;32m---> 97\u001b[0;31m             \u001b[0mself\u001b[0m\u001b[0;34m.\u001b[0m\u001b[0mupdateLabels\u001b[0m\u001b[0;34m(\u001b[0m\u001b[0;34m)\u001b[0m\u001b[0;34m\u001b[0m\u001b[0m\n\u001b[0m\u001b[1;32m     98\u001b[0m \u001b[0;34m\u001b[0m\u001b[0m\n\u001b[1;32m     99\u001b[0m         \u001b[0;32mif\u001b[0m \u001b[0;34m(\u001b[0m\u001b[0mself\u001b[0m\u001b[0;34m.\u001b[0m\u001b[0mlabels\u001b[0m \u001b[0;32mnot\u001b[0m \u001b[0;32min\u001b[0m \u001b[0mself\u001b[0m\u001b[0;34m.\u001b[0m\u001b[0mobjects\u001b[0m\u001b[0;34m.\u001b[0m\u001b[0mchildren\u001b[0m\u001b[0;34m)\u001b[0m\u001b[0;34m:\u001b[0m\u001b[0;34m\u001b[0m\u001b[0m\n",
      "\u001b[0;32m~/Research/ElasticRods/python/linkage_vis.py\u001b[0m in \u001b[0;36mupdateLabels\u001b[0;34m(self)\u001b[0m\n\u001b[1;32m     80\u001b[0m         \u001b[0;32mif\u001b[0m \u001b[0;34m(\u001b[0m\u001b[0mself\u001b[0m\u001b[0;34m.\u001b[0m\u001b[0mlabels\u001b[0m \u001b[0;34m==\u001b[0m \u001b[0;32mNone\u001b[0m\u001b[0;34m)\u001b[0m\u001b[0;34m:\u001b[0m \u001b[0;32mreturn\u001b[0m\u001b[0;34m\u001b[0m\u001b[0m\n\u001b[1;32m     81\u001b[0m         \u001b[0;31m# Base the label size on the linkage's average rod segment rest length\u001b[0m\u001b[0;34m\u001b[0m\u001b[0;34m\u001b[0m\u001b[0m\n\u001b[0;32m---> 82\u001b[0;31m         \u001b[0mself\u001b[0m\u001b[0;34m.\u001b[0m\u001b[0mlabelSize\u001b[0m \u001b[0;34m=\u001b[0m \u001b[0;36m0.1\u001b[0m \u001b[0;34m*\u001b[0m \u001b[0mnp\u001b[0m\u001b[0;34m.\u001b[0m\u001b[0mmean\u001b[0m\u001b[0;34m(\u001b[0m\u001b[0;34m[\u001b[0m\u001b[0ms\u001b[0m\u001b[0;34m.\u001b[0m\u001b[0mrod\u001b[0m\u001b[0;34m.\u001b[0m\u001b[0mrestLength\u001b[0m\u001b[0;34m(\u001b[0m\u001b[0;34m)\u001b[0m \u001b[0;32mfor\u001b[0m \u001b[0ms\u001b[0m \u001b[0;32min\u001b[0m \u001b[0mlinkage\u001b[0m\u001b[0;34m.\u001b[0m\u001b[0msegments\u001b[0m\u001b[0;34m(\u001b[0m\u001b[0;34m)\u001b[0m\u001b[0;34m]\u001b[0m\u001b[0;34m)\u001b[0m\u001b[0;34m\u001b[0m\u001b[0m\n\u001b[0m\u001b[1;32m     83\u001b[0m         \u001b[0;31m# Distance to offset the labels from the linkage geometry (in units of self.labelSize)\u001b[0m\u001b[0;34m\u001b[0m\u001b[0;34m\u001b[0m\u001b[0m\n\u001b[1;32m     84\u001b[0m         \u001b[0mself\u001b[0m\u001b[0;34m.\u001b[0m\u001b[0mlabelOffset\u001b[0m \u001b[0;34m=\u001b[0m \u001b[0mlabelOffset\u001b[0m\u001b[0;34m;\u001b[0m\u001b[0;34m\u001b[0m\u001b[0m\n",
      "\u001b[0;31mNameError\u001b[0m: name 'linkage' is not defined"
     ]
    }
   ],
   "source": [
    "l.set(graph[0], graph[1], subdivision=10)\n",
    "view.update(False)\n",
    "view.showLabels(True)"
   ]
  },
  {
   "cell_type": "code",
   "execution_count": 10,
   "metadata": {},
   "outputs": [],
   "source": [
    "j = l.joint(9)\n",
    "j.setConstrained(True)"
   ]
  },
  {
   "cell_type": "code",
   "execution_count": 11,
   "metadata": {},
   "outputs": [
    {
     "ename": "NameError",
     "evalue": "name 'open_linkage' is not defined",
     "output_type": "error",
     "traceback": [
      "\u001b[0;31m---------------------------------------------------------------------------\u001b[0m",
      "\u001b[0;31mNameError\u001b[0m                                 Traceback (most recent call last)",
      "\u001b[0;32m<ipython-input-11-dbe52c9fb12d>\u001b[0m in \u001b[0;36m<module>\u001b[0;34m()\u001b[0m\n\u001b[0;32m----> 1\u001b[0;31m \u001b[0mopen_linkage\u001b[0m\u001b[0;34m.\u001b[0m\u001b[0mperturb_joints\u001b[0m\u001b[0;34m(\u001b[0m\u001b[0ml\u001b[0m\u001b[0;34m,\u001b[0m \u001b[0;36m1e-2\u001b[0m\u001b[0;34m)\u001b[0m\u001b[0;34m\u001b[0m\u001b[0m\n\u001b[0m\u001b[1;32m      2\u001b[0m \u001b[0mview\u001b[0m\u001b[0;34m.\u001b[0m\u001b[0mupdate\u001b[0m\u001b[0;34m(\u001b[0m\u001b[0;32mFalse\u001b[0m\u001b[0;34m)\u001b[0m\u001b[0;34m\u001b[0m\u001b[0m\n",
      "\u001b[0;31mNameError\u001b[0m: name 'open_linkage' is not defined"
     ]
    }
   ],
   "source": [
    "open_linkage.perturb_joints(l, 1e-2)\n",
    "view.update(False)"
   ]
  },
  {
   "cell_type": "code",
   "execution_count": 84,
   "metadata": {},
   "outputs": [
    {
     "name": "stdout",
     "output_type": "stream",
     "text": [
      "0\t0.0304289\t1.70953\n",
      "1\t4.73166e-06\t0.00572187\t1\n",
      "2\t7.86108e-07\t0.0012661\t1\n",
      "3\t7.72068e-07\t0.000867228\t1\n",
      "4\t6.39156e-07\t0.000128068\t1\n",
      "5\t6.38056e-07\t0.000389137\t0.25\n",
      "6\t5.95671e-07\t0.000154652\t1\n",
      "7\t5.84208e-07\t0.000178845\t0.25\n",
      "8\t5.63396e-07\t0.000189048\t1\n",
      "9\t5.44908e-07\t0.000161583\t1\n",
      "10\t5.29888e-07\t0.000197016\t1\n",
      "11\t5.15358e-07\t0.000153906\t1\n",
      "12\t5.06628e-07\t0.000156006\t0.5\n",
      "13\t4.94709e-07\t0.000118435\t1\n",
      "14\t4.88561e-07\t0.000227189\t1\n",
      "15\t4.76269e-07\t0.0001163\t1\n",
      "16\t4.7526e-07\t0.000231063\t0.5\n",
      "17\t4.62597e-07\t5.08638e-05\t1\n",
      "18\t4.59605e-07\t9.80884e-05\t0.25\n",
      "19\t4.5466e-07\t0.000112313\t1\n",
      "20\t4.50811e-07\t0.000127544\t1\n",
      "21\t4.47257e-07\t9.46769e-05\t0.5\n",
      "22\t4.43501e-07\t4.24202e-05\t1\n",
      "23\t4.42414e-07\t0.000150329\t1\n",
      "24\t4.38296e-07\t1.07458e-05\t1\n",
      "25\t4.37037e-07\t4.31549e-05\t0.25\n",
      "26\t4.35753e-07\t7.30385e-05\t1\n",
      "27\t4.34239e-07\t2.79061e-05\t1\n",
      "28\t4.33743e-07\t5.36619e-05\t0.5\n",
      "29\t4.32824e-07\t2.81757e-05\t1\n",
      "30\t4.32465e-07\t3.2751e-05\t0.5\n",
      "31\t4.32017e-07\t1.70026e-05\t1\n",
      "32\t4.31904e-07\t3.81326e-05\t1\n",
      "33\t4.31604e-07\t1.03659e-05\t1\n",
      "34\t4.31554e-07\t9.3415e-06\t0.5\n",
      "35\t4.31516e-07\t2.94396e-06\t1\n",
      "36\t4.31507e-07\t2.0868e-06\t1\n",
      "37\t4.31506e-07\t1.63296e-07\t1\n",
      "38\t4.31506e-07\t7.8084e-09\t1\n"
     ]
    }
   ],
   "source": [
    "elastic_rods.compute_equilibrium(l, 40, True)\n",
    "view.update(False)"
   ]
  },
  {
   "cell_type": "code",
   "execution_count": 82,
   "metadata": {},
   "outputs": [
    {
     "name": "stdout",
     "output_type": "stream",
     "text": [
      "0\t1.07653e-06\t0.00260282\n",
      "1\t3.73414e-07\t0.000430209\t1\n",
      "2\t3.57481e-07\t5.07262e-08\t1\n",
      "3\t3.57481e-07\t3.12225e-10\t1\n",
      "-0.01308996938995747\t3\t3.574812037203485e-07\t3.574812037203485e-07\t3.377260991495562e-07\t2.829729005549592e-34\t1.97551045707923e-08\n"
     ]
    }
   ],
   "source": [
    "import math, open_linkage\n",
    "open_linkage.open_linkage(l, 9, 0.05 * math.pi / 12, 1, view, zPerturbationEpsilon=0)"
   ]
  },
  {
   "cell_type": "code",
   "execution_count": 12,
   "metadata": {},
   "outputs": [],
   "source": [
    "stepper = open_linkage.AngleStepper(l, 9, 0.05 * math.pi / 12, 1)"
   ]
  },
  {
   "cell_type": "code",
   "execution_count": 13,
   "metadata": {},
   "outputs": [],
   "source": [
    "stepper.step()"
   ]
  },
  {
   "cell_type": "code",
   "execution_count": null,
   "metadata": {},
   "outputs": [],
   "source": []
  }
 ],
 "metadata": {
  "kernelspec": {
   "display_name": "Python 3",
   "language": "python",
   "name": "python3"
  },
  "language_info": {
   "codemirror_mode": {
    "name": "ipython",
    "version": 3
   },
   "file_extension": ".py",
   "mimetype": "text/x-python",
   "name": "python",
   "nbconvert_exporter": "python",
   "pygments_lexer": "ipython3",
   "version": "3.6.5"
  }
 },
 "nbformat": 4,
 "nbformat_minor": 2
}
