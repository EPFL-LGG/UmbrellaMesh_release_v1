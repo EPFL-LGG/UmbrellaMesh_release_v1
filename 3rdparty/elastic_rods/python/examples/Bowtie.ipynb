{
 "cells": [
  {
   "cell_type": "code",
   "execution_count": 21,
   "metadata": {},
   "outputs": [
    {
     "data": {
      "application/vnd.jupyter.widget-view+json": {
       "model_id": "850e4475e9f244b6866e3473096cc55a",
       "version_major": 2,
       "version_minor": 0
      },
      "text/plain": [
       "Renderer(camera=PerspectiveCamera(aspect=2.0, children=(DirectionalLight(color='white', intensity=0.6, positio…"
      ]
     },
     "metadata": {},
     "output_type": "display_data"
    }
   ],
   "source": [
    "import sys; sys.path.append('..')\n",
    "import numpy as np, elastic_rods\n",
    "from bending_validation import suppress_stdout\n",
    "from linkage_vis import LinkageViewer\n",
    "linkage_name = '20190423_125021_meshID_029be8a8-116d-4673-894b-9bf30e19513e'\n",
    "l = elastic_rods.RodLinkage('../../examples/florin/{}.obj'.format(linkage_name), 8)\n",
    "#driver=166\n",
    "driver=l.centralJoint()\n",
    "\n",
    "#mat = elastic_rods.RodMaterial('+', 2000, 0.3, [5, 5, 0.7, 0.7], stiffAxis=elastic_rods.StiffAxis.D1)\n",
    "mat = elastic_rods.RodMaterial('rectangle', 20000, 0.3, [12, 8])\n",
    "l.setMaterial(mat)\n",
    "\n",
    "with suppress_stdout(): elastic_rods.restlen_solve(l)\n",
    "jdo = l.dofOffsetForJoint(driver)\n",
    "fixedVars = list(range(jdo, jdo + 6)) # fix rigid motion for a single joint\n",
    "fixedVars.append(jdo + 6) # constrain angle at the driving joint\n",
    "with suppress_stdout(): elastic_rods.compute_equilibrium(l, fixedVars=fixedVars)\n",
    "\n",
    "view = LinkageViewer(l, width=1024, labelOffset=-0.5)\n",
    "#view.setCameraParams(((2.656451698624758, 1.5087349593639046, 0.23168476156681694),\n",
    "# (0.052583904614345374, 0.026224725204501566, 0.9982721055721517),\n",
    "# (0.13680349418553736, -0.13680349418553736, -0.8425278443781967)))\n",
    "view.show()"
   ]
  },
  {
   "cell_type": "code",
   "execution_count": 5,
   "metadata": {},
   "outputs": [],
   "source": [
    "l.saveVisualizationGeometry('deployed_{}.obj'.format(linkage_name))\n",
    "#l.writeLinkageDebugData('')"
   ]
  },
  {
   "cell_type": "code",
   "execution_count": 14,
   "metadata": {},
   "outputs": [],
   "source": [
    "from write_render_files import writeRenderFiles, writeActuators\n",
    "writeRenderFiles(l, 'Pavilion12', 'pav12')\n",
    "#writeActuators(l, np.where(torques > 1e-4)[0], directory='AsymPointyDataFlat', name='asymPointy_Fab')"
   ]
  },
  {
   "cell_type": "code",
   "execution_count": 10,
   "metadata": {},
   "outputs": [],
   "source": [
    "from linkage_utils import writeRodSegments\n",
    "writeRodSegments(l,'rod_segments_{}.txt'.format(linkage_name), zeroBasedIndexing=True)\n",
    "np.savetxt('restlen_{}.txt'.format(linkage_name),l.getPerSegmentRestLength())\n",
    "np.savetxt('normals_{}.txt'.format(linkage_name), np.array([j.normal for j in l.joints()]))\n",
    "l.writeLinkageDebugData('deployed_{}.msh'.format(linkage_name))"
   ]
  },
  {
   "cell_type": "code",
   "execution_count": 41,
   "metadata": {},
   "outputs": [
    {
     "data": {
      "text/plain": [
       "24.37145054902055"
      ]
     },
     "execution_count": 41,
     "metadata": {},
     "output_type": "execute_result"
    }
   ],
   "source": [
    "# Compute maximum \"stress\" appearing at any rod vertex in the structure\n",
    "max([max(segmentStress) for segmentStress in l.rodStresses()[1]])"
   ]
  },
  {
   "cell_type": "code",
   "execution_count": null,
   "metadata": {},
   "outputs": [],
   "source": [
    "# Output actuation torque\n",
    "for forceScale in np.linspace(1.0, 0, 51):\n",
    "    name = 'Pavilion14_{}'.format(forceScale)\n",
    "    with suppress_stdout(): elastic_rods.compute_equilibrium(l, forceScale * externalForces, fixedVars=fixedVars)\n",
    "    view.update(preserveExisting=True)\n",
    "    writeRenderFiles(l, directory, name)\n",
    "    writeActuators(l, np.where(torques > 0.1)[0], directory, name)"
   ]
  },
  {
   "cell_type": "code",
   "execution_count": 44,
   "metadata": {},
   "outputs": [
    {
     "data": {
      "text/plain": [
       "11.81760497978405"
      ]
     },
     "execution_count": 44,
     "metadata": {},
     "output_type": "execute_result"
    }
   ],
   "source": [
    "# Compute average \"stress\" appearing over all rod vertices in the structure\n",
    "np.mean(sum(l.rodStresses()[1], []))"
   ]
  },
  {
   "cell_type": "code",
   "execution_count": 23,
   "metadata": {},
   "outputs": [
    {
     "name": "stdout",
     "output_type": "stream",
     "text": [
      "target angle:  1.0506882097005874\n",
      "0\t539488\t691.299\t691.299\t1\t0\n",
      "1.4920469144464372\t539477.5753826596\t539477.5753826594\t412645.2886369622\t126484.28477238085\t348.0019733161778\n",
      "target angle:  1.054178868204576\n",
      "0\t543269\t691.525\t691.525\t1\t0\n",
      "Backtracking failed.\n",
      "1.496450089312214\t543257.9547232026\t543257.9547232026\t414745.91543021746\t128162.93758212427\t349.10171086127565\n",
      "target angle:  1.0576695267085647\n",
      "0\t547064\t691.778\t691.778\t1\t0\n",
      "1.5008492506082425\t547052.6429758683\t547052.6429758683\t416855.28340743284\t129847.14061937942\t350.218949055786\n",
      "target angle:  1.0611601852125534\n",
      "0\t550873\t692.085\t692.085\t1\t0\n",
      "Backtracking failed.\n",
      "1.505244382750117\t550861.6936235498\t550861.6936235498\t418973.4931946995\t131536.8467239543\t351.3537048955103\n",
      "target angle:  1.064650843716542\n",
      "0\t554696\t692.401\t692.401\t1\t0\n",
      "Backtracking failed.\n",
      "1.509635470128571\t554685.1605314855\t554685.1605314855\t421100.6457213335\t133232.00877388142\t352.50603627037685\n",
      "target angle:  1.0681415022205307\n",
      "0\t558534\t692.765\t692.765\t1\t0\n",
      "Backtracking failed.\n",
      "1.5140224971011969\t558523.09794603\t558523.09794603\t423236.84268622077\t134932.57928776444\t353.6759720446618\n",
      "target angle:  1.0716321607245194\n",
      "0\t562387\t693.15\t693.15\t1\t0\n",
      "1.5184054480086862\t562375.5604935297\t562375.5604935297\t425382.18619833945\t136638.510731156\t354.86356403445996\n",
      "target angle:  1.075122819228508\n",
      "0\t566254\t693.575\t693.575\t1\t0\n",
      "1.522784307171546\t566242.6031790851\t566242.6031790848\t427536.77903607645\t138349.7552958679\t356.06884714063244\n",
      "target angle:  1.0786134777324967\n",
      "0\t570135\t694.018\t694.018\t1\t0\n",
      "Backtracking failed.\n",
      "1.5271590589008246\t570124.281385297\t570124.281385297\t429700.724457782\t140066.26506109332\t357.29186642222635\n",
      "target angle:  1.0821041362364854\n",
      "0\t574032\t694.478\t694.478\t1\t0\n",
      "1.5315296875054933\t574020.650871078\t574020.650871078\t431874.12615609856\t141787.99203179276\t358.53268318646116\n",
      "target angle:  1.085594794740474\n",
      "0\t577943\t694.984\t694.984\t1\t0\n",
      "1.535896177286822\t577931.7677702021\t577931.767770202\t434057.08852881385\t143514.8879090857\t359.7913323022679\n",
      "target angle:  1.0890854532444627\n",
      "0\t581869\t695.504\t695.504\t1\t0\n",
      "1.54025851255456\t581857.6885900844\t581857.6885900844\t436249.71636565606\t145246.90435558712\t361.0678688409493\n",
      "target angle:  1.0925761117484514\n",
      "0\t585810\t696.049\t696.049\t1\t0\n",
      "Backtracking failed.\n",
      "1.544616677626058\t585798.4702103442\t585798.4702103442\t438452.1150227468\t146983.9928475224\t362.36234007561336\n",
      "target angle:  1.09606677025244\n",
      "0\t589765\t696.606\t696.606\t1\t0\n",
      "Backtracking failed.\n",
      "1.5489706568350952\t589754.1698814341\t589754.1698814341\t440664.3902438074\t148726.10482541527\t363.6748122121703\n",
      "target angle:  1.0995574287564287\n",
      "0\t593736\t697.204\t697.204\t1\t0\n",
      "Backtracking failed.\n",
      "1.5533204345287346\t593724.8452231924\t593724.8452231924\t442886.64842663915\t150473.19146924728\t365.0053273053973\n",
      "target angle:  1.1030480872604174\n",
      "0\t597722\t697.813\t697.813\t1\t0\n",
      "Backtracking failed.\n",
      "1.5576659950802365\t597710.5542234087\t597710.5542234087\t445118.9963473844\t152225.20393070806\t366.3539453166307\n",
      "target angle:  1.106538745764406\n",
      "0\t601723\t698.441\t698.441\t1\t0\n",
      "1.562007322891813\t601711.3552363112\t601711.3552363112\t447361.54122838797\t153982.0932753375\t367.7207325854505\n",
      "target angle:  1.1100294042683947\n",
      "0\t605739\t699.105\t699.105\t1\t0\n",
      "1.566344402392086\t605727.3069810572\t605727.3069810572\t449614.3908874855\t155743.81035731942\t369.10573625214766\n",
      "target angle:  1.1135200627723834\n",
      "0\t609770\t699.779\t699.779\t1\t0\n",
      "1.5706772180491824\t609758.4685402384\t609758.4685402384\t451877.6534975261\t157510.30602080343\t370.5090219090402\n",
      "target angle:  1.117010721276372\n",
      "0\t613816\t700.472\t700.472\t1\t0\n",
      "1.575005754371014\t613804.8993582935\t613804.8993582935\t454151.4377143994\t159281.5309921977\t371.93065169628994\n",
      "target angle:  1.1205013797803607\n",
      "0\t617878\t701.184\t701.184\t1\t0\n",
      "1.5793299959093179\t617866.6592399246\t617866.6592399247\t456435.85263941233\t161057.43591133453\t373.3706891776767\n",
      "target angle:  1.1239920382843493\n",
      "0\t621955\t701.913\t701.913\t1\t0\n",
      "Backtracking failed.\n",
      "1.58364992726245\t621943.8083485008\t621943.8083485008\t458731.00783550483\t162837.9713177566\t374.82919523918156\n",
      "target angle:  1.127482696788338\n",
      "0\t626048\t702.652\t702.652\t1\t0\n",
      "1.5879655330858495\t626036.4072044599\t626036.4072044597\t461037.0132018643\t164623.08775434986\t376.3062482455417\n",
      "target angle:  1.1309733552923267\n",
      "0\t630156\t703.426\t703.426\t1\t0\n",
      "Backtracking failed.\n",
      "1.5922767980827948\t630144.5166835776\t630144.5166835773\t463353.97922884696\t166412.73555555503\t377.8018991753864\n",
      "target angle:  1.1344640137963153\n",
      "0\t634280\t704.198\t704.198\t1\t0\n",
      "1.5965837070247704\t634268.1980154449\t634268.1980154449\t465682.0166227327\t168206.86515790777\t379.31623480477094\n",
      "target angle:  1.137954672300304\n",
      "0\t638419\t705.006\t705.006\t1\t0\n",
      "1.6008862447381054\t638407.5127816449\t638407.5127816449\t468021.236680517\t170005.42678948533\t380.84931164258444\n",
      "target angle:  1.1414453308042927\n",
      "0\t642574\t705.82\t705.82\t1\t0\n",
      "Backtracking failed.\n",
      "1.605184396121256\t642562.5229141274\t642562.5229141274\t470371.7510073957\t171808.37070310552\t382.4012036261714\n",
      "target angle:  1.1449359893082813\n",
      "0\t646745\t706.644\t706.644\t1\t0\n",
      "1.6094781461425094\t646733.2906935422\t646733.2906935422\t472733.6715789329\t173615.64712422944\t383.9719903800139\n",
      "target angle:  1.14842664781227\n",
      "0\t650932\t707.493\t707.493\t1\t0\n",
      "Backtracking failed.\n",
      "1.6137674798402803\t650919.8787473759\t650919.8787473759\t475107.1108447086\t175427.20616554527\t385.5617371218111\n",
      "target angle:  1.1519173063162587\n",
      "0\t655134\t708.348\t708.348\t1\t0\n",
      "1.6180523823344708\t655122.3500483299\t655122.3500483299\t477492.18153646385\t177242.99798386096\t387.1705280052183\n",
      "target angle:  1.1554079648202473\n",
      "0\t659353\t709.226\t709.226\t1\t0\n",
      "Backtracking failed.\n",
      "1.6223328388199614\t659340.7679124639\t659340.7679124639\t479888.99685388687\t179062.9726276527\t388.79843092373227\n",
      "target angle:  1.158898623324236\n",
      "0\t663587\t710.109\t710.109\t1\t0\n",
      "1.6266088345803196\t663575.1959975371\t663575.1959975371\t482297.67026738863\t180887.08019760338\t390.4455325451907\n",
      "target angle:  1.1623892818282247\n",
      "0\t667838\t711.015\t711.015\t1\t0\n",
      "Backtracking failed.\n",
      "1.6308803549798485\t667825.6983011008\t667825.6983011009\t484718.31570004165\t182715.2706980204\t392.11190303906426\n",
      "target angle:  1.1658799403322133\n",
      "0\t672104\t711.925\t711.925\t1\t0\n",
      "1.6351473854772836\t672092.3391588051\t672092.3391588053\t487151.04733273364\t184547.4941946164\t393.7976314553582\n",
      "target angle:  1.169370598836202\n",
      "0\t676387\t712.857\t712.857\t1\t0\n",
      "1.6394099116186809\t676375.1832425038\t676375.1832425038\t489595.9797713194\t186383.7006786178\t395.50279256698974\n",
      "target angle:  1.1728612573401906\n",
      "0\t680687\t713.797\t713.797\t1\t0\n",
      "Backtracking failed.\n",
      "1.6436679190468149\t680674.2955585138\t680674.2955585138\t492053.2279346955\t188223.8401570758\t397.2274667425166\n",
      "target angle:  1.1763519158441793\n",
      "0\t685002\t714.741\t714.741\t1\t0\n",
      "1.6479213935075667\t684989.7414457914\t684989.7414457914\t494522.9069953729\t190067.86269971466\t398.9717507040677\n",
      "target angle:  1.179842574348168\n",
      "0\t689334\t715.715\t715.715\t1\t0\n",
      "1.6521703208377372\t689321.5865739973\t689321.5865739974\t497005.1325807105\t191915.71827714902\t400.7357161378485\n",
      "target angle:  1.1833332328521566\n",
      "0\t693682\t716.692\t716.692\t1\t0\n",
      "1.6564146869836884\t693669.896941796\t693669.8969417961\t499500.0205461897\t193767.35694235397\t402.51945325195635\n",
      "target angle:  1.1868238913561453\n",
      "0\t698047\t717.681\t717.681\t1\t0\n",
      "Backtracking failed.\n",
      "1.6606544779944616\t698034.7388749098\t698034.7388749097\t502007.68709892925\t195622.72873130394\t404.32304467677375\n",
      "target angle:  1.190314549860134\n",
      "0\t702429\t718.672\t718.672\t1\t0\n",
      "1.6648896800334136\t702416.1790243417\t702416.1790243419\t504528.2486652313\t197481.7837678331\t406.14659127770284\n",
      "target angle:  1.1938052083641226\n",
      "0\t706827\t719.692\t719.692\t1\t0\n",
      "Backtracking failed.\n",
      "1.6691202793636302\t706814.2843644526\t706814.2843644525\t507061.8221108213\t199344.47208871078\t407.99016492016244\n",
      "target angle:  1.1972958668681113\n",
      "0\t711242\t720.707\t720.707\t1\t0\n",
      "Backtracking failed.\n",
      "1.6733462623735018\t711229.122191143\t711229.122191143\t509608.52443657443\t201210.74388404837\t409.85387052043706\n",
      "target angle:  1.2007865253721\n",
      "0\t715673\t721.744\t721.744\t1\t0\n",
      "Backtracking failed.\n",
      "1.6775676155580936\t715660.7601199878\t715660.7601199877\t512168.4730348347\t203080.54929440387\t411.73779074891553\n",
      "target angle:  1.2042771838760886\n",
      "0\t720122\t722.788\t722.788\t1\t0\n",
      "1.6817843255344214\t720109.2660843728\t720109.2660843729\t514741.7855141079\t204953.83854866723\t413.64202159782445\n",
      "target angle:  1.2077678423800773\n",
      "0\t724587\t723.847\t723.847\t1\t0\n",
      "1.6859963790371986\t724574.7083335909\t724574.7083335909\t517328.57978737674\t206830.56189424067\t415.5666519730801\n",
      "target angle:  1.211258500884066\n",
      "0\t729070\t724.912\t724.912\t1\t0\n",
      "1.690203762924822\t729057.1554310587\t729057.1554310585\t519928.973999977\t208710.66965324347\t417.511777838285\n",
      "target angle:  1.2147491593880546\n",
      "0\t733569\t725.987\t725.987\t1\t0\n",
      "1.6944064641801864\t733556.6762523617\t733556.6762523617\t522543.0865603103\t210594.11219804524\t419.4774940061388\n",
      "target angle:  1.2182398178920433\n",
      "0\t738086\t727.072\t727.072\t1\t0\n",
      "1.6986044699117324\t738073.3399834613\t738073.3399834612\t525171.0361234403\t212480.8399638179\t421.4638962031695\n",
      "target angle:  1.221730476396032\n",
      "0\t742620\t728.166\t728.166\t1\t0\n",
      "Backtracking failed.\n",
      "1.7027977673557197\t742607.2161187811\t742607.2161187811\t527812.9415932986\t214370.803446577\t423.47107890561637\n",
      "0\t742607\t0.000456394\t0.000456394\t3.05176e-05\t0\n",
      "Backtracking failed.\n",
      "0\t742607\t0.000456394\t0.000456394\t3.05176e-05\t0\n"
     ]
    }
   ],
   "source": [
    "from open_linkage import open_linkage\n",
    "def equilibriumSolver(tgtAngle, l, opts, fv):\n",
    "    opts.beta = 1e-8\n",
    "    opts.gradTol = 1e-4\n",
    "    opts.useIdentityMetric = False\n",
    "    return elastic_rods.compute_equilibrium(l, tgtAngle, options=opts, fixedVars=fv)\n",
    "# open_linkage(l, driver, 2 * np.pi/3, 25, view, zPerturbationEpsilon=0, equilibriumSolver=equilibriumSolver, maxNewtonIterationsIntermediate=20, verbose=10, useTargetAngleConstraint=False);\n",
    "open_linkage(l, driver, np.deg2rad(70) - l.averageJointAngle, 50, view, zPerturbationEpsilon=0, equilibriumSolver=equilibriumSolver, maxNewtonIterationsIntermediate=20, verbose=10, useTargetAngleConstraint=True);"
   ]
  },
  {
   "cell_type": "code",
   "execution_count": null,
   "metadata": {},
   "outputs": [],
   "source": []
  },
  {
   "cell_type": "code",
   "execution_count": null,
   "metadata": {},
   "outputs": [],
   "source": []
  }
 ],
 "metadata": {
  "kernelspec": {
   "display_name": "Python 3",
   "language": "python",
   "name": "python3"
  },
  "language_info": {
   "codemirror_mode": {
    "name": "ipython",
    "version": 3
   },
   "file_extension": ".py",
   "mimetype": "text/x-python",
   "name": "python",
   "nbconvert_exporter": "python",
   "pygments_lexer": "ipython3",
   "version": "3.7.1"
  }
 },
 "nbformat": 4,
 "nbformat_minor": 2
}
