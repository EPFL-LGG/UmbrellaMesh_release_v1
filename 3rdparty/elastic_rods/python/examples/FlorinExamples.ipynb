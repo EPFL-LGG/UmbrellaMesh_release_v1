{
 "cells": [
  {
   "cell_type": "code",
   "execution_count": 8,
   "metadata": {},
   "outputs": [
    {
     "data": {
      "application/vnd.jupyter.widget-view+json": {
       "model_id": "28a1a15aae874e3d8053aab6c907b187",
       "version_major": 2,
       "version_minor": 0
      },
      "text/plain": [
       "Renderer(camera=PerspectiveCamera(aspect=2.0, children=(DirectionalLight(color='white', intensity=0.6, positio…"
      ]
     },
     "metadata": {},
     "output_type": "display_data"
    }
   ],
   "source": [
    "import sys; sys.path.append('..')\n",
    "import numpy as np, elastic_rods\n",
    "from bending_validation import suppress_stdout\n",
    "from linkage_vis import LinkageViewer\n",
    "\n",
    "#l = elastic_rods.RodLinkage('../examples/florin/20181008_103824_meshID_95a3e4ba-e509-432a-9442-738b53a06248.obj', 5) # two humps\n",
    "driver = 47\n",
    "#l = elastic_rods.RodLinkage('../examples/florin/jgrids/20181022_112218_meshID_aa6defca-384d-4917-8cca-fc51650b702d.obj', 5) # saddle\n",
    "#l = elastic_rods.RodLinkage('../examples/florin/jgrids/20181022_112222_meshID_31244361-74cc-4d73-b5b2-c429d83fb6db.obj', 5) # blowup\n",
    "#l = elastic_rods.RodLinkage('../examples/florin/jgrids/20181022_112224_meshID_27aaddcb-b2e4-4a50-afc9-99b859c08c6f.obj', 5)\n",
    "driver = 113\n",
    "#l = elastic_rods.RodLinkage('../examples/florin/jgrids/20181022_112231_meshID_329f4e91-a141-4883-9883-23997a8ccea1.obj', 10)# saddle\n",
    "driver = 47\n",
    "#l = elastic_rods.RodLinkage('../examples/florin/jgrids/20181022_112232_meshID_664b2f13-096d-4cb7-8562-75150733a3cc.obj', 10) # flat equilibrium fail\n",
    "driver = 29\n",
    "#l = elastic_rods.RodLinkage('../examples/florin/jgrids/20181022_112230_meshID_73265cae-cb87-4a2e-a36b-38036f90b033.obj', 10) # interesting \"banana with bumps\"\n",
    "driver=113\n",
    "#l = elastic_rods.RodLinkage('../examples/florin/jgrids/20181022_112234_meshID_c0989a2c-dfd8-40e6-9187-6905827085ca.obj', 10) # saddle\n",
    "driver=47\n",
    "#l = elastic_rods.RodLinkage('../examples/florin/jgrids/20181022_112234_meshID_c0989a2c-dfd8-40e6-9187-6905827085ca.obj', 10) # flat equilibrium fail\n",
    "#l = elastic_rods.RodLinkage('../examples/florin/jgrids/20181022_112235_meshID_c0989a2c-dfd8-40e6-9187-6905827085ca.obj', 10) # flat equilibrium fail\n",
    "#driver = 47\n",
    "#l = elastic_rods.RodLinkage('../examples/florin/jgrids/20181022_112236_meshID_6dc7ff26-c4cc-433b-a3aa-c39950cb5fc0.obj', 10) # saddle\n",
    "driver = 47\n",
    "#l = elastic_rods.RodLinkage('../examples/florin/jgrids/20181022_112237_meshID_99ee7d8c-b826-4579-a2e4-11eb79c2e2dd.obj', 10) # flat equilibrium fail\n",
    "#driver = 29\n",
    "#l = elastic_rods.RodLinkage('../examples/florin/jgrids/20181022_112239_meshID_cb8859a1-1648-4500-bbaa-b7319d8d136e.obj', 10) # saddle\n",
    "driver = 43\n",
    "#l = elastic_rods.RodLinkage('/Users/jpanetta/test_out/', 20) # saddle\n",
    "driver = 8\n",
    "# l = elastic_rods.RodLinkage('../examples/florin/test3.obj')\n",
    "# driver=18\n",
    "# l = elastic_rods.RodLinkage('../examples/florin/test4.obj') # saddle with cylindrical region\n",
    "driver=113\n",
    "#l = elastic_rods.RodLinkage('../examples/florin/test5.obj')\n",
    "driver=98\n",
    "#l = elastic_rods.RodLinkage('../examples/florin/test6.obj')\n",
    "driver=192\n",
    "l = elastic_rods.RodLinkage('../examples/florin/test7.obj', 5)\n",
    "driver=2\n",
    "driver=166\n",
    "#l = elastic_rods.RodLinkage('../examples/florin/test8.obj', 5) \n",
    "#driver=192\n",
    "#l = elastic_rods.RodLinkage('../examples/florin/test10.obj', 5)\n",
    "#driver=166\n",
    "l = elastic_rods.RodLinkage('../examples/florin/test11.obj', 5)\n",
    "driver=297\n",
    "\n",
    "#mat = elastic_rods.RodMaterial('+', 2000, 0.3, [1.0, 3.0, 1.0, 0.5], stiffAxis=elastic_rods.StiffAxis.D2)\n",
    "mat = elastic_rods.RodMaterial('+', 2000, 0.3, [2, 2, 0.2, 0.2], stiffAxis=elastic_rods.StiffAxis.D1)\n",
    "l.setMaterial(mat)\n",
    "\n",
    "view = LinkageViewer(l, width=1024, labelOffset=-0.5)\n",
    "view.setCameraParams(((2.150450176885812, 1.9485859645109174, 0.7377091879334903),\n",
    " (0.2128272799756572, 0.14346781862026248, 0.966499629549056),\n",
    " (-0.1489297320905185, -0.07663826583822876, 0.29350993759896593)))\n",
    "view.show()"
   ]
  },
  {
   "cell_type": "code",
   "execution_count": 7,
   "metadata": {},
   "outputs": [
    {
     "data": {
      "text/plain": [
       "((2.150450176885812, 1.9485859645109174, 0.7377091879334903),\n",
       " (0.2128272799756572, 0.14346781862026248, 0.966499629549056),\n",
       " (-0.1489297320905185, -0.07663826583822876, 0.29350993759896593))"
      ]
     },
     "execution_count": 7,
     "metadata": {},
     "output_type": "execute_result"
    }
   ],
   "source": [
    "view.getCameraParams()"
   ]
  },
  {
   "cell_type": "code",
   "execution_count": null,
   "metadata": {},
   "outputs": [],
   "source": [
    "view.showLabels()"
   ]
  },
  {
   "cell_type": "code",
   "execution_count": 2,
   "metadata": {},
   "outputs": [
    {
     "data": {
      "text/plain": [
       "(10.091420044709164, 16709.459844790537, 1.0676529708203103e-28)"
      ]
     },
     "execution_count": 2,
     "metadata": {},
     "output_type": "execute_result"
    }
   ],
   "source": [
    "l.energyBend(), l.energyStretch(), l.energyTwist()"
   ]
  },
  {
   "cell_type": "code",
   "execution_count": 3,
   "metadata": {},
   "outputs": [
    {
     "data": {
      "text/plain": [
       "16719.551264835234"
      ]
     },
     "execution_count": 3,
     "metadata": {},
     "output_type": "execute_result"
    }
   ],
   "source": [
    "l.energy()"
   ]
  },
  {
   "cell_type": "code",
   "execution_count": 4,
   "metadata": {},
   "outputs": [
    {
     "name": "stdout",
     "output_type": "stream",
     "text": [
      "0\t16719.551264835234\t2353.6274112038332\t2353.6274112038332\n",
      "Increasing tau to 0.0001\n",
      "Increasing tau to 0.00040000000000000002\n",
      "Increasing tau to 0.0016000000000000001\n",
      "Increasing tau to 0.0064000000000000003\n",
      "Increasing tau to 0.025600000000000001\n",
      "Increasing tau to 0.1024\n",
      "Increasing tau to 0.40960000000000002\n",
      "Increasing tau to 1.6384000000000001\n",
      "Increasing tau to 6.5536000000000003\n",
      "Increasing tau to 26.214400000000001\n",
      "Increasing tau to 104.85760000000001\n",
      "Increasing tau to 419.43040000000002\n",
      "Increasing tau to 209.71520000000001\n",
      "Increasing tau to 104.85760000000001\n",
      "Increasing tau to 52.428800000000003\n",
      "10\t2.2144429765378426\t4.1400554753385928e-07\t4.1400554753385928e-07\t1\n",
      "11\t2.2144429765374238\t3.7931256136419142e-10\t3.7931256136419142e-10\t1\n"
     ]
    }
   ],
   "source": [
    "#with suppress_stdout():\n",
    "elastic_rods.restlen_solve(l, niter=100, verbose=True)\n",
    "view.update()"
   ]
  },
  {
   "cell_type": "code",
   "execution_count": 5,
   "metadata": {},
   "outputs": [
    {
     "name": "stdout",
     "output_type": "stream",
     "text": [
      "0\t2.2144429765374243\t0.43660904359078517\t0.43660904359078517\n",
      "10\t1.387888487220738\t0.83858792912707769\t0.83858792912707769\t0.5\n",
      "20\t1.2309438590523909\t0.31358273428473993\t0.31358273428473993\t1\n",
      "28\t1.2251553786380018\t4.4941810987464258e-10\t4.4941810987464258e-10\t1\n"
     ]
    }
   ],
   "source": [
    "l.joint(driver).setConstrained(True);\n",
    "elastic_rods.compute_equilibrium(l, verbose=True, niter=100)\n",
    "view.update()"
   ]
  },
  {
   "cell_type": "code",
   "execution_count": 6,
   "metadata": {},
   "outputs": [
    {
     "name": "stdout",
     "output_type": "stream",
     "text": [
      "0.10471975511965977\t1.391222008690062\t1.3912220086900617\t1.3869439370658132\t1.9970931774238997e-36\t0.004278071624247261\n",
      "0.20943951023931953\t1.7028142780858242\t1.7028142780858244\t1.6981432366326918\t2.0005515696233425e-36\t0.004671041453132615\n",
      "0.3141592653589793\t2.1301643890578816\t2.1301643890578816\t2.1248376756424574\t2.3955903139756527e-36\t0.005326713415423632\n",
      "0.41887902047863906\t2.6523667081919666\t2.652366708191966\t2.6387921130680247\t0.007532796673919655\t0.006041798450024897\n",
      "0.5235987755982988\t3.211879758939957\t3.2118797589399573\t3.1250422951106382\t0.07936118228608657\t0.007476281543231247\n",
      "0.6283185307179586\t3.7943432467618745\t3.7943432467618754\t3.5841774712078345\t0.20342845148668331\t0.006737324067359948\n",
      "0.7330382858376184\t4.456401425518589\t4.45640142551859\t4.170191808358771\t0.279391352493917\t0.006818264665897702\n",
      "0.8377580409572782\t5.1862749164341775\t5.1862749164341775\t4.852133551974863\t0.3264133116991349\t0.007728052760178862\n",
      "0.942477796076938\t5.9844641218635894\t5.9844641218635894\t5.604939698136398\t0.37064643867359803\t0.008877985053593083\n",
      "1.0471975511965979\t6.854838632494074\t6.854838632494071\t6.430708184417882\t0.4138132445522463\t0.010317203523937923\n",
      "1.1519173063162575\t7.801003871707564\t7.801003871707564\t7.331723023094918\t0.45716636914914827\t0.012114479463500357\n",
      "1.2566370614359172\t8.826256114319133\t8.826256114319133\t8.31002755543133\t0.5018690046246104\t0.014359554263187841\n",
      "1.361356816555577\t9.933501580074761\t9.933501580074756\t9.367345559133302\t0.5489870928180183\t0.017168928123433805\n",
      "1.4660765716752366\t11.125144930210881\t11.12514493021088\t10.50487237153234\t0.5995806038992719\t0.020691954779275316\n",
      "1.5707963267948963\t12.402946364153602\t12.4029463641536\t11.723062412577638\t0.6547664098015247\t0.025117541774450105\n",
      "1.675516081914556\t13.767840207488026\t13.767840207488025\t13.021356408912972\t0.7158049161758856\t0.03067888239918449\n",
      "1.7802358370342157\t15.219700296050869\t15.219700296050867\t14.397803668793221\t0.7842454447281362\t0.037651182529506104\n",
      "1.8849555921538754\t16.75702840386863\t16.757028403868635\t15.848925100093156\t0.8617611848136867\t0.04634211896180352\n",
      "1.9896753472735351\t18.376530951805506\t18.376530951805506\t17.368808144178622\t0.9506801089643644\t0.05704269866250441\n",
      "2.094395102393195\t20.07254518471665\t20.07254518471665\t18.948736136207724\t1.0538574379328975\t0.06995161057602392\n"
     ]
    }
   ],
   "source": [
    "from open_linkage import open_linkage\n",
    "optimizer = elastic_rods.get_equilibrium_optimizer(l)\n",
    "equilibriumSolver      = lambda l, nit, verbose: optimizer.optimize(nit, verbose, useIdentityMetric=False, beta = 1e-6, useNegativeCurvatureDirection = True, gradTol=1e-4)\n",
    "#finalEquilibriumSolver = lambda l, nit, verbose: optimizer.optimize(nit, verbose, useIdentityMetric=False, beta = 1e-6, useNegativeCurvatureDirection = True)\n",
    "# open_linkage(l, driver, np.pi/3, 40, view, zPerturbationEpsilon=0, equilibriumSolver=elastic_rods.compute_equilibrium_knitro)\n",
    "open_linkage(l, driver, 2 * np.pi/3, 20, view, zPerturbationEpsilon=0, equilibriumSolver=equilibriumSolver)"
   ]
  },
  {
   "cell_type": "code",
   "execution_count": 24,
   "metadata": {},
   "outputs": [
    {
     "data": {
      "text/plain": [
       "[array([-2.3822311 , -1.29447795, -1.32928554, ..., -2.64884196,\n",
       "         1.69766592,  1.40158471]),\n",
       " array([-2.38223821, -1.29450737, -1.32928559, ..., -2.64887536,\n",
       "         1.69766208,  1.40157163])]"
      ]
     },
     "execution_count": 24,
     "metadata": {},
     "output_type": "execute_result"
    }
   ],
   "source": [
    "import finite_diff\n",
    "finite_diff.fd_hessian_test(l, 1, direction=0.01 * np.random.random_sample(l.numDoF()))"
   ]
  },
  {
   "cell_type": "code",
   "execution_count": 9,
   "metadata": {},
   "outputs": [],
   "source": [
    "elastic_rods.linkage_deformation_analysis(restLinkage, l, \"florin_linkage_analysis.msh\")"
   ]
  },
  {
   "cell_type": "code",
   "execution_count": 10,
   "metadata": {},
   "outputs": [],
   "source": [
    "l.saveVisualizationGeometry(\"florin_linkage_geometry.msh\")"
   ]
  },
  {
   "cell_type": "code",
   "execution_count": null,
   "metadata": {},
   "outputs": [],
   "source": []
  }
 ],
 "metadata": {
  "kernelspec": {
   "display_name": "Python 3",
   "language": "python",
   "name": "python3"
  },
  "language_info": {
   "codemirror_mode": {
    "name": "ipython",
    "version": 3
   },
   "file_extension": ".py",
   "mimetype": "text/x-python",
   "name": "python",
   "nbconvert_exporter": "python",
   "pygments_lexer": "ipython3",
   "version": "3.6.5"
  }
 },
 "nbformat": 4,
 "nbformat_minor": 2
}
