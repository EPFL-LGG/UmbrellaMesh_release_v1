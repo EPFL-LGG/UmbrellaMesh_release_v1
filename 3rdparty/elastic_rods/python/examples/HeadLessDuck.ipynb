{
 "cells": [
  {
   "cell_type": "code",
   "execution_count": 1,
   "metadata": {},
   "outputs": [
    {
     "data": {
      "application/vnd.jupyter.widget-view+json": {
       "model_id": "2126a7503666429da7ae4deb294c66f3",
       "version_major": 2,
       "version_minor": 0
      },
      "text/plain": [
       "Renderer(camera=PerspectiveCamera(aspect=2.0, children=(DirectionalLight(color='white', intensity=0.6, positio…"
      ]
     },
     "metadata": {},
     "output_type": "display_data"
    }
   ],
   "source": [
    "import sys; sys.path.append('..')\n",
    "import numpy as np, elastic_rods\n",
    "from bending_validation import suppress_stdout\n",
    "from linkage_vis import LinkageViewer\n",
    "\n",
    "l = elastic_rods.RodLinkage('../../examples/florin/20181223_170154_meshID_634dcdf1-41c2-49d1-b2e6-6eeac059e3b1.obj', 8)\n",
    "#driver=166\n",
    "driver=l.centralJoint()\n",
    "\n",
    "#mat = elastic_rods.RodMaterial('+', 2000, 0.3, [5, 5, 0.7, 0.7], stiffAxis=elastic_rods.StiffAxis.D1)\n",
    "mat = elastic_rods.RodMaterial('rectangle', 20000, 0.3, [9, 6])\n",
    "l.setMaterial(mat)\n",
    "\n",
    "with suppress_stdout(): elastic_rods.restlen_solve(l)\n",
    "jdo = l.dofOffsetForJoint(driver)\n",
    "fixedVars = list(range(jdo, jdo + 6)) # fix rigid motion for a single joint\n",
    "fixedVars.append(jdo + 6) # constrain angle at the driving joint\n",
    "with suppress_stdout(): elastic_rods.compute_equilibrium(l, fixedVars=fixedVars)\n",
    "\n",
    "view = LinkageViewer(l, width=1024, labelOffset=-0.5)\n",
    "#view.setCameraParams(((2.656451698624758, 1.5087349593639046, 0.23168476156681694),\n",
    "# (0.052583904614345374, 0.026224725204501566, 0.9982721055721517),\n",
    "# (0.13680349418553736, -0.13680349418553736, -0.8425278443781967)))\n",
    "view.show()"
   ]
  },
  {
   "cell_type": "code",
   "execution_count": 79,
   "metadata": {},
   "outputs": [],
   "source": [
    "l.saveVisualizationGeometry('deployed_meshID_bdb78930-da3e-4a28-98f5-89c2ee17876c.obj')\n",
    "#l.writeLinkageDebugData('')"
   ]
  },
  {
   "cell_type": "code",
   "execution_count": 126,
   "metadata": {},
   "outputs": [],
   "source": [
    "from linkage_utils import writeRodSegments\n",
    "writeRodSegments(l,'rod_segments_meshID_1a219f3e-c853-4985-ad5f-f13b369c0e63.txt', zeroBasedIndexing=True)"
   ]
  },
  {
   "cell_type": "code",
   "execution_count": 127,
   "metadata": {},
   "outputs": [],
   "source": [
    "np.savetxt('restlen_meshID_1a219f3e-c853-4985-ad5f-f13b369c0e63.txt',l.getPerSegmentRestLength())"
   ]
  },
  {
   "cell_type": "code",
   "execution_count": 6,
   "metadata": {},
   "outputs": [
    {
     "name": "stdout",
     "output_type": "stream",
     "text": [
      "target angle:  1.2496557444279395\n",
      "0\t1.38992e+06\t28467.4\t28467.4\t1\t0\n",
      "1\t1.38878e+06\t35.2832\t35.2832\t1\t0\n",
      "2\t1.38878e+06\t1.1002\t1.1002\t1\t0\n",
      "3\t1.38878e+06\t0.000772772\t0.000772772\t1\t0\n",
      "4\t1.38878e+06\t0.00081735\t0.00081735\t0.125\t0\n",
      "5\t1.38878e+06\t0.000858396\t0.000858396\t0.015625\t0\n",
      "6\t1.38878e+06\t0.000867628\t0.000867628\t0.0625\t0\n",
      "7\t1.38878e+06\t0.000909752\t0.000909752\t6.10352e-05\t0\n",
      "8\t1.38878e+06\t0.000909681\t0.000909681\t0.00012207\t0\n",
      "9\t1.38878e+06\t0.000909691\t0.000909691\t3.05176e-05\t0\n",
      "Backtracking failed.\n",
      "9\t1.38878e+06\t0.000909691\t0.000909691\t3.05176e-05\t0\n",
      "0.8443410804861078\t1388775.8209383623\t1388775.8209383623\t1208581.2275834477\t55124.68433152386\t125069.9090233904\n",
      "target angle:  1.2426744274199621\n",
      "0\t1.38046e+06\t28567.9\t28567.9\t1\t0\n",
      "1\t1.37933e+06\t35.069\t35.069\t1\t0\n",
      "2\t1.37933e+06\t1.09892\t1.09892\t1\t0\n",
      "3\t1.37933e+06\t0.000659974\t0.000659974\t1\t0\n",
      "4\t1.37933e+06\t0.00071208\t0.00071208\t0.00195312\t0\n",
      "5\t1.37933e+06\t0.000712018\t0.000712018\t6.10352e-05\t0\n",
      "6\t1.37933e+06\t0.000712025\t0.000712025\t3.05176e-05\t0\n",
      "Backtracking failed.\n",
      "6\t1.37933e+06\t0.000712025\t0.000712025\t3.05176e-05\t0\n",
      "0.8380947615882419\t1379326.4584490582\t1379326.4584490582\t1198688.5982182429\t55335.7531437891\t125302.10708702654\n",
      "target angle:  1.2356931104119848\n",
      "0\t1.3712e+06\t28657.6\t28657.6\t1\t0\n",
      "1\t1.37008e+06\t34.8356\t34.8356\t1\t0\n",
      "2\t1.37008e+06\t1.09742\t1.09742\t1\t0\n",
      "3\t1.37008e+06\t0.000755559\t0.000755559\t1\t0\n",
      "4\t1.37008e+06\t0.00096779\t0.00096779\t0.03125\t0\n",
      "5\t1.37008e+06\t0.000976163\t0.000976163\t0.5\t0\n",
      "6\t1.37008e+06\t0.000727871\t0.000727871\t0.0078125\t0\n",
      "7\t1.37008e+06\t0.000728368\t0.000728368\t0.00195312\t0\n",
      "8\t1.37008e+06\t0.000728293\t0.000728293\t3.05176e-05\t0\n",
      "Backtracking failed.\n",
      "8\t1.37008e+06\t0.000728293\t0.000728293\t3.05176e-05\t0\n",
      "0.8319071908081684\t1370076.921562035\t1370076.9215620349\t1188977.810894423\t55559.646863113325\t125539.46380449795\n",
      "target angle:  1.2287117934040075\n",
      "0\t1.36214e+06\t28736.1\t28736.1\t1\t0\n",
      "1\t1.36102e+06\t34.5829\t34.5829\t1\t0\n",
      "2\t1.36102e+06\t1.09694\t1.09694\t1\t0\n",
      "3\t1.36102e+06\t0.000838287\t0.000838287\t0.125\t0\n",
      "4\t1.36102e+06\t0.00118585\t0.00118585\t6.10352e-05\t0\n",
      "5\t1.36102e+06\t0.00118375\t0.00118375\t3.05176e-05\t0\n",
      "Backtracking failed.\n",
      "5\t1.36102e+06\t0.00118375\t0.00118375\t3.05176e-05\t0\n",
      "0.8257773154099846\t1361021.239184021\t1361021.239184021\t1179443.0795875946\t55796.66496915924\t125781.49462726642\n",
      "target angle:  1.2217304763960302\n",
      "0\t1.35326e+06\t28803.2\t28803.2\t1\t0\n",
      "1\t1.35215e+06\t34.3106\t34.3106\t1\t0\n",
      "2\t1.35215e+06\t1.09772\t1.09772\t1\t0\n",
      "3\t1.35215e+06\t0.000784111\t0.000784111\t0.0625\t0\n",
      "4\t1.35215e+06\t0.00110884\t0.00110884\t0.5\t0\n",
      "5\t1.35215e+06\t0.00105128\t0.00105128\t6.10352e-05\t0\n",
      "6\t1.35215e+06\t0.00105689\t0.00105689\t3.05176e-05\t0\n",
      "Backtracking failed.\n",
      "6\t1.35215e+06\t0.00105689\t0.00105689\t3.05176e-05\t0\n",
      "0.8197040013388892\t1352153.5381069824\t1352153.5381069817\t1170078.7467765235\t56047.0605261177\t126027.7308043401\n",
      "0\t1.35215e+06\t0.00105688\t0.00105688\t3.05176e-05\t0\n",
      "Backtracking failed.\n",
      "0\t1.35215e+06\t0.00105688\t0.00105688\t3.05176e-05\t0\n"
     ]
    }
   ],
   "source": [
    "from open_linkage import open_linkage\n",
    "def equilibriumSolver(tgtAngle, l, opts, fv):\n",
    "    opts.beta = 1e-8\n",
    "    opts.gradTol = 1e-4\n",
    "    opts.useIdentityMetric = False\n",
    "    return elastic_rods.compute_equilibrium(l, tgtAngle, options=opts, fixedVars=fv)\n",
    "# open_linkage(l, driver, 2 * np.pi/3, 25, view, zPerturbationEpsilon=0, equilibriumSolver=equilibriumSolver, maxNewtonIterationsIntermediate=20, verbose=10, useTargetAngleConstraint=False);\n",
    "open_linkage(l, driver, np.deg2rad(70) - l.averageJointAngle, 5, view, zPerturbationEpsilon=0, equilibriumSolver=equilibriumSolver, maxNewtonIterationsIntermediate=20, verbose=10, useTargetAngleConstraint=True);"
   ]
  },
  {
   "cell_type": "code",
   "execution_count": null,
   "metadata": {},
   "outputs": [],
   "source": []
  },
  {
   "cell_type": "code",
   "execution_count": null,
   "metadata": {},
   "outputs": [],
   "source": []
  }
 ],
 "metadata": {
  "kernelspec": {
   "display_name": "Python 3",
   "language": "python",
   "name": "python3"
  },
  "language_info": {
   "codemirror_mode": {
    "name": "ipython",
    "version": 3
   },
   "file_extension": ".py",
   "mimetype": "text/x-python",
   "name": "python",
   "nbconvert_exporter": "python",
   "pygments_lexer": "ipython3",
   "version": "3.7.1"
  }
 },
 "nbformat": 4,
 "nbformat_minor": 2
}
