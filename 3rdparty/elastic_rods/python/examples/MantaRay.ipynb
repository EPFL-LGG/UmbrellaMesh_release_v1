{
 "cells": [
  {
   "cell_type": "code",
   "execution_count": 4,
   "metadata": {},
   "outputs": [
    {
     "data": {
      "application/vnd.jupyter.widget-view+json": {
       "model_id": "137ea3007a674aa480bed1dec9f81560",
       "version_major": 2,
       "version_minor": 0
      },
      "text/plain": [
       "Renderer(camera=PerspectiveCamera(aspect=2.0, children=(DirectionalLight(color='white', intensity=0.6, positio…"
      ]
     },
     "metadata": {},
     "output_type": "display_data"
    }
   ],
   "source": [
    "import sys; sys.path.append('..')\n",
    "import numpy as np, elastic_rods\n",
    "from bending_validation import suppress_stdout\n",
    "from linkage_vis import LinkageViewer\n",
    "\n",
    "l = elastic_rods.RodLinkage('../../examples/florin/20181227_193550_meshID_5ca2f7ab-3602-4ede-ac4d-c2bd798b2961.obj', 8)\n",
    "driver=l.centralJoint()\n",
    "\n",
    "mat = elastic_rods.RodMaterial('rectangle', 20000, 0.3, [10, 7])\n",
    "l.setMaterial(mat)\n",
    "\n",
    "with suppress_stdout(): elastic_rods.restlen_solve(l)\n",
    "jdo = l.dofOffsetForJoint(driver)\n",
    "fixedVars = list(range(jdo, jdo + 6)) # fix rigid motion for a single joint\n",
    "fixedVars.append(jdo + 6) # constrain angle at the driving joint\n",
    "with suppress_stdout(): elastic_rods.compute_equilibrium(l, fixedVars=fixedVars)\n",
    "\n",
    "view = LinkageViewer(l, width=1024, labelOffset=-0.5)\n",
    "#view.setCameraParams(((2.656451698624758, 1.5087349593639046, 0.23168476156681694),\n",
    "# (0.052583904614345374, 0.026224725204501566, 0.9982721055721517),\n",
    "# (0.13680349418553736, -0.13680349418553736, -0.8425278443781967)))\n",
    "view.show()"
   ]
  },
  {
   "cell_type": "code",
   "execution_count": 79,
   "metadata": {},
   "outputs": [],
   "source": [
    "l.saveVisualizationGeometry('deployed_meshID_bdb78930-da3e-4a28-98f5-89c2ee17876c.obj')\n",
    "#l.writeLinkageDebugData('')"
   ]
  },
  {
   "cell_type": "code",
   "execution_count": 126,
   "metadata": {},
   "outputs": [],
   "source": [
    "from linkage_utils import writeRodSegments\n",
    "writeRodSegments(l,'rod_segments_meshID_1a219f3e-c853-4985-ad5f-f13b369c0e63.txt', zeroBasedIndexing=True)"
   ]
  },
  {
   "cell_type": "code",
   "execution_count": 127,
   "metadata": {},
   "outputs": [],
   "source": [
    "np.savetxt('restlen_meshID_1a219f3e-c853-4985-ad5f-f13b369c0e63.txt',l.getPerSegmentRestLength())"
   ]
  },
  {
   "cell_type": "code",
   "execution_count": 2,
   "metadata": {},
   "outputs": [
    {
     "name": "stdout",
     "output_type": "stream",
     "text": [
      "target angle:  0.4010358630452041\n",
      "0\t1.80313e+06\t380666\t380666\t1\t0\n",
      "CHOLMOD detected non-positive definite matrix!; increasing tau to 1e-08\n",
      "CHOLMOD detected non-positive definite matrix!; increasing tau to 4e-08\n",
      "CHOLMOD detected non-positive definite matrix!; increasing tau to 1.6e-07\n",
      "CHOLMOD detected non-positive definite matrix!; increasing tau to 6.4e-07\n",
      "CHOLMOD detected non-positive definite matrix!; increasing tau to 2.56e-06\n",
      "CHOLMOD detected non-positive definite matrix!; increasing tau to 1.024e-05\n",
      "CHOLMOD detected non-positive definite matrix!; increasing tau to 4.096e-05\n",
      "CHOLMOD detected non-positive definite matrix!; increasing tau to 0.00016384\n",
      "CHOLMOD detected non-positive definite matrix!; increasing tau to 0.00065536\n",
      "CHOLMOD detected non-positive definite matrix!; increasing tau to 0.00262144\n",
      "CHOLMOD detected non-positive definite matrix!; increasing tau to 0.0104858\n",
      "CHOLMOD detected non-positive definite matrix!; increasing tau to 0.041943\n",
      "CHOLMOD detected non-positive definite matrix!; increasing tau to 0.167772\n",
      "CHOLMOD detected non-positive definite matrix!; increasing tau to 0.671089\n",
      "CHOLMOD detected non-positive definite matrix!; increasing tau to 2.68435\n",
      "CHOLMOD detected non-positive definite matrix!; increasing tau to 10.7374\n",
      "0.3943428344409919\t45703.979135527756\t45703.979135527756\t40240.4303784154\t2.5889826364442416e-20\t5463.548757112376\n",
      "target angle:  0.5368270120795955\n",
      "0\t353194\t160175\t160175\t1\t0\n",
      "Backtracking failed.\n",
      "0.47106958352006206\t70086.74685519005\t70086.74685519005\t65111.67878743674\t3.982263443425699e-20\t4975.068067753337\n",
      "target angle:  0.6726181611139869\n",
      "0\t342890\t144065\t144065\t1\t0\n",
      "Backtracking failed.\n",
      "0.5541097332820203\t106003.1925843809\t106003.1925843809\t100890.10622051547\t5.475784020489514e-20\t5113.086363865373\n",
      "target angle:  0.8084093101483782\n",
      "0\t386164\t142076\t142076\t1\t0\n",
      "0.6393652943453019\t154224.7947616084\t154224.7947616084\t148611.58220761758\t6.800836705505611e-20\t5613.212553990908\n",
      "target angle:  0.9442004591827696\n",
      "0\t458241\t145063\t145063\t1\t0\n",
      "0.7243247225892029\t216622.0048228688\t216622.0048228688\t210204.0773606437\t7.988453169135159e-20\t6417.927462225142\n",
      "target angle:  1.079991608217161\n",
      "0\t555990\t150990\t150990\t1\t0\n",
      "0.8074548403816686\t296255.0709621825\t296255.0709621825\t288648.0196503261\t9.713218607242263e-20\t7607.051311856383\n",
      "target angle:  1.2157827572515525\n",
      "0\t680302\t158890\t158890\t1\t0\n",
      "0.8878825625328184\t397922.31948432955\t397922.3194843296\t388522.54686218203\t4.3323775271725026e-19\t9399.772622147364\n",
      "target angle:  1.3515739062859438\n",
      "0\t832519\t167575\t167575\t1\t0\n",
      "CHOLMOD detected non-positive definite matrix!; increasing tau to 1e-08\n",
      "CHOLMOD detected non-positive definite matrix!; increasing tau to 4e-08\n",
      "CHOLMOD detected non-positive definite matrix!; increasing tau to 1.6e-07\n",
      "CHOLMOD detected non-positive definite matrix!; increasing tau to 6.4e-07\n",
      "CHOLMOD detected non-positive definite matrix!; increasing tau to 2.56e-06\n",
      "CHOLMOD detected non-positive definite matrix!; increasing tau to 1.024e-05\n",
      "CHOLMOD detected non-positive definite matrix!; increasing tau to 4.096e-05\n",
      "CHOLMOD detected non-positive definite matrix!; increasing tau to 0.00016384\n",
      "CHOLMOD detected non-positive definite matrix!; increasing tau to 0.00065536\n",
      "CHOLMOD detected non-positive definite matrix!; increasing tau to 0.00262144\n",
      "CHOLMOD detected non-positive definite matrix!; increasing tau to 0.0104858\n",
      "CHOLMOD detected non-positive definite matrix!; increasing tau to 0.041943\n",
      "CHOLMOD detected non-positive definite matrix!; increasing tau to 0.167772\n",
      "CHOLMOD detected non-positive definite matrix!; increasing tau to 0.671089\n",
      "CHOLMOD detected non-positive definite matrix!; increasing tau to 2.68435\n",
      "CHOLMOD detected non-positive definite matrix!; increasing tau to 10.7374\n",
      "CHOLMOD detected non-positive definite matrix!; increasing tau to 5.36871\n",
      "CHOLMOD detected non-positive definite matrix!; increasing tau to 21.4748\n",
      "CHOLMOD detected non-positive definite matrix!; increasing tau to 10.7374\n",
      "CHOLMOD detected non-positive definite matrix!; increasing tau to 5.36871\n",
      "CHOLMOD detected non-positive definite matrix!; increasing tau to 21.4748\n",
      "Computing negative curvature direction for scaled tau = 3.48148e-05\n",
      "CHOLMOD detected non-positive definite matrix!; increasing tau to 10.7374\n",
      "CHOLMOD detected non-positive definite matrix!; increasing tau to 5.36871\n",
      "CHOLMOD detected non-positive definite matrix!; increasing tau to 21.4748\n",
      "CHOLMOD detected non-positive definite matrix!; increasing tau to 10.7374\n",
      "10\t529515\t2147.42\t2147.42\t0.5\t0\n",
      "20\t528641\t6024.36\t6024.36\t1\t0\n",
      "0.9769379393033384\t528640.6580894736\t528640.6580894736\t511043.20525748597\t6065.824156201497\t11531.628675786065\n",
      "target angle:  1.487365055320335\n",
      "0\t1.12714e+06\t243494\t243494\t1\t0\n",
      "CHOLMOD detected non-positive definite matrix!; increasing tau to 1e-08\n",
      "CHOLMOD detected non-positive definite matrix!; increasing tau to 4e-08\n",
      "CHOLMOD detected non-positive definite matrix!; increasing tau to 1.6e-07\n",
      "CHOLMOD detected non-positive definite matrix!; increasing tau to 6.4e-07\n",
      "CHOLMOD detected non-positive definite matrix!; increasing tau to 2.56e-06\n",
      "CHOLMOD detected non-positive definite matrix!; increasing tau to 1.024e-05\n",
      "CHOLMOD detected non-positive definite matrix!; increasing tau to 4.096e-05\n",
      "CHOLMOD detected non-positive definite matrix!; increasing tau to 0.00016384\n",
      "CHOLMOD detected non-positive definite matrix!; increasing tau to 0.00065536\n",
      "CHOLMOD detected non-positive definite matrix!; increasing tau to 0.00262144\n",
      "CHOLMOD detected non-positive definite matrix!; increasing tau to 0.0104858\n",
      "CHOLMOD detected non-positive definite matrix!; increasing tau to 0.041943\n",
      "CHOLMOD detected non-positive definite matrix!; increasing tau to 0.167772\n",
      "CHOLMOD detected non-positive definite matrix!; increasing tau to 0.671089\n",
      "CHOLMOD detected non-positive definite matrix!; increasing tau to 2.68435\n",
      "CHOLMOD detected non-positive definite matrix!; increasing tau to 10.7374\n",
      "CHOLMOD detected non-positive definite matrix!; increasing tau to 42.9497\n",
      "10\t694824\t3939.09\t3939.09\t0.5\t0\n",
      "20\t693737\t397.318\t397.318\t1\t0\n",
      "1.1001458240591004\t693736.5413231024\t693736.5413231025\t624841.1214972783\t55728.84954521542\t13166.570280609689\n",
      "target angle:  1.6231562043547263\n",
      "0\t7.12463e+06\t1.36298e+06\t1.36298e+06\t1\t0\n",
      "CHOLMOD detected non-positive definite matrix!; increasing tau to 1e-08\n",
      "CHOLMOD detected non-positive definite matrix!; increasing tau to 4e-08\n",
      "CHOLMOD detected non-positive definite matrix!; increasing tau to 1.6e-07\n",
      "CHOLMOD detected non-positive definite matrix!; increasing tau to 6.4e-07\n",
      "CHOLMOD detected non-positive definite matrix!; increasing tau to 2.56e-06\n",
      "CHOLMOD detected non-positive definite matrix!; increasing tau to 1.024e-05\n",
      "CHOLMOD detected non-positive definite matrix!; increasing tau to 4.096e-05\n",
      "CHOLMOD detected non-positive definite matrix!; increasing tau to 0.00016384\n",
      "CHOLMOD detected non-positive definite matrix!; increasing tau to 0.00065536\n",
      "CHOLMOD detected non-positive definite matrix!; increasing tau to 0.00262144\n",
      "CHOLMOD detected non-positive definite matrix!; increasing tau to 0.0104858\n",
      "CHOLMOD detected non-positive definite matrix!; increasing tau to 0.041943\n",
      "CHOLMOD detected non-positive definite matrix!; increasing tau to 0.167772\n",
      "CHOLMOD detected non-positive definite matrix!; increasing tau to 0.671089\n",
      "CHOLMOD detected non-positive definite matrix!; increasing tau to 2.68435\n",
      "CHOLMOD detected non-positive definite matrix!; increasing tau to 10.7374\n",
      "CHOLMOD detected non-positive definite matrix!; increasing tau to 42.9497\n",
      "CHOLMOD detected non-positive definite matrix!; increasing tau to 171.799\n",
      "CHOLMOD detected non-positive definite matrix!; increasing tau to 687.195\n",
      "10\t899834\t1852.41\t1852.41\t1\t0\n",
      "20\t899526\t124.573\t124.573\t1\t0\n",
      "1.2381299638242558\t899525.9988839213\t899525.9988839212\t737203.2308850157\t146124.23606951378\t16198.531929392142\n",
      "0\t899526\t124.573\t124.573\t1\t0\n"
     ]
    }
   ],
   "source": [
    "from open_linkage import open_linkage\n",
    "def equilibriumSolver(tgtAngle, l, opts, fv):\n",
    "    opts.beta = 1e-8\n",
    "    opts.gradTol = 1e-4\n",
    "    opts.useIdentityMetric = False\n",
    "    return elastic_rods.compute_equilibrium(l, tgtAngle, options=opts, fixedVars=fv)\n",
    "# open_linkage(l, driver, 2 * np.pi/3, 25, view, zPerturbationEpsilon=0, equilibriumSolver=equilibriumSolver, maxNewtonIterationsIntermediate=20, verbose=10, useTargetAngleConstraint=False);\n",
    "open_linkage(l, driver, np.deg2rad(93) - l.averageJointAngle, 10, view, zPerturbationEpsilon=0, equilibriumSolver=equilibriumSolver, maxNewtonIterationsIntermediate=20, verbose=10, useTargetAngleConstraint=True);"
   ]
  },
  {
   "cell_type": "code",
   "execution_count": null,
   "metadata": {},
   "outputs": [],
   "source": []
  },
  {
   "cell_type": "code",
   "execution_count": null,
   "metadata": {},
   "outputs": [],
   "source": []
  }
 ],
 "metadata": {
  "kernelspec": {
   "display_name": "Python 3",
   "language": "python",
   "name": "python3"
  },
  "language_info": {
   "codemirror_mode": {
    "name": "ipython",
    "version": 3
   },
   "file_extension": ".py",
   "mimetype": "text/x-python",
   "name": "python",
   "nbconvert_exporter": "python",
   "pygments_lexer": "ipython3",
   "version": "3.7.3"
  }
 },
 "nbformat": 4,
 "nbformat_minor": 4
}
