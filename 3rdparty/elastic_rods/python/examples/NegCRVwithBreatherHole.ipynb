{
 "cells": [
  {
   "cell_type": "code",
   "execution_count": 1,
   "metadata": {},
   "outputs": [
    {
     "data": {
      "application/vnd.jupyter.widget-view+json": {
       "model_id": "f9c7d8ebf41a419f9f42509279e236f3",
       "version_major": 2,
       "version_minor": 0
      },
      "text/plain": [
       "Renderer(camera=PerspectiveCamera(aspect=2.0, children=(DirectionalLight(color='white', intensity=0.6, positio…"
      ]
     },
     "metadata": {},
     "output_type": "display_data"
    }
   ],
   "source": [
    "import sys; sys.path.append('..')\n",
    "import numpy as np, elastic_rods\n",
    "from bending_validation import suppress_stdout\n",
    "from linkage_vis import LinkageViewer\n",
    "\n",
    "l = elastic_rods.RodLinkage('../../examples/florin/20181228_144416_meshID_256ad579-1c5f-490d-aa6d-0a81bb00c471.obj', 8)\n",
    "#driver=166\n",
    "driver=l.centralJoint()\n",
    "\n",
    "#mat = elastic_rods.RodMaterial('+', 2000, 0.3, [5, 5, 0.7, 0.7], stiffAxis=elastic_rods.StiffAxis.D1)\n",
    "mat = elastic_rods.RodMaterial('rectangle', 20000, 0.3, [15, 10])\n",
    "l.setMaterial(mat)\n",
    "\n",
    "with suppress_stdout(): elastic_rods.restlen_solve(l)\n",
    "jdo = l.dofOffsetForJoint(driver)\n",
    "fixedVars = list(range(jdo, jdo + 6)) # fix rigid motion for a single joint\n",
    "fixedVars.append(jdo + 6) # constrain angle at the driving joint\n",
    "with suppress_stdout(): elastic_rods.compute_equilibrium(l, fixedVars=fixedVars)\n",
    "\n",
    "view = LinkageViewer(l, width=1024, labelOffset=-0.5)\n",
    "#view.setCameraParams(((2.656451698624758, 1.5087349593639046, 0.23168476156681694),\n",
    "# (0.052583904614345374, 0.026224725204501566, 0.9982721055721517),\n",
    "# (0.13680349418553736, -0.13680349418553736, -0.8425278443781967)))\n",
    "view.show()"
   ]
  },
  {
   "cell_type": "code",
   "execution_count": 79,
   "metadata": {},
   "outputs": [],
   "source": [
    "l.saveVisualizationGeometry('deployed_meshID_bdb78930-da3e-4a28-98f5-89c2ee17876c.obj')\n",
    "#l.writeLinkageDebugData('')"
   ]
  },
  {
   "cell_type": "code",
   "execution_count": 126,
   "metadata": {},
   "outputs": [],
   "source": [
    "from linkage_utils import writeRodSegments\n",
    "writeRodSegments(l,'rod_segments_meshID_1a219f3e-c853-4985-ad5f-f13b369c0e63.txt', zeroBasedIndexing=True)"
   ]
  },
  {
   "cell_type": "code",
   "execution_count": 127,
   "metadata": {},
   "outputs": [],
   "source": [
    "np.savetxt('restlen_meshID_1a219f3e-c853-4985-ad5f-f13b369c0e63.txt',l.getPerSegmentRestLength())"
   ]
  },
  {
   "cell_type": "code",
   "execution_count": 4,
   "metadata": {},
   "outputs": [
    {
     "name": "stdout",
     "output_type": "stream",
     "text": [
      "target angle:  2.1118483949131415\n",
      "0\t1.06112e+06\t22995.4\t22995.4\t1\t0\n",
      "1\t1.05819e+06\t44.0696\t44.0696\t1\t0\n",
      "2\t1.05819e+06\t17.4594\t17.4594\t1\t0\n",
      "3\t1.05819e+06\t0.000416205\t0.000416205\t1\t0\n",
      "4\t1.05819e+06\t3.19284e-05\t3.19284e-05\t1\t0\n",
      "1.985396449399901\t1058190.7906512248\t1058190.790651225\t993299.7425839503\t40405.33788356195\t24485.710183711995\n",
      "target angle:  2.1293016874330846\n",
      "0\t1.09973e+06\t22061.5\t22061.5\t1\t0\n",
      "1\t1.09698e+06\t41.5813\t41.5813\t1\t0\n",
      "2\t1.09698e+06\t16.4759\t16.4759\t1\t0\n",
      "3\t1.09698e+06\t0.000198361\t0.000198361\t1\t0\n",
      "4\t1.09698e+06\t3.21123e-05\t3.21123e-05\t1\t0\n",
      "2.004964555695859\t1096981.242234503\t1096981.242234503\t1025460.4275216471\t46427.08893982571\t25093.725773030623\n",
      "target angle:  2.1467549799530277\n",
      "0\t1.13985e+06\t21352\t21352\t1\t0\n",
      "1\t1.13722e+06\t40.2176\t40.2176\t1\t0\n",
      "2\t1.13722e+06\t16.2374\t16.2374\t1\t0\n",
      "3\t1.13722e+06\t0.000120005\t0.000120005\t0.125\t0\n",
      "4\t1.13722e+06\t0.00010747\t0.00010747\t0.125\t0\n",
      "5\t1.13722e+06\t9.58732e-05\t9.58732e-05\t0.125\t0\n",
      "2.024719020242376\t1137219.3648932246\t1137219.3648932246\t1058603.3727150229\t52879.871266278766\t25736.120911922626\n",
      "target angle:  2.1642082724729708\n",
      "0\t1.18154e+06\t20841.8\t20841.8\t1\t0\n",
      "1\t1.17897e+06\t39.5299\t39.5299\t1\t0\n",
      "2\t1.17897e+06\t16.6561\t16.6561\t1\t0\n",
      "3\t1.17897e+06\t9.12676e-05\t9.12676e-05\t1\t0\n",
      "2.0446887024964107\t1178972.7451081453\t1178972.745108145\t1092780.7261255593\t59776.30089934658\t26415.718083239077\n",
      "target angle:  2.181661564992914\n",
      "0\t1.22487e+06\t20530\t20530\t1\t0\n",
      "1\t1.22231e+06\t39.2499\t39.2499\t1\t0\n",
      "2\t1.22231e+06\t17.8187\t17.8187\t1\t0\n",
      "3\t1.22231e+06\t8.57079e-05\t8.57079e-05\t1\t0\n",
      "2.064912474264917\t1222312.8572039953\t1222312.8572039953\t1128050.0207861767\t67127.43845301674\t27135.397964802647\n",
      "target angle:  2.199114857512857\n",
      "0\t1.26991e+06\t20438.6\t20438.6\t1\t0\n",
      "1\t1.26732e+06\t39.2322\t39.2322\t1\t0\n",
      "2\t1.26732e+06\t19.9944\t19.9944\t1\t0\n",
      "3\t1.26732e+06\t9.16614e-05\t9.16614e-05\t1\t0\n",
      "2.085442065175904\t1267315.073455087\t1267315.073455087\t1164473.8556306455\t74943.1276899059\t27898.090134536036\n",
      "target angle:  2.2165681500328\n",
      "0\t1.31675e+06\t20614.9\t20614.9\t1\t0\n",
      "1\t1.31406e+06\t39.4321\t39.4321\t1\t0\n",
      "2\t1.31406e+06\t23.6642\t23.6642\t1\t0\n",
      "3\t1.31406e+06\t0.000114062\t0.000114062\t0.015625\t0\n",
      "4\t1.31406e+06\t0.00011295\t0.00011295\t3.05176e-05\t0\n",
      "Backtracking failed.\n",
      "4\t1.31406e+06\t0.00011295\t0.00011295\t3.05176e-05\t0\n",
      "2.106345786966524\t1314058.5774690325\t1314058.5774690325\t1202119.4798008502\t83232.34074951141\t28706.75691867187\n",
      "target angle:  2.234021442552743\n",
      "0\t1.36547e+06\t21134.9\t21134.9\t1\t0\n",
      "1\t1.36263e+06\t39.9237\t39.9237\t1\t0\n",
      "2\t1.36263e+06\t29.5223\t29.5223\t1\t0\n",
      "3\t1.36263e+06\t0.000170303\t0.000170303\t1\t0\n",
      "4\t1.36263e+06\t2.98922e-05\t2.98922e-05\t1\t0\n",
      "2.1277133606729635\t1362626.1514120041\t1362626.1514120041\t1241058.2667683538\t92003.51239066827\t29564.37225298153\n",
      "target angle:  2.2514747350726863\n",
      "0\t1.41619e+06\t22106.6\t22106.6\t1\t0\n",
      "1\t1.4131e+06\t40.9736\t40.9736\t1\t0\n",
      "2\t1.4131e+06\t38.39\t38.39\t1\t0\n",
      "3\t1.4131e+06\t0.000307636\t0.000307636\t0.5\t0\n",
      "4\t1.4131e+06\t0.00015811\t0.00015811\t1\t0\n",
      "5\t1.4131e+06\t3.05028e-05\t3.05028e-05\t1\t0\n",
      "2.1496617939648717\t1413103.796894018\t1413103.796894018\t1281365.129574537\t101264.7760131494\t30473.891306330417\n",
      "target angle:  2.2689280275926293\n",
      "0\t1.46904e+06\t23670.7\t23670.7\t1\t0\n",
      "1\t1.46558e+06\t43.1994\t43.1994\t1\t0\n",
      "2\t1.46558e+06\t50.9707\t50.9707\t1\t0\n",
      "3\t1.46558e+06\t0.000627829\t0.000627829\t1\t0\n",
      "4\t1.46558e+06\t4.40168e-05\t4.40168e-05\t1\t0\n",
      "2.1723422052292705\t1465580.1395861136\t1465580.1395861134\t1323117.9145786336\t111024.00906584757\t31438.215941631595\n",
      "0\t1.46558e+06\t4.40471e-05\t4.40471e-05\t0\t0\n"
     ]
    }
   ],
   "source": [
    "from open_linkage import open_linkage\n",
    "def equilibriumSolver(tgtAngle, l, opts, fv):\n",
    "    opts.beta = 1e-8\n",
    "    opts.gradTol = 1e-4\n",
    "    opts.useIdentityMetric = False\n",
    "    return elastic_rods.compute_equilibrium(l, tgtAngle, options=opts, fixedVars=fv)\n",
    "# open_linkage(l, driver, 2 * np.pi/3, 25, view, zPerturbationEpsilon=0, equilibriumSolver=equilibriumSolver, maxNewtonIterationsIntermediate=20, verbose=10, useTargetAngleConstraint=False);\n",
    "open_linkage(l, driver, np.deg2rad(130) - l.averageJointAngle, 10, view, zPerturbationEpsilon=0, equilibriumSolver=equilibriumSolver, maxNewtonIterationsIntermediate=20, verbose=10, useTargetAngleConstraint=True);"
   ]
  },
  {
   "cell_type": "code",
   "execution_count": null,
   "metadata": {},
   "outputs": [],
   "source": []
  },
  {
   "cell_type": "code",
   "execution_count": null,
   "metadata": {},
   "outputs": [],
   "source": []
  }
 ],
 "metadata": {
  "kernelspec": {
   "display_name": "Python 3",
   "language": "python",
   "name": "python3"
  },
  "language_info": {
   "codemirror_mode": {
    "name": "ipython",
    "version": 3
   },
   "file_extension": ".py",
   "mimetype": "text/x-python",
   "name": "python",
   "nbconvert_exporter": "python",
   "pygments_lexer": "ipython3",
   "version": "3.7.1"
  }
 },
 "nbformat": 4,
 "nbformat_minor": 2
}
