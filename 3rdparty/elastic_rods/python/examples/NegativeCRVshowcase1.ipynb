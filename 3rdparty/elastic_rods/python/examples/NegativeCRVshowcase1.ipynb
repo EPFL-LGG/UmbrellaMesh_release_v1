{
 "cells": [
  {
   "cell_type": "code",
   "execution_count": 1,
   "metadata": {},
   "outputs": [
    {
     "data": {
      "application/vnd.jupyter.widget-view+json": {
       "model_id": "32f973003aec457487000a1aa55a2b49",
       "version_major": 2,
       "version_minor": 0
      },
      "text/plain": [
       "Renderer(camera=PerspectiveCamera(aspect=2.0, children=(DirectionalLight(color='white', intensity=0.6, positio…"
      ]
     },
     "metadata": {},
     "output_type": "display_data"
    }
   ],
   "source": [
    "import sys; sys.path.append('..')\n",
    "import numpy as np, elastic_rods\n",
    "from bending_validation import suppress_stdout\n",
    "from linkage_vis import LinkageViewer\n",
    "\n",
    "l = elastic_rods.RodLinkage('../../examples/florin/20181228_140811_meshID_78c18f9b-974b-4030-be23-1f6e2895c612.obj', 8)\n",
    "#driver=166\n",
    "driver=l.centralJoint()\n",
    "\n",
    "#mat = elastic_rods.RodMaterial('+', 2000, 0.3, [5, 5, 0.7, 0.7], stiffAxis=elastic_rods.StiffAxis.D1)\n",
    "mat = elastic_rods.RodMaterial('rectangle', 20000, 0.3, [15, 10])\n",
    "l.setMaterial(mat)\n",
    "\n",
    "with suppress_stdout(): elastic_rods.restlen_solve(l)\n",
    "jdo = l.dofOffsetForJoint(driver)\n",
    "fixedVars = list(range(jdo, jdo + 6)) # fix rigid motion for a single joint\n",
    "fixedVars.append(jdo + 6) # constrain angle at the driving joint\n",
    "with suppress_stdout(): elastic_rods.compute_equilibrium(l, fixedVars=fixedVars)\n",
    "\n",
    "view = LinkageViewer(l, width=1024, labelOffset=-0.5)\n",
    "#view.setCameraParams(((2.656451698624758, 1.5087349593639046, 0.23168476156681694),\n",
    "# (0.052583904614345374, 0.026224725204501566, 0.9982721055721517),\n",
    "# (0.13680349418553736, -0.13680349418553736, -0.8425278443781967)))\n",
    "view.show()"
   ]
  },
  {
   "cell_type": "code",
   "execution_count": 79,
   "metadata": {},
   "outputs": [],
   "source": [
    "l.saveVisualizationGeometry('deployed_meshID_bdb78930-da3e-4a28-98f5-89c2ee17876c.obj')\n",
    "#l.writeLinkageDebugData('')"
   ]
  },
  {
   "cell_type": "code",
   "execution_count": 126,
   "metadata": {},
   "outputs": [],
   "source": [
    "from linkage_utils import writeRodSegments\n",
    "writeRodSegments(l,'rod_segments_meshID_1a219f3e-c853-4985-ad5f-f13b369c0e63.txt', zeroBasedIndexing=True)"
   ]
  },
  {
   "cell_type": "code",
   "execution_count": 127,
   "metadata": {},
   "outputs": [],
   "source": [
    "np.savetxt('restlen_meshID_1a219f3e-c853-4985-ad5f-f13b369c0e63.txt',l.getPerSegmentRestLength())"
   ]
  },
  {
   "cell_type": "code",
   "execution_count": 4,
   "metadata": {},
   "outputs": [
    {
     "name": "stdout",
     "output_type": "stream",
     "text": [
      "target angle:  2.103121748653167\n",
      "0\t1.25684e+06\t4632.62\t4632.62\t1\t0\n",
      "1\t1.2567e+06\t1.82755\t1.82755\t1\t0\n",
      "2\t1.2567e+06\t0.349735\t0.349735\t1\t0\n",
      "3\t1.2567e+06\t3.36387e-05\t3.36387e-05\t1\t0\n",
      "1.9394671492309559\t1256700.428331606\t1256700.428331606\t1159762.1274626316\t81156.84978243435\t15781.451086538245\n",
      "target angle:  2.1118483949131384\n",
      "0\t1.2797e+06\t4673.22\t4673.22\t1\t0\n",
      "1\t1.27956e+06\t1.86857\t1.86857\t1\t0\n",
      "2\t1.27956e+06\t0.368182\t0.368182\t1\t0\n",
      "3\t1.27956e+06\t3.24311e-05\t3.24311e-05\t1\t0\n",
      "1.949166666341159\t1279559.7452288028\t1279559.7452288028\t1178336.406807932\t85091.05632219955\t16132.28209867048\n",
      "target angle:  2.12057504117311\n",
      "0\t1.30303e+06\t4717.6\t4717.6\t1\t0\n",
      "1\t1.30289e+06\t1.91258\t1.91258\t1\t0\n",
      "2\t1.30289e+06\t0.386903\t0.386903\t1\t0\n",
      "3\t1.30289e+06\t3.24831e-05\t3.24831e-05\t1\t0\n",
      "1.9589366257845375\t1302889.4644797647\t1302889.4644797642\t1197232.907551752\t89163.21322507154\t16493.34370294259\n",
      "target angle:  2.1293016874330815\n",
      "0\t1.32685e+06\t4765.74\t4765.74\t1\t0\n",
      "1\t1.3267e+06\t1.95957\t1.95957\t1\t0\n",
      "2\t1.3267e+06\t0.40541\t0.40541\t1\t0\n",
      "3\t1.3267e+06\t3.19924e-05\t3.19924e-05\t1\t0\n",
      "1.96877695012175\t1326701.126218317\t1326701.126218317\t1216458.6111875575\t93377.6088053728\t16864.906225387647\n",
      "target angle:  2.138028333693053\n",
      "0\t1.35116e+06\t4817.6\t4817.6\t1\t0\n",
      "1\t1.35101e+06\t2.0096\t2.0096\t1\t0\n",
      "2\t1.35101e+06\t0.42313\t0.42313\t1\t0\n",
      "3\t1.35101e+06\t3.2846e-05\t3.2846e-05\t1\t0\n",
      "1.9786872416733872\t1351006.4481195407\t1351006.4481195407\t1236020.763875789\t97738.44395412182\t17247.24028962991\n",
      "target angle:  2.1467549799530246\n",
      "0\t1.37597e+06\t4873.19\t4873.19\t1\t0\n",
      "1\t1.37582e+06\t2.06285\t2.06285\t1\t0\n",
      "2\t1.37582e+06\t0.439421\t0.439421\t1\t0\n",
      "3\t1.37582e+06\t3.31614e-05\t3.31614e-05\t1\t0\n",
      "1.9886667712186321\t1375817.3183405418\t1375817.318340542\t1255926.908219768\t102249.79226560859\t17640.617855164866\n",
      "target angle:  2.155481626212996\n",
      "0\t1.4013e+06\t4932.5\t4932.5\t1\t0\n",
      "1\t1.40115e+06\t2.1196\t2.1196\t1\t0\n",
      "2\t1.40115e+06\t0.453592\t0.453592\t1\t0\n",
      "3\t1.40115e+06\t3.32621e-05\t3.32621e-05\t1\t0\n",
      "1.9987144733494047\t1401145.789670677\t1401145.7896706772\t1276184.918230958\t106915.55778347733\t18045.313656242564\n",
      "target angle:  2.1642082724729677\n",
      "0\t1.42717e+06\t4995.53\t4995.53\t1\t0\n",
      "1\t1.427e+06\t2.18031\t2.18031\t1\t0\n",
      "2\t1.427e+06\t0.464952\t0.464952\t1\t0\n",
      "3\t1.427e+06\t3.22883e-05\t3.22883e-05\t1\t0\n",
      "2.0088289495927425\t1427004.0753028179\t1427004.0753028183\t1296803.0368628183\t111739.43140300285\t18461.607036996313\n",
      "target angle:  2.172934918732939\n",
      "0\t1.45357e+06\t5062.26\t5062.26\t1\t0\n",
      "1\t1.4534e+06\t2.24555\t2.24555\t1\t0\n",
      "2\t1.4534e+06\t0.472858\t0.472858\t1\t0\n",
      "3\t1.4534e+06\t3.20071e-05\t3.20071e-05\t1\t0\n",
      "2.0190084801211823\t1453404.5466015527\t1453404.546601553\t1317789.9152616374\t116724.84718902294\t18889.784150892374\n",
      "target angle:  2.1816615649929108\n",
      "0\t1.48054e+06\t5132.64\t5132.64\t1\t0\n",
      "1\t1.48036e+06\t2.31601\t2.31601\t1\t0\n",
      "2\t1.48036e+06\t0.476762\t0.476762\t1\t0\n",
      "3\t1.48036e+06\t3.11475e-05\t3.11475e-05\t1\t0\n",
      "2.0292510444722116\t1480359.7331797977\t1480359.733179798\t1339154.6526855624\t121874.9400266977\t19330.140467537396\n",
      "0\t1.48036e+06\t3.11469e-05\t3.11469e-05\t0\t0\n"
     ]
    }
   ],
   "source": [
    "from open_linkage import open_linkage\n",
    "def equilibriumSolver(tgtAngle, l, opts, fv):\n",
    "    opts.beta = 1e-8\n",
    "    opts.gradTol = 1e-4\n",
    "    opts.useIdentityMetric = False\n",
    "    return elastic_rods.compute_equilibrium(l, tgtAngle, options=opts, fixedVars=fv)\n",
    "# open_linkage(l, driver, 2 * np.pi/3, 25, view, zPerturbationEpsilon=0, equilibriumSolver=equilibriumSolver, maxNewtonIterationsIntermediate=20, verbose=10, useTargetAngleConstraint=False);\n",
    "open_linkage(l, driver, np.deg2rad(125) - l.averageJointAngle, 10, view, zPerturbationEpsilon=0, equilibriumSolver=equilibriumSolver, maxNewtonIterationsIntermediate=20, verbose=10, useTargetAngleConstraint=True);"
   ]
  },
  {
   "cell_type": "code",
   "execution_count": null,
   "metadata": {},
   "outputs": [],
   "source": []
  },
  {
   "cell_type": "code",
   "execution_count": null,
   "metadata": {},
   "outputs": [],
   "source": []
  }
 ],
 "metadata": {
  "kernelspec": {
   "display_name": "Python 3",
   "language": "python",
   "name": "python3"
  },
  "language_info": {
   "codemirror_mode": {
    "name": "ipython",
    "version": 3
   },
   "file_extension": ".py",
   "mimetype": "text/x-python",
   "name": "python",
   "nbconvert_exporter": "python",
   "pygments_lexer": "ipython3",
   "version": "3.7.1"
  }
 },
 "nbformat": 4,
 "nbformat_minor": 2
}
