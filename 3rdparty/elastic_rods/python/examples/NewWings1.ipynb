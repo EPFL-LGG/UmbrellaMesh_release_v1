{
 "cells": [
  {
   "cell_type": "code",
   "execution_count": 1,
   "metadata": {},
   "outputs": [
    {
     "data": {
      "application/vnd.jupyter.widget-view+json": {
       "model_id": "32c2988dd880471590277d63cd252258",
       "version_major": 2,
       "version_minor": 0
      },
      "text/plain": [
       "Renderer(camera=PerspectiveCamera(aspect=2.0, children=(DirectionalLight(color='white', intensity=0.6, positio…"
      ]
     },
     "metadata": {},
     "output_type": "display_data"
    }
   ],
   "source": [
    "import sys; sys.path.append('..')\n",
    "import numpy as np, elastic_rods\n",
    "from bending_validation import suppress_stdout\n",
    "from linkage_vis import LinkageViewer\n",
    "\n",
    "l = elastic_rods.RodLinkage('../../examples/florin/20181211_191947_meshID_bdb78930-da3e-4a28-98f5-89c2ee17876c.obj', 8)\n",
    "#driver=166\n",
    "driver=l.centralJoint()\n",
    "\n",
    "#mat = elastic_rods.RodMaterial('+', 2000, 0.3, [5, 5, 0.7, 0.7], stiffAxis=elastic_rods.StiffAxis.D1)\n",
    "mat = elastic_rods.RodMaterial('rectangle', 20000, 0.3, [12, 8])\n",
    "l.setMaterial(mat)\n",
    "\n",
    "with suppress_stdout(): elastic_rods.restlen_solve(l)\n",
    "jdo = l.dofOffsetForJoint(driver)\n",
    "fixedVars = list(range(jdo, jdo + 6)) # fix rigid motion for a single joint\n",
    "fixedVars.append(jdo + 6) # constrain angle at the driving joint\n",
    "with suppress_stdout(): elastic_rods.compute_equilibrium(l, fixedVars=fixedVars)\n",
    "\n",
    "view = LinkageViewer(l, width=1024, labelOffset=-0.5)\n",
    "#view.setCameraParams(((2.656451698624758, 1.5087349593639046, 0.23168476156681694),\n",
    "# (0.052583904614345374, 0.026224725204501566, 0.9982721055721517),\n",
    "# (0.13680349418553736, -0.13680349418553736, -0.8425278443781967)))\n",
    "view.show()"
   ]
  },
  {
   "cell_type": "code",
   "execution_count": 6,
   "metadata": {
    "jupyter": {
     "source_hidden": true
    }
   },
   "outputs": [],
   "source": [
    "l.saveVisualizationGeometry('deployed_meshID_bdb78930-da3e-4a28-98f5-89c2ee17876c.obj')\n",
    "#l.writeLinkageDebugData('')\n",
    "np.savetxt('restlen_meshID_bdb78930-da3e-4a28-98f5-89c2ee17876c.txt',l.getPerSegmentRestLength())\n",
    "from linkage_utils import writeRodSegments\n",
    "writeRodSegments(l,'rod_segments_meshID_bdb78930-da3e-4a28-98f5-89c2ee17876c.txt', zeroBasedIndexing=True)"
   ]
  },
  {
   "cell_type": "code",
   "execution_count": 3,
   "metadata": {},
   "outputs": [
    {
     "name": "stdout",
     "output_type": "stream",
     "text": [
      "target angle:  1.65282680163863\n",
      "0\t285247\t28863\t28863\t1\t0\n",
      "1\t280880\t86.9352\t86.9352\t1\t0\n",
      "2\t280880\t1.79471\t1.79471\t1\t0\n",
      "3\t280880\t7.49673e-05\t7.49673e-05\t1\t0\n",
      "2.120160148189778\t280879.5871596606\t280879.5871596605\t247714.13547806666\t28347.65487717749\t4817.796804416385\n",
      "target angle:  1.6824973989225336\n",
      "0\t300337\t28639.4\t28639.4\t1\t0\n",
      "1\t296000\t84.177\t84.177\t1\t0\n",
      "2\t295999\t1.81186\t1.81186\t1\t0\n",
      "3\t295999\t7.01267e-05\t7.01267e-05\t1\t0\n",
      "2.1592753674038856\t295999.4480383382\t295999.4480383382\t257371.09494204214\t33715.74399181855\t4912.609104477447\n",
      "target angle:  1.7121679962064371\n",
      "0\t316113\t28484.6\t28484.6\t1\t0\n",
      "1\t311791\t81.831\t81.831\t1\t0\n",
      "2\t311791\t2.02068\t2.02068\t1\t0\n",
      "3\t311791\t7.56657e-05\t7.56657e-05\t1\t0\n",
      "2.1985679997256957\t311791.33726922504\t311791.33726922504\t267310.43072744046\t39449.51688246433\t5031.389659320175\n",
      "target angle:  1.7418385934903406\n",
      "0\t332647\t28435.3\t28435.3\t1\t0\n",
      "1\t328314\t80.0418\t80.0418\t1\t0\n",
      "2\t328314\t2.36373\t2.36373\t1\t0\n",
      "3\t328314\t8.93039e-05\t8.93039e-05\t1\t0\n",
      "2.2380579208878206\t328314.24999762676\t328314.24999762676\t277598.5458986212\t45537.79089368902\t5177.913205316403\n",
      "target angle:  1.7715091907742442\n",
      "0\t350019\t28525.8\t28525.8\t1\t0\n",
      "1\t345637\t78.9211\t78.9211\t1\t0\n",
      "2\t345637\t2.87095\t2.87095\t1\t0\n",
      "3\t345637\t0.000112373\t0.000112373\t0.5\t0\n",
      "4\t345637\t5.97807e-05\t5.97807e-05\t0.5\t0\n",
      "2.277763386279833\t345636.7247328083\t345636.7247328083\t288300.9219533323\t51978.88969079678\t5356.913088679223\n",
      "target angle:  1.8011797880581477\n",
      "0\t368320\t28787.4\t28787.4\t1\t0\n",
      "1\t363838\t78.5574\t78.5574\t1\t0\n",
      "2\t363838\t3.60541\t3.60541\t1\t0\n",
      "3\t363838\t0.000144942\t0.000144942\t0.00390625\t0\n",
      "4\t363838\t0.000143656\t0.000143656\t3.05176e-05\t0\n",
      "Backtracking failed.\n",
      "4\t363838\t0.000143656\t0.000143656\t3.05176e-05\t0\n",
      "2.3177016303108675\t363838.2511504627\t363838.2511504628\t299482.5547938919\t58781.25481864756\t5574.441537923109\n",
      "target angle:  1.8308503853420512\n",
      "0\t387655\t29250.8\t29250.8\t1\t0\n",
      "1\t383011\t79.034\t79.034\t1\t0\n",
      "2\t383011\t4.65252\t4.65252\t1\t0\n",
      "3\t383011\t0.000189379\t0.000189379\t1\t0\n",
      "4\t383011\t2.82758e-05\t2.82758e-05\t1\t0\n",
      "2.357889782346667\t383010.9957607124\t383010.99576071254\t311208.8450105461\t65963.82837396578\t5838.322376200509\n",
      "target angle:  1.8605209826259548\n",
      "0\t408144\t29948.2\t29948.2\t1\t0\n",
      "1\t403262\t80.4466\t80.4466\t1\t0\n",
      "2\t403262\t6.11399\t6.11399\t1\t0\n",
      "3\t403262\t0.000251936\t0.000251936\t1\t0\n",
      "4\t403262\t2.87097e-05\t2.87097e-05\t1\t0\n",
      "2.3983462207407604\t403261.87260940974\t403261.87260940974\t323546.8590397111\t73556.28520768703\t6158.728362011514\n",
      "target angle:  1.8901915799098583\n",
      "0\t429929\t30915.3\t30915.3\t1\t0\n",
      "1\t424715\t82.9195\t82.9195\t1\t0\n",
      "2\t424715\t8.09705\t8.09705\t1\t0\n",
      "3\t424715\t0.000340822\t0.000340822\t1\t0\n",
      "4\t424715\t2.88719e-05\t2.88719e-05\t1\t0\n",
      "2.4390925733753592\t424714.9543864056\t424714.95438640565\t336567.0109756163\t81599.03191740523\t6548.911493383958\n",
      "target angle:  1.9198621771937618\n",
      "0\t453177\t32191.9\t32191.9\t1\t0\n",
      "1\t447514\t86.6191\t86.6191\t1\t0\n",
      "2\t447514\t10.69\t10.69\t1\t0\n",
      "3\t447514\t0.000471124\t0.000471124\t1\t0\n",
      "4\t447514\t2.92246e-05\t2.92246e-05\t1\t0\n",
      "2.480156752151169\t447514.16097204963\t447514.16097204963\t350345.4525339215\t90142.60312806725\t7026.105310060811\n",
      "0\t447514\t2.9225e-05\t2.9225e-05\t0\t0\n"
     ]
    }
   ],
   "source": [
    "from open_linkage import open_linkage\n",
    "def equilibriumSolver(tgtAngle, l, opts, fv):\n",
    "    opts.beta = 1e-8\n",
    "    opts.gradTol = 1e-4\n",
    "    opts.useIdentityMetric = False\n",
    "    return elastic_rods.compute_equilibrium(l, tgtAngle, options=opts, fixedVars=fv)\n",
    "# open_linkage(l, driver, 2 * np.pi/3, 25, view, zPerturbationEpsilon=0, equilibriumSolver=equilibriumSolver, maxNewtonIterationsIntermediate=20, verbose=10, useTargetAngleConstraint=False);\n",
    "open_linkage(l, driver, np.deg2rad(110) - l.averageJointAngle, 10, view, zPerturbationEpsilon=0, equilibriumSolver=equilibriumSolver, maxNewtonIterationsIntermediate=20, verbose=10, useTargetAngleConstraint=True);"
   ]
  },
  {
   "cell_type": "code",
   "execution_count": null,
   "metadata": {},
   "outputs": [],
   "source": []
  },
  {
   "cell_type": "code",
   "execution_count": null,
   "metadata": {},
   "outputs": [],
   "source": []
  }
 ],
 "metadata": {
  "kernelspec": {
   "display_name": "Python 3",
   "language": "python",
   "name": "python3"
  },
  "language_info": {
   "codemirror_mode": {
    "name": "ipython",
    "version": 3
   },
   "file_extension": ".py",
   "mimetype": "text/x-python",
   "name": "python",
   "nbconvert_exporter": "python",
   "pygments_lexer": "ipython3",
   "version": "3.7.1"
  }
 },
 "nbformat": 4,
 "nbformat_minor": 2
}
