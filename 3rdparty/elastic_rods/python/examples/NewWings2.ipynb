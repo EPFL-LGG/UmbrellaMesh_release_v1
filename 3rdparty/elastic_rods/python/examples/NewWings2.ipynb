{
 "cells": [
  {
   "cell_type": "code",
   "execution_count": 1,
   "metadata": {},
   "outputs": [
    {
     "data": {
      "application/vnd.jupyter.widget-view+json": {
       "model_id": "74ebc25392d74bf1b93e04c7b8bc2648",
       "version_major": 2,
       "version_minor": 0
      },
      "text/plain": [
       "Renderer(camera=PerspectiveCamera(aspect=2.0, children=(DirectionalLight(color='white', intensity=0.6, positio…"
      ]
     },
     "metadata": {},
     "output_type": "display_data"
    }
   ],
   "source": [
    "import sys; sys.path.append('..')\n",
    "import numpy as np, elastic_rods\n",
    "from bending_validation import suppress_stdout\n",
    "from linkage_vis import LinkageViewer\n",
    "\n",
    "l = elastic_rods.RodLinkage('../../examples/florin/20181217_171945_meshID_f2dc856f-3d99-4fa6-a281-4f74ed300ed3.obj', 8)\n",
    "#driver=166\n",
    "driver=l.centralJoint()\n",
    "\n",
    "#mat = elastic_rods.RodMaterial('+', 2000, 0.3, [5, 5, 0.7, 0.7], stiffAxis=elastic_rods.StiffAxis.D1)\n",
    "mat = elastic_rods.RodMaterial('rectangle', 20000, 0.3, [9, 6])\n",
    "l.setMaterial(mat)\n",
    "\n",
    "with suppress_stdout(): elastic_rods.restlen_solve(l)\n",
    "jdo = l.dofOffsetForJoint(driver)\n",
    "fixedVars = list(range(jdo, jdo + 6)) # fix rigid motion for a single joint\n",
    "fixedVars.append(jdo + 6) # constrain angle at the driving joint\n",
    "with suppress_stdout(): elastic_rods.compute_equilibrium(l, fixedVars=fixedVars)\n",
    "\n",
    "view = LinkageViewer(l, width=1024, labelOffset=-0.5)\n",
    "#view.setCameraParams(((2.656451698624758, 1.5087349593639046, 0.23168476156681694),\n",
    "# (0.052583904614345374, 0.026224725204501566, 0.9982721055721517),\n",
    "# (0.13680349418553736, -0.13680349418553736, -0.8425278443781967)))\n",
    "view.show()"
   ]
  },
  {
   "cell_type": "code",
   "execution_count": 11,
   "metadata": {
    "jupyter": {
     "source_hidden": true
    }
   },
   "outputs": [],
   "source": [
    "np.savetxt('test_normals.txt', np.array([j.normal for j in l.joints()]))"
   ]
  },
  {
   "cell_type": "code",
   "execution_count": 3,
   "metadata": {
    "jupyter": {
     "source_hidden": true
    }
   },
   "outputs": [],
   "source": [
    "#the stuff below will write a line model of the deployed stated\n",
    "l.writeLinkageDebugData('deployed_f2dc856f-3d99-4fa6-a281-4f74ed300ed3.msh')\n",
    "from linkage_utils import writeRodSegments\n",
    "#the stuff below will write the polyline matching\n",
    "writeRodSegments(l,'polyline_segments_f2dc856f-3d99-4fa6-a281-4f74ed300ed3.txt', zeroBasedIndexing=True)\n",
    "#l.writeLinkageDebugData('')"
   ]
  },
  {
   "cell_type": "code",
   "execution_count": 126,
   "metadata": {
    "jupyter": {
     "source_hidden": true
    }
   },
   "outputs": [],
   "source": [
    "from linkage_utils import writeRodSegments\n",
    "writeRodSegments(l,'rod_segments_meshID_1a219f3e-c853-4985-ad5f-f13b369c0e63.txt', zeroBasedIndexing=True)"
   ]
  },
  {
   "cell_type": "code",
   "execution_count": 127,
   "metadata": {},
   "outputs": [],
   "source": [
    "np.savetxt('restlen_meshID_1a219f3e-c853-4985-ad5f-f13b369c0e63.txt',l.getPerSegmentRestLength())"
   ]
  },
  {
   "cell_type": "code",
   "execution_count": 3,
   "metadata": {},
   "outputs": [
    {
     "name": "stdout",
     "output_type": "stream",
     "text": [
      "target angle:  1.6353735091186867\n",
      "0\t159445\t1537.8\t1537.8\t1\t0\n",
      "1\t159411\t1.02846\t1.02846\t1\t0\n",
      "2\t159411\t0.0378002\t0.0378002\t1\t0\n",
      "3\t159411\t9.38959e-07\t9.38959e-07\t1\t0\n",
      "2.1189570468790926\t159410.84793535978\t159410.84793535978\t152239.4334298262\t6962.89823144409\t208.51627408938646\n",
      "target angle:  1.6475908138826472\n",
      "0\t162284\t1556.31\t1556.31\t1\t0\n",
      "1\t162249\t1.05326\t1.05326\t1\t0\n",
      "2\t162249\t0.0394275\t0.0394275\t1\t0\n",
      "3\t162249\t9.48571e-07\t9.48571e-07\t1\t0\n",
      "2.1348193063692404\t162249.30722521112\t162249.30722521115\t154947.69000571733\t7090.380898340122\t211.2363211537062\n",
      "target angle:  1.6598081186466076\n",
      "0\t165168\t1575.81\t1575.81\t1\t0\n",
      "1\t165132\t1.07923\t1.07923\t1\t0\n",
      "2\t165132\t0.041173\t0.041173\t1\t0\n",
      "3\t165132\t9.74408e-07\t9.74408e-07\t1\t0\n",
      "2.1507481708027845\t165132.22049537077\t165132.22049537077\t157695.63686710884\t7222.544043893821\t214.03958436812815\n",
      "target angle:  1.672025423410568\n",
      "0\t168097\t1596.34\t1596.34\t1\t0\n",
      "1\t168061\t1.10644\t1.10644\t1\t0\n",
      "2\t168061\t0.0430453\t0.0430453\t1\t0\n",
      "3\t168061\t9.29411e-07\t9.29411e-07\t1\t0\n",
      "2.1667463625466996\t168060.6237841358\t168060.6237841358\t160484.05357718974\t7359.643165717726\t216.9270412283036\n",
      "target angle:  1.6842427281745285\n",
      "0\t171073\t1617.96\t1617.96\t1\t0\n",
      "1\t171036\t1.13494\t1.13494\t1\t0\n",
      "2\t171036\t0.0450548\t0.0450548\t1\t0\n",
      "3\t171036\t9.14343e-07\t9.14343e-07\t1\t0\n",
      "2.18281673652673\t171035.60121829988\t171035.60121829988\t163313.75787044122\t7501.943501612532\t219.8998462460944\n",
      "target angle:  1.696460032938489\n",
      "0\t174097\t1640.72\t1640.72\t1\t0\n",
      "1\t174058\t1.1648\t1.1648\t1\t0\n",
      "2\t174058\t0.0472135\t0.0472135\t1\t0\n",
      "3\t174058\t9.44174e-07\t9.44174e-07\t1\t0\n",
      "2.1989622846351327\t174058.28876005518\t174058.2887600552\t166185.6086451591\t7649.720730682764\t222.9593842133587\n",
      "target angle:  1.7086773377024493\n",
      "0\t177170\t1664.68\t1664.68\t1\t0\n",
      "1\t177130\t1.19609\t1.19609\t1\t0\n",
      "2\t177130\t0.0495347\t0.0495347\t1\t0\n",
      "3\t177130\t9.64043e-07\t9.64043e-07\t1\t0\n",
      "2.215186139063272\t177129.87832959916\t177129.87832959922\t169100.5092153748\t7803.261779588592\t226.10733463575662\n",
      "target angle:  1.7208946424664098\n",
      "0\t180293\t1689.88\t1689.88\t1\t0\n",
      "1\t180252\t1.22889\t1.22889\t1\t0\n",
      "2\t180252\t0.0520339\t0.0520339\t1\t0\n",
      "3\t180252\t9.44083e-07\t9.44083e-07\t1\t0\n",
      "2.2314915741320775\t180251.62234230933\t180251.62234230933\t172059.41083737285\t7962.865755826037\t229.34574911036634\n",
      "target angle:  1.7331119472303702\n",
      "0\t183467\t1716.41\t1716.41\t1\t0\n",
      "1\t183425\t1.26327\t1.26327\t1\t0\n",
      "2\t183425\t0.0547288\t0.0547288\t1\t0\n",
      "3\t183425\t9.22826e-07\t9.22826e-07\t1\t0\n",
      "2.2478820061028753\t183424.83870367994\t183424.8387036799\t175063.31652518304\t8128.84503483281\t232.67714366396575\n",
      "target angle:  1.7453292519943306\n",
      "0\t186695\t1744.33\t1744.33\t1\t0\n",
      "1\t186651\t1.29931\t1.29931\t1\t0\n",
      "2\t186651\t0.0576401\t0.0576401\t1\t0\n",
      "3\t186651\t9.76551e-07\t9.76551e-07\t1\t0\n",
      "2.264360990347048\t186650.9163102485\t186650.91631024852\t178113.28516835195\t8301.526533605916\t236.10460829064286\n",
      "0\t186651\t9.77433e-07\t9.77433e-07\t0\t0\n"
     ]
    }
   ],
   "source": [
    "from open_linkage import open_linkage\n",
    "def equilibriumSolver(tgtAngle, l, opts, fv):\n",
    "    opts.beta = 1e-8\n",
    "    opts.gradTol = 1e-4\n",
    "    opts.useIdentityMetric = False\n",
    "    return elastic_rods.compute_equilibrium(l, tgtAngle, options=opts, fixedVars=fv)\n",
    "# open_linkage(l, driver, 2 * np.pi/3, 25, view, zPerturbationEpsilon=0, equilibriumSolver=equilibriumSolver, maxNewtonIterationsIntermediate=20, verbose=10, useTargetAngleConstraint=False);\n",
    "open_linkage(l, driver, np.deg2rad(100) - l.averageJointAngle, 10, view, zPerturbationEpsilon=0, equilibriumSolver=equilibriumSolver, maxNewtonIterationsIntermediate=20, verbose=10, useTargetAngleConstraint=True);"
   ]
  },
  {
   "cell_type": "code",
   "execution_count": null,
   "metadata": {},
   "outputs": [],
   "source": []
  },
  {
   "cell_type": "code",
   "execution_count": null,
   "metadata": {},
   "outputs": [],
   "source": []
  }
 ],
 "metadata": {
  "kernelspec": {
   "display_name": "Python 3",
   "language": "python",
   "name": "python3"
  },
  "language_info": {
   "codemirror_mode": {
    "name": "ipython",
    "version": 3
   },
   "file_extension": ".py",
   "mimetype": "text/x-python",
   "name": "python",
   "nbconvert_exporter": "python",
   "pygments_lexer": "ipython3",
   "version": "3.7.1"
  }
 },
 "nbformat": 4,
 "nbformat_minor": 2
}
