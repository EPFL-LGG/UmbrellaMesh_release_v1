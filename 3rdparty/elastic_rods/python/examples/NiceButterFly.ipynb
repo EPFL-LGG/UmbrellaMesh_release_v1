{
 "cells": [
  {
   "cell_type": "code",
   "execution_count": 1,
   "metadata": {},
   "outputs": [
    {
     "data": {
      "application/vnd.jupyter.widget-view+json": {
       "model_id": "26ef9de107734651bdec43291cc3b507",
       "version_major": 2,
       "version_minor": 0
      },
      "text/plain": [
       "Renderer(camera=PerspectiveCamera(aspect=2.0, children=(DirectionalLight(color='white', intensity=0.6, positio…"
      ]
     },
     "metadata": {},
     "output_type": "display_data"
    }
   ],
   "source": [
    "import sys; sys.path.append('..')\n",
    "import numpy as np, elastic_rods\n",
    "from bending_validation import suppress_stdout\n",
    "from linkage_vis import LinkageViewer\n",
    "\n",
    "l = elastic_rods.RodLinkage('../../examples/florin/20181223_162221_meshID_29dd08e9-0700-4e2f-87f7-c313dc6a8201.obj', 8)\n",
    "#driver=166\n",
    "driver=l.centralJoint()\n",
    "\n",
    "#mat = elastic_rods.RodMaterial('+', 2000, 0.3, [5, 5, 0.7, 0.7], stiffAxis=elastic_rods.StiffAxis.D1)\n",
    "mat = elastic_rods.RodMaterial('rectangle', 20000, 0.3, [9, 6])\n",
    "l.setMaterial(mat)\n",
    "\n",
    "with suppress_stdout(): elastic_rods.restlen_solve(l)\n",
    "jdo = l.dofOffsetForJoint(driver)\n",
    "fixedVars = list(range(jdo, jdo + 6)) # fix rigid motion for a single joint\n",
    "fixedVars.append(jdo + 6) # constrain angle at the driving joint\n",
    "with suppress_stdout(): elastic_rods.compute_equilibrium(l, fixedVars=fixedVars)\n",
    "\n",
    "view = LinkageViewer(l, width=1024, labelOffset=-0.5)\n",
    "#view.setCameraParams(((2.656451698624758, 1.5087349593639046, 0.23168476156681694),\n",
    "# (0.052583904614345374, 0.026224725204501566, 0.9982721055721517),\n",
    "# (0.13680349418553736, -0.13680349418553736, -0.8425278443781967)))\n",
    "view.show()"
   ]
  },
  {
   "cell_type": "code",
   "execution_count": 79,
   "metadata": {},
   "outputs": [],
   "source": [
    "l.saveVisualizationGeometry('deployed_meshID_bdb78930-da3e-4a28-98f5-89c2ee17876c.obj')\n",
    "#l.writeLinkageDebugData('')"
   ]
  },
  {
   "cell_type": "code",
   "execution_count": 126,
   "metadata": {},
   "outputs": [],
   "source": [
    "from linkage_utils import writeRodSegments\n",
    "writeRodSegments(l,'rod_segments_meshID_1a219f3e-c853-4985-ad5f-f13b369c0e63.txt', zeroBasedIndexing=True)"
   ]
  },
  {
   "cell_type": "code",
   "execution_count": 127,
   "metadata": {},
   "outputs": [],
   "source": [
    "np.savetxt('restlen_meshID_1a219f3e-c853-4985-ad5f-f13b369c0e63.txt',l.getPerSegmentRestLength())"
   ]
  },
  {
   "cell_type": "code",
   "execution_count": 2,
   "metadata": {},
   "outputs": [
    {
     "name": "stdout",
     "output_type": "stream",
     "text": [
      "target angle:  0.37223314752099046\n",
      "0\t103382\t104007\t104007\t1\t0\n",
      "1\t2894.63\t2394.78\t2394.78\t1\t0\n",
      "2\t2707.74\t164.024\t164.024\t1\t0\n",
      "3\t2706.06\t27.121\t27.121\t1\t0\n",
      "4\t2706.05\t0.0595105\t0.0595105\t1\t0\n",
      "5\t2706.05\t2.3064e-05\t2.3064e-05\t1\t0\n",
      "0.36640118320369836\t2706.0515850565976\t2706.0515850565976\t2375.351971838912\t7.907016192686643e-22\t330.6996132176853\n",
      "target angle:  0.5112245982802945\n",
      "0\t79022.8\t86534.9\t86534.9\t1\t0\n",
      "1\t4080.17\t507.425\t507.425\t1\t0\n",
      "2\t4075.04\t6.02716\t6.02716\t1\t0\n",
      "3\t4075.04\t0.00314581\t0.00314581\t1\t0\n",
      "4\t4075.04\t6.66157e-06\t6.66157e-06\t1\t0\n",
      "0.4688709501858216\t4075.043413307747\t4075.043413307748\t3619.0914392668724\t1.3057070122976272e-21\t455.95197404087554\n",
      "target angle:  0.6502160490395985\n",
      "0\t77973.1\t83499.7\t83499.7\t1\t0\n",
      "1\t6390.7\t201.857\t201.857\t1\t0\n",
      "2\t6389.93\t1.79333\t1.79333\t1\t0\n",
      "3\t6389.93\t8.33776e-05\t8.33776e-05\t1\t0\n",
      "0.5757002803719911\t6389.9339060304355\t6389.933906030436\t5794.265311568538\t2.310618617094621e-21\t595.6685944619\n",
      "target angle:  0.7892074997989025\n",
      "0\t81250.3\t83007.5\t83007.5\t1\t0\n",
      "System matrix is not positive definite; increasing tau to 1e-08\n",
      "System matrix is not positive definite; increasing tau to 4e-08\n",
      "System matrix is not positive definite; increasing tau to 1.6e-07\n",
      "System matrix is not positive definite; increasing tau to 6.4e-07\n",
      "System matrix is not positive definite; increasing tau to 2.56e-06\n",
      "System matrix is not positive definite; increasing tau to 1.024e-05\n",
      "System matrix is not positive definite; increasing tau to 4.096e-05\n",
      "System matrix is not positive definite; increasing tau to 0.00016384\n",
      "System matrix is not positive definite; increasing tau to 0.00065536\n",
      "System matrix is not positive definite; increasing tau to 0.00262144\n",
      "System matrix is not positive definite; increasing tau to 0.0104858\n",
      "System matrix is not positive definite; increasing tau to 0.041943\n",
      "1\t9691.31\t107.828\t107.828\t1\t1\n",
      "System matrix is not positive definite; increasing tau to 0.0209715\n",
      "2\t9690.47\t3.96188\t3.96188\t1\t1\n",
      "System matrix is not positive definite; increasing tau to 0.0104858\n",
      "3\t9690.47\t0.000534986\t0.000534986\t1\t1\n",
      "System matrix is not positive definite; increasing tau to 0.00524288\n",
      "System matrix is not positive definite; increasing tau to 0.0209715\n",
      "Computing negative curvature direction for scaled tau = 1.31159e-07\n",
      "4\t9690.47\t6.73469e-06\t6.73469e-06\t1\t1\n",
      "5\t9690.47\t9.64828\t9.64828\t0.0625\t0\n",
      "6\t9690.47\t32.2716\t32.2716\t1\t0\n",
      "7\t9690.46\t9.87445\t9.87445\t0.0625\t0\n",
      "8\t9690.45\t45.582\t45.582\t1\t0\n",
      "9\t9690.43\t16.7231\t16.7231\t0.25\t0\n",
      "10\t9690.42\t38.8472\t38.8472\t1\t0\n",
      "11\t9690.39\t48.3638\t48.3638\t1\t0\n",
      "12\t9690.36\t38.0703\t38.0703\t1\t0\n",
      "13\t9690.33\t73.4032\t73.4032\t1\t0\n",
      "14\t9690.28\t19.0704\t19.0704\t0.5\t0\n",
      "15\t9690.26\t76.228\t76.228\t1\t0\n",
      "16\t9690.21\t14.3245\t14.3245\t0.5\t0\n",
      "17\t9690.19\t60.8371\t60.8371\t1\t0\n",
      "18\t9690.16\t11.5366\t11.5366\t0.5\t0\n",
      "19\t9690.15\t27.6796\t27.6796\t1\t0\n",
      "20\t9690.14\t13.8871\t13.8871\t1\t0\n",
      "0.6844439985181965\t9690.140334076093\t9690.140334076095\t8932.787965387797\t18.362962296075846\t738.9894063922239\n",
      "target angle:  0.9281989505582064\n",
      "0\t1.55693e+06\t581789\t581789\t1\t0\n",
      "1\t15569.3\t29694.6\t29694.6\t1\t0\n",
      "2\t14833.2\t7659.47\t7659.47\t1\t0\n",
      "3\t14018.8\t527.922\t527.922\t0.5\t0\n",
      "4\t13981.1\t2521.46\t2521.46\t1\t0\n",
      "5\t13920.4\t251.919\t251.919\t0.5\t0\n",
      "6\t13902\t1176.2\t1176.2\t1\t0\n",
      "7\t13884.3\t349.72\t349.72\t1\t0\n",
      "8\t13877.3\t1033.15\t1033.15\t1\t0\n",
      "9\t13870.3\t78.8424\t78.8424\t1\t0\n",
      "10\t13869.1\t515.218\t515.218\t1\t0\n",
      "11\t13867.8\t5.7631\t5.7631\t1\t0\n",
      "12\t13867.8\t16.8169\t16.8169\t1\t0\n",
      "13\t13867.8\t0.00787652\t0.00787652\t1\t0\n",
      "14\t13867.8\t3.69119e-05\t3.69119e-05\t1\t0\n",
      "0.797255023297598\t13867.79863410641\t13867.798634106413\t12631.638761905695\t601.8322032733342\t634.3276689273808\n",
      "target angle:  1.0671904013175104\n",
      "0\t165956\t148340\t148340\t1\t0\n",
      "1\t18829.1\t3602.82\t3602.82\t1\t0\n",
      "2\t18806.8\t642.025\t642.025\t1\t0\n",
      "3\t18803.2\t7.04582\t7.04582\t1\t0\n",
      "4\t18803.2\t8.73849\t8.73849\t1\t0\n",
      "5\t18803.2\t0.00465579\t0.00465579\t1\t0\n",
      "6\t18803.2\t8.66939e-06\t8.66939e-06\t1\t0\n",
      "0.9108556342480564\t18803.204263718624\t18803.204263718624\t17042.88425422542\t1189.1556063572978\t571.1644031359003\n",
      "target angle:  1.2061818520768144\n",
      "0\t143702\t127903\t127903\t1\t0\n",
      "1\t24652.3\t3110.71\t3110.71\t1\t0\n",
      "2\t24638.3\t291.184\t291.184\t1\t0\n",
      "3\t24637.6\t3.14789\t3.14789\t1\t0\n",
      "4\t24637.6\t0.324951\t0.324951\t1\t0\n",
      "5\t24637.6\t2.32323e-05\t2.32323e-05\t1\t0\n",
      "1.0245359686466227\t24637.6374607517\t24637.6374607517\t22349.130986612592\t1745.7477881606512\t542.7586859784609\n",
      "target angle:  1.3451733028361184\n",
      "0\t147275\t124126\t124126\t1\t0\n",
      "1\t31614.5\t3145.17\t3145.17\t1\t0\n",
      "2\t31599.8\t239.378\t239.378\t1\t0\n",
      "3\t31599.3\t3.15984\t3.15984\t1\t0\n",
      "4\t31599.3\t0.195148\t0.195148\t1\t0\n",
      "5\t31599.3\t1.13828e-05\t1.13828e-05\t1\t0\n",
      "1.1378975691487991\t31599.2903058592\t31599.29030585919\t28782.599684470206\t2267.5572631808336\t549.1333582081481\n",
      "target angle:  1.4841647535954223\n",
      "0\t161557\t126203\t126203\t1\t0\n",
      "1\t40051\t3443.27\t3443.27\t1\t0\n",
      "2\t40030.6\t275.176\t275.176\t1\t0\n",
      "3\t40030\t3.83875\t3.83875\t1\t0\n",
      "4\t40030\t0.318091\t0.318091\t1\t0\n",
      "5\t40030\t1.53422e-05\t1.53422e-05\t1\t0\n",
      "1.250779963126943\t40030.02468451246\t40030.02468451246\t36655.9841177205\t2777.0069195804217\t597.0336472115291\n",
      "target angle:  1.6231562043547263\n",
      "0\t187391\t133459\t133459\t1\t0\n",
      "1\t50483.9\t4102.62\t4102.62\t1\t0\n",
      "2\t50448\t379.834\t379.834\t1\t0\n",
      "3\t50446.7\t6.82868\t6.82868\t1\t0\n",
      "4\t50446.7\t1.19595\t1.19595\t1\t0\n",
      "5\t50446.7\t0.000168885\t0.000168885\t1\t0\n",
      "6\t50446.7\t8.98446e-06\t8.98446e-06\t1\t0\n",
      "1.3633314924201583\t50446.71279211916\t50446.71279211916\t46420.251512010036\t3323.7054809928695\t702.7557991162264\n",
      "0\t50446.7\t8.99042e-06\t8.99042e-06\t0\t0\n"
     ]
    }
   ],
   "source": [
    "from open_linkage import open_linkage\n",
    "def equilibriumSolver(tgtAngle, l, opts, fv):\n",
    "    opts.beta = 1e-8\n",
    "    opts.gradTol = 1e-4\n",
    "    opts.useIdentityMetric = False\n",
    "    return elastic_rods.compute_equilibrium(l, tgtAngle, options=opts, fixedVars=fv)\n",
    "# open_linkage(l, driver, 2 * np.pi/3, 25, view, zPerturbationEpsilon=0, equilibriumSolver=equilibriumSolver, maxNewtonIterationsIntermediate=20, verbose=10, useTargetAngleConstraint=False);\n",
    "open_linkage(l, driver, np.deg2rad(93) - l.averageJointAngle, 10, view, zPerturbationEpsilon=0, equilibriumSolver=equilibriumSolver, maxNewtonIterationsIntermediate=20, verbose=10, useTargetAngleConstraint=True);"
   ]
  },
  {
   "cell_type": "code",
   "execution_count": null,
   "metadata": {},
   "outputs": [],
   "source": []
  },
  {
   "cell_type": "code",
   "execution_count": null,
   "metadata": {},
   "outputs": [],
   "source": []
  }
 ],
 "metadata": {
  "kernelspec": {
   "display_name": "Python 3",
   "language": "python",
   "name": "python3"
  },
  "language_info": {
   "codemirror_mode": {
    "name": "ipython",
    "version": 3
   },
   "file_extension": ".py",
   "mimetype": "text/x-python",
   "name": "python",
   "nbconvert_exporter": "python",
   "pygments_lexer": "ipython3",
   "version": "3.7.1"
  }
 },
 "nbformat": 4,
 "nbformat_minor": 2
}
