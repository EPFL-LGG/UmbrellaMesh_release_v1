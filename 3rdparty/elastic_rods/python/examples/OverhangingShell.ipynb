{
 "cells": [
  {
   "cell_type": "code",
   "execution_count": 26,
   "metadata": {},
   "outputs": [
    {
     "data": {
      "application/vnd.jupyter.widget-view+json": {
       "model_id": "d4c11ac898e8410cb1efb26b259014fb",
       "version_major": 2,
       "version_minor": 0
      },
      "text/plain": [
       "Renderer(camera=PerspectiveCamera(aspect=2.0, children=(DirectionalLight(color='white', intensity=0.6, positio…"
      ]
     },
     "metadata": {},
     "output_type": "display_data"
    }
   ],
   "source": [
    "import sys; sys.path.append('..')\n",
    "import numpy as np, elastic_rods\n",
    "from bending_validation import suppress_stdout\n",
    "from linkage_vis import LinkageViewer\n",
    "linkage_name = '20190423_125916_meshID_27176ac1-3d7a-42aa-8108-eee8ee004fe6'\n",
    "l = elastic_rods.RodLinkage('../../examples/florin/{}.obj'.format(linkage_name), 8)\n",
    "#driver=166\n",
    "driver=l.centralJoint()\n",
    "\n",
    "#mat = elastic_rods.RodMaterial('+', 2000, 0.3, [5, 5, 0.7, 0.7], stiffAxis=elastic_rods.StiffAxis.D1)\n",
    "mat = elastic_rods.RodMaterial('rectangle', 20000, 0.3, [12, 8])\n",
    "l.setMaterial(mat)\n",
    "\n",
    "with suppress_stdout(): elastic_rods.restlen_solve(l)\n",
    "jdo = l.dofOffsetForJoint(driver)\n",
    "fixedVars = list(range(jdo, jdo + 6)) # fix rigid motion for a single joint\n",
    "fixedVars.append(jdo + 6) # constrain angle at the driving joint\n",
    "with suppress_stdout(): elastic_rods.compute_equilibrium(l, fixedVars=fixedVars)\n",
    "\n",
    "view = LinkageViewer(l, width=1024, labelOffset=-0.5)\n",
    "#view.setCameraParams(((2.656451698624758, 1.5087349593639046, 0.23168476156681694),\n",
    "# (0.052583904614345374, 0.026224725204501566, 0.9982721055721517),\n",
    "# (0.13680349418553736, -0.13680349418553736, -0.8425278443781967)))\n",
    "view.show()"
   ]
  },
  {
   "cell_type": "code",
   "execution_count": 5,
   "metadata": {},
   "outputs": [],
   "source": [
    "l.saveVisualizationGeometry('deployed_{}.obj'.format(linkage_name))\n",
    "#l.writeLinkageDebugData('')"
   ]
  },
  {
   "cell_type": "code",
   "execution_count": 14,
   "metadata": {},
   "outputs": [],
   "source": [
    "from write_render_files import writeRenderFiles, writeActuators\n",
    "writeRenderFiles(l, 'Pavilion12', 'pav12')\n",
    "#writeActuators(l, np.where(torques > 1e-4)[0], directory='AsymPointyDataFlat', name='asymPointy_Fab')"
   ]
  },
  {
   "cell_type": "code",
   "execution_count": 10,
   "metadata": {},
   "outputs": [],
   "source": [
    "from linkage_utils import writeRodSegments\n",
    "writeRodSegments(l,'rod_segments_{}.txt'.format(linkage_name), zeroBasedIndexing=True)\n",
    "np.savetxt('restlen_{}.txt'.format(linkage_name),l.getPerSegmentRestLength())\n",
    "np.savetxt('normals_{}.txt'.format(linkage_name), np.array([j.normal for j in l.joints()]))\n",
    "l.writeLinkageDebugData('deployed_{}.msh'.format(linkage_name))"
   ]
  },
  {
   "cell_type": "code",
   "execution_count": 41,
   "metadata": {},
   "outputs": [
    {
     "data": {
      "text/plain": [
       "24.37145054902055"
      ]
     },
     "execution_count": 41,
     "metadata": {},
     "output_type": "execute_result"
    }
   ],
   "source": [
    "# Compute maximum \"stress\" appearing at any rod vertex in the structure\n",
    "max([max(segmentStress) for segmentStress in l.rodStresses()[1]])"
   ]
  },
  {
   "cell_type": "code",
   "execution_count": null,
   "metadata": {},
   "outputs": [],
   "source": [
    "# Output actuation torque\n",
    "for forceScale in np.linspace(1.0, 0, 51):\n",
    "    name = 'Pavilion14_{}'.format(forceScale)\n",
    "    with suppress_stdout(): elastic_rods.compute_equilibrium(l, forceScale * externalForces, fixedVars=fixedVars)\n",
    "    view.update(preserveExisting=True)\n",
    "    writeRenderFiles(l, directory, name)\n",
    "    writeActuators(l, np.where(torques > 0.1)[0], directory, name)"
   ]
  },
  {
   "cell_type": "code",
   "execution_count": 44,
   "metadata": {},
   "outputs": [
    {
     "data": {
      "text/plain": [
       "11.81760497978405"
      ]
     },
     "execution_count": 44,
     "metadata": {},
     "output_type": "execute_result"
    }
   ],
   "source": [
    "# Compute average \"stress\" appearing over all rod vertices in the structure\n",
    "np.mean(sum(l.rodStresses()[1], []))"
   ]
  },
  {
   "cell_type": "code",
   "execution_count": 30,
   "metadata": {},
   "outputs": [
    {
     "name": "stdout",
     "output_type": "stream",
     "text": [
      "target angle:  1.0489428804485947\n",
      "0\t197454\t63.3167\t63.3167\t1\t0\n",
      "0.9483612378751051\t197454.19918274347\t197454.19918274347\t186047.11188001075\t11271.58735373911\t135.49994899363247\n",
      "target angle:  1.050688209700589\n",
      "0\t198010\t63.3985\t63.3985\t1\t0\n",
      "0.9499156729190393\t198009.94644675107\t198009.94644675107\t186629.9816164377\t11244.291001262609\t135.67382905081914\n",
      "target angle:  1.0524335389525832\n",
      "0\t198567\t63.4812\t63.4812\t1\t0\n",
      "0.9514702998080632\t198566.81702758837\t198566.81702758837\t187214.0499027794\t11216.918091789677\t135.84903301930834\n",
      "target angle:  1.0541788682045774\n",
      "0\t199125\t63.5647\t63.5647\t1\t0\n",
      "0.9530251207292695\t199124.8153443021\t199124.81534430207\t187799.31980638523\t11189.469971745202\t136.02556617176788\n",
      "target angle:  1.0559241974565716\n",
      "0\t199684\t63.649\t63.649\t1\t0\n",
      "0.9545801378909253\t199683.9458442338\t199683.94584423376\t188385.79442007386\t11161.947990301085\t136.2034338587565\n",
      "target angle:  1.0576695267085658\n",
      "0\t200244\t63.7342\t63.7342\t1\t0\n",
      "0.9561353535226761\t200244.21300325316\t200244.21300325316\t188973.47686239766\t11134.353499337833\t136.38264151759194\n",
      "target angle:  1.05941485596056\n",
      "0\t200806\t63.8201\t63.8201\t1\t0\n",
      "0.9576907698758732\t200805.62132598658\t200805.62132598663\t189562.3702778934\t11106.687853428448\t136.56319466487597\n",
      "target angle:  1.0611601852125543\n",
      "0\t201368\t63.9069\t63.9069\t1\t0\n",
      "0.9592463892235628\t201368.17534600914\t201368.17534600917\t190152.47783731951\t11078.952409789073\t136.74509890058215\n",
      "target angle:  1.0629055144645485\n",
      "0\t201932\t63.9946\t63.9946\t1\t0\n",
      "0.9608022138610623\t201931.87962606282\t201931.87962606284\t190743.80273788888\t11051.148528259946\t136.92835991399218\n",
      "target angle:  1.0646508437165427\n",
      "0\t202497\t64.083\t64.083\t1\t0\n",
      "0.9623582461059577\t202496.73875833148\t202496.73875833148\t191336.348203584\t11023.277571272867\t137.11298347486547\n",
      "target angle:  1.066396172968537\n",
      "0\t203063\t64.1723\t64.1723\t1\t0\n",
      "0.9639144882983839\t203062.75736459089\t203062.75736459089\t191930.1174853374\t10995.340903807975\t137.29897544538753\n",
      "target angle:  1.0681415022205312\n",
      "0\t203630\t64.2625\t64.2625\t1\t0\n",
      "0.9654709428013819\t203629.94009647137\t203629.94009647137\t192525.11386133236\t10967.339893370472\t137.48634176864303\n",
      "target angle:  1.0698868314725254\n",
      "0\t204198\t64.3535\t64.3535\t1\t0\n",
      "0.9670276120009885\t204198.2916357066\t204198.29163570664\t193121.34063727807\t10939.275909947815\t137.6750884807507\n",
      "target angle:  1.0716321607245196\n",
      "0\t204768\t64.4454\t64.4454\t1\t0\n",
      "0.9685844983069778\t204767.81669429052\t204767.81669429055\t193718.80114660255\t10911.150325981871\t137.86522170602663\n",
      "target angle:  1.0733774899765138\n",
      "0\t205339\t64.5381\t64.5381\t1\t0\n",
      "0.9701416041521285\t205338.5200147839\t205338.52001478383\t194317.4987508018\t10882.964516325193\t138.05674765685225\n",
      "target angle:  1.075122819228508\n",
      "0\t205910\t64.6317\t64.6317\t1\t0\n",
      "0.9716989319935294\t205910.406370503\t205910.40637050307\t194917.4368396546\t10854.719858207513\t138.24967264099502\n",
      "target angle:  1.0768681484805023\n",
      "0\t206484\t64.7261\t64.7261\t1\t0\n",
      "0.9732564843123029\t206483.48056574992\t206483.48056574992\t195518.61883149462\t10826.417731203574\t138.44400305162924\n",
      "target angle:  1.0786134777324965\n",
      "0\t207058\t64.8215\t64.8215\t1\t0\n",
      "0.9748142636137691\t207057.74743605696\t207057.74743605702\t196121.04817349373\t10798.059517180394\t138.63974538285305\n",
      "target angle:  1.0803588069844907\n",
      "0\t207633\t64.9176\t64.9176\t1\t0\n",
      "0.9763722724280731\t207633.21184842256\t207633.21184842254\t196724.72834193343\t10769.646600274697\t138.83690621445376\n",
      "target angle:  1.082104136236485\n",
      "0\t208210\t65.0147\t65.0147\t1\t0\n",
      "0.977930513310306\t208209.87870152533\t208209.87870152533\t197329.6628424557\t10741.18036684179\t139.03549222792637\n",
      "target angle:  1.0838494654884792\n",
      "0\t208788\t65.1126\t65.1126\t1\t0\n",
      "0.979488988840692\t208787.7529259962\t208787.7529259962\t197935.85521038246\t10712.662205416636\t139.23551019715583\n",
      "target angle:  1.0855947947404734\n",
      "0\t209367\t65.2115\t65.2115\t1\t0\n",
      "0.9810477016249173\t209366.8394846224\t209366.8394846224\t198543.3090109508\t10684.093506679195\t139.43696699239217\n",
      "target angle:  1.0873401239924676\n",
      "0\t209947\t65.3112\t65.3112\t1\t0\n",
      "0.9826066542943639\t209947.1433726024\t209947.14337260238\t199152.02783961297\t10655.475663405396\t139.63986958398723\n",
      "target angle:  1.0890854532444618\n",
      "0\t210529\t65.4118\t65.4118\t1\t0\n",
      "0.9841658495065656\t210528.66961780534\t210528.66961780534\t199762.015322343\t10626.810070422547\t139.84422503985004\n",
      "target angle:  1.090830782496456\n",
      "0\t211111\t65.5133\t65.5133\t1\t0\n",
      "0.9857252899451976\t211111.4232809639\t211111.42328096388\t200373.27511586391\t10598.098124570462\t140.05004052944741\n",
      "target angle:  1.0925761117484503\n",
      "0\t211695\t65.6157\t65.6157\t1\t0\n",
      "0.9872849783205817\t211695.40945595928\t211695.4094559593\t200985.81090798668\t10569.341224655816\t140.2573233168632\n",
      "target angle:  1.0943214410004445\n",
      "0\t212281\t65.719\t65.719\t1\t0\n",
      "0.9888449173698345\t212280.63327005983\t212280.6332700598\t201599.62641787532\t10540.540771406766\t140.4660807776097\n",
      "target angle:  1.0960667702524387\n",
      "0\t212867\t65.8232\t65.8232\t1\t0\n",
      "0.9904051098574419\t212867.09988416242\t212867.09988416245\t202214.7253963575\t10511.698167423763\t140.67632038120436\n",
      "target angle:  1.097812099504433\n",
      "0\t213455\t65.9283\t65.9283\t1\t0\n",
      "0.991965558574937\t213454.81449303246\t213454.81449303246\t202831.1116261911\t10482.814817134135\t140.88804970724289\n",
      "target angle:  1.0995574287564271\n",
      "0\t214044\t66.0343\t66.0343\t1\t0\n",
      "0.9935262663419709\t214043.7823255556\t214043.78232555563\t203448.78892236968\t10453.892126746372\t141.10127643970398\n",
      "target angle:  1.1013027580084214\n",
      "0\t214634\t66.1412\t66.1412\t1\t0\n",
      "0.9950872360058332\t214634.0086449848\t214634.00864498477\t204067.76113242362\t10424.93150419706\t141.31600836390467\n",
      "target angle:  1.1030480872604156\n",
      "0\t215226\t66.2491\t66.2491\t1\t0\n",
      "0.996648470442586\t215225.4987492246\t215225.4987492246\t204688.03213674217\t10395.934359105144\t141.53225337718544\n",
      "target angle:  1.1047934165124098\n",
      "0\t215818\t66.3579\t66.3579\t1\t0\n",
      "0.9982099725564169\t215818.2579710207\t215818.25797102068\t205309.60584881325\t10366.902102719723\t141.750019487825\n",
      "target angle:  1.106538745764404\n",
      "0\t216412\t66.4676\t66.4676\t1\t0\n",
      "0.9997717452806668\t216412.29167827746\t216412.29167827746\t205932.4862156056\t10337.836147868133\t141.96931480376315\n",
      "target angle:  1.1082840750163983\n",
      "0\t217008\t66.5783\t66.5783\t1\t0\n",
      "1.0013337915779266\t217007.60527426883\t217007.60527426886\t206556.677217812\t10308.737908902693\t142.19014755414872\n",
      "target angle:  1.1100294042683925\n",
      "0\t217604\t66.6898\t66.6898\t1\t0\n",
      "1.0028961144400286\t217604.20419791972\t217604.20419791975\t207182.18287019728\t10279.608801650089\t142.41252607233744\n",
      "target angle:  1.1117747335203867\n",
      "0\t218202\t66.8024\t66.8024\t1\t0\n",
      "1.0044587168889663\t218202.09392403252\t218202.09392403252\t207809.00722186718\t10250.450243359119\t142.6364588061941\n",
      "target angle:  1.113520062772381\n",
      "0\t218801\t66.9158\t66.9158\t1\t0\n",
      "1.0060216019766266\t218801.2799635772\t218801.2799635772\t208437.15435661742\t10221.26365263763\t142.8619543223021\n",
      "target angle:  1.1152653920243751\n",
      "0\t219402\t67.0302\t67.0302\t1\t0\n",
      "1.007584772785235\t219401.76786396536\t219401.7678639653\t209066.6283932611\t10192.050449406994\t143.08902129721778\n",
      "target angle:  1.1170107212763694\n",
      "0\t220004\t67.1456\t67.1456\t1\t0\n",
      "1.009148232427994\t220003.56320924757\t220003.56320924757\t209697.4334858845\t10162.812054837626\t143.31766852542864\n",
      "target angle:  1.1187560505283636\n",
      "0\t220607\t67.2619\t67.2619\t1\t0\n",
      "1.010711984049045\t220606.67162042507\t220606.67162042507\t210329.57382421175\t10133.549891294177\t143.54790491919897\n",
      "target angle:  1.1205013797803578\n",
      "0\t221211\t67.3792\t67.3792\t1\t0\n",
      "1.012276030823755\t221211.09875571495\t221211.098755715\t210963.05363392684\t10104.26538228063\t143.77973950759255\n",
      "target angle:  1.122246709032352\n",
      "0\t221817\t67.4975\t67.4975\t1\t0\n",
      "1.0138403759593442\t221816.85031078465\t221816.85031078465\t211597.87717696908\t10074.959952372094\t144.01318144353144\n",
      "target angle:  1.1239920382843462\n",
      "0\t222424\t67.6167\t67.6167\t1\t0\n",
      "1.0154050226949778\t222423.93201903123\t222423.93201903126\t212234.04875187506\t10045.635027161323\t144.2482399947199\n",
      "target angle:  1.1257373675363405\n",
      "0\t223032\t67.7368\t67.7368\t1\t0\n",
      "1.016969974302043\t223032.3496518604\t223032.34965186036\t212871.572694102\t10016.292033198537\t144.48492455969222\n",
      "target angle:  1.1274826967883347\n",
      "0\t223642\t67.858\t67.858\t1\t0\n",
      "1.0185352340846163\t223642.1090189343\t223642.1090189343\t213510.4533763589\t9986.932397924522\t144.7232446509742\n",
      "target angle:  1.129228026040329\n",
      "0\t224253\t67.9801\t67.9801\t1\t0\n",
      "1.0201008053797458\t224253.21596846895\t224253.2159684689\t214150.69520894476\t9957.557549608458\t144.96320991582596\n",
      "target angle:  1.1309733552923231\n",
      "0\t224866\t68.1032\t68.1032\t1\t0\n",
      "1.0216666915577264\t224865.67638743564\t224865.67638743567\t214792.3026400311\t9928.168917285877\t145.20483011862692\n",
      "target angle:  1.1327186845443173\n",
      "0\t225480\t68.2273\t68.2273\t1\t0\n",
      "1.0232328960224122\t225479.49620192844\t225479.49620192847\t215435.2801560836\t9898.767930690756\t145.44811515410845\n",
      "target angle:  1.1344640137963116\n",
      "0\t226095\t68.3524\t68.3524\t1\t0\n",
      "1.024799422211432\t226094.68137736744\t226094.6813773674\t216079.63228212172\t9869.356020196292\t145.6930750495476\n",
      "0\t226095\t6.60398e-06\t6.60398e-06\t0\t0\n"
     ]
    }
   ],
   "source": [
    "from open_linkage import open_linkage\n",
    "def equilibriumSolver(tgtAngle, l, opts, fv):\n",
    "    opts.beta = 1e-8\n",
    "    opts.gradTol = 1e-4\n",
    "    opts.useIdentityMetric = False\n",
    "    return elastic_rods.compute_equilibrium(l, tgtAngle, options=opts, fixedVars=fv)\n",
    "# open_linkage(l, driver, 2 * np.pi/3, 25, view, zPerturbationEpsilon=0, equilibriumSolver=equilibriumSolver, maxNewtonIterationsIntermediate=20, verbose=10, useTargetAngleConstraint=False);\n",
    "open_linkage(l, driver, np.deg2rad(65) - l.averageJointAngle, 50, view, zPerturbationEpsilon=0, equilibriumSolver=equilibriumSolver, maxNewtonIterationsIntermediate=20, verbose=10, useTargetAngleConstraint=True);"
   ]
  },
  {
   "cell_type": "code",
   "execution_count": null,
   "metadata": {},
   "outputs": [],
   "source": []
  },
  {
   "cell_type": "code",
   "execution_count": null,
   "metadata": {},
   "outputs": [],
   "source": []
  }
 ],
 "metadata": {
  "kernelspec": {
   "display_name": "Python 3",
   "language": "python",
   "name": "python3"
  },
  "language_info": {
   "codemirror_mode": {
    "name": "ipython",
    "version": 3
   },
   "file_extension": ".py",
   "mimetype": "text/x-python",
   "name": "python",
   "nbconvert_exporter": "python",
   "pygments_lexer": "ipython3",
   "version": "3.7.1"
  }
 },
 "nbformat": 4,
 "nbformat_minor": 2
}
