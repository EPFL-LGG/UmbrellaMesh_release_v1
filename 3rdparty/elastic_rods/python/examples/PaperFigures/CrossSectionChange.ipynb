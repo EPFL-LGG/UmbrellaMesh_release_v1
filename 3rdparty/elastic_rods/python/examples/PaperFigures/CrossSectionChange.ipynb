{
 "cells": [
  {
   "cell_type": "code",
   "execution_count": null,
   "metadata": {},
   "outputs": [],
   "source": [
    "import sys; sys.path.append('../..')\n",
    "import numpy as np, elastic_rods\n",
    "from bending_validation import suppress_stdout\n",
    "from linkage_vis import LinkageViewer\n",
    "\n",
    "l = elastic_rods.RodLinkage('../optimized/data/wiggly_banana_5/deployed_opt.msh')\n",
    "mat = elastic_rods.RodMaterial('+', 20000, 0.3, [5.0, 5.0, 0.2, 0.2], stiffAxis=elastic_rods.StiffAxis.D1)\n",
    "l.setMaterial(mat)\n",
    "l.setPerSegmentRestLength(np.loadtxt('../optimized/data/wiggly_banana_5/design_parameters.txt'))\n",
    "\n",
    "jdo = l.dofOffsetForJoint(l.centralJoint())\n",
    "fixedVars = list(range(jdo, jdo + 6)) # fix rigid motion for a single joint\n",
    "with suppress_stdout(): elastic_rods.compute_equilibrium(l, np.deg2rad(80), fixedVars=fixedVars)\n",
    "view = LinkageViewer(l, width=1800, height=1024, labelOffset=-0.5)\n",
    "view.setCameraParams(((3.6754006984448573, 1.6686334339489692, 1.185501460688521),\n",
    " (0.14629377215644618, -0.20913962623436855, 0.9668809383614868),\n",
    " (-0.09839863060709123, 0.18386547835329797, -0.31075840528736615)))\n",
    "view.show()"
   ]
  },
  {
   "cell_type": "code",
   "execution_count": null,
   "metadata": {},
   "outputs": [],
   "source": [
    "l.saveVisualizationGeometry('cross_section_plus.msh')"
   ]
  },
  {
   "cell_type": "code",
   "execution_count": null,
   "metadata": {},
   "outputs": [],
   "source": [
    "l.setMaterial(elastic_rods.RodMaterial('Rectangle', 20000, 0.3, [3.0, 3.0], stiffAxis=elastic_rods.StiffAxis.D1))\n",
    "with suppress_stdout(): elastic_rods.compute_equilibrium(l, np.deg2rad(80), fixedVars=fixedVars)\n",
    "view.update()"
   ]
  },
  {
   "cell_type": "code",
   "execution_count": null,
   "metadata": {},
   "outputs": [],
   "source": [
    "l.saveVisualizationGeometry('cross_section_rectangle.msh')"
   ]
  }
 ],
 "metadata": {
  "kernelspec": {
   "display_name": "Python 3",
   "language": "python",
   "name": "python3"
  },
  "language_info": {
   "codemirror_mode": {
    "name": "ipython",
    "version": 3
   },
   "file_extension": ".py",
   "mimetype": "text/x-python",
   "name": "python",
   "nbconvert_exporter": "python",
   "pygments_lexer": "ipython3",
   "version": "3.6.6"
  }
 },
 "nbformat": 4,
 "nbformat_minor": 2
}
