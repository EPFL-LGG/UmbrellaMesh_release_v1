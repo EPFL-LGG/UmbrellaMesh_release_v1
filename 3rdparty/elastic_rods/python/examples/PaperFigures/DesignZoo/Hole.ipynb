{
 "cells": [
  {
   "cell_type": "code",
   "execution_count": null,
   "metadata": {},
   "outputs": [],
   "source": [
    "import sys; sys.path.append('../../..')\n",
    "import numpy as np, elastic_rods\n",
    "from bending_validation import suppress_stdout\n",
    "from linkage_vis import LinkageViewer\n",
    "elastic_rods.set_max_num_tbb_threads(4)\n",
    "l = elastic_rods.RodLinkage('../../../../examples/florin/debug_propagation/fail.obj', 5)\n",
    "# l = elastic_rods.RodLinkage('../../examples/florin/debug_propagation/ok.obj', 5)\n",
    "driver = 47\n",
    "mat = elastic_rods.RodMaterial('+', 2000, 0.3, [3.0, 3.0, 0.6, 0.6])\n",
    "l.setMaterial(mat)\n",
    "\n",
    "with suppress_stdout(): elastic_rods.restlen_solve(l)\n",
    "jdo = l.dofOffsetForJoint(driver)\n",
    "fixedVars = list(range(jdo, jdo + 6)) # fix rigid motion for a single joint\n",
    "fixedVars.append(jdo + 6) # constrain angle at the driving joint\n",
    "with suppress_stdout(): elastic_rods.compute_equilibrium(l, fixedVars=fixedVars)\n",
    "\n",
    "view = LinkageViewer(l, width=1800, height=1024)\n",
    "view.setCameraParams(((-3.5348897015600764, 2.0150675624070553, -0.8562873743813528),\n",
    " (-0.2182336232345712, -0.5192290829200226, -0.8263021512376287),\n",
    " (-0.5451765772627668, 0.6424108589964678, 1.0027124346962557)))\n",
    "view.show()"
   ]
  },
  {
   "cell_type": "code",
   "execution_count": null,
   "metadata": {},
   "outputs": [],
   "source": [
    "from open_linkage import open_linkage\n",
    "def equilibriumSolver(tgtAngle, l, opts, fv):\n",
    "    opts.beta = 1e-8\n",
    "    opts.useIdentityMetric = True\n",
    "    return elastic_rods.compute_equilibrium(l, tgtAngle, options=opts, fixedVars=fv)\n",
    "# open_linkage(l, driver, np.pi/2, 25, view, zPerturbationEpsilon=0, equilibriumSolver=equilibriumSolver, maxNewtonIterationsIntermediate=20, verbose=True, useTargetAngleConstraint=False);\n",
    "open_linkage(l, driver, 2.0 - l.averageJointAngle, 25, view, zPerturbationEpsilon=0, equilibriumSolver=equilibriumSolver, maxNewtonIterationsIntermediate=20, verbose=True, useTargetAngleConstraint=True);"
   ]
  }
 ],
 "metadata": {
  "kernelspec": {
   "display_name": "Python 3",
   "language": "python",
   "name": "python3"
  },
  "language_info": {
   "codemirror_mode": {
    "name": "ipython",
    "version": 3
   },
   "file_extension": ".py",
   "mimetype": "text/x-python",
   "name": "python",
   "nbconvert_exporter": "python",
   "pygments_lexer": "ipython3",
   "version": "3.6.6"
  }
 },
 "nbformat": 4,
 "nbformat_minor": 2
}
