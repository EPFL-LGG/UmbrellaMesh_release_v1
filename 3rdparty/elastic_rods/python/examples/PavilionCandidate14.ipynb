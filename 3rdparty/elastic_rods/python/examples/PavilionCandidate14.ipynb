{
 "cells": [
  {
   "cell_type": "code",
   "execution_count": 26,
   "metadata": {},
   "outputs": [
    {
     "data": {
      "application/vnd.jupyter.widget-view+json": {
       "model_id": "b9dc67a3e06a498cbce0b1aeb6519ca9",
       "version_major": 2,
       "version_minor": 0
      },
      "text/plain": [
       "Renderer(camera=PerspectiveCamera(aspect=2.0, children=(DirectionalLight(color='white', intensity=0.6, positio…"
      ]
     },
     "metadata": {},
     "output_type": "display_data"
    }
   ],
   "source": [
    "import sys; sys.path.append('..')\n",
    "import numpy as np, elastic_rods\n",
    "from bending_validation import suppress_stdout\n",
    "from linkage_vis import LinkageViewer\n",
    "linkage_name = '20190319_170044_meshID_f7458a1a-7be5-4a2b-8f39-ea89e514dcae'\n",
    "l = elastic_rods.RodLinkage('../../examples/florin/{}.obj'.format(linkage_name), 8)\n",
    "#driver=166\n",
    "driver=l.centralJoint()\n",
    "\n",
    "#mat = elastic_rods.RodMaterial('+', 2000, 0.3, [5, 5, 0.7, 0.7], stiffAxis=elastic_rods.StiffAxis.D1)\n",
    "mat = elastic_rods.RodMaterial('rectangle', 20000, 0.3, [12, 8])\n",
    "l.setMaterial(mat)\n",
    "\n",
    "with suppress_stdout(): elastic_rods.restlen_solve(l)\n",
    "jdo = l.dofOffsetForJoint(driver)\n",
    "fixedVars = list(range(jdo, jdo + 6)) # fix rigid motion for a single joint\n",
    "fixedVars.append(jdo + 6) # constrain angle at the driving joint\n",
    "with suppress_stdout(): elastic_rods.compute_equilibrium(l, fixedVars=fixedVars)\n",
    "\n",
    "view = LinkageViewer(l, width=1024, labelOffset=-0.5)\n",
    "#view.setCameraParams(((2.656451698624758, 1.5087349593639046, 0.23168476156681694),\n",
    "# (0.052583904614345374, 0.026224725204501566, 0.9982721055721517),\n",
    "# (0.13680349418553736, -0.13680349418553736, -0.8425278443781967)))\n",
    "view.show()"
   ]
  },
  {
   "cell_type": "code",
   "execution_count": 5,
   "metadata": {},
   "outputs": [],
   "source": [
    "l.saveVisualizationGeometry('deployed_{}.obj'.format(linkage_name))\n",
    "#l.writeLinkageDebugData('')"
   ]
  },
  {
   "cell_type": "code",
   "execution_count": 14,
   "metadata": {},
   "outputs": [],
   "source": [
    "from write_render_files import writeRenderFiles, writeActuators\n",
    "writeRenderFiles(l, 'Pavilion12', 'pav12')\n",
    "#writeActuators(l, np.where(torques > 1e-4)[0], directory='AsymPointyDataFlat', name='asymPointy_Fab')"
   ]
  },
  {
   "cell_type": "code",
   "execution_count": 10,
   "metadata": {},
   "outputs": [],
   "source": [
    "from linkage_utils import writeRodSegments\n",
    "writeRodSegments(l,'rod_segments_{}.txt'.format(linkage_name), zeroBasedIndexing=True)\n",
    "np.savetxt('restlen_{}.txt'.format(linkage_name),l.getPerSegmentRestLength())\n",
    "np.savetxt('normals_{}.txt'.format(linkage_name), np.array([j.normal for j in l.joints()]))\n",
    "l.writeLinkageDebugData('deployed_{}.msh'.format(linkage_name))"
   ]
  },
  {
   "cell_type": "code",
   "execution_count": 41,
   "metadata": {},
   "outputs": [
    {
     "data": {
      "text/plain": [
       "24.37145054902055"
      ]
     },
     "execution_count": 41,
     "metadata": {},
     "output_type": "execute_result"
    }
   ],
   "source": [
    "# Compute maximum \"stress\" appearing at any rod vertex in the structure\n",
    "max([max(segmentStress) for segmentStress in l.rodStresses()[1]])"
   ]
  },
  {
   "cell_type": "code",
   "execution_count": null,
   "metadata": {},
   "outputs": [],
   "source": [
    "# Output actuation torque\n",
    "for forceScale in np.linspace(1.0, 0, 51):\n",
    "    name = 'Pavilion14_{}'.format(forceScale)\n",
    "    with suppress_stdout(): elastic_rods.compute_equilibrium(l, forceScale * externalForces, fixedVars=fixedVars)\n",
    "    view.update(preserveExisting=True)\n",
    "    writeRenderFiles(l, directory, name)\n",
    "    writeActuators(l, np.where(torques > 0.1)[0], directory, name)"
   ]
  },
  {
   "cell_type": "code",
   "execution_count": 44,
   "metadata": {},
   "outputs": [
    {
     "data": {
      "text/plain": [
       "11.81760497978405"
      ]
     },
     "execution_count": 44,
     "metadata": {},
     "output_type": "execute_result"
    }
   ],
   "source": [
    "# Compute average \"stress\" appearing over all rod vertices in the structure\n",
    "np.mean(sum(l.rodStresses()[1], []))"
   ]
  },
  {
   "cell_type": "code",
   "execution_count": 27,
   "metadata": {},
   "outputs": [
    {
     "name": "stdout",
     "output_type": "stream",
     "text": [
      "target angle:  0.09692747964941377\n",
      "0\t17264.9\t23146.9\t23146.9\t1\t0\n",
      "0.06300612896605752\t1533.0817563451656\t1533.0817563451653\t1419.2638210429745\t2.8889110018320713e-21\t113.81793530219105\n",
      "target angle:  0.12522548749728654\n",
      "0\t15094.1\t20208.6\t20208.6\t1\t0\n",
      "Backtracking failed.\n",
      "0.07955873875757849\t2475.0740030711354\t2475.074003071136\t2330.7366374480794\t5.987544404056176e-21\t144.33736562305722\n",
      "target angle:  0.15352349534515933\n",
      "0\t14825.6\t18661.7\t18661.7\t1\t0\n",
      "Backtracking failed.\n",
      "0.09433462755048261\t3833.7931428802817\t3833.7931428802817\t3660.9783696638738\t1.2947685571914207e-20\t172.81477321640688\n",
      "target angle:  0.1818215031930321\n",
      "0\t14769.6\t17188.5\t17188.5\t1\t0\n",
      "0.10885504814946298\t5570.074223264108\t5570.074223264108\t5368.457432637159\t4.1591034325796457e-20\t201.61679062694813\n",
      "target angle:  0.2101195110409049\n",
      "0\t15819.9\t16321\t16321\t1\t0\n",
      "0.12345273729733162\t7669.424576454379\t7669.42457645438\t7437.6701206360585\t1.6202091164737163e-18\t231.75445581831576\n",
      "target angle:  0.23841751888877769\n",
      "0\t17676.8\t15818.7\t15818.7\t1\t0\n",
      "System matrix is not positive definite; increasing tau to 1e-08\n",
      "System matrix is not positive definite; increasing tau to 4e-08\n",
      "System matrix is not positive definite; increasing tau to 1.6e-07\n",
      "System matrix is not positive definite; increasing tau to 6.4e-07\n",
      "System matrix is not positive definite; increasing tau to 2.56e-06\n",
      "System matrix is not positive definite; increasing tau to 1.024e-05\n",
      "System matrix is not positive definite; increasing tau to 4.096e-05\n",
      "System matrix is not positive definite; increasing tau to 0.00016384\n",
      "System matrix is not positive definite; increasing tau to 0.00065536\n",
      "System matrix is not positive definite; increasing tau to 0.00262144\n",
      "System matrix is not positive definite; increasing tau to 0.0104858\n",
      "System matrix is not positive definite; increasing tau to 0.041943\n",
      "System matrix is not positive definite; increasing tau to 0.167772\n",
      "System matrix is not positive definite; increasing tau to 0.671089\n",
      "System matrix is not positive definite; increasing tau to 0.335544\n",
      "System matrix is not positive definite; increasing tau to 1.34218\n",
      "System matrix is not positive definite; increasing tau to 0.671089\n",
      "System matrix is not positive definite; increasing tau to 0.335544\n",
      "System matrix is not positive definite; increasing tau to 1.34218\n",
      "Computing negative curvature direction for scaled tau = 1.71927e-08\n",
      "System matrix is not positive definite; increasing tau to 0.671089\n",
      "System matrix is not positive definite; increasing tau to 0.335544\n",
      "10\t10126.8\t13.9885\t13.9885\t0.03125\t0\n",
      "20\t10119.8\t38.9862\t38.9862\t1\t0\n",
      "0.13877915751083786\t10119.826805575916\t10119.826805575916\t9856.58680115432\t24.772405170846636\t238.46759925074494\n",
      "target angle:  0.26671552673665044\n",
      "0\t20922.7\t17685.6\t17685.6\t1\t0\n",
      "10\t12884\t115.705\t115.705\t1\t0\n",
      "20\t12881.2\t0.000273716\t0.000273716\t1\t0\n",
      "0.15636606727392002\t12881.158377624546\t12881.158377624542\t12505.99487227619\t174.70555792098168\t200.45794742737985\n",
      "target angle:  0.29501353458452323\n",
      "0\t45217.8\t33394.5\t33394.5\t1\t0\n",
      "0.17478180120159956\t15925.126184558108\t15925.126184558107\t15320.327564361109\t432.2545274102708\t172.5440927867359\n",
      "target angle:  0.323311542432396\n",
      "0\t52814.4\t37024.4\t37024.4\t1\t0\n",
      "0.19456629279232204\t19207.359436114206\t19207.35943611421\t18214.7889383831\t846.1990215021185\t146.37147622899212\n",
      "target angle:  0.3516095502802688\n",
      "0\t59404.7\t39453.2\t39453.2\t1\t0\n",
      "0.21556488448874656\t22684.334949417476\t22684.33494941748\t21148.73949991047\t1410.8336008609683\t124.76184864605568\n",
      "target angle:  0.3799075581281416\n",
      "0\t62515.8\t39435.8\t39435.8\t1\t0\n",
      "0.23747560629329745\t26318.88661013013\t26318.88661013013\t24120.63467777266\t2090.2830121578495\t107.96892019964282\n",
      "target angle:  0.4082055659760144\n",
      "0\t62985.3\t37585.6\t37585.6\t1\t0\n",
      "0.2600074864204205\t30083.713956360196\t30083.713956360196\t27148.608725266902\t2840.0133153739457\t95.09191571933806\n",
      "target angle:  0.43650357382388716\n",
      "0\t62768.3\t35057.3\t35057.3\t1\t0\n",
      "0.28295310098417387\t33960.51798043598\t33960.51798043598\t30253.818176965575\t3621.5906252144423\t85.10917825595965\n",
      "target angle:  0.46480158167175994\n",
      "0\t63004.7\t32574.8\t32574.8\t1\t0\n",
      "Backtracking failed.\n",
      "0.30618172314920916\t37937.64320729773\t37937.64320729773\t33454.20003383963\t4406.222009051575\t77.22116440652617\n",
      "target angle:  0.49309958951963273\n",
      "0\t64024.4\t30415.7\t30415.7\t1\t0\n",
      "Backtracking failed.\n",
      "0.3296132930130406\t42007.977908889035\t42007.977908889035\t36763.721141494796\t5173.391664279294\t70.86510311493369\n",
      "target angle:  0.5213975973675055\n",
      "0\t65803.6\t28632\t28632\t1\t0\n",
      "0.35319802793111654\t46167.481127466555\t46167.48112746656\t40193.13597839208\t5908.69151228876\t65.65363678570635\n",
      "target angle:  0.5496956052153782\n",
      "0\t68221.2\t27191.5\t27191.5\t1\t0\n",
      "0.37690399799388935\t50414.221081187054\t50414.22108118705\t43750.858011598415\t6602.045267815945\t61.317801772691915\n",
      "target angle:  0.5779936130632509\n",
      "0\t71156.4\t26041.3\t26041.3\t1\t0\n",
      "0.4007100567326623\t54747.75649088449\t54747.75649088448\t47443.64301634082\t7246.4463274818345\t57.66714706184772\n",
      "target angle:  0.6062916209111237\n",
      "0\t74511.8\t25129.9\t25129.9\t1\t0\n",
      "0.4246018321507651\t59168.73664787773\t59168.736647877726\t51277.08010744063\t7837.09274582592\t54.56379461120169\n",
      "target angle:  0.6345896287589964\n",
      "0\t78215.2\t24414.2\t24414.2\t1\t0\n",
      "0.4485693969841431\t63678.640656012605\t63678.64065601261\t55255.93895787523\t8370.795928598553\t51.905769538830235\n",
      "target angle:  0.6628876366068691\n",
      "0\t82215.1\t23859.7\t23859.7\t1\t0\n",
      "0.4726058640218547\t68279.60654414888\t68279.60654414888\t59384.41752318008\t8845.572845593617\t49.6161753751949\n",
      "target angle:  0.6911856444547418\n",
      "0\t86475.4\t23439.7\t23439.7\t1\t0\n",
      "Backtracking failed.\n",
      "0.4967065031260248\t72974.31966802044\t72974.31966802043\t63666.322317982456\t9260.361317063756\t47.6360329742166\n",
      "target angle:  0.7194836523026146\n",
      "0\t90971.7\t23133.8\t23133.8\t1\t0\n",
      "0.5208681621477946\t77765.9411896137\t77765.9411896137\t68105.20303316932\t9614.81871627934\t45.9194401650486\n",
      "target angle:  0.7477816601504873\n",
      "0\t95688.2\t22926.8\t22926.8\t1\t0\n",
      "Backtracking failed.\n",
      "0.545088871598384\t82658.06437050457\t82658.06437050457\t72704.45637876172\t9909.177757524705\t44.430234218095755\n",
      "target angle:  0.77607966799836\n",
      "0\t100615\t22807\t22807\t1\t0\n",
      "0.5693675644227909\t87654.69072843512\t87654.69072843512\t77467.40887909042\t10144.142213388897\t43.13963595584824\n",
      "target angle:  0.8043776758462328\n",
      "0\t105749\t22766\t22766\t1\t0\n",
      "0.5937038709523283\t92760.22083218729\t92760.22083218729\t82397.38605934025\t10320.810204441064\t42.02456840601751\n",
      "target angle:  0.8326756836941055\n",
      "0\t111089\t22797.5\t22797.5\t1\t0\n",
      "0.6180979643126515\t97979.45626608157\t97979.45626608159\t87497.77238320134\t10440.617459359868\t41.06642352042046\n",
      "target angle:  0.8609736915419782\n",
      "0\t116638\t22897.4\t22897.4\t1\t0\n",
      "0.6425504410777819\t103317.6104477101\t103317.61044771012\t92772.06597561041\t10505.29431653886\t40.25015556084713\n",
      "target angle:  0.889271699389851\n",
      "0\t122402\t23063\t23063\t1\t0\n",
      "0.6670622271224665\t108780.32675459667\t108780.32675459667\t98223.93049599873\t10516.832657570343\t39.56360102755734\n",
      "target angle:  0.9175697072377237\n",
      "0\t128391\t23292.9\t23292.9\t1\t0\n",
      "0.6916345021028921\t114373.70294625673\t114373.70294625673\t103857.2462182241\t10477.459762551034\t38.99696548160536\n",
      "target angle:  0.9458677150855964\n",
      "0\t134614\t23586.7\t23586.7\t1\t0\n",
      "0.7162686381715082\t120104.3212483709\t120104.32124837089\t109676.16179293014\t10389.61702169736\t38.54243374331925\n",
      "target angle:  0.9741657229334691\n",
      "0\t141087\t23944.9\t23944.9\t1\t0\n",
      "0.7409661500626765\t125979.2837601509\t125979.2837601509\t115685.14781270536\t10255.942074139202\t38.19387330644429\n",
      "target angle:  1.002463730781342\n",
      "0\t147826\t24368.9\t24368.9\t1\t0\n",
      "Backtracking failed.\n",
      "0.7657286547559256\t132006.25310359147\t132006.2531035915\t121889.05306254381\t10079.253429432527\t37.94661161511964\n",
      "target angle:  1.0307617386292147\n",
      "0\t154849\t24860.7\t24860.7\t1\t0\n",
      "Backtracking failed.\n",
      "0.7905578401969622\t138193.4985019459\t138193.49850194587\t128293.16385194467\t9862.537385273317\t37.79726472786214\n",
      "target angle:  1.0590597464770874\n",
      "0\t162179\t25423.2\t25423.2\t1\t0\n",
      "0.8154554431106483\t144549.9478023206\t144549.9478023206\t134903.26696532863\t9608.937227510702\t37.74360948123938\n",
      "target angle:  1.0873577543249602\n",
      "0\t169843\t26060.5\t26060.5\t1\t0\n",
      "0.8404232347973949\t151085.24640555884\t151085.24640555884\t141725.71787726393\t9321.743989574748\t37.78453872012773\n",
      "target angle:  1.115655762172833\n",
      "0\t177869\t26776.2\t26776.2\t1\t0\n",
      "0.8654630216045553\t157809.82470960665\t157809.82470960662\t148767.51158991503\t9004.393141439217\t37.91997825247724\n",
      "target angle:  1.1439537700207056\n",
      "0\t186292\t27576.1\t27576.1\t1\t0\n",
      "0.8905766571411914\t164734.9766086475\t164734.9766086475\t156036.36101792476\t8660.464678790137\t38.15091193255889\n",
      "target angle:  1.1722517778685784\n",
      "0\t195152\t28466.8\t28466.8\t1\t0\n",
      "0.9157660746788011\t171872.9529371196\t171872.95293711958\t163540.78212852086\t8293.691384866655\t38.4794237321308\n",
      "target angle:  1.200549785716451\n",
      "0\t204496\t29456.6\t29456.6\t1\t0\n",
      "0.9410333449987816\t179237.0756376565\t179237.07563765647\t171290.19014254367\t7907.976691607908\t38.90880350493822\n",
      "target angle:  1.2288477935643238\n",
      "0\t214382\t30555.8\t30555.8\t1\t0\n",
      "0.9663807693482175\t186841.88096968044\t186841.88096968044\t179295.01242929287\t7507.424810178308\t39.44373020926825\n",
      "target angle:  1.2571458014121966\n",
      "0\t224877\t31777.9\t31777.9\t1\t0\n",
      "0.9918110200457659\t194703.30325614806\t194703.3032561481\t187566.8274963958\t7096.385199983664\t40.09055976873485\n",
      "target angle:  1.2854438092600693\n",
      "0\t236069\t33140.1\t33140.1\t1\t0\n",
      "1.0173273432647292\t202838.9141700664\t202838.9141700664\t196118.5444864539\t6679.5119316194405\t40.85775199309105\n",
      "target angle:  1.313741817107942\n",
      "0\t248066\t34664.4\t34664.4\t1\t0\n",
      "1.042933836000287\t211268.2354087645\t211268.23540876454\t204964.6437469084\t6261.835190026695\t41.75647182943352\n",
      "target angle:  1.3420398249558148\n",
      "0\t261004\t36378.7\t36378.7\t1\t0\n",
      "1.068635796034802\t220013.14261134944\t220013.14261134944\t214121.50498946235\t5848.836238114264\t42.80138377291978\n",
      "target angle:  1.3703378328036875\n",
      "0\t275056\t38316.7\t38316.7\t1\t0\n",
      "1.0944401128577494\t229098.37170575018\t229098.37170575015\t223607.85173370532\t5446.5083651837795\t44.011606861056755\n",
      "target angle:  1.3986358406515602\n",
      "0\t290439\t40517.3\t40517.3\t1\t0\n",
      "1.1203556201429845\t238552.12045228216\t238552.1204522822\t233445.33224515745\t5061.37651225364\t45.41169487083528\n",
      "target angle:  1.426933848499433\n",
      "0\t307411\t43020.8\t43020.8\t1\t0\n",
      "1.1463932927960707\t248406.70437998237\t248406.70437998237\t243659.22872362976\t4700.44329653804\t47.03235981446081\n",
      "target angle:  1.4552318563473057\n",
      "0\t326265\t45862.9\t45862.9\t1\t0\n",
      "1.172566200135058\t258699.18231885912\t258699.18231885915\t254279.2330299589\t4371.0387520952645\t48.910536805129496\n",
      "target angle:  1.4835298641951784\n",
      "0\t347304\t49065.9\t49065.9\t1\t0\n",
      "1.198889256445802\t269471.8317620597\t269471.8317620597\t265340.1616357977\t4080.581693478797\t51.08843278322814\n",
      "0\t269472\t1.07148e-05\t1.07148e-05\t0\t0\n"
     ]
    }
   ],
   "source": [
    "from open_linkage import open_linkage\n",
    "def equilibriumSolver(tgtAngle, l, opts, fv):\n",
    "    opts.beta = 1e-8\n",
    "    opts.gradTol = 1e-4\n",
    "    opts.useIdentityMetric = False\n",
    "    return elastic_rods.compute_equilibrium(l, tgtAngle, options=opts, fixedVars=fv)\n",
    "# open_linkage(l, driver, 2 * np.pi/3, 25, view, zPerturbationEpsilon=0, equilibriumSolver=equilibriumSolver, maxNewtonIterationsIntermediate=20, verbose=10, useTargetAngleConstraint=False);\n",
    "open_linkage(l, driver, np.deg2rad(85) - l.averageJointAngle, 50, view, zPerturbationEpsilon=0, equilibriumSolver=equilibriumSolver, maxNewtonIterationsIntermediate=20, verbose=10, useTargetAngleConstraint=True);"
   ]
  },
  {
   "cell_type": "code",
   "execution_count": null,
   "metadata": {},
   "outputs": [],
   "source": []
  },
  {
   "cell_type": "code",
   "execution_count": null,
   "metadata": {},
   "outputs": [],
   "source": []
  }
 ],
 "metadata": {
  "kernelspec": {
   "display_name": "Python 3",
   "language": "python",
   "name": "python3"
  },
  "language_info": {
   "codemirror_mode": {
    "name": "ipython",
    "version": 3
   },
   "file_extension": ".py",
   "mimetype": "text/x-python",
   "name": "python",
   "nbconvert_exporter": "python",
   "pygments_lexer": "ipython3",
   "version": "3.7.1"
  }
 },
 "nbformat": 4,
 "nbformat_minor": 2
}
