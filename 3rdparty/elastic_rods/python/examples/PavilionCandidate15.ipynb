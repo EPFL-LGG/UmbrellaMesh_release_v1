{
 "cells": [
  {
   "cell_type": "code",
   "execution_count": 8,
   "metadata": {},
   "outputs": [
    {
     "data": {
      "application/vnd.jupyter.widget-view+json": {
       "model_id": "92af78160acf4e06bc58b58f43d2060f",
       "version_major": 2,
       "version_minor": 0
      },
      "text/plain": [
       "Renderer(camera=PerspectiveCamera(aspect=2.0, children=(DirectionalLight(color='white', intensity=0.6, positio…"
      ]
     },
     "metadata": {},
     "output_type": "display_data"
    }
   ],
   "source": [
    "import sys; sys.path.append('..')\n",
    "import numpy as np, elastic_rods\n",
    "from bending_validation import suppress_stdout\n",
    "from linkage_vis import LinkageViewer\n",
    "linkage_name = '20190423_102656_meshID_1cec245f-3565-47aa-a78a-d6343c6ed811'\n",
    "l = elastic_rods.RodLinkage('../../examples/florin/{}.obj'.format(linkage_name), 8)\n",
    "#driver=166\n",
    "driver=l.centralJoint()\n",
    "\n",
    "#mat = elastic_rods.RodMaterial('+', 2000, 0.3, [5, 5, 0.7, 0.7], stiffAxis=elastic_rods.StiffAxis.D1)\n",
    "mat = elastic_rods.RodMaterial('rectangle', 20000, 0.3, [12, 8])\n",
    "l.setMaterial(mat)\n",
    "\n",
    "with suppress_stdout(): elastic_rods.restlen_solve(l)\n",
    "jdo = l.dofOffsetForJoint(driver)\n",
    "fixedVars = list(range(jdo, jdo + 6)) # fix rigid motion for a single joint\n",
    "fixedVars.append(jdo + 6) # constrain angle at the driving joint\n",
    "with suppress_stdout(): elastic_rods.compute_equilibrium(l, fixedVars=fixedVars)\n",
    "\n",
    "view = LinkageViewer(l, width=1024, labelOffset=-0.5)\n",
    "#view.setCameraParams(((2.656451698624758, 1.5087349593639046, 0.23168476156681694),\n",
    "# (0.052583904614345374, 0.026224725204501566, 0.9982721055721517),\n",
    "# (0.13680349418553736, -0.13680349418553736, -0.8425278443781967)))\n",
    "view.show()"
   ]
  },
  {
   "cell_type": "code",
   "execution_count": 5,
   "metadata": {},
   "outputs": [],
   "source": [
    "l.saveVisualizationGeometry('deployed_{}.obj'.format(linkage_name))\n",
    "#l.writeLinkageDebugData('')"
   ]
  },
  {
   "cell_type": "code",
   "execution_count": 14,
   "metadata": {},
   "outputs": [],
   "source": [
    "from write_render_files import writeRenderFiles, writeActuators\n",
    "writeRenderFiles(l, 'Pavilion12', 'pav12')\n",
    "#writeActuators(l, np.where(torques > 1e-4)[0], directory='AsymPointyDataFlat', name='asymPointy_Fab')"
   ]
  },
  {
   "cell_type": "code",
   "execution_count": 10,
   "metadata": {},
   "outputs": [],
   "source": [
    "from linkage_utils import writeRodSegments\n",
    "writeRodSegments(l,'rod_segments_{}.txt'.format(linkage_name), zeroBasedIndexing=True)\n",
    "np.savetxt('restlen_{}.txt'.format(linkage_name),l.getPerSegmentRestLength())\n",
    "np.savetxt('normals_{}.txt'.format(linkage_name), np.array([j.normal for j in l.joints()]))\n",
    "l.writeLinkageDebugData('deployed_{}.msh'.format(linkage_name))"
   ]
  },
  {
   "cell_type": "code",
   "execution_count": 41,
   "metadata": {},
   "outputs": [
    {
     "data": {
      "text/plain": [
       "24.37145054902055"
      ]
     },
     "execution_count": 41,
     "metadata": {},
     "output_type": "execute_result"
    }
   ],
   "source": [
    "# Compute maximum \"stress\" appearing at any rod vertex in the structure\n",
    "max([max(segmentStress) for segmentStress in l.rodStresses()[1]])"
   ]
  },
  {
   "cell_type": "code",
   "execution_count": null,
   "metadata": {},
   "outputs": [],
   "source": [
    "# Output actuation torque\n",
    "for forceScale in np.linspace(1.0, 0, 51):\n",
    "    name = 'Pavilion14_{}'.format(forceScale)\n",
    "    with suppress_stdout(): elastic_rods.compute_equilibrium(l, forceScale * externalForces, fixedVars=fixedVars)\n",
    "    view.update(preserveExisting=True)\n",
    "    writeRenderFiles(l, directory, name)\n",
    "    writeActuators(l, np.where(torques > 0.1)[0], directory, name)"
   ]
  },
  {
   "cell_type": "code",
   "execution_count": 44,
   "metadata": {},
   "outputs": [
    {
     "data": {
      "text/plain": [
       "11.81760497978405"
      ]
     },
     "execution_count": 44,
     "metadata": {},
     "output_type": "execute_result"
    }
   ],
   "source": [
    "# Compute average \"stress\" appearing over all rod vertices in the structure\n",
    "np.mean(sum(l.rodStresses()[1], []))"
   ]
  },
  {
   "cell_type": "code",
   "execution_count": 10,
   "metadata": {},
   "outputs": [
    {
     "name": "stdout",
     "output_type": "stream",
     "text": [
      "target angle:  1.488765851951164\n",
      "0\t535371\t715.795\t715.795\t1\t0\n",
      "1.2817892098632673\t535363.9325515146\t535363.9325515146\t517889.9972146439\t14374.611458677768\t3099.3238781927694\n",
      "target angle:  1.4940018397071468\n",
      "0\t540645\t740.766\t740.766\t1\t0\n",
      "1.2870515460104046\t540636.9582037174\t540636.9582037174\t522778.6493579041\t14695.866296779297\t3162.4425490341096\n",
      "target angle:  1.4992378274631297\n",
      "0\t545963\t771.904\t771.904\t1\t0\n",
      "1.292331576568166\t545955.4714834855\t545955.4714834853\t527684.5758073273\t15044.080128880072\t3226.815547277965\n",
      "target angle:  1.5044738152191126\n",
      "0\t551328\t811.187\t811.187\t1\t0\n",
      "1.2976301396664038\t551319.7434478868\t551319.7434478868\t532603.9536519897\t15423.344693554447\t3292.4451023425663\n",
      "target angle:  1.5097098029750955\n",
      "0\t556739\t861.239\t861.239\t1\t0\n",
      "1.3029482230546914\t556730.0201063894\t556730.0201063894\t537532.1528801641\t15838.539625998728\t3359.3276002264656\n",
      "target angle:  1.5149457907310784\n",
      "0\t562196\t925.485\t925.485\t1\t0\n",
      "1.3082869952898577\t562186.5163941816\t562186.5163941816\t542463.5822417702\t16295.482110730714\t3427.4520416804185\n",
      "target angle:  1.5201817784870613\n",
      "0\t567700\t1008.3\t1008.3\t1\t0\n",
      "1.3136478400587928\t567689.408884281\t567689.408884281\t547391.5225061182\t16801.088161166008\t3496.798216996783\n",
      "target angle:  1.5254177662430441\n",
      "0\t573250\t1115.09\t1115.09\t1\t0\n",
      "1.319032390814594\t573238.8271018937\t573238.8271018937\t552307.961515974\t17363.53094659349\t3567.3346393256725\n",
      "target angle:  1.530653753999027\n",
      "0\t578848\t1252.26\t1252.26\t1\t0\n",
      "1.3244425600234595\t578834.8434100482\t578834.8434100483\t557203.458880351\t17992.36815597762\t3639.0163737199473\n",
      "target angle:  1.53588974175501\n",
      "0\t584492\t1426.93\t1426.93\t1\t0\n",
      "1.3298805530534321\t584477.4616502754\t584477.4616502754\t562067.0874910457\t18698.591102419836\t3711.78305681006\n",
      "target angle:  1.5411257295109928\n",
      "0\t590184\t1646.31\t1646.31\t1\t0\n",
      "1.3353488513638132\t590166.6050933063\t590166.6050933062\t566886.522595452\t19494.52486829936\t3785.5576295550177\n",
      "target angle:  1.5463617172669757\n",
      "0\t595923\t1916.5\t1916.5\t1\t0\n",
      "1.3408501447090595\t595902.1048134833\t595902.1048134833\t571648.3694611856\t20393.488781505068\t3860.2465707929914\n",
      "target angle:  1.5515977050229586\n",
      "0\t601710\t2240.65\t2240.65\t1\t0\n",
      "1.3463871911980951\t601683.6903068982\t601683.6903068984\t576338.821014012\t21409.12668028655\t3935.7426125995726\n",
      "target angle:  1.5568336927789415\n",
      "0\t607544\t2616.62\t2616.62\t1\t0\n",
      "1.3519625930049064\t607510.9848468832\t607510.9848468832\t580944.6921355048\t22554.361886890958\t4011.9308244873064\n",
      "target angle:  1.5620696805349243\n",
      "0\t613425\t3034.64\t3034.64\t1\t0\n",
      "1.3575784993431612\t613383.5083379699\t613383.5083379699\t585454.7674805347\t23840.04254060848\t4088.6983168263696\n",
      "target angle:  1.5673056682909072\n",
      "0\t619352\t3476.1\t3476.1\t1\t0\n",
      "1.3632362847037942\t619300.6898153764\t619300.6898153762\t589861.238895679\t25273.504363170545\t4165.946556526691\n",
      "target angle:  1.5725416560468901\n",
      "0\t625325\t3914.79\t3914.79\t1\t0\n",
      "1.3689362832929093\t625261.8899646739\t625261.8899646737\t594160.8705925713\t26857.415558902445\t4243.603813199949\n",
      "target angle:  1.577777643802873\n",
      "0\t631341\t4321.14\t4321.14\t1\t0\n",
      "1.3746776647796686\t631266.4314532939\t631266.4314532939\t598355.5247378671\t28589.27225830258\t4321.634457124147\n",
      "target angle:  1.5830136315588559\n",
      "0\t637399\t4668.37\t4668.37\t1\t0\n",
      "1.3804584974850465\t637313.6325265606\t637313.6325265605\t602451.8621424702\t30461.727877152607\t4400.0425069379935\n",
      "target angle:  1.5882496193148388\n",
      "0\t643498\t4938.03\t4938.03\t1\t0\n",
      "1.3862759790726469\t643402.8384308453\t643402.8384308452\t606460.3233863171\t32463.6462148323\t4478.868829695895\n",
      "target angle:  1.5934856070708217\n",
      "0\t649635\t5122.75\t5122.75\t1\t0\n",
      "1.3921267602977727\t649533.4462296955\t649533.4462296953\t610393.724854906\t34581.53780382263\t4558.183570966534\n",
      "target angle:  1.5987215948268045\n",
      "0\t655811\t5225.47\t5225.47\t1\t0\n",
      "1.39800727320173\t655704.9208333977\t655704.9208333977\t614265.8533534908\t36800.99095718381\t4638.076522722975\n",
      "target angle:  1.6039575825827874\n",
      "0\t662024\t5256.39\t5256.39\t1\t0\n",
      "1.4039139988670928\t661916.8023908075\t661916.8023908075\t618090.3314647847\t39107.82301041038\t4718.6479156125415\n",
      "target angle:  1.6091935703387703\n",
      "0\t668276\t5229.24\t5229.24\t1\t0\n",
      "1.4098436478849397\t668168.7067278582\t668168.7067278582\t621879.8595465212\t41488.84606489051\t4800.001116446128\n",
      "target angle:  1.6144295580947532\n",
      "0\t674565\t5158.28\t5158.28\t1\t0\n",
      "1.4157932574396177\t674460.3210617387\t674460.3210617387\t625645.8105851768\t43932.272810914714\t4882.237665647364\n",
      "target angle:  1.619665545850736\n",
      "0\t680893\t5056.43\t5056.43\t1\t0\n",
      "1.4217602244217333\t680791.3970484033\t680791.3970484033\t629398.0915867622\t46427.85105150945\t4965.454410131576\n",
      "target angle:  1.624901533606719\n",
      "0\t687260\t4934.38\t4934.38\t1\t0\n",
      "1.427742296907383\t687161.7427233707\t687161.7427233707\t633145.1758125877\t48966.82470020643\t5049.742210577017\n",
      "target angle:  1.6301375213627018\n",
      "0\t693665\t4800.46\t4800.46\t1\t0\n",
      "1.433737542646054\t693571.214357924\t693571.2143579238\t636894.2276447506\t51541.80102420515\t5135.185688968051\n",
      "target angle:  1.6353735091186847\n",
      "0\t700109\t4660.87\t4660.87\t1\t0\n",
      "1.4397443076135032\t700019.7088125963\t700019.7088125963\t640651.2662288413\t54146.57899525706\t5221.863588497832\n",
      "target angle:  1.6406094968746676\n",
      "0\t706592\t4520.05\t4520.05\t1\t0\n",
      "1.4457611726591357\t706507.1566630226\t706507.1566630227\t644421.3353375627\t56775.971879383935\t5309.84944607625\n",
      "target angle:  1.6458454846306505\n",
      "0\t713115\t4381.04\t4381.04\t1\t0\n",
      "1.4517869125949039\t713033.5161810064\t713033.5161810064\t648208.6621782687\t59425.64161469062\t5399.212388047204\n",
      "target angle:  1.6510814723866334\n",
      "0\t719676\t4245.85\t4245.85\t1\t0\n",
      "1.4578204596964026\t719598.7681455631\t719598.7681455628\t652016.797565232\t62091.95264086262\t5490.017939468223\n",
      "target angle:  1.6563174601426163\n",
      "0\t726276\t4115.74\t4115.74\t1\t0\n",
      "1.46386087219452\t726202.9114071832\t726202.9114071832\t655848.7354515044\t64771.84716602513\t5582.328789653568\n",
      "target angle:  1.6615534478985992\n",
      "0\t732916\t3991.43\t3991.43\t1\t0\n",
      "1.469907307598393\t732845.959106712\t732845.9591067123\t659707.0127014186\t67462.7409162665\t5676.205489026826\n",
      "target angle:  1.666789435654582\n",
      "0\t739595\t3873.26\t3873.26\t1\t0\n",
      "1.4759590003468328\t739527.9354503801\t739527.9354503801\t663593.7912708796\t70162.43710868614\t5771.707070814395\n",
      "target angle:  1.672025423410565\n",
      "0\t746313\t3761.33\t3761.33\t1\t0\n",
      "1.4820152431723823\t746248.87294725\t746248.8729472499\t667510.9253559074\t72869.05599080108\t5868.891600541616\n",
      "target angle:  1.6772614111665478\n",
      "0\t753070\t3655.55\t3655.55\t1\t0\n",
      "1.488075371558096\t753008.8100282699\t753008.8100282702\t671460.0160155785\t75580.97735121056\t5967.81666148077\n",
      "target angle:  1.6824973989225307\n",
      "0\t759866\t3555.73\t3555.73\t1\t0\n",
      "1.4941387507240276\t759807.7889753233\t759807.7889753237\t675442.4555161237\t78296.79367388831\t6068.539785311344\n",
      "target angle:  1.6877333866785136\n",
      "0\t766702\t3461.62\t3461.62\t1\t0\n",
      "1.500204764653351\t766645.8541017896\t766645.85410179\t679459.4633200119\t81015.27194370692\t6171.118838071293\n",
      "target angle:  1.6929693744344965\n",
      "0\t773577\t3372.92\t3372.92\t1\t0\n",
      "1.5062728067437543\t773523.0501336737\t773523.0501336737\t683512.1153197173\t83735.32244358423\t6275.612370371666\n",
      "target angle:  1.6982053621904794\n",
      "0\t780492\t3289.31\t3289.31\t1\t0\n",
      "1.5123422717386825\t780439.4207502641\t780439.4207502641\t687601.3676253065\t86455.97318449663\t6382.079940461049\n",
      "target angle:  1.7034413499464622\n",
      "0\t787445\t3210.5\t3210.5\t1\t0\n",
      "1.5184125486545124\t787395.0072491234\t787395.0072491233\t691728.0759641791\t89176.34886766238\t6490.582417282115\n",
      "target angle:  1.7086773377024451\n",
      "0\t794439\t3136.16\t3136.16\t1\t0\n",
      "Backtracking failed.\n",
      "1.5244830139584433\t794389.84730591\t794389.8473059097\t695893.0089212826\t91895.65605116417\t6601.182333462896\n",
      "target angle:  1.713913325458428\n",
      "0\t801471\t3065.28\t3065.28\t1\t0\n",
      "1.5305530283608724\t801423.9738045036\t801423.9738045034\t700096.8740615502\t94613.15588948793\t6713.94385346528\n",
      "target angle:  1.719149313214411\n",
      "0\t808543\t2999.73\t2999.73\t1\t0\n",
      "1.536621926384028\t808497.4137157053\t808497.4137157053\t704340.3024013126\t97328.17763118977\t6828.933683202872\n",
      "target angle:  1.7243853009703938\n",
      "0\t815655\t2937.1\t2937.1\t1\t0\n",
      "Backtracking failed.\n",
      "1.5426890159836386\t815610.1870063308\t815610.1870063308\t708623.881832389\t100040.08437743525\t6946.220796506069\n",
      "target angle:  1.7296212887263767\n",
      "0\t822805\t2877.45\t2877.45\t1\t0\n",
      "1.5487535729366726\t822762.3055622941\t822762.3055622939\t712948.1594649765\t102748.26941349414\t7065.876683823836\n",
      "target angle:  1.7348572764823595\n",
      "0\t829996\t2821.75\t2821.75\t1\t0\n",
      "1.5548148326911435\t829953.7721101333\t829953.7721101335\t717313.6340066342\t105452.16179624682\t7187.97630725218\n",
      "target angle:  1.7400932642383424\n",
      "0\t837225\t2768.58\t2768.58\t1\t0\n",
      "Backtracking failed.\n",
      "1.560871988724837\t837184.5791243375\t837184.5791243375\t721720.7755863244\t108151.20573784142\t7312.597800171705\n",
      "target angle:  1.7453292519943253\n",
      "0\t844495\t2717.81\t2717.81\t1\t0\n",
      "1.5669241876275188\t844454.7077063628\t844454.7077063627\t726170.0294492866\t110844.8555560832\t7439.822700992947\n",
      "0\t844455\t5.2286e-06\t5.2286e-06\t0\t0\n"
     ]
    }
   ],
   "source": [
    "from open_linkage import open_linkage\n",
    "def equilibriumSolver(tgtAngle, l, opts, fv):\n",
    "    opts.beta = 1e-8\n",
    "    opts.gradTol = 1e-4\n",
    "    opts.useIdentityMetric = False\n",
    "    return elastic_rods.compute_equilibrium(l, tgtAngle, options=opts, fixedVars=fv)\n",
    "# open_linkage(l, driver, 2 * np.pi/3, 25, view, zPerturbationEpsilon=0, equilibriumSolver=equilibriumSolver, maxNewtonIterationsIntermediate=20, verbose=10, useTargetAngleConstraint=False);\n",
    "open_linkage(l, driver, np.deg2rad(100) - l.averageJointAngle, 50, view, zPerturbationEpsilon=0, equilibriumSolver=equilibriumSolver, maxNewtonIterationsIntermediate=20, verbose=10, useTargetAngleConstraint=True);"
   ]
  },
  {
   "cell_type": "code",
   "execution_count": null,
   "metadata": {},
   "outputs": [],
   "source": []
  },
  {
   "cell_type": "code",
   "execution_count": null,
   "metadata": {},
   "outputs": [],
   "source": []
  }
 ],
 "metadata": {
  "kernelspec": {
   "display_name": "Python 3",
   "language": "python",
   "name": "python3"
  },
  "language_info": {
   "codemirror_mode": {
    "name": "ipython",
    "version": 3
   },
   "file_extension": ".py",
   "mimetype": "text/x-python",
   "name": "python",
   "nbconvert_exporter": "python",
   "pygments_lexer": "ipython3",
   "version": "3.7.1"
  }
 },
 "nbformat": 4,
 "nbformat_minor": 2
}
