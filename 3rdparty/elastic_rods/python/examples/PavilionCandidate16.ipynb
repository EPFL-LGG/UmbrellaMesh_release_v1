{
 "cells": [
  {
   "cell_type": "code",
   "execution_count": 21,
   "metadata": {},
   "outputs": [
    {
     "data": {
      "application/vnd.jupyter.widget-view+json": {
       "model_id": "a33280e167784e698b24bbc0b806b411",
       "version_major": 2,
       "version_minor": 0
      },
      "text/plain": [
       "Renderer(camera=PerspectiveCamera(aspect=2.0, children=(DirectionalLight(color='white', intensity=0.6, positio…"
      ]
     },
     "metadata": {},
     "output_type": "display_data"
    }
   ],
   "source": [
    "import sys; sys.path.append('..')\n",
    "import numpy as np, elastic_rods\n",
    "from bending_validation import suppress_stdout\n",
    "from linkage_vis import LinkageViewer\n",
    "linkage_name = '20190423_114403_meshID_2b2fb938-1405-4b68-bcae-41cda318899c'\n",
    "l = elastic_rods.RodLinkage('../../examples/florin/{}.obj'.format(linkage_name), 8)\n",
    "#driver=166\n",
    "driver=l.centralJoint()\n",
    "\n",
    "#mat = elastic_rods.RodMaterial('+', 2000, 0.3, [5, 5, 0.7, 0.7], stiffAxis=elastic_rods.StiffAxis.D1)\n",
    "mat = elastic_rods.RodMaterial('rectangle', 20000, 0.3, [12, 8])\n",
    "l.setMaterial(mat)\n",
    "\n",
    "with suppress_stdout(): elastic_rods.restlen_solve(l)\n",
    "jdo = l.dofOffsetForJoint(driver)\n",
    "fixedVars = list(range(jdo, jdo + 6)) # fix rigid motion for a single joint\n",
    "fixedVars.append(jdo + 6) # constrain angle at the driving joint\n",
    "with suppress_stdout(): elastic_rods.compute_equilibrium(l, fixedVars=fixedVars)\n",
    "\n",
    "view = LinkageViewer(l, width=1024, labelOffset=-0.5)\n",
    "#view.setCameraParams(((2.656451698624758, 1.5087349593639046, 0.23168476156681694),\n",
    "# (0.052583904614345374, 0.026224725204501566, 0.9982721055721517),\n",
    "# (0.13680349418553736, -0.13680349418553736, -0.8425278443781967)))\n",
    "view.show()"
   ]
  },
  {
   "cell_type": "code",
   "execution_count": 5,
   "metadata": {},
   "outputs": [],
   "source": [
    "l.saveVisualizationGeometry('deployed_{}.obj'.format(linkage_name))\n",
    "#l.writeLinkageDebugData('')"
   ]
  },
  {
   "cell_type": "code",
   "execution_count": 14,
   "metadata": {},
   "outputs": [],
   "source": [
    "from write_render_files import writeRenderFiles, writeActuators\n",
    "writeRenderFiles(l, 'Pavilion12', 'pav12')\n",
    "#writeActuators(l, np.where(torques > 1e-4)[0], directory='AsymPointyDataFlat', name='asymPointy_Fab')"
   ]
  },
  {
   "cell_type": "code",
   "execution_count": 10,
   "metadata": {},
   "outputs": [],
   "source": [
    "from linkage_utils import writeRodSegments\n",
    "writeRodSegments(l,'rod_segments_{}.txt'.format(linkage_name), zeroBasedIndexing=True)\n",
    "np.savetxt('restlen_{}.txt'.format(linkage_name),l.getPerSegmentRestLength())\n",
    "np.savetxt('normals_{}.txt'.format(linkage_name), np.array([j.normal for j in l.joints()]))\n",
    "l.writeLinkageDebugData('deployed_{}.msh'.format(linkage_name))"
   ]
  },
  {
   "cell_type": "code",
   "execution_count": 41,
   "metadata": {},
   "outputs": [
    {
     "data": {
      "text/plain": [
       "24.37145054902055"
      ]
     },
     "execution_count": 41,
     "metadata": {},
     "output_type": "execute_result"
    }
   ],
   "source": [
    "# Compute maximum \"stress\" appearing at any rod vertex in the structure\n",
    "max([max(segmentStress) for segmentStress in l.rodStresses()[1]])"
   ]
  },
  {
   "cell_type": "code",
   "execution_count": null,
   "metadata": {},
   "outputs": [],
   "source": [
    "# Output actuation torque\n",
    "for forceScale in np.linspace(1.0, 0, 51):\n",
    "    name = 'Pavilion14_{}'.format(forceScale)\n",
    "    with suppress_stdout(): elastic_rods.compute_equilibrium(l, forceScale * externalForces, fixedVars=fixedVars)\n",
    "    view.update(preserveExisting=True)\n",
    "    writeRenderFiles(l, directory, name)\n",
    "    writeActuators(l, np.where(torques > 0.1)[0], directory, name)"
   ]
  },
  {
   "cell_type": "code",
   "execution_count": 44,
   "metadata": {},
   "outputs": [
    {
     "data": {
      "text/plain": [
       "11.81760497978405"
      ]
     },
     "execution_count": 44,
     "metadata": {},
     "output_type": "execute_result"
    }
   ],
   "source": [
    "# Compute average \"stress\" appearing over all rod vertices in the structure\n",
    "np.mean(sum(l.rodStresses()[1], []))"
   ]
  },
  {
   "cell_type": "code",
   "execution_count": 24,
   "metadata": {},
   "outputs": [
    {
     "name": "stdout",
     "output_type": "stream",
     "text": [
      "target angle:  2.083923126881228\n",
      "0\t907712\t14400.9\t14400.9\t1\t0\n",
      "2.154408264033129\t904300.1528855064\t904300.1528855065\t888285.365340218\t14712.115675233983\t1302.671870054848\n",
      "target angle:  2.0734511513692624\n",
      "0\t890476\t14192.7\t14192.7\t1\t0\n",
      "2.1353395072798835\t887145.8679516593\t887145.8679516593\t871769.976335214\t14097.257907357458\t1278.6337090880434\n",
      "target angle:  2.0629791758572966\n",
      "0\t873538\t13989.9\t13989.9\t1\t0\n",
      "2.116382042344829\t870288.5429038466\t870288.5429038465\t855529.470273518\t13504.255337249913\t1254.8172930780577\n",
      "target angle:  2.052507200345331\n",
      "0\t856896\t13791.9\t13791.9\t1\t0\n",
      "2.097535202602936\t853725.3697931601\t853725.3697931601\t839561.1977046804\t12932.942626133488\t1231.2294623463843\n",
      "target angle:  2.042035224833365\n",
      "0\t840546\t13598.7\t13598.7\t1\t0\n",
      "2.0787985113445915\t837453.4729579367\t837453.4729579367\t823862.4847751693\t12383.111647203086\t1207.8765355645614\n",
      "target angle:  2.0315632493213993\n",
      "0\t824486\t13409.8\t13409.8\t1\t0\n",
      "2.060171656044259\t821469.9182161712\t821469.9182161711\t808430.6385808875\t11854.515256652143\t1184.7643786313413\n",
      "target angle:  2.0210912738094335\n",
      "0\t808712\t13225\t13225\t1\t0\n",
      "2.0416544666377456\t805771.7207701855\t805771.7207701853\t793262.9513091701\t11346.870996517495\t1161.8984644975399\n",
      "target angle:  2.0106192982974678\n",
      "0\t793221\t13044\t13044\t1\t0\n",
      "2.02324689720034\t790355.8519972567\t790355.8519972566\t778356.7033693497\t10859.864702795787\t1139.283925111319\n",
      "target angle:  2.000147322785502\n",
      "0\t778011\t12866.6\t12866.6\t1\t0\n",
      "2.004949010516287\t775219.2452749801\t775219.2452749801\t763709.1656798571\t10393.153998522346\t1116.9255966006413\n",
      "target angle:  1.989675347273536\n",
      "0\t763078\t12692.6\t12692.6\t1\t0\n",
      "1.9867609651076519\t760358.8009679562\t760358.8009679562\t749317.6012529611\t9946.371656459602\t1094.8280585352923\n",
      "target angle:  1.97920337176157\n",
      "0\t748420\t12521.9\t12521.9\t1\t0\n",
      "1.9686830043527008\t745771.3906853643\t745771.3906853644\t735179.2661970935\t9519.128820221247\t1072.9956680495548\n",
      "target angle:  1.968731396249604\n",
      "0\t734032\t12354.1\t12354.1\t1\t0\n",
      "1.9507154473787698\t731453.8609028682\t731453.8609028682\t721291.410237324\t9111.018076106604\t1051.4325894379272\n",
      "target angle:  1.958259420737638\n",
      "0\t719913\t12189.2\t12189.2\t1\t0\n",
      "1.9328586814542352\t717403.0360305622\t717403.0360305621\t707651.2768400052\t8721.616370785998\t1030.1428197711684\n",
      "target angle:  1.947787445225672\n",
      "0\t706058\t12027\t12027\t1\t0\n",
      "1.9151131556426852\t703615.7209969376\t703615.7209969377\t694256.1030137216\t8350.487772257024\t1009.1302109589404\n",
      "target angle:  1.937315469713706\n",
      "0\t692465\t11867.3\t11867.3\t1\t0\n",
      "1.8974793755101713\t690088.7034105281\t690088.7034105281\t681103.1188484976\t7997.186073380809\t988.3984886496669\n",
      "target angle:  1.92684349420174\n",
      "0\t679130\t11710\t11710\t1\t0\n",
      "1.8799578987021046\t676818.7553528189\t676818.755352819\t668189.5468457156\t7661.257238832678\t967.9512682705158\n",
      "target angle:  1.916371518689774\n",
      "0\t666050\t11555\t11555\t1\t0\n",
      "1.8625493312246255\t663802.6348495255\t663802.6348495255\t655512.6010836798\t7342.241697390332\t947.7920684556085\n",
      "target angle:  1.905899543177808\n",
      "0\t653221\t11402.1\t11402.1\t1\t0\n",
      "1.8452543242868813\t651037.0870622153\t651037.0870622154\t643069.486257642\t7039.676482463598\t927.9243221097248\n",
      "target angle:  1.895427567665842\n",
      "0\t640641\t11251.2\t11251.2\t1\t0\n",
      "1.8280735715700636\t638518.8452371652\t638518.8452371652\t630857.3966276007\t6753.097224334429\t908.3513852301902\n",
      "target angle:  1.884955592153876\n",
      "0\t628307\t11102.3\t11102.3\t1\t0\n",
      "1.8110078068061224\t626244.6314450002\t626244.6314450002\t618873.5149032992\t6482.039998023047\t889.0765436780638\n",
      "target angle:  1.87448361664191\n",
      "0\t616214\t10955.2\t10955.2\t1\t0\n",
      "1.794057801555624\t614211.1571410629\t614211.1571410627\t607115.0110920825\t6226.043031001119\t870.1030179794888\n",
      "target angle:  1.864011641129944\n",
      "0\t604359\t10809.8\t10809.8\t1\t0\n",
      "1.7772243630873326\t602415.1235741267\t602415.1235741267\t595579.0413329154\t5984.648274966739\t851.4339662446247\n",
      "target angle:  1.8535396656179781\n",
      "0\t592740\t10666.1\t10666.1\t1\t0\n",
      "1.760508332266101\t590853.2220685594\t590853.2220685595\t584262.746737282\t5757.4028459597375\t833.0724853176838\n",
      "target angle:  1.8430676901060121\n",
      "0\t581353\t10523.9\t10523.9\t1\t0\n",
      "1.7439105813661442\t579522.1342034471\t579522.1342034471\t573163.2522563841\t5543.8603369251505\t815.021610138375\n",
      "target angle:  1.8325957145940461\n",
      "0\t570194\t10383.1\t10383.1\t1\t0\n",
      "1.7274320117307322\t568418.5319108256\t568418.5319108256\t562277.6655928502\t5343.582006544903\t797.2843114304635\n",
      "target angle:  1.8221237390820801\n",
      "0\t559261\t10243.7\t10243.7\t1\t0\n",
      "1.7110735512068875\t557539.0775136148\t557539.0775136149\t551603.0761739393\t5156.137847960417\t779.8634917148524\n",
      "target angle:  1.8116517635701141\n",
      "0\t548550\t10105.6\t10105.6\t1\t0\n",
      "1.6948361512887462\t546880.4237234424\t546880.4237234424\t541136.5542031743\t4981.107540600562\t762.7619796673922\n",
      "target angle:  1.8011797880581482\n",
      "0\t538056\t9968.68\t9968.68\t1\t0\n",
      "1.6787207839082365\t536439.2136172873\t536439.2136172875\t530875.1498064612\t4818.081287941083\t745.9825228854897\n",
      "target angle:  1.7907078125461822\n",
      "0\t527778\t9832.92\t9832.92\t1\t0\n",
      "1.6627284378191598\t526212.0806117523\t526212.0806117523\t520815.89228900324\t4666.660543686595\t729.5277790623763\n",
      "target angle:  1.7802358370342162\n",
      "0\t517712\t9698.24\t9698.24\t1\t0\n",
      "1.6468601145250232\t516195.6484529476\t516195.64845294744\t510955.7895189275\t4526.458628411017\t713.4003056091549\n",
      "target angle:  1.7697638615222502\n",
      "0\t507854\t9564.56\t9564.56\t1\t0\n",
      "1.6311168237085683\t506386.5312398835\t506386.5312398836\t501291.8274536759\t4397.101238401724\t697.6025478060848\n",
      "target angle:  1.7592918860102842\n",
      "0\t498201\t9431.83\t9431.83\t1\t0\n",
      "1.6154995781270518\t496781.33349850745\t496781.33349850745\t491820.96982495935\t4278.226848073357\t682.1368254745256\n",
      "target angle:  1.7488199104983182\n",
      "0\t488750\t9299.98\t9299.98\t1\t0\n",
      "1.600009387946343\t487376.6503237017\t487376.6503237017\t482540.15799831215\t4169.487007083518\t667.0053183061813\n",
      "target angle:  1.7383479349863522\n",
      "0\t479496\t9168.97\t9168.97\t1\t0\n",
      "1.58464725449443\t478169.0676057713\t478169.0676057713\t473446.31102275295\t4070.5465331079045\t652.2100499102262\n",
      "target angle:  1.7278759594743862\n",
      "0\t470437\t9038.73\t9038.73\t1\t0\n",
      "1.5694141634243155\t469155.1623574964\t469155.16235749633\t464536.32588566025\t3981.083601133349\t637.7528707028875\n",
      "target angle:  1.7174039839624202\n",
      "0\t461570\t8909.22\t8909.22\t1\t0\n",
      "1.5543110772880329\t460331.5031576642\t460331.5031576643\t455807.0779877318\t3900.7897301537473\t623.6354397787522\n",
      "target angle:  1.7069320084504542\n",
      "0\t452890\t8780.41\t8780.41\t1\t0\n",
      "1.539338927533962\t451694.6507256414\t451694.65072564135\t447255.42185136536\t3829.3696683497055\t609.8592059263689\n",
      "target angle:  1.6964600329384882\n",
      "0\t444394\t8652.24\t8652.24\t1\t0\n",
      "1.5244986059525694\t443241.1586414828\t443241.1586414828\t438878.19207542605\t3766.5411780628697\t596.425387994015\n",
      "target angle:  1.6859880574265222\n",
      "0\t436080\t8524.68\t8524.68\t1\t0\n",
      "1.5097909556091966\t434967.5742240998\t434967.57422409987\t430672.20454686246\t3712.0347223918084\t583.3349548454979\n",
      "target angle:  1.6755160819145563\n",
      "0\t427942\t8397.72\t8397.72\t1\t0\n",
      "1.4952167613165712\t426870.43957956065\t426870.43957956065\t422634.257918625\t3665.593055810497\t570.5886051249778\n",
      "target angle:  1.6650441064025903\n",
      "0\t419979\t8271.31\t8271.31\t1\t0\n",
      "1.480776739715565\t418946.2928293633\t418946.2928293634\t414761.13536024425\t3626.9707219609145\t558.1867471583166\n",
      "target angle:  1.6545721308906243\n",
      "0\t412186\t8145.45\t8145.45\t1\t0\n",
      "1.4664715290466055\t411191.6695271021\t411191.66952710215\t407049.6065850844\t3595.933462720631\t546.1294792972305\n",
      "target angle:  1.6441001553786583\n",
      "0\t404560\t8020.12\t8020.12\t1\t0\n",
      "1.4523016787095937\t403603.10426971974\t403603.10426971974\t399496.430155066\t3572.2575436406723\t534.4165710131617\n",
      "target angle:  1.6336281798666923\n",
      "0\t397098\t7895.31\t7895.31\t1\t0\n",
      "1.4382676387265263\t396177.13250711537\t396177.1325071153\t392098.3560598947\t3555.7290020671808\t523.0474451533518\n",
      "target angle:  1.6231562043547263\n",
      "0\t389796\t7771.03\t7771.03\t1\t0\n",
      "1.4243697492324536\t388910.2925513481\t388910.2925513481\t384852.1285642294\t3546.142825448842\t512.0211616696484\n",
      "target angle:  1.6126842288427603\n",
      "0\t382650\t7647.28\t7647.28\t1\t0\n",
      "1.4106082301338962\t381799.1277837405\t381799.1277837405\t377754.4893118231\t3543.302068679635\t501.3364032379929\n",
      "target angle:  1.6022122533307943\n",
      "0\t375658\t7524.08\t7524.08\t1\t0\n",
      "1.3969831710843854\t374840.18905515317\t374840.1890551531\t370802.18067145563\t3547.0169205872276\t490.9914631102842\n",
      "target angle:  1.5917402778188283\n",
      "0\t368815\t7401.44\t7401.44\t1\t0\n",
      "1.3834945219335446\t368030.03727134387\t368030.03727134387\t363991.9493048568\t3557.1037309295953\t480.9842355575874\n",
      "target angle:  1.5812683023068623\n",
      "0\t362118\t7279.4\t7279.4\t1\t0\n",
      "1.3701420838105578\t361365.24615235\t361365.24615235\t357320.54993267235\t3573.3840104269507\t471.31220925079066\n",
      "target angle:  1.5707963267948963\n",
      "0\t355565\t7157.98\t7157.98\t1\t0\n",
      "1.3569255010046646\t354842.4051509361\t354842.4051509361\t350784.74926981924\t3595.6834172900394\t461.9724638269933\n",
      "0\t354842\t3.24752e-06\t3.24752e-06\t0\t0\n"
     ]
    }
   ],
   "source": [
    "from open_linkage import open_linkage\n",
    "def equilibriumSolver(tgtAngle, l, opts, fv):\n",
    "    opts.beta = 1e-8\n",
    "    opts.gradTol = 1e-4\n",
    "    opts.useIdentityMetric = False\n",
    "    return elastic_rods.compute_equilibrium(l, tgtAngle, options=opts, fixedVars=fv)\n",
    "# open_linkage(l, driver, 2 * np.pi/3, 25, view, zPerturbationEpsilon=0, equilibriumSolver=equilibriumSolver, maxNewtonIterationsIntermediate=20, verbose=10, useTargetAngleConstraint=False);\n",
    "open_linkage(l, driver, np.deg2rad(90) - l.averageJointAngle, 50, view, zPerturbationEpsilon=0, equilibriumSolver=equilibriumSolver, maxNewtonIterationsIntermediate=20, verbose=10, useTargetAngleConstraint=True);"
   ]
  },
  {
   "cell_type": "code",
   "execution_count": null,
   "metadata": {},
   "outputs": [],
   "source": []
  },
  {
   "cell_type": "code",
   "execution_count": null,
   "metadata": {},
   "outputs": [],
   "source": []
  }
 ],
 "metadata": {
  "kernelspec": {
   "display_name": "Python 3",
   "language": "python",
   "name": "python3"
  },
  "language_info": {
   "codemirror_mode": {
    "name": "ipython",
    "version": 3
   },
   "file_extension": ".py",
   "mimetype": "text/x-python",
   "name": "python",
   "nbconvert_exporter": "python",
   "pygments_lexer": "ipython3",
   "version": "3.7.1"
  }
 },
 "nbformat": 4,
 "nbformat_minor": 2
}
