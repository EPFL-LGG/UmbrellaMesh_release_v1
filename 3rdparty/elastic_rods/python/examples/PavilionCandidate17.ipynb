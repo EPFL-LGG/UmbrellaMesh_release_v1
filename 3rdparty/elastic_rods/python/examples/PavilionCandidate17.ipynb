{
 "cells": [
  {
   "cell_type": "code",
   "execution_count": 2,
   "metadata": {},
   "outputs": [
    {
     "data": {
      "application/vnd.jupyter.widget-view+json": {
       "model_id": "82863a2dac1e4e38a313efe6f076f42e",
       "version_major": 2,
       "version_minor": 0
      },
      "text/plain": [
       "Renderer(camera=PerspectiveCamera(aspect=2.0, children=(DirectionalLight(color='white', intensity=0.6, positio…"
      ]
     },
     "metadata": {},
     "output_type": "display_data"
    }
   ],
   "source": [
    "import sys; sys.path.append('..')\n",
    "import numpy as np, elastic_rods\n",
    "from bending_validation import suppress_stdout\n",
    "from linkage_vis import LinkageViewer\n",
    "linkage_name = '20190423_115116_meshID_24e48bbe-b793-446c-9bb2-afbe71f29f52'\n",
    "l = elastic_rods.RodLinkage('../../examples/florin/{}.obj'.format(linkage_name), 8)\n",
    "#driver=166\n",
    "driver=l.centralJoint()\n",
    "\n",
    "#mat = elastic_rods.RodMaterial('+', 2000, 0.3, [5, 5, 0.7, 0.7], stiffAxis=elastic_rods.StiffAxis.D1)\n",
    "mat = elastic_rods.RodMaterial('rectangle', 20000, 0.3, [12, 8])\n",
    "l.setMaterial(mat)\n",
    "\n",
    "with suppress_stdout(): elastic_rods.restlen_solve(l)\n",
    "jdo = l.dofOffsetForJoint(driver)\n",
    "fixedVars = list(range(jdo, jdo + 6)) # fix rigid motion for a single joint\n",
    "fixedVars.append(jdo + 6) # constrain angle at the driving joint\n",
    "with suppress_stdout(): elastic_rods.compute_equilibrium(l, fixedVars=fixedVars)\n",
    "\n",
    "view = LinkageViewer(l, width=1024, labelOffset=-0.5)\n",
    "#view.setCameraParams(((2.656451698624758, 1.5087349593639046, 0.23168476156681694),\n",
    "# (0.052583904614345374, 0.026224725204501566, 0.9982721055721517),\n",
    "# (0.13680349418553736, -0.13680349418553736, -0.8425278443781967)))\n",
    "view.show()"
   ]
  },
  {
   "cell_type": "code",
   "execution_count": 5,
   "metadata": {},
   "outputs": [],
   "source": [
    "l.saveVisualizationGeometry('deployed_{}.obj'.format(linkage_name))\n",
    "#l.writeLinkageDebugData('')"
   ]
  },
  {
   "cell_type": "code",
   "execution_count": 14,
   "metadata": {},
   "outputs": [],
   "source": [
    "from write_render_files import writeRenderFiles, writeActuators\n",
    "writeRenderFiles(l, 'Pavilion12', 'pav12')\n",
    "#writeActuators(l, np.where(torques > 1e-4)[0], directory='AsymPointyDataFlat', name='asymPointy_Fab')"
   ]
  },
  {
   "cell_type": "code",
   "execution_count": 10,
   "metadata": {},
   "outputs": [],
   "source": [
    "from linkage_utils import writeRodSegments\n",
    "writeRodSegments(l,'rod_segments_{}.txt'.format(linkage_name), zeroBasedIndexing=True)\n",
    "np.savetxt('restlen_{}.txt'.format(linkage_name),l.getPerSegmentRestLength())\n",
    "np.savetxt('normals_{}.txt'.format(linkage_name), np.array([j.normal for j in l.joints()]))\n",
    "l.writeLinkageDebugData('deployed_{}.msh'.format(linkage_name))"
   ]
  },
  {
   "cell_type": "code",
   "execution_count": 41,
   "metadata": {},
   "outputs": [
    {
     "data": {
      "text/plain": [
       "24.37145054902055"
      ]
     },
     "execution_count": 41,
     "metadata": {},
     "output_type": "execute_result"
    }
   ],
   "source": [
    "# Compute maximum \"stress\" appearing at any rod vertex in the structure\n",
    "max([max(segmentStress) for segmentStress in l.rodStresses()[1]])"
   ]
  },
  {
   "cell_type": "code",
   "execution_count": null,
   "metadata": {},
   "outputs": [],
   "source": [
    "# Output actuation torque\n",
    "for forceScale in np.linspace(1.0, 0, 51):\n",
    "    name = 'Pavilion14_{}'.format(forceScale)\n",
    "    with suppress_stdout(): elastic_rods.compute_equilibrium(l, forceScale * externalForces, fixedVars=fixedVars)\n",
    "    view.update(preserveExisting=True)\n",
    "    writeRenderFiles(l, directory, name)\n",
    "    writeActuators(l, np.where(torques > 0.1)[0], directory, name)"
   ]
  },
  {
   "cell_type": "code",
   "execution_count": 44,
   "metadata": {},
   "outputs": [
    {
     "data": {
      "text/plain": [
       "11.81760497978405"
      ]
     },
     "execution_count": 44,
     "metadata": {},
     "output_type": "execute_result"
    }
   ],
   "source": [
    "# Compute average \"stress\" appearing over all rod vertices in the structure\n",
    "np.mean(sum(l.rodStresses()[1], []))"
   ]
  },
  {
   "cell_type": "code",
   "execution_count": 4,
   "metadata": {},
   "outputs": [
    {
     "name": "stdout",
     "output_type": "stream",
     "text": [
      "target angle:  1.9163715186897714\n",
      "0\t635777\t629.482\t629.482\t1\t0\n",
      "Backtracking failed.\n",
      "1.8094204157719485\t635768.5041055225\t635768.5041055225\t621981.6675376657\t12760.977344712914\t1025.859223143767\n",
      "target angle:  1.9128808601857827\n",
      "0\t631810\t626.004\t626.004\t1\t0\n",
      "Backtracking failed.\n",
      "1.8049721405741115\t631801.5076136177\t631801.5076136177\t618160.5390787007\t12621.20291846221\t1019.7656164545588\n",
      "target angle:  1.909390201681794\n",
      "0\t627866\t622.545\t622.545\t1\t0\n",
      "1.800529124156734\t627856.9869823317\t627856.9869823316\t614360.2315223531\t12483.065222372205\t1013.6902376060158\n",
      "target angle:  1.9058995431778054\n",
      "0\t623944\t619.108\t619.108\t1\t0\n",
      "Backtracking failed.\n",
      "1.796091369084057\t623934.8568955248\t623934.8568955247\t610580.6701169155\t12346.553580425367\t1007.633198183982\n",
      "target angle:  1.9024088846738167\n",
      "0\t620044\t615.688\t615.688\t1\t0\n",
      "1.791658877919308\t620035.032126145\t620035.0321261451\t606821.780285304\t12211.657243002728\t1001.5945978382384\n",
      "target angle:  1.898918226169828\n",
      "0\t616166\t612.294\t612.294\t1\t0\n",
      "1.7872316531120176\t616157.4275373282\t616157.4275373283\t603083.4875499894\t12078.365439142992\t995.5745481956208\n",
      "target angle:  1.8954275676658394\n",
      "0\t612310\t608.918\t608.918\t1\t0\n",
      "1.7828096971101464\t612301.9580837383\t612301.9580837385\t599365.717594347\t11946.667338021554\t989.5731513698782\n",
      "target angle:  1.8919369091618508\n",
      "0\t608477\t605.563\t605.563\t1\t0\n",
      "1.7783930123134315\t608468.5388124129\t608468.5388124126\t595668.3962282216\t11816.55207388223\t983.5905103088255\n",
      "target angle:  1.888446250657862\n",
      "0\t604665\t602.229\t602.229\t1\t0\n",
      "Backtracking failed.\n",
      "1.7739816010873557\t604657.0848636557\t604657.0848636557\t591991.4493890293\t11688.008747272788\t977.6267273537837\n",
      "target angle:  1.8849555921538734\n",
      "0\t600876\t598.914\t598.914\t1\t0\n",
      "1.7695754657805307\t600867.5114716124\t600867.5114716125\t588334.8031461659\t11561.026424032143\t971.6819014144022\n",
      "target angle:  1.8814649336498848\n",
      "0\t597108\t595.622\t595.622\t1\t0\n",
      "1.7651746087049767\t597099.7339647311\t597099.7339647309\t584698.3836809557\t11435.594149980398\t965.756133794364\n",
      "target angle:  1.877974275145896\n",
      "0\t593362\t592.349\t592.349\t1\t0\n",
      "Backtracking failed.\n",
      "1.7607790321580237\t593353.6677661377\t593353.6677661377\t581082.1172933866\t11311.700948147658\t959.8495246035033\n",
      "target angle:  1.8744836166419074\n",
      "0\t589637\t589.093\t589.093\t1\t0\n",
      "1.7563887384573014\t589629.2283938576\t589629.2283938576\t577485.9304194178\t11189.335809504684\t953.9621649354352\n",
      "target angle:  1.8709929581379188\n",
      "0\t585934\t585.863\t585.863\t1\t0\n",
      "1.7520037298642637\t585926.3314607267\t585926.3314607267\t573909.7495699401\t11068.487732919002\t948.0941578678365\n",
      "target angle:  1.86750229963393\n",
      "0\t582253\t582.65\t582.65\t1\t0\n",
      "Backtracking failed.\n",
      "1.747624008670416\t582244.8926744531\t582244.892674453\t570353.5013834464\t10949.145693219143\t942.2455977875513\n",
      "target angle:  1.8640116411299414\n",
      "0\t578593\t579.456\t579.456\t1\t0\n",
      "1.7432495771753251\t578584.8278372632\t578584.8278372632\t566817.1126032673\t10831.29865685723\t936.4165771388025\n",
      "target angle:  1.8605209826259528\n",
      "0\t574954\t576.283\t576.283\t1\t0\n",
      "Backtracking failed.\n",
      "1.7388804376633582\t574946.0528456033\t574946.0528456033\t563300.510052439\t10714.935598571436\t930.6071945927021\n",
      "target angle:  1.8570303241219641\n",
      "0\t571336\t573.127\t573.127\t1\t0\n",
      "Backtracking failed.\n",
      "1.7345165924718058\t571328.4836896944\t571328.4836896944\t559803.6206761125\t10600.045476334253\t924.8175372477891\n",
      "target angle:  1.8535396656179755\n",
      "0\t567740\t569.993\t569.993\t1\t0\n",
      "1.730158043924624\t567732.0364528812\t567732.0364528813\t556326.3714845377\t10486.617267334626\t919.0477010089398\n",
      "target angle:  1.8500490071139868\n",
      "0\t564164\t566.879\t566.879\t1\t0\n",
      "1.725804794378956\t564156.6273109233\t564156.6273109232\t552868.6895796255\t10374.639952486728\t913.2977788108817\n",
      "target angle:  1.8465583486099981\n",
      "0\t560610\t563.783\t563.783\t1\t0\n",
      "1.721456846229465\t560602.1725312384\t560602.1725312383\t549430.5021499498\t10264.10252039545\t907.5678608931092\n",
      "target angle:  1.8430676901060095\n",
      "0\t557076\t560.705\t560.705\t1\t0\n",
      "1.7171142019012167\t557068.5884719298\t557068.5884719298\t546011.7364584875\t10154.993975494293\t901.858037947879\n",
      "target angle:  1.8395770316020208\n",
      "0\t553563\t557.647\t557.647\t1\t0\n",
      "Backtracking failed.\n",
      "1.7127768638566117\t553555.791580767\t553555.791580767\t542612.3198384005\t10047.303341145896\t896.1684012206861\n",
      "target angle:  1.8360863730980321\n",
      "0\t550071\t554.606\t554.606\t1\t0\n",
      "1.7084448346149634\t550063.6983940671\t550063.6983940671\t539232.1797020219\t9941.019655017217\t890.4990370279328\n",
      "target angle:  1.8325957145940435\n",
      "0\t546599\t551.586\t551.586\t1\t0\n",
      "1.7041181167253403\t546592.2255354575\t546592.2255354575\t535871.2435099058\t9836.131987742483\t884.850037809107\n",
      "target angle:  1.8291050560900548\n",
      "0\t543148\t548.584\t548.584\t1\t0\n",
      "1.6997967128041913\t543141.2897145916\t543141.2897145916\t532529.438793094\t9732.629430335273\t879.2214911625763\n",
      "target angle:  1.8256143975860661\n",
      "0\t539718\t545.599\t545.599\t1\t0\n",
      "Backtracking failed.\n",
      "1.6954806255171804\t539710.807725694\t539710.807725694\t529206.6931309483\t9630.501107453616\t873.6134872920554\n",
      "target angle:  1.8221237390820775\n",
      "0\t536308\t542.631\t542.631\t1\t0\n",
      "Backtracking failed.\n",
      "1.69116985760789\t536300.6964461731\t536300.6964461729\t525902.9341669515\t9529.736168761608\t868.0261104599666\n",
      "target angle:  1.8186330805780888\n",
      "0\t532918\t539.683\t539.683\t1\t0\n",
      "1.6868644118783922\t532910.8728349658\t532910.8728349657\t522618.0895840266\t9430.323803302745\t862.4594476365746\n",
      "target angle:  1.8151424220741001\n",
      "0\t529548\t536.755\t536.755\t1\t0\n",
      "1.6825642911898648\t529541.2539308544\t529541.2539308544\t519352.0870958836\t9332.253244441814\t856.9135905292914\n",
      "target angle:  1.8116517635701115\n",
      "0\t526198\t533.842\t533.842\t1\t0\n",
      "Backtracking failed.\n",
      "1.6782694984903404\t526191.7568509271\t526191.7568509271\t516104.85446447786\t9235.513760261229\t851.3886261881278\n",
      "target angle:  1.8081611050661228\n",
      "0\t522869\t530.945\t530.945\t1\t0\n",
      "1.6739800368220994\t522862.298788553\t522862.29878855293\t512876.31949978357\t9140.094653981758\t845.8846347875027\n",
      "target angle:  1.8046704465621342\n",
      "0\t519559\t528.07\t528.07\t1\t0\n",
      "1.6696959092808528\t519552.7970116773\t519552.7970116773\t509666.410011683\t9045.985290574392\t840.40170941992\n",
      "target angle:  1.8011797880581455\n",
      "0\t516270\t525.21\t525.21\t1\t0\n",
      "1.665417119069755\t516263.1688608388\t516263.1688608389\t506475.0538542841\t8953.175072313696\t834.9399342412336\n",
      "target angle:  1.7976891295541568\n",
      "0\t513000\t522.367\t522.367\t1\t0\n",
      "Backtracking failed.\n",
      "1.661143669473322\t512993.3317471367\t512993.3317471367\t503302.17889244447\t8861.653457071\t829.4993976211307\n",
      "target angle:  1.7941984710501682\n",
      "0\t509750\t519.539\t519.539\t1\t0\n",
      "1.656875563888156\t509743.20315029484\t509743.2031502949\t500147.7130257299\t8771.409945498011\t824.080179067014\n",
      "target angle:  1.7907078125461795\n",
      "0\t506519\t516.731\t516.731\t1\t0\n",
      "1.6526128057828364\t506512.7006163932\t506512.700616393\t497011.5841372066\t8682.434108096035\t818.6823710903518\n",
      "target angle:  1.7872171540421908\n",
      "0\t503308\t513.939\t513.939\t1\t0\n",
      "1.648355398744647\t503301.74175579497\t503301.74175579497\t493893.7201358697\t8594.715562529798\t813.3060573954936\n",
      "target angle:  1.7837264955382022\n",
      "0\t500116\t511.163\t511.163\t1\t0\n",
      "1.6441033464610595\t500110.24424094066\t500110.24424094066\t490794.0489289705\t8508.243988154241\t807.9513238155668\n",
      "target angle:  1.7802358370342135\n",
      "0\t496944\t508.404\t508.404\t1\t0\n",
      "1.639856652727309\t496938.12580398837\t496938.12580398837\t487712.49842229096\t8423.009125538965\t802.6182561586137\n",
      "target angle:  1.7767451785302248\n",
      "0\t493791\t505.661\t505.661\t1\t0\n",
      "Backtracking failed.\n",
      "1.6356153214453173\t493785.3042345589\t493785.30423455883\t484648.9965116704\t8339.000780548575\t797.3069423398022\n",
      "target angle:  1.7732545200262362\n",
      "0\t490658\t502.932\t502.932\t1\t0\n",
      "1.6313793566445565\t490651.69737741724\t490651.6973774173\t481603.4710998897\t8256.208815652237\t792.0174618754154\n",
      "target angle:  1.7697638615222475\n",
      "0\t487543\t500.223\t500.223\t1\t0\n",
      "Backtracking failed.\n",
      "1.6271487624466296\t487537.2231299502\t487537.2231299502\t478575.8500458744\t8174.623174981181\t786.7499090944981\n",
      "target angle:  1.7662732030182589\n",
      "0\t484448\t497.526\t497.526\t1\t0\n",
      "Backtracking failed.\n",
      "1.6229235431148004\t484441.79943981837\t484441.7994398185\t475566.06121967064\t8094.233856609762\t781.5043635383581\n",
      "target angle:  1.7627825445142702\n",
      "0\t481371\t494.847\t494.847\t1\t0\n",
      "1.6187037030231155\t481365.3443024299\t481365.3443024299\t472574.0324559021\t8015.030935334214\t776.2809111934318\n",
      "target angle:  1.7592918860102815\n",
      "0\t478314\t492.185\t492.185\t1\t0\n",
      "1.6144892466627137\t478307.7757584506\t478307.7757584506\t469599.6915540671\t7937.004561890707\t771.0796424928573\n",
      "target angle:  1.7558012275062929\n",
      "0\t475275\t489.536\t489.536\t1\t0\n",
      "1.6102801786591936\t475269.0118912621\t475269.01189126197\t466642.9662953102\t7860.144954440197\t765.9006415116932\n",
      "target angle:  1.7523105690023042\n",
      "0\t472255\t486.903\t486.903\t1\t0\n",
      "Backtracking failed.\n",
      "1.6060765037608786\t472248.97082435514\t472248.97082435514\t463703.78442003566\t7784.442408915027\t760.7439954044427\n",
      "target angle:  1.7488199104983155\n",
      "0\t469253\t484.285\t484.285\t1\t0\n",
      "1.601878226848474\t469247.5707187863\t469247.57071878633\t460782.0736355619\t7709.887294937586\t755.6097882866346\n",
      "target angle:  1.7453292519943269\n",
      "0\t466270\t481.682\t481.682\t1\t0\n",
      "1.5976853529272612\t466264.7297705055\t466264.72977050545\t457877.7615971803\t7636.470064102687\t750.4981092228119\n",
      "0\t466265\t3.60247e-06\t3.60247e-06\t0\t0\n"
     ]
    }
   ],
   "source": [
    "from open_linkage import open_linkage\n",
    "def equilibriumSolver(tgtAngle, l, opts, fv):\n",
    "    opts.beta = 1e-8\n",
    "    opts.gradTol = 1e-4\n",
    "    opts.useIdentityMetric = False\n",
    "    return elastic_rods.compute_equilibrium(l, tgtAngle, options=opts, fixedVars=fv)\n",
    "# open_linkage(l, driver, 2 * np.pi/3, 25, view, zPerturbationEpsilon=0, equilibriumSolver=equilibriumSolver, maxNewtonIterationsIntermediate=20, verbose=10, useTargetAngleConstraint=False);\n",
    "open_linkage(l, driver, np.deg2rad(100) - l.averageJointAngle, 50, view, zPerturbationEpsilon=0, equilibriumSolver=equilibriumSolver, maxNewtonIterationsIntermediate=20, verbose=10, useTargetAngleConstraint=True);"
   ]
  },
  {
   "cell_type": "code",
   "execution_count": null,
   "metadata": {},
   "outputs": [],
   "source": []
  },
  {
   "cell_type": "code",
   "execution_count": null,
   "metadata": {},
   "outputs": [],
   "source": []
  }
 ],
 "metadata": {
  "kernelspec": {
   "display_name": "Python 3",
   "language": "python",
   "name": "python3"
  },
  "language_info": {
   "codemirror_mode": {
    "name": "ipython",
    "version": 3
   },
   "file_extension": ".py",
   "mimetype": "text/x-python",
   "name": "python",
   "nbconvert_exporter": "python",
   "pygments_lexer": "ipython3",
   "version": "3.7.1"
  }
 },
 "nbformat": 4,
 "nbformat_minor": 2
}
