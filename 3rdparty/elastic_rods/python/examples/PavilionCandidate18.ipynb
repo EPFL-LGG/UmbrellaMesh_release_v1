{
 "cells": [
  {
   "cell_type": "code",
   "execution_count": 5,
   "metadata": {},
   "outputs": [
    {
     "data": {
      "application/vnd.jupyter.widget-view+json": {
       "model_id": "59ac34e468014da3b7a6ba28985aacba",
       "version_major": 2,
       "version_minor": 0
      },
      "text/plain": [
       "Renderer(camera=PerspectiveCamera(aspect=2.0, children=(DirectionalLight(color='white', intensity=0.6, positio…"
      ]
     },
     "metadata": {},
     "output_type": "display_data"
    }
   ],
   "source": [
    "import sys; sys.path.append('..')\n",
    "import numpy as np, elastic_rods\n",
    "from bending_validation import suppress_stdout\n",
    "from linkage_vis import LinkageViewer\n",
    "linkage_name = '20190423_120025_meshID_670f30ee-e9f8-4f1c-a4a8-0e195fa4b2bc'\n",
    "l = elastic_rods.RodLinkage('../../examples/florin/{}.obj'.format(linkage_name), 8)\n",
    "#driver=166\n",
    "driver=l.centralJoint()\n",
    "\n",
    "#mat = elastic_rods.RodMaterial('+', 2000, 0.3, [5, 5, 0.7, 0.7], stiffAxis=elastic_rods.StiffAxis.D1)\n",
    "mat = elastic_rods.RodMaterial('rectangle', 20000, 0.3, [12, 8])\n",
    "l.setMaterial(mat)\n",
    "\n",
    "with suppress_stdout(): elastic_rods.restlen_solve(l)\n",
    "jdo = l.dofOffsetForJoint(driver)\n",
    "fixedVars = list(range(jdo, jdo + 6)) # fix rigid motion for a single joint\n",
    "fixedVars.append(jdo + 6) # constrain angle at the driving joint\n",
    "with suppress_stdout(): elastic_rods.compute_equilibrium(l, fixedVars=fixedVars)\n",
    "\n",
    "view = LinkageViewer(l, width=1024, labelOffset=-0.5)\n",
    "#view.setCameraParams(((2.656451698624758, 1.5087349593639046, 0.23168476156681694),\n",
    "# (0.052583904614345374, 0.026224725204501566, 0.9982721055721517),\n",
    "# (0.13680349418553736, -0.13680349418553736, -0.8425278443781967)))\n",
    "view.show()"
   ]
  },
  {
   "cell_type": "code",
   "execution_count": 5,
   "metadata": {},
   "outputs": [],
   "source": [
    "l.saveVisualizationGeometry('deployed_{}.obj'.format(linkage_name))\n",
    "#l.writeLinkageDebugData('')"
   ]
  },
  {
   "cell_type": "code",
   "execution_count": 14,
   "metadata": {},
   "outputs": [],
   "source": [
    "from write_render_files import writeRenderFiles, writeActuators\n",
    "writeRenderFiles(l, 'Pavilion12', 'pav12')\n",
    "#writeActuators(l, np.where(torques > 1e-4)[0], directory='AsymPointyDataFlat', name='asymPointy_Fab')"
   ]
  },
  {
   "cell_type": "code",
   "execution_count": 10,
   "metadata": {},
   "outputs": [],
   "source": [
    "from linkage_utils import writeRodSegments\n",
    "writeRodSegments(l,'rod_segments_{}.txt'.format(linkage_name), zeroBasedIndexing=True)\n",
    "np.savetxt('restlen_{}.txt'.format(linkage_name),l.getPerSegmentRestLength())\n",
    "np.savetxt('normals_{}.txt'.format(linkage_name), np.array([j.normal for j in l.joints()]))\n",
    "l.writeLinkageDebugData('deployed_{}.msh'.format(linkage_name))"
   ]
  },
  {
   "cell_type": "code",
   "execution_count": 41,
   "metadata": {},
   "outputs": [
    {
     "data": {
      "text/plain": [
       "24.37145054902055"
      ]
     },
     "execution_count": 41,
     "metadata": {},
     "output_type": "execute_result"
    }
   ],
   "source": [
    "# Compute maximum \"stress\" appearing at any rod vertex in the structure\n",
    "max([max(segmentStress) for segmentStress in l.rodStresses()[1]])"
   ]
  },
  {
   "cell_type": "code",
   "execution_count": null,
   "metadata": {},
   "outputs": [],
   "source": [
    "# Output actuation torque\n",
    "for forceScale in np.linspace(1.0, 0, 51):\n",
    "    name = 'Pavilion14_{}'.format(forceScale)\n",
    "    with suppress_stdout(): elastic_rods.compute_equilibrium(l, forceScale * externalForces, fixedVars=fixedVars)\n",
    "    view.update(preserveExisting=True)\n",
    "    writeRenderFiles(l, directory, name)\n",
    "    writeActuators(l, np.where(torques > 0.1)[0], directory, name)"
   ]
  },
  {
   "cell_type": "code",
   "execution_count": 44,
   "metadata": {},
   "outputs": [
    {
     "data": {
      "text/plain": [
       "11.81760497978405"
      ]
     },
     "execution_count": 44,
     "metadata": {},
     "output_type": "execute_result"
    }
   ],
   "source": [
    "# Compute average \"stress\" appearing over all rod vertices in the structure\n",
    "np.mean(sum(l.rodStresses()[1], []))"
   ]
  },
  {
   "cell_type": "code",
   "execution_count": 8,
   "metadata": {},
   "outputs": [
    {
     "name": "stdout",
     "output_type": "stream",
     "text": [
      "target angle:  1.9128808601857825\n",
      "0\t649814\t2372.27\t2372.27\t1\t0\n",
      "1.863919175406036\t649685.9839180873\t649685.9839180873\t638046.2570090083\t10725.624060361946\t914.1028487172598\n",
      "target angle:  1.9058995431778052\n",
      "0\t641915\t2347.56\t2347.56\t1\t0\n",
      "1.8552447968054602\t641789.0208687137\t641789.0208687137\t630399.0151107425\t10487.699355172228\t902.3064027987434\n",
      "target angle:  1.8989182261698279\n",
      "0\t634106\t2323.12\t2323.12\t1\t0\n",
      "1.8465896492716913\t633982.3072368356\t633982.3072368356\t622835.5717591846\t10256.146183861938\t890.5892937890229\n",
      "target angle:  1.8919369091618505\n",
      "0\t626387\t2298.97\t2298.97\t1\t0\n",
      "1.8379538204155046\t626265.1294511547\t626265.1294511547\t615355.3064280957\t10030.870838141616\t878.9521849172767\n",
      "target angle:  1.8849555921538732\n",
      "0\t618756\t2275.1\t2275.1\t1\t0\n",
      "1.8293373983533208\t618636.7758465179\t618636.7758465179\t607957.6005726871\t9811.779542799224\t867.3957310319762\n",
      "target angle:  1.8779742751458959\n",
      "0\t611214\t2251.51\t2251.51\t1\t0\n",
      "1.8207404717836337\t611096.5366417298\t611096.5366417298\t600641.8374892102\t9598.778572507523\t855.920580012201\n",
      "target angle:  1.8709929581379185\n",
      "0\t603759\t2228.19\t2228.19\t1\t0\n",
      "1.812163130062681\t603643.7039085932\t603643.7039085932\t593407.4021711486\t9391.774363358012\t844.5273740864124\n",
      "target angle:  1.8640116411299412\n",
      "0\t596391\t2205.13\t2205.13\t1\t0\n",
      "1.8036054632777918\t596277.5715334625\t596277.5715334625\t586253.6811630111\t9190.67361932625\t833.2167511251097\n",
      "target angle:  1.857030324121964\n",
      "0\t589109\t2182.34\t2182.34\t1\t0\n",
      "1.7950675623189727\t588997.4351711564\t588997.4351711567\t579180.0624118434\t8995.383413502686\t821.9893458106991\n",
      "target angle:  1.8500490071139866\n",
      "0\t581912\t2159.8\t2159.8\t1\t0\n",
      "1.7865495189472496\t581802.5921922944\t581802.5921922944\t572185.9351172042\t8805.811284308567\t810.845790781846\n",
      "target angle:  1.8430676901060092\n",
      "0\t574800\t2137.52\t2137.52\t1\t0\n",
      "1.7780514258601074\t574692.3416244586\t574692.3416244586\t565270.6895801253\t8621.865326614543\t799.7867177188214\n",
      "target angle:  1.836086373098032\n",
      "0\t567771\t2115.49\t2115.49\t1\t0\n",
      "1.7695733767516557\t567665.9840874845\t567665.9840874847\t558433.7170512555\t8443.454277911791\t788.8127583177072\n",
      "target angle:  1.8291050560900546\n",
      "0\t560826\t2093.71\t2093.71\t1\t0\n",
      "1.761115466368914\t560722.821723658\t560722.821723658\t551674.4095789286\t8270.487599490243\t777.9245452391283\n",
      "target angle:  1.8221237390820773\n",
      "0\t553964\t2072.17\t2072.17\t1\t0\n",
      "1.752677790563229\t553862.1581230981\t553862.1581230981\t544992.159857383\t8102.875552753336\t767.1227129620077\n",
      "target angle:  1.8151424220741\n",
      "0\t547183\t2050.87\t2050.87\t1\t0\n",
      "1.744260446335\t547083.2982446933\t547083.2982446934\t538386.3610754161\t7940.529270676514\t756.4078986004815\n",
      "target angle:  1.8081611050661226\n",
      "0\t540483\t2029.8\t2029.8\t1\t0\n",
      "1.7358635318713964\t540385.5483333154\t540385.5483333155\t531856.4067662298\t7783.360824476227\t745.780742609724\n",
      "target angle:  1.8011797880581453\n",
      "0\t533864\t2008.96\t2008.96\t1\t0\n",
      "10\t533768\t0.00260244\t0.00260244\t3.05176e-05\t0\n",
      "Backtracking failed.\n",
      "10\t533768\t0.00260244\t0.00260244\t3.05176e-05\t0\n",
      "1.7274871466005746\t533768.2158331698\t533768.2158331699\t525401.6906433594\t7631.283297157796\t735.2418926528588\n",
      "target angle:  1.794198471050168\n",
      "0\t527325\t1988.32\t1988.32\t1\t0\n",
      "1.7191313911068637\t527230.6092984679\t527230.6092984681\t519021.60652764456\t7484.210782723998\t724.7919880996121\n",
      "target angle:  1.7872171540421906\n",
      "0\t520865\t1967.95\t1967.95\t1\t0\n",
      "1.7107963673620146\t520772.03830084135\t520772.0383008414\t512715.5480532835\t7342.058554851438\t714.4316927065432\n",
      "target angle:  1.7802358370342133\n",
      "0\t514483\t1947.77\t1947.77\t1\t0\n",
      "1.702482178516774\t514391.8133348209\t514391.81333482097\t506482.9086731225\t7204.74299885001\t704.161662848216\n",
      "target angle:  1.773254520026236\n",
      "0\t508178\t1927.81\t1927.81\t1\t0\n",
      "Backtracking failed.\n",
      "1.6941889292522196\t508089.2457211383\t508089.24572113843\t500323.08131181233\t7072.181811738958\t693.982597587143\n",
      "target angle:  1.7662732030182586\n",
      "0\t501951\t1907.89\t1907.89\t1\t0\n",
      "1.6859167245098279\t501863.6475083874\t501863.64750838745\t494235.45890394645\t6944.293536889934\t683.895067551167\n",
      "target angle:  1.7592918860102813\n",
      "0\t495800\t1888.51\t1888.51\t1\t0\n",
      "1.677665671940703\t495714.331373475\t495714.331373475\t488219.4329380265\t6820.998584043141\t673.8998514054284\n",
      "target angle:  1.752310569002304\n",
      "0\t489725\t1869.16\t1869.16\t1\t0\n",
      "1.6694358793974953\t489640.6105213863\t489640.6105213864\t482274.3946477626\t6702.218273994654\t663.9975996289696\n",
      "target angle:  1.7453292519943266\n",
      "0\t483724\t1850.01\t1850.01\t1\t0\n",
      "1.6612274561244686\t483641.7985842086\t483641.79858420865\t476399.73422445223\t6587.875357099851\t654.1890026563832\n",
      "target angle:  1.7383479349863493\n",
      "0\t477798\t1831.06\t1831.06\t1\t0\n",
      "1.6530405124509588\t477717.2095201899\t477717.2095201898\t470594.8408268833\t6477.893936186515\t644.4747571202768\n",
      "target angle:  1.731366617978372\n",
      "0\t471946\t1812.29\t1812.29\t1\t0\n",
      "1.6448751597186482\t471866.15751321876\t471866.15751321876\t464859.1024638694\t6372.19948371116\t634.8555656382321\n",
      "target angle:  1.7243853009703947\n",
      "0\t466166\t1793.71\t1793.71\t1\t0\n",
      "1.6367315101960553\t466087.95687280403\t466087.9568728041\t459191.905881585\t6270.718854698134\t625.3321365209239\n",
      "target angle:  1.7174039839624173\n",
      "0\t460458\t1775.32\t1775.32\t1\t0\n",
      "1.6286096769763392\t460381.921935276\t460381.921935276\t453592.63645653555\t6173.380295419243\t615.9051833211531\n",
      "target angle:  1.71042266695444\n",
      "0\t454822\t1757.1\t1757.1\t1\t0\n",
      "1.62050977386281\t454747.366966664\t454747.36696666403\t448060.67809442285\t6080.11344793163\t606.5754243096477\n",
      "target angle:  1.7034413499464627\n",
      "0\t449257\t1739.07\t1739.07\t1\t0\n",
      "1.61243191523648\t449183.6060672614\t449183.6060672614\t442595.41313499724\t5990.8493504354465\t597.3435818286573\n",
      "target angle:  1.6964600329384854\n",
      "0\t443762\t1721.2\t1721.2\t1\t0\n",
      "1.604376215908819\t443689.9530789143\t443689.9530789143\t437196.22226381407\t5905.520433550828\t588.2103815496866\n",
      "target angle:  1.689478715930508\n",
      "0\t438336\t1703.51\t1703.51\t1\t0\n",
      "1.5963427909554107\t438265.72149497876\t438265.72149497876\t431862.4844309526\t5824.060512487098\t579.1765515389725\n",
      "target angle:  1.6824973989225307\n",
      "0\t432979\t1685.98\t1685.98\t1\t0\n",
      "1.5883317555349863\t432910.22437380924\t432910.2243738092\t426593.57677730115\t5746.40477519118\t570.2428213169076\n",
      "target angle:  1.6755160819145534\n",
      "0\t427690\t1668.62\t1668.62\t1\t0\n",
      "1.5803432246874265\t427622.7742558846\t427622.7742558846\t421388.8745687247\t5672.489766487711\t561.4099206721052\n",
      "target angle:  1.668534764906576\n",
      "0\t422469\t1651.43\t1651.43\t1\t0\n",
      "1.57237731311496\t422402.68308556813\t422402.68308556813\t416247.7511388737\t5602.253368247962\t552.6785784464768\n",
      "target angle:  1.6615534478985987\n",
      "0\t417314\t1634.39\t1634.39\t1\t0\n",
      "1.5644341349434079\t417249.26213742525\t417249.26213742525\t411169.5778406363\t5535.63477566443\t544.0495211244089\n",
      "target angle:  1.6545721308906214\n",
      "0\t412225\t1617.52\t1617.52\t1\t0\n",
      "1.556513803463926\t412161.82194814546\t412161.8219481454\t406153.72400718235\t5472.57446963713\t535.5234713257495\n",
      "target angle:  1.647590813882644\n",
      "0\t407202\t1600.8\t1600.8\t1\t0\n",
      "1.5486164308547425\t407139.6722543479\t407139.6722543478\t401199.5569228229\t5413.014185367207\t527.1011461577928\n",
      "target angle:  1.6406094968746667\n",
      "0\t402243\t1584.23\t1584.23\t1\t0\n",
      "1.5407421278825313\t402182.12193682254\t402182.1219368224\t396306.44180419476\t5356.896877191658\t518.7832554361248\n",
      "target angle:  1.6336281798666894\n",
      "0\t397348\t1567.82\t1567.82\t1\t0\n",
      "1.5328910035835717\t397288.478971872\t397288.4789718721\t391473.7417923231\t5304.166679763786\t510.5704997849437\n",
      "target angle:  1.626646862858712\n",
      "0\t392517\t1551.55\t1551.55\t1\t0\n",
      "Backtracking failed.\n",
      "1.525063165069903\t392458.0503902776\t392458.0503902775\t386700.81792319403\t5254.768879317515\t502.4635877661244\n",
      "target angle:  1.6196655458507347\n",
      "0\t387747\t1535.39\t1535.39\t1\t0\n",
      "1.5172587164366538\t387690.1422445362\t387690.14224453614\t381987.0293074798\t5208.649799211858\t494.46313784438803\n",
      "target angle:  1.6126842288427574\n",
      "0\t383040\t1519.48\t1519.48\t1\t0\n",
      "Backtracking failed.\n",
      "1.5094777600559022\t382984.0595846123\t382984.05958461226\t377331.7327851984\t5165.756903786462\t486.5698956276205\n",
      "target angle:  1.60570291183478\n",
      "0\t378394\t1503.59\t1503.59\t1\t0\n",
      "Backtracking failed.\n",
      "1.5017203938037338\t378339.1064435495\t378339.1064435494\t372734.28348602296\t5126.038537865976\t478.7844196604694\n",
      "target angle:  1.5987215948268028\n",
      "0\t373808\t1487.94\t1487.94\t1\t0\n",
      "1.4939867127541948\t373754.58583261963\t373754.5858326197\t368194.0344224137\t5089.444051853184\t471.10735835282475\n",
      "target angle:  1.5917402778188254\n",
      "0\t369282\t1472.47\t1472.47\t1\t0\n",
      "1.486276807924647\t369229.79974717344\t369229.79974717344\t363710.33674258465\t5055.923665745257\t463.53933884347083\n",
      "target angle:  1.584758960810848\n",
      "0\t364815\t1457.09\t1457.09\t1\t0\n",
      "1.4785907654345207\t364764.0491837476\t364764.0491837477\t359282.5398785781\t5025.428390456118\t456.08091471346467\n",
      "target angle:  1.5777776438028708\n",
      "0\t360407\t1441.86\t1441.86\t1\t0\n",
      "1.470928666533339\t360356.6341685653\t360356.6341685653\t354909.9915427224\t4997.909996229262\t448.73262961357335\n",
      "target angle:  1.5707963267948934\n",
      "0\t356056\t1426.77\t1426.77\t1\t0\n",
      "1.463290586964416\t356006.85379851016\t356006.85379851016\t350592.03786679375\t4973.320936150441\t441.4949955659736\n",
      "0\t356007\t5.03291e-06\t5.03291e-06\t0\t0\n"
     ]
    }
   ],
   "source": [
    "from open_linkage import open_linkage\n",
    "def equilibriumSolver(tgtAngle, l, opts, fv):\n",
    "    opts.beta = 1e-8\n",
    "    opts.gradTol = 1e-4\n",
    "    opts.useIdentityMetric = False\n",
    "    return elastic_rods.compute_equilibrium(l, tgtAngle, options=opts, fixedVars=fv)\n",
    "# open_linkage(l, driver, 2 * np.pi/3, 25, view, zPerturbationEpsilon=0, equilibriumSolver=equilibriumSolver, maxNewtonIterationsIntermediate=20, verbose=10, useTargetAngleConstraint=False);\n",
    "open_linkage(l, driver, np.deg2rad(95) - l.averageJointAngle, 50, view, zPerturbationEpsilon=0, equilibriumSolver=equilibriumSolver, maxNewtonIterationsIntermediate=20, verbose=10, useTargetAngleConstraint=True);"
   ]
  },
  {
   "cell_type": "code",
   "execution_count": null,
   "metadata": {},
   "outputs": [],
   "source": []
  },
  {
   "cell_type": "code",
   "execution_count": null,
   "metadata": {},
   "outputs": [],
   "source": []
  }
 ],
 "metadata": {
  "kernelspec": {
   "display_name": "Python 3",
   "language": "python",
   "name": "python3"
  },
  "language_info": {
   "codemirror_mode": {
    "name": "ipython",
    "version": 3
   },
   "file_extension": ".py",
   "mimetype": "text/x-python",
   "name": "python",
   "nbconvert_exporter": "python",
   "pygments_lexer": "ipython3",
   "version": "3.7.1"
  }
 },
 "nbformat": 4,
 "nbformat_minor": 2
}
