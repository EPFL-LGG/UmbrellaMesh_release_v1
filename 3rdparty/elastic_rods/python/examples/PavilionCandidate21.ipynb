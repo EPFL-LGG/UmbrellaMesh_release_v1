{
 "cells": [
  {
   "cell_type": "code",
   "execution_count": 15,
   "metadata": {},
   "outputs": [
    {
     "data": {
      "application/vnd.jupyter.widget-view+json": {
       "model_id": "3cbe3b88c9f840f7b41c111cff5d638d",
       "version_major": 2,
       "version_minor": 0
      },
      "text/plain": [
       "Renderer(camera=PerspectiveCamera(aspect=2.0, children=(DirectionalLight(color='white', intensity=0.6, positio…"
      ]
     },
     "metadata": {},
     "output_type": "display_data"
    }
   ],
   "source": [
    "import sys; sys.path.append('..')\n",
    "import numpy as np, elastic_rods\n",
    "from bending_validation import suppress_stdout\n",
    "from linkage_vis import LinkageViewer\n",
    "linkage_name = '20190603_120749_meshID_d3198613-ddcb-4990-aef9-5c70a286fb63'\n",
    "l = elastic_rods.RodLinkage('../../examples/florin/{}.obj'.format(linkage_name), 8)\n",
    "#driver=166\n",
    "driver=l.centralJoint()\n",
    "\n",
    "#mat = elastic_rods.RodMaterial('+', 2000, 0.3, [5, 5, 0.7, 0.7], stiffAxis=elastic_rods.StiffAxis.D1)\n",
    "mat = elastic_rods.RodMaterial('rectangle', 20000, 0.3, [12, 8])\n",
    "l.setMaterial(mat)\n",
    "\n",
    "with suppress_stdout(): elastic_rods.restlen_solve(l)\n",
    "jdo = l.dofOffsetForJoint(driver)\n",
    "fixedVars = list(range(jdo, jdo + 6)) # fix rigid motion for a single joint\n",
    "fixedVars.append(jdo + 6) # constrain angle at the driving joint\n",
    "with suppress_stdout(): elastic_rods.compute_equilibrium(l, fixedVars=fixedVars)\n",
    "\n",
    "view = LinkageViewer(l, width=1024, labelOffset=-0.5)\n",
    "#view.setCameraParams(((2.656451698624758, 1.5087349593639046, 0.23168476156681694),\n",
    "# (0.052583904614345374, 0.026224725204501566, 0.9982721055721517),\n",
    "# (0.13680349418553736, -0.13680349418553736, -0.8425278443781967)))\n",
    "view.show()"
   ]
  },
  {
   "cell_type": "code",
   "execution_count": 5,
   "metadata": {},
   "outputs": [],
   "source": [
    "l.saveVisualizationGeometry('deployed_{}.obj'.format(linkage_name))\n",
    "#l.writeLinkageDebugData('')"
   ]
  },
  {
   "cell_type": "code",
   "execution_count": 17,
   "metadata": {},
   "outputs": [],
   "source": [
    "from write_render_files import writeRenderFiles, writeActuators\n",
    "writeRenderFiles(l, 'Pavilion21', 'pav21')\n",
    "#writeActuators(l, np.where(torques > 1e-4)[0], directory='AsymPointyDataFlat', name='asymPointy_Fab')"
   ]
  },
  {
   "cell_type": "code",
   "execution_count": 10,
   "metadata": {},
   "outputs": [],
   "source": [
    "from linkage_utils import writeRodSegments\n",
    "writeRodSegments(l,'rod_segments_{}.txt'.format(linkage_name), zeroBasedIndexing=True)\n",
    "np.savetxt('restlen_{}.txt'.format(linkage_name),l.getPerSegmentRestLength())\n",
    "np.savetxt('normals_{}.txt'.format(linkage_name), np.array([j.normal for j in l.joints()]))\n",
    "l.writeLinkageDebugData('deployed_{}.msh'.format(linkage_name))"
   ]
  },
  {
   "cell_type": "code",
   "execution_count": 41,
   "metadata": {
    "collapsed": true,
    "jupyter": {
     "outputs_hidden": true
    }
   },
   "outputs": [
    {
     "data": {
      "text/plain": [
       "24.37145054902055"
      ]
     },
     "execution_count": 41,
     "metadata": {},
     "output_type": "execute_result"
    }
   ],
   "source": [
    "# Compute maximum \"stress\" appearing at any rod vertex in the structure\n",
    "max([max(segmentStress) for segmentStress in l.rodStresses()[1]])"
   ]
  },
  {
   "cell_type": "code",
   "execution_count": null,
   "metadata": {},
   "outputs": [],
   "source": [
    "# Output actuation torque\n",
    "for forceScale in np.linspace(1.0, 0, 51):\n",
    "    name = 'Pavilion14_{}'.format(forceScale)\n",
    "    with suppress_stdout(): elastic_rods.compute_equilibrium(l, forceScale * externalForces, fixedVars=fixedVars)\n",
    "    view.update(preserveExisting=True)\n",
    "    writeRenderFiles(l, directory, name)\n",
    "    writeActuators(l, np.where(torques > 0.1)[0], directory, name)"
   ]
  },
  {
   "cell_type": "code",
   "execution_count": 44,
   "metadata": {
    "collapsed": true,
    "jupyter": {
     "outputs_hidden": true
    }
   },
   "outputs": [
    {
     "data": {
      "text/plain": [
       "11.81760497978405"
      ]
     },
     "execution_count": 44,
     "metadata": {},
     "output_type": "execute_result"
    }
   ],
   "source": [
    "# Compute average \"stress\" appearing over all rod vertices in the structure\n",
    "np.mean(sum(l.rodStresses()[1], []))"
   ]
  },
  {
   "cell_type": "code",
   "execution_count": 16,
   "metadata": {},
   "outputs": [
    {
     "name": "stdout",
     "output_type": "stream",
     "text": [
      "target angle:  0.04746744651669475\n",
      "0\t4045.93\t15612.2\t15612.2\t1\t0\n",
      "0.04794648237701818\t348.9551401923387\t348.9551401923386\t300.59437330329234\t4.810555281003609e-22\t48.36076688904633\n",
      "target angle:  0.07855579101216825\n",
      "0\t5360.82\t17075.8\t17075.8\t1\t0\n",
      "CHOLMOD detected non-positive definite matrix!; increasing tau to 1e-08\n",
      "CHOLMOD detected non-positive definite matrix!; increasing tau to 4e-08\n",
      "CHOLMOD detected non-positive definite matrix!; increasing tau to 1.6e-07\n",
      "CHOLMOD detected non-positive definite matrix!; increasing tau to 6.4e-07\n",
      "CHOLMOD detected non-positive definite matrix!; increasing tau to 2.56e-06\n",
      "CHOLMOD detected non-positive definite matrix!; increasing tau to 1.024e-05\n",
      "CHOLMOD detected non-positive definite matrix!; increasing tau to 4.096e-05\n",
      "CHOLMOD detected non-positive definite matrix!; increasing tau to 0.00016384\n",
      "CHOLMOD detected non-positive definite matrix!; increasing tau to 0.00065536\n",
      "CHOLMOD detected non-positive definite matrix!; increasing tau to 0.00262144\n",
      "CHOLMOD detected non-positive definite matrix!; increasing tau to 0.0104858\n",
      "CHOLMOD detected non-positive definite matrix!; increasing tau to 0.041943\n",
      "CHOLMOD detected non-positive definite matrix!; increasing tau to 0.167772\n",
      "CHOLMOD detected non-positive definite matrix!; increasing tau to 0.671089\n",
      "CHOLMOD detected non-positive definite matrix!; increasing tau to 0.335544\n",
      "CHOLMOD detected non-positive definite matrix!; increasing tau to 1.34218\n",
      "CHOLMOD detected non-positive definite matrix!; increasing tau to 0.671089\n",
      "CHOLMOD detected non-positive definite matrix!; increasing tau to 0.335544\n",
      "CHOLMOD detected non-positive definite matrix!; increasing tau to 1.34218\n",
      "Computing negative curvature direction for scaled tau = 1.44393e-08\n",
      "CHOLMOD detected non-positive definite matrix!; increasing tau to 0.671089\n",
      "CHOLMOD detected non-positive definite matrix!; increasing tau to 0.335544\n",
      "10\t1082.83\t189.534\t189.534\t1\t0\n",
      "20\t1072.45\t8.07683\t8.07683\t1\t0\n",
      "0.07812460060509831\t1072.4524054368856\t1072.4524054368856\t1000.0392387735254\t4.792828782806306\t67.62033788055398\n",
      "target angle:  0.10964413550764177\n",
      "0\t11401.5\t21629.5\t21629.5\t1\t0\n",
      "0.10782869698968321\t2156.644317802963\t2156.644317802963\t2055.852355285851\t29.200119761916472\t71.59184275519628\n",
      "target angle:  0.14073248000311528\n",
      "0\t14234.4\t23213.4\t23213.4\t1\t0\n",
      "0.13742734324147135\t3575.1378896355586\t3575.137889635559\t3409.15969358681\t96.30992262851748\t69.66827342023275\n",
      "target angle:  0.1718208244985888\n",
      "0\t17762.2\t25321.9\t25321.9\t1\t0\n",
      "0.1667865704184763\t5295.459454799196\t5295.459454799196\t4995.263558182953\t235.7741502573558\t64.42174635888985\n",
      "target angle:  0.2029091689940623\n",
      "0\t22073.4\t27924.7\t27924.7\t1\t0\n",
      "0.19576107048872313\t7277.556234289812\t7277.556234289812\t6745.74096862312\t474.10946904286686\t57.70579662382217\n",
      "target angle:  0.23399751348953582\n",
      "0\t26197.1\t30034.9\t30034.9\t1\t0\n",
      "0.2242799434986643\t9477.779258425953\t9477.779258425953\t8604.139686428682\t822.8299041912551\t50.809667806007305\n",
      "target angle:  0.26508585798500933\n",
      "0\t29332.8\t30912.2\t30912.2\t1\t0\n",
      "0.252378258664162\t11854.973103003369\t11854.973103003369\t10537.800159849414\t1272.6783525559995\t44.49459059796011\n",
      "target angle:  0.2961742024804828\n",
      "0\t31330.1\t30448.3\t30448.3\t1\t0\n",
      "0.28016028589685377\t14375.317894030144\t14375.317894030144\t12537.782949209062\t1798.4550356482596\t39.079909172825694\n",
      "target angle:  0.3272625469759563\n",
      "0\t32620.8\t29056.8\t29056.8\t1\t0\n",
      "Backtracking failed.\n",
      "0.307740972472443\t17014.08295525222\t17014.08295525222\t14610.233845600509\t2369.247701803561\t34.60140784813374\n",
      "target angle:  0.3583508914714298\n",
      "0\t33738.6\t27262.5\t27262.5\t1\t0\n",
      "Backtracking failed.\n",
      "0.33521006487982263\t19754.807849810128\t19754.807849810128\t16767.251229696147\t2956.5961958809585\t30.960424233026714\n",
      "target angle:  0.3894392359669033\n",
      "0\t35024.8\t25439.8\t25439.8\t1\t0\n",
      "0.36262454773226216\t22587.398976113644\t22587.398976113644\t19021.348415301807\t3538.032159651024\t28.01840116080871\n",
      "target angle:  0.42052758046237676\n",
      "0\t36617.6\t23778.1\t23778.1\t1\t0\n",
      "Backtracking failed.\n",
      "0.39001529940855817\t25506.229999482246\t25506.22999948225\t21383.24538551726\t4097.342888993558\t25.64172497142019\n",
      "target angle:  0.45161592495785025\n",
      "0\t38538.3\t22342.4\t22342.4\t1\t0\n",
      "0.41739638873671037\t28508.668028880216\t28508.668028880216\t23861.47433977466\t4623.4764135365\t23.717275569063233\n",
      "target angle:  0.48270426945332373\n",
      "0\t40761.1\t21134.6\t21134.6\t1\t0\n",
      "0.44477242618243484\t31594.057086877747\t31594.057086877747\t26462.68327242306\t5109.219230150072\t22.154584304634284\n",
      "target angle:  0.5137926139487973\n",
      "0\t43248.8\t20131.2\t20131.2\t1\t0\n",
      "0.4721433248586479\t34763.05854790997\t34763.05854790997\t29192.09673397781\t5550.078692497981\t20.883121434178374\n",
      "target angle:  0.5448809584442708\n",
      "0\t45967.4\t19302.1\t19302.1\t1\t0\n",
      "0.4995070786806946\t38017.237745019724\t38017.237745019724\t32053.93508626243\t5943.454196833255\t19.84846192408586\n",
      "target angle:  0.5759693029397442\n",
      "0\t48889.6\t18619\t18619\t1\t0\n",
      "0.5268612725676082\t41358.81122401846\t41358.81122401844\t35051.743991874435\t6288.0585180738435\t19.008714070200202\n",
      "target angle:  0.6070576474352177\n",
      "0\t51995.4\t18057.4\t18057.4\t1\t0\n",
      "0.5542038493303251\t44790.49655280594\t44790.49655280594\t38188.63923799015\t6583.525721482522\t18.33159333327758\n",
      "target angle:  0.6381459919306912\n",
      "0\t55270.9\t17597.8\t17597.8\t1\t0\n",
      "0.5815334631741702\t48315.427438012644\t48315.427438012644\t41467.48564663062\t6830.149639035624\t17.792152346387073\n",
      "target angle:  0.6692343364261647\n",
      "0\t58707\t17224.6\t17224.6\t1\t0\n",
      "0.608849613109726\t51937.11094724839\t51937.11094724838\t44891.02872725088\t7028.711158306934\t17.371061690576738\n",
      "target angle:  0.7003226809216382\n",
      "0\t62298.7\t16926\t16926\t1\t0\n",
      "0.6361526655249186\t55659.41264152336\t55659.41264152336\t48461.99408895504\t7180.365231645044\t17.053320923299335\n",
      "target angle:  0.7314110254171117\n",
      "0\t66043.8\t16693.1\t16693.1\t1\t0\n",
      "0.6634438265142389\t59486.561093710945\t59486.561093710945\t52183.165857630695\t7286.5679410088\t16.827295071419524\n",
      "target angle:  0.7624993699125852\n",
      "0\t69942.8\t16519.2\t16519.2\t1\t0\n",
      "0.6907250973332878\t63423.166840593105\t63423.16684059311\t56057.45236696497\t7349.03047930703\t16.68399432108409\n",
      "target angle:  0.7935877144080586\n",
      "0\t73998.4\t16399.8\t16399.8\t1\t0\n",
      "0.7179992314765299\t67474.25309639343\t67474.25309639344\t60087.94528464968\t7369.691276443492\t16.61653530028046\n",
      "target angle:  0.8246760589035321\n",
      "0\t78215.2\t16331.9\t16331.9\t1\t0\n",
      "0.7452697040052588\t71645.29705140123\t71645.29705140128\t64277.97694123652\t7350.700371088743\t16.619739076027837\n",
      "target angle:  0.8557644033990056\n",
      "0\t82599.7\t16314\t16314\t1\t0\n",
      "0.7725406998256569\t75942.281601612\t75942.28160161202\t68631.17977114434\t7294.411996641116\t16.689833826534734\n",
      "target angle:  0.8868527478944791\n",
      "0\t87160.2\t16345.7\t16345.7\t1\t0\n",
      "0.7998171259393041\t80371.75809277612\t80371.75809277612\t73151.55130750245\t7203.382545384318\t16.824239889377278\n",
      "target angle:  0.9179410923899526\n",
      "0\t91907.2\t16427.8\t16427.8\t1\t0\n",
      "0.8271046523305207\t84940.92122724086\t84940.92122724088\t77843.5279878584\t7080.371817105623\t17.02142227687821\n",
      "target angle:  0.9490294368854261\n",
      "0\t96852.9\t16562.1\t16562.1\t1\t0\n",
      "0.8544097865827884\t89657.69773679943\t89657.69773679943\t82712.07104795505\t6928.34588737476\t17.280801469634326\n",
      "target angle:  0.9801177813808996\n",
      "0\t102012\t16751.5\t16751.5\t1\t0\n",
      "0.8817399882224284\t94530.85079733765\t94530.85079733765\t87762.76794475644\t6750.4801347766925\t17.602717804519042\n",
      "target angle:  1.0112061258763732\n",
      "0\t107403\t16999.8\t16999.8\t1\t0\n",
      "0.9091038299085084\t99570.10245234263\t99570.1024523426\t93001.95299933886\t6550.161004894736\t17.98844810906469\n",
      "target angle:  1.0422944703718466\n",
      "0\t113046\t17311.7\t17311.7\t1\t0\n",
      "0.9365112138364731\t104786.27649767304\t104786.27649767304\t98436.85124945888\t6330.984969934062\t18.44027828006026\n",
      "target angle:  1.0733828148673201\n",
      "0\t118965\t17692.9\t17692.9\t1\t0\n",
      "Backtracking failed.\n",
      "0.9639736521170885\t110191.46430951991\t110191.46430951991\t104075.74965953802\t6096.753019085182\t18.961630896770597\n",
      "target angle:  1.1044711593627936\n",
      "0\t125188\t18149.8\t18149.8\t1\t0\n",
      "0.9915046204277247\t115799.21589299593\t115799.21589299594\t109928.19999837551\t5851.458635773771\t19.557258846686906\n",
      "target angle:  1.135559503858267\n",
      "0\t131750\t18689.8\t18689.8\t1\t0\n",
      "1.0191199922940102\t121624.75788187674\t121624.75788187674\t116005.25735968364\t5599.267012672206\t20.233509520828736\n",
      "target angle:  1.1666478483537406\n",
      "0\t138688\t19320.4\t19320.4\t1\t0\n",
      "Backtracking failed.\n",
      "1.0468385567601433\t127685.239194448\t127685.23919444802\t122319.75744210674\t5344.483097311592\t20.998655029652422\n",
      "target angle:  1.197736192849214\n",
      "0\t146047\t20049.7\t20049.7\t1\t0\n",
      "1.074682615062589\t134000.0033897325\t134000.0033897325\t128886.63420797377\t5091.505890450433\t21.863291308236278\n",
      "target angle:  1.2288245373446876\n",
      "0\t153881\t20885.9\t20885.9\t1\t0\n",
      "Backtracking failed.\n",
      "1.1026786401128728\t140590.88431939163\t140590.88431939165\t135723.27688603164\t4844.766619243666\t22.84081411631141\n",
      "target angle:  1.259912881840161\n",
      "0\t162245\t21836.2\t21836.2\t1\t0\n",
      "Backtracking failed.\n",
      "1.1308579587284877\t147482.51832434165\t147482.51832434165\t142849.92053934024\t4608.649893446845\t23.947891554522094\n",
      "target angle:  1.2910012263356345\n",
      "0\t171209\t22907.5\t22907.5\t1\t0\n",
      "1.1592574030890965\t154702.66198264534\t154702.66198264534\t150290.0597744595\t4387.397212541674\t25.20499564424249\n",
      "target angle:  1.322089570831108\n",
      "0\t180844\t24104.2\t24104.2\t1\t0\n",
      "Backtracking failed.\n",
      "1.1879198355657798\t162282.49947899883\t162282.4994789988\t158070.86611683437\t4184.996537263612\t26.636824900808165\n",
      "target angle:  1.3531779153265815\n",
      "0\t191225\t25427.7\t25427.7\t1\t0\n",
      "1.216894433573625\t170256.9185371936\t170256.91853719362\t166223.58203378928\t4005.063935684881\t28.27256771948558\n",
      "target angle:  1.384266259822055\n",
      "0\t202441\t26880.1\t26880.1\t1\t0\n",
      "1.2462366176087907\t178664.72941001877\t178664.72941001883\t174783.8565497747\t3850.726791826402\t30.146068417659478\n",
      "target angle:  1.4153546043175285\n",
      "0\t214567\t28454.9\t28454.9\t1\t0\n",
      "1.276007472597867\t187548.79889247468\t187548.79889247468\t183791.97781154688\t3724.525594028674\t32.29548689935687\n",
      "target angle:  1.446442948813002\n",
      "0\t227686\t30145.7\t30145.7\t1\t0\n",
      "1.3062726030098089\t196956.07214065242\t196956.07214065242\t193292.95958215807\t3628.3498598531924\t34.76269864130746\n",
      "target angle:  1.4775312933084754\n",
      "0\t241868\t31942.3\t31942.3\t1\t0\n",
      "1.3371003930194525\t206937.46048480866\t206937.46048480866\t203336.44024811938\t3563.4280279759937\t37.59220871341597\n",
      "target angle:  1.508619637803949\n",
      "0\t257179\t33832.6\t33832.6\t1\t0\n",
      "1.3685597639062146\t217547.58393694705\t217547.583936947\t213976.36810836874\t3530.3861528425678\t40.829675735712286\n",
      "target angle:  1.5397079822994224\n",
      "0\t273668\t35804\t35804\t1\t0\n",
      "1.40071761912623\t228844.37196827674\t228844.37196827674\t225270.4683893504\t3529.383432187951\t44.520146738344145\n",
      "target angle:  1.570796326794896\n",
      "0\t291377\t37845\t37845\t1\t0\n",
      "1.4336362461398129\t240888.54313770827\t240888.54313770833\t237279.51507741344\t3560.3218762680217\t48.70618402694161\n",
      "0\t240889\t2.26722e-06\t2.26722e-06\t0\t0\n"
     ]
    }
   ],
   "source": [
    "from open_linkage import open_linkage\n",
    "def equilibriumSolver(tgtAngle, l, opts, fv):\n",
    "    opts.beta = 1e-8\n",
    "    opts.gradTol = 1e-4\n",
    "    opts.useIdentityMetric = False\n",
    "    return elastic_rods.compute_equilibrium(l, tgtAngle, options=opts, fixedVars=fv)\n",
    "# open_linkage(l, driver, 2 * np.pi/3, 25, view, zPerturbationEpsilon=0, equilibriumSolver=equilibriumSolver, maxNewtonIterationsIntermediate=20, verbose=10, useTargetAngleConstraint=False);\n",
    "open_linkage(l, driver, np.deg2rad(90) - l.averageJointAngle, 50, view, zPerturbationEpsilon=0, equilibriumSolver=equilibriumSolver, maxNewtonIterationsIntermediate=20, verbose=10, useTargetAngleConstraint=True);"
   ]
  },
  {
   "cell_type": "code",
   "execution_count": null,
   "metadata": {},
   "outputs": [],
   "source": []
  },
  {
   "cell_type": "code",
   "execution_count": null,
   "metadata": {},
   "outputs": [],
   "source": []
  }
 ],
 "metadata": {
  "kernelspec": {
   "display_name": "Python 3",
   "language": "python",
   "name": "python3"
  },
  "language_info": {
   "codemirror_mode": {
    "name": "ipython",
    "version": 3
   },
   "file_extension": ".py",
   "mimetype": "text/x-python",
   "name": "python",
   "nbconvert_exporter": "python",
   "pygments_lexer": "ipython3",
   "version": "3.7.1"
  }
 },
 "nbformat": 4,
 "nbformat_minor": 2
}
