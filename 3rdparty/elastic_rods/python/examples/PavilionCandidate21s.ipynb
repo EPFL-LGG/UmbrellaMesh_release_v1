{
 "cells": [
  {
   "cell_type": "code",
   "execution_count": 1,
   "metadata": {},
   "outputs": [
    {
     "data": {
      "application/vnd.jupyter.widget-view+json": {
       "model_id": "defa6f30ce6f4afeb00dbedf08de15af",
       "version_major": 2,
       "version_minor": 0
      },
      "text/plain": [
       "Renderer(camera=PerspectiveCamera(aspect=2.0, children=(DirectionalLight(color='white', intensity=0.6, positio…"
      ]
     },
     "metadata": {},
     "output_type": "display_data"
    }
   ],
   "source": [
    "import sys; sys.path.append('..')\n",
    "import numpy as np, elastic_rods\n",
    "from bending_validation import suppress_stdout\n",
    "from linkage_vis import LinkageViewer\n",
    "linkage_name = '20190603_132554_meshID_553f8966-8eba-479e-99a5-703e590e4bb0'\n",
    "l = elastic_rods.RodLinkage('../../examples/florin/{}.obj'.format(linkage_name), 8)\n",
    "#driver=166\n",
    "driver=l.centralJoint()\n",
    "\n",
    "#mat = elastic_rods.RodMaterial('+', 2000, 0.3, [5, 5, 0.7, 0.7], stiffAxis=elastic_rods.StiffAxis.D1)\n",
    "mat = elastic_rods.RodMaterial('rectangle', 20000, 0.3, [12, 8])\n",
    "l.setMaterial(mat)\n",
    "\n",
    "with suppress_stdout(): elastic_rods.restlen_solve(l)\n",
    "jdo = l.dofOffsetForJoint(driver)\n",
    "fixedVars = list(range(jdo, jdo + 6)) # fix rigid motion for a single joint\n",
    "fixedVars.append(jdo + 6) # constrain angle at the driving joint\n",
    "with suppress_stdout(): elastic_rods.compute_equilibrium(l, fixedVars=fixedVars)\n",
    "\n",
    "view = LinkageViewer(l, width=1024, labelOffset=-0.5)\n",
    "#view.setCameraParams(((2.656451698624758, 1.5087349593639046, 0.23168476156681694),\n",
    "# (0.052583904614345374, 0.026224725204501566, 0.9982721055721517),\n",
    "# (0.13680349418553736, -0.13680349418553736, -0.8425278443781967)))\n",
    "view.show()"
   ]
  },
  {
   "cell_type": "code",
   "execution_count": 5,
   "metadata": {},
   "outputs": [],
   "source": [
    "l.saveVisualizationGeometry('deployed_{}.obj'.format(linkage_name))\n",
    "#l.writeLinkageDebugData('')"
   ]
  },
  {
   "cell_type": "code",
   "execution_count": 17,
   "metadata": {},
   "outputs": [],
   "source": [
    "from write_render_files import writeRenderFiles, writeActuators\n",
    "writeRenderFiles(l, 'Pavilion21s', 'pav21s')\n",
    "#writeActuators(l, np.where(torques > 1e-4)[0], directory='AsymPointyDataFlat', name='asymPointy_Fab')"
   ]
  },
  {
   "cell_type": "code",
   "execution_count": 10,
   "metadata": {},
   "outputs": [],
   "source": [
    "from linkage_utils import writeRodSegments\n",
    "writeRodSegments(l,'rod_segments_{}.txt'.format(linkage_name), zeroBasedIndexing=True)\n",
    "np.savetxt('restlen_{}.txt'.format(linkage_name),l.getPerSegmentRestLength())\n",
    "np.savetxt('normals_{}.txt'.format(linkage_name), np.array([j.normal for j in l.joints()]))\n",
    "l.writeLinkageDebugData('deployed_{}.msh'.format(linkage_name))"
   ]
  },
  {
   "cell_type": "code",
   "execution_count": 41,
   "metadata": {
    "collapsed": true,
    "jupyter": {
     "outputs_hidden": true
    }
   },
   "outputs": [
    {
     "data": {
      "text/plain": [
       "24.37145054902055"
      ]
     },
     "execution_count": 41,
     "metadata": {},
     "output_type": "execute_result"
    }
   ],
   "source": [
    "# Compute maximum \"stress\" appearing at any rod vertex in the structure\n",
    "max([max(segmentStress) for segmentStress in l.rodStresses()[1]])"
   ]
  },
  {
   "cell_type": "code",
   "execution_count": null,
   "metadata": {},
   "outputs": [],
   "source": [
    "# Output actuation torque\n",
    "for forceScale in np.linspace(1.0, 0, 51):\n",
    "    name = 'Pavilion14_{}'.format(forceScale)\n",
    "    with suppress_stdout(): elastic_rods.compute_equilibrium(l, forceScale * externalForces, fixedVars=fixedVars)\n",
    "    view.update(preserveExisting=True)\n",
    "    writeRenderFiles(l, directory, name)\n",
    "    writeActuators(l, np.where(torques > 0.1)[0], directory, name)"
   ]
  },
  {
   "cell_type": "code",
   "execution_count": 44,
   "metadata": {
    "collapsed": true,
    "jupyter": {
     "outputs_hidden": true
    }
   },
   "outputs": [
    {
     "data": {
      "text/plain": [
       "11.81760497978405"
      ]
     },
     "execution_count": 44,
     "metadata": {},
     "output_type": "execute_result"
    }
   ],
   "source": [
    "# Compute average \"stress\" appearing over all rod vertices in the structure\n",
    "np.mean(sum(l.rodStresses()[1], []))"
   ]
  },
  {
   "cell_type": "code",
   "execution_count": 2,
   "metadata": {},
   "outputs": [
    {
     "name": "stdout",
     "output_type": "stream",
     "text": [
      "target angle:  0.04260463073639218\n",
      "0\t3780.87\t15142.5\t15142.5\t1\t0\n",
      "CHOLMOD detected non-positive definite matrix!; increasing tau to 1e-08\n",
      "CHOLMOD detected non-positive definite matrix!; increasing tau to 4e-08\n",
      "CHOLMOD detected non-positive definite matrix!; increasing tau to 1.6e-07\n",
      "CHOLMOD detected non-positive definite matrix!; increasing tau to 6.4e-07\n",
      "CHOLMOD detected non-positive definite matrix!; increasing tau to 2.56e-06\n",
      "CHOLMOD detected non-positive definite matrix!; increasing tau to 1.024e-05\n",
      "CHOLMOD detected non-positive definite matrix!; increasing tau to 4.096e-05\n",
      "CHOLMOD detected non-positive definite matrix!; increasing tau to 0.00016384\n",
      "CHOLMOD detected non-positive definite matrix!; increasing tau to 0.00065536\n",
      "CHOLMOD detected non-positive definite matrix!; increasing tau to 0.00262144\n",
      "CHOLMOD detected non-positive definite matrix!; increasing tau to 0.0104858\n",
      "CHOLMOD detected non-positive definite matrix!; increasing tau to 0.041943\n",
      "CHOLMOD detected non-positive definite matrix!; increasing tau to 0.167772\n",
      "CHOLMOD detected non-positive definite matrix!; increasing tau to 0.671089\n",
      "CHOLMOD detected non-positive definite matrix!; increasing tau to 2.68435\n",
      "CHOLMOD detected non-positive definite matrix!; increasing tau to 1.34218\n",
      "CHOLMOD detected non-positive definite matrix!; increasing tau to 0.671089\n",
      "CHOLMOD detected non-positive definite matrix!; increasing tau to 0.335544\n",
      "CHOLMOD detected non-positive definite matrix!; increasing tau to 1.34218\n",
      "CHOLMOD detected non-positive definite matrix!; increasing tau to 0.671089\n",
      "CHOLMOD detected non-positive definite matrix!; increasing tau to 2.68435\n",
      "CHOLMOD detected non-positive definite matrix!; increasing tau to 1.34218\n",
      "CHOLMOD detected non-positive definite matrix!; increasing tau to 0.671089\n",
      "CHOLMOD detected non-positive definite matrix!; increasing tau to 2.68435\n",
      "CHOLMOD detected non-positive definite matrix!; increasing tau to 1.34218\n",
      "CHOLMOD detected non-positive definite matrix!; increasing tau to 0.671089\n",
      "CHOLMOD detected non-positive definite matrix!; increasing tau to 2.68435\n",
      "Computing negative curvature direction for scaled tau = 2.39603e-08\n",
      "10\t374.451\t0.00777875\t0.00777875\t1\t1\n",
      "CHOLMOD detected non-positive definite matrix!; increasing tau to 1.34218\n",
      "CHOLMOD detected non-positive definite matrix!; increasing tau to 0.671089\n",
      "20\t368.148\t38.0657\t38.0657\t1\t0\n",
      "0.043179564806944994\t368.1483095920697\t368.1483095920697\t316.9556154932018\t0.3965549765262343\t50.79613912234164\n",
      "target angle:  0.07201126815391846\n",
      "0\t15540.5\t25567.6\t25567.6\t1\t0\n",
      "10\t1172.87\t5.24151\t5.24151\t0.5\t0\n",
      "0.07136433759234595\t1172.7327883862788\t1172.732788386279\t1092.5321349410624\t9.146619660140399\t71.05403378507643\n",
      "target angle:  0.10141790557144476\n",
      "0\t16611.7\t25993.9\t25993.9\t1\t0\n",
      "0.09927989481046094\t2396.825687550893\t2396.825687550893\t2271.6232995479704\t45.28663654240821\t79.91575146051304\n",
      "target angle:  0.13082454298897103\n",
      "0\t18940.3\t27338.1\t27338.1\t1\t0\n",
      "0.1268547304187178\t4000.0123957685128\t4000.0123957685128\t3782.384359898599\t137.4455644668081\t80.18247140310666\n",
      "target angle:  0.1602311804064973\n",
      "0\t22652.1\t29665.7\t29665.7\t1\t0\n",
      "0.153966805265178\t5937.196086174019\t5937.196086174019\t5543.65040292919\t317.8347475197327\t75.71093572509564\n",
      "target angle:  0.18963781782402359\n",
      "0\t26836.8\t32150.3\t32150.3\t1\t0\n",
      "0.18050838171741504\t8157.633174169562\t8157.633174169565\t7476.397252410033\t612.2583672241275\t68.97755453540661\n",
      "target angle:  0.21904445524154986\n",
      "0\t30599.3\t33912.5\t33912.5\t1\t0\n",
      "0.20647391012588115\t10609.365582532748\t10609.365582532748\t9518.543158601904\t1029.1986282716935\t61.623795659157445\n",
      "target angle:  0.24845109265907614\n",
      "0\t33308.5\t34351.6\t34351.6\t1\t0\n",
      "0.23196545328332419\t13245.23803765857\t13245.238037658575\t11634.949134429115\t1555.6536595570265\t54.63524367243456\n",
      "target angle:  0.2778577300766024\n",
      "0\t34956.9\t33456.7\t33456.7\t1\t0\n",
      "Backtracking failed.\n",
      "0.2571376635597682\t16027.291297717547\t16027.291297717553\t13815.975420395689\t2162.8379701235735\t48.47790719828716\n",
      "target angle:  0.3072643674941287\n",
      "0\t36018.1\t31673.5\t31673.5\t1\t0\n",
      "0.2821359420252392\t18928.03620273773\t18928.036202737734\t16068.159255500364\t2816.6026480246333\t43.27429921273016\n",
      "target angle:  0.336671004911655\n",
      "0\t37012.9\t29532\t29532\t1\t0\n",
      "Backtracking failed.\n",
      "0.30706516417686314\t21929.255412981875\t21929.255412981875\t18404.596547508987\t3485.690560605891\t38.968304867003944\n",
      "target angle:  0.36607764232918133\n",
      "0\t38258.8\t27406.8\t27406.8\t1\t0\n",
      "0.331987753627755\t25019.805051855943\t25019.805051855947\t20838.969959782607\t4145.3988340883525\t35.43625798497395\n",
      "target angle:  0.39548427974670763\n",
      "0\t39876.6\t25488.6\t25488.6\t1\t0\n",
      "0.3569345749777528\t28193.48241564365\t28193.48241564365\t23383.04563868778\t4777.891960448646\t32.54481650722277\n",
      "target angle:  0.42489091716423394\n",
      "0\t41871.1\t23839.1\t23839.1\t1\t0\n",
      "Backtracking failed.\n",
      "0.38191692565911195\t31447.37622888047\t31447.37622888047\t26046.146345559984\t5371.055202952109\t30.17468036837006\n",
      "target angle:  0.45429755458176024\n",
      "0\t44204.3\t22455.5\t22455.5\t1\t0\n",
      "0.40693545117219465\t34780.72580292065\t34780.72580292063\t28835.433182332497\t5917.065507840323\t28.22711274783038\n",
      "target angle:  0.48370419199928655\n",
      "0\t46829.6\t21309\t21309\t1\t0\n",
      "Backtracking failed.\n",
      "0.4319857489964505\t38194.17902678861\t38194.1790267886\t31756.397078243273\t6411.158659636981\t26.623288908364053\n",
      "target angle:  0.5131108294168129\n",
      "0\t49704.8\t20363.4\t20363.4\t1\t0\n",
      "Backtracking failed.\n",
      "0.45706156542761284\t41689.327238498314\t41689.327238498314\t34813.32464618796\t6850.701294894827\t25.30129741551409\n",
      "target angle:  0.5425174668343391\n",
      "0\t52797.3\t19585.2\t19585.2\t1\t0\n",
      "0.4821564904845578\t45268.42178864662\t45268.42178864662\t38009.67332160535\t7234.53564841014\t24.212818631134475\n",
      "target angle:  0.5719241042518654\n",
      "0\t56082.9\t18945.8\t18945.8\t1\t0\n",
      "0.5072647875463753\t48934.20697790034\t48934.206977900336\t41348.354871119125\t7562.531917184804\t23.32018959644228\n",
      "target angle:  0.6013307416693916\n",
      "0\t59544.5\t18421.8\t18421.8\t1\t0\n",
      "0.5323817502972774\t52689.827151328835\t52689.82715132886\t44831.94519928944\t7835.287928728417\t22.594023311018717\n",
      "target angle:  0.6307373790869178\n",
      "0\t63170.8\t17995.1\t17995.1\t1\t0\n",
      "0.5575038139555067\t56538.781495555275\t56538.781495555275\t48462.84023953408\t8053.929900879067\t22.011355142165698\n",
      "target angle:  0.6601440165044441\n",
      "0\t66955\t17651.5\t17651.5\t1\t0\n",
      "0.5826285469774931\t60484.910280626886\t60484.9102806269\t52243.37440626638\t8219.981650676496\t21.554223684007116\n",
      "target angle:  0.6895506539219703\n",
      "0\t70893.7\t17380.4\t17380.4\t1\t0\n",
      "0.6077545922450358\t64532.402743099476\t64532.40274309948\t56175.91431384884\t8335.279833244676\t21.208596005966005\n",
      "target angle:  0.7189572913394966\n",
      "0\t74986.4\t17173.8\t17173.8\t1\t0\n",
      "0.6328815946945842\t68685.82087813488\t68685.8208781349\t60262.937164310344\t8401.920158170358\t20.963555654165447\n",
      "target angle:  0.7483639287570228\n",
      "0\t79234.9\t17026.1\t17026.1\t1\t0\n",
      "0.6580101354369489\t72950.13599902266\t72950.13599902275\t64507.10089462035\t8422.22441118931\t20.810693212986887\n",
      "target angle:  0.7777705661745491\n",
      "0\t83643.4\t16933.4\t16933.4\t1\t0\n",
      "0.6831416834014324\t77330.77660380234\t77330.77660380234\t68911.31152655851\t8398.721424958878\t20.743652284899763\n",
      "target angle:  0.8071772035920753\n",
      "0\t88217.9\t16893.5\t16893.5\t1\t0\n",
      "0.7082785712221548\t81833.68721311259\t81833.68721311259\t73478.79213846517\t8334.13727730987\t20.757797337548723\n",
      "target angle:  0.8365838410096016\n",
      "0\t92966.2\t16905.6\t16905.6\t1\t0\n",
      "0.7334240002186059\t86465.39862529092\t86465.39862529092\t78213.15726721993\t8231.39137827201\t20.849979798960668\n",
      "target angle:  0.8659904784271278\n",
      "0\t97898.5\t16970\t16970\t1\t0\n",
      "0.7585820787992483\t91233.11060018773\t91233.11060018773\t83118.49624442699\t8093.595969245385\t21.018386515362817\n",
      "target angle:  0.8953971158446541\n",
      "0\t103027\t17088.1\t17088.1\t1\t0\n",
      "0.7837578987826734\t96144.78840188266\t96144.78840188266\t88199.46888394126\t7924.057056985904\t21.26246095555108\n",
      "target angle:  0.9248037532621803\n",
      "0\t108366\t17262.3\t17262.3\t1\t0\n",
      "0.8089576545696135\t101209.27493215549\t101209.27493215549\t93461.41699554046\t7726.2750437181\t21.582892896959823\n",
      "target angle:  0.9542103906797066\n",
      "0\t113933\t17496\t17496\t1\t0\n",
      "Backtracking failed.\n",
      "0.8341888102255607\t106436.42037109623\t106436.42037109622\t98910.49528410795\t7503.943415166473\t21.98167182182413\n",
      "target angle:  0.9836170280972328\n",
      "0\t119747\t17793.4\t17793.4\t1\t0\n",
      "0.8594603199778287\t111837.23128139833\t111837.23128139834\t104553.82539533569\t7260.943675379381\t22.462210683356652\n",
      "target angle:  1.013023665514759\n",
      "0\t125834\t18159.3\t18159.3\t1\t0\n",
      "Backtracking failed.\n",
      "0.8847829066147791\t117424.04097696382\t117424.04097696379\t110399.67680701801\t7001.334628528576\t23.029541417230032\n",
      "target angle:  1.0424303029322854\n",
      "0\t132219\t18599.3\t18599.3\t1\t0\n",
      "0.9101694000033316\t123210.7025284583\t123210.7025284583\t116457.67795019256\t6729.3340045978075\t23.69057366791335\n",
      "target angle:  1.0718369403498118\n",
      "0\t138935\t19119.4\t19119.4\t1\t0\n",
      "Backtracking failed.\n",
      "0.9356351370672473\t129212.80498221988\t129212.80498221987\t122739.06064749326\t6449.289886337214\t24.454448389324074\n",
      "target angle:  1.1012435777673382\n",
      "0\t146019\t19725.6\t19725.6\t1\t0\n",
      "0.9611984151652053\t135447.91209750396\t135447.91209750396\t129256.9390048689\t6165.64015643512\t25.332936199928195\n",
      "target angle:  1.1306502151848645\n",
      "0\t153512\t20424.2\t20424.2\t1\t0\n",
      "0.9868809890232991\t141935.82105980313\t141935.82105980313\t136026.6226234901\t5882.857507629396\t26.34092868362757\n",
      "target angle:  1.1600568526023909\n",
      "0\t161462\t21220.6\t21220.6\t1\t0\n",
      "Backtracking failed.\n",
      "1.0127085848114767\t148698.83614163846\t148698.8361416384\t143065.9598887398\t5605.3792999987045\t27.496952899961055\n",
      "target angle:  1.1894634900199172\n",
      "0\t169922\t22119.4\t22119.4\t1\t0\n",
      "Backtracking failed.\n",
      "1.0387113949716285\t155762.04916947323\t155762.04916947326\t150395.70326300905\t5337.522214194404\t28.823692269707365\n",
      "target angle:  1.2188701274374436\n",
      "0\t178951\t23124.6\t23124.6\t1\t0\n",
      "1.0649245016540378\t163153.6150573677\t163153.61505736763\t158039.88297911777\t5083.383597179889\t30.3484810699337\n",
      "target angle:  1.24827676485497\n",
      "0\t188613\t24238.8\t24238.8\t1\t0\n",
      "1.0913881616958707\t170905.00690077525\t170905.00690077525\t166026.1693408892\t4846.733823340904\t32.10373654517909\n",
      "target angle:  1.2776834022724963\n",
      "0\t198975\t25460.7\t25460.7\t1\t0\n",
      "1.1181478605668334\t179051.23171522585\t179051.23171522585\t174386.1963567402\t4630.908266078986\t34.12709240659757\n",
      "target angle:  1.3070900396900227\n",
      "0\t210108\t26788.7\t26788.7\t1\t0\n",
      "1.145254064668249\t187630.98558869807\t187630.98558869807\t183155.81671343962\t4438.707506211849\t36.46136904665589\n",
      "target angle:  1.336496677107549\n",
      "0\t222083\t28218.6\t28218.6\t1\t0\n",
      "1.172761588472783\t196686.72666331814\t196686.72666331817\t192375.2527357034\t4272.3197900703035\t39.1541375443778\n",
      "target angle:  1.3659033145250754\n",
      "0\t234969\t29744.4\t29744.4\t1\t0\n",
      "1.2007285404176196\t206264.6468130662\t206264.6468130662\t202089.11075790616\t4133.279173659118\t42.256881500969364\n",
      "target angle:  1.3953099519426018\n",
      "0\t248831\t31358.9\t31358.9\t1\t0\n",
      "1.2292148598908654\t216414.52868995146\t216414.52868995146\t212346.23247046847\t4022.472483183014\t45.823736299657845\n",
      "target angle:  1.4247165893601281\n",
      "0\t263728\t33054.6\t33054.6\t1\t0\n",
      "1.2582805236300787\t227189.4839239787\t227189.48392397873\t223199.36931872347\t3940.2047487429504\t49.909856512201294\n",
      "target angle:  1.4541232267776545\n",
      "0\t279714\t34824.7\t34824.7\t1\t0\n",
      "1.2879835630150187\t238645.57979929843\t238645.57979929843\t234704.6834657721\t3886.326804077477\t54.569529448768165\n",
      "target angle:  1.4835298641951808\n",
      "0\t296835\t36664.4\t36664.4\t1\t0\n",
      "1.318378077264009\t250841.37396391237\t250841.37396391237\t246921.09879374603\t3860.420960725632\t59.854209440879245\n",
      "0\t250841\t1.91149e-06\t1.91149e-06\t0\t0\n"
     ]
    }
   ],
   "source": [
    "from open_linkage import open_linkage\n",
    "def equilibriumSolver(tgtAngle, l, opts, fv):\n",
    "    opts.beta = 1e-8\n",
    "    opts.gradTol = 1e-4\n",
    "    opts.useIdentityMetric = False\n",
    "    return elastic_rods.compute_equilibrium(l, tgtAngle, options=opts, fixedVars=fv)\n",
    "# open_linkage(l, driver, 2 * np.pi/3, 25, view, zPerturbationEpsilon=0, equilibriumSolver=equilibriumSolver, maxNewtonIterationsIntermediate=20, verbose=10, useTargetAngleConstraint=False);\n",
    "open_linkage(l, driver, np.deg2rad(85) - l.averageJointAngle, 50, view, zPerturbationEpsilon=0, equilibriumSolver=equilibriumSolver, maxNewtonIterationsIntermediate=20, verbose=10, useTargetAngleConstraint=True);"
   ]
  },
  {
   "cell_type": "code",
   "execution_count": null,
   "metadata": {},
   "outputs": [],
   "source": []
  },
  {
   "cell_type": "code",
   "execution_count": null,
   "metadata": {},
   "outputs": [],
   "source": []
  }
 ],
 "metadata": {
  "kernelspec": {
   "display_name": "Python 3",
   "language": "python",
   "name": "python3"
  },
  "language_info": {
   "codemirror_mode": {
    "name": "ipython",
    "version": 3
   },
   "file_extension": ".py",
   "mimetype": "text/x-python",
   "name": "python",
   "nbconvert_exporter": "python",
   "pygments_lexer": "ipython3",
   "version": "3.7.1"
  }
 },
 "nbformat": 4,
 "nbformat_minor": 2
}
