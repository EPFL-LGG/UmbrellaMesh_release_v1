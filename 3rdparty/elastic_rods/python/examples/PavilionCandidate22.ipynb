{
 "cells": [
  {
   "cell_type": "code",
   "execution_count": 18,
   "metadata": {},
   "outputs": [
    {
     "data": {
      "application/vnd.jupyter.widget-view+json": {
       "model_id": "7c41b6dbe40e490baa63f53c0a135ddf",
       "version_major": 2,
       "version_minor": 0
      },
      "text/plain": [
       "Renderer(camera=PerspectiveCamera(aspect=2.0, children=(DirectionalLight(color='white', intensity=0.6, positio…"
      ]
     },
     "metadata": {},
     "output_type": "display_data"
    }
   ],
   "source": [
    "import sys; sys.path.append('..')\n",
    "import numpy as np, elastic_rods\n",
    "from bending_validation import suppress_stdout\n",
    "from linkage_vis import LinkageViewer\n",
    "linkage_name = '20190603_131951_meshID_96824868-7c0d-47f9-a858-1cdeb1edb0a7'\n",
    "l = elastic_rods.RodLinkage('../../examples/florin/{}.obj'.format(linkage_name), 8)\n",
    "#driver=166\n",
    "driver=l.centralJoint()\n",
    "\n",
    "#mat = elastic_rods.RodMaterial('+', 2000, 0.3, [5, 5, 0.7, 0.7], stiffAxis=elastic_rods.StiffAxis.D1)\n",
    "mat = elastic_rods.RodMaterial('rectangle', 20000, 0.3, [12, 8])\n",
    "l.setMaterial(mat)\n",
    "\n",
    "with suppress_stdout(): elastic_rods.restlen_solve(l)\n",
    "jdo = l.dofOffsetForJoint(driver)\n",
    "fixedVars = list(range(jdo, jdo + 6)) # fix rigid motion for a single joint\n",
    "fixedVars.append(jdo + 6) # constrain angle at the driving joint\n",
    "with suppress_stdout(): elastic_rods.compute_equilibrium(l, fixedVars=fixedVars)\n",
    "\n",
    "view = LinkageViewer(l, width=1024, labelOffset=-0.5)\n",
    "#view.setCameraParams(((2.656451698624758, 1.5087349593639046, 0.23168476156681694),\n",
    "# (0.052583904614345374, 0.026224725204501566, 0.9982721055721517),\n",
    "# (0.13680349418553736, -0.13680349418553736, -0.8425278443781967)))\n",
    "view.show()"
   ]
  },
  {
   "cell_type": "code",
   "execution_count": 5,
   "metadata": {},
   "outputs": [],
   "source": [
    "l.saveVisualizationGeometry('deployed_{}.obj'.format(linkage_name))\n",
    "#l.writeLinkageDebugData('')"
   ]
  },
  {
   "cell_type": "code",
   "execution_count": 17,
   "metadata": {},
   "outputs": [],
   "source": [
    "from write_render_files import writeRenderFiles, writeActuators\n",
    "writeRenderFiles(l, 'Pavilion21', 'pav21')\n",
    "#writeActuators(l, np.where(torques > 1e-4)[0], directory='AsymPointyDataFlat', name='asymPointy_Fab')"
   ]
  },
  {
   "cell_type": "code",
   "execution_count": 10,
   "metadata": {},
   "outputs": [],
   "source": [
    "from linkage_utils import writeRodSegments\n",
    "writeRodSegments(l,'rod_segments_{}.txt'.format(linkage_name), zeroBasedIndexing=True)\n",
    "np.savetxt('restlen_{}.txt'.format(linkage_name),l.getPerSegmentRestLength())\n",
    "np.savetxt('normals_{}.txt'.format(linkage_name), np.array([j.normal for j in l.joints()]))\n",
    "l.writeLinkageDebugData('deployed_{}.msh'.format(linkage_name))"
   ]
  },
  {
   "cell_type": "code",
   "execution_count": 41,
   "metadata": {
    "collapsed": true,
    "jupyter": {
     "outputs_hidden": true
    }
   },
   "outputs": [
    {
     "data": {
      "text/plain": [
       "24.37145054902055"
      ]
     },
     "execution_count": 41,
     "metadata": {},
     "output_type": "execute_result"
    }
   ],
   "source": [
    "# Compute maximum \"stress\" appearing at any rod vertex in the structure\n",
    "max([max(segmentStress) for segmentStress in l.rodStresses()[1]])"
   ]
  },
  {
   "cell_type": "code",
   "execution_count": null,
   "metadata": {},
   "outputs": [],
   "source": [
    "# Output actuation torque\n",
    "for forceScale in np.linspace(1.0, 0, 51):\n",
    "    name = 'Pavilion14_{}'.format(forceScale)\n",
    "    with suppress_stdout(): elastic_rods.compute_equilibrium(l, forceScale * externalForces, fixedVars=fixedVars)\n",
    "    view.update(preserveExisting=True)\n",
    "    writeRenderFiles(l, directory, name)\n",
    "    writeActuators(l, np.where(torques > 0.1)[0], directory, name)"
   ]
  },
  {
   "cell_type": "code",
   "execution_count": 44,
   "metadata": {
    "collapsed": true,
    "jupyter": {
     "outputs_hidden": true
    }
   },
   "outputs": [
    {
     "data": {
      "text/plain": [
       "11.81760497978405"
      ]
     },
     "execution_count": 44,
     "metadata": {},
     "output_type": "execute_result"
    }
   ],
   "source": [
    "# Compute average \"stress\" appearing over all rod vertices in the structure\n",
    "np.mean(sum(l.rodStresses()[1], []))"
   ]
  },
  {
   "cell_type": "code",
   "execution_count": 21,
   "metadata": {},
   "outputs": [
    {
     "name": "stdout",
     "output_type": "stream",
     "text": [
      "target angle:  1.654572130890621\n",
      "0\t259996\t546.383\t546.383\t1\t0\n",
      "Backtracking failed.\n",
      "1.5425373719533757\t259985.38718188612\t259985.38718188618\t256844.50796709795\t3078.3220826725687\t62.55713211577429\n",
      "target angle:  1.6510814723866323\n",
      "0\t258429\t543.504\t543.504\t1\t0\n",
      "1.5385122960367887\t258418.24456343896\t258418.24456343893\t255288.8851556733\t3067.447106309446\t61.91230145613677\n",
      "target angle:  1.6475908138826436\n",
      "0\t256873\t540.659\t540.659\t1\t0\n",
      "Backtracking failed.\n",
      "1.5344984835758677\t256862.73591746608\t256862.73591746605\t253744.48812058958\t3056.9731149455547\t61.27468193096383\n",
      "target angle:  1.644100155378655\n",
      "0\t255329\t537.794\t537.794\t1\t0\n",
      "1.530495914792947\t255318.77499664377\t255318.77499664368\t252211.23331698397\t3046.8974197686916\t60.64425989098388\n",
      "target angle:  1.6406094968746663\n",
      "0\t253797\t534.963\t534.963\t1\t0\n",
      "1.52650456854767\t253786.27553187124\t253786.27553187124\t250689.03704444645\t3037.2174796603836\t60.021007764329426\n",
      "target angle:  1.6371188383706776\n",
      "0\t252276\t532.124\t532.124\t1\t0\n",
      "1.5225244218619776\t252265.15124007445\t252265.15124007443\t249177.815439741\t3027.9308960819694\t59.40490425154119\n",
      "target angle:  1.633628179866689\n",
      "0\t250766\t529.292\t529.292\t1\t0\n",
      "1.518555450113464\t250755.31583221612\t250755.31583221612\t247677.48449695623\t3019.0354101037096\t58.795925156147185\n",
      "target angle:  1.6301375213627003\n",
      "0\t249267\t526.467\t526.467\t1\t0\n",
      "1.5145976269797592\t249256.68302155985\t249256.68302155996\t246187.96007784354\t3010.5288985041616\t58.19404521213561\n",
      "target angle:  1.6266468628587116\n",
      "0\t247779\t523.647\t523.647\t1\t0\n",
      "1.510650924425934\t247769.1665321355\t247769.1665321355\t244709.15792415958\t3002.4093698935835\t57.59923808217071\n",
      "target angle:  1.623156204354723\n",
      "0\t246303\t520.834\t520.834\t1\t0\n",
      "1.5067153126931436\t246292.6801074508\t246292.6801074508\t243240.99367035934\t2994.6749607368065\t57.01147635467022\n",
      "target angle:  1.6196655458507343\n",
      "0\t244837\t518.026\t518.026\t1\t0\n",
      "1.5027907602888704\t244827.1375193827\t244827.13751938267\t241783.38285657045\t2987.323931266928\t56.43073154544582\n",
      "target angle:  1.6161748873467456\n",
      "0\t243382\t515.224\t515.224\t1\t0\n",
      "Backtracking failed.\n",
      "1.4988772339939045\t243372.45257731818\t243372.45257731824\t240336.24094259986\t2980.354661231412\t55.85697348692052\n",
      "target angle:  1.612684228842757\n",
      "0\t241938\t512.423\t512.423\t1\t0\n",
      "1.4949746987776842\t241928.5391374752\t241928.5391374752\t238899.4833181023\t2973.7656460036856\t55.29017336910093\n",
      "target angle:  1.6091935703387683\n",
      "0\t240505\t509.637\t509.637\t1\t0\n",
      "1.4910831179483326\t240495.3111123881\t240495.3111123881\t237473.02532327097\t2967.5554914496875\t54.73029766746275\n",
      "target angle:  1.6057029118347796\n",
      "0\t239082\t506.851\t506.851\t1\t0\n",
      "Backtracking failed.\n",
      "1.4872024530134815\t239072.68248065276\t239072.68248065276\t236056.78225708575\t2961.7229101033704\t54.177313463563635\n",
      "target angle:  1.602212253330791\n",
      "0\t237670\t504.065\t504.065\t1\t0\n",
      "Backtracking failed.\n",
      "1.4833326636590318\t237660.56729677756\t237660.56729677756\t234650.66939077296\t2956.2667169852284\t53.63118901926314\n",
      "target angle:  1.5987215948268023\n",
      "0\t236268\t501.294\t501.294\t1\t0\n",
      "1.479473707911812\t236258.87970123428\t236258.87970123428\t233254.60198978308\t2951.1858237443794\t53.09188770682087\n",
      "target angle:  1.5952309363228137\n",
      "0\t234877\t498.526\t498.526\t1\t0\n",
      "1.475625541985425\t234867.53393067018\t234867.53393067012\t231868.49532171682\t2946.479235134299\t52.55937381910794\n",
      "target angle:  1.591740277818825\n",
      "0\t233495\t495.762\t495.762\t1\t0\n",
      "1.4717881203364986\t233486.4443282765\t233486.44432827644\t230492.26467380192\t2942.1460439182088\t52.03361055628808\n",
      "target angle:  1.5882496193148363\n",
      "0\t232124\t493.002\t493.002\t1\t0\n",
      "Backtracking failed.\n",
      "1.4679613956927906\t232115.52535428735\t232115.5253542874\t229125.82536927168\t2938.185425796483\t51.51455921919588\n",
      "target angle:  1.5847589608108477\n",
      "0\t230763\t490.242\t490.242\t1\t0\n",
      "1.4641453189527738\t230754.69159662264\t230754.69159662267\t227769.09277792936\t2934.5966358349947\t51.00218285836028\n",
      "target angle:  1.581268302306859\n",
      "0\t229412\t487.499\t487.499\t1\t0\n",
      "1.4603398393964655\t229403.8577816327\t229403.85778163272\t226421.98234112232\t2931.379001148959\t50.49643936147449\n",
      "target angle:  1.5777776438028703\n",
      "0\t228071\t484.755\t484.755\t1\t0\n",
      "Backtracking failed.\n",
      "1.4565449045321408\t228062.9387849848\t228062.9387849848\t225084.40958004093\t2928.5319178432837\t49.997287100557635\n",
      "target angle:  1.5742869852988817\n",
      "0\t226740\t482.005\t482.005\t1\t0\n",
      "Backtracking failed.\n",
      "1.4527604600468706\t226731.8496426454\t226731.84964264545\t223756.2901087849\t2926.054847172577\t49.5046866879121\n",
      "target angle:  1.570796326794893\n",
      "0\t225419\t479.271\t479.271\t1\t0\n",
      "Backtracking failed.\n",
      "1.4489864500169158\t225410.50556192984\t225410.50556192984\t222437.53965952626\t2923.9473077862026\t49.01859461745865\n",
      "target angle:  1.5673056682909043\n",
      "0\t224107\t476.551\t476.551\t1\t0\n",
      "1.4452228168521322\t224098.82193265646\t224098.82193265646\t221128.07409542546\t2922.208871544346\t48.53896568661733\n",
      "target angle:  1.5638150097869157\n",
      "0\t222805\t473.831\t473.831\t1\t0\n",
      "Backtracking failed.\n",
      "1.4414695012534517\t222796.71433836076\t222796.7143383608\t219827.8094240492\t2920.8391594581435\t48.06575485351402\n",
      "target angle:  1.560324351282927\n",
      "0\t221512\t471.111\t471.111\t1\t0\n",
      "1.4377264422167735\t221504.09856758\t221504.0985675799\t218536.66181296678\t2919.8378370967343\t47.598917516488086\n",
      "target angle:  1.5568336927789383\n",
      "0\t220229\t468.401\t468.401\t1\t0\n",
      "Backtracking failed.\n",
      "1.433993577197352\t220220.8906251521\t220220.89062515204\t217254.54761281388\t2919.2046069420967\t47.138405396060875\n",
      "target angle:  1.5533430342749497\n",
      "0\t218955\t465.686\t465.686\t1\t0\n",
      "1.4302708418774375\t218947.00674359436\t218947.00674359436\t215981.38336169947\t2918.9392082015843\t46.684173693230186\n",
      "target angle:  1.549852375770961\n",
      "0\t217690\t462.993\t462.993\t1\t0\n",
      "1.4265581705359198\t217682.36339445575\t217682.36339445575\t214717.08581785345\t2919.041405068847\t46.236171533425505\n",
      "target angle:  1.5463617172669724\n",
      "0\t216434\t460.298\t460.298\t1\t0\n",
      "Backtracking failed.\n",
      "1.4228554957973976\t216426.877299725\t216426.877299725\t213461.57196293905\t2919.510987117213\t45.79434966869907\n",
      "target angle:  1.5428710587629837\n",
      "0\t215188\t457.599\t457.599\t1\t0\n",
      "1.4191627486392557\t215180.46544320806\t215180.465443208\t212214.7590173832\t2920.3477651987628\t45.358660625952695\n",
      "target angle:  1.539380400258995\n",
      "0\t213950\t454.924\t454.924\t1\t0\n",
      "Backtracking failed.\n",
      "1.4154798587570159\t213943.04508189645\t213943.04508189645\t210976.56447261487\t2921.5515588860053\t44.92905039557165\n",
      "target angle:  1.5358897417550064\n",
      "0\t212722\t452.24\t452.24\t1\t0\n",
      "1.4118067541170833\t212714.53375732753\t212714.53375732753\t209746.90608459822\t2923.1222025346956\t44.505470194583836\n",
      "target angle:  1.5323990832510177\n",
      "0\t211502\t449.576\t449.576\t1\t0\n",
      "1.4081433614327248\t211494.8493068764\t211494.84930687642\t208525.7019110239\t2925.0595300580476\t44.08786579446423\n",
      "target angle:  1.528908424747029\n",
      "0\t210291\t446.911\t446.911\t1\t0\n",
      "1.404489605888354\t210283.90987503203\t210283.90987503203\t207312.8703126234\t2927.3633775686476\t43.67618484005772\n",
      "target angle:  1.5254177662430404\n",
      "0\t209089\t444.253\t444.253\t1\t0\n",
      "1.4008454113111783\t209081.6339245887\t209081.63392458868\t206108.32997554983\t2930.0335753841164\t43.27037365474552\n",
      "target angle:  1.5219271077390517\n",
      "0\t207895\t441.601\t441.601\t1\t0\n",
      "Backtracking failed.\n",
      "1.3972107001958742\t207887.94024776714\t207887.94024776714\t204911.9999265549\t2933.069943608677\t42.87037760353027\n",
      "target angle:  1.518436449235063\n",
      "0\t206710\t438.952\t438.952\t1\t0\n",
      "1.3935853936600693\t206702.74797726353\t206702.74797726353\t203723.79954465924\t2936.472289923175\t42.47614268111392\n",
      "target angle:  1.5149457907310744\n",
      "0\t205533\t436.319\t436.319\t1\t0\n",
      "1.3899694116462706\t205525.97659718973\t205525.97659718973\t202543.64858429914\t2940.240400469194\t42.08761242139454\n",
      "target angle:  1.5114551322270857\n",
      "0\t204364\t433.689\t433.689\t1\t0\n",
      "1.3863626727980418\t204357.54595388647\t204357.54595388647\t201371.4671827098\t2944.374040131176\t41.70473104550189\n",
      "target angle:  1.507964473723097\n",
      "0\t203204\t431.066\t431.066\t1\t0\n",
      "1.3827650945827392\t203197.37626667833\t203197.37626667833\t200207.17587881128\t2948.8729459306182\t41.327441936604345\n",
      "target angle:  1.5044738152191084\n",
      "0\t202052\t428.451\t428.451\t1\t0\n",
      "1.379176593317346\t202045.38813841747\t202045.3881384174\t199050.6956271343\t2953.7368233036705\t40.95568797928522\n",
      "target angle:  1.5009831567151197\n",
      "0\t200908\t425.844\t425.844\t1\t0\n",
      "Backtracking failed.\n",
      "1.3755970842472345\t200901.5025659427\t200901.5025659427\t197901.9478140291\t2958.9653408075146\t40.589411106076206\n",
      "target angle:  1.497492498211131\n",
      "0\t199772\t423.237\t423.237\t1\t0\n",
      "1.3720264814110825\t199765.64095037003\t199765.64095037006\t196760.8542633861\t2964.5581322221483\t40.22855476168927\n",
      "target angle:  1.4940018397071424\n",
      "0\t198644\t420.655\t420.655\t1\t0\n",
      "1.3684646980446873\t198637.7251072061\t198637.7251072061\t195627.3372676019\t2970.514780534903\t39.87305906923867\n",
      "target angle:  1.4905111812031537\n",
      "0\t197524\t418.074\t418.074\t1\t0\n",
      "Backtracking failed.\n",
      "1.364911646298434\t197517.67727630562\t197517.67727630556\t194501.31958566242\t2976.834825237827\t39.522865405350345\n",
      "target angle:  1.487020522699165\n",
      "0\t196411\t415.493\t415.493\t1\t0\n",
      "Backtracking failed.\n",
      "1.3613672373460126\t196405.4201316471\t196405.4201316471\t193382.7244594818\t2983.517756886153\t39.177915279174094\n",
      "target angle:  1.4835298641951764\n",
      "0\t195307\t412.929\t412.929\t1\t0\n",
      "Backtracking failed.\n",
      "1.357831381544006\t195300.87679089367\t195300.87679089367\t192271.4756322118\t2990.563009527819\t38.83814915398843\n",
      "0\t195301\t0.000835576\t0.000835576\t3.05176e-05\t0\n",
      "Backtracking failed.\n",
      "0\t195301\t0.000835576\t0.000835576\t3.05176e-05\t0\n"
     ]
    }
   ],
   "source": [
    "from open_linkage import open_linkage\n",
    "def equilibriumSolver(tgtAngle, l, opts, fv):\n",
    "    opts.beta = 1e-8\n",
    "    opts.gradTol = 1e-4\n",
    "    opts.useIdentityMetric = False\n",
    "    return elastic_rods.compute_equilibrium(l, tgtAngle, options=opts, fixedVars=fv)\n",
    "# open_linkage(l, driver, 2 * np.pi/3, 25, view, zPerturbationEpsilon=0, equilibriumSolver=equilibriumSolver, maxNewtonIterationsIntermediate=20, verbose=10, useTargetAngleConstraint=False);\n",
    "open_linkage(l, driver, np.deg2rad(85) - l.averageJointAngle, 50, view, zPerturbationEpsilon=0, equilibriumSolver=equilibriumSolver, maxNewtonIterationsIntermediate=20, verbose=10, useTargetAngleConstraint=True);"
   ]
  },
  {
   "cell_type": "code",
   "execution_count": null,
   "metadata": {},
   "outputs": [],
   "source": []
  },
  {
   "cell_type": "code",
   "execution_count": null,
   "metadata": {},
   "outputs": [],
   "source": []
  }
 ],
 "metadata": {
  "kernelspec": {
   "display_name": "Python 3",
   "language": "python",
   "name": "python3"
  },
  "language_info": {
   "codemirror_mode": {
    "name": "ipython",
    "version": 3
   },
   "file_extension": ".py",
   "mimetype": "text/x-python",
   "name": "python",
   "nbconvert_exporter": "python",
   "pygments_lexer": "ipython3",
   "version": "3.7.1"
  }
 },
 "nbformat": 4,
 "nbformat_minor": 2
}
