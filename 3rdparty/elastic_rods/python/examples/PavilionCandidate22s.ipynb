{
 "cells": [
  {
   "cell_type": "code",
   "execution_count": 1,
   "metadata": {},
   "outputs": [
    {
     "data": {
      "application/vnd.jupyter.widget-view+json": {
       "model_id": "0b11e11f07344f718191838b1d1205db",
       "version_major": 2,
       "version_minor": 0
      },
      "text/plain": [
       "Renderer(camera=PerspectiveCamera(aspect=2.0, children=(DirectionalLight(color='white', intensity=0.6, positio…"
      ]
     },
     "metadata": {},
     "output_type": "display_data"
    }
   ],
   "source": [
    "import sys; sys.path.append('..')\n",
    "import numpy as np, elastic_rods\n",
    "from bending_validation import suppress_stdout\n",
    "from linkage_vis import LinkageViewer\n",
    "linkage_name = '20190603_132556_meshID_d47b7ff6-0dcd-4c8c-9cb4-cd2f96ca9420'\n",
    "l = elastic_rods.RodLinkage('../../examples/florin/{}.obj'.format(linkage_name), 8)\n",
    "#driver=166\n",
    "driver=l.centralJoint()\n",
    "\n",
    "#mat = elastic_rods.RodMaterial('+', 2000, 0.3, [5, 5, 0.7, 0.7], stiffAxis=elastic_rods.StiffAxis.D1)\n",
    "mat = elastic_rods.RodMaterial('rectangle', 20000, 0.3, [12, 8])\n",
    "l.setMaterial(mat)\n",
    "\n",
    "with suppress_stdout(): elastic_rods.restlen_solve(l)\n",
    "jdo = l.dofOffsetForJoint(driver)\n",
    "fixedVars = list(range(jdo, jdo + 6)) # fix rigid motion for a single joint\n",
    "fixedVars.append(jdo + 6) # constrain angle at the driving joint\n",
    "with suppress_stdout(): elastic_rods.compute_equilibrium(l, fixedVars=fixedVars)\n",
    "\n",
    "view = LinkageViewer(l, width=1024, labelOffset=-0.5)\n",
    "#view.setCameraParams(((2.656451698624758, 1.5087349593639046, 0.23168476156681694),\n",
    "# (0.052583904614345374, 0.026224725204501566, 0.9982721055721517),\n",
    "# (0.13680349418553736, -0.13680349418553736, -0.8425278443781967)))\n",
    "view.show()"
   ]
  },
  {
   "cell_type": "code",
   "execution_count": 5,
   "metadata": {},
   "outputs": [],
   "source": [
    "l.saveVisualizationGeometry('deployed_{}.obj'.format(linkage_name))\n",
    "#l.writeLinkageDebugData('')"
   ]
  },
  {
   "cell_type": "code",
   "execution_count": 17,
   "metadata": {},
   "outputs": [],
   "source": [
    "from write_render_files import writeRenderFiles, writeActuators\n",
    "writeRenderFiles(l, 'Pavilion22s', 'pav22s')\n",
    "#writeActuators(l, np.where(torques > 1e-4)[0], directory='AsymPointyDataFlat', name='asymPointy_Fab')"
   ]
  },
  {
   "cell_type": "code",
   "execution_count": 10,
   "metadata": {},
   "outputs": [],
   "source": [
    "from linkage_utils import writeRodSegments\n",
    "writeRodSegments(l,'rod_segments_{}.txt'.format(linkage_name), zeroBasedIndexing=True)\n",
    "np.savetxt('restlen_{}.txt'.format(linkage_name),l.getPerSegmentRestLength())\n",
    "np.savetxt('normals_{}.txt'.format(linkage_name), np.array([j.normal for j in l.joints()]))\n",
    "l.writeLinkageDebugData('deployed_{}.msh'.format(linkage_name))"
   ]
  },
  {
   "cell_type": "code",
   "execution_count": 41,
   "metadata": {
    "collapsed": true,
    "jupyter": {
     "outputs_hidden": true
    }
   },
   "outputs": [
    {
     "data": {
      "text/plain": [
       "24.37145054902055"
      ]
     },
     "execution_count": 41,
     "metadata": {},
     "output_type": "execute_result"
    }
   ],
   "source": [
    "# Compute maximum \"stress\" appearing at any rod vertex in the structure\n",
    "max([max(segmentStress) for segmentStress in l.rodStresses()[1]])"
   ]
  },
  {
   "cell_type": "code",
   "execution_count": null,
   "metadata": {},
   "outputs": [],
   "source": [
    "# Output actuation torque\n",
    "for forceScale in np.linspace(1.0, 0, 51):\n",
    "    name = 'Pavilion14_{}'.format(forceScale)\n",
    "    with suppress_stdout(): elastic_rods.compute_equilibrium(l, forceScale * externalForces, fixedVars=fixedVars)\n",
    "    view.update(preserveExisting=True)\n",
    "    writeRenderFiles(l, directory, name)\n",
    "    writeActuators(l, np.where(torques > 0.1)[0], directory, name)"
   ]
  },
  {
   "cell_type": "code",
   "execution_count": 44,
   "metadata": {
    "collapsed": true,
    "jupyter": {
     "outputs_hidden": true
    }
   },
   "outputs": [
    {
     "data": {
      "text/plain": [
       "11.81760497978405"
      ]
     },
     "execution_count": 44,
     "metadata": {},
     "output_type": "execute_result"
    }
   ],
   "source": [
    "# Compute average \"stress\" appearing over all rod vertices in the structure\n",
    "np.mean(sum(l.rodStresses()[1], []))"
   ]
  },
  {
   "cell_type": "code",
   "execution_count": 2,
   "metadata": {},
   "outputs": [
    {
     "name": "stdout",
     "output_type": "stream",
     "text": [
      "target angle:  0.047556492364571774\n",
      "0\t2813.71\t12900.8\t12900.8\t1\t0\n",
      "0.049180541422843574\t305.2673547849096\t305.2673547849096\t257.40449935388955\t2.209452598004464e-23\t47.86285543102\n",
      "target angle:  0.07686207138152297\n",
      "0\t4120.38\t14420.2\t14420.2\t1\t0\n",
      "CHOLMOD detected non-positive definite matrix!; increasing tau to 1e-08\n",
      "CHOLMOD detected non-positive definite matrix!; increasing tau to 4e-08\n",
      "CHOLMOD detected non-positive definite matrix!; increasing tau to 1.6e-07\n",
      "CHOLMOD detected non-positive definite matrix!; increasing tau to 6.4e-07\n",
      "CHOLMOD detected non-positive definite matrix!; increasing tau to 2.56e-06\n",
      "CHOLMOD detected non-positive definite matrix!; increasing tau to 1.024e-05\n",
      "CHOLMOD detected non-positive definite matrix!; increasing tau to 4.096e-05\n",
      "CHOLMOD detected non-positive definite matrix!; increasing tau to 0.00016384\n",
      "CHOLMOD detected non-positive definite matrix!; increasing tau to 0.00065536\n",
      "CHOLMOD detected non-positive definite matrix!; increasing tau to 0.00262144\n",
      "CHOLMOD detected non-positive definite matrix!; increasing tau to 0.0104858\n",
      "CHOLMOD detected non-positive definite matrix!; increasing tau to 0.041943\n",
      "CHOLMOD detected non-positive definite matrix!; increasing tau to 0.167772\n",
      "CHOLMOD detected non-positive definite matrix!; increasing tau to 0.671089\n",
      "CHOLMOD detected non-positive definite matrix!; increasing tau to 0.335544\n",
      "CHOLMOD detected non-positive definite matrix!; increasing tau to 0.167772\n",
      "CHOLMOD detected non-positive definite matrix!; increasing tau to 0.671089\n",
      "CHOLMOD detected non-positive definite matrix!; increasing tau to 0.335544\n",
      "CHOLMOD detected non-positive definite matrix!; increasing tau to 1.34218\n",
      "Computing negative curvature direction for scaled tau = 1.4442e-08\n",
      "CHOLMOD detected non-positive definite matrix!; increasing tau to 0.671089\n",
      "CHOLMOD detected non-positive definite matrix!; increasing tau to 0.335544\n",
      "10\t915.498\t44.4502\t44.4502\t0.5\t0\n",
      "20\t911.58\t6.83903\t6.83903\t1\t0\n",
      "0.0792018679301824\t911.5804304545732\t911.5804304545732\t833.770268419259\t2.69922024312346\t75.110941792191\n",
      "target angle:  0.10616765039847416\n",
      "0\t10331.3\t20022.8\t20022.8\t1\t0\n",
      "10\t1814.55\t0.00024128\t0.00024128\t1\t0\n",
      "0.10807186689997096\t1814.5461492481566\t1814.5461492481568\t1714.4998339633091\t19.87840692868613\t80.16790835616167\n",
      "target angle:  0.13547322941542536\n",
      "0\t11278.6\t20035.1\t20035.1\t1\t0\n",
      "0.13674851523174525\t2991.511188023081\t2991.5111880230816\t2844.8155600447158\t67.73456438052247\t78.96106359784247\n",
      "target angle:  0.16477880843237655\n",
      "0\t13528.5\t21185\t21185\t1\t0\n",
      "0.16514553952801467\t4418.987553758844\t4418.987553758843\t4177.151510345872\t167.59140106343372\t74.24464234953602\n",
      "target angle:  0.19408438744932774\n",
      "0\t16522\t22917.9\t22917.9\t1\t0\n",
      "0.1931578444337579\t6068.4654901488875\t6068.465490148888\t5660.725393834746\t339.91856750139567\t67.82152881274597\n",
      "target angle:  0.22338996646627893\n",
      "0\t19593.2\t24510.2\t24510.2\t1\t0\n",
      "0.22073269847642235\t7908.274018842771\t7908.274018842771\t7250.445662386806\t596.8976034065375\t60.93075304942448\n",
      "target angle:  0.25269554548323014\n",
      "0\t22244.7\t25424.9\t25424.9\t1\t0\n",
      "Backtracking failed.\n",
      "0.24789265608701364\t9907.195738063316\t9907.195738063316\t8915.474491096278\t937.3672547560714\t54.35399221096734\n",
      "target angle:  0.28200112450018133\n",
      "0\t24282.6\t25453.5\t25453.5\t1\t0\n",
      "0.27471600792048045\t12037.907013107375\t12037.907013107375\t10641.751925289243\t1347.668615312481\t48.48647250564886\n",
      "target angle:  0.3113067035171325\n",
      "0\t25844.1\t24735.3\t24735.3\t1\t0\n",
      "0.3012984957211631\t14278.871848924744\t14278.871848924744\t12428.317391486937\t1807.1033378289574\t43.45111960884697\n",
      "target angle:  0.3406122825340837\n",
      "0\t27206.4\t23574.7\t23574.7\t1\t0\n",
      "0.32772367488303006\t16614.517761243384\t16614.517761243384\t14281.408621953391\t2293.8911184671524\t39.218020822838106\n",
      "target angle:  0.3699178615510349\n",
      "0\t28601.6\t22254.3\t22254.3\t1\t0\n",
      "0.3540514380051011\t19034.35669828503\t19034.356698285035\t16209.742427191783\t2788.9222442193063\t35.692026873950816\n",
      "target angle:  0.3992234405679861\n",
      "0\t30157.7\t20957.8\t20957.8\t1\t0\n",
      "0.3803191852904388\t21531.78416519089\t21531.78416519089\t18221.90660102627\t3277.115074995948\t32.762489168672275\n",
      "target angle:  0.4285290195849373\n",
      "0\t31921.5\t19777.3\t19777.3\t1\t0\n",
      "0.40654768365278016\t24102.98402480552\t24102.98402480552\t20325.338927816403\t3747.3191058458797\t30.32599114323668\n",
      "target angle:  0.45783459860188847\n",
      "0\t33895.8\t18744.7\t18744.7\t1\t0\n",
      "0.43274699996055227\t26746.083241160028\t26746.08324116003\t22526.149081319312\t4191.63998326106\t28.294176579671557\n",
      "target angle:  0.48714017761883965\n",
      "0\t36065.6\t17860.7\t17860.7\t1\t0\n",
      "0.45892097040858437\t29460.55323483175\t29460.55323483175\t24829.28297014276\t4604.675575546807\t26.594689142186144\n",
      "target angle:  0.5164457566357908\n",
      "0\t38411.9\t17112.2\t17112.2\t1\t0\n",
      "0.4850701449739609\t32246.80570553671\t32246.80570553671\t27238.77821285329\t4982.858031674174\t25.169461009233185\n",
      "target angle:  0.545751335652742\n",
      "0\t40917.2\t16482.1\t16482.1\t1\t0\n",
      "0.5111935838723206\t35105.92759261513\t35105.92759261513\t29758.00851363883\t5323.9467803703865\t23.972298605927033\n",
      "target angle:  0.5750569146696932\n",
      "0\t43567.4\t15953.4\t15953.4\t1\t0\n",
      "0.5372898961201791\t38039.51108635968\t38039.51108635969\t32389.885792093926\t5626.6587414656115\t22.966552800136068\n",
      "target angle:  0.6043624936866444\n",
      "0\t46352.1\t15511\t15511\t1\t0\n",
      "0.563357811006562\t41049.54729153101\t41049.54729153102\t35137.01772849984\t5890.406430573282\t22.12313245790093\n",
      "target angle:  0.6336680727035956\n",
      "0\t49263.8\t15142.6\t15142.6\t1\t0\n",
      "0.5893964739235936\t44138.36236154681\t44138.36236154681\t38001.82788740775\t6115.115573163144\t21.418900975932456\n",
      "target angle:  0.6629736517205468\n",
      "0\t52298\t14837.9\t14837.9\t1\t0\n",
      "0.6154055852979441\t47308.582225410224\t47308.58222541022\t40986.647316044495\t6301.099493656763\t20.835415708981444\n",
      "target angle:  0.692279230737498\n",
      "0\t55452\t14588.9\t14588.9\t1\t0\n",
      "0.6413854540561236\t50563.116984007625\t50563.116984007625\t44093.78558501101\t6448.973449571447\t20.35794942515828\n",
      "target angle:  0.7215848097544492\n",
      "0\t58725.2\t14389.4\t14389.4\t1\t0\n",
      "0.6673370079811682\t53905.159340405924\t53905.159340405924\t47325.587695358234\t6559.5969101789615\t19.974734868725875\n",
      "target angle:  0.7508903887714004\n",
      "0\t62118.5\t14234.8\t14234.8\t1\t0\n",
      "0.6932617860079976\t57338.19360076626\t57338.19360076626\t50684.48184544989\t6634.035372603674\t19.676382712664\n",
      "target angle:  0.7801959677883515\n",
      "0\t65633.8\t14121.7\t14121.7\t1\t0\n",
      "0.7191619274193166\t60866.013228889424\t60866.01322888942\t54173.021931656935\t6673.535863712607\t19.455433519864226\n",
      "target angle:  0.8095015468053027\n",
      "0\t69274.5\t14047.7\t14047.7\t1\t0\n",
      "0.7450401671617772\t64492.74591966014\t64492.74591966014\t57793.92785604488\t6679.512050062911\t19.306013552361097\n",
      "target angle:  0.8388071258222539\n",
      "0\t73045.2\t14011.6\t14011.6\t1\t0\n",
      "0.7708998433430885\t68222.88584526596\t68222.88584526596\t61550.1261825815\t6653.536090800018\t19.223571884475394\n",
      "target angle:  0.8681127048392051\n",
      "0\t76951.4\t14012.7\t14012.7\t1\t0\n",
      "0.7967449213584997\t72061.33323197925\t72061.33323197925\t65444.793364301346\t6597.335185355111\t19.20468232280929\n",
      "target angle:  0.8974182838561563\n",
      "0\t81000.1\t14051.5\t14051.5\t1\t0\n",
      "0.8225800384130709\t76013.44181364292\t76013.44181364292\t69481.40360938362\t6512.791305836521\t19.246898422819495\n",
      "target angle:  0.9267238628731075\n",
      "0\t85199.2\t14128.8\t14128.8\t1\t0\n",
      "0.8484105720859395\t80085.07502197944\t80085.07502197944\t73663.78342565462\t6401.942942653453\t19.348653671367167\n",
      "target angle:  0.9560294418900587\n",
      "0\t89558.4\t14246.3\t14246.3\t1\t0\n",
      "0.8742427367925794\t84282.67203629369\t84282.67203629368\t77996.17495056824\t6266.987883767579\t19.509201957838016\n",
      "target angle:  0.9853350209070099\n",
      "0\t94088.6\t14406.4\t14406.4\t1\t0\n",
      "0.9000837123690294\t88613.3250331184\t88613.32503311838\t82483.310309729\t6110.286127451678\t19.728595937601597\n",
      "target angle:  1.0146405999239612\n",
      "0\t98802.8\t14611.9\t14611.9\t1\t0\n",
      "0.925941809377616\t93084.86914457237\t93084.86914457237\t87130.49942341121\t5934.362018221612\t20.007702939567448\n",
      "target angle:  1.0439461789409124\n",
      "0\t103716\t14866.6\t14866.6\t1\t0\n",
      "0.9518266759384502\t97705.98673346208\t97705.98673346208\t91943.73386169798\t5741.904612085223\t20.34825967891009\n",
      "target angle:  1.0732517579578635\n",
      "0\t108845\t15174.5\t15174.5\t1\t0\n",
      "0.9777495506969249\t102486.32759041306\t102486.32759041304\t96929.80948659328\t5535.765135607788\t20.752968211907717\n",
      "target angle:  1.1025573369748147\n",
      "0\t114210\t15540.6\t15540.6\t1\t0\n",
      "1.0037235656300965\t107436.64650450625\t107436.64650450624\t102096.47064572432\t5318.95022267198\t21.225636109935785\n",
      "target angle:  1.131862915991766\n",
      "0\t119834\t15970\t15970\t1\t0\n",
      "Backtracking failed.\n",
      "1.029764100347136\t112568.95928837458\t112568.95928837458\t107452.57850226837\t5094.609422616285\t21.771363489925132\n",
      "target angle:  1.161168495008717\n",
      "0\t125744\t16468.5\t16468.5\t1\t0\n",
      "Backtracking failed.\n",
      "1.0558891858431323\t117896.7176704432\t117896.71767044319\t113008.30557660782\t4866.0153154778\t22.396778357543162\n",
      "target angle:  1.1904740740256683\n",
      "0\t131970\t17041.8\t17041.8\t1\t0\n",
      "Backtracking failed.\n",
      "1.0821199495712528\t123435.002409956\t123435.00240995601\t118775.357566503\t4636.534526011066\t23.110317442039086\n",
      "target angle:  1.2197796530426195\n",
      "0\t138546\t17695.8\t17695.8\t1\t0\n",
      "1.1084810848367366\t129200.73245648787\t129200.73245648787\t124767.22184980346\t4409.5880610162085\t23.92254566823312\n",
      "target angle:  1.2490852320595707\n",
      "0\t145513\t18436.2\t18436.2\t1\t0\n",
      "Backtracking failed.\n",
      "1.1350013156644676\t135212.88590135865\t135212.88590135865\t130999.43958061535\t4188.599815555592\t24.84650518770749\n",
      "target angle:  1.2783908110765219\n",
      "0\t152913\t19267.6\t19267.6\t1\t0\n",
      "1.1617138110757859\t141492.72585066874\t141492.72585066876\t137489.89462972962\t3976.933174079391\t25.89804685977797\n",
      "target angle:  1.307696390093473\n",
      "0\t160796\t20194.1\t20194.1\t1\t0\n",
      "1.188656490452761\t148064.02129116852\t148064.02129116852\t144259.10852245864\t3777.816614457372\t27.09615425247599\n",
      "target angle:  1.3370019691104242\n",
      "0\t169213\t21217.7\t21217.7\t1\t0\n",
      "1.2158721385499218\t154953.2497820853\t154953.2497820853\t151330.5246714108\t3594.261960837881\t28.46314983661642\n",
      "target angle:  1.3663075481273754\n",
      "0\t178221\t22338.6\t22338.6\t1\t0\n",
      "1.2434082476870914\t162189.76584836256\t162189.76584836253\t158730.76040602964\t3428.9806612129178\t30.02478112005446\n",
      "target angle:  1.3956131271443266\n",
      "0\t187877\t23554.9\t23554.9\t1\t0\n",
      "Backtracking failed.\n",
      "1.2713165030587688\t169805.91693909618\t169805.9169390962\t166489.80017986003\t3284.306657907868\t31.810101328231887\n",
      "target angle:  1.4249187061612778\n",
      "0\t198236\t24861.4\t24861.4\t1\t0\n",
      "1.2996518493984146\t177837.08855340033\t177837.0885534003\t174641.10082479322\t3162.136667464558\t33.851061142607534\n",
      "target angle:  1.454224285178229\n",
      "0\t209357\t26252.7\t26252.7\t1\t0\n",
      "1.3284711368207347\t186321.662404879\t186321.66240487897\t183221.58150023647\t3063.899002717416\t36.18190192498622\n",
      "target angle:  1.4835298641951802\n",
      "0\t221287\t27718.2\t27718.2\t1\t0\n",
      "1.3578313815275933\t195300.87679069652\t195300.87679069652\t192271.47563122213\t2990.5630101729903\t38.83814930134908\n",
      "0\t195301\t1.48337e-06\t1.48337e-06\t0\t0\n"
     ]
    }
   ],
   "source": [
    "from open_linkage import open_linkage\n",
    "def equilibriumSolver(tgtAngle, l, opts, fv):\n",
    "    opts.beta = 1e-8\n",
    "    opts.gradTol = 1e-4\n",
    "    opts.useIdentityMetric = False\n",
    "    return elastic_rods.compute_equilibrium(l, tgtAngle, options=opts, fixedVars=fv)\n",
    "# open_linkage(l, driver, 2 * np.pi/3, 25, view, zPerturbationEpsilon=0, equilibriumSolver=equilibriumSolver, maxNewtonIterationsIntermediate=20, verbose=10, useTargetAngleConstraint=False);\n",
    "open_linkage(l, driver, np.deg2rad(85) - l.averageJointAngle, 50, view, zPerturbationEpsilon=0, equilibriumSolver=equilibriumSolver, maxNewtonIterationsIntermediate=20, verbose=10, useTargetAngleConstraint=True);"
   ]
  },
  {
   "cell_type": "code",
   "execution_count": null,
   "metadata": {},
   "outputs": [],
   "source": []
  },
  {
   "cell_type": "code",
   "execution_count": null,
   "metadata": {},
   "outputs": [],
   "source": []
  }
 ],
 "metadata": {
  "kernelspec": {
   "display_name": "Python 3",
   "language": "python",
   "name": "python3"
  },
  "language_info": {
   "codemirror_mode": {
    "name": "ipython",
    "version": 3
   },
   "file_extension": ".py",
   "mimetype": "text/x-python",
   "name": "python",
   "nbconvert_exporter": "python",
   "pygments_lexer": "ipython3",
   "version": "3.7.1"
  }
 },
 "nbformat": 4,
 "nbformat_minor": 2
}
