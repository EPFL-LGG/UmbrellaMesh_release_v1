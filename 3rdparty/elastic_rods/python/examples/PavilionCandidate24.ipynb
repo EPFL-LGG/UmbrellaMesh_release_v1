{
 "cells": [
  {
   "cell_type": "code",
   "execution_count": 1,
   "metadata": {},
   "outputs": [
    {
     "data": {
      "application/vnd.jupyter.widget-view+json": {
       "model_id": "84fe207b670f48eb94d64770156d4e48",
       "version_major": 2,
       "version_minor": 0
      },
      "text/plain": [
       "Renderer(camera=PerspectiveCamera(aspect=2.0, children=(DirectionalLight(color='white', intensity=0.6, positio…"
      ]
     },
     "metadata": {},
     "output_type": "display_data"
    }
   ],
   "source": [
    "import sys; sys.path.append('..')\n",
    "import numpy as np, elastic_rods\n",
    "from bending_validation import suppress_stdout\n",
    "from linkage_vis import LinkageViewer\n",
    "linkage_name = '20190604_142358_meshID_cdca154f-d2c1-4324-bb7d-0d349dc5b1ad'\n",
    "l = elastic_rods.RodLinkage('../../examples/florin/{}.obj'.format(linkage_name), 8)\n",
    "#driver=166\n",
    "driver=l.centralJoint()\n",
    "\n",
    "#mat = elastic_rods.RodMaterial('+', 2000, 0.3, [5, 5, 0.7, 0.7], stiffAxis=elastic_rods.StiffAxis.D1)\n",
    "mat = elastic_rods.RodMaterial('rectangle', 20000, 0.3, [12, 8])\n",
    "l.setMaterial(mat)\n",
    "\n",
    "with suppress_stdout(): elastic_rods.restlen_solve(l)\n",
    "jdo = l.dofOffsetForJoint(driver)\n",
    "fixedVars = list(range(jdo, jdo + 6)) # fix rigid motion for a single joint\n",
    "fixedVars.append(jdo + 6) # constrain angle at the driving joint\n",
    "with suppress_stdout(): elastic_rods.compute_equilibrium(l, fixedVars=fixedVars)\n",
    "\n",
    "view = LinkageViewer(l, width=1024, labelOffset=-0.5)\n",
    "#view.setCameraParams(((2.656451698624758, 1.5087349593639046, 0.23168476156681694),\n",
    "# (0.052583904614345374, 0.026224725204501566, 0.9982721055721517),\n",
    "# (0.13680349418553736, -0.13680349418553736, -0.8425278443781967)))\n",
    "view.show()"
   ]
  },
  {
   "cell_type": "code",
   "execution_count": 5,
   "metadata": {
    "jupyter": {
     "source_hidden": true
    }
   },
   "outputs": [],
   "source": [
    "l.saveVisualizationGeometry('deployed_{}.obj'.format(linkage_name))\n",
    "#l.writeLinkageDebugData('')"
   ]
  },
  {
   "cell_type": "code",
   "execution_count": 6,
   "metadata": {},
   "outputs": [],
   "source": [
    "from write_render_files import writeRenderFiles, writeActuators\n",
    "writeRenderFiles(l, 'Pavilion24', 'pav24')\n",
    "#writeActuators(l, np.where(torques > 1e-4)[0], directory='AsymPointyDataFlat', name='asymPointy_Fab')"
   ]
  },
  {
   "cell_type": "code",
   "execution_count": 10,
   "metadata": {
    "jupyter": {
     "source_hidden": true
    }
   },
   "outputs": [],
   "source": [
    "from linkage_utils import writeRodSegments\n",
    "writeRodSegments(l,'rod_segments_{}.txt'.format(linkage_name), zeroBasedIndexing=True)\n",
    "np.savetxt('restlen_{}.txt'.format(linkage_name),l.getPerSegmentRestLength())\n",
    "np.savetxt('normals_{}.txt'.format(linkage_name), np.array([j.normal for j in l.joints()]))\n",
    "l.writeLinkageDebugData('deployed_{}.msh'.format(linkage_name))"
   ]
  },
  {
   "cell_type": "code",
   "execution_count": 41,
   "metadata": {
    "collapsed": true,
    "jupyter": {
     "outputs_hidden": true,
     "source_hidden": true
    }
   },
   "outputs": [
    {
     "data": {
      "text/plain": [
       "24.37145054902055"
      ]
     },
     "execution_count": 41,
     "metadata": {},
     "output_type": "execute_result"
    }
   ],
   "source": [
    "# Compute maximum \"stress\" appearing at any rod vertex in the structure\n",
    "max([max(segmentStress) for segmentStress in l.rodStresses()[1]])"
   ]
  },
  {
   "cell_type": "code",
   "execution_count": null,
   "metadata": {
    "jupyter": {
     "source_hidden": true
    }
   },
   "outputs": [],
   "source": [
    "# Output actuation torque\n",
    "for forceScale in np.linspace(1.0, 0, 51):\n",
    "    name = 'Pavilion14_{}'.format(forceScale)\n",
    "    with suppress_stdout(): elastic_rods.compute_equilibrium(l, forceScale * externalForces, fixedVars=fixedVars)\n",
    "    view.update(preserveExisting=True)\n",
    "    writeRenderFiles(l, directory, name)\n",
    "    writeActuators(l, np.where(torques > 0.1)[0], directory, name)"
   ]
  },
  {
   "cell_type": "code",
   "execution_count": 44,
   "metadata": {
    "collapsed": true,
    "jupyter": {
     "outputs_hidden": true,
     "source_hidden": true
    }
   },
   "outputs": [
    {
     "data": {
      "text/plain": [
       "11.81760497978405"
      ]
     },
     "execution_count": 44,
     "metadata": {},
     "output_type": "execute_result"
    }
   ],
   "source": [
    "# Compute average \"stress\" appearing over all rod vertices in the structure\n",
    "np.mean(sum(l.rodStresses()[1], []))"
   ]
  },
  {
   "cell_type": "code",
   "execution_count": 2,
   "metadata": {},
   "outputs": [
    {
     "name": "stdout",
     "output_type": "stream",
     "text": [
      "target angle:  0.4074023323425495\n",
      "0\t8426.37\t14442.9\t14442.9\t1\t0\n",
      "0.523419816394102\t4691.392786262443\t4691.392786262443\t4616.514864393308\t2.8876556047044708e-21\t74.87792186913516\n",
      "target angle:  0.4436117044374549\n",
      "0\t8416.67\t13642.3\t13642.3\t1\t0\n",
      "0.5587448581724057\t5105.155551847285\t5105.155551847285\t5048.21194625068\t3.1565089173189706e-21\t56.94360559660589\n",
      "target angle:  0.4798210765323603\n",
      "0\t8838.32\t13216\t13216\t1\t0\n",
      "0.5948816248414618\t5744.480685511841\t5744.480685511842\t5697.994414552042\t3.4141295012314855e-21\t46.48627095980369\n",
      "target angle:  0.5160304486272657\n",
      "0\t9534.21\t12960\t12960\t1\t0\n",
      "0.6316865655463807\t6571.3986972173025\t6571.3986972173025\t6531.197555163946\t3.66152035018401e-21\t40.2011420533536\n",
      "target angle:  0.552239820722171\n",
      "0\t10442.4\t12802.9\t12802.9\t1\t0\n",
      "0.6690465508583805\t7562.646368607343\t7562.646368607343\t7526.250464859562\t3.882538538493348e-21\t36.39590374778552\n",
      "target angle:  0.5884491928170764\n",
      "0\t11529.2\t12707.5\t12707.5\t1\t0\n",
      "0.706873534440049\t8703.745891801605\t8703.745891801604\t8669.603003115482\t4.081945308020276e-21\t34.142888686116954\n",
      "target angle:  0.6246585649119818\n",
      "0\t12775.3\t12652.9\t12652.9\t1\t0\n",
      "0.745099010809056\t9985.789670527487\t9985.789670527487\t9952.882756676823\t4.2664147447864084e-21\t32.90691385065921\n",
      "target angle:  0.6608679370068872\n",
      "0\t14169.6\t12626.8\t12626.8\t1\t0\n",
      "0.7836694707570091\t11403.589920521596\t11403.589920521594\t11371.222702206382\t4.423586805825253e-21\t32.36721831521683\n",
      "target angle:  0.6970773091017926\n",
      "0\t15705.7\t12621.5\t12621.5\t1\t0\n",
      "0.8225429164173681\t12954.56493167466\t12954.564931674657\t12922.238628701742\t4.547479732501611e-21\t32.326302972918825\n",
      "target angle:  0.7332866811966979\n",
      "0\t17380.8\t12632\t12632\t1\t0\n",
      "0.8616862453849268\t14638.045505842503\t14638.045505842503\t14605.384842132999\t4.6540717440411065e-21\t32.66066370951037\n",
      "target angle:  0.7694960532916033\n",
      "0\t19194.1\t12655\t12655\t1\t0\n",
      "0.901073295599394\t16454.83243822576\t16454.832438225763\t16421.539464156762\t4.740403052516243e-21\t33.29297406899454\n",
      "target angle:  0.8057054253865087\n",
      "0\t21146.6\t12688.3\t12688.3\t1\t0\n",
      "Backtracking failed.\n",
      "0.9406833799459429\t18406.910193951786\t18406.91019395179\t18372.73437813927\t4.790859757272102e-21\t34.175815812517904\n",
      "target angle:  0.8419147974814141\n",
      "0\t23240.6\t12730.5\t12730.5\t1\t0\n",
      "0.980500180300161\t20497.261435146804\t20497.2614351468\t20461.979535461727\t4.819204695257399e-21\t35.281899685091304\n",
      "target angle:  0.8781241695763194\n",
      "0\t25479.5\t12780.6\t12780.6\t1\t0\n",
      "Backtracking failed.\n",
      "1.0205109097205016\t22729.749038584447\t22729.749038584447\t22693.15096109105\t4.820978293958934e-21\t36.5980774934046\n",
      "target angle:  0.9143335416712248\n",
      "0\t27867.6\t12837.7\t12837.7\t1\t0\n",
      "1.0607056674622664\t25109.044973686756\t25109.044973686756\t25070.92332711061\t4.80567728266607e-21\t38.121646576167315\n",
      "target angle:  0.9505429137661302\n",
      "0\t30410.2\t12901.4\t12901.4\t1\t0\n",
      "Backtracking failed.\n",
      "1.1010769474489341\t27640.593049341478\t27640.593049341478\t27600.73495169149\t4.7657855322356134e-21\t39.85809764999307\n",
      "target angle:  0.9867522858610356\n",
      "0\t33113.3\t12971.5\t12971.5\t1\t0\n",
      "1.1416192518546087\t30330.59727959305\t30330.59727959305\t30288.777478268472\t4.707616082897185e-21\t41.81980132458036\n",
      "target angle:  1.0229616579559409\n",
      "0\t35984\t13047.7\t13047.7\t1\t0\n",
      "Backtracking failed.\n",
      "1.1823287953650414\t33186.030664856036\t33186.03066485602\t33142.00531757542\t4.629353831678297e-21\t44.02534728063563\n",
      "target angle:  1.0591710300508461\n",
      "0\t39029.8\t13130.1\t13130.1\t1\t0\n",
      "1.2232032708959002\t36214.66122019429\t36214.6612201943\t36168.16186143028\t4.538016577270892e-21\t46.49935876402568\n",
      "target angle:  1.0953804021457514\n",
      "0\t42259.5\t13218.6\t13218.6\t1\t0\n",
      "Backtracking failed.\n",
      "1.2642416699729737\t39425.09350762202\t39425.09350762202\t39375.820811560836\t4.429715237239408e-21\t49.2726960611887\n",
      "target angle:  1.1315897742406567\n",
      "0\t45682.6\t13313.4\t13313.4\t1\t0\n",
      "1.3054441401502332\t42826.82499220896\t42826.82499220896\t42774.44199028652\t4.3155850623441585e-21\t52.383001922436904\n",
      "target angle:  1.167799146335562\n",
      "0\t49309.7\t13414.7\t13414.7\t1\t0\n",
      "1.3468118793554291\t46430.3174006812\t46430.317400681204\t46374.441801199275\t4.196809779313741e-21\t55.87559948190816\n",
      "target angle:  1.2040085184304672\n",
      "0\t53152.3\t13522.7\t13522.7\t1\t0\n",
      "1.3883470519936578\t50247.08402671277\t50247.084026712764\t50187.27925962822\t4.076101659578882e-21\t59.80476708453015\n",
      "target angle:  1.2402178905253725\n",
      "0\t57223.3\t13637.7\t13637.7\t1\t0\n",
      "1.4300527300975217\t54289.794683718355\t54289.794683718355\t54225.5592087231\t3.953574973399719e-21\t64.23547499523042\n",
      "target angle:  1.2764272626202777\n",
      "0\t61536.9\t13760.1\t13760.1\t1\t0\n",
      "1.471932851551462\t58572.40082901635\t58572.40082901634\t58503.15513232557\t3.8438652286610215e-21\t69.24569669074081\n",
      "target angle:  1.312636634715183\n",
      "0\t66108.5\t13890.4\t13890.4\t1\t0\n",
      "1.5139921941865784\t63110.28434929567\t63110.284349295674\t63035.35487468447\t3.750787047982305e-21\t74.92947461120349\n",
      "target angle:  1.3488460068100883\n",
      "0\t70955.6\t14029\t14029\t1\t0\n",
      "1.556236363461978\t67920.43469612647\t67920.43469612647\t67839.03369625905\t3.6849713931406316e-21\t81.40099986745965\n",
      "target angle:  1.3850553789049935\n",
      "0\t76097\t14176.7\t14176.7\t1\t0\n",
      "1.5986717920396631\t73021.66060560022\t73021.66060560034\t72932.86052175272\t3.6464843190040265e-21\t88.80008384759495\n",
      "target angle:  1.4212647509998988\n",
      "0\t81554.2\t14334\t14334\t1\t0\n",
      "1.6413057497654813\t78434.84468053308\t78434.84468053308\t78337.54510687759\t3.6453253974374135e-21\t97.29957365548327\n",
      "target angle:  1.457474123094804\n",
      "0\t87350.6\t14501.8\t14501.8\t1\t0\n",
      "1.6841463625006048\t84183.25186785965\t84183.25186785965\t84076.13634351458\t3.6946870499265865e-21\t107.11552434506483\n",
      "target angle:  1.4936834951897093\n",
      "0\t93512.8\t14681\t14681\t1\t0\n",
      "1.727202637910301\t90292.90662305188\t90292.90662305188\t90174.38528572876\t3.806477902094808e-21\t118.52133732305334\n",
      "target angle:  1.5298928672846146\n",
      "0\t100070\t14872.6\t14872.6\t1\t0\n",
      "1.77048449550793\t96793.0587340701\t96793.0587340701\t96661.19104919002\t3.9885625666686255e-21\t131.86768488010082\n",
      "target angle:  1.5661022393795199\n",
      "0\t107057\t15077.8\t15077.8\t1\t0\n",
      "1.814002796771887\t103716.76496681756\t103716.76496681754\t103569.15397467502\t4.2578133648539585e-21\t147.61099214255037\n",
      "target angle:  1.6023116114744251\n",
      "0\t114511\t15297.8\t15297.8\t1\t0\n",
      "1.857769368686163\t111101.62371528821\t111101.62371528821\t110935.26896641888\t4.663144561296252e-21\t166.3547488692975\n",
      "target angle:  1.6385209835693304\n",
      "0\t122477\t15534.1\t15534.1\t1\t0\n",
      "1.9017970099706918\t118990.71382879413\t118990.71382879413\t118801.8035065966\t5.32233702795998e-21\t188.91032219749914\n",
      "target angle:  1.6747303556642357\n",
      "0\t131004\t15788.4\t15788.4\t1\t0\n",
      "1.946099462854073\t127433.80827246931\t127433.8082724693\t127217.4204485279\t6.7639614533338355e-21\t216.38782394132124\n",
      "target angle:  1.710939727759141\n",
      "0\t140152\t16062.5\t16062.5\t1\t0\n",
      "Backtracking failed.\n",
      "1.9906913252174245\t136488.9602028812\t136488.9602028812\t136238.62623162335\t1.381618029794095e-20\t250.3339712578494\n",
      "target angle:  1.7471490998540462\n",
      "0\t149990\t16358.2\t16358.2\t1\t0\n",
      "CHOLMOD detected non-positive definite matrix!; increasing tau to 1e-08\n",
      "CHOLMOD detected non-positive definite matrix!; increasing tau to 4e-08\n",
      "CHOLMOD detected non-positive definite matrix!; increasing tau to 1.6e-07\n",
      "CHOLMOD detected non-positive definite matrix!; increasing tau to 6.4e-07\n",
      "CHOLMOD detected non-positive definite matrix!; increasing tau to 2.56e-06\n",
      "CHOLMOD detected non-positive definite matrix!; increasing tau to 1.024e-05\n",
      "CHOLMOD detected non-positive definite matrix!; increasing tau to 4.096e-05\n",
      "CHOLMOD detected non-positive definite matrix!; increasing tau to 0.00016384\n",
      "CHOLMOD detected non-positive definite matrix!; increasing tau to 0.00065536\n",
      "CHOLMOD detected non-positive definite matrix!; increasing tau to 0.00262144\n",
      "CHOLMOD detected non-positive definite matrix!; increasing tau to 0.0104858\n",
      "CHOLMOD detected non-positive definite matrix!; increasing tau to 0.00524288\n",
      "CHOLMOD detected non-positive definite matrix!; increasing tau to 0.0209715\n",
      "Computing negative curvature direction for scaled tau = 1.19085e-09\n",
      "CHOLMOD detected non-positive definite matrix!; increasing tau to 0.0104858\n",
      "CHOLMOD detected non-positive definite matrix!; increasing tau to 0.00524288\n",
      "10\t146225\t3.07881\t3.07881\t1\t0\n",
      "20\t146225\t4.30077\t4.30077\t1\t0\n",
      "2.0355853619049205\t146224.57378851055\t146224.57378851055\t145922.76757542143\t8.89764164798299\t292.9085714411717\n",
      "target angle:  1.7833584719489515\n",
      "0\t162148\t20133.4\t20133.4\t1\t0\n",
      "CHOLMOD detected non-positive definite matrix!; increasing tau to 1e-08\n",
      "CHOLMOD detected non-positive definite matrix!; increasing tau to 4e-08\n",
      "CHOLMOD detected non-positive definite matrix!; increasing tau to 1.6e-07\n",
      "CHOLMOD detected non-positive definite matrix!; increasing tau to 6.4e-07\n",
      "CHOLMOD detected non-positive definite matrix!; increasing tau to 2.56e-06\n",
      "CHOLMOD detected non-positive definite matrix!; increasing tau to 1.024e-05\n",
      "CHOLMOD detected non-positive definite matrix!; increasing tau to 4.096e-05\n",
      "CHOLMOD detected non-positive definite matrix!; increasing tau to 0.00016384\n",
      "CHOLMOD detected non-positive definite matrix!; increasing tau to 0.00065536\n",
      "CHOLMOD detected non-positive definite matrix!; increasing tau to 0.00262144\n",
      "CHOLMOD detected non-positive definite matrix!; increasing tau to 0.0104858\n",
      "CHOLMOD detected non-positive definite matrix!; increasing tau to 0.041943\n",
      "CHOLMOD detected non-positive definite matrix!; increasing tau to 0.167772\n",
      "10\t156710\t159.998\t159.998\t1\t0\n",
      "20\t156692\t235.92\t235.92\t1\t0\n",
      "2.08055656208813\t156691.78775204602\t156691.787752046\t155438.22593334914\t907.6395282294178\t345.92229046745774\n",
      "target angle:  1.8195678440438567\n",
      "0\t172110\t17328.1\t17328.1\t1\t0\n",
      "CHOLMOD detected non-positive definite matrix!; increasing tau to 1e-08\n",
      "CHOLMOD detected non-positive definite matrix!; increasing tau to 4e-08\n",
      "CHOLMOD detected non-positive definite matrix!; increasing tau to 1.6e-07\n",
      "CHOLMOD detected non-positive definite matrix!; increasing tau to 6.4e-07\n",
      "CHOLMOD detected non-positive definite matrix!; increasing tau to 2.56e-06\n",
      "CHOLMOD detected non-positive definite matrix!; increasing tau to 1.024e-05\n",
      "CHOLMOD detected non-positive definite matrix!; increasing tau to 4.096e-05\n",
      "CHOLMOD detected non-positive definite matrix!; increasing tau to 0.00016384\n",
      "CHOLMOD detected non-positive definite matrix!; increasing tau to 0.00065536\n",
      "CHOLMOD detected non-positive definite matrix!; increasing tau to 0.00262144\n",
      "CHOLMOD detected non-positive definite matrix!; increasing tau to 0.0104858\n",
      "CHOLMOD detected non-positive definite matrix!; increasing tau to 0.041943\n",
      "CHOLMOD detected non-positive definite matrix!; increasing tau to 0.167772\n",
      "10\t167929\t380.089\t380.089\t1\t0\n",
      "20\t167823\t284.279\t284.279\t1\t0\n",
      "2.125234783527574\t167823.08627355742\t167823.08627355742\t163148.8366929317\t4261.883060152685\t412.36652047318603\n",
      "target angle:  1.855777216138762\n",
      "0\t185727\t21022.5\t21022.5\t1\t0\n",
      "CHOLMOD detected non-positive definite matrix!; increasing tau to 1e-08\n",
      "CHOLMOD detected non-positive definite matrix!; increasing tau to 4e-08\n",
      "CHOLMOD detected non-positive definite matrix!; increasing tau to 1.6e-07\n",
      "CHOLMOD detected non-positive definite matrix!; increasing tau to 6.4e-07\n",
      "CHOLMOD detected non-positive definite matrix!; increasing tau to 2.56e-06\n",
      "CHOLMOD detected non-positive definite matrix!; increasing tau to 1.024e-05\n",
      "CHOLMOD detected non-positive definite matrix!; increasing tau to 4.096e-05\n",
      "CHOLMOD detected non-positive definite matrix!; increasing tau to 0.00016384\n",
      "CHOLMOD detected non-positive definite matrix!; increasing tau to 0.00065536\n",
      "CHOLMOD detected non-positive definite matrix!; increasing tau to 0.00262144\n",
      "10\t179711\t331.427\t331.427\t0.5\t0\n",
      "20\t179549\t644.928\t644.928\t1\t0\n",
      "2.1692317040422733\t179549.40706097495\t179549.40706097495\t167192.53778114097\t11860.96905778133\t495.90022205269673\n",
      "target angle:  1.8919865882336673\n",
      "0\t197102\t18746.4\t18746.4\t1\t0\n",
      "10\t192201\t726.422\t726.422\t1\t0\n",
      "20\t192114\t217.506\t217.506\t1\t0\n",
      "2.2133515427820107\t192114.46050903364\t192114.46050903358\t170457.1679967641\t21069.45997982244\t587.8325324471213\n",
      "target angle:  1.9281959603285725\n",
      "0\t211474\t20883.6\t20883.6\t1\t0\n",
      "10\t205710\t163.086\t163.086\t1\t0\n",
      "2.25875322676213\t205707.8859057226\t205707.8859057226\t177408.05858722425\t27576.94114781633\t722.8861706819584\n",
      "target angle:  1.9644053324234778\n",
      "0\t269575\t54721\t54721\t1\t0\n",
      "2.3048300466824525\t220394.50811068306\t220394.5081106831\t185681.25182656167\t33808.63943986636\t904.6168442549414\n",
      "target angle:  2.0006147045183833\n",
      "0\t281680\t53091.6\t53091.6\t1\t0\n",
      "2.3515311153872025\t236326.92656827002\t236326.92656827002\t194761.68647551406\t40414.80907190825\t1150.4310208477523\n",
      "target angle:  2.036824076613289\n",
      "0\t298285\t53165.7\t53165.7\t1\t0\n",
      "Backtracking failed.\n",
      "2.39898348613759\t253679.5652342051\t253679.5652342051\t204743.7525716257\t47449.096247909\t1486.7164146705397\n",
      "target angle:  2.0730334487081943\n",
      "0\t318599\t54528.9\t54528.9\t1\t0\n",
      "2.447389721259636\t272638.56527328084\t272638.56527328084\t215734.85081154923\t54952.66903822315\t1951.0454235085735\n",
      "target angle:  2.1092428208030998\n",
      "0\t342203\t56915.8\t56915.8\t1\t0\n",
      "Backtracking failed.\n",
      "2.4970836398941385\t293381.79288391746\t293381.79288391746\t227856.41798361004\t62928.926757385256\t2596.4481429220373\n",
      "target angle:  2.1454521928980053\n",
      "0\t368521\t60024.5\t60024.5\t1\t0\n",
      "2.548621569745451\t316034.4828372629\t316034.48283726297\t241248.11752188232\t71289.24393794166\t3497.1213774389225\n",
      "target angle:  2.1816615649929108\n",
      "0\t396172\t63260\t63260\t1\t0\n",
      "2.602916441657558\t340577.24819496844\t340577.24819496844\t256090.30978995466\t79728.8996225649\t4758.038782448886\n",
      "0\t340577\t1.2977e-05\t1.2977e-05\t0\t0\n"
     ]
    }
   ],
   "source": [
    "from open_linkage import open_linkage\n",
    "def equilibriumSolver(tgtAngle, l, opts, fv):\n",
    "    opts.beta = 1e-8\n",
    "    opts.gradTol = 1e-4\n",
    "    opts.useIdentityMetric = False\n",
    "    return elastic_rods.compute_equilibrium(l, tgtAngle, options=opts, fixedVars=fv)\n",
    "# open_linkage(l, driver, 2 * np.pi/3, 25, view, zPerturbationEpsilon=0, equilibriumSolver=equilibriumSolver, maxNewtonIterationsIntermediate=20, verbose=10, useTargetAngleConstraint=False);\n",
    "open_linkage(l, driver, np.deg2rad(125) - l.averageJointAngle, 50, view, zPerturbationEpsilon=0, equilibriumSolver=equilibriumSolver, maxNewtonIterationsIntermediate=20, verbose=10, useTargetAngleConstraint=True);"
   ]
  },
  {
   "cell_type": "code",
   "execution_count": null,
   "metadata": {},
   "outputs": [],
   "source": []
  },
  {
   "cell_type": "code",
   "execution_count": null,
   "metadata": {},
   "outputs": [],
   "source": []
  }
 ],
 "metadata": {
  "kernelspec": {
   "display_name": "Python 3",
   "language": "python",
   "name": "python3"
  },
  "language_info": {
   "codemirror_mode": {
    "name": "ipython",
    "version": 3
   },
   "file_extension": ".py",
   "mimetype": "text/x-python",
   "name": "python",
   "nbconvert_exporter": "python",
   "pygments_lexer": "ipython3",
   "version": "3.7.1"
  }
 },
 "nbformat": 4,
 "nbformat_minor": 2
}
