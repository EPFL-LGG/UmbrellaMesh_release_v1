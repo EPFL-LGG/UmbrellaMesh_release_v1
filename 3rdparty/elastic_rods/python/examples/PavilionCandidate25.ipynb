{
 "cells": [
  {
   "cell_type": "code",
   "execution_count": 1,
   "metadata": {},
   "outputs": [
    {
     "data": {
      "application/vnd.jupyter.widget-view+json": {
       "model_id": "bcf93aed2b5b4282b924f9837ffe97d8",
       "version_major": 2,
       "version_minor": 0
      },
      "text/plain": [
       "Renderer(camera=PerspectiveCamera(aspect=2.0, children=(DirectionalLight(color='white', intensity=0.6, positio…"
      ]
     },
     "metadata": {},
     "output_type": "display_data"
    }
   ],
   "source": [
    "import sys; sys.path.append('..')\n",
    "import numpy as np, elastic_rods\n",
    "from bending_validation import suppress_stdout\n",
    "from linkage_vis import LinkageViewer\n",
    "linkage_name = '20190605_132121_meshID_f1ec2412-e447-4fa0-b1e4-7adfda9bd57a'\n",
    "l = elastic_rods.RodLinkage('../../examples/florin/{}.obj'.format(linkage_name), 8)\n",
    "#driver=166\n",
    "driver=l.centralJoint()\n",
    "\n",
    "#mat = elastic_rods.RodMaterial('+', 2000, 0.3, [5, 5, 0.7, 0.7], stiffAxis=elastic_rods.StiffAxis.D1)\n",
    "mat = elastic_rods.RodMaterial('rectangle', 20000, 0.3, [12, 8])\n",
    "l.setMaterial(mat)\n",
    "\n",
    "with suppress_stdout(): elastic_rods.restlen_solve(l)\n",
    "jdo = l.dofOffsetForJoint(driver)\n",
    "fixedVars = list(range(jdo, jdo + 6)) # fix rigid motion for a single joint\n",
    "fixedVars.append(jdo + 6) # constrain angle at the driving joint\n",
    "with suppress_stdout(): elastic_rods.compute_equilibrium(l, fixedVars=fixedVars)\n",
    "\n",
    "view = LinkageViewer(l, width=1024, labelOffset=-0.5)\n",
    "#view.setCameraParams(((2.656451698624758, 1.5087349593639046, 0.23168476156681694),\n",
    "# (0.052583904614345374, 0.026224725204501566, 0.9982721055721517),\n",
    "# (0.13680349418553736, -0.13680349418553736, -0.8425278443781967)))\n",
    "view.show()"
   ]
  },
  {
   "cell_type": "code",
   "execution_count": 5,
   "metadata": {
    "jupyter": {
     "source_hidden": true
    }
   },
   "outputs": [],
   "source": [
    "l.saveVisualizationGeometry('deployed_{}.obj'.format(linkage_name))\n",
    "#l.writeLinkageDebugData('')"
   ]
  },
  {
   "cell_type": "code",
   "execution_count": 6,
   "metadata": {},
   "outputs": [],
   "source": [
    "from write_render_files import writeRenderFiles, writeActuators\n",
    "writeRenderFiles(l, 'Pavilion25', 'pav25')\n",
    "#writeActuators(l, np.where(torques > 1e-4)[0], directory='AsymPointyDataFlat', name='asymPointy_Fab')"
   ]
  },
  {
   "cell_type": "code",
   "execution_count": 10,
   "metadata": {
    "jupyter": {
     "source_hidden": true
    }
   },
   "outputs": [],
   "source": [
    "from linkage_utils import writeRodSegments\n",
    "writeRodSegments(l,'rod_segments_{}.txt'.format(linkage_name), zeroBasedIndexing=True)\n",
    "np.savetxt('restlen_{}.txt'.format(linkage_name),l.getPerSegmentRestLength())\n",
    "np.savetxt('normals_{}.txt'.format(linkage_name), np.array([j.normal for j in l.joints()]))\n",
    "l.writeLinkageDebugData('deployed_{}.msh'.format(linkage_name))"
   ]
  },
  {
   "cell_type": "code",
   "execution_count": 41,
   "metadata": {
    "collapsed": true,
    "jupyter": {
     "outputs_hidden": true,
     "source_hidden": true
    }
   },
   "outputs": [
    {
     "data": {
      "text/plain": [
       "24.37145054902055"
      ]
     },
     "execution_count": 41,
     "metadata": {},
     "output_type": "execute_result"
    }
   ],
   "source": [
    "# Compute maximum \"stress\" appearing at any rod vertex in the structure\n",
    "max([max(segmentStress) for segmentStress in l.rodStresses()[1]])"
   ]
  },
  {
   "cell_type": "code",
   "execution_count": null,
   "metadata": {
    "jupyter": {
     "source_hidden": true
    }
   },
   "outputs": [],
   "source": [
    "# Output actuation torque\n",
    "for forceScale in np.linspace(1.0, 0, 51):\n",
    "    name = 'Pavilion14_{}'.format(forceScale)\n",
    "    with suppress_stdout(): elastic_rods.compute_equilibrium(l, forceScale * externalForces, fixedVars=fixedVars)\n",
    "    view.update(preserveExisting=True)\n",
    "    writeRenderFiles(l, directory, name)\n",
    "    writeActuators(l, np.where(torques > 0.1)[0], directory, name)"
   ]
  },
  {
   "cell_type": "code",
   "execution_count": 44,
   "metadata": {
    "collapsed": true,
    "jupyter": {
     "outputs_hidden": true,
     "source_hidden": true
    }
   },
   "outputs": [
    {
     "data": {
      "text/plain": [
       "11.81760497978405"
      ]
     },
     "execution_count": 44,
     "metadata": {},
     "output_type": "execute_result"
    }
   ],
   "source": [
    "# Compute average \"stress\" appearing over all rod vertices in the structure\n",
    "np.mean(sum(l.rodStresses()[1], []))"
   ]
  },
  {
   "cell_type": "code",
   "execution_count": 2,
   "metadata": {},
   "outputs": [
    {
     "name": "stdout",
     "output_type": "stream",
     "text": [
      "target angle:  0.045628696489271314\n",
      "0\t3632.43\t15871.1\t15871.1\t1\t0\n",
      "CHOLMOD detected non-positive definite matrix!; increasing tau to 1e-08\n",
      "CHOLMOD detected non-positive definite matrix!; increasing tau to 4e-08\n",
      "CHOLMOD detected non-positive definite matrix!; increasing tau to 1.6e-07\n",
      "CHOLMOD detected non-positive definite matrix!; increasing tau to 6.4e-07\n",
      "CHOLMOD detected non-positive definite matrix!; increasing tau to 2.56e-06\n",
      "CHOLMOD detected non-positive definite matrix!; increasing tau to 1.024e-05\n",
      "CHOLMOD detected non-positive definite matrix!; increasing tau to 4.096e-05\n",
      "CHOLMOD detected non-positive definite matrix!; increasing tau to 0.00016384\n",
      "CHOLMOD detected non-positive definite matrix!; increasing tau to 0.00065536\n",
      "CHOLMOD detected non-positive definite matrix!; increasing tau to 0.00262144\n",
      "CHOLMOD detected non-positive definite matrix!; increasing tau to 0.0104858\n",
      "CHOLMOD detected non-positive definite matrix!; increasing tau to 0.041943\n",
      "CHOLMOD detected non-positive definite matrix!; increasing tau to 0.167772\n",
      "CHOLMOD detected non-positive definite matrix!; increasing tau to 0.671089\n",
      "CHOLMOD detected non-positive definite matrix!; increasing tau to 2.68435\n",
      "CHOLMOD detected non-positive definite matrix!; increasing tau to 1.34218\n",
      "CHOLMOD detected non-positive definite matrix!; increasing tau to 0.671089\n",
      "CHOLMOD detected non-positive definite matrix!; increasing tau to 0.335544\n",
      "CHOLMOD detected non-positive definite matrix!; increasing tau to 0.167772\n",
      "CHOLMOD detected non-positive definite matrix!; increasing tau to 0.0838861\n",
      "CHOLMOD detected non-positive definite matrix!; increasing tau to 0.041943\n",
      "10\t412.767\t1.07289e-05\t1.07289e-05\t1\t1\n",
      "CHOLMOD detected non-positive definite matrix!; increasing tau to 0.0209715\n",
      "CHOLMOD detected non-positive definite matrix!; increasing tau to 0.0104858\n",
      "CHOLMOD detected non-positive definite matrix!; increasing tau to 0.041943\n",
      "Computing negative curvature direction for scaled tau = 6.51256e-10\n",
      "CHOLMOD detected non-positive definite matrix!; increasing tau to 0.0209715\n",
      "CHOLMOD detected non-positive definite matrix!; increasing tau to 0.0104858\n",
      "20\t412.757\t1.56602\t1.56602\t1\t0\n",
      "0.023857498071463305\t412.75740865717364\t412.75740865717364\t360.6191758536426\t0.021158259169339937\t52.11707454436153\n",
      "target angle:  0.07675456649550856\n",
      "0\t78777.3\t55380.5\t55380.5\t1\t0\n",
      "CHOLMOD detected non-positive definite matrix!; increasing tau to 1e-08\n",
      "CHOLMOD detected non-positive definite matrix!; increasing tau to 4e-08\n",
      "CHOLMOD detected non-positive definite matrix!; increasing tau to 1.6e-07\n",
      "CHOLMOD detected non-positive definite matrix!; increasing tau to 6.4e-07\n",
      "CHOLMOD detected non-positive definite matrix!; increasing tau to 2.56e-06\n",
      "CHOLMOD detected non-positive definite matrix!; increasing tau to 1.024e-05\n",
      "CHOLMOD detected non-positive definite matrix!; increasing tau to 4.096e-05\n",
      "CHOLMOD detected non-positive definite matrix!; increasing tau to 0.00016384\n",
      "CHOLMOD detected non-positive definite matrix!; increasing tau to 0.00065536\n",
      "CHOLMOD detected non-positive definite matrix!; increasing tau to 0.00262144\n",
      "CHOLMOD detected non-positive definite matrix!; increasing tau to 0.0104858\n",
      "CHOLMOD detected non-positive definite matrix!; increasing tau to 0.041943\n",
      "CHOLMOD detected non-positive definite matrix!; increasing tau to 0.167772\n",
      "CHOLMOD detected non-positive definite matrix!; increasing tau to 0.671089\n",
      "CHOLMOD detected non-positive definite matrix!; increasing tau to 2.68435\n",
      "CHOLMOD detected non-positive definite matrix!; increasing tau to 10.7374\n",
      "10\t1269.01\t51.378\t51.378\t1\t0\n",
      "0.038773300461617984\t1268.7727363300064\t1268.7727363300064\t1199.631930499339\t5.060286283675755\t64.08051954699043\n",
      "target angle:  0.10788043650174581\n",
      "0\t9478.15\t20949\t20949\t1\t0\n",
      "0.05470898510272503\t2564.210319361511\t2564.210319361511\t2466.2535671010605\t29.037870983106608\t68.91888127734619\n",
      "target angle:  0.13900630650798307\n",
      "0\t12219.8\t22576.3\t22576.3\t1\t0\n",
      "0.0714162203979825\t4275.681525933536\t4275.681525933536\t4108.622987586346\t97.99985238709148\t69.05868596009864\n",
      "target angle:  0.17013217651422033\n",
      "0\t16561.2\t25876.3\t25876.3\t1\t0\n",
      "0.08886490182596143\t6370.373078941595\t6370.373078941595\t6055.227616982297\t249.05055345647693\t66.0949085028167\n",
      "target angle:  0.2012580465204576\n",
      "0\t21879.3\t30003\t30003\t1\t0\n",
      "0.10700994023103794\t8804.543948092753\t8804.543948092753\t8222.619429554472\t520.6290279534184\t61.29549058485581\n",
      "target angle:  0.23238391652669485\n",
      "0\t27280.4\t33756.1\t33756.1\t1\t0\n",
      "0.12575719474854927\t11527.416922228782\t11527.416922228784\t10534.695270548837\t937.0077662948908\t55.713885385050006\n",
      "target angle:  0.2635097865329321\n",
      "0\t31845.3\t36042.6\t36042.6\t1\t0\n",
      "0.1449907478094843\t14488.163429328308\t14488.163429328306\t12939.944455471554\t1498.1001559964054\t50.118817860347356\n",
      "target angle:  0.29463565653916934\n",
      "0\t35244.4\t36535.4\t36535.4\t1\t0\n",
      "Backtracking failed.\n",
      "0.16460305046904572\t17642.226169990692\t17642.226169990696\t15415.516887448664\t2181.7448919360286\t44.96439060599523\n",
      "target angle:  0.3257615265454066\n",
      "0\t37776\t35625.9\t35625.9\t1\t0\n",
      "0.18450804542836852\t20954.499841895777\t20954.499841895777\t17959.94054313976\t2954.1125021262455\t40.44679662977439\n",
      "target angle:  0.3568873965516438\n",
      "0\t39942.1\t33944.7\t33944.7\t1\t0\n",
      "0.204640905298754\t24399.459938328386\t24399.459938328386\t20583.014409692496\t3779.84635457159\t36.59917406430009\n",
      "target angle:  0.38801326655788104\n",
      "0\t42121.2\t32004.2\t32004.2\t1\t0\n",
      "0.22495319505732517\t27959.640575319787\t27959.64057531979\t23298.371089717864\t4627.8959324302095\t33.37355317169725\n",
      "target angle:  0.4191391365641183\n",
      "0\t44511.8\t30112\t30112\t1\t0\n",
      "0.24540821489013837\t31623.70295913452\t31623.702959134513\t26119.562454112434\t5473.447716637708\t30.692788384385572\n",
      "target angle:  0.4502650065703555\n",
      "0\t47184.2\t28411.8\t28411.8\t1\t0\n",
      "0.2659776720041823\t35384.72426880547\t35384.72426880547\t29058.546572892432\t6297.7003800146485\t28.47731589837778\n",
      "target angle:  0.48139087657659274\n",
      "0\t50143.3\t26949.9\t26949.9\t1\t0\n",
      "0.2866394851546569\t39238.88821696678\t39238.88821696678\t32125.39439734537\t7086.8373333924255\t26.656486228982647\n",
      "target angle:  0.51251674658283\n",
      "0\t53368.7\t25723.9\t25723.9\t1\t0\n",
      "0.3073763329822002\t43184.55261826378\t43184.552618263784\t35328.486920517906\t7830.89372169933\t25.17197604653665\n",
      "target angle:  0.5436426165890672\n",
      "0\t56834\t24711.5\t24711.5\t1\t0\n",
      "0.32817466058780004\t47221.60921519282\t47221.60921519282\t38674.847769396576\t8522.783779199272\t23.977666596986772\n",
      "target angle:  0.5747684865953044\n",
      "0\t60515\t23884.4\t23884.4\t1\t0\n",
      "0.3490239712011263\t51351.05180757541\t51351.05180757544\t42170.466769675986\t9157.54682753678\t23.03821036266378\n",
      "target angle:  0.6058943566015417\n",
      "0\t64392.1\t23215.4\t23215.4\t1\t0\n",
      "0.3699163023363095\t55574.686985616354\t55574.68698561635\t45820.568826927425\t9731.790858310684\t22.32730037826794\n",
      "target angle:  0.6370202266077789\n",
      "0\t68450.4\t22680.8\t22680.8\t1\t0\n",
      "0.3908458269661741\t59894.94071080623\t59894.94071080623\t49629.82283330065\t10243.291826477085\t21.826051028493897\n",
      "target angle:  0.6681460966140161\n",
      "0\t72679.9\t22260.7\t22260.7\t1\t0\n",
      "0.4118085433281303\t64314.7289265772\t64314.7289265772\t53602.49906096769\t10690.708245101181\t21.521620508325974\n",
      "target angle:  0.6992719666202534\n",
      "0\t77073.8\t21939.2\t21939.2\t1\t0\n",
      "0.43280203022247193\t68837.37100843624\t68837.37100843624\t57742.586339591144\t11073.37858317468\t21.40608567042127\n",
      "target angle:  0.7303978366264906\n",
      "0\t81628.5\t21703.7\t21703.7\t1\t0\n",
      "0.45382525257469575\t73466.53208530738\t73466.5320853074\t62053.879252627776\t11391.17729787033\t21.475534809312176\n",
      "target angle:  0.7615237066327278\n",
      "0\t86342.9\t21544.5\t21544.5\t1\t0\n",
      "0.4748784069522582\t78206.18507876947\t78206.18507876947\t66540.04351428937\t11644.412233281293\t21.729331198814265\n",
      "target angle:  0.7926495766389651\n",
      "0\t91218.1\t21454.4\t21454.4\t1\t0\n",
      "0.49596279988330616\t83060.58651066327\t83060.58651066327\t71204.6656821991\t11833.751328325156\t22.169500138968097\n",
      "target angle:  0.8237754466452023\n",
      "0\t96256.7\t21428.2\t21428.2\t1\t0\n",
      "0.5170807539143928\t88034.26228803139\t88034.2622880314\t76051.2917472001\t11960.170344261547\t22.80019656973526\n",
      "target angle:  0.8549013166514395\n",
      "0\t101463\t21462.4\t21462.4\t1\t0\n",
      "0.5382355377809565\t93132.00117574839\t93132.00117574839\t81083.45796910569\t12024.915991787095\t23.627214855605764\n",
      "target angle:  0.8860271866576768\n",
      "0\t106844\t21555.1\t21555.1\t1\t0\n",
      "0.5594313181024642\t98358.85477354153\t98358.85477354153\t86304.71655238308\t12029.480714988405\t24.657506170080616\n",
      "target angle:  0.917153056663914\n",
      "0\t112406\t21705.7\t21705.7\t1\t0\n",
      "0.5806731308120764\t103720.14370764626\t103720.14370764623\t91718.65832414546\t11975.58671212312\t25.898671377675807\n",
      "target angle:  0.9482789266701512\n",
      "0\t118159\t21915.2\t21915.2\t1\t0\n",
      "0.6019668712277094\t109221.47056079569\t109221.47056079569\t97328.93444767874\t11865.177714146299\t27.358398970649205\n",
      "target angle:  0.9794047966763885\n",
      "0\t124114\t22185.5\t22185.5\t1\t0\n",
      "0.6233193023573007\t114868.740903403\t114868.740903403\t103139.27936004954\t11700.417724691895\t29.04381866152263\n",
      "target angle:  1.0105306666826257\n",
      "0\t130285\t22520.1\t22520.1\t1\t0\n",
      "0.6447380818281246\t120668.19474651827\t120668.19474651826\t109153.53756705957\t11483.696436795997\t30.960742662692695\n",
      "target angle:  1.041656536688863\n",
      "0\t136687\t22923.9\t22923.9\t1\t0\n",
      "0.6662318088835131\t126626.45190538526\t126626.45190538526\t115375.69768896567\t11217.64144680837\t33.11276961109391\n",
      "target angle:  1.0727824066951004\n",
      "0\t143339\t23403.1\t23403.1\t1\t0\n",
      "0.6878100944327962\t132750.5762373511\t132750.5762373511\t121809.93826784634\t10905.13773771429\t35.50023179043255\n",
      "target angle:  1.1039082767013377\n",
      "0\t150264\t23965.9\t23965.9\t1\t0\n",
      "0.70948365953583\t139048.16561008117\t139048.16561008117\t128460.69139795771\t10549.355232852638\t38.118979270766054\n",
      "target angle:  1.135034146707575\n",
      "0\t157489\t24622\t24622\t1\t0\n",
      "0.7312644714193741\t145527.4768931282\t145527.4768931282\t135332.73221720554\t10153.78566942691\t40.95900649580882\n",
      "target angle:  1.1661600167138124\n",
      "0\t165050\t25384\t25384\t1\t0\n",
      "0.7531659322452794\t152197.59841183107\t152197.59841183104\t142431.30498637448\t9722.290456295908\t44.00296916072488\n",
      "target angle:  1.1972858867200498\n",
      "0\t172988\t26266.8\t26266.8\t1\t0\n",
      "0.7752031450233456\t159068.68637976775\t159068.68637976772\t149762.29966978432\t9259.1620492555\t47.224660727817565\n",
      "target angle:  1.228411756726287\n",
      "0\t181356\t27289\t27289\t1\t0\n",
      "0.7973932952121281\t166152.2871782257\t166152.2871782257\t157332.49738580693\t8769.2022050263\t50.58758739248025\n",
      "target angle:  1.2595376267325245\n",
      "0\t190222\t28473.4\t28473.4\t1\t0\n",
      "0.8197562059462543\t173461.77453614303\t173461.77453614303\t165149.90908859437\t8257.821621190475\t54.043826358205294\n",
      "target angle:  1.2906634967387618\n",
      "0\t199674\t29848.4\t29848.4\t1\t0\n",
      "0.8423151490570904\t181012.94057787533\t181012.94057787536\t173224.2412677637\t7731.165893824083\t57.533416287495065\n",
      "target angle:  1.3217893667449991\n",
      "0\t209826\t31449.7\t31449.7\t1\t0\n",
      "0.8650980176339634\t188824.79360652994\t188824.79360652997\t181567.53813971067\t7196.27088319821\t60.98458362099971\n",
      "target angle:  1.3529152367512365\n",
      "0\t220832\t33321.7\t33321.7\t1\t0\n",
      "0.8881389756987188\t196920.63458330842\t196920.63458330842\t190195.0763460307\t6661.2430566208795\t64.31518065687321\n",
      "target angle:  1.3840411067574738\n",
      "0\t232896\t35519.8\t35519.8\t1\t0\n",
      "0.9114806727720807\t205329.5081755098\t205329.5081755098\t199126.62980183362\t6135.442514823272\t67.43585885294308\n",
      "target angle:  1.4151669767637112\n",
      "0\t246291\t38111.2\t38111.2\t1\t0\n",
      "0.9351770147281201\t214088.14763174855\t214088.14763174858\t208388.27676564068\t5629.615044767546\t70.25582134018804\n",
      "target angle:  1.4462928467699485\n",
      "0\t261386\t41173.8\t41173.8\t1\t0\n",
      "0.9592962959778667\t223243.54035080873\t223243.54035080867\t218014.9677692881\t5155.880037746623\t72.69254377395693\n",
      "target angle:  1.4774187167761859\n",
      "0\t278661\t44792.4\t44792.4\t1\t0\n",
      "0.9839242389059105\t232856.2048707598\t232856.2048707598\t228054.06142253446\t4727.456024995785\t74.68742322954019\n",
      "target angle:  1.5085445867824232\n",
      "0\t298737\t49049.1\t49049.1\t1\t0\n",
      "1.0091662258722314\t243004.15688270412\t243004.15688270412\t238569.89438274276\t4358.033239546073\t76.2292604152301\n",
      "target angle:  1.5396704567886605\n",
      "0\t322368\t54010.7\t54010.7\t1\t0\n",
      "1.0351478298035917\t253787.33763984567\t253787.33763984567\t249649.1423951118\t4060.8094021254615\t77.38584260834925\n",
      "target angle:  1.570796326794898\n",
      "0\t350423\t59711.9\t59711.9\t1\t0\n",
      "1.062012670803059\t265332.019047456\t265332.019047456\t261406.31915070908\t3847.359695112604\t78.34020163431143\n",
      "0\t265332\t2.97883e-05\t2.97883e-05\t0\t0\n"
     ]
    }
   ],
   "source": [
    "from open_linkage import open_linkage\n",
    "def equilibriumSolver(tgtAngle, l, opts, fv):\n",
    "    opts.beta = 1e-8\n",
    "    opts.gradTol = 1e-4\n",
    "    opts.useIdentityMetric = False\n",
    "    return elastic_rods.compute_equilibrium(l, tgtAngle, options=opts, fixedVars=fv)\n",
    "# open_linkage(l, driver, 2 * np.pi/3, 25, view, zPerturbationEpsilon=0, equilibriumSolver=equilibriumSolver, maxNewtonIterationsIntermediate=20, verbose=10, useTargetAngleConstraint=False);\n",
    "open_linkage(l, driver, np.deg2rad(90) - l.averageJointAngle, 50, view, zPerturbationEpsilon=0, equilibriumSolver=equilibriumSolver, maxNewtonIterationsIntermediate=20, verbose=10, useTargetAngleConstraint=True);"
   ]
  },
  {
   "cell_type": "code",
   "execution_count": null,
   "metadata": {},
   "outputs": [],
   "source": []
  },
  {
   "cell_type": "code",
   "execution_count": null,
   "metadata": {},
   "outputs": [],
   "source": []
  }
 ],
 "metadata": {
  "kernelspec": {
   "display_name": "Python 3",
   "language": "python",
   "name": "python3"
  },
  "language_info": {
   "codemirror_mode": {
    "name": "ipython",
    "version": 3
   },
   "file_extension": ".py",
   "mimetype": "text/x-python",
   "name": "python",
   "nbconvert_exporter": "python",
   "pygments_lexer": "ipython3",
   "version": "3.7.1"
  }
 },
 "nbformat": 4,
 "nbformat_minor": 2
}
