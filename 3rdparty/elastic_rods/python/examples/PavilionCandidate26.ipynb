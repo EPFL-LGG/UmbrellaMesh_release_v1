{
 "cells": [
  {
   "cell_type": "code",
   "execution_count": 4,
   "metadata": {},
   "outputs": [
    {
     "data": {
      "application/vnd.jupyter.widget-view+json": {
       "model_id": "53ba6d5644f84997a399da49e085ea91",
       "version_major": 2,
       "version_minor": 0
      },
      "text/plain": [
       "Renderer(camera=PerspectiveCamera(aspect=2.0, children=(DirectionalLight(color='white', intensity=0.6, positio…"
      ]
     },
     "metadata": {},
     "output_type": "display_data"
    }
   ],
   "source": [
    "import sys; sys.path.append('..')\n",
    "import numpy as np, elastic_rods\n",
    "from bending_validation import suppress_stdout\n",
    "from linkage_vis import LinkageViewer\n",
    "linkage_name = '20190605_135050_meshID_72e08a47-a70e-4b19-8b84-61afd61a4dd6'\n",
    "l = elastic_rods.RodLinkage('../../examples/florin/{}.obj'.format(linkage_name), 8)\n",
    "#driver=166\n",
    "driver=l.centralJoint()\n",
    "\n",
    "#mat = elastic_rods.RodMaterial('+', 2000, 0.3, [5, 5, 0.7, 0.7], stiffAxis=elastic_rods.StiffAxis.D1)\n",
    "mat = elastic_rods.RodMaterial('rectangle', 20000, 0.3, [12, 8])\n",
    "l.setMaterial(mat)\n",
    "\n",
    "with suppress_stdout(): elastic_rods.restlen_solve(l)\n",
    "jdo = l.dofOffsetForJoint(driver)\n",
    "fixedVars = list(range(jdo, jdo + 6)) # fix rigid motion for a single joint\n",
    "fixedVars.append(jdo + 6) # constrain angle at the driving joint\n",
    "with suppress_stdout(): elastic_rods.compute_equilibrium(l, fixedVars=fixedVars)\n",
    "\n",
    "view = LinkageViewer(l, width=1024, labelOffset=-0.5)\n",
    "#view.setCameraParams(((2.656451698624758, 1.5087349593639046, 0.23168476156681694),\n",
    "# (0.052583904614345374, 0.026224725204501566, 0.9982721055721517),\n",
    "# (0.13680349418553736, -0.13680349418553736, -0.8425278443781967)))\n",
    "view.show()"
   ]
  },
  {
   "cell_type": "code",
   "execution_count": 5,
   "metadata": {
    "jupyter": {
     "source_hidden": true
    }
   },
   "outputs": [],
   "source": [
    "l.saveVisualizationGeometry('deployed_{}.obj'.format(linkage_name))\n",
    "#l.writeLinkageDebugData('')"
   ]
  },
  {
   "cell_type": "code",
   "execution_count": 3,
   "metadata": {},
   "outputs": [],
   "source": [
    "from write_render_files import writeRenderFiles, writeActuators\n",
    "writeRenderFiles(l, 'Pavilion26', 'pav26')\n",
    "#writeActuators(l, np.where(torques > 1e-4)[0], directory='AsymPointyDataFlat', name='asymPointy_Fab')"
   ]
  },
  {
   "cell_type": "code",
   "execution_count": 10,
   "metadata": {
    "jupyter": {
     "source_hidden": true
    }
   },
   "outputs": [],
   "source": [
    "from linkage_utils import writeRodSegments\n",
    "writeRodSegments(l,'rod_segments_{}.txt'.format(linkage_name), zeroBasedIndexing=True)\n",
    "np.savetxt('restlen_{}.txt'.format(linkage_name),l.getPerSegmentRestLength())\n",
    "np.savetxt('normals_{}.txt'.format(linkage_name), np.array([j.normal for j in l.joints()]))\n",
    "l.writeLinkageDebugData('deployed_{}.msh'.format(linkage_name))"
   ]
  },
  {
   "cell_type": "code",
   "execution_count": 41,
   "metadata": {
    "collapsed": true,
    "jupyter": {
     "outputs_hidden": true,
     "source_hidden": true
    }
   },
   "outputs": [
    {
     "data": {
      "text/plain": [
       "24.37145054902055"
      ]
     },
     "execution_count": 41,
     "metadata": {},
     "output_type": "execute_result"
    }
   ],
   "source": [
    "# Compute maximum \"stress\" appearing at any rod vertex in the structure\n",
    "max([max(segmentStress) for segmentStress in l.rodStresses()[1]])"
   ]
  },
  {
   "cell_type": "code",
   "execution_count": null,
   "metadata": {
    "jupyter": {
     "source_hidden": true
    }
   },
   "outputs": [],
   "source": [
    "# Output actuation torque\n",
    "for forceScale in np.linspace(1.0, 0, 51):\n",
    "    name = 'Pavilion14_{}'.format(forceScale)\n",
    "    with suppress_stdout(): elastic_rods.compute_equilibrium(l, forceScale * externalForces, fixedVars=fixedVars)\n",
    "    view.update(preserveExisting=True)\n",
    "    writeRenderFiles(l, directory, name)\n",
    "    writeActuators(l, np.where(torques > 0.1)[0], directory, name)"
   ]
  },
  {
   "cell_type": "code",
   "execution_count": 44,
   "metadata": {
    "collapsed": true,
    "jupyter": {
     "outputs_hidden": true,
     "source_hidden": true
    }
   },
   "outputs": [
    {
     "data": {
      "text/plain": [
       "11.81760497978405"
      ]
     },
     "execution_count": 44,
     "metadata": {},
     "output_type": "execute_result"
    }
   ],
   "source": [
    "# Compute average \"stress\" appearing over all rod vertices in the structure\n",
    "np.mean(sum(l.rodStresses()[1], []))"
   ]
  },
  {
   "cell_type": "code",
   "execution_count": 5,
   "metadata": {},
   "outputs": [
    {
     "name": "stdout",
     "output_type": "stream",
     "text": [
      "target angle:  0.048057627610768754\n",
      "0\t3485.87\t15604.5\t15604.5\t1\t0\n",
      "CHOLMOD detected non-positive definite matrix!; increasing tau to 1e-08\n",
      "CHOLMOD detected non-positive definite matrix!; increasing tau to 4e-08\n",
      "CHOLMOD detected non-positive definite matrix!; increasing tau to 1.6e-07\n",
      "CHOLMOD detected non-positive definite matrix!; increasing tau to 6.4e-07\n",
      "CHOLMOD detected non-positive definite matrix!; increasing tau to 2.56e-06\n",
      "CHOLMOD detected non-positive definite matrix!; increasing tau to 1.024e-05\n",
      "CHOLMOD detected non-positive definite matrix!; increasing tau to 4.096e-05\n",
      "CHOLMOD detected non-positive definite matrix!; increasing tau to 0.00016384\n",
      "CHOLMOD detected non-positive definite matrix!; increasing tau to 0.00065536\n",
      "CHOLMOD detected non-positive definite matrix!; increasing tau to 0.00262144\n",
      "CHOLMOD detected non-positive definite matrix!; increasing tau to 0.0104858\n",
      "CHOLMOD detected non-positive definite matrix!; increasing tau to 0.041943\n",
      "CHOLMOD detected non-positive definite matrix!; increasing tau to 0.167772\n",
      "CHOLMOD detected non-positive definite matrix!; increasing tau to 0.671089\n",
      "CHOLMOD detected non-positive definite matrix!; increasing tau to 2.68435\n",
      "CHOLMOD detected non-positive definite matrix!; increasing tau to 1.34218\n",
      "CHOLMOD detected non-positive definite matrix!; increasing tau to 0.671089\n",
      "CHOLMOD detected non-positive definite matrix!; increasing tau to 0.335544\n",
      "CHOLMOD detected non-positive definite matrix!; increasing tau to 0.167772\n",
      "CHOLMOD detected non-positive definite matrix!; increasing tau to 0.0838861\n",
      "CHOLMOD detected non-positive definite matrix!; increasing tau to 0.335544\n",
      "CHOLMOD detected non-positive definite matrix!; increasing tau to 0.167772\n",
      "CHOLMOD detected non-positive definite matrix!; increasing tau to 0.0838861\n",
      "CHOLMOD detected non-positive definite matrix!; increasing tau to 0.335544\n",
      "Computing negative curvature direction for scaled tau = 4.85771e-09\n",
      "CHOLMOD detected non-positive definite matrix!; increasing tau to 0.167772\n",
      "10\t373.354\t6.21562\t6.21562\t1\t1\n",
      "20\t372.847\t0.0723115\t0.0723115\t1\t0\n",
      "0.027885563783333362\t372.8465989090039\t372.8465989090039\t324.59404969506\t0.1616244358589477\t48.09092477808496\n",
      "target angle:  0.0791339275941183\n",
      "0\t17722.5\t28066.7\t28066.7\t1\t0\n",
      "0.044476257546112605\t1107.488003642061\t1107.488003642061\t1039.572500068939\t5.163668079856173\t62.751835493265354\n",
      "target angle:  0.11021022757746785\n",
      "0\t8602.24\t19747.2\t19747.2\t1\t0\n",
      "Backtracking failed.\n",
      "0.06161505281198695\t2208.742874526404\t2208.742874526404\t2110.0966093968245\t26.278762181419403\t72.3675029481608\n",
      "target angle:  0.1412865275608174\n",
      "0\t10645.2\t20755.1\t20755.1\t1\t0\n",
      "0.07927899023909857\t3657.7064901254344\t3657.706490125434\t3497.713850601629\t82.94049173644508\t77.05214778736013\n",
      "target angle:  0.17236282754416693\n",
      "0\t13734.7\t22812\t22812\t1\t0\n",
      "0.0974878995012911\t5428.711627052788\t5428.711627052788\t5149.589219277339\t201.5815569673788\t77.54085080807137\n",
      "target angle:  0.20343912752751647\n",
      "0\t17448.9\t25379.8\t25379.8\t1\t0\n",
      "Backtracking failed.\n",
      "0.11622122684252027\t7488.94024456895\t7488.94024456895\t7004.087169672042\t409.85089151100055\t75.00218338590635\n",
      "target angle:  0.23451542751086601\n",
      "0\t21350.4\t27844\t27844\t1\t0\n",
      "Backtracking failed.\n",
      "0.1354185014419304\t9800.686724101235\t9800.686724101237\t9002.530778122575\t727.475893392551\t70.68005258611169\n",
      "target angle:  0.26559172749421556\n",
      "0\t24981.2\t29588.8\t29588.8\t1\t0\n",
      "0.15499979133112046\t12325.446188352525\t12325.446188352525\t11100.861362698135\t1158.9761060245414\t65.60871962985088\n",
      "target angle:  0.2966680274775651\n",
      "0\t28081.9\t30299.3\t30299.3\t1\t0\n",
      "Backtracking failed.\n",
      "0.17488639893432498\t15028.083531919845\t15028.083531919845\t13274.717223588315\t1692.8726730414649\t60.493635290069804\n",
      "target angle:  0.32774432746091464\n",
      "0\t30691.3\t30056.5\t30056.5\t1\t0\n",
      "0.19501235357435606\t17879.516947169166\t17879.516947169162\t15516.963084937606\t2306.822979292033\t55.730882939527724\n",
      "target angle:  0.3588206274442642\n",
      "0\t33022.2\t29168.8\t29168.8\t1\t0\n",
      "0.21532662833220875\t20857.50516559516\t20857.505165595165\t17831.563926458257\t2974.4483941766157\t51.492844960288274\n",
      "target angle:  0.3898969274276137\n",
      "0\t35294\t27963\t27963\t1\t0\n",
      "0.23579071688634176\t23946.08178822592\t23946.081788225925\t20227.79712686862\t3670.466273697895\t47.8183876594088\n",
      "target angle:  0.42097322741096327\n",
      "0\t37655.6\t26679\t26679\t1\t0\n",
      "0.25637533584413225\t27134.397577852935\t27134.39757785294\t22716.44709161062\t4373.270988215713\t44.679498026587204\n",
      "target angle:  0.4520495273943128\n",
      "0\t40182.8\t25457.1\t25457.1\t1\t0\n",
      "0.2770577746633161\t30415.500967651722\t30415.500967651722\t25307.864625790033\t5065.614655109048\t42.02168675264303\n",
      "target angle:  0.48312582737766235\n",
      "0\t42902.4\t24363.5\t24363.5\t1\t0\n",
      "0.29782009283587046\t33785.300322266725\t33785.300322266725\t28011.224483816044\t5734.290597502823\t39.785240947870186\n",
      "target angle:  0.5142021273610119\n",
      "0\t45816.1\t23419.4\t23419.4\t1\t0\n",
      "0.31864795315264655\t37241.767674260926\t37241.76767426092\t30834.400530568368\t6369.452173855331\t37.91496983721648\n",
      "target angle:  0.5452784273443615\n",
      "0\t48914.9\t22622.9\t22622.9\t1\t0\n",
      "0.33952986081820064\t40784.360934195785\t40784.36093419579\t33784.10158855779\t6963.895521178527\t36.363824459466535\n",
      "target angle:  0.5763547273277111\n",
      "0\t52187\t21961.8\t21961.8\t1\t0\n",
      "0.36045664944000316\t44413.61738248772\t44413.61738248772\t36866.08565505536\t7512.438166379296\t35.09356105309864\n",
      "target angle:  0.6074310273110607\n",
      "0\t55621.2\t21420.8\t21420.8\t1\t0\n",
      "0.38142111828725256\t48130.87244222294\t48130.87244222295\t40085.37235135603\t8011.425957340498\t34.07413352643354\n",
      "target angle:  0.6385073272944103\n",
      "0\t59208.8\t20984.4\t20984.4\t1\t0\n",
      "0.4024177656107596\t51938.06684425342\t51938.06684425344\t43446.42489232078\t8458.359306064398\t33.282645868246554\n",
      "target angle:  0.6695836272777599\n",
      "0\t62943.1\t20639.3\t20639.3\t1\t0\n",
      "0.4234425860402213\t55837.615035239825\t55837.61503523983\t46953.295925743245\t8851.616866677858\t32.70224281874255\n",
      "target angle:  0.7006599272611095\n",
      "0\t66820\t20373.9\t20373.9\t1\t0\n",
      "0.4444929130975045\t59832.31570407441\t59832.31570407441\t50609.740593133625\t9190.25402018321\t32.32109075762608\n",
      "target angle:  0.7317362272444591\n",
      "0\t70837.1\t20178.8\t20178.8\t1\t0\n",
      "0.46556729529773055\t63925.29127720911\t63925.29127720911\t54419.30279665387\t9473.856987606352\t32.13149294887369\n",
      "target angle:  0.7628125272278087\n",
      "0\t74993.9\t20046.8\t20046.8\t1\t0\n",
      "0.4866653986787712\t68119.9474814912\t68119.9474814912\t58385.38068699433\t9702.43765945249\t32.129135044386565\n",
      "target angle:  0.7938888272111583\n",
      "0\t79291.4\t19972.2\t19972.2\t1\t0\n",
      "0.5077879312953515\t72419.94703756794\t72419.94703756794\t62511.27653542575\t9876.358065057164\t32.312437085016654\n",
      "target angle:  0.8249651271945079\n",
      "0\t83732\t19950.8\t19950.8\t1\t0\n",
      "0.5289365869368373\t76829.1936194276\t76829.1936194276\t66800.23515623713\t9996.276481510708\t32.68198167977406\n",
      "target angle:  0.8560414271778575\n",
      "0\t88319.2\t19980\t19980\t1\t0\n",
      "0.5501140064965202\t81351.823696474\t81351.82369647399\t71255.47418781764\t10063.109521640883\t33.239987015476885\n",
      "target angle:  0.8871177271612071\n",
      "0\t93057.7\t20058.2\t20058.2\t1\t0\n",
      "0.5713237562722261\t85992.20498485383\t85992.20498485383\t75880.20891435565\t10078.006276319838\t33.98979417826163\n",
      "target angle:  0.9181940271445567\n",
      "0\t97953.4\t20184.9\t20184.9\t1\t0\n",
      "0.5925703231496051\t90754.94113632491\t90754.94113632491\t80677.67393400968\t10042.33186273858\t34.93533957669039\n",
      "target angle:  0.9492703271279063\n",
      "0\t103013\t20360.6\t20360.6\t1\t0\n",
      "0.6138591272279328\t95644.88310871077\t95644.88310871075\t85651.14385178649\t9957.658672590209\t36.08058433403732\n",
      "target angle:  0.9803466271112559\n",
      "0\t108246\t20587\t20587\t1\t0\n",
      "0.6351965530632092\t100667.14849156621\t100667.14849156619\t90803.95529630336\t9825.764321470255\t37.42887379257956\n",
      "target angle:  1.0114229270946054\n",
      "0\t113662\t20866.6\t20866.6\t1\t0\n",
      "0.6565900013976853\t105827.15099339285\t105827.15099339285\t96139.53294112335\t9648.635850431465\t38.98220183813324\n",
      "target angle:  1.042499227077955\n",
      "0\t119272\t21203.2\t21203.2\t1\t0\n",
      "0.6780479641051694\t111130.64341785284\t111130.64341785284\t101661.42287730254\t9428.480182452844\t40.74035809750212\n",
      "target angle:  1.0735755270613045\n",
      "0\t125091\t21601.4\t21601.4\t1\t0\n",
      "0.6995801262047259\t116583.77885886241\t116583.77885886241\t107373.33767514756\t9167.741241697488\t42.699942017308814\n",
      "target angle:  1.1046518270446541\n",
      "0\t131135\t22067.4\t22067.4\t1\t0\n",
      "0.7211975003635048\t122193.19662670622\t122193.19662670622\t113279.21883877562\t8869.124549234599\t44.853238696071806\n",
      "target angle:  1.1357281270280037\n",
      "0\t137423\t22608.6\t22608.6\t1\t0\n",
      "0.7429126015601257\t127966.14169764353\t127966.14169764351\t119383.32416336607\t8535.630565265557\t47.18696901193224\n",
      "target angle:  1.1668044270113533\n",
      "0\t143980\t23234.1\t23234.1\t1\t0\n",
      "0.7647396729556374\t133910.6293994747\t133910.62939947468\t125690.34983860637\t8170.598607437941\t49.68095343045477\n",
      "target angle:  1.197880726994703\n",
      "0\t150836\t23954.9\t23954.9\t1\t0\n",
      "0.7866949791611483\t140035.67079629953\t140035.67079629953\t132205.60016674554\t7777.76386133501\t52.30676821904334\n",
      "target angle:  1.2289570269780525\n",
      "0\t158027\t24784.4\t24784.4\t1\t0\n",
      "0.8087971907999902\t146351.57910284592\t146351.57910284595\t138935.22176845474\t7361.330817613777\t55.02651677745555\n",
      "target angle:  1.2600333269614021\n",
      "0\t165599\t25738.9\t25738.9\t1\t0\n",
      "Backtracking failed.\n",
      "0.831067895701374\t152870.38389852198\t152870.38389852198\t145886.5249404622\t6926.067057679715\t57.791900380093054\n",
      "target angle:  1.2911096269447517\n",
      "0\t173610\t26838.9\t26838.9\t1\t0\n",
      "0.8535322873676435\t159606.38864352027\t159606.38864352027\t153068.42381337695\t6477.4210077449225\t60.54382239844431\n",
      "target angle:  1.3221859269281013\n",
      "0\t182137\t28110.1\t28110.1\t1\t0\n",
      "Backtracking failed.\n",
      "0.8762200992356801\t166576.9189906837\t166576.91899068374\t160492.04202862384\t6021.664133847324\t63.212828212482144\n",
      "target angle:  1.353262226911451\n",
      "0\t191279\t29584.8\t29584.8\t1\t0\n",
      "Backtracking failed.\n",
      "0.8991668664445619\t173803.32539194735\t173803.32539194735\t168171.55545718526\t5566.049225947093\t65.72070881496491\n",
      "target angle:  1.3843385268948005\n",
      "0\t201168\t31304.1\t31304.1\t1\t0\n",
      "0.9224155919993134\t181312.3225059436\t181312.32250594356\t176125.38143191743\t5118.957271922575\t67.98380210345483\n",
      "target angle:  1.4154148268781501\n",
      "0\t211980\t33318.6\t33318.6\t1\t0\n",
      "0.9460188452854182\t189137.76382427622\t189137.76382427622\t184377.8695232867\t4689.97554672994\t69.91875425957565\n",
      "target angle:  1.4464911268614997\n",
      "0\t223944\t35685.6\t35685.6\t1\t0\n",
      "0.9700412036369768\t197322.94705809676\t197322.94705809676\t192961.67855005924\t4289.816670466203\t71.4518375713372\n",
      "target angle:  1.4775674268448493\n",
      "0\t237357\t38466.9\t38466.9\t1\t0\n",
      "0.9945617586190226\t205923.49750441057\t205923.49750441057\t201920.98689879294\t3929.9770566975553\t72.53354891999138\n",
      "target angle:  1.508643726828199\n",
      "0\t252590\t41718.5\t41718.5\t1\t0\n",
      "1.0196761695332148\t215010.75552504184\t215010.75552504187\t211315.5132591373\t3622.082610795271\t73.15965510924875\n",
      "target angle:  1.5397200268115485\n",
      "0\t270081\t45478.1\t45478.1\t1\t0\n",
      "1.045497508470764\t224675.3990971502\t224675.3990971502\t221225.01083910154\t3376.990021438021\t73.39823661066994\n",
      "target angle:  1.5707963267948981\n",
      "0\t290315\t49751.1\t49751.1\t1\t0\n",
      "1.0721549254474196\t235030.81459980883\t235030.81459980883\t231753.54344313996\t3203.8523210181897\t73.41883565068234\n",
      "0\t235031\t9.45658e-06\t9.45658e-06\t0\t0\n"
     ]
    }
   ],
   "source": [
    "from open_linkage import open_linkage\n",
    "def equilibriumSolver(tgtAngle, l, opts, fv):\n",
    "    opts.beta = 1e-8\n",
    "    opts.gradTol = 1e-4\n",
    "    opts.useIdentityMetric = False\n",
    "    return elastic_rods.compute_equilibrium(l, tgtAngle, options=opts, fixedVars=fv)\n",
    "# open_linkage(l, driver, 2 * np.pi/3, 25, view, zPerturbationEpsilon=0, equilibriumSolver=equilibriumSolver, maxNewtonIterationsIntermediate=20, verbose=10, useTargetAngleConstraint=False);\n",
    "open_linkage(l, driver, np.deg2rad(90) - l.averageJointAngle, 50, view, zPerturbationEpsilon=0, equilibriumSolver=equilibriumSolver, maxNewtonIterationsIntermediate=20, verbose=10, useTargetAngleConstraint=True);"
   ]
  },
  {
   "cell_type": "code",
   "execution_count": null,
   "metadata": {},
   "outputs": [],
   "source": []
  },
  {
   "cell_type": "code",
   "execution_count": null,
   "metadata": {},
   "outputs": [],
   "source": []
  }
 ],
 "metadata": {
  "kernelspec": {
   "display_name": "Python 3",
   "language": "python",
   "name": "python3"
  },
  "language_info": {
   "codemirror_mode": {
    "name": "ipython",
    "version": 3
   },
   "file_extension": ".py",
   "mimetype": "text/x-python",
   "name": "python",
   "nbconvert_exporter": "python",
   "pygments_lexer": "ipython3",
   "version": "3.7.1"
  }
 },
 "nbformat": 4,
 "nbformat_minor": 2
}
