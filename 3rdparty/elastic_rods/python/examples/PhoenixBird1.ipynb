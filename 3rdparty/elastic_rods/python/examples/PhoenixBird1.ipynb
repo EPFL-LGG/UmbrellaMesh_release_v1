{
 "cells": [
  {
   "cell_type": "code",
   "execution_count": 17,
   "metadata": {},
   "outputs": [
    {
     "data": {
      "application/vnd.jupyter.widget-view+json": {
       "model_id": "5b98454a955344fdb0b62155d68dbabd",
       "version_major": 2,
       "version_minor": 0
      },
      "text/plain": [
       "Renderer(camera=PerspectiveCamera(aspect=2.0, children=(DirectionalLight(color='white', intensity=0.6, positio…"
      ]
     },
     "metadata": {},
     "output_type": "display_data"
    }
   ],
   "source": [
    "import sys; sys.path.append('..')\n",
    "import numpy as np, elastic_rods\n",
    "from bending_validation import suppress_stdout\n",
    "from linkage_vis import LinkageViewer\n",
    "linkage_name = '20190423_124008_meshID_eda3dc22-761b-4e24-8b5c-f7f7bab1641e'\n",
    "l = elastic_rods.RodLinkage('../../examples/florin/{}.obj'.format(linkage_name), 8)\n",
    "#driver=166\n",
    "driver=l.centralJoint()\n",
    "\n",
    "#mat = elastic_rods.RodMaterial('+', 2000, 0.3, [5, 5, 0.7, 0.7], stiffAxis=elastic_rods.StiffAxis.D1)\n",
    "mat = elastic_rods.RodMaterial('rectangle', 20000, 0.3, [12, 8])\n",
    "l.setMaterial(mat)\n",
    "\n",
    "with suppress_stdout(): elastic_rods.restlen_solve(l)\n",
    "jdo = l.dofOffsetForJoint(driver)\n",
    "fixedVars = list(range(jdo, jdo + 6)) # fix rigid motion for a single joint\n",
    "fixedVars.append(jdo + 6) # constrain angle at the driving joint\n",
    "with suppress_stdout(): elastic_rods.compute_equilibrium(l, fixedVars=fixedVars)\n",
    "\n",
    "view = LinkageViewer(l, width=1024, labelOffset=-0.5)\n",
    "#view.setCameraParams(((2.656451698624758, 1.5087349593639046, 0.23168476156681694),\n",
    "# (0.052583904614345374, 0.026224725204501566, 0.9982721055721517),\n",
    "# (0.13680349418553736, -0.13680349418553736, -0.8425278443781967)))\n",
    "view.show()"
   ]
  },
  {
   "cell_type": "code",
   "execution_count": 5,
   "metadata": {},
   "outputs": [],
   "source": [
    "l.saveVisualizationGeometry('deployed_{}.obj'.format(linkage_name))\n",
    "#l.writeLinkageDebugData('')"
   ]
  },
  {
   "cell_type": "code",
   "execution_count": 14,
   "metadata": {},
   "outputs": [],
   "source": [
    "from write_render_files import writeRenderFiles, writeActuators\n",
    "writeRenderFiles(l, 'Pavilion12', 'pav12')\n",
    "#writeActuators(l, np.where(torques > 1e-4)[0], directory='AsymPointyDataFlat', name='asymPointy_Fab')"
   ]
  },
  {
   "cell_type": "code",
   "execution_count": 10,
   "metadata": {},
   "outputs": [],
   "source": [
    "from linkage_utils import writeRodSegments\n",
    "writeRodSegments(l,'rod_segments_{}.txt'.format(linkage_name), zeroBasedIndexing=True)\n",
    "np.savetxt('restlen_{}.txt'.format(linkage_name),l.getPerSegmentRestLength())\n",
    "np.savetxt('normals_{}.txt'.format(linkage_name), np.array([j.normal for j in l.joints()]))\n",
    "l.writeLinkageDebugData('deployed_{}.msh'.format(linkage_name))"
   ]
  },
  {
   "cell_type": "code",
   "execution_count": 41,
   "metadata": {},
   "outputs": [
    {
     "data": {
      "text/plain": [
       "24.37145054902055"
      ]
     },
     "execution_count": 41,
     "metadata": {},
     "output_type": "execute_result"
    }
   ],
   "source": [
    "# Compute maximum \"stress\" appearing at any rod vertex in the structure\n",
    "max([max(segmentStress) for segmentStress in l.rodStresses()[1]])"
   ]
  },
  {
   "cell_type": "code",
   "execution_count": null,
   "metadata": {},
   "outputs": [],
   "source": [
    "# Output actuation torque\n",
    "for forceScale in np.linspace(1.0, 0, 51):\n",
    "    name = 'Pavilion14_{}'.format(forceScale)\n",
    "    with suppress_stdout(): elastic_rods.compute_equilibrium(l, forceScale * externalForces, fixedVars=fixedVars)\n",
    "    view.update(preserveExisting=True)\n",
    "    writeRenderFiles(l, directory, name)\n",
    "    writeActuators(l, np.where(torques > 0.1)[0], directory, name)"
   ]
  },
  {
   "cell_type": "code",
   "execution_count": 44,
   "metadata": {},
   "outputs": [
    {
     "data": {
      "text/plain": [
       "11.81760497978405"
      ]
     },
     "execution_count": 44,
     "metadata": {},
     "output_type": "execute_result"
    }
   ],
   "source": [
    "# Compute average \"stress\" appearing over all rod vertices in the structure\n",
    "np.mean(sum(l.rodStresses()[1], []))"
   ]
  },
  {
   "cell_type": "code",
   "execution_count": 18,
   "metadata": {},
   "outputs": [
    {
     "name": "stdout",
     "output_type": "stream",
     "text": [
      "target angle:  0.07571891250918922\n",
      "0\t43296\t37301.9\t37301.9\t1\t0\n",
      "0.12497019686802997\t1691.6497642037625\t1691.6497642037625\t1596.7338681870235\t3.846255080780923e-22\t94.91589601673837\n",
      "target angle:  0.10266880004156216\n",
      "0\t12261.9\t16865.9\t16865.9\t1\t0\n",
      "0.16736157868295573\t3204.071293359582\t3204.0712933595814\t3080.7732779689545\t7.13667371184719e-22\t123.29801539062747\n",
      "target angle:  0.1296186875739351\n",
      "0\t14223.6\t16835.5\t16835.5\t1\t0\n",
      "0.21004831425178255\t5192.970897784395\t5192.970897784396\t5046.881096743338\t1.1417445929720424e-21\t146.08980104105845\n",
      "target angle:  0.15656857510630806\n",
      "0\t16720.6\t16866.3\t16866.3\t1\t0\n",
      "0.2528955519216086\t7658.831855966893\t7658.831855966895\t7494.658064946696\t1.6651542658492635e-21\t164.17379102019618\n",
      "target angle:  0.18351846263868102\n",
      "0\t19741.7\t16940.4\t16940.4\t1\t0\n",
      "0.29581875680101144\t10603.767239993542\t10603.767239993542\t10425.097200079297\t2.2881509738339926e-21\t178.67003991424625\n",
      "target angle:  0.21046835017105398\n",
      "0\t23283.2\t17049.8\t17049.8\t1\t0\n",
      "0.33876823938524514\t14031.242352560923\t14031.242352560923\t13840.70411268515\t2.9971265614027643e-21\t190.53823987575447\n",
      "target angle:  0.23741823770342693\n",
      "0\t27345.3\t17190\t17190\t1\t0\n",
      "0.3817134079462961\t17945.856271389093\t17945.856271389093\t17745.353914795873\t3.800749375327728e-21\t200.50235659322402\n",
      "target angle:  0.2643681252357999\n",
      "0\t31931.4\t17358.2\t17358.2\t1\t0\n",
      "0.42463364029147393\t22353.208641761146\t22353.208641761143\t22144.123321288833\t4.692979215658274e-21\t209.08532047229784\n",
      "target angle:  0.2913180127681728\n",
      "0\t37047.3\t17553.4\t17553.4\t1\t0\n",
      "0.46751349883448107\t27259.82851223323\t27259.82851223323\t27043.16657094948\t5.671471767051479e-21\t216.66194128373843\n",
      "target angle:  0.31826790030054575\n",
      "0\t42700.6\t17775.1\t17775.1\t1\t0\n",
      "0.5103402330962097\t32673.14231458082\t32673.142314580815\t32449.63855497877\t6.74011049293948e-21\t223.50375960204673\n",
      "target angle:  0.3452177878329187\n",
      "0\t48900.7\t18023.5\t18023.5\t1\t0\n",
      "0.5531024347196817\t38601.4660164806\t38601.46601648059\t38371.65409860111\t7.905567357887242e-21\t229.81191787947068\n",
      "target angle:  0.3721676753652916\n",
      "0\t55658.2\t18299.2\t18299.2\t1\t0\n",
      "0.5957892766912996\t45054.01265792486\t45054.01265792486\t44818.272663890835\t9.18296164172435e-21\t235.73999403403053\n",
      "target angle:  0.39911756289766454\n",
      "0\t62985.2\t18603.1\t18603.1\t1\t0\n",
      "0.6383900557754689\t52040.910288793915\t52040.910288793915\t51799.50074403439\t1.0574747431508963e-20\t241.40954475951935\n",
      "target angle:  0.42606745043003746\n",
      "0\t70895.2\t18936.2\t18936.2\t1\t0\n",
      "0.6808938969160154\t59573.22752211485\t59573.227522114845\t59326.30687955055\t1.2100815855504135e-20\t246.92064256431345\n",
      "target angle:  0.4530173379624104\n",
      "0\t79402.8\t19299.9\t19299.9\t1\t0\n",
      "0.7232895466081938\t67663.00516788485\t67663.00516788485\t67410.64610388382\t1.3796790076987252e-20\t252.35906400101453\n",
      "target angle:  0.4799672254947833\n",
      "0\t88524.2\t19695.6\t19695.6\t1\t0\n",
      "0.7655652164057591\t76323.29312613685\t76323.29312613685\t76065.49185720882\t1.5731494443465904e-20\t257.80126892800695\n",
      "target angle:  0.5069171130271563\n",
      "0\t98277\t20124.9\t20124.9\t1\t0\n",
      "0.8077084553280289\t85568.19212919666\t85568.19212919666\t85304.87419352944\t1.795999668454828e-20\t263.31793566718414\n",
      "target angle:  0.5338670005595292\n",
      "0\t108680\t20589.7\t20589.7\t1\t0\n",
      "0.8497060394280277\t95412.90016162195\t95412.90016162195\t95143.92360197009\t2.0616227100582515e-20\t268.9765596518751\n",
      "target angle:  0.5608168880919021\n",
      "0\t119755\t21091.9\t21091.9\t1\t0\n",
      "0.8915438721001381\t105873.76352333298\t105873.76352333298\t105598.92007186488\t2.388464723640252e-20\t274.8434514681284\n",
      "target angle:  0.587766775624275\n",
      "0\t131523\t21633.7\t21633.7\t1\t0\n",
      "0.9332068919300931\t116968.33257791687\t116968.33257791688\t116687.34722083974\t2.814522858262718e-20\t280.9853570771158\n",
      "target angle:  0.614716663156648\n",
      "0\t144008\t22217.6\t22217.6\t1\t0\n",
      "0.97467898697996\t128715.42226494188\t128715.42226494188\t128427.95141562523\t3.398858678297604e-20\t287.4708493167039\n",
      "target angle:  0.6416665506890209\n",
      "0\t157238\t22846.1\t22846.1\t1\t0\n",
      "1.0159429159653546\t141135.17746576478\t141135.17746576475\t140840.80587417618\t4.260272094551255e-20\t294.3715915886177\n",
      "target angle:  0.6686164382213938\n",
      "0\t171240\t23522\t23522\t1\t0\n",
      "1.0569802380694808\t154249.14330357529\t154249.1433035753\t153947.37976033404\t5.671340884621071e-20\t301.7635432413071\n",
      "target angle:  0.6955663257537668\n",
      "0\t186044\t24248.5\t24248.5\t1\t0\n",
      "1.0977712543253249\t168080.34043480636\t168080.34043480636\t167770.61227982558\t8.310435708213847e-20\t309.7281549807735\n",
      "target angle:  0.7225162132861397\n",
      "0\t201683\t25028.7\t25028.7\t1\t0\n",
      "1.138294964704347\t182653.34535460654\t182653.34535460654\t182334.99176627374\t1.4426316860939845e-19\t318.35358833268685\n",
      "target angle:  0.7494661008185126\n",
      "0\t218192\t25866.3\t25866.3\t1\t0\n",
      "1.1785290462503157\t197994.3756975958\t197994.37569759577\t197666.63971531016\t3.5296955530775295e-19\t327.7359822857372\n",
      "target angle:  0.7764159883508855\n",
      "0\t235609\t26765.1\t26765.1\t1\t0\n",
      "1.218449858843499\t214131.3804724058\t214131.38047240584\t213793.39969083443\t2.4927245867209336e-18\t337.9807815713808\n",
      "target angle:  0.8033658758832585\n",
      "0\t253973\t27729.1\t27729.1\t1\t0\n",
      "CHOLMOD detected non-positive definite matrix!; increasing tau to 1e-08\n",
      "CHOLMOD detected non-positive definite matrix!; increasing tau to 4e-08\n",
      "CHOLMOD detected non-positive definite matrix!; increasing tau to 1.6e-07\n",
      "CHOLMOD detected non-positive definite matrix!; increasing tau to 6.4e-07\n",
      "CHOLMOD detected non-positive definite matrix!; increasing tau to 2.56e-06\n",
      "CHOLMOD detected non-positive definite matrix!; increasing tau to 1.024e-05\n",
      "CHOLMOD detected non-positive definite matrix!; increasing tau to 4.096e-05\n",
      "CHOLMOD detected non-positive definite matrix!; increasing tau to 0.00016384\n",
      "CHOLMOD detected non-positive definite matrix!; increasing tau to 0.00065536\n",
      "CHOLMOD detected non-positive definite matrix!; increasing tau to 0.00262144\n",
      "CHOLMOD detected non-positive definite matrix!; increasing tau to 0.0104858\n",
      "CHOLMOD detected non-positive definite matrix!; increasing tau to 0.041943\n",
      "CHOLMOD detected non-positive definite matrix!; increasing tau to 0.167772\n",
      "CHOLMOD detected non-positive definite matrix!; increasing tau to 0.0838861\n",
      "CHOLMOD detected non-positive definite matrix!; increasing tau to 0.335544\n",
      "CHOLMOD detected non-positive definite matrix!; increasing tau to 0.167772\n",
      "CHOLMOD detected non-positive definite matrix!; increasing tau to 0.0838861\n",
      "CHOLMOD detected non-positive definite matrix!; increasing tau to 0.335544\n",
      "Computing negative curvature direction for scaled tau = 1.92716e-08\n",
      "CHOLMOD detected non-positive definite matrix!; increasing tau to 0.167772\n",
      "CHOLMOD detected non-positive definite matrix!; increasing tau to 0.0838861\n",
      "10\t231094\t33.2414\t33.2414\t0.25\t0\n",
      "20\t231090\t396.302\t396.302\t0.5\t0\n",
      "1.2579082323965485\t231090.49359573223\t231090.49359573223\t230515.06176538495\t229.628095030767\t345.8037353164941\n",
      "target angle:  0.8303157634156314\n",
      "0\t272379\t28388.4\t28388.4\t1\t0\n",
      "CHOLMOD detected non-positive definite matrix!; increasing tau to 1e-08\n",
      "CHOLMOD detected non-positive definite matrix!; increasing tau to 4e-08\n",
      "CHOLMOD detected non-positive definite matrix!; increasing tau to 1.6e-07\n",
      "CHOLMOD detected non-positive definite matrix!; increasing tau to 6.4e-07\n",
      "CHOLMOD detected non-positive definite matrix!; increasing tau to 2.56e-06\n",
      "CHOLMOD detected non-positive definite matrix!; increasing tau to 1.024e-05\n",
      "CHOLMOD detected non-positive definite matrix!; increasing tau to 4.096e-05\n",
      "CHOLMOD detected non-positive definite matrix!; increasing tau to 0.00016384\n",
      "CHOLMOD detected non-positive definite matrix!; increasing tau to 0.00065536\n",
      "CHOLMOD detected non-positive definite matrix!; increasing tau to 0.00262144\n",
      "CHOLMOD detected non-positive definite matrix!; increasing tau to 0.0104858\n",
      "CHOLMOD detected non-positive definite matrix!; increasing tau to 0.041943\n",
      "CHOLMOD detected non-positive definite matrix!; increasing tau to 0.167772\n",
      "CHOLMOD detected non-positive definite matrix!; increasing tau to 0.671089\n",
      "10\t248814\t1176.93\t1176.93\t1\t0\n",
      "20\t248678\t356.094\t356.094\t1\t0\n",
      "1.2949539647562045\t248677.8145991324\t248677.8145991324\t243883.4102545373\t4447.440270019794\t346.96407457517176\n",
      "target angle:  0.8572656509480043\n",
      "0\t285373\t33889.8\t33889.8\t1\t0\n",
      "10\t266703\t572.537\t572.537\t1\t0\n",
      "20\t266604\t86.6014\t86.6014\t1\t0\n",
      "1.3277918780198124\t266603.67517338623\t266603.67517338623\t250039.20399350874\t16230.709690734311\t333.76148914322556\n",
      "target angle:  0.8842155384803773\n",
      "0\t301148\t47956.3\t47956.3\t1\t0\n",
      "10\t285168\t0.000517781\t0.000517781\t0.5\t0\n",
      "Backtracking failed.\n",
      "1.3626665280691828\t285167.6099671156\t285167.6099671157\t260589.00358867104\t24246.385760984904\t332.2206174598746\n",
      "target angle:  0.9111654260127502\n",
      "0\t328541\t62087.2\t62087.2\t1\t0\n",
      "1.39749084749603\t304274.92632893263\t304274.92632893263\t271690.59291669127\t32251.537172710192\t332.7962395313466\n",
      "target angle:  0.9381153135451231\n",
      "0\t341755\t52034\t52034\t1\t0\n",
      "1.4320296270692958\t323934.1401290582\t323934.1401290582\t282941.4583406279\t40657.745412869444\t334.93637556071525\n",
      "target angle:  0.965065201077496\n",
      "0\t358794\t45875.8\t45875.8\t1\t0\n",
      "1.4662802963361883\t344156.02434258745\t344156.0243425874\t294360.7080793639\t49456.78502885432\t338.5312343693014\n",
      "target angle:  0.992015088609869\n",
      "0\t377844\t41789.9\t41789.9\t1\t0\n",
      "1.500239150864977\t364952.26974759036\t364952.26974759036\t305968.7545890719\t58640.0211777154\t343.49398080296686\n",
      "target angle:  1.018964976142242\n",
      "0\t398221\t38937.8\t38937.8\t1\t0\n",
      "1.5339011686904491\t386335.45364404714\t386335.4536440471\t317787.7259551159\t68197.97082412842\t349.75686480293746\n",
      "target angle:  1.045914863674615\n",
      "0\t419622\t36879.6\t36879.6\t1\t0\n",
      "1.5672600062336994\t408319.02625810856\t408319.02625810856\t329841.76590288297\t78119.99211258593\t357.26824263968723\n",
      "target angle:  1.072864751206988\n",
      "0\t441901\t35361.6\t35361.6\t1\t0\n",
      "1.6003081321699233\t430917.3088461632\t430917.3088461632\t342157.2215620437\t88394.09715560956\t365.9901285100707\n",
      "target angle:  1.099814638739361\n",
      "0\t464986\t34227.1\t34227.1\t1\t0\n",
      "1.6330370614027097\t454145.49822267465\t454145.4982226747\t354762.72580306436\t99006.87635222213\t375.8960673881029\n",
      "target angle:  1.126764526271734\n",
      "0\t488838\t33374\t33374\t1\t0\n",
      "1.665437653296528\t478019.67328291247\t478019.67328291247\t367689.18896903447\t109943.51509785042\t386.9692160275855\n",
      "target angle:  1.153714413804107\n",
      "0\t513443\t32732.7\t32732.7\t1\t0\n",
      "1.697500441215676\t502556.80006507796\t502556.8000650779\t380969.72155025974\t121187.8779462292\t399.200568589122\n",
      "target angle:  1.1806643013364801\n",
      "0\t538797\t32254.4\t32254.4\t1\t0\n",
      "Backtracking failed.\n",
      "1.7292159707482633\t527774.7328946317\t527774.7328946318\t394639.5288787308\t132722.61672308057\t412.58729282081043\n",
      "target angle:  1.2076141888688532\n",
      "0\t564903\t31903.6\t31903.6\t1\t0\n",
      "1.760575078151307\t553692.2100366242\t553692.2100366241\t408735.69922363036\t144529.37976450412\t427.1310484896984\n",
      "target angle:  1.2345640764012262\n",
      "0\t591771\t31653.8\t31653.8\t1\t0\n",
      "1.791569223560222\t580328.8429123457\t580328.8429123457\t423297.2327039919\t156588.77375827945\t442.83645007462553\n",
      "target angle:  1.2615139639335993\n",
      "0\t619413\t31485.2\t31485.2\t1\t0\n",
      "1.8221906427710028\t607705.0981719678\t607705.0981719678\t438364.8075867541\t168880.5814260354\t459.7091591780018\n",
      "target angle:  1.2884638514659723\n",
      "0\t647845\t31382.3\t31382.3\t1\t0\n",
      "1.8524325295895236\t635842.2715857525\t635842.2715857525\t453980.84581886855\t181383.67196766275\t477.75379922084664\n",
      "target angle:  1.3154137389983453\n",
      "0\t677085\t31333.1\t31333.1\t1\t0\n",
      "1.882289108206747\t664762.4515614014\t664762.4515614015\t470189.59008546756\t194075.89035314618\t496.97112278773744\n",
      "target angle:  1.3423636265307184\n",
      "0\t707157\t31329.3\t31329.3\t1\t0\n",
      "1.9117556374499358\t694488.4676519388\t694488.4676519388\t487037.32596498815\t206933.7877203693\t517.3539665812307\n",
      "target angle:  1.3693135140630914\n",
      "0\t738089\t31367.7\t31367.7\t1\t0\n",
      "1.940828352858173\t725043.8149610006\t725043.8149610006\t504572.7275403598\t219932.20626635407\t538.8811542869511\n",
      "target angle:  1.3962634015954645\n",
      "0\t769924\t31455.2\t31455.2\t1\t0\n",
      "1.969504409476775\t756452.538167069\t756452.538167069\t522847.186740225\t233043.84307808804\t561.5083487558633\n",
      "0\t756453\t3.82437e-05\t3.82437e-05\t0\t0\n"
     ]
    }
   ],
   "source": [
    "from open_linkage import open_linkage\n",
    "def equilibriumSolver(tgtAngle, l, opts, fv):\n",
    "    opts.beta = 1e-8\n",
    "    opts.gradTol = 1e-4\n",
    "    opts.useIdentityMetric = False\n",
    "    return elastic_rods.compute_equilibrium(l, tgtAngle, options=opts, fixedVars=fv)\n",
    "# open_linkage(l, driver, 2 * np.pi/3, 25, view, zPerturbationEpsilon=0, equilibriumSolver=equilibriumSolver, maxNewtonIterationsIntermediate=20, verbose=10, useTargetAngleConstraint=False);\n",
    "open_linkage(l, driver, np.deg2rad(80) - l.averageJointAngle, 50, view, zPerturbationEpsilon=0, equilibriumSolver=equilibriumSolver, maxNewtonIterationsIntermediate=20, verbose=10, useTargetAngleConstraint=True);"
   ]
  },
  {
   "cell_type": "code",
   "execution_count": null,
   "metadata": {},
   "outputs": [],
   "source": []
  },
  {
   "cell_type": "code",
   "execution_count": null,
   "metadata": {},
   "outputs": [],
   "source": []
  }
 ],
 "metadata": {
  "kernelspec": {
   "display_name": "Python 3",
   "language": "python",
   "name": "python3"
  },
  "language_info": {
   "codemirror_mode": {
    "name": "ipython",
    "version": 3
   },
   "file_extension": ".py",
   "mimetype": "text/x-python",
   "name": "python",
   "nbconvert_exporter": "python",
   "pygments_lexer": "ipython3",
   "version": "3.7.1"
  }
 },
 "nbformat": 4,
 "nbformat_minor": 2
}
