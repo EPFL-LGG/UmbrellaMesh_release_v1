{
 "cells": [
  {
   "cell_type": "code",
   "execution_count": 1,
   "metadata": {},
   "outputs": [
    {
     "data": {
      "application/vnd.jupyter.widget-view+json": {
       "model_id": "5ca13090f1374c218f4266a051e352bb",
       "version_major": 2,
       "version_minor": 0
      },
      "text/plain": [
       "Renderer(camera=PerspectiveCamera(aspect=2.0, children=(DirectionalLight(color='white', intensity=0.6, positio…"
      ]
     },
     "metadata": {},
     "output_type": "display_data"
    }
   ],
   "source": [
    "import sys; sys.path.append('..')\n",
    "import numpy as np, elastic_rods\n",
    "from bending_validation import suppress_stdout\n",
    "from linkage_vis import LinkageViewer\n",
    "\n",
    "l = elastic_rods.RodLinkage('../../examples/florin/20190102_180435_meshID_7947db3e-9113-4d0b-96c8-a4ec37fdace4.obj', 8)\n",
    "#driver=166\n",
    "driver=l.centralJoint()\n",
    "\n",
    "#mat = elastic_rods.RodMaterial('+', 2000, 0.3, [5, 5, 0.7, 0.7], stiffAxis=elastic_rods.StiffAxis.D1)\n",
    "mat = elastic_rods.RodMaterial('rectangle', 20000, 0.3, [12, 8])\n",
    "l.setMaterial(mat)\n",
    "\n",
    "with suppress_stdout(): elastic_rods.restlen_solve(l)\n",
    "jdo = l.dofOffsetForJoint(driver)\n",
    "fixedVars = list(range(jdo, jdo + 6)) # fix rigid motion for a single joint\n",
    "fixedVars.append(jdo + 6) # constrain angle at the driving joint\n",
    "with suppress_stdout(): elastic_rods.compute_equilibrium(l, fixedVars=fixedVars)\n",
    "\n",
    "view = LinkageViewer(l, width=1024, labelOffset=-0.5)\n",
    "#view.setCameraParams(((2.656451698624758, 1.5087349593639046, 0.23168476156681694),\n",
    "# (0.052583904614345374, 0.026224725204501566, 0.9982721055721517),\n",
    "# (0.13680349418553736, -0.13680349418553736, -0.8425278443781967)))\n",
    "view.show()"
   ]
  },
  {
   "cell_type": "code",
   "execution_count": 2,
   "metadata": {},
   "outputs": [],
   "source": [
    "l.saveVisualizationGeometry('deployed_meshID_bdb78930-da3e-4a28-98f5-89c2ee17876c.obj')\n",
    "#l.writeLinkageDebugData('')"
   ]
  },
  {
   "cell_type": "code",
   "execution_count": 126,
   "metadata": {},
   "outputs": [],
   "source": [
    "from linkage_utils import writeRodSegments\n",
    "writeRodSegments(l,'rod_segments_meshID_1a219f3e-c853-4985-ad5f-f13b369c0e63.txt', zeroBasedIndexing=True)"
   ]
  },
  {
   "cell_type": "code",
   "execution_count": 127,
   "metadata": {},
   "outputs": [],
   "source": [
    "np.savetxt('restlen_meshID_1a219f3e-c853-4985-ad5f-f13b369c0e63.txt',l.getPerSegmentRestLength())"
   ]
  },
  {
   "cell_type": "code",
   "execution_count": 3,
   "metadata": {},
   "outputs": [
    {
     "name": "stdout",
     "output_type": "stream",
     "text": [
      "target angle:  1.609193570338772\n",
      "0\t250562\t8744.49\t8744.49\t1\t0\n",
      "1\t249032\t27.8433\t27.8433\t1\t0\n",
      "2\t249032\t0.546672\t0.546672\t1\t0\n",
      "3\t249032\t9.07584e-06\t9.07584e-06\t1\t0\n",
      "1.7689681303901346\t249032.1375398517\t249032.1375398517\t167653.25424673877\t80760.82851436094\t618.0547787520003\n",
      "target angle:  1.5952309363228174\n",
      "0\t244257\t8551.59\t8551.59\t1\t0\n",
      "1\t242786\t27.0153\t27.0153\t1\t0\n",
      "2\t242786\t0.518094\t0.518094\t1\t0\n",
      "3\t242786\t8.02169e-06\t8.02169e-06\t1\t0\n",
      "1.7547757675635594\t242786.2782912247\t242786.27829122468\t164409.82969749637\t77774.4432767919\t602.0053169364122\n",
      "target angle:  1.5812683023068628\n",
      "0\t238125\t8369.2\t8369.2\t1\t0\n",
      "1\t236710\t26.2417\t26.2417\t1\t0\n",
      "2\t236710\t0.490851\t0.490851\t1\t0\n",
      "3\t236710\t8.1609e-06\t8.1609e-06\t1\t0\n",
      "1.7405202912350086\t236710.20521571688\t236710.20521571688\t161269.51279369212\t74853.81790505796\t586.8745169667391\n",
      "target angle:  1.5673056682909081\n",
      "0\t232161\t8197.03\t8197.03\t1\t0\n",
      "1\t230797\t25.52\t25.52\t1\t0\n",
      "2\t230797\t0.464996\t0.464996\t1\t0\n",
      "3\t230797\t8.02842e-06\t8.02842e-06\t1\t0\n",
      "1.726204190161944\t230796.91533562224\t230796.91533562227\t158226.58009483642\t71997.71685188077\t572.6183889049979\n",
      "target angle:  1.5533430342749535\n",
      "0\t226356\t8034.72\t8034.72\t1\t0\n",
      "1\t225040\t24.848\t24.848\t1\t0\n",
      "2\t225040\t0.440569\t0.440569\t1\t0\n",
      "3\t225040\t7.83458e-06\t7.83458e-06\t1\t0\n",
      "1.7118298984321592\t225039.7426491786\t225039.74264917863\t155275.59823458875\t69204.94909711007\t559.1953174798158\n",
      "target angle:  1.5393804002589988\n",
      "0\t220705\t7881.96\t7881.96\t1\t0\n",
      "1\t219432\t24.2235\t24.2235\t1\t0\n",
      "2\t219432\t0.417601\t0.417601\t1\t0\n",
      "3\t219432\t7.57701e-06\t7.57701e-06\t1\t0\n",
      "1.697399781152343\t219432.3438205277\t219432.34382052772\t152411.40273930065\t66474.3751163398\t546.5659648871474\n",
      "target angle:  1.5254177662430441\n",
      "0\t215202\t7738.41\t7738.41\t1\t0\n",
      "1\t213969\t23.6442\t23.6442\t1\t0\n",
      "2\t213969\t0.396112\t0.396112\t1\t0\n",
      "3\t213969\t7.27615e-06\t7.27615e-06\t1\t0\n",
      "1.682916123296824\t213968.68428307367\t213968.6842830737\t149629.07760094572\t63804.91351048922\t534.693171638648\n",
      "target angle:  1.5114551322270895\n",
      "0\t209839\t7603.72\t7603.72\t1\t0\n",
      "1\t208643\t23.1079\t23.1079\t1\t0\n",
      "2\t208643\t0.376116\t0.376116\t1\t0\n",
      "3\t208643\t7.30244e-06\t7.30244e-06\t1\t0\n",
      "1.6683811213892665\t208643.02479852983\t208643.02479852983\t146923.93557546835\t61195.547366835395\t523.5418562261623\n",
      "target angle:  1.4974924982111348\n",
      "0\t204612\t7477.56\t7477.56\t1\t0\n",
      "1\t203450\t22.6125\t22.6125\t1\t0\n",
      "2\t203450\t0.35762\t0.35762\t1\t0\n",
      "3\t203450\t7.7477e-06\t7.7477e-06\t1\t0\n",
      "1.6537968777019074\t203449.90850606174\t203449.90850606177\t144291.49916999467\t58645.330421862214\t513.0789142049395\n",
      "target angle:  1.4835298641951802\n",
      "0\t199516\t7359.56\t7359.56\t1\t0\n",
      "1\t198384\t22.1557\t22.1557\t1\t0\n",
      "2\t198384\t0.340626\t0.340626\t1\t0\n",
      "3\t198384\t7.18967e-06\t7.18967e-06\t1\t0\n",
      "1.6391653966734623\t198384.14848933107\t198384.14848933107\t141727.48227751954\t56153.39309467745\t503.27311713409387\n",
      "0\t198384\t7.18777e-06\t7.18777e-06\t0\t0\n"
     ]
    }
   ],
   "source": [
    "from open_linkage import open_linkage\n",
    "def equilibriumSolver(tgtAngle, l, opts, fv):\n",
    "    opts.beta = 1e-8\n",
    "    opts.gradTol = 1e-4\n",
    "    opts.useIdentityMetric = False\n",
    "    return elastic_rods.compute_equilibrium(l, tgtAngle, options=opts, fixedVars=fv)\n",
    "# open_linkage(l, driver, 2 * np.pi/3, 25, view, zPerturbationEpsilon=0, equilibriumSolver=equilibriumSolver, maxNewtonIterationsIntermediate=20, verbose=10, useTargetAngleConstraint=False);\n",
    "open_linkage(l, driver, np.deg2rad(85) - l.averageJointAngle, 10, view, zPerturbationEpsilon=0, equilibriumSolver=equilibriumSolver, maxNewtonIterationsIntermediate=20, verbose=10, useTargetAngleConstraint=True);"
   ]
  },
  {
   "cell_type": "code",
   "execution_count": null,
   "metadata": {},
   "outputs": [],
   "source": []
  },
  {
   "cell_type": "code",
   "execution_count": null,
   "metadata": {},
   "outputs": [],
   "source": []
  }
 ],
 "metadata": {
  "kernelspec": {
   "display_name": "Python 3",
   "language": "python",
   "name": "python3"
  },
  "language_info": {
   "codemirror_mode": {
    "name": "ipython",
    "version": 3
   },
   "file_extension": ".py",
   "mimetype": "text/x-python",
   "name": "python",
   "nbconvert_exporter": "python",
   "pygments_lexer": "ipython3",
   "version": "3.7.1"
  }
 },
 "nbformat": 4,
 "nbformat_minor": 2
}
