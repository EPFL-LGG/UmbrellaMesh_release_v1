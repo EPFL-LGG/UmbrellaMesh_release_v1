{
 "cells": [
  {
   "cell_type": "code",
   "execution_count": 1,
   "metadata": {},
   "outputs": [
    {
     "data": {
      "application/vnd.jupyter.widget-view+json": {
       "model_id": "4fd2ee97bdd44e63b9dc69e6ddc01736",
       "version_major": 2,
       "version_minor": 0
      },
      "text/plain": [
       "Renderer(camera=PerspectiveCamera(aspect=2.0, children=(DirectionalLight(color='white', intensity=0.6, positio…"
      ]
     },
     "metadata": {},
     "output_type": "display_data"
    }
   ],
   "source": [
    "import sys; sys.path.append('..')\n",
    "import numpy as np, elastic_rods\n",
    "from bending_validation import suppress_stdout\n",
    "from linkage_vis import LinkageViewer\n",
    "\n",
    "l = elastic_rods.RodLinkage('../../examples/florin/20190102_181922_meshID_30b76dc4-b299-4b71-b442-5b9288e43ff0.obj', 8)\n",
    "#driver=166\n",
    "driver=l.centralJoint()\n",
    "\n",
    "#mat = elastic_rods.RodMaterial('+', 2000, 0.3, [5, 5, 0.7, 0.7], stiffAxis=elastic_rods.StiffAxis.D1)\n",
    "mat = elastic_rods.RodMaterial('rectangle', 20000, 0.3, [12, 8])\n",
    "l.setMaterial(mat)\n",
    "\n",
    "with suppress_stdout(): elastic_rods.restlen_solve(l)\n",
    "jdo = l.dofOffsetForJoint(driver)\n",
    "fixedVars = list(range(jdo, jdo + 6)) # fix rigid motion for a single joint\n",
    "fixedVars.append(jdo + 6) # constrain angle at the driving joint\n",
    "with suppress_stdout(): elastic_rods.compute_equilibrium(l, fixedVars=fixedVars)\n",
    "\n",
    "view = LinkageViewer(l, width=1024, labelOffset=-0.5)\n",
    "#view.setCameraParams(((2.656451698624758, 1.5087349593639046, 0.23168476156681694),\n",
    "# (0.052583904614345374, 0.026224725204501566, 0.9982721055721517),\n",
    "# (0.13680349418553736, -0.13680349418553736, -0.8425278443781967)))\n",
    "view.show()"
   ]
  },
  {
   "cell_type": "code",
   "execution_count": 2,
   "metadata": {},
   "outputs": [],
   "source": [
    "l.saveVisualizationGeometry('deployed_meshID_bdb78930-da3e-4a28-98f5-89c2ee17876c.obj')\n",
    "#l.writeLinkageDebugData('')"
   ]
  },
  {
   "cell_type": "code",
   "execution_count": 126,
   "metadata": {},
   "outputs": [],
   "source": [
    "from linkage_utils import writeRodSegments\n",
    "writeRodSegments(l,'rod_segments_meshID_1a219f3e-c853-4985-ad5f-f13b369c0e63.txt', zeroBasedIndexing=True)"
   ]
  },
  {
   "cell_type": "code",
   "execution_count": 127,
   "metadata": {},
   "outputs": [],
   "source": [
    "np.savetxt('restlen_meshID_1a219f3e-c853-4985-ad5f-f13b369c0e63.txt',l.getPerSegmentRestLength())"
   ]
  },
  {
   "cell_type": "code",
   "execution_count": 3,
   "metadata": {},
   "outputs": [
    {
     "name": "stdout",
     "output_type": "stream",
     "text": [
      "target angle:  1.6179202165987436\n",
      "0\t209793\t1069.63\t1069.63\t1\t0\n",
      "1\t209767\t0.479881\t0.479881\t1\t0\n",
      "2\t209767\t0.00591112\t0.00591112\t0.0625\t0\n",
      "3\t209767\t0.00554154\t0.00554154\t3.05176e-05\t0\n",
      "Backtracking failed.\n",
      "3\t209767\t0.00554154\t0.00554154\t3.05176e-05\t0\n",
      "1.781197336145726\t209767.34738850183\t209767.3473885018\t158114.40320554067\t51241.90412507155\t411.04005788969386\n",
      "target angle:  1.6126842288427605\n",
      "0\t207684\t1060.62\t1060.62\t1\t0\n",
      "1\t207660\t0.471876\t0.471876\t1\t0\n",
      "2\t207660\t0.00566694\t0.00566694\t1\t0\n",
      "3\t207660\t6.4923e-06\t6.4923e-06\t1\t0\n",
      "1.776075488404352\t207659.60531552776\t207659.60531552776\t156891.67059108338\t50362.88225096915\t405.05247347521566\n",
      "target angle:  1.6074482410867774\n",
      "0\t205601\t1051.89\t1051.89\t1\t0\n",
      "1\t205576\t0.464177\t0.464177\t1\t0\n",
      "2\t205576\t0.00562609\t0.00562609\t1\t0\n",
      "3\t205576\t6.34534e-06\t6.34534e-06\t1\t0\n",
      "1.7709444567464514\t205576.11564120484\t205576.11564120484\t155682.81617794506\t49494.0815715529\t399.2178917066954\n",
      "target angle:  1.6022122533307943\n",
      "0\t203541\t1043.28\t1043.28\t1\t0\n",
      "1\t203516\t0.45666\t0.45666\t1\t0\n",
      "2\t203516\t0.00548909\t0.00548909\t0.5\t0\n",
      "3\t203516\t0.00274448\t0.00274448\t0.0078125\t0\n",
      "4\t203516\t0.00272311\t0.00272311\t1\t0\n",
      "5\t203516\t5.83894e-06\t5.83894e-06\t1\t0\n",
      "1.765804289740622\t203516.4563494424\t203516.4563494424\t154487.51674695802\t48635.40712678609\t393.5324756982859\n",
      "target angle:  1.5969762655748112\n",
      "0\t201504\t1034.84\t1034.84\t1\t0\n",
      "1\t201480\t0.449357\t0.449357\t1\t0\n",
      "2\t201480\t0.00535585\t0.00535585\t0.5\t0\n",
      "3\t201480\t0.00267794\t0.00267794\t1\t0\n",
      "4\t201480\t6.50643e-06\t6.50643e-06\t1\t0\n",
      "1.7606550411998647\t201480.21392405138\t201480.21392405138\t153305.45579057463\t47786.76562929839\t387.99250417834867\n",
      "target angle:  1.591740277818828\n",
      "0\t199490\t1026.58\t1026.58\t1\t0\n",
      "1\t199467\t0.442262\t0.442262\t1\t0\n",
      "2\t199467\t0.00522666\t0.00522666\t0.5\t0\n",
      "3\t199467\t0.00261352\t0.00261352\t0.0625\t0\n",
      "4\t199467\t0.00245019\t0.00245019\t0.0078125\t0\n",
      "5\t199467\t0.00243097\t0.00243097\t1\t0\n",
      "6\t199467\t6.07347e-06\t6.07347e-06\t1\t0\n",
      "1.7554967699293116\t199466.98323077057\t199466.98323077057\t152136.3231938718\t46948.065689156814\t382.59434774190277\n",
      "target angle:  1.586504290062845\n",
      "0\t197499\t1018.48\t1018.48\t1\t0\n",
      "1\t197476\t0.435368\t0.435368\t1\t0\n",
      "2\t197476\t0.00510187\t0.00510187\t1\t0\n",
      "3\t197476\t5.88007e-06\t5.88007e-06\t1\t0\n",
      "1.7503295394443061\t197476.3673963243\t197476.3673963243\t150979.81498204602\t46119.21794638986\t377.33446788859084\n",
      "target angle:  1.5812683023068619\n",
      "0\t195531\t1010.55\t1010.55\t1\t0\n",
      "1\t195508\t0.42867\t0.42867\t1\t0\n",
      "2\t195508\t0.00498024\t0.00498024\t1\t0\n",
      "3\t195508\t6.43799e-06\t6.43799e-06\t1\t0\n",
      "1.7451534176853738\t195507.97768495398\t195507.97768495395\t149835.63308219236\t45300.13518683171\t372.2094159299045\n",
      "target angle:  1.5760323145508788\n",
      "0\t193584\t1002.77\t1002.77\t1\t0\n",
      "1\t193561\t0.422159\t0.422159\t1\t0\n",
      "2\t193561\t0.00486387\t0.00486387\t0.5\t0\n",
      "3\t193561\t0.00243202\t0.00243202\t0.5\t0\n",
      "4\t193561\t0.00121588\t0.00121588\t1\t0\n",
      "5\t193561\t6.16456e-06\t6.16456e-06\t1\t0\n",
      "1.7399684767339945\t193561.4333729364\t193561.4333729364\t148703.4850988855\t44490.732442310175\t367.21583174073345\n",
      "target angle:  1.5707963267948957\n",
      "0\t191658\t995.148\t995.148\t1\t0\n",
      "1\t191636\t0.41583\t0.41583\t1\t0\n",
      "2\t191636\t0.00475092\t0.00475092\t1\t0\n",
      "3\t191636\t6.28071e-06\t6.28071e-06\t1\t0\n",
      "1.7347747925296733\t191636.36162149845\t191636.3616214985\t147583.08410280623\t43690.927076285494\t362.350442406811\n",
      "0\t191636\t6.28205e-06\t6.28205e-06\t0\t0\n"
     ]
    }
   ],
   "source": [
    "from open_linkage import open_linkage\n",
    "def equilibriumSolver(tgtAngle, l, opts, fv):\n",
    "    opts.beta = 1e-8\n",
    "    opts.gradTol = 1e-4\n",
    "    opts.useIdentityMetric = False\n",
    "    return elastic_rods.compute_equilibrium(l, tgtAngle, options=opts, fixedVars=fv)\n",
    "# open_linkage(l, driver, 2 * np.pi/3, 25, view, zPerturbationEpsilon=0, equilibriumSolver=equilibriumSolver, maxNewtonIterationsIntermediate=20, verbose=10, useTargetAngleConstraint=False);\n",
    "open_linkage(l, driver, np.deg2rad(90) - l.averageJointAngle, 10, view, zPerturbationEpsilon=0, equilibriumSolver=equilibriumSolver, maxNewtonIterationsIntermediate=20, verbose=10, useTargetAngleConstraint=True);"
   ]
  },
  {
   "cell_type": "code",
   "execution_count": null,
   "metadata": {},
   "outputs": [],
   "source": []
  },
  {
   "cell_type": "code",
   "execution_count": null,
   "metadata": {},
   "outputs": [],
   "source": []
  }
 ],
 "metadata": {
  "kernelspec": {
   "display_name": "Python 3",
   "language": "python",
   "name": "python3"
  },
  "language_info": {
   "codemirror_mode": {
    "name": "ipython",
    "version": 3
   },
   "file_extension": ".py",
   "mimetype": "text/x-python",
   "name": "python",
   "nbconvert_exporter": "python",
   "pygments_lexer": "ipython3",
   "version": "3.7.1"
  }
 },
 "nbformat": 4,
 "nbformat_minor": 2
}
