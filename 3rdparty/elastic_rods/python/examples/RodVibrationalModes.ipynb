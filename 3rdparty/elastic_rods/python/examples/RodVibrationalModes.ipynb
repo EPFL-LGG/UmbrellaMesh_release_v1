{
 "cells": [
  {
   "cell_type": "code",
   "execution_count": 1,
   "metadata": {},
   "outputs": [],
   "source": [
    "import sys\n",
    "sys.path.append('..')\n",
    "import elastic_rods\n",
    "import numpy as np\n",
    "from typing import NamedTuple\n",
    "from bending_validation import suppress_stdout as so"
   ]
  },
  {
   "cell_type": "code",
   "execution_count": 2,
   "metadata": {},
   "outputs": [],
   "source": [
    "rodWidth = 520\n",
    "npts = 60\n",
    "midpt = (npts + 1) // 2\n",
    "thetaOffset = 3 * npts\n",
    "pts = np.pad(np.linspace(-rodWidth / 2, rodWidth / 2, npts)[:,np.newaxis], [(0, 0), (0, 2)], mode='constant')\n",
    "r = elastic_rods.ElasticRod(pts)\n",
    "r.setMaterial(elastic_rods.RodMaterial('ellipse', 4.0e10 / 1e6, 0.3, [10, 10]))"
   ]
  },
  {
   "cell_type": "code",
   "execution_count": 9,
   "metadata": {},
   "outputs": [],
   "source": [
    "import compute_vibrational_modes, mode_v\n",
    "L, V = compute_vibrational_modes.compute_vibrational_modes(r, n=30, )\n",
    "import mode_viewer"
   ]
  },
  {
   "cell_type": "code",
   "execution_count": 10,
   "metadata": {},
   "outputs": [
    {
     "data": {
      "application/vnd.jupyter.widget-view+json": {
       "model_id": "0eed336033fd452098b621134dc1be9a",
       "version_major": 2,
       "version_minor": 0
      },
      "text/plain": [
       "VBox(children=(Renderer(camera=PerspectiveCamera(children=(DirectionalLight(color='white', intensity=0.6, posi…"
      ]
     },
     "metadata": {},
     "output_type": "display_data"
    }
   ],
   "source": [
    "mview = mode_viewer.ModeViewer(r, V, L)\n",
    "mview.show()"
   ]
  }
 ],
 "metadata": {
  "kernelspec": {
   "display_name": "Python 3",
   "language": "python",
   "name": "python3"
  },
  "language_info": {
   "codemirror_mode": {
    "name": "ipython",
    "version": 3
   },
   "file_extension": ".py",
   "mimetype": "text/x-python",
   "name": "python",
   "nbconvert_exporter": "python",
   "pygments_lexer": "ipython3",
   "version": "3.6.8"
  }
 },
 "nbformat": 4,
 "nbformat_minor": 4
}
