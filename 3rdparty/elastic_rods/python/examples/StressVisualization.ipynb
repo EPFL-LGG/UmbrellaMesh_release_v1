{
 "cells": [
  {
   "cell_type": "code",
   "execution_count": null,
   "metadata": {},
   "outputs": [],
   "source": [
    "import sys; sys.path.append('..')\n",
    "import numpy as np, elastic_rods\n",
    "from bending_validation import suppress_stdout\n",
    "from linkage_vis import LinkageViewer\n",
    "\n",
    "l = elastic_rods.RodLinkage('../../examples/actuation_sparsification/half_vase_opened.msh')\n",
    "mat = elastic_rods.RodMaterial('+', 20000, 0.3, [2.0, 2.0, 0.2, 0.2], stiffAxis=elastic_rods.StiffAxis.D1)\n",
    "l.setMaterial(mat)\n",
    "\n",
    "jdo = l.dofOffsetForJoint(l.centralJoint())\n",
    "fixedVars = list(range(jdo, jdo + 6)) # fix rigid motion for a single joint\n",
    "with suppress_stdout(): elastic_rods.compute_equilibrium(l, l.averageJointAngle, fixedVars=fixedVars)\n",
    "view = LinkageViewer(l, width=1024, labelOffset=-0.5)\n",
    "view.setCameraParams(((0.4075185454716348, 3.1892642201046715, 0.3099480992441177),\n",
    " (0.15364528336486324, 0.2839547329660347, 0.9464474821805594),\n",
    " (0.0, 0.0, 0.0)))\n",
    "view.show()"
   ]
  },
  {
   "cell_type": "code",
   "execution_count": null,
   "metadata": {},
   "outputs": [],
   "source": [
    "jointIdxs, stressValues, parametricCoord = l.rodStresses()"
   ]
  },
  {
   "cell_type": "code",
   "execution_count": 35,
   "metadata": {},
   "outputs": [],
   "source": [
    "print(\"\\n\".join([\"\\t\".join(map(str, jidxs)) for jidxs in jointIdxs]), file=open('rod_joints.txt', 'w'))"
   ]
  },
  {
   "cell_type": "code",
   "execution_count": 31,
   "metadata": {},
   "outputs": [],
   "source": [
    "resolution = 1000\n",
    "normalize = plt.Normalize(vmin=min(min(stressValues)), vmax=max(max(stressValues)))\n",
    "cmap = plt.cm.magma\n",
    "\n",
    "for ri in range(len(jointIdxs)):\n",
    "    s = stressValues[ri]\n",
    "    p = parametricCoord[ri]\n",
    "    # add zero stress samples at the beginning and end of the rod\n",
    "    s.insert(0, 0)\n",
    "    s.append(0)\n",
    "    p.insert(0, 0)\n",
    "    p.append(np.ceil(p[-1]))\n",
    "    interpolated_stresses = np.interp(np.linspace(0, p[-1], resolution), p, s)\n",
    "    image = cmap(normalize(np.array(interpolated_stresses).reshape(1, resolution)))\n",
    "    plt.imsave('stress_{}.png'.format(ri), image)"
   ]
  }
 ],
 "metadata": {
  "kernelspec": {
   "display_name": "Python 3",
   "language": "python",
   "name": "python3"
  },
  "language_info": {
   "codemirror_mode": {
    "name": "ipython",
    "version": 3
   },
   "file_extension": ".py",
   "mimetype": "text/x-python",
   "name": "python",
   "nbconvert_exporter": "python",
   "pygments_lexer": "ipython3",
   "version": "3.6.6"
  }
 },
 "nbformat": 4,
 "nbformat_minor": 2
}
