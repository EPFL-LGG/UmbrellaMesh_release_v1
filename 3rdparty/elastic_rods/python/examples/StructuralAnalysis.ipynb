{
 "cells": [
  {
   "cell_type": "code",
   "execution_count": null,
   "metadata": {},
   "outputs": [],
   "source": [
    "import sys; sys.path.append('..')\n",
    "import numpy as np, elastic_rods\n",
    "from bending_validation import suppress_stdout\n",
    "from linkage_vis import LinkageViewer\n",
    "\n",
    "l = elastic_rods.RodLinkage('../../examples/actuation_sparsification/half_vase_opened.msh')\n",
    "mat = elastic_rods.RodMaterial('+', 40000, 0.3, [2.0, 2.0, 0.2, 0.2], stiffAxis=elastic_rods.StiffAxis.D1)\n",
    "l.setMaterial(mat)\n",
    "\n",
    "jdo = l.dofOffsetForJoint(l.centralJoint())\n",
    "fixedVars = list(range(jdo, jdo + 6)) # fix rigid motion for a single joint\n",
    "with suppress_stdout(): elastic_rods.compute_equilibrium(l, l.averageJointAngle, fixedVars=fixedVars)\n",
    "view = LinkageViewer(l, width=1024, labelOffset=-0.5)\n",
    "view.setCameraParams(((0.4075185454716348, 3.1892642201046715, 0.3099480992441177),\n",
    " (0.15364528336486324, 0.2839547329660347, 0.9464474821805594),\n",
    " (0.0, 0.0, 0.0)))\n",
    "view.show()"
   ]
  },
  {
   "cell_type": "code",
   "execution_count": null,
   "metadata": {},
   "outputs": [],
   "source": [
    "l.updateRotationParametrizations()"
   ]
  },
  {
   "cell_type": "code",
   "execution_count": null,
   "metadata": {},
   "outputs": [],
   "source": [
    "l.saveVisualizationGeometry('test.msh')"
   ]
  },
  {
   "cell_type": "code",
   "execution_count": null,
   "metadata": {},
   "outputs": [],
   "source": [
    "dofs = l.getDoFs()"
   ]
  },
  {
   "cell_type": "code",
   "execution_count": null,
   "metadata": {},
   "outputs": [],
   "source": [
    "# dofs[l.dofOffsetForJoint(0) + 5] += np.pi / 8\n",
    "# dofs[l.dofOffsetForJoint(315) + 5] += np.pi / 8\n",
    "dofs[jdo + 5] += np.pi / 8\n",
    "l.setDoFs(dofs)\n",
    "view.update()"
   ]
  },
  {
   "cell_type": "code",
   "execution_count": null,
   "metadata": {},
   "outputs": [],
   "source": [
    "# Output a file with the maximum stretching/bending/twisting stresses\n",
    "# visualized on the beams. This file can be viewed in GMsh. Note that\n",
    "# the entire cross-section is colored by the maximum stress appearing\n",
    "# anywhere in that cross-section.\n",
    "l.saveStressVisualization('stressVis.msh')"
   ]
  },
  {
   "cell_type": "code",
   "execution_count": null,
   "metadata": {},
   "outputs": [],
   "source": [
    "# Output a file visualizing the forces and torques acting on each joint.\n",
    "# We show the forces of the \"A\" rods acting on the joint (which are countered\n",
    "# by equal and opposte forces from the \"B\" rods.\n",
    "l.updateRotationParametrizations() # Needed to ensure forces/torques are output\n",
    "l.writeLinkageDebugData('jointForces.msh')"
   ]
  },
  {
   "cell_type": "code",
   "execution_count": null,
   "metadata": {},
   "outputs": [],
   "source": [
    "# Get the stress measures as scalar fields on the centerline for each rod of the linkage.\n",
    "# These are lists of numpy arrays (one array per rod) where each array holds the value of the\n",
    "# scalar field along the rod's centerline. In the case of bending stress, the array\n",
    "# actually holds two scalar fields, one in each column.\n",
    "\n",
    "# Get the z-stress due to axial stretching\n",
    "stretchingStresses = np.array([s.rod.stretchingStresses() for s in l.segments()])\n",
    "# Get the (min, max) bending z-stress over the cross-section.\n",
    "bendingStresses = np.array([s.rod.bendingStresses() for s in l.segments()])\n",
    "# Get the principal stresses due to the shearing caused by rod torsion.\n",
    "twistingStresses = np.array([s.rod.twistingStresses() for s in l.segments()])"
   ]
  },
  {
   "cell_type": "code",
   "execution_count": null,
   "metadata": {},
   "outputs": [],
   "source": [
    "np.min(bendingStresses), np.max(bendingStresses)"
   ]
  },
  {
   "cell_type": "code",
   "execution_count": null,
   "metadata": {},
   "outputs": [],
   "source": [
    "np.max(twistingStresses)"
   ]
  },
  {
   "cell_type": "code",
   "execution_count": null,
   "metadata": {},
   "outputs": [],
   "source": [
    "np.min(stretchingStresses), np.max(stretchingStresses)"
   ]
  },
  {
   "cell_type": "code",
   "execution_count": null,
   "metadata": {},
   "outputs": [],
   "source": [
    "l.updateRotationParametrizations()\n",
    "# Calculate the net force and torque exerted on each joint of the linkage by the \"A\" rods.\n",
    "# Note: forces are in N, torques are in N mm!\n",
    "rf = l.rivetNetForceAndTorques()\n",
    "jointForces  = rf[:, 0:3]\n",
    "jointTorques = rf[:, 3:6]\n",
    "\n",
    "def reportGreatestMagnitude(name, data, unit):\n",
    "    mags = np.linalg.norm(data, axis=1)\n",
    "    worstJoint = np.argmax(mags)\n",
    "    print(f'Greatest {name} on joint {worstJoint}: {data[worstJoint, :]}\\n\\t\\t(magnitude {np.max(mags)} {unit})')\n",
    "\n",
    "reportGreatestMagnitude('force', rf[:, 0:3], 'N')\n",
    "reportGreatestMagnitude('torque', rf[:, 3:6], 'N mm')"
   ]
  },
  {
   "cell_type": "code",
   "execution_count": null,
   "metadata": {},
   "outputs": [],
   "source": [
    "shearForces = []\n",
    "shearTorques = []\n",
    "for ji in range(l.numJoints()):\n",
    "    n = l.joint(ji).normal\n",
    "    F = jointForces[ji, :]\n",
    "    T = jointTorques[ji, :]\n",
    "    shearForces.append(np.linalg.norm(F - np.dot(F, n) * n))\n",
    "    shearTorques.append(np.linalg.norm(T - np.dot(T, n) * n ))\n",
    "shearForces = np.array(shearForces)\n",
    "shearTorques = np.array(shearTorques)"
   ]
  },
  {
   "cell_type": "code",
   "execution_count": null,
   "metadata": {},
   "outputs": [],
   "source": [
    "j = l.joint(18)"
   ]
  },
  {
   "cell_type": "code",
   "execution_count": null,
   "metadata": {},
   "outputs": [],
   "source": [
    "np.max(shearForces)"
   ]
  },
  {
   "cell_type": "code",
   "execution_count": null,
   "metadata": {},
   "outputs": [],
   "source": [
    "np.argmax(shearTorques), np.max(shearTorques)"
   ]
  },
  {
   "cell_type": "code",
   "execution_count": null,
   "metadata": {},
   "outputs": [],
   "source": [
    "np.dot(jointTorques[218, :], l.joint(218).normal)"
   ]
  },
  {
   "cell_type": "code",
   "execution_count": null,
   "metadata": {},
   "outputs": [],
   "source": [
    "l.gradient()[l.dofOffsetForJoint(218) + 6]"
   ]
  },
  {
   "cell_type": "code",
   "execution_count": null,
   "metadata": {},
   "outputs": [],
   "source": [
    "l.rivetForces()[l.dofOffsetForJoint(218) + 6] * 2"
   ]
  },
  {
   "cell_type": "markdown",
   "metadata": {},
   "source": [
    "## Boundary conditions at material interface"
   ]
  },
  {
   "cell_type": "code",
   "execution_count": null,
   "metadata": {},
   "outputs": [],
   "source": [
    "rodWidth = 300\n",
    "npts = 200\n",
    "midpt = (npts + 1) // 2\n",
    "thetaOffset = 3 * npts"
   ]
  },
  {
   "cell_type": "code",
   "execution_count": null,
   "metadata": {},
   "outputs": [],
   "source": [
    "pts = np.pad(np.linspace(-rodWidth / 2, rodWidth / 2, npts)[:,np.newaxis], [(0, 0), (0, 2)], mode='constant')"
   ]
  },
  {
   "cell_type": "code",
   "execution_count": null,
   "metadata": {},
   "outputs": [],
   "source": [
    "r = elastic_rods.ElasticRod(pts)"
   ]
  },
  {
   "cell_type": "code",
   "execution_count": null,
   "metadata": {},
   "outputs": [],
   "source": [
    "r.setMaterial(elastic_rods.RodMaterial('rectangle', 4.0e10 / 1e6, 0.3, [12, 8]))"
   ]
  },
  {
   "cell_type": "code",
   "execution_count": null,
   "metadata": {},
   "outputs": [],
   "source": [
    "import linkage_vis\n",
    "view2 = linkage_vis.LinkageViewer(r)\n",
    "view2.show()"
   ]
  },
  {
   "cell_type": "code",
   "execution_count": null,
   "metadata": {},
   "outputs": [],
   "source": [
    "dofs = r.getDoFs()\n",
    "dofs[0:3] = [-120, -10, 0]\n",
    "dofs[(npts - 1) * 3:npts * 3] = [120, -10, 0]"
   ]
  },
  {
   "cell_type": "code",
   "execution_count": null,
   "metadata": {},
   "outputs": [],
   "source": [
    "r.setDoFs(dofs)"
   ]
  },
  {
   "cell_type": "code",
   "execution_count": null,
   "metadata": {},
   "outputs": [],
   "source": [
    "to = r.thetaOffset()\n",
    "fixedVars = [0, 1, 2, (npts - 1) * 3, (npts - 1) * 3 + 1, (npts - 1) * 3 + 2, to]"
   ]
  },
  {
   "cell_type": "code",
   "execution_count": null,
   "metadata": {},
   "outputs": [],
   "source": [
    "with suppress_stdout(): elastic_rods.compute_equilibrium(r, fixedVars=fixedVars)\n",
    "# Now fix the slope too to prevent rotation of the reference frame\n",
    "fixedVars += [3, 4, 5, (npts - 2) * 3, (npts - 2) * 3 + 1, (npts - 2) * 3 + 2]"
   ]
  },
  {
   "cell_type": "code",
   "execution_count": null,
   "metadata": {},
   "outputs": [],
   "source": [
    "# Apply a twist to the rod as well...\n",
    "fixedVars += [r.numDoF() - 1]"
   ]
  },
  {
   "cell_type": "code",
   "execution_count": null,
   "metadata": {},
   "outputs": [],
   "source": [
    "dofs = r.getDoFs()\n",
    "dofs[to] = -1.5 * np.pi\n",
    "dofs[r.numDoF() - 1] = 1.5 * np.pi\n",
    "r.setDoFs(dofs)"
   ]
  },
  {
   "cell_type": "code",
   "execution_count": null,
   "metadata": {},
   "outputs": [],
   "source": [
    "with suppress_stdout(): elastic_rods.compute_equilibrium(r, fixedVars=fixedVars)"
   ]
  },
  {
   "cell_type": "code",
   "execution_count": null,
   "metadata": {},
   "outputs": [],
   "source": [
    "view2.update()"
   ]
  },
  {
   "cell_type": "code",
   "execution_count": null,
   "metadata": {},
   "outputs": [],
   "source": [
    "from matplotlib import pyplot as plt\n",
    "plt.figure(figsize=(8,4))\n",
    "x = np.array(r.deformedPoints())[:, 0]\n",
    "plt.plot(x, r.bendingStresses()[:, 0], label='bending stress', linewidth=5)\n",
    "plt.plot(x, r.twistingStresses(), label='twisting stress', linewidth=5)\n",
    "plt.legend()\n",
    "plt.show()"
   ]
  },
  {
   "cell_type": "code",
   "execution_count": null,
   "metadata": {},
   "outputs": [],
   "source": [
    "gsm = elastic_rods.GradientStencilMaskCustom()\n",
    "\n",
    "nv = r.numVertices()\n",
    "ne = r.numEdges()\n",
    "mask = np.zeros(nv, dtype=bool)\n",
    "vtxMin, vtxMax = (nv // 2 - 5, nv // 2 + 5)\n",
    "edgeMin, edgeMax = (vtxMin - 1, vtxMax)\n",
    "mask[vtxMin:vtxMax] = True\n",
    "gsm.vtxStencilMask = mask\n",
    "mask = np.zeros(ne, dtype=bool)\n",
    "mask[edgeMin:edgeMax] = True\n",
    "gsm.edgeStencilMask = mask"
   ]
  },
  {
   "cell_type": "code",
   "execution_count": null,
   "metadata": {},
   "outputs": [],
   "source": [
    "et = elastic_rods.EnergyType.Full"
   ]
  },
  {
   "cell_type": "code",
   "execution_count": null,
   "metadata": {},
   "outputs": [],
   "source": [
    "r.gradient(energyType=et, stencilMask=gsm)[3 * (vtxMin - 2):3 * (vtxMax + 2)]"
   ]
  },
  {
   "cell_type": "code",
   "execution_count": null,
   "metadata": {},
   "outputs": [],
   "source": [
    "r.gradient(energyType=et, stencilMask=gsm)[to + edgeMin - 1:to + edgeMax + 1]"
   ]
  },
  {
   "cell_type": "code",
   "execution_count": null,
   "metadata": {},
   "outputs": [],
   "source": [
    "g = r.gradient(stencilMask=gsm)"
   ]
  },
  {
   "cell_type": "markdown",
   "metadata": {},
   "source": [
    "## Forces acting at a joint"
   ]
  },
  {
   "cell_type": "code",
   "execution_count": null,
   "metadata": {},
   "outputs": [],
   "source": [
    "j = l.joint(1)\n",
    "j.segments_A, j.segments_B"
   ]
  },
  {
   "cell_type": "code",
   "execution_count": null,
   "metadata": {},
   "outputs": [],
   "source": [
    "j.terminalEdgeIdentification(542)"
   ]
  },
  {
   "cell_type": "code",
   "execution_count": null,
   "metadata": {},
   "outputs": [],
   "source": [
    "j.isStartB # rod b is segment 183 and 465 pieced together in un-reversed orientation"
   ]
  },
  {
   "cell_type": "code",
   "execution_count": null,
   "metadata": {},
   "outputs": [],
   "source": [
    "r = l.segment(j.segments_B[1]).rod\n",
    "r2 = l.segment(j.segments_B[0]).rod"
   ]
  },
  {
   "cell_type": "code",
   "execution_count": null,
   "metadata": {},
   "outputs": [],
   "source": [
    "jointToVtxForces = r.gradient()[0:6] + r2.gradient()[3 * (r2.numVertices() - 2):3 * r2.numVertices()]\n",
    "aroundEdgeTorque = r.gradient()[r.thetaOffset()] + r2.gradient()[r.numDoF() - 1]"
   ]
  },
  {
   "cell_type": "code",
   "execution_count": null,
   "metadata": {},
   "outputs": [],
   "source": [
    "l.rivetNetForceAndTorques()[1, :]"
   ]
  },
  {
   "cell_type": "code",
   "execution_count": null,
   "metadata": {},
   "outputs": [],
   "source": [
    "jointToVtxForces[0:3] + jointToVtxForces[3:6]"
   ]
  },
  {
   "cell_type": "code",
   "execution_count": null,
   "metadata": {},
   "outputs": [],
   "source": [
    "dc = r.deformedConfiguration()\n",
    "t = dc.tangent[0]\n",
    "e = dc.len[0] * t\n",
    "N = j.normal\n",
    "dc.len[0] * dc.tangent[0]\n",
    "tperp = np.cross(N, t)\n",
    "torqueOnJoint = l.rivetNetForceAndTorques()[1, 3:6]"
   ]
  },
  {
   "cell_type": "code",
   "execution_count": null,
   "metadata": {},
   "outputs": [],
   "source": [
    "jointToVtxTorque = np.cross(-e / 2, jointToVtxForces[0:3]) + np.cross(e / 2, jointToVtxForces[3:6])"
   ]
  },
  {
   "cell_type": "code",
   "execution_count": null,
   "metadata": {},
   "outputs": [],
   "source": [
    "[np.dot(torqueOnJoint, v) for v in [N, t, tperp]]"
   ]
  },
  {
   "cell_type": "code",
   "execution_count": null,
   "metadata": {},
   "outputs": [],
   "source": [
    "[np.dot(jointToVtxTorque, N), aroundEdgeTorque, np.dot(jointToVtxTorque, tperp)]"
   ]
  },
  {
   "cell_type": "code",
   "execution_count": null,
   "metadata": {},
   "outputs": [],
   "source": [
    "(-3.59545902e-02 + 3.42758665e-02, 1.47690205e-01 + -1.48400602e-01,\n",
    "-3.59545902e-02 + 3.42758665e-02 + (1.47690205e-01 + -1.48400602e-01))"
   ]
  },
  {
   "cell_type": "code",
   "execution_count": null,
   "metadata": {},
   "outputs": [],
   "source": [
    "nkeptVtx = 5;\n",
    "gsm_r1 = elastic_rods.GradientStencilMaskCustom()\n",
    "gsm_r2 = elastic_rods.GradientStencilMaskCustom()\n",
    "mask = np.zeros(r.numVertices(), dtype=bool)\n",
    "mask[0:nkeptVtx] = True\n",
    "gsm_r1.vtxStencilMask = mask\n",
    "mask[0:nkeptVtx] = False\n",
    "mask[-nkeptVtx:] = True\n",
    "gsm_r2.vtxStencilMask = mask\n",
    "mask = np.zeros(r.numEdges(), dtype=bool)\n",
    "mask[0:nkeptVtx] = True\n",
    "gsm_r1.edgeStencilMask = mask\n",
    "mask[0:nkeptVtx] = False\n",
    "mask[-nkeptVtx:] = True\n",
    "gsm_r2.edgeStencilMask = mask\n",
    "\n",
    "r.gradient(stencilMask=gsm_r1)"
   ]
  },
  {
   "cell_type": "code",
   "execution_count": null,
   "metadata": {},
   "outputs": [],
   "source": [
    "r2.gradient(stencilMask=gsm_r2)"
   ]
  },
  {
   "cell_type": "code",
   "execution_count": null,
   "metadata": {},
   "outputs": [],
   "source": [
    "partialGrad1 = r.gradient(stencilMask=gsm_r1)\n",
    "partialGrad2 = r2.gradient(stencilMask=gsm_r2)"
   ]
  },
  {
   "cell_type": "code",
   "execution_count": null,
   "metadata": {},
   "outputs": [],
   "source": [
    "np.mean(r.deformedPoints()[0:2], axis=0)"
   ]
  },
  {
   "cell_type": "code",
   "execution_count": null,
   "metadata": {},
   "outputs": [],
   "source": [
    "r.deformedPoints()[0:2]"
   ]
  },
  {
   "cell_type": "code",
   "execution_count": null,
   "metadata": {},
   "outputs": [],
   "source": [
    "# Get the net force and torque on an edge along with the application point\n",
    "def netForceAndTorqueOnEdge(rod, g, edgeIdx):\n",
    "    F1 = g[3 * edgeIdx:3 * (edgeIdx + 1)]\n",
    "    F2 = g[3 * (edgeIdx + 1):3 * (edgeIdx + 2)]\n",
    "    dc = rod.deformedConfiguration()\n",
    "    edgeMidpt = np.mean(rod.deformedPoints()[edgeIdx:edgeIdx+2], axis=0)\n",
    "    t = dc.tangent[edgeIdx]\n",
    "    e = t * dc.len[edgeIdx]\n",
    "    torqueAround = g[rod.thetaOffset() + edgeIdx]\n",
    "    return (edgeMidpt, np.array([F1 + F2, np.cross(-e / 2, F1) + np.cross(e / 2, F2) + torqueAround * t]))"
   ]
  },
  {
   "cell_type": "code",
   "execution_count": null,
   "metadata": {},
   "outputs": [],
   "source": [
    "internalInterfaceLoads1 = netForceAndTorqueOnEdge(r, partialGrad1, nkeptVtx - 1)\n",
    "internalInterfaceLoads2 = netForceAndTorqueOnEdge(r2, partialGrad2, r2.numEdges() - nkeptVtx)"
   ]
  },
  {
   "cell_type": "code",
   "execution_count": null,
   "metadata": {},
   "outputs": [],
   "source": [
    "totalForceAndTorqueOnJointEdge = (netForceAndTorqueOnEdge(r, r.gradient(), 0)[1] +\n",
    "                                  netForceAndTorqueOnEdge(r2, r2.gradient(), r2.numEdges() - 1)[1])"
   ]
  },
  {
   "cell_type": "code",
   "execution_count": null,
   "metadata": {},
   "outputs": [],
   "source": [
    "[np.dot(torqueOnJoint, v) for v in [N, t, tperp]]"
   ]
  },
  {
   "cell_type": "code",
   "execution_count": null,
   "metadata": {},
   "outputs": [],
   "source": [
    "[np.dot(totalForceAndTorqueOnJointEdge[1,:], v) for v in [N, t, tperp]]"
   ]
  },
  {
   "cell_type": "code",
   "execution_count": null,
   "metadata": {},
   "outputs": [],
   "source": [
    "totalForceAndTorqueOnJointEdge"
   ]
  },
  {
   "cell_type": "code",
   "execution_count": null,
   "metadata": {},
   "outputs": [],
   "source": [
    "netInterfaceForce = internalInterfaceLoads1[1][0] + internalInterfaceLoads2[1][0]"
   ]
  },
  {
   "cell_type": "code",
   "execution_count": null,
   "metadata": {},
   "outputs": [],
   "source": [
    "# Compute the torque around the joint position applied by\n",
    "# a net force and torque at point load[0].\n",
    "def torqueAroundJointPos(load):\n",
    "    pt = load[0]\n",
    "    return load[1][1] + np.cross(pt - j.position, load[1][0])"
   ]
  },
  {
   "cell_type": "code",
   "execution_count": null,
   "metadata": {},
   "outputs": [],
   "source": [
    "torqueAroundJointPos(internalInterfaceLoads1) + torqueAroundJointPos(internalInterfaceLoads2)"
   ]
  },
  {
   "cell_type": "code",
   "execution_count": null,
   "metadata": {},
   "outputs": [],
   "source": [
    "print(torqueAroundJointPos(internalInterfaceLoads1))\n",
    "print(torqueAroundJointPos(internalInterfaceLoads2))"
   ]
  },
  {
   "cell_type": "markdown",
   "metadata": {},
   "source": [
    "## Extract \"free body diagram\" for piece of rod around joint"
   ]
  },
  {
   "cell_type": "code",
   "execution_count": null,
   "metadata": {},
   "outputs": [],
   "source": [
    "import importlib, structural_analysis\n",
    "importlib.reload(structural_analysis)\n",
    "from structural_analysis import Load, isolateRodPieceAtJoint, getLoadOnEdge, freeBodyDiagramReport\n",
    "\n",
    "isolateRodPieceAtJoint(l, 1, 1, keepEdges=5)"
   ]
  },
  {
   "cell_type": "code",
   "execution_count": null,
   "metadata": {},
   "outputs": [],
   "source": [
    "freeBodyDiagramReport(l, 1, 1, keepEdges=5)"
   ]
  }
 ],
 "metadata": {
  "kernelspec": {
   "display_name": "Python 3",
   "language": "python",
   "name": "python3"
  },
  "language_info": {
   "codemirror_mode": {
    "name": "ipython",
    "version": 3
   },
   "file_extension": ".py",
   "mimetype": "text/x-python",
   "name": "python",
   "nbconvert_exporter": "python",
   "pygments_lexer": "ipython3",
   "version": "3.6.8"
  }
 },
 "nbformat": 4,
 "nbformat_minor": 4
}
