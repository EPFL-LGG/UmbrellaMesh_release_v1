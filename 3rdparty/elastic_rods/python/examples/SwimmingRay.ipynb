{
 "cells": [
  {
   "cell_type": "code",
   "execution_count": 1,
   "metadata": {},
   "outputs": [
    {
     "data": {
      "application/vnd.jupyter.widget-view+json": {
       "model_id": "24b6c78a97ff4c5f81e73d32dce5b153",
       "version_major": 2,
       "version_minor": 0
      },
      "text/plain": [
       "Renderer(camera=PerspectiveCamera(aspect=2.0, children=(DirectionalLight(color='white', intensity=0.6, positio…"
      ]
     },
     "metadata": {},
     "output_type": "display_data"
    }
   ],
   "source": [
    "import sys; sys.path.append('..')\n",
    "import numpy as np, elastic_rods\n",
    "from bending_validation import suppress_stdout\n",
    "from linkage_vis import LinkageViewer\n",
    "\n",
    "l = elastic_rods.RodLinkage('../../examples/florin/20181227_203302_meshID_fbfa32b2-3ab2-4722-9678-b577ad1ccfb8.obj', 8)\n",
    "#driver=166\n",
    "driver=l.centralJoint()\n",
    "\n",
    "#mat = elastic_rods.RodMaterial('+', 2000, 0.3, [5, 5, 0.7, 0.7], stiffAxis=elastic_rods.StiffAxis.D1)\n",
    "mat = elastic_rods.RodMaterial('rectangle', 20000, 0.3, [10, 7])\n",
    "l.setMaterial(mat)\n",
    "\n",
    "with suppress_stdout(): elastic_rods.restlen_solve(l)\n",
    "jdo = l.dofOffsetForJoint(driver)\n",
    "fixedVars = list(range(jdo, jdo + 6)) # fix rigid motion for a single joint\n",
    "fixedVars.append(jdo + 6) # constrain angle at the driving joint\n",
    "with suppress_stdout(): elastic_rods.compute_equilibrium(l, fixedVars=fixedVars)\n",
    "\n",
    "view = LinkageViewer(l, width=1024, labelOffset=-0.5)\n",
    "#view.setCameraParams(((2.656451698624758, 1.5087349593639046, 0.23168476156681694),\n",
    "# (0.052583904614345374, 0.026224725204501566, 0.9982721055721517),\n",
    "# (0.13680349418553736, -0.13680349418553736, -0.8425278443781967)))\n",
    "view.show()"
   ]
  },
  {
   "cell_type": "code",
   "execution_count": 79,
   "metadata": {},
   "outputs": [],
   "source": [
    "l.saveVisualizationGeometry('deployed_meshID_bdb78930-da3e-4a28-98f5-89c2ee17876c.obj')\n",
    "#l.writeLinkageDebugData('')"
   ]
  },
  {
   "cell_type": "code",
   "execution_count": 126,
   "metadata": {},
   "outputs": [],
   "source": [
    "from linkage_utils import writeRodSegments\n",
    "writeRodSegments(l,'rod_segments_meshID_1a219f3e-c853-4985-ad5f-f13b369c0e63.txt', zeroBasedIndexing=True)"
   ]
  },
  {
   "cell_type": "code",
   "execution_count": 127,
   "metadata": {},
   "outputs": [],
   "source": [
    "np.savetxt('restlen_meshID_1a219f3e-c853-4985-ad5f-f13b369c0e63.txt',l.getPerSegmentRestLength())"
   ]
  },
  {
   "cell_type": "code",
   "execution_count": 3,
   "metadata": {},
   "outputs": [
    {
     "name": "stdout",
     "output_type": "stream",
     "text": [
      "target angle:  1.609193570338772\n",
      "0\t1.4008e+06\t16517.7\t16517.7\t1\t0\n",
      "1\t1.39993e+06\t11.3699\t11.3699\t1\t0\n",
      "2\t1.39993e+06\t1.21311\t1.21311\t1\t0\n",
      "3\t1.39993e+06\t7.09075e-05\t7.09075e-05\t1\t0\n",
      "1.0874243714772276\t1399925.332895356\t1399925.332895356\t1054149.810794087\t321976.4773414544\t23799.044759815206\n",
      "target angle:  1.5952309363228174\n",
      "0\t1.36943e+06\t16283.9\t16283.9\t1\t0\n",
      "1\t1.36856e+06\t11.4782\t11.4782\t1\t0\n",
      "2\t1.36856e+06\t1.21505\t1.21505\t1\t0\n",
      "3\t1.36856e+06\t6.25748e-05\t6.25748e-05\t1\t0\n",
      "1.073135791665954\t1368564.5594456468\t1368564.5594456468\t1036401.132740836\t308882.48446104425\t23280.942243765774\n",
      "target angle:  1.5812683023068628\n",
      "0\t1.33869e+06\t16061.7\t16061.7\t1\t0\n",
      "1\t1.33782e+06\t11.6266\t11.6266\t1\t0\n",
      "2\t1.33782e+06\t1.21766\t1.21766\t1\t0\n",
      "3\t1.33782e+06\t7.83298e-05\t7.83298e-05\t1\t0\n",
      "1.0589601190393363\t1337821.2270930056\t1337821.2270930058\t1019011.4172174139\t296021.4796390958\t22788.33023649663\n",
      "target angle:  1.5673056682909081\n",
      "0\t1.30854e+06\t15851.5\t15851.5\t1\t0\n",
      "1\t1.30767e+06\t11.8166\t11.8166\t1\t0\n",
      "2\t1.30767e+06\t1.22081\t1.22081\t1\t0\n",
      "3\t1.30767e+06\t7.04481e-05\t7.04481e-05\t1\t0\n",
      "1.0449014875478615\t1307674.6982764034\t1307674.6982764034\t1001962.2077765061\t283392.6717931112\t22319.81870678649\n",
      "target angle:  1.5533430342749535\n",
      "0\t1.27898e+06\t15653.5\t15653.5\t1\t0\n",
      "1\t1.27811e+06\t12.0498\t12.0498\t1\t0\n",
      "2\t1.27811e+06\t1.22429\t1.22429\t1\t0\n",
      "3\t1.27811e+06\t6.7334e-05\t6.7334e-05\t1\t0\n",
      "1.0309645471351483\t1278105.2671410942\t1278105.2671410942\t985235.5270343112\t270995.63639485824\t21874.103711925247\n",
      "target angle:  1.5393804002589988\n",
      "0\t1.24997e+06\t15468\t15468\t1\t0\n",
      "1\t1.24909e+06\t12.3279\t12.3279\t1\t0\n",
      "2\t1.24909e+06\t1.22776\t1.22776\t1\t0\n",
      "3\t1.24909e+06\t6.71555e-05\t6.71555e-05\t1\t0\n",
      "1.017154480585094\t1249094.1223440035\t1249094.1223440035\t968813.8629974815\t258830.2989183259\t21449.96042819669\n",
      "target angle:  1.5254177662430441\n",
      "0\t1.22151e+06\t15295.4\t15295.4\t1\t0\n",
      "1\t1.22062e+06\t12.6525\t12.6525\t1\t0\n",
      "2\t1.22062e+06\t1.23081\t1.23081\t1\t0\n",
      "3\t1.22062e+06\t6.9223e-05\t6.9223e-05\t1\t0\n",
      "1.0034770063131375\t1220623.3128822134\t1220623.3128822134\t952680.1628297905\t246896.91416498856\t21046.2358874349\n",
      "target angle:  1.5114551322270895\n",
      "0\t1.19357e+06\t15136.2\t15136.2\t1\t0\n",
      "1\t1.19268e+06\t13.025\t13.025\t1\t0\n",
      "2\t1.19268e+06\t1.23295\t1.23295\t1\t0\n",
      "3\t1.19268e+06\t6.93867e-05\t6.93867e-05\t1\t0\n",
      "0.9899383701439282\t1192675.7176457113\t1192675.7176457113\t936817.8302627751\t235196.04567187143\t20661.841711064444\n",
      "target angle:  1.4974924982111348\n",
      "0\t1.16614e+06\t14990.8\t14990.8\t1\t0\n",
      "1\t1.16524e+06\t13.4466\t13.4466\t1\t0\n",
      "2\t1.16524e+06\t1.23373\t1.23373\t1\t0\n",
      "3\t1.16524e+06\t7.5192e-05\t7.5192e-05\t1\t0\n",
      "0.9765453284574791\t1165235.019071943\t1165235.0190719431\t921210.7232653893\t223728.5487416188\t20295.747064935727\n",
      "target angle:  1.4835298641951802\n",
      "0\t1.13921e+06\t14859.6\t14859.6\t1\t0\n",
      "1\t1.13829e+06\t13.9179\t13.9179\t1\t0\n",
      "2\t1.13829e+06\t1.23264\t1.23264\t1\t0\n",
      "3\t1.13829e+06\t7.10721e-05\t7.10721e-05\t1\t0\n",
      "0.9633051240415191\t1138285.6809977996\t1138285.6809977996\t905843.1492579867\t212495.55973766992\t19946.97200214273\n",
      "0\t1.13829e+06\t7.1072e-05\t7.1072e-05\t0\t0\n"
     ]
    }
   ],
   "source": [
    "from open_linkage import open_linkage\n",
    "def equilibriumSolver(tgtAngle, l, opts, fv):\n",
    "    opts.beta = 1e-8\n",
    "    opts.gradTol = 1e-4\n",
    "    opts.useIdentityMetric = False\n",
    "    return elastic_rods.compute_equilibrium(l, tgtAngle, options=opts, fixedVars=fv)\n",
    "# open_linkage(l, driver, 2 * np.pi/3, 25, view, zPerturbationEpsilon=0, equilibriumSolver=equilibriumSolver, maxNewtonIterationsIntermediate=20, verbose=10, useTargetAngleConstraint=False);\n",
    "open_linkage(l, driver, np.deg2rad(85) - l.averageJointAngle, 10, view, zPerturbationEpsilon=0, equilibriumSolver=equilibriumSolver, maxNewtonIterationsIntermediate=20, verbose=10, useTargetAngleConstraint=True);"
   ]
  },
  {
   "cell_type": "code",
   "execution_count": null,
   "metadata": {},
   "outputs": [],
   "source": []
  },
  {
   "cell_type": "code",
   "execution_count": null,
   "metadata": {},
   "outputs": [],
   "source": []
  }
 ],
 "metadata": {
  "kernelspec": {
   "display_name": "Python 3",
   "language": "python",
   "name": "python3"
  },
  "language_info": {
   "codemirror_mode": {
    "name": "ipython",
    "version": 3
   },
   "file_extension": ".py",
   "mimetype": "text/x-python",
   "name": "python",
   "nbconvert_exporter": "python",
   "pygments_lexer": "ipython3",
   "version": "3.7.1"
  }
 },
 "nbformat": 4,
 "nbformat_minor": 2
}
