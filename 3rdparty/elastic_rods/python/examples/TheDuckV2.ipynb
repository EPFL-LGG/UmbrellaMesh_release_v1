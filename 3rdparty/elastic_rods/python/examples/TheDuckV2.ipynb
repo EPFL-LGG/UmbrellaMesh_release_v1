{
 "cells": [
  {
   "cell_type": "code",
   "execution_count": 1,
   "metadata": {},
   "outputs": [
    {
     "data": {
      "application/vnd.jupyter.widget-view+json": {
       "model_id": "1ce7cc576d064179aba10cb0a6b75871",
       "version_major": 2,
       "version_minor": 0
      },
      "text/plain": [
       "Renderer(camera=PerspectiveCamera(aspect=2.0, children=(DirectionalLight(color='white', intensity=0.6, positio…"
      ]
     },
     "metadata": {},
     "output_type": "display_data"
    }
   ],
   "source": [
    "import sys; sys.path.append('..')\n",
    "import numpy as np, elastic_rods\n",
    "from bending_validation import suppress_stdout\n",
    "from linkage_vis import LinkageViewer\n",
    "\n",
    "l = elastic_rods.RodLinkage('../../examples/florin/20181223_205242_meshID_5cfbbdca-c7da-4def-8c4f-5d51add00001.obj', 8)\n",
    "#driver=166\n",
    "driver=l.centralJoint()\n",
    "\n",
    "#mat = elastic_rods.RodMaterial('+', 2000, 0.3, [5, 5, 0.7, 0.7], stiffAxis=elastic_rods.StiffAxis.D1)\n",
    "mat = elastic_rods.RodMaterial('rectangle', 20000, 0.3, [4, 3])\n",
    "l.setMaterial(mat)\n",
    "\n",
    "with suppress_stdout(): elastic_rods.restlen_solve(l)\n",
    "jdo = l.dofOffsetForJoint(driver)\n",
    "fixedVars = list(range(jdo, jdo + 6)) # fix rigid motion for a single joint\n",
    "fixedVars.append(jdo + 6) # constrain angle at the driving joint\n",
    "with suppress_stdout(): elastic_rods.compute_equilibrium(l, fixedVars=fixedVars)\n",
    "\n",
    "view = LinkageViewer(l, width=1024, labelOffset=-0.5)\n",
    "#view.setCameraParams(((2.656451698624758, 1.5087349593639046, 0.23168476156681694),\n",
    "# (0.052583904614345374, 0.026224725204501566, 0.9982721055721517),\n",
    "# (0.13680349418553736, -0.13680349418553736, -0.8425278443781967)))\n",
    "view.show()"
   ]
  },
  {
   "cell_type": "code",
   "execution_count": 79,
   "metadata": {},
   "outputs": [],
   "source": [
    "l.saveVisualizationGeometry('deployed_meshID_bdb78930-da3e-4a28-98f5-89c2ee17876c.obj')\n",
    "#l.writeLinkageDebugData('')"
   ]
  },
  {
   "cell_type": "code",
   "execution_count": 126,
   "metadata": {},
   "outputs": [],
   "source": [
    "from linkage_utils import writeRodSegments\n",
    "writeRodSegments(l,'rod_segments_meshID_1a219f3e-c853-4985-ad5f-f13b369c0e63.txt', zeroBasedIndexing=True)"
   ]
  },
  {
   "cell_type": "code",
   "execution_count": 127,
   "metadata": {},
   "outputs": [],
   "source": [
    "np.savetxt('restlen_meshID_1a219f3e-c853-4985-ad5f-f13b369c0e63.txt',l.getPerSegmentRestLength())"
   ]
  },
  {
   "cell_type": "code",
   "execution_count": 5,
   "metadata": {},
   "outputs": [
    {
     "name": "stdout",
     "output_type": "stream",
     "text": [
      "target angle:  1.3456488532876272\n",
      "0\t31052.8\t61.3839\t61.3839\t1\t0\n",
      "1\t31052.7\t0.00471622\t0.00471622\t1\t0\n",
      "2\t31052.7\t4.51386e-05\t4.51386e-05\t1\t0\n",
      "1.0733730085667919\t31052.653554611952\t31052.653554611952\t29832.027345866627\t1177.9498855922675\t42.67632315307445\n",
      "target angle:  1.3473941825396216\n",
      "0\t31133.1\t61.5345\t61.5345\t1\t0\n",
      "1\t31132.9\t0.00474324\t0.00474324\t1\t0\n",
      "2\t31132.9\t4.53843e-05\t4.53843e-05\t1\t0\n",
      "1.0750106296509263\t31132.922790459514\t31132.922790459514\t29914.760778647575\t1175.3751749272444\t42.786836884715505\n",
      "target angle:  1.349139511791616\n",
      "0\t31213.6\t61.6854\t61.6854\t1\t0\n",
      "1\t31213.5\t0.00477047\t0.00477047\t1\t0\n",
      "2\t31213.5\t4.52947e-05\t4.52947e-05\t1\t0\n",
      "1.0766491841823735\t31213.45297719135\t31213.45297719135\t29997.738608546333\t1172.8159914690373\t42.89837717596733\n",
      "target angle:  1.3508848410436105\n",
      "0\t31294.4\t61.8362\t61.8362\t1\t0\n",
      "1\t31294.2\t0.00479777\t0.00479777\t1\t0\n",
      "2\t31294.2\t4.51722e-05\t4.51722e-05\t1\t0\n",
      "1.0782886763582256\t31294.245896672695\t31294.245896672695\t30080.962449823208\t1170.2724917920834\t43.010955057397894\n",
      "target angle:  1.352630170295605\n",
      "0\t31375.4\t61.987\t61.987\t1\t0\n",
      "1\t31375.3\t0.00482511\t0.00482511\t1\t0\n",
      "2\t31375.3\t4.51463e-05\t4.51463e-05\t1\t0\n",
      "1.079929110445447\t31375.303341063154\t31375.303341063154\t30164.4339277653\t1167.744831672288\t43.124581625544366\n",
      "target angle:  1.3543754995475994\n",
      "0\t31456.8\t62.1378\t62.1378\t1\t0\n",
      "1\t31456.6\t0.00485263\t0.00485263\t1\t0\n",
      "2\t31456.6\t4.50191e-05\t4.50191e-05\t1\t0\n",
      "1.0815704907805488\t31456.627112837035\t31456.62711283703\t30248.154678708357\t1165.233166084404\t43.23926804425975\n",
      "target angle:  1.3561208287995938\n",
      "0\t31538.4\t62.2885\t62.2885\t1\t0\n",
      "1\t31538.2\t0.00488017\t0.00488017\t1\t0\n",
      "2\t31538.2\t4.49369e-05\t4.49369e-05\t1\t0\n",
      "1.0832128217690302\t31538.21902475763\t31538.21902475763\t30332.126350005652\t1162.7376492088463\t43.35502554311391\n",
      "target angle:  1.3578661580515883\n",
      "0\t31620.2\t62.4392\t62.4392\t1\t0\n",
      "1\t31620.1\t0.00490785\t0.00490785\t1\t0\n",
      "2\t31620.1\t4.50026e-05\t4.50026e-05\t1\t0\n",
      "1.0848561078862455\t31620.080899872173\t31620.080899872173\t30416.350600019035\t1160.2584344369072\t43.47186541623789\n",
      "target angle:  1.3596114873035827\n",
      "0\t31702.4\t62.5899\t62.5899\t1\t0\n",
      "1\t31702.2\t0.0049357\t0.0049357\t1\t0\n",
      "2\t31702.2\t4.49595e-05\t4.49595e-05\t1\t0\n",
      "1.0865003536764979\t31702.214571499615\t31702.21457149962\t30500.829098103353\t1157.795674375569\t43.589799020704106\n",
      "target angle:  1.3613568165555772\n",
      "0\t31784.8\t62.7405\t62.7405\t1\t0\n",
      "1\t31784.6\t0.00496355\t0.00496355\t1\t0\n",
      "2\t31784.6\t4.48495e-05\t4.48495e-05\t1\t0\n",
      "1.0881455637535709\t31784.621883226057\t31784.621883226057\t30585.563524601304\t1155.349520848478\t43.70883777627662\n",
      "0\t31784.6\t4.48494e-05\t4.48494e-05\t0\t0\n"
     ]
    }
   ],
   "source": [
    "from open_linkage import open_linkage\n",
    "def equilibriumSolver(tgtAngle, l, opts, fv):\n",
    "    opts.beta = 1e-8\n",
    "    opts.gradTol = 1e-4\n",
    "    opts.useIdentityMetric = False\n",
    "    return elastic_rods.compute_equilibrium(l, tgtAngle, options=opts, fixedVars=fv)\n",
    "# open_linkage(l, driver, 2 * np.pi/3, 25, view, zPerturbationEpsilon=0, equilibriumSolver=equilibriumSolver, maxNewtonIterationsIntermediate=20, verbose=10, useTargetAngleConstraint=False);\n",
    "open_linkage(l, driver, np.deg2rad(78) - l.averageJointAngle, 10, view, zPerturbationEpsilon=0, equilibriumSolver=equilibriumSolver, maxNewtonIterationsIntermediate=20, verbose=10, useTargetAngleConstraint=True);"
   ]
  },
  {
   "cell_type": "code",
   "execution_count": null,
   "metadata": {},
   "outputs": [],
   "source": []
  },
  {
   "cell_type": "code",
   "execution_count": null,
   "metadata": {},
   "outputs": [],
   "source": []
  }
 ],
 "metadata": {
  "kernelspec": {
   "display_name": "Python 3",
   "language": "python",
   "name": "python3"
  },
  "language_info": {
   "codemirror_mode": {
    "name": "ipython",
    "version": 3
   },
   "file_extension": ".py",
   "mimetype": "text/x-python",
   "name": "python",
   "nbconvert_exporter": "python",
   "pygments_lexer": "ipython3",
   "version": "3.7.1"
  }
 },
 "nbformat": 4,
 "nbformat_minor": 2
}
