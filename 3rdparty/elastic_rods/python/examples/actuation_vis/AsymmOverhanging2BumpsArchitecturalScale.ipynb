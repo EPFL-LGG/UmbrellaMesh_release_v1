{
 "cells": [
  {
   "cell_type": "code",
   "execution_count": null,
   "metadata": {},
   "outputs": [],
   "source": [
    "import sys; sys.path.append('../..')\n",
    "import numpy as np, elastic_rods\n",
    "from bending_validation import suppress_stdout\n",
    "from linkage_vis import LinkageViewer\n",
    "\n",
    "l = elastic_rods.RodLinkage('../optimized/data/AsymmOverhanging2BumpsArchitecturalScale/deployed_opt.msh')\n",
    "driver=l.centralJoint()\n",
    "\n",
    "mat = elastic_rods.RodMaterial()\n",
    "#mat.setContour(2000, 0.3, '../../../examples/cross_sections/custom_extrusion_B.obj', stiffAxis=elastic_rods.StiffAxis.D1, simplifyVisualizationMesh = 10)\n",
    "mat.setContour(20000, 0.3, '../../../examples/cross_sections/190108_section_test_R01.obj', stiffAxis=elastic_rods.StiffAxis.D1, simplifyVisualizationMesh = 10)\n",
    "l.setMaterial(mat)\n",
    "\n",
    "#l.swapJointAngleDefinitions() # use obtuse angle instead of acute since the linkage is already opened\n",
    "l.setPerSegmentRestLength(np.loadtxt('../optimized/data/AsymmOverhanging2BumpsArchitecturalScale/design_parameters.txt'))\n",
    "\n",
    "jdo = l.dofOffsetForJoint(driver)\n",
    "fixedVars = list(range(jdo, jdo + 6)) # fix rigid motion for a single joint\n",
    "with suppress_stdout(): elastic_rods.compute_equilibrium(l, np.deg2rad(93), fixedVars=fixedVars)\n",
    "\n",
    "    \n",
    "torques = np.loadtxt('data/AsymmOverhanging2BumpsArchitecturalScale/torques_11.txt')\n",
    "externalForces = np.zeros(l.numDoF())\n",
    "externalForces[l.jointAngleDoFIndices()] = torques\n",
    "\n",
    "view = LinkageViewer(l, width=1800, height=1024, labelOffset=-0.5)\n",
    "view.setCameraParams(((0.12515109108787825, -3.519781754390383, -0.20146285429421043),\n",
    " (0.3617374241899421, -0.42605325102339, 0.8292313689392199),\n",
    " (0.0, 0.0, 0.0)))\n",
    "view.show()"
   ]
  },
  {
   "cell_type": "code",
   "execution_count": null,
   "metadata": {},
   "outputs": [],
   "source": [
    "from write_render_files import writeRenderFiles, writeActuators\n",
    "directory = 'asymm_overhanging_render_data'\n",
    "for forceScale in np.linspace(1.0, 0, 51):\n",
    "    name = 'asymm_overhanging_architectural_force_{}'.format(forceScale)\n",
    "    with suppress_stdout(): elastic_rods.compute_equilibrium(l, forceScale * externalForces, fixedVars=fixedVars)\n",
    "    view.update(preserveExisting=True)\n",
    "    writeRenderFiles(l, directory, name)\n",
    "    writeActuators(l, np.where(torques > 0.1)[0], directory, name)"
   ]
  }
 ],
 "metadata": {
  "kernelspec": {
   "display_name": "Python 3",
   "language": "python",
   "name": "python3"
  },
  "language_info": {
   "codemirror_mode": {
    "name": "ipython",
    "version": 3
   },
   "file_extension": ".py",
   "mimetype": "text/x-python",
   "name": "python",
   "nbconvert_exporter": "python",
   "pygments_lexer": "ipython3",
   "version": "3.6.6"
  }
 },
 "nbformat": 4,
 "nbformat_minor": 2
}
