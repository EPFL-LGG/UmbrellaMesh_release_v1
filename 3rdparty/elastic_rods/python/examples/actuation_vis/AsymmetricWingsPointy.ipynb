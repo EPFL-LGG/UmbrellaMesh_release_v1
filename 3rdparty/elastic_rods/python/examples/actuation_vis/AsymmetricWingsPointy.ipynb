{
 "cells": [
  {
   "cell_type": "code",
   "execution_count": 1,
   "metadata": {},
   "outputs": [
    {
     "data": {
      "application/vnd.jupyter.widget-view+json": {
       "model_id": "e9579f0f8e2a4e8bb040d180db25071d",
       "version_major": 2,
       "version_minor": 0
      },
      "text/plain": [
       "Renderer(camera=PerspectiveCamera(aspect=2.0, children=(DirectionalLight(color='white', intensity=0.6, positio…"
      ]
     },
     "metadata": {},
     "output_type": "display_data"
    }
   ],
   "source": [
    "import sys; sys.path.append('../..')\n",
    "import numpy as np, elastic_rods\n",
    "from bending_validation import suppress_stdout\n",
    "from linkage_vis import LinkageViewer\n",
    "\n",
    "l = elastic_rods.RodLinkage('../optimized/data/AsymmWingsPointy/deployed_opt.msh')\n",
    "mat = elastic_rods.RodMaterial('Rectangle', 20000, 0.3, [12,8], stiffAxis=elastic_rods.StiffAxis.D1)\n",
    "l.setMaterial(mat)\n",
    "\n",
    "l.swapJointAngleDefinitions() # use obtuse angle instead of acute since the linkage is already opened\n",
    "l.setPerSegmentRestLength(np.loadtxt('../optimized/data/AsymmWingsPointy/design_parameters.txt'))\n",
    "\n",
    "torques = np.loadtxt('data/AsymmetricWingsPointy/torques_4.txt')\n",
    "externalForces = np.zeros(l.numDoF())\n",
    "externalForces[l.jointAngleDoFIndices()] = torques\n",
    "\n",
    "jdo = l.dofOffsetForJoint(l.centralJoint())\n",
    "fixedVars = list(range(jdo, jdo + 6)) # fix rigid motion for a single joint\n",
    "with suppress_stdout(): elastic_rods.compute_equilibrium(l, 2.0, fixedVars=fixedVars)\n",
    "view = LinkageViewer(l, width=1024, labelOffset=-0.5)\n",
    "view.setCameraParams(((0.4075185454716348, 3.1892642201046715, 0.3099480992441177),\n",
    " (0.15364528336486324, 0.2839547329660347, 0.9464474821805594),\n",
    " (0.0, 0.0, 0.0)))\n",
    "view.show()"
   ]
  },
  {
   "cell_type": "code",
   "execution_count": 2,
   "metadata": {},
   "outputs": [],
   "source": [
    "with suppress_stdout(): elastic_rods.compute_equilibrium(l, 1.0 * externalForces, fixedVars=fixedVars)\n",
    "view.update()"
   ]
  },
  {
   "cell_type": "code",
   "execution_count": 5,
   "metadata": {},
   "outputs": [],
   "source": [
    "from write_render_files import writeRenderFiles, writeActuators\n",
    "writeRenderFiles(l, 'AsymPointyDataFlat', 'asymPointy_Fab')\n",
    "writeActuators(l, np.where(torques > 1e-4)[0], directory='AsymPointyDataFlat', name='asymPointy_Fab')"
   ]
  },
  {
   "cell_type": "code",
   "execution_count": 18,
   "metadata": {},
   "outputs": [],
   "source": [
    "print(\"\\n\".join(map(str, a)), end='', file=open('actuated_joints.txt', 'w'))"
   ]
  }
 ],
 "metadata": {
  "kernelspec": {
   "display_name": "Python 3",
   "language": "python",
   "name": "python3"
  },
  "language_info": {
   "codemirror_mode": {
    "name": "ipython",
    "version": 3
   },
   "file_extension": ".py",
   "mimetype": "text/x-python",
   "name": "python",
   "nbconvert_exporter": "python",
   "pygments_lexer": "ipython3",
   "version": "3.7.1"
  }
 },
 "nbformat": 4,
 "nbformat_minor": 2
}
