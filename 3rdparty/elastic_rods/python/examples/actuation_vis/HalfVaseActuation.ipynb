{
 "cells": [
  {
   "cell_type": "code",
   "execution_count": 10,
   "metadata": {},
   "outputs": [
    {
     "data": {
      "application/vnd.jupyter.widget-view+json": {
       "model_id": "91f04ef73f2d42a9982cbe494dadbd75",
       "version_major": 2,
       "version_minor": 0
      },
      "text/plain": [
       "Renderer(camera=PerspectiveCamera(aspect=2.0, children=(DirectionalLight(color='white', intensity=0.6, positio…"
      ]
     },
     "metadata": {},
     "output_type": "display_data"
    }
   ],
   "source": [
    "import sys; sys.path.append('../..')\n",
    "import numpy as np, elastic_rods\n",
    "from bending_validation import suppress_stdout\n",
    "from linkage_vis import LinkageViewer\n",
    "\n",
    "l = elastic_rods.RodLinkage('../../../examples/actuation_sparsification/half_vase_opened.msh')\n",
    "mat = elastic_rods.RodMaterial('+', 20000, 0.3, [2.0, 2.0, 0.2, 0.2], stiffAxis=elastic_rods.StiffAxis.D1)\n",
    "l.setMaterial(mat)\n",
    "\n",
    "torques = np.loadtxt('data/half_vase/torques_0.122069_L0.5_0.txt')\n",
    "externalForces = np.zeros(l.numDoF())\n",
    "externalForces[l.jointAngleDoFIndices()] = torques\n",
    "\n",
    "jdo = l.dofOffsetForJoint(l.centralJoint())\n",
    "fixedVars = list(range(jdo, jdo + 6)) # fix rigid motion for a single joint\n",
    "with suppress_stdout(): elastic_rods.compute_equilibrium(l, l.averageJointAngle, fixedVars=fixedVars)\n",
    "view = LinkageViewer(l, width=1024, labelOffset=-0.5)\n",
    "view.setCameraParams(((0.4075185454716348, 3.1892642201046715, 0.3099480992441177),\n",
    " (0.15364528336486324, 0.2839547329660347, 0.9464474821805594),\n",
    " (0.0, 0.0, 0.0)))\n",
    "view.show()"
   ]
  },
  {
   "cell_type": "code",
   "execution_count": 11,
   "metadata": {},
   "outputs": [],
   "source": [
    "with suppress_stdout(): elastic_rods.compute_equilibrium(l, 1.0 * externalForces, fixedVars=fixedVars)\n",
    "view.update()"
   ]
  },
  {
   "cell_type": "code",
   "execution_count": 9,
   "metadata": {},
   "outputs": [],
   "source": [
    "from linkage_utils import writeRodSegments\n",
    "writeRodSegments(l,'rod_segments_half_vase_actuated.txt', zeroBasedIndexing=True)\n",
    "np.savetxt('restlen_half_vase_actuated.txt',l.getPerSegmentRestLength())\n",
    "np.savetxt('normals_half_vase_actuated', np.array([j.normal for j in l.joints()]))\n",
    "l.writeLinkageDebugData('deployed_half_vase_actuated_opened.msh')"
   ]
  },
  {
   "cell_type": "code",
   "execution_count": 4,
   "metadata": {},
   "outputs": [],
   "source": [
    "print('\\n'.join(map(str, np.where(torques > 1e-5)[0])), file=open('half_vase_actuated_joints.txt', 'w'))"
   ]
  },
  {
   "cell_type": "code",
   "execution_count": null,
   "metadata": {},
   "outputs": [],
   "source": []
  }
 ],
 "metadata": {
  "kernelspec": {
   "display_name": "Python 3",
   "language": "python",
   "name": "python3"
  },
  "language_info": {
   "codemirror_mode": {
    "name": "ipython",
    "version": 3
   },
   "file_extension": ".py",
   "mimetype": "text/x-python",
   "name": "python",
   "nbconvert_exporter": "python",
   "pygments_lexer": "ipython3",
   "version": "3.7.1"
  }
 },
 "nbformat": 4,
 "nbformat_minor": 2
}
