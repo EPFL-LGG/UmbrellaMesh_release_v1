{
 "cells": [
  {
   "cell_type": "code",
   "execution_count": null,
   "metadata": {},
   "outputs": [],
   "source": [
    "import sys; sys.path.append('../..'); sys.path.append('../../../../weaving')\n",
    "import numpy as np, elastic_rods\n",
    "from linkage_vis import LinkageViewer\n",
    "from bending_validation import suppress_stdout as so\n",
    "\n",
    "linkage_name = 'double_linkage'\n",
    "linkage_path = '../../../examples/{}.obj'.format(linkage_name)\n",
    "\n",
    "#mat = elastic_rods.RodMaterial('+', 2000, 0.3, [5, 5, 0.7, 0.7], stiffAxis=elastic_rods.StiffAxis.D1)\n",
    "mat = elastic_rods.RodMaterial('rectangle', 20000, 0.3, [0.5, 0.5])"
   ]
  },
  {
   "cell_type": "code",
   "execution_count": null,
   "metadata": {},
   "outputs": [],
   "source": [
    "OPTS = elastic_rods.NewtonOptimizerOptions()\n",
    "OPTS.gradTol = 1e-6\n",
    "OPTS.verbose = 10;\n",
    "OPTS.beta = 1e-8\n",
    "OPTS.niter = 1000\n",
    "OPTS.verboseNonPosDef = False"
   ]
  },
  {
   "cell_type": "code",
   "execution_count": null,
   "metadata": {},
   "outputs": [],
   "source": [
    "xshell_offset_linkage = elastic_rods.RodLinkage(linkage_path, 20, rod_interleaving_type = elastic_rods.InterleavingType.xshell)\n",
    "#driver=166\n",
    "# driver=xshell_offset_linkage.centralJoint()\n",
    "\n",
    "xshell_offset_linkage.setMaterial(mat)\n",
    "\n",
    "# jdo = xshell_offset_linkage.dofOffsetForJoint(driver)\n",
    "# fixedVars = list(range(jdo, jdo + 6)) # fix rigid motion for a single joint\n",
    "# fixedVars.append(jdo + 6) # constrain angle at the driving joint\n",
    "with so(): elastic_rods.compute_equilibrium(xshell_offset_linkage, fixedVars=xshell_offset_linkage.restLenFixedVars(), options = OPTS)\n",
    "\n",
    "xshell_offset_view1 = LinkageViewer(xshell_offset_linkage, width=1024)\n",
    "xshell_offset_view1.show()"
   ]
  },
  {
   "cell_type": "code",
   "execution_count": null,
   "metadata": {},
   "outputs": [],
   "source": [
    "xshell_offset_linkage.energy(), xshell_offset_linkage.energyBend(), xshell_offset_linkage.energyStretch(), xshell_offset_linkage.energyTwist()"
   ]
  },
  {
   "cell_type": "code",
   "execution_count": null,
   "metadata": {},
   "outputs": [],
   "source": [
    "noOffset_linkage = elastic_rods.RodLinkage(linkage_path, 20, rod_interleaving_type = elastic_rods.InterleavingType.noOffset)\n",
    "#driver=166\n",
    "# driver=noOffset_linkage.centralJoint()\n",
    "\n",
    "noOffset_linkage.setMaterial(mat)\n",
    "\n",
    "# jdo = noOffset_linkage.dofOffsetForJoint(driver)\n",
    "# fixedVars = list(range(jdo, jdo + 6)) # fix rigid motion for a single joint\n",
    "# fixedVars.append(jdo + 6) # constrain angle at the driving joint\n",
    "with so(): elastic_rods.compute_equilibrium(noOffset_linkage, fixedVars=noOffset_linkage.restLenFixedVars(), options = OPTS)\n",
    "\n",
    "noOffset_view = LinkageViewer(noOffset_linkage, width=1024)\n",
    "noOffset_view.show()"
   ]
  },
  {
   "cell_type": "code",
   "execution_count": null,
   "metadata": {},
   "outputs": [],
   "source": [
    "noOffset_linkage.energy(), noOffset_linkage.energyBend(), noOffset_linkage.energyStretch(), noOffset_linkage.energyTwist()"
   ]
  },
  {
   "cell_type": "code",
   "execution_count": null,
   "metadata": {},
   "outputs": [],
   "source": [
    "xshell_rod = xshell_offset_linkage.segment(1).rod"
   ]
  },
  {
   "cell_type": "code",
   "execution_count": null,
   "metadata": {},
   "outputs": [],
   "source": [
    "xshell_rod.energyStretch()"
   ]
  },
  {
   "cell_type": "code",
   "execution_count": null,
   "metadata": {},
   "outputs": [],
   "source": [
    "noOffset_rod = noOffset_linkage.segment(1).rod"
   ]
  },
  {
   "cell_type": "code",
   "execution_count": null,
   "metadata": {},
   "outputs": [],
   "source": [
    "noOffset_rod.energyStretch()"
   ]
  }
 ],
 "metadata": {
  "kernelspec": {
   "display_name": "Python 3",
   "language": "python",
   "name": "python3"
  },
  "language_info": {
   "codemirror_mode": {
    "name": "ipython",
    "version": 3
   },
   "file_extension": ".py",
   "mimetype": "text/x-python",
   "name": "python",
   "nbconvert_exporter": "python",
   "pygments_lexer": "ipython3",
   "version": "3.7.5"
  }
 },
 "nbformat": 4,
 "nbformat_minor": 4
}
