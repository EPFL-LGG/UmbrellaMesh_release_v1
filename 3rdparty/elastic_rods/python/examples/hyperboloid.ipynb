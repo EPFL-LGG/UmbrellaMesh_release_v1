{
 "cells": [
  {
   "cell_type": "code",
   "execution_count": null,
   "metadata": {
    "scrolled": true
   },
   "outputs": [],
   "source": [
    "import sys; sys.path.append('..')\n",
    "import numpy as np, elastic_rods\n",
    "from linkage_vis import LinkageViewer\n",
    "from bending_validation import suppress_stdout\n",
    "\n",
    "l = elastic_rods.RodLinkage('../../examples/hyperboloid_open.obj', 5)\n",
    "mat = elastic_rods.RodMaterial('+', 20000, 0.3, [0.05, 0.05, 0.001, 0.001])\n",
    "l.setMaterial(mat)\n",
    "driver=16\n",
    "\n",
    "view = LinkageViewer(l, width=768, labelOffset=-0.5)\n",
    "view.setCameraParams(((0.21363949107371888, -1.5745838914291204, 3.221274247846029),\n",
    " (-0.39958918133000937, -0.9163352741275177, -0.02565446459509408),\n",
    " (-0.395065608121624, 0.38240522741182065, 0.06716453768425666)))\n",
    "view.show()"
   ]
  },
  {
   "cell_type": "code",
   "execution_count": null,
   "metadata": {},
   "outputs": [],
   "source": [
    "opts = elastic_rods.NewtonOptimizerOptions()\n",
    "opts.useIdentityMetric=True\n",
    "with suppress_stdout(): elastic_rods.restlen_solve(l, opts)\n",
    "view.update()\n",
    "jdo = l.dofOffsetForJoint(driver)\n",
    "fixedVars = list(range(jdo, jdo + 6)) # fix rigid motion for a single joint\n",
    "fixedVars.append(jdo + 6) # constrain angle at the driving joint\n",
    "opts.useIdentityMetric = False\n",
    "with suppress_stdout(): elastic_rods.compute_equilibrium(l, options=opts, fixedVars=fixedVars)\n",
    "view.update()"
   ]
  },
  {
   "cell_type": "code",
   "execution_count": null,
   "metadata": {},
   "outputs": [],
   "source": [
    "restLinkage = elastic_rods.RodLinkage(l)"
   ]
  },
  {
   "cell_type": "code",
   "execution_count": null,
   "metadata": {},
   "outputs": [],
   "source": [
    "from open_linkage import open_linkage\n",
    "def equilibriumSolver(tgtAngle, l, opts, fv):\n",
    "    opts.beta = 1e-8\n",
    "    opts.useIdentityMetric = True\n",
    "    opts.useNegativeCurvatureDirection = True\n",
    "    return elastic_rods.compute_equilibrium(l, tgtAngle, options=opts, fixedVars=fv)"
   ]
  },
  {
   "cell_type": "code",
   "execution_count": null,
   "metadata": {},
   "outputs": [],
   "source": [
    "# cr = open_linkage(l, driver, -4.9 * np.pi / 16, 15, view, zPerturbationEpsilon=0, equilibriumSolver=equilibriumSolver, maxNewtonIterationsIntermediate=20, verbose=True, useTargetAngleConstraint=False);\n",
    "report = open_linkage(l, driver, -4 * np.pi / 16, 10, view, zPerturbationEpsilon=0, equilibriumSolver=equilibriumSolver, maxNewtonIterationsIntermediate=20, verbose=True, useTargetAngleConstraint=True);"
   ]
  },
  {
   "cell_type": "code",
   "execution_count": null,
   "metadata": {},
   "outputs": [],
   "source": [
    "copyLinkage = elastic_rods.RodLinkage(l)"
   ]
  },
  {
   "cell_type": "code",
   "execution_count": null,
   "metadata": {},
   "outputs": [],
   "source": [
    "l = elastic_rods.RodLinkage(restLinkage)\n",
    "cr = open_linkage(l, driver, -4 * np.pi / 16, 15, view, zPerturbationEpsilon=0, equilibriumSolver=equilibriumSolver, maxNewtonIterationsIntermediate=20, verbose=True, useTargetAngleConstraint=True, earlyStopIt=8);\n",
    "cr = open_linkage(l, driver, -4 * np.pi / 16, 15, view, zPerturbationEpsilon=0, equilibriumSolver=equilibriumSolver, maxNewtonIterationsIntermediate=4, verbose=True, useTargetAngleConstraint=True, earlyStopIt=2);"
   ]
  },
  {
   "cell_type": "code",
   "execution_count": null,
   "metadata": {},
   "outputs": [],
   "source": [
    "from compute_vibrational_modes import *\n",
    "from mode_viewer import ModeViewer\n",
    "lambdas, modes = compute_vibrational_modes(l, fixedVars[:-1], MassMatrixType.FULL, n=4);\n",
    "mview = ModeViewer(l, modes, lambdas, width=1024, height=768, amplitude=0.2)\n",
    "mview.show()"
   ]
  },
  {
   "cell_type": "code",
   "execution_count": null,
   "metadata": {},
   "outputs": [],
   "source": [
    "# For debugging Newton step:\n",
    "# l.updateSourceFrame()\n",
    "# l.setDoFs(l.getDoFs())\n",
    "optimizer = elastic_rods.get_equilibrium_optimizer(l, targetAverageAngle=0.7975787788597704, fixedVars=list(range(jdo, jdo + 6)))\n",
    "optimizer.options.beta = 1e-8\n",
    "optimizer.options.useIdentityMetric = True\n",
    "prob = optimizer.get_problem()\n",
    "prob.setVars(prob.applyBoundConstraints(prob.getVars()))\n",
    "d = optimizer.newton_step(False)"
   ]
  },
  {
   "cell_type": "code",
   "execution_count": null,
   "metadata": {},
   "outputs": [],
   "source": [
    "elastic_rods.linkage_deformation_analysis(restLinkage, l, \"hyperboloid_deformation_analysis.msh\")"
   ]
  },
  {
   "cell_type": "code",
   "execution_count": null,
   "metadata": {},
   "outputs": [],
   "source": [
    "restLinkage.writeTriangulation('test.msh')"
   ]
  }
 ],
 "metadata": {
  "kernelspec": {
   "display_name": "Python 3",
   "language": "python",
   "name": "python3"
  },
  "language_info": {
   "codemirror_mode": {
    "name": "ipython",
    "version": 3
   },
   "file_extension": ".py",
   "mimetype": "text/x-python",
   "name": "python",
   "nbconvert_exporter": "python",
   "pygments_lexer": "ipython3",
   "version": "3.6.6"
  }
 },
 "nbformat": 4,
 "nbformat_minor": 2
}
