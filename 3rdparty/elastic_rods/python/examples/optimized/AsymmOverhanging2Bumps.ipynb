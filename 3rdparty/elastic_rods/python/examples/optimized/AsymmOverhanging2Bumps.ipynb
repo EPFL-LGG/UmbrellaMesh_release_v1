{
 "cells": [
  {
   "cell_type": "code",
   "execution_count": null,
   "metadata": {},
   "outputs": [],
   "source": [
    "import sys; sys.path.append('../..')\n",
    "import numpy as np, elastic_rods\n",
    "from bending_validation import suppress_stdout\n",
    "from linkage_vis import LinkageViewer\n",
    "\n",
    "l = elastic_rods.RodLinkage('data/AsymmOverhanging2Bumps/flat_opt.msh')\n",
    "driver=l.centralJoint()\n",
    "\n",
    "mat = elastic_rods.RodMaterial('Rectangle', 2000, 0.3, [12,8], stiffAxis=elastic_rods.StiffAxis.D1)\n",
    "l.setMaterial(mat)\n",
    "\n",
    "l.setPerSegmentRestLength(np.loadtxt('data/AsymmOverhanging2Bumps/design_parameters.txt'))\n",
    "\n",
    "jdo = l.dofOffsetForJoint(driver)\n",
    "fixedVars = list(range(jdo, jdo + 6)) # fix rigid motion for a single joint\n",
    "fixedVars.append(jdo + 6) # constrain angle at the driving joint\n",
    "with suppress_stdout(): elastic_rods.compute_equilibrium(l, fixedVars=fixedVars)\n",
    "\n",
    "view = LinkageViewer(l, width=1024, labelOffset=-0.5)\n",
    "view.setCameraParams(((-0.32613526983651236, -1.6251272340294551, 0.8696908362175328),\n",
    " (0.1303206918666238, -0.7938697110342012, -0.5939590888048278),\n",
    " (0.0, 0.0, 0.0)))\n",
    "view.show()"
   ]
  },
  {
   "cell_type": "code",
   "execution_count": null,
   "metadata": {},
   "outputs": [],
   "source": [
    "from open_linkage import open_linkage\n",
    "def equilibriumSolver(tgtAngle, l, opts, fv):\n",
    "    opts.beta = 1e-8\n",
    "    opts.gradTol = 1e-4\n",
    "    opts.useIdentityMetric = False\n",
    "    return elastic_rods.compute_equilibrium(l, tgtAngle, options=opts, fixedVars=fv)\n",
    "#open_linkage(l, driver, np.deg2rad(5.86) - l.averageJointAngle, 50, view, zPerturbationEpsilon=0, equilibriumSolver=equilibriumSolver, maxNewtonIterationsIntermediate=20, verbose=10, useTargetAngleConstraint=True);\n",
    "open_linkage(l, driver, np.deg2rad(93) - l.averageJointAngle, 50, view, zPerturbationEpsilon=0, equilibriumSolver=equilibriumSolver, maxNewtonIterationsIntermediate=20, verbose=10, useTargetAngleConstraint=True);"
   ]
  }
 ],
 "metadata": {
  "kernelspec": {
   "display_name": "Python 3",
   "language": "python",
   "name": "python3"
  },
  "language_info": {
   "codemirror_mode": {
    "name": "ipython",
    "version": 3
   },
   "file_extension": ".py",
   "mimetype": "text/x-python",
   "name": "python",
   "nbconvert_exporter": "python",
   "pygments_lexer": "ipython3",
   "version": "3.6.5"
  }
 },
 "nbformat": 4,
 "nbformat_minor": 2
}
