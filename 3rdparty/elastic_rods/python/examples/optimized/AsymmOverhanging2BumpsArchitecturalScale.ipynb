{
 "cells": [
  {
   "cell_type": "code",
   "execution_count": 1,
   "metadata": {},
   "outputs": [
    {
     "data": {
      "application/vnd.jupyter.widget-view+json": {
       "model_id": "de9161d31cd14617866479c023af19b7",
       "version_major": 2,
       "version_minor": 0
      },
      "text/plain": [
       "Renderer(camera=PerspectiveCamera(aspect=2.0, children=(DirectionalLight(color='white', intensity=0.6, positio…"
      ]
     },
     "metadata": {},
     "output_type": "display_data"
    }
   ],
   "source": [
    "import sys; sys.path.append('../..')\n",
    "import numpy as np, elastic_rods\n",
    "from bending_validation import suppress_stdout\n",
    "from linkage_vis import LinkageViewer\n",
    "\n",
    "l = elastic_rods.RodLinkage('data/AsymmOverhanging2BumpsArchitecturalScale/flat_opt.msh')\n",
    "driver=l.centralJoint()\n",
    "\n",
    "mat = elastic_rods.RodMaterial('Rectangle', 2000, 0.3, [12,8], stiffAxis=elastic_rods.StiffAxis.D1)\n",
    "#mat.setContour(2000, 0.3, '../../../examples/cross_sections/custom_extrusion_B.obj', stiffAxis=elastic_rods.StiffAxis.D1, simplifyVisualizationMesh = 10)\n",
    "mat.setContour(2000, 0.3, '../../../examples/cross_sections/190108_section_test_R01.obj', stiffAxis=elastic_rods.StiffAxis.D1, simplifyVisualizationMesh = 10)\n",
    "l.setMaterial(mat)\n",
    "\n",
    "l.setPerSegmentRestLength(np.loadtxt('data/AsymmOverhanging2BumpsArchitecturalScale/design_parameters.txt'))\n",
    "\n",
    "jdo = l.dofOffsetForJoint(driver)\n",
    "fixedVars = list(range(jdo, jdo + 6)) # fix rigid motion for a single joint\n",
    "fixedVars.append(jdo + 6) # constrain angle at the driving joint\n",
    "with suppress_stdout(): elastic_rods.compute_equilibrium(l, fixedVars=fixedVars)\n",
    "\n",
    "view = LinkageViewer(l, width=1024, labelOffset=-0.5)\n",
    "view.setCameraParams(((-0.32613526983651236, -1.6251272340294551, 0.8696908362175328),\n",
    " (0.1303206918666238, -0.7938697110342012, -0.5939590888048278),\n",
    " (0.0, 0.0, 0.0)))\n",
    "view.show()"
   ]
  },
  {
   "cell_type": "code",
   "execution_count": 6,
   "metadata": {},
   "outputs": [
    {
     "ename": "TypeError",
     "evalue": "savetxt() missing 1 required positional argument: 'X'",
     "output_type": "error",
     "traceback": [
      "\u001b[0;31m---------------------------------------------------------------------------\u001b[0m",
      "\u001b[0;31mTypeError\u001b[0m                                 Traceback (most recent call last)",
      "\u001b[0;32m<ipython-input-6-6b6463e637bf>\u001b[0m in \u001b[0;36m<module>\u001b[0;34m\u001b[0m\n\u001b[1;32m      1\u001b[0m \u001b[0;32mfrom\u001b[0m \u001b[0mlinkage_utils\u001b[0m \u001b[0;32mimport\u001b[0m \u001b[0mwriteRodSegments\u001b[0m\u001b[0;34m\u001b[0m\u001b[0;34m\u001b[0m\u001b[0m\n\u001b[1;32m      2\u001b[0m \u001b[0mwriteRodSegments\u001b[0m\u001b[0;34m(\u001b[0m\u001b[0ml\u001b[0m\u001b[0;34m,\u001b[0m\u001b[0;34m'rod_segments_asymmOverhangRender.txt'\u001b[0m\u001b[0;34m,\u001b[0m \u001b[0mzeroBasedIndexing\u001b[0m\u001b[0;34m=\u001b[0m\u001b[0;32mTrue\u001b[0m\u001b[0;34m)\u001b[0m\u001b[0;34m\u001b[0m\u001b[0;34m\u001b[0m\u001b[0m\n\u001b[0;32m----> 3\u001b[0;31m \u001b[0mnp\u001b[0m\u001b[0;34m.\u001b[0m\u001b[0msavetxt\u001b[0m\u001b[0;34m(\u001b[0m\u001b[0;34m'restlen_asymmOverhangRender.txt'\u001b[0m\u001b[0;34m)\u001b[0m\u001b[0;34m\u001b[0m\u001b[0;34m\u001b[0m\u001b[0m\n\u001b[0m\u001b[1;32m      4\u001b[0m \u001b[0mnp\u001b[0m\u001b[0;34m.\u001b[0m\u001b[0msavetxt\u001b[0m\u001b[0;34m(\u001b[0m\u001b[0;34m'normals_asymmOverhangRender.txt'\u001b[0m\u001b[0;34m,\u001b[0m \u001b[0mnp\u001b[0m\u001b[0;34m.\u001b[0m\u001b[0marray\u001b[0m\u001b[0;34m(\u001b[0m\u001b[0;34m[\u001b[0m\u001b[0mj\u001b[0m\u001b[0;34m.\u001b[0m\u001b[0mnormal\u001b[0m \u001b[0;32mfor\u001b[0m \u001b[0mj\u001b[0m \u001b[0;32min\u001b[0m \u001b[0ml\u001b[0m\u001b[0;34m.\u001b[0m\u001b[0mjoints\u001b[0m\u001b[0;34m(\u001b[0m\u001b[0;34m)\u001b[0m\u001b[0;34m]\u001b[0m\u001b[0;34m)\u001b[0m\u001b[0;34m)\u001b[0m\u001b[0;34m\u001b[0m\u001b[0;34m\u001b[0m\u001b[0m\n\u001b[1;32m      5\u001b[0m \u001b[0ml\u001b[0m\u001b[0;34m.\u001b[0m\u001b[0mwriteLinkageDebugData\u001b[0m\u001b[0;34m(\u001b[0m\u001b[0;34m'deployed_asymmOverhangRender.msh'\u001b[0m\u001b[0;34m)\u001b[0m\u001b[0;34m\u001b[0m\u001b[0;34m\u001b[0m\u001b[0m\n",
      "\u001b[0;31mTypeError\u001b[0m: savetxt() missing 1 required positional argument: 'X'"
     ]
    }
   ],
   "source": [
    "from linkage_utils import writeRodSegments\n",
    "writeRodSegments(l,'rod_segments_asymmOverhangRender.txt', zeroBasedIndexing=True)\n",
    "np.savetxt('restlen_asymmOverhangRender.txt',l.getPerSegmentRestLength())\n",
    "np.savetxt('normals_asymmOverhangRender.txt', np.array([j.normal for j in l.joints()]))\n",
    "l.writeLinkageDebugData('deployed_asymmOverhangRender.msh')"
   ]
  },
  {
   "cell_type": "code",
   "execution_count": 10,
   "metadata": {},
   "outputs": [
    {
     "name": "stdout",
     "output_type": "stream",
     "text": [
      "target angle:  0.17278759594743875\n",
      "0\t57550.2\t136.67\t136.67\t1\t0\n",
      "1\t57549.8\t0.0141153\t0.0141153\t1\t0\n",
      "2\t57549.8\t0.000346798\t0.000346798\t1\t0\n",
      "3\t57549.8\t0.00031239\t0.00031239\t0.125\t0\n",
      "4\t57549.8\t0.000294559\t0.000294559\t0.00195312\t0\n",
      "5\t57549.8\t0.00029282\t0.00029282\t0.000976562\t0\n",
      "6\t57549.8\t0.00029148\t0.00029148\t0.000488281\t0\n",
      "7\t57549.8\t0.000294397\t0.000294397\t6.10352e-05\t0\n",
      "8\t57549.8\t0.000294397\t0.000294397\t3.05176e-05\t0\n",
      "Backtracking failed.\n",
      "8\t57549.8\t0.000294397\t0.000294397\t3.05176e-05\t0\n",
      "0.18778108423531165\t57549.75863393292\t57549.75863393293\t56172.78564013481\t1.7722912753118728e-20\t1376.9729937980974\n",
      "target angle:  0.17104226669544442\n",
      "0\t55836.6\t137.597\t137.597\t1\t0\n",
      "1\t55836.2\t0.0151536\t0.0151536\t1\t0\n",
      "2\t55836.2\t0.000322177\t0.000322177\t1\t0\n",
      "3\t55836.2\t0.000320573\t0.000320573\t0.5\t0\n",
      "4\t55836.2\t0.000283619\t0.000283619\t0.000976562\t0\n",
      "5\t55836.2\t0.000283619\t0.000283619\t0.00195312\t0\n",
      "6\t55836.2\t0.000283619\t0.000283619\t3.05176e-05\t0\n",
      "Backtracking failed.\n",
      "6\t55836.2\t0.000283619\t0.000283619\t3.05176e-05\t0\n",
      "0.18513021385769624\t55836.2014415746\t55836.2014415746\t54506.77576862323\t1.737890723704638e-20\t1329.425672951329\n",
      "target angle:  0.1692969374434501\n",
      "0\t54153.4\t138.593\t138.593\t1\t0\n",
      "1\t54153\t0.0163594\t0.0163594\t1\t0\n",
      "2\t54153\t0.000319228\t0.000319228\t0.0625\t0\n",
      "3\t54153\t0.000313902\t0.000313902\t0.5\t0\n",
      "4\t54153\t0.000287264\t0.000287264\t0.5\t0\n",
      "5\t54153\t0.000321179\t0.000321179\t0.00390625\t0\n",
      "6\t54153\t0.000319521\t0.000319521\t1\t0\n",
      "7\t54153\t0.000395254\t0.000395254\t0.125\t0\n",
      "8\t54153\t0.000322957\t0.000322957\t0.125\t0\n",
      "9\t54153\t0.000314402\t0.000314402\t3.05176e-05\t0\n",
      "Backtracking failed.\n",
      "9\t54153\t0.000314402\t0.000314402\t3.05176e-05\t0\n",
      "0.18247095440105637\t54153.00531060412\t54153.00531060413\t52869.932946827925\t1.7056567714919887e-20\t1283.0723637762285\n",
      "target angle:  0.16755160819145576\n",
      "0\t52500.5\t139.664\t139.664\t1\t0\n",
      "1\t52500.1\t0.0176485\t0.0176485\t1\t0\n",
      "2\t52500.1\t0.000296249\t0.000296249\t1\t0\n",
      "3\t52500.1\t0.000324688\t0.000324688\t0.25\t0\n",
      "4\t52500.1\t0.000308991\t0.000308991\t0.015625\t0\n",
      "5\t52500.1\t0.000310172\t0.000310172\t0.000488281\t0\n",
      "6\t52500.1\t0.000310229\t0.000310229\t3.05176e-05\t0\n",
      "Backtracking failed.\n",
      "6\t52500.1\t0.000310229\t0.000310229\t3.05176e-05\t0\n",
      "0.17980303744025602\t52500.05388542278\t52500.05388542278\t51262.11847508308\t1.668112618058103e-20\t1237.935410339698\n",
      "target angle:  0.16580627893946143\n",
      "0\t50877.7\t140.82\t140.82\t1\t0\n",
      "1\t50877.2\t0.0191479\t0.0191479\t1\t0\n",
      "2\t50877.2\t0.000328189\t0.000328189\t0.000244141\t0\n",
      "3\t50877.2\t0.000328189\t0.000328189\t3.05176e-05\t0\n",
      "Backtracking failed.\n",
      "3\t50877.2\t0.000328189\t0.000328189\t3.05176e-05\t0\n",
      "0.17712618274693293\t50877.21832694039\t50877.21832694038\t49683.18394149205\t1.6373286082706577e-20\t1194.034385448308\n",
      "target angle:  0.1640609496874671\n",
      "0\t49284.8\t142.072\t142.072\t1\t0\n",
      "1\t49284.4\t0.020839\t0.020839\t1\t0\n",
      "2\t49284.4\t0.000304206\t0.000304206\t0.000488281\t0\n",
      "3\t49284.4\t0.000302762\t0.000302762\t3.05176e-05\t0\n",
      "Backtracking failed.\n",
      "3\t49284.4\t0.000302762\t0.000302762\t3.05176e-05\t0\n",
      "0.17444009810344274\t49284.35646063734\t49284.35646063734\t48132.97102056449\t1.6026601846291338e-20\t1151.3854400728446\n",
      "target angle:  0.16231562043547276\n",
      "0\t47721.8\t143.43\t143.43\t1\t0\n",
      "1\t47721.3\t0.0227745\t0.0227745\t1\t0\n",
      "2\t47721.3\t0.000317702\t0.000317702\t0.5\t0\n",
      "3\t47721.3\t0.000298018\t0.000298018\t3.05176e-05\t0\n",
      "Backtracking failed.\n",
      "3\t47721.3\t0.000298018\t0.000298018\t3.05176e-05\t0\n",
      "0.1717444793844463\t47721.3119120077\t47721.3119120077\t46611.311394927216\t1.567233664635643e-20\t1110.0005170805246\n",
      "target angle:  0.16057029118347843\n",
      "0\t46188.4\t144.909\t144.909\t1\t0\n",
      "1\t46187.9\t0.0249337\t0.0249337\t1\t0\n",
      "2\t46187.9\t0.000312124\t0.000312124\t1\t0\n",
      "3\t46187.9\t0.000305946\t0.000305946\t1\t0\n",
      "4\t46187.9\t0.000304204\t0.000304204\t0.03125\t0\n",
      "5\t46187.9\t0.000316437\t0.000316437\t0.00012207\t0\n",
      "6\t46187.9\t0.000316364\t0.000316364\t6.10352e-05\t0\n",
      "7\t46187.9\t0.000316364\t0.000316364\t3.05176e-05\t0\n",
      "Backtracking failed.\n",
      "7\t46187.9\t0.000316364\t0.000316364\t3.05176e-05\t0\n",
      "0.16903901105278182\t46187.91325073814\t46187.91325073813\t45118.02685454843\t1.530775373310452e-20\t1069.8863961896886\n",
      "target angle:  0.1588249619314841\n",
      "0\t44684.5\t146.526\t146.526\t1\t0\n",
      "1\t44684\t0.0274007\t0.0274007\t1\t0\n",
      "2\t44684\t0.0003458\t0.0003458\t0.25\t0\n",
      "3\t44684\t0.00029237\t0.00029237\t0.03125\t0\n",
      "4\t44684\t0.00028481\t0.00028481\t0.00012207\t0\n",
      "5\t44684\t0.00028481\t0.00028481\t3.05176e-05\t0\n",
      "Backtracking failed.\n",
      "5\t44684\t0.00028481\t0.00028481\t3.05176e-05\t0\n",
      "0.16632336729995845\t44683.97317755477\t44683.97317755478\t43652.929650157115\t1.50050107502689e-20\t1031.0435273976454\n",
      "target angle:  0.15707963267948977\n",
      "0\t43209.8\t148.301\t148.301\t1\t0\n",
      "1\t43209.3\t0.0302716\t0.0302716\t1\t0\n",
      "2\t43209.3\t0.000335827\t0.000335827\t1\t0\n",
      "3\t43209.3\t0.000338643\t0.000338643\t0.25\t0\n",
      "4\t43209.3\t0.000258562\t0.000258562\t3.05176e-05\t0\n",
      "Backtracking failed.\n",
      "4\t43209.3\t0.000258562\t0.000258562\t3.05176e-05\t0\n",
      "0.16359721416322587\t43209.28780568817\t43209.28780568817\t42215.82320707516\t1.467501462636879e-20\t993.4645986130278\n",
      "0\t43209.3\t0.000258562\t0.000258562\t0.00195312\t0\n",
      "1\t43209.3\t0.000258562\t0.000258562\t0.0078125\t0\n",
      "2\t43209.3\t0.00026771\t0.00026771\t3.05176e-05\t0\n",
      "Backtracking failed.\n",
      "2\t43209.3\t0.00026771\t0.00026771\t3.05176e-05\t0\n"
     ]
    }
   ],
   "source": [
    "from open_linkage import open_linkage\n",
    "def equilibriumSolver(tgtAngle, l, opts, fv):\n",
    "    opts.beta = 1e-8\n",
    "    opts.gradTol = 1e-12\n",
    "    opts.useIdentityMetric = False\n",
    "    return elastic_rods.compute_equilibrium(l, tgtAngle, options=opts, fixedVars=fv)\n",
    "#open_linkage(l, driver, np.deg2rad(5.86) - l.averageJointAngle, 50, view, zPerturbationEpsilon=0, equilibriumSolver=equilibriumSolver, maxNewtonIterationsIntermediate=20, verbose=10, useTargetAngleConstraint=True);\n",
    "open_linkage(l, driver, np.deg2rad(9) - l.averageJointAngle, 10, view, zPerturbationEpsilon=0, equilibriumSolver=equilibriumSolver, maxNewtonIterationsIntermediate=20, verbose=10, useTargetAngleConstraint=True);"
   ]
  },
  {
   "cell_type": "code",
   "execution_count": 11,
   "metadata": {},
   "outputs": [],
   "source": [
    "from write_render_files import writeRenderFiles\n",
    "writeRenderFiles(l, 'TeaserRestSlightlyOpen', 'teaser_rest')"
   ]
  }
 ],
 "metadata": {
  "kernelspec": {
   "display_name": "Python 3",
   "language": "python",
   "name": "python3"
  },
  "language_info": {
   "codemirror_mode": {
    "name": "ipython",
    "version": 3
   },
   "file_extension": ".py",
   "mimetype": "text/x-python",
   "name": "python",
   "nbconvert_exporter": "python",
   "pygments_lexer": "ipython3",
   "version": "3.7.1"
  }
 },
 "nbformat": 4,
 "nbformat_minor": 2
}
