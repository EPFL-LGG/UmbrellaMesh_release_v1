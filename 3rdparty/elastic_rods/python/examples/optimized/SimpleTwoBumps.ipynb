{
 "cells": [
  {
   "cell_type": "code",
   "execution_count": 2,
   "metadata": {},
   "outputs": [
    {
     "data": {
      "application/vnd.jupyter.widget-view+json": {
       "model_id": "a77be7fcb7c14ba3aec36317cd7f3bcf",
       "version_major": 2,
       "version_minor": 0
      },
      "text/plain": [
       "Renderer(camera=PerspectiveCamera(aspect=2.0, children=(DirectionalLight(color='white', intensity=0.6, positio…"
      ]
     },
     "metadata": {},
     "output_type": "display_data"
    }
   ],
   "source": [
    "import sys; sys.path.append('../..')\n",
    "import numpy as np, elastic_rods\n",
    "from bending_validation import suppress_stdout\n",
    "from linkage_vis import LinkageViewer\n",
    "\n",
    "l = elastic_rods.RodLinkage('data/simple_two_bumps_3/flat_opt.msh')\n",
    "driver=l.centralJoint()\n",
    "\n",
    "mat = elastic_rods.RodMaterial('Rectangle', 2000, 0.3, [15.3,8.1], stiffAxis=elastic_rods.StiffAxis.D1)\n",
    "l.setMaterial(mat)\n",
    "\n",
    "l.setPerSegmentRestLength(np.loadtxt('data/simple_two_bumps_3/design_parameters.txt'))\n",
    "\n",
    "jdo = l.dofOffsetForJoint(driver)\n",
    "fixedVars = list(range(jdo, jdo + 6)) # fix rigid motion for a single joint\n",
    "# fixedVars.append(jdo + 6) # constrain angle at the driving joint\n",
    "with suppress_stdout(): elastic_rods.compute_equilibrium(l, fixedVars=fixedVars)\n",
    "\n",
    "view = LinkageViewer(l, width=1024, labelOffset=-0.5)\n",
    "view.show()"
   ]
  },
  {
   "cell_type": "code",
   "execution_count": 6,
   "metadata": {},
   "outputs": [
    {
     "name": "stdout",
     "output_type": "stream",
     "text": [
      "target angle:  0.432841654494593\n",
      "0\t3496.01\t40.0702\t40.0702\t1\t0\n",
      "Backtracking failed.\n",
      "0.477578951370361\t3495.9390343551045\t3495.9390343551045\t3293.765758301431\t69.5015788537617\t132.67169719991142\n",
      "target angle:  0.42935099599060433\n",
      "0\t3429.67\t39.7882\t39.7882\t1\t0\n",
      "0.47376997863551196\t3429.595644507125\t3429.595644507125\t3231.2570759470277\t66.2133772397523\t132.12519132034657\n",
      "target angle:  0.42586033748661567\n",
      "0\t3363.86\t39.5108\t39.5108\t1\t0\n",
      "0.46995799154841356\t3363.788203063968\t3363.788203063968\t3169.1920062532968\t63.03014901262319\t131.56604779804834\n",
      "target angle:  0.422369678982627\n",
      "0\t3298.59\t39.2374\t39.2374\t1\t0\n",
      "0.4661430641763767\t3298.518776126236\t3298.518776126236\t3107.574848837029\t59.94868109262265\t130.99524619658456\n",
      "target angle:  0.41887902047863834\n",
      "0\t3233.86\t38.9682\t38.9682\t1\t0\n",
      "0.46232525666852853\t3233.7893719346034\t3233.7893719346034\t3046.409646075478\t56.966202287182256\t130.4135235719439\n",
      "target angle:  0.4153883619746497\n",
      "0\t3169.67\t38.7033\t38.7033\t1\t0\n",
      "0.45850461833279255\t3169.6019551568197\t3169.6019551568197\t2985.700246900743\t54.08027995452739\t129.82142830154936\n",
      "target angle:  0.411897703470661\n",
      "0\t3106.03\t38.4432\t38.4432\t1\t0\n",
      "0.45468119000064094\t3105.9584582150474\t3105.9584582150474\t2925.450357074542\t51.288739996041265\t129.21936114446567\n",
      "target angle:  0.40840704496667235\n",
      "0\t3042.93\t38.1883\t38.1883\t1\t0\n",
      "0.45085500584534227\t3042.8607903125812\t3042.8607903125812\t2865.6635791446006\t48.589604998387856\t128.60760616959345\n",
      "target angle:  0.4049163864626837\n",
      "0\t2980.38\t37.9393\t37.9393\t1\t0\n",
      "0.4470260947750093\t2980.3108447029244\t2980.3108447029244\t2806.343443469656\t45.98104636948939\t127.98635486378035\n",
      "target angle:  0.401425727958695\n",
      "0\t2918.38\t37.6968\t37.6968\t1\t0\n",
      "0.4431944814982331\t2918.310504583958\t2918.3105045839584\t2747.4934325019685\t43.46134726325365\t127.35572481873692\n",
      "target angle:  0.39793506945470636\n",
      "0\t2856.93\t37.4617\t37.4617\t1\t0\n",
      "0.43936018734932303\t2856.861647948715\t2856.8616479487155\t2689.1169998408395\t41.028873827213665\t126.71577428066279\n",
      "target angle:  0.3944444109507177\n",
      "0\t2796.03\t37.2347\t37.2347\t1\t0\n",
      "0.4355232309201656\t2795.96615161582\t2795.96615161582\t2631.217585191271\t38.68205288541388\t126.0665135391349\n",
      "target angle:  0.39095375244672903\n",
      "0\t2735.69\t37.0169\t37.0169\t1\t0\n",
      "0.43168362855082076\t2735.6258946471057\t2735.6258946471057\t2573.798626141934\t36.419354615970164\t125.40791388920235\n",
      "target angle:  0.38746309394274037\n",
      "0\t2675.91\t36.8093\t36.8093\t1\t0\n",
      "0.4278413947055354\t2675.8427612784008\t2675.8427612784008\t2516.8635674336965\t34.239279121920724\t124.7399147227822\n",
      "target angle:  0.3839724354387517\n",
      "0\t2616.69\t36.6129\t36.6129\t1\t0\n",
      "0.4239965422620888\t2616.6186435019254\t2616.6186435019254\t2460.415868271578\t32.14034605202644\t124.06242917832134\n",
      "target angle:  0.38048177693476304\n",
      "0\t2558.02\t36.4292\t36.4292\t1\t0\n",
      "0.42014908273435414\t2557.9554433659587\t2557.9554433659587\t2404.4590080820817\t30.12108662160162\t123.37534866227693\n",
      "target angle:  0.3769911184307744\n",
      "0\t2499.92\t36.2595\t36.2595\t1\t0\n",
      "0.416299026437699\t2499.8550750908535\t2499.8550750908535\t2348.996491060908\t28.180037533133767\t122.6785464968108\n",
      "target angle:  0.3735004599267857\n",
      "0\t2442.39\t36.1054\t36.1054\t1\t0\n",
      "0.4124463826143933\t2442.3194670465564\t2442.319467046556\t2294.0318497666494\t26.315736406490817\t121.97188087341705\n",
      "target angle:  0.37000980142279705\n",
      "0\t2385.42\t35.9687\t35.9687\t1\t0\n",
      "0.4085911595212767\t2385.350563635766\t2385.350563635766\t2239.5686479590945\t24.52671841465593\t121.25519726201561\n",
      "target angle:  0.3665191429188084\n",
      "0\t2329.02\t35.8517\t35.8517\t1\t0\n",
      "0.40473336449237757\t2328.950327145382\t2328.950327145382\t2185.6104828715766\t22.811513886170946\t120.52833038763423\n",
      "target angle:  0.3630284844148197\n",
      "0\t2273.19\t35.7565\t35.7565\t1\t0\n",
      "0.4008730039732232\t2273.12073956805\t2273.12073956805\t2132.160987027521\t21.168646685619002\t119.79110585491064\n",
      "target angle:  0.35953782591083105\n",
      "0\t2217.93\t35.6861\t35.6861\t1\t0\n",
      "0.3970100835394833\t2217.863804454365\t2217.863804454365\t2079.2238297359568\t19.596633221672022\t119.0433414967355\n",
      "target angle:  0.3560471674068424\n",
      "0\t2163.25\t35.6437\t35.6437\t1\t0\n",
      "0.3931446078974277\t2163.18154880259\t2163.18154880259\t2026.8027183519664\t18.093981962572528\t118.28484848805006\n",
      "target angle:  0.3525565089028537\n",
      "0\t2109.15\t35.6332\t35.6332\t1\t0\n",
      "0.3892765808669926\t2109.076025010494\t2109.076025010494\t1974.9013993736944\t16.659193362605826\t117.51543227419369\n",
      "target angle:  0.34906585039886506\n",
      "0\t2055.62\t35.6592\t35.6592\t1\t0\n",
      "0.38540600535542757\t2055.5493129189176\t2055.549312918917\t1923.5236594602547\t15.290760120886222\t116.73489333777682\n",
      "target angle:  0.3455751918948764\n",
      "0\t2002.68\t35.7272\t35.7272\t1\t0\n",
      "Backtracking failed.\n",
      "0.3815328833169924\t2002.6035219564878\t2002.603521956488\t1872.6733263991916\t13.987167701979427\t115.94302785531681\n",
      "target angle:  0.34208453339088774\n",
      "0\t1950.31\t35.8442\t35.8442\t1\t0\n",
      "0.37765721570976285\t1950.2407934112198\t1950.2407934112196\t1822.3542698225942\t12.74689497612824\t115.13962861249676\n",
      "target angle:  0.33859387488689907\n",
      "0\t1898.54\t36.0191\t36.0191\t1\t0\n",
      "0.3737790023972144\t1898.4633028398794\t1898.4633028398794\t1772.5704034662485\t11.568415554603103\t114.32448381902925\n",
      "target angle:  0.3351032163829104\n",
      "0\t1847.35\t36.2613\t36.2613\t1\t0\n",
      "0.36989824212707617\t1847.2732626426498\t1847.2732626426496\t1723.3256847314467\t10.450198241986774\t113.4973796692152\n",
      "target angle:  0.33161255787892174\n",
      "0\t1796.75\t36.5849\t36.5849\t1\t0\n",
      "0.36601493241562333\t1796.6729248117622\t1796.6729248117622\t1674.624117073109\t9.390708571312832\t112.65809916734051\n",
      "target angle:  0.3281218993749331\n",
      "0\t1746.75\t37.0072\t37.0072\t1\t0\n",
      "0.3621290694619396\t1746.664583883099\t1746.664583883099\t1626.4697513464182\t8.388409954413307\t111.80642258226773\n",
      "target angle:  0.3246312408709444\n",
      "0\t1697.33\t37.5511\t37.5511\t1\t0\n",
      "0.35824064804530514\t1697.2505800967438\t1697.2505800967438\t1578.8666876263997\t7.441764979732798\t110.94212749061211\n",
      "target angle:  0.32114058236695575\n",
      "0\t1648.52\t38.2474\t38.2474\t1\t0\n",
      "Backtracking failed.\n",
      "0.3543496612709432\t1648.4333028020963\t1648.4333028020965\t1531.819082368965\t6.549238090340158\t110.0649823427907\n",
      "target angle:  0.3176499238629671\n",
      "0\t1600.31\t39.1282\t39.1282\t1\t0\n",
      "0.35045610114766373\t1600.2151941250518\t1600.2151941250522\t1485.3311256682225\t5.709290244335801\t109.17477821249359\n",
      "target angle:  0.3141592653589784\n",
      "0\t1552.7\t40.2846\t40.2846\t1\t0\n",
      "0.34655995705395115\t1552.59875291513\t1552.5987529151298\t1439.4070944942484\t4.920393682745084\t108.27126473813613\n",
      "target angle:  0.31066860685498976\n",
      "0\t1505.69\t41.774\t41.774\t1\t0\n",
      "0.3426612169978626\t1505.5865390065715\t1505.5865390065715\t1394.0513055582169\t4.181019890675128\t107.35421355767912\n",
      "target angle:  0.3071779483510011\n",
      "0\t1459.3\t43.7415\t43.7415\t1\t0\n",
      "0.3387598667700085\t1459.1811778239419\t1459.181177823942\t1349.2681442715063\t3.48964763671277\t106.42338591572302\n",
      "target angle:  0.30368728984701243\n",
      "0\t1413.52\t46.4033\t46.4033\t1\t0\n",
      "0.33485588992736104\t1413.3853653470144\t1413.3853653470142\t1305.0620639986766\t2.844762943233165\t105.4785384051042\n",
      "target angle:  0.30019663134302377\n",
      "0\t1368.36\t50.1302\t50.1302\t1\t0\n",
      "0.33094926762716315\t1368.2018734985145\t1368.2018734985145\t1261.4375910391373\t2.24486039535867\t104.5194220640178\n",
      "target angle:  0.2967059728390351\n",
      "0\t1323.83\t55.6129\t55.6129\t1\t0\n",
      "0.32703997837156285\t1323.6335559472127\t1323.6335559472127\t1218.3993309754146\t1.6884448279903188\t103.54578014380785\n",
      "target angle:  0.29321531433504644\n",
      "0\t1279.95\t64.301\t64.301\t1\t0\n",
      "0.32312799656716196\t1279.683354408132\t1279.683354408132\t1175.9519856539027\t1.1740384590283597\t102.55733029520094\n",
      "target angle:  0.2897246558310578\n",
      "0\t1236.77\t79.8348\t79.8348\t1\t0\n",
      "0.3192133012430703\t1236.3543054446975\t1236.3543054446975\t1134.1002890149248\t0.7001402622493594\t101.55387616752336\n",
      "target angle:  0.2862339973270691\n",
      "0\t1194.53\t114.645\t114.645\t1\t0\n",
      "Backtracking failed.\n",
      "0.3152958550597218\t1193.6495478250827\t1193.649547825083\t1092.8491854048707\t0.26532517178476667\t100.53503724842686\n",
      "target angle:  0.28274333882308045\n",
      "0\t1156.08\t256.788\t256.788\t1\t0\n",
      "10\t1151.58\t8.20948e-05\t8.20948e-05\t1\t0\n",
      "0.31134433498469666\t1151.5769029111348\t1151.5769029111352\t1052.5174065683914\t1.9280354682565132e-10\t99.05949634255082\n",
      "target angle:  0.2792526803190918\n",
      "0\t1110.21\t13.0539\t13.0539\t1\t0\n",
      "0.30733169149005757\t1110.1957672008205\t1110.1957672008205\t1013.47118448692\t9.418052069147274e-10\t96.72458271295862\n",
      "target angle:  0.2757620218151031\n",
      "0\t1069.54\t13.0558\t13.0558\t1\t0\n",
      "0.30331887050371764\t1069.524901562952\t1069.524901562952\t975.1457623103596\t2.1787286667384754e-10\t94.37913925237511\n",
      "target angle:  0.27227136331111446\n",
      "0\t1029.58\t13.0579\t13.0579\t1\t0\n",
      "0.2993058911691663\t1029.5662213282285\t1029.5662213282287\t937.5427416509644\t1.2571007233206288e-11\t92.02347967725211\n",
      "target angle:  0.2687807048071258\n",
      "0\t990.337\t13.0601\t13.0601\t1\t0\n",
      "0.29529276677567906\t990.3217799972673\t990.3217799972675\t900.6638065135206\t2.795040053381481e-13\t89.65797348374747\n",
      "target angle:  0.26529004630313713\n",
      "0\t951.809\t13.0625\t13.0625\t1\t0\n",
      "0.2912795119368332\t951.7937746742783\t951.7937746742784\t864.5107336531556\t2.9711773460333695e-15\t87.2830410211224\n",
      "target angle:  0.26179938779914846\n",
      "0\t913.999\t13.065\t13.065\t1\t0\n",
      "0.2872661427263124\t913.9845518238349\t913.9845518238349\t829.0853944857085\t1.6809155906439234e-17\t84.89915733812724\n",
      "0\t913.985\t4.48007e-05\t4.48007e-05\t0\t0\n"
     ]
    }
   ],
   "source": [
    "from open_linkage import open_linkage\n",
    "def equilibriumSolver(tgtAngle, l, opts, fv):\n",
    "    opts.beta = 1e-8\n",
    "    opts.gradTol = 1e-4\n",
    "    opts.useIdentityMetric = False\n",
    "    return elastic_rods.compute_equilibrium(l, tgtAngle, options=opts, fixedVars=fv)\n",
    "open_linkage(l, driver, np.deg2rad(15) - l.averageJointAngle, 50, view, zPerturbationEpsilon=0, equilibriumSolver=equilibriumSolver, maxNewtonIterationsIntermediate=20, verbose=10, useTargetAngleConstraint=True);"
   ]
  },
  {
   "cell_type": "code",
   "execution_count": null,
   "metadata": {},
   "outputs": [],
   "source": [
    "# Output fabrication data\n",
    "from linkage_utils import writeRodSegments\n",
    "writeRodSegments(l,'rod_segments_meshID_1d1c1dc9-4638-474e-8f7f-6b95998b8a32.txt', zeroBasedIndexing=True)\n",
    "np.savetxt('restlen_meshID_1d1c1dc9-4638-474e-8f7f-6b95998b8a32.txt',l.getPerSegmentRestLength())"
   ]
  },
  {
   "cell_type": "code",
   "execution_count": null,
   "metadata": {},
   "outputs": [],
   "source": [
    "# Output rendering data (rest configuration)\n",
    "writeRodSegments(l,'rod_segments_2bumps_rest.txt', zeroBasedIndexing=True)\n",
    "np.savetxt('restlen_2bumps_rest.txt',l.getPerSegmentRestLength())\n",
    "np.savetxt('normals_2bumps_rest.txt', np.array([j.normal for j in l.joints()]))\n",
    "l.writeLinkageDebugData('deployed_2bumps_rest.msh')"
   ]
  },
  {
   "cell_type": "code",
   "execution_count": 7,
   "metadata": {},
   "outputs": [
    {
     "data": {
      "application/vnd.jupyter.widget-view+json": {
       "model_id": "60ecc00d17e946a890780def6375f06b",
       "version_major": 2,
       "version_minor": 0
      },
      "text/plain": [
       "VBox(children=(Renderer(camera=PerspectiveCamera(children=(DirectionalLight(color='white', intensity=0.6, posi…"
      ]
     },
     "metadata": {},
     "output_type": "display_data"
    }
   ],
   "source": [
    "import compute_vibrational_modes\n",
    "fixedVarsWithoutActuator = fixedVars[:-1]\n",
    "# lambdas, modes = compute_vibrational_modes.compute_vibrational_modes(l, fixedVars=fixedVarsWithoutActuator, mtype=compute_vibrational_modes.MassMatrixType.FULL)\n",
    "lambdas, modes = compute_vibrational_modes.compute_vibrational_modes(l, fixedVars=[], mtype=compute_vibrational_modes.MassMatrixType.FULL, n=16, sigma=-1e-2)\n",
    "\n",
    "import mode_viewer, importlib\n",
    "importlib.reload(mode_viewer);\n",
    "mview = mode_viewer.ModeViewer(l, modes, lambdas, amplitude=5.0)\n",
    "mview.show()"
   ]
  },
  {
   "cell_type": "code",
   "execution_count": null,
   "metadata": {},
   "outputs": [],
   "source": [
    "# Output rendering data (deployed configuration)\n",
    "writeRodSegments(l,'rod_segments_2bumps_95.txt', zeroBasedIndexing=True)\n",
    "np.savetxt('restlen_2bumps_95.txt',l.getPerSegmentRestLength())\n",
    "np.savetxt('normals_2bumps_95.txt', np.array([j.normal for j in l.joints()]))\n",
    "l.writeLinkageDebugData('deployed_2bumps_95.msh')"
   ]
  },
  {
   "cell_type": "code",
   "execution_count": null,
   "metadata": {},
   "outputs": [],
   "source": []
  }
 ],
 "metadata": {
  "kernelspec": {
   "display_name": "Python 3",
   "language": "python",
   "name": "python3"
  },
  "language_info": {
   "codemirror_mode": {
    "name": "ipython",
    "version": 3
   },
   "file_extension": ".py",
   "mimetype": "text/x-python",
   "name": "python",
   "nbconvert_exporter": "python",
   "pygments_lexer": "ipython3",
   "version": "3.7.3"
  }
 },
 "nbformat": 4,
 "nbformat_minor": 4
}
