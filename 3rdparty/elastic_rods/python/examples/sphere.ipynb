{
 "cells": [
  {
   "cell_type": "code",
   "execution_count": null,
   "metadata": {},
   "outputs": [],
   "source": [
    "import numpy as np\n",
    "import sys; sys.path.append('..')\n",
    "from bending_validation import suppress_stdout\n",
    "\n",
    "import elastic_rods\n",
    "from linkage_vis import LinkageViewer\n",
    "from elastic_rods import EnergyType"
   ]
  },
  {
   "cell_type": "code",
   "execution_count": null,
   "metadata": {},
   "outputs": [],
   "source": [
    "l = elastic_rods.RodLinkage('../../examples/sphere_open.obj', 10)\n",
    "mat = elastic_rods.RodMaterial('rectangle', 20000, 0.3, [0.008, 0.001])\n",
    "l.setMaterial(mat)"
   ]
  },
  {
   "cell_type": "code",
   "execution_count": null,
   "metadata": {
    "scrolled": false
   },
   "outputs": [],
   "source": [
    "sphereView = LinkageViewer(l, width=768, height=512, labelOffset=-0.5)\n",
    "sphereView.setCameraParams(((1.0285379158600272, 3.657456693129147, 0.7152688786806418),\n",
    " (-0.05581693079870617, 0.15687135472757766, 0.9860404901940621),\n",
    " (-0.07426255785500183, -0.021637594449990902, -0.33950041086040444)))\n",
    "sphereView.show()"
   ]
  },
  {
   "cell_type": "code",
   "execution_count": null,
   "metadata": {},
   "outputs": [],
   "source": [
    "l.restLengthLaplacianEnergy(), l.energyBend(), l.energyStretch(), l.energyTwist(), l.energy()"
   ]
  },
  {
   "cell_type": "code",
   "execution_count": null,
   "metadata": {},
   "outputs": [],
   "source": [
    "#with suppress_stdout(): elastic_rods.restlen_solve(l, niter=100, verbose=False)\n",
    "sphereView.update()\n",
    "driver=60\n",
    "#driver=67\n",
    "jdo = l.dofOffsetForJoint(driver)\n",
    "fixedVars = list(range(jdo, jdo + 6)) # fix rigid motion for a single joint\n",
    "fixedVars.append(jdo + 6) # constrain angle at the driving joint\n",
    "opts = elastic_rods.NewtonOptimizerOptions()\n",
    "opts.niter = 1000\n",
    "with suppress_stdout(): elastic_rods.compute_equilibrium(l, options=opts, fixedVars=fixedVars)\n",
    "sphereView.update()"
   ]
  },
  {
   "cell_type": "code",
   "execution_count": null,
   "metadata": {},
   "outputs": [],
   "source": [
    "l.averageJointAngle"
   ]
  },
  {
   "cell_type": "code",
   "execution_count": null,
   "metadata": {},
   "outputs": [],
   "source": [
    "from open_linkage import open_linkage\n",
    "def equilibriumSolver(tgtAngle, l, opts, fv):\n",
    "    opts.useIdentityMetric = True\n",
    "    opts.beta = 1e-8\n",
    "#     opts.useNegativeCurvatureDirection = False\n",
    "    return elastic_rods.compute_equilibrium(l, tgtAngle, options=opts, fixedVars=fv)\n",
    "elastic_rods.benchmark_reset()\n",
    "cr = open_linkage(l, driver, -1.25, 50, sphereView, zPerturbationEpsilon=0, equilibriumSolver=equilibriumSolver, verbose=False, useTargetAngleConstraint=True)\n",
    "elastic_rods.benchmark_report()"
   ]
  }
 ],
 "metadata": {
  "kernelspec": {
   "display_name": "Python 3",
   "language": "python",
   "name": "python3"
  },
  "language_info": {
   "codemirror_mode": {
    "name": "ipython",
    "version": 3
   },
   "file_extension": ".py",
   "mimetype": "text/x-python",
   "name": "python",
   "nbconvert_exporter": "python",
   "pygments_lexer": "ipython3",
   "version": "3.6.6"
  }
 },
 "nbformat": 4,
 "nbformat_minor": 2
}
