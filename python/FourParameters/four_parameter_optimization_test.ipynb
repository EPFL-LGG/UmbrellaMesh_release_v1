{
 "cells": [
  {
   "cell_type": "code",
   "execution_count": null,
   "id": "8c2390c8",
   "metadata": {},
   "outputs": [],
   "source": [
    "import sys\n",
    "sys.path.append('..')\n",
    "import umbrella_mesh\n",
    "import elastic_rods\n",
    "import linkage_vis\n",
    "from umbrella_mesh import UmbrellaEnergyType\n",
    "from bending_validation import suppress_stdout as so\n",
    "from visualization_helper import *\n",
    "import importlib, pipeline_helper"
   ]
  },
  {
   "cell_type": "code",
   "execution_count": null,
   "id": "c5c4c34c",
   "metadata": {},
   "outputs": [],
   "source": [
    "importlib.reload(pipeline_helper)\n",
    "from pipeline_helper import allEnergies, allGradientNorms, allDesignObjectives, allDesignGradientNorms"
   ]
  },
  {
   "cell_type": "code",
   "execution_count": null,
   "id": "12034667",
   "metadata": {},
   "outputs": [],
   "source": [
    "import numpy as np\n",
    "import numpy.linalg as la"
   ]
  },
  {
   "cell_type": "code",
   "execution_count": null,
   "id": "9577fdd2",
   "metadata": {},
   "outputs": [],
   "source": [
    "import pickle, gzip"
   ]
  },
  {
   "cell_type": "markdown",
   "id": "ac786a97",
   "metadata": {},
   "source": [
    "### Initialization"
   ]
  },
  {
   "cell_type": "code",
   "execution_count": null,
   "id": "f7115152",
   "metadata": {},
   "outputs": [],
   "source": [
    "name = 'hemisphere_1t'\n",
    "input_path = '../../data/{}.json.gz'.format(name)"
   ]
  },
  {
   "cell_type": "code",
   "execution_count": null,
   "id": "75c744d2",
   "metadata": {},
   "outputs": [],
   "source": [
    "from load_jsondata import read_data\n",
    "input_data, io = read_data(filepath = input_path)\n",
    "import mesh\n",
    "target_mesh = mesh.Mesh(input_data['target_v'], input_data['target_f'])"
   ]
  },
  {
   "cell_type": "code",
   "execution_count": null,
   "id": "e7fd7420",
   "metadata": {},
   "outputs": [],
   "source": [
    "curr_um = umbrella_mesh.UmbrellaMesh(io)\n",
    "thickness = io.material_params[6]\n",
    "target_height_multiplier = input_data['target_spacing_factor']\n",
    "# target_height_multiplier = 1"
   ]
  },
  {
   "cell_type": "code",
   "execution_count": null,
   "id": "cb31475e",
   "metadata": {},
   "outputs": [],
   "source": [
    "# curr_um = pickle.load(gzip.open(\"../../output/hemisphere_1t_four_parameters_optimized_equilibrium_2022_01_19_18_49_target_height_factor_1.0.pkl.gz\", 'r'))"
   ]
  },
  {
   "cell_type": "markdown",
   "id": "206bd731",
   "metadata": {},
   "source": [
    "#### Pin Rigid Motion\n",
    "\n"
   ]
  },
  {
   "cell_type": "code",
   "execution_count": null,
   "id": "b0017287",
   "metadata": {},
   "outputs": [],
   "source": [
    "use_pin = False"
   ]
  },
  {
   "cell_type": "code",
   "execution_count": null,
   "id": "2dc65972",
   "metadata": {},
   "outputs": [],
   "source": [
    "driver = curr_um.centralJoint()\n",
    "jdo = curr_um.dofOffsetForJoint(driver)\n",
    "fixedVars = (list(range(jdo, jdo + 6)) if use_pin else []) + curr_um.rigidJointAngleDoFIndices()"
   ]
  },
  {
   "cell_type": "code",
   "execution_count": null,
   "id": "477f7efd",
   "metadata": {},
   "outputs": [],
   "source": [
    "import py_newton_optimizer\n",
    "OPTS = py_newton_optimizer.NewtonOptimizerOptions()\n",
    "OPTS.gradTol = 1e-10\n",
    "OPTS.verbose = 1\n",
    "OPTS.beta = 1e-6\n",
    "OPTS.niter = 300\n",
    "OPTS.verboseNonPosDef = False"
   ]
  },
  {
   "cell_type": "code",
   "execution_count": null,
   "id": "e8998a28",
   "metadata": {},
   "outputs": [],
   "source": [
    "rod_colors = get_color_field(curr_um, input_data)"
   ]
  },
  {
   "cell_type": "code",
   "execution_count": null,
   "id": "90bc534c",
   "metadata": {},
   "outputs": [],
   "source": [
    "# view = linkage_vis.LinkageViewer(curr_um, width=1024, height=600)\n",
    "# view.update(scalarField = rod_colors)\n",
    "# view.show()"
   ]
  },
  {
   "cell_type": "code",
   "execution_count": null,
   "id": "3b884cbe",
   "metadata": {},
   "outputs": [],
   "source": [
    "import mesh\n",
    "view = linkage_vis.LinkageViewerWithSurface(curr_um, target_mesh, width=1024, height=600)\n",
    "set_surface_view_options(view, color = 'green', surface_color = 'gray', umbrella_transparent = False, surface_transparent = True)\n",
    "view.averagedMaterialFrames = True\n",
    "view.showScalarField(rod_colors)\n",
    "view.show()"
   ]
  },
  {
   "cell_type": "code",
   "execution_count": null,
   "id": "37ccf749",
   "metadata": {},
   "outputs": [],
   "source": [
    "allEnergies(curr_um)"
   ]
  },
  {
   "cell_type": "code",
   "execution_count": null,
   "id": "7d387e12",
   "metadata": {},
   "outputs": [],
   "source": [
    "view.getCameraParams()"
   ]
  },
  {
   "cell_type": "code",
   "execution_count": null,
   "id": "235e3f85",
   "metadata": {},
   "outputs": [],
   "source": [
    "view.getSize()"
   ]
  },
  {
   "cell_type": "code",
   "execution_count": null,
   "id": "dc4c1edd",
   "metadata": {},
   "outputs": [],
   "source": [
    "import time"
   ]
  },
  {
   "cell_type": "code",
   "execution_count": null,
   "id": "86b96685",
   "metadata": {},
   "outputs": [],
   "source": [
    "# def renderToFile(path, view, renderCam = None):\n",
    "#     orender = view.offscreenRenderer(width=2048, height=1200)\n",
    "#     if renderCam is not None:\n",
    "#         orender.setCameraParams(renderCam)\n",
    "#     orender.render()\n",
    "#     orender.save(path)\n",
    "# renderToFile('{}_target_height_factor_{}_{}.png'.format(name, target_height_multiplier, time.strftime(\"%Y_%m_%d_%H_%M\")), view)"
   ]
  },
  {
   "cell_type": "code",
   "execution_count": null,
   "id": "333473ff",
   "metadata": {},
   "outputs": [],
   "source": [
    "curr_um.deploymentForceType = umbrella_mesh.DeploymentForceType.LinearActuator"
   ]
  },
  {
   "cell_type": "code",
   "execution_count": null,
   "id": "9de10243",
   "metadata": {},
   "outputs": [],
   "source": [
    "import importlib, pipeline_helper\n",
    "importlib.reload(pipeline_helper)"
   ]
  },
  {
   "cell_type": "code",
   "execution_count": null,
   "id": "19454c7f",
   "metadata": {},
   "outputs": [],
   "source": [
    "from pipeline_helper import set_joint_vector_field, show_center_joint_normal, show_joint_normal"
   ]
  },
  {
   "cell_type": "code",
   "execution_count": null,
   "id": "0d8033a2",
   "metadata": {
    "tags": []
   },
   "outputs": [],
   "source": [
    "from equilibrium_solve_analysis import EquilibriumSolveAnalysis\n",
    "eqays = EquilibriumSolveAnalysis(curr_um)\n",
    "def eqm_callback(prob, i):\n",
    "    eqays.record(prob)\n",
    "    if (i % 2 == 0):\n",
    "        view.showScalarField(rod_colors)"
   ]
  },
  {
   "cell_type": "code",
   "execution_count": null,
   "id": "9dadcec8",
   "metadata": {},
   "outputs": [],
   "source": [
    "curr_um.targetDeploymentHeight = thickness * target_height_multiplier\n",
    "curr_um.repulsionEnergyWeight = 0\n",
    "curr_um.attractionWeight = 1e-1\n",
    "curr_um.setHoldClosestPointsFixed(True)\n",
    "curr_um.scaleInputPosWeights(1)"
   ]
  },
  {
   "cell_type": "code",
   "execution_count": null,
   "id": "6a1a0217",
   "metadata": {},
   "outputs": [],
   "source": [
    "curr_um.angleBoundEnforcement = umbrella_mesh.AngleBoundEnforcement.Penalty"
   ]
  },
  {
   "cell_type": "code",
   "execution_count": null,
   "id": "ead10634",
   "metadata": {},
   "outputs": [],
   "source": [
    "allGradientNorms(curr_um)"
   ]
  },
  {
   "cell_type": "code",
   "execution_count": null,
   "id": "2e1d8c86",
   "metadata": {},
   "outputs": [],
   "source": [
    "dof = curr_um.getDoFs()\n",
    "for i in range(curr_um.numJoints()):\n",
    "    # if (curr_um.joint(i).jointType() == umbrella_mesh.JointType.X):\n",
    "    dof[curr_um.dofOffsetForJoint(i) + 6] = 1e-3\n",
    "curr_um.setDoFs(dof)"
   ]
  },
  {
   "cell_type": "code",
   "execution_count": null,
   "id": "2efcaa49",
   "metadata": {},
   "outputs": [],
   "source": [
    "view.showScalarField(rod_colors)"
   ]
  },
  {
   "cell_type": "code",
   "execution_count": null,
   "id": "df4b0328",
   "metadata": {
    "scrolled": true
   },
   "outputs": [],
   "source": [
    "curr_um.uniformDeploymentEnergyWeight = 1e-3\n",
    "with so(): results = umbrella_mesh.compute_equilibrium(curr_um, callback = eqm_callback, options = OPTS, fixedVars = fixedVars, elasticEnergyIncreaseFactorLimit=2.5)\n",
    "curr_um.uniformDeploymentEnergyWeight = 1e-2\n",
    "with so(): results = umbrella_mesh.compute_equilibrium(curr_um, callback = eqm_callback, options = OPTS, fixedVars = fixedVars, elasticEnergyIncreaseFactorLimit=2.5)\n",
    "curr_um.uniformDeploymentEnergyWeight = 1e-1\n",
    "with so(): results = umbrella_mesh.compute_equilibrium(curr_um, callback = eqm_callback, options = OPTS, fixedVars = fixedVars, elasticEnergyIncreaseFactorLimit=2.5)\n",
    "curr_um.uniformDeploymentEnergyWeight = 1e0\n",
    "with so(): results = umbrella_mesh.compute_equilibrium(curr_um, callback = eqm_callback, options = OPTS, fixedVars = fixedVars, elasticEnergyIncreaseFactorLimit=2.5)"
   ]
  },
  {
   "cell_type": "code",
   "execution_count": null,
   "id": "280412c1",
   "metadata": {},
   "outputs": [],
   "source": [
    "curr_um.uniformDeploymentEnergyWeight = 1e0\n",
    "with so(): results = umbrella_mesh.compute_equilibrium(curr_um, callback = eqm_callback, options = OPTS, fixedVars = fixedVars, elasticEnergyIncreaseFactorLimit=2.5)"
   ]
  },
  {
   "cell_type": "code",
   "execution_count": null,
   "id": "439dd821",
   "metadata": {},
   "outputs": [],
   "source": [
    "results.success"
   ]
  },
  {
   "cell_type": "code",
   "execution_count": null,
   "id": "7e025696",
   "metadata": {},
   "outputs": [],
   "source": [
    "eqays.plot()"
   ]
  },
  {
   "cell_type": "markdown",
   "id": "52e37725",
   "metadata": {},
   "source": [
    "### Initialize Design Optimization"
   ]
  },
  {
   "cell_type": "code",
   "execution_count": null,
   "id": "3472b2b6",
   "metadata": {},
   "outputs": [],
   "source": [
    "curr_um.repulsionEnergyWeight = 0\n",
    "curr_um.attractionWeight = 1e-3\n",
    "curr_um.setHoldClosestPointsFixed(False)\n",
    "curr_um.scaleInputPosWeights(0.1)"
   ]
  },
  {
   "cell_type": "code",
   "execution_count": null,
   "id": "9add902d",
   "metadata": {},
   "outputs": [],
   "source": [
    "import umbrella_optimization\n",
    "import umbrella_optimization_finite_diff"
   ]
  },
  {
   "cell_type": "code",
   "execution_count": null,
   "id": "3526d6ff",
   "metadata": {
    "tags": []
   },
   "outputs": [],
   "source": [
    "import py_newton_optimizer\n",
    "opt_opts = py_newton_optimizer.NewtonOptimizerOptions()\n",
    "opt_opts.gradTol = 1e-8\n",
    "opt_opts.verbose = 10\n",
    "opt_opts.beta = 1e-6\n",
    "opt_opts.niter = 600\n",
    "opt_opts.verboseNonPosDef = False"
   ]
  },
  {
   "cell_type": "code",
   "execution_count": null,
   "id": "9f6d7ece",
   "metadata": {
    "scrolled": true
   },
   "outputs": [],
   "source": [
    "results = umbrella_mesh.compute_equilibrium(curr_um, callback = eqm_callback, options = opt_opts, fixedVars = fixedVars, elasticEnergyIncreaseFactorLimit=2.5)"
   ]
  },
  {
   "cell_type": "code",
   "execution_count": null,
   "id": "8a2c0956",
   "metadata": {},
   "outputs": [],
   "source": [
    "opt_opts.niter = 50"
   ]
  },
  {
   "cell_type": "code",
   "execution_count": null,
   "id": "759f47a3",
   "metadata": {},
   "outputs": [],
   "source": [
    "results.success"
   ]
  },
  {
   "cell_type": "code",
   "execution_count": null,
   "id": "a29d9669",
   "metadata": {},
   "outputs": [],
   "source": [
    "optimizer = umbrella_optimization.UmbrellaOptimization(curr_um, opt_opts, 2.5, -1, False, fixedVars)"
   ]
  },
  {
   "cell_type": "code",
   "execution_count": null,
   "id": "139fdb7c",
   "metadata": {},
   "outputs": [],
   "source": [
    "optimizer.beta = 1 * 1e5\n",
    "optimizer.gamma = 1\n",
    "optimizer.eta = 0\n",
    "optimizer.zeta = 0# 1e1"
   ]
  },
  {
   "cell_type": "code",
   "execution_count": null,
   "id": "37e4f621",
   "metadata": {},
   "outputs": [],
   "source": [
    "rest_height_optimizer = umbrella_optimization.UmbrellaRestHeightsOptimization(optimizer)\n",
    "four_parameters_optimizer = umbrella_optimization.UmbrellaFourParametersOptimization(optimizer)\n",
    "single_rest_height_optimizer = umbrella_optimization.UmbrellaSingleRestHeightOptimization(rest_height_optimizer)"
   ]
  },
  {
   "cell_type": "code",
   "execution_count": null,
   "id": "62831ef2",
   "metadata": {},
   "outputs": [],
   "source": [
    "original_design_parameters = four_parameters_optimizer.params()"
   ]
  },
  {
   "cell_type": "code",
   "execution_count": null,
   "id": "3939c9ab",
   "metadata": {},
   "outputs": [],
   "source": [
    "import pipeline_helper, importlib, design_optimization_analysis\n",
    "with so(): importlib.reload(pipeline_helper)\n",
    "with so(): importlib.reload(design_optimization_analysis)"
   ]
  },
  {
   "cell_type": "code",
   "execution_count": null,
   "id": "ff0e5f7b",
   "metadata": {},
   "outputs": [],
   "source": [
    "from pipeline_helper import UmbrellaOptimizationCallback"
   ]
  },
  {
   "cell_type": "code",
   "execution_count": null,
   "id": "8130b041",
   "metadata": {},
   "outputs": [],
   "source": [
    "from umbrella_optimization import OptEnergyType"
   ]
  },
  {
   "cell_type": "code",
   "execution_count": null,
   "id": "5e908518",
   "metadata": {},
   "outputs": [],
   "source": [
    "from design_optimization_analysis import DesignOptimizationAnalysis\n",
    "doptays = DesignOptimizationAnalysis(four_parameters_optimizer)\n",
    "def eqm_callback(prob, i):\n",
    "    eqays.record(prob)\n",
    "    if (i % 2 == 0):\n",
    "        view.showScalarField(rod_colors)"
   ]
  },
  {
   "cell_type": "code",
   "execution_count": null,
   "id": "9e6a9eb5",
   "metadata": {},
   "outputs": [],
   "source": [
    "import time"
   ]
  },
  {
   "cell_type": "code",
   "execution_count": null,
   "id": "e049576d",
   "metadata": {},
   "outputs": [],
   "source": [
    "pipeline_helper.prev_time_stamp = time.time()"
   ]
  },
  {
   "cell_type": "code",
   "execution_count": null,
   "id": "b6ecc1ff",
   "metadata": {},
   "outputs": [],
   "source": [
    "uo = four_parameters_optimizer.get_parent_opt()"
   ]
  },
  {
   "cell_type": "code",
   "execution_count": null,
   "id": "e377edf9",
   "metadata": {},
   "outputs": [],
   "source": [
    "uo.equilibriumOptimizer.options.verbose = 1\n",
    "#uo.equilibriumOptimizer.options.verboseWorkingSet = True\n",
    "uo.equilibriumOptimizer.options.gradTol = 1e-10\n",
    "# Hold the closest points fixed in the target-attraction term of the equilibrium solve:\n",
    "# this seems to make the design optimization much more robust.\n",
    "uo.setHoldClosestPointsFixed(True, False)"
   ]
  },
  {
   "cell_type": "code",
   "execution_count": null,
   "id": "bf66aa7f",
   "metadata": {},
   "outputs": [],
   "source": [
    "tfview = pipeline_helper.TargetFittingVisualization(curr_um, uo.target_surface_fitter, view)\n",
    "cb = pipeline_helper.UmbrellaOptimizationCallback(four_parameters_optimizer, view, True, False, 1, rod_colors, doptays.record, tfview=tfview)"
   ]
  },
  {
   "cell_type": "code",
   "execution_count": null,
   "id": "483b231a",
   "metadata": {},
   "outputs": [],
   "source": [
    "cb()"
   ]
  },
  {
   "cell_type": "code",
   "execution_count": null,
   "id": "595daea2",
   "metadata": {},
   "outputs": [],
   "source": [
    "algorithm = umbrella_optimization.OptAlgorithm.NEWTON_CG\n",
    "solverStatus = umbrella_optimization.optimize(four_parameters_optimizer, algorithm, 10000, 0.005, 1e-5, cb, input_data[\"plate_edge_length\"] / 30 * 32)"
   ]
  },
  {
   "cell_type": "code",
   "execution_count": null,
   "id": "2bca6bcd",
   "metadata": {},
   "outputs": [],
   "source": [
    "four_parameters_optimizer.beta, four_parameters_optimizer.gamma, four_parameters_optimizer.eta"
   ]
  },
  {
   "cell_type": "code",
   "execution_count": null,
   "id": "84d8f955",
   "metadata": {},
   "outputs": [],
   "source": [
    "import time"
   ]
  },
  {
   "cell_type": "code",
   "execution_count": null,
   "id": "9e01a09b",
   "metadata": {},
   "outputs": [],
   "source": [
    "doptays.plot()"
   ]
  },
  {
   "cell_type": "code",
   "execution_count": null,
   "id": "3fa9ceb4",
   "metadata": {},
   "outputs": [],
   "source": [
    "curr_um.getPerArmRestLength()"
   ]
  },
  {
   "cell_type": "code",
   "execution_count": null,
   "id": "ac67c8e3",
   "metadata": {},
   "outputs": [],
   "source": [
    "params = four_parameters_optimizer.params()"
   ]
  },
  {
   "cell_type": "code",
   "execution_count": null,
   "id": "618a9a93",
   "metadata": {},
   "outputs": [],
   "source": [
    "# for i in range(curr_um.numSegments()):\n",
    "#     ui = curr_um.getArmUID(i)\n",
    "#     nu = curr_um.numUmbrellas()\n",
    "#     al = curr_um.getPerArmRestLength()[curr_um.getArmIndexAt(i)] \n",
    "#     print(al in [params[ui + nu * 0], params[ui + nu * 1], params[ui + nu * 2]] or curr_um.getPerArmRestLength()[curr_um.getArmIndexAt(i)] in [params[ui + nu * 3] - params[ui + nu * 0], params[ui + nu * 3] - params[ui + nu * 1], params[ui + nu * 3] - params[ui + nu * 2]])"
   ]
  },
  {
   "cell_type": "markdown",
   "id": "4b107b89",
   "metadata": {},
   "source": [
    "### Get true equilibrium state"
   ]
  },
  {
   "cell_type": "code",
   "execution_count": null,
   "id": "b6234013",
   "metadata": {},
   "outputs": [],
   "source": [
    "use_pin = True"
   ]
  },
  {
   "cell_type": "code",
   "execution_count": null,
   "id": "a9b70823",
   "metadata": {},
   "outputs": [],
   "source": [
    "driver = curr_um.centralJoint()\n",
    "jdo = curr_um.dofOffsetForJoint(driver)\n",
    "fixedVars = (list(range(jdo, jdo + 6)) if use_pin else []) + curr_um.rigidJointAngleDoFIndices()"
   ]
  },
  {
   "cell_type": "code",
   "execution_count": null,
   "id": "78125539",
   "metadata": {},
   "outputs": [],
   "source": [
    "curr_um.uniformDeploymentEnergyWeight = 1e-1\n",
    "curr_um.uniformDeploymentEnergyWeight = 0\n",
    "curr_um.targetDeploymentHeight = thickness * target_height_multiplier * 20\n",
    "curr_um.attractionWeight = 0"
   ]
  },
  {
   "cell_type": "code",
   "execution_count": null,
   "id": "8de195f4",
   "metadata": {},
   "outputs": [],
   "source": [
    "# dof = curr_um.getDoFs()\n",
    "# for i in range(curr_um.numJoints()):\n",
    "#     # if (curr_um.joint(i).jointType() == umbrella_mesh.JointType.X):\n",
    "#     dof[curr_um.dofOffsetForJoint(i) + 6] = 1e-3\n",
    "# curr_um.setDoFs(dof)"
   ]
  },
  {
   "cell_type": "code",
   "execution_count": null,
   "id": "986d9c0b",
   "metadata": {},
   "outputs": [],
   "source": [
    "allEnergies(curr_um)"
   ]
  },
  {
   "cell_type": "code",
   "execution_count": null,
   "id": "942ee1e9",
   "metadata": {},
   "outputs": [],
   "source": [
    "OPTS.niter = 1000"
   ]
  },
  {
   "cell_type": "code",
   "execution_count": null,
   "id": "9654274b",
   "metadata": {
    "scrolled": true
   },
   "outputs": [],
   "source": [
    "results = umbrella_mesh.compute_equilibrium(curr_um, callback = eqm_callback, options = OPTS, fixedVars = fixedVars, elasticEnergyIncreaseFactorLimit=2.5)"
   ]
  },
  {
   "cell_type": "code",
   "execution_count": null,
   "id": "ad9f8ebc",
   "metadata": {},
   "outputs": [],
   "source": [
    "results.success"
   ]
  },
  {
   "cell_type": "code",
   "execution_count": null,
   "id": "e86997b3",
   "metadata": {},
   "outputs": [],
   "source": [
    "import pickle \n",
    "import gzip\n",
    "\n",
    "pickle.dump(curr_um, gzip.open('../../output/{}_four_parameters_optimized_equilibrium_{}_target_height_factor_{}.pkl.gz'.format(name, time.strftime(\"%Y_%m_%d_%H_%M\"), target_height_multiplier), 'w'))\n",
    "# load_um = pickle.load(gzip.open('test_pickle_um.pkl.gz', 'r'))"
   ]
  },
  {
   "cell_type": "markdown",
   "id": "d65ef4bc",
   "metadata": {},
   "source": [
    "### Vibration Mode Analysis"
   ]
  },
  {
   "cell_type": "code",
   "execution_count": null,
   "id": "51d3f8c2",
   "metadata": {},
   "outputs": [],
   "source": [
    "allEnergies(curr_um)"
   ]
  },
  {
   "cell_type": "code",
   "execution_count": null,
   "id": "0963a146",
   "metadata": {},
   "outputs": [],
   "source": [
    "import compute_vibrational_modes"
   ]
  },
  {
   "cell_type": "code",
   "execution_count": null,
   "id": "d928f8e4",
   "metadata": {},
   "outputs": [],
   "source": [
    "class ModalAnalysisWrapper:\n",
    "    def __init__(self, um):\n",
    "        self.um = um\n",
    "    def hessian(self):\n",
    "        return self.um.hessian(umbrellaEnergyType=umbrella_mesh.UmbrellaEnergyType.Full)\n",
    "    def massMatrix(self): return self.um.massMatrix()\n",
    "    def lumpedMassMatrix(self): return self.um.lumpedMassMatrix()"
   ]
  },
  {
   "cell_type": "code",
   "execution_count": null,
   "id": "02836857",
   "metadata": {},
   "outputs": [],
   "source": [
    "lambdas, modes = compute_vibrational_modes.compute_vibrational_modes(ModalAnalysisWrapper(curr_um), fixedVars=fixedVars, mtype=compute_vibrational_modes.MassMatrixType.FULL, n=16, sigma=-1e-6)\n",
    "\n",
    "import mode_viewer, importlib\n",
    "importlib.reload(mode_viewer);\n",
    "mview = mode_viewer.ModeViewer(curr_um, modes, lambdas, amplitude=2.0)\n",
    "# mview.showScalarField(rod_colors)\n",
    "mview.show()"
   ]
  },
  {
   "cell_type": "code",
   "execution_count": null,
   "id": "5eeee233",
   "metadata": {},
   "outputs": [],
   "source": [
    "modeVector = modes[:, 0]\n",
    "paramVelocity = curr_um.approxLinfVelocity(modeVector)\n",
    "normalizedOffset = modeVector * (curr_um.characteristicLength() / paramVelocity)"
   ]
  },
  {
   "cell_type": "code",
   "execution_count": null,
   "id": "3f6407b3",
   "metadata": {},
   "outputs": [],
   "source": [
    "save_dof = curr_um.getDoFs()"
   ]
  },
  {
   "cell_type": "code",
   "execution_count": null,
   "id": "ab8e4e3c",
   "metadata": {},
   "outputs": [],
   "source": [
    "curr_um.setDoFs(save_dof + normalizedOffset * 2)"
   ]
  },
  {
   "cell_type": "code",
   "execution_count": null,
   "id": "414819ed",
   "metadata": {},
   "outputs": [],
   "source": [
    "# curr_um.setDoFs(save_dof - normalizedOffset * 2)"
   ]
  },
  {
   "cell_type": "code",
   "execution_count": null,
   "id": "d567cd78",
   "metadata": {},
   "outputs": [],
   "source": []
  }
 ],
 "metadata": {
  "kernelspec": {
   "display_name": "umbrella_mesh",
   "language": "python",
   "name": "umbrella_mesh"
  },
  "language_info": {
   "codemirror_mode": {
    "name": "ipython",
    "version": 3
   },
   "file_extension": ".py",
   "mimetype": "text/x-python",
   "name": "python",
   "nbconvert_exporter": "python",
   "pygments_lexer": "ipython3",
   "version": "3.9.7"
  }
 },
 "nbformat": 4,
 "nbformat_minor": 5
}
