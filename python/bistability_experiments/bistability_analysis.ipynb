{
 "cells": [
  {
   "cell_type": "code",
   "execution_count": null,
   "id": "ccdc8cb8",
   "metadata": {},
   "outputs": [],
   "source": [
    "#!/usr/bin/env python\n",
    "# coding: utf-8\n",
    "import sys\n",
    "sys.path.append('..')\n",
    "import umbrella_mesh\n",
    "import elastic_rods\n",
    "import linkage_vis\n",
    "from umbrella_mesh import UmbrellaEnergyType\n",
    "from bending_validation import suppress_stdout as so\n",
    "from visualization_helper import *\n",
    "\n",
    "import pipeline_helper, importlib, design_optimization_analysis\n",
    "with so(): importlib.reload(pipeline_helper)\n",
    "with so(): importlib.reload(design_optimization_analysis)\n",
    "\n",
    "from pipeline_helper import UmbrellaOptimizationCallback, allEnergies, allGradientNorms, allDesignObjectives, allDesignGradientNorms, set_joint_vector_field, show_center_joint_normal, show_joint_normal\n",
    "\n",
    "from design_optimization_analysis import DesignOptimizationAnalysis\n",
    "\n",
    "import umbrella_optimization\n",
    "import umbrella_optimization_finite_diff\n",
    "from umbrella_optimization import OptEnergyType\n",
    "\n",
    "import numpy as np\n",
    "import numpy.linalg as la\n",
    "\n",
    "import pickle, gzip\n",
    "\n",
    "from configuration import *"
   ]
  },
  {
   "cell_type": "markdown",
   "id": "82f886dd",
   "metadata": {},
   "source": [
    "### Initialization"
   ]
  },
  {
   "cell_type": "code",
   "execution_count": null,
   "id": "7069e1e0",
   "metadata": {},
   "outputs": [],
   "source": [
    "name = 'hemisphere_5t'\n",
    "input_path = '../../data/{}.json.gz'.format(name)\n",
    "\n",
    "io, input_data, target_mesh, curr_um, thickness, target_height_multiplier = parse_input(input_path)\n",
    "# target_height_multiplier = 1\n",
    "\n",
    "# curr_um = pickle.load(gzip.open('../../output/saddle_5t_optimized_equilibrium_2022_01_20_15_01_target_height_factor_5.0.pkl.gz', 'r'))"
   ]
  },
  {
   "cell_type": "markdown",
   "id": "49ec47a3",
   "metadata": {},
   "source": [
    "#### Pin Rigid Motion"
   ]
  },
  {
   "cell_type": "code",
   "execution_count": null,
   "id": "0f5690a2",
   "metadata": {},
   "outputs": [],
   "source": [
    "use_pin = False\n",
    "\n",
    "driver = curr_um.centralJoint()\n",
    "jdo = curr_um.dofOffsetForJoint(driver)\n",
    "fixedVars = (list(range(jdo, jdo + 6)) if use_pin else []) + curr_um.rigidJointAngleDoFIndices()"
   ]
  },
  {
   "cell_type": "code",
   "execution_count": null,
   "id": "bf3fff3f",
   "metadata": {},
   "outputs": [],
   "source": [
    "curr_um = pickle.load(gzip.open('output/hemisphere_5t/2022_01_21_16_12/equilibrium_at_step_0.47500000000000003_target_height_factor_5.0.pkl.gz'))"
   ]
  },
  {
   "cell_type": "code",
   "execution_count": null,
   "id": "b0cff6d7",
   "metadata": {},
   "outputs": [],
   "source": [
    "import py_newton_optimizer\n",
    "OPTS = py_newton_optimizer.NewtonOptimizerOptions()\n",
    "OPTS.gradTol = 1e-8\n",
    "OPTS.verbose = 1\n",
    "OPTS.beta = 1e-6\n",
    "OPTS.niter = 300\n",
    "OPTS.verboseNonPosDef = False\n",
    "\n",
    "rod_colors = get_color_field(curr_um, input_data)\n",
    "\n",
    "# lview = linkage_vis.LinkageViewer(curr_um, width=1024, height=600)\n",
    "# lview.update(scalarField = rod_colors)\n",
    "# lview.show()\n",
    "\n",
    "import mesh\n",
    "view = linkage_vis.LinkageViewerWithSurface(curr_um, target_mesh, width=1024, height=600)\n",
    "set_surface_view_options(view, color = 'green', surface_color = 'gray', umbrella_transparent = False, surface_transparent = True)\n",
    "view.averagedMaterialFrames = True\n",
    "view.showScalarField(rod_colors)\n",
    "view.show()"
   ]
  },
  {
   "cell_type": "code",
   "execution_count": null,
   "id": "c45861e0",
   "metadata": {},
   "outputs": [],
   "source": [
    "view.getCameraParams()\n",
    "\n",
    "view.getSize()"
   ]
  },
  {
   "cell_type": "code",
   "execution_count": null,
   "id": "ee792ef3",
   "metadata": {},
   "outputs": [],
   "source": [
    "from equilibrium_solve_analysis import EquilibriumSolveAnalysis\n",
    "eqays = EquilibriumSolveAnalysis(curr_um)\n",
    "def eqm_callback(prob, i):\n",
    "    eqays.record(prob)\n",
    "    if (i % 2 == 0):\n",
    "        view.showScalarField(rod_colors)\n",
    "\n",
    "configure_umbrella_pre_deployment(curr_um, thickness, target_height_multiplier)\n",
    "\n",
    "allGradientNorms(curr_um)"
   ]
  },
  {
   "cell_type": "code",
   "execution_count": null,
   "id": "8a04fa0c",
   "metadata": {},
   "outputs": [],
   "source": [
    "break_input_angle_symmetry(curr_um)\n",
    "\n",
    "view.showScalarField(rod_colors)\n",
    "\n",
    "results = staged_deployment(curr_um, np.logspace(-3, 0, 4), eqm_callback, OPTS, fixedVars)\n",
    "\n",
    "results.success"
   ]
  },
  {
   "cell_type": "code",
   "execution_count": null,
   "id": "dd0a9182",
   "metadata": {},
   "outputs": [],
   "source": [
    "eqays.plot()"
   ]
  },
  {
   "cell_type": "code",
   "execution_count": null,
   "id": "63c76556",
   "metadata": {},
   "outputs": [],
   "source": [
    "# curr_um = pickle.load(gzip.open('../../output/hemisphere_5t_optimized_equilibrium_2022_01_21_15_32_target_height_factor_5.0.pkl.gz'))"
   ]
  },
  {
   "cell_type": "markdown",
   "id": "14701dac",
   "metadata": {},
   "source": [
    "### Initialize Design Optimization"
   ]
  },
  {
   "cell_type": "code",
   "execution_count": null,
   "id": "14dcefd3",
   "metadata": {
    "scrolled": true
   },
   "outputs": [],
   "source": [
    "configure_umbrella_optimization(curr_um)\n",
    "\n",
    "import py_newton_optimizer\n",
    "opt_opts = py_newton_optimizer.NewtonOptimizerOptions()\n",
    "opt_opts.gradTol = 1e-8\n",
    "opt_opts.verbose = 10\n",
    "opt_opts.beta = 1e-6\n",
    "opt_opts.niter = 600\n",
    "opt_opts.verboseNonPosDef = False\n",
    "\n",
    "results = umbrella_mesh.compute_equilibrium(curr_um, callback = eqm_callback, options = opt_opts, fixedVars = fixedVars, elasticEnergyIncreaseFactorLimit=2.5)\n",
    "\n",
    "opt_opts.niter = 50\n",
    "\n",
    "results.success"
   ]
  },
  {
   "cell_type": "code",
   "execution_count": null,
   "id": "8e499026",
   "metadata": {},
   "outputs": [],
   "source": [
    "optimizer = umbrella_optimization.UmbrellaOptimization(curr_um, opt_opts, 2.5, -1, False, fixedVars)"
   ]
  },
  {
   "cell_type": "code",
   "execution_count": null,
   "id": "22d89e80",
   "metadata": {},
   "outputs": [],
   "source": [
    "optimizer.beta = 1 * 1e6\n",
    "optimizer.gamma = 1\n",
    "optimizer.eta = 0\n",
    "optimizer.zeta = 0# 1e1\n",
    "optimizer.iota = 1 * 1e10"
   ]
  },
  {
   "cell_type": "code",
   "execution_count": null,
   "id": "c9081ac8",
   "metadata": {},
   "outputs": [],
   "source": [
    "allDesignObjectives(optimizer)"
   ]
  },
  {
   "cell_type": "code",
   "execution_count": null,
   "id": "e69eaa8b",
   "metadata": {},
   "outputs": [],
   "source": [
    "allDesignGradientNorms(optimizer)"
   ]
  },
  {
   "cell_type": "code",
   "execution_count": null,
   "id": "ae78c1c7",
   "metadata": {},
   "outputs": [],
   "source": [
    "optimizer.objective.terms[-1].term.normalActivationThreshold = -2e-5"
   ]
  },
  {
   "cell_type": "code",
   "execution_count": null,
   "id": "58427ce7",
   "metadata": {},
   "outputs": [],
   "source": [
    "optimizer.objective.terms[-1].term.normalWeight = 1\n",
    "optimizer.objective.terms[-1].term.tangentialWeight = 0\n",
    "optimizer.objective.terms[-1].term.torqueWeight = 0"
   ]
  },
  {
   "cell_type": "markdown",
   "id": "d4717cc5",
   "metadata": {},
   "source": [
    "### Force Analysis"
   ]
  },
  {
   "cell_type": "code",
   "execution_count": null,
   "id": "69b22f37",
   "metadata": {},
   "outputs": [],
   "source": [
    "import force_analysis\n",
    "with so(): importlib.reload(force_analysis)"
   ]
  },
  {
   "cell_type": "code",
   "execution_count": null,
   "id": "63d3277c",
   "metadata": {},
   "outputs": [],
   "source": [
    "force_analysis.UmbrellaForceAnalysis(curr_um)\n",
    "v1 = force_analysis.UmbrellaForceFieldVisualization(curr_um)\n",
    "v1.show()"
   ]
  },
  {
   "cell_type": "markdown",
   "id": "b64c31be",
   "metadata": {},
   "source": [
    "### Run Optimization"
   ]
  },
  {
   "cell_type": "code",
   "execution_count": null,
   "id": "c53c1b17",
   "metadata": {},
   "outputs": [],
   "source": [
    "rest_height_optimizer = umbrella_optimization.UmbrellaRestHeightsOptimization(optimizer)\n",
    "single_rest_height_optimizer = umbrella_optimization.UmbrellaSingleRestHeightOptimization(rest_height_optimizer)"
   ]
  },
  {
   "cell_type": "code",
   "execution_count": null,
   "id": "342bd794",
   "metadata": {},
   "outputs": [],
   "source": [
    "rest_height_optimizer.newPt(rest_height_optimizer.params())"
   ]
  },
  {
   "cell_type": "code",
   "execution_count": null,
   "id": "d15c1b85",
   "metadata": {},
   "outputs": [],
   "source": [
    "original_design_parameters = rest_height_optimizer.params()\n",
    "\n",
    "doptays = DesignOptimizationAnalysis(rest_height_optimizer)\n",
    "def eqm_callback(prob, i):\n",
    "    eqays.record(prob)\n",
    "    if (i % 2 == 0):\n",
    "        view.showScalarField(rod_colors)\n",
    "\n",
    "import time\n",
    "pipeline_helper.prev_time_stamp = time.time()\n",
    "\n",
    "uo = rest_height_optimizer.get_parent_opt()\n",
    "\n",
    "uo.equilibriumOptimizer.options.verbose = 1\n",
    "#uo.equilibriumOptimizer.options.verboseWorkingSet = True\n",
    "uo.equilibriumOptimizer.options.gradTol = 1e-10\n",
    "# Hold the closest points fixed in the target-attraction term of the equilibrium solve:\n",
    "# this seems to make the design optimization much more robust.\n",
    "uo.setHoldClosestPointsFixed(True, False)"
   ]
  },
  {
   "cell_type": "code",
   "execution_count": null,
   "id": "72c68068",
   "metadata": {},
   "outputs": [],
   "source": [
    "tfview = pipeline_helper.TargetFittingVisualization(curr_um, uo.target_surface_fitter, view)\n",
    "cb = pipeline_helper.UmbrellaOptimizationCallback(rest_height_optimizer, view, True, False, 1, rod_colors, doptays.record, tfview=tfview)"
   ]
  },
  {
   "cell_type": "code",
   "execution_count": null,
   "id": "7728297d",
   "metadata": {},
   "outputs": [],
   "source": [
    "algorithm = umbrella_optimization.OptAlgorithm.NEWTON_CG\n",
    "#algorithm = umbrella_optimization.OptAlgorithm.BFGS\n",
    "solverStatus = umbrella_optimization.optimize(rest_height_optimizer, algorithm, 1000, 0.005, 1e-5, cb, input_data[\"plate_edge_length\"] / 30 * 32)"
   ]
  },
  {
   "cell_type": "code",
   "execution_count": null,
   "id": "ff93c3fa",
   "metadata": {},
   "outputs": [],
   "source": [
    "rest_height_optimizer.beta, rest_height_optimizer.gamma, rest_height_optimizer.eta"
   ]
  },
  {
   "cell_type": "code",
   "execution_count": null,
   "id": "208642b3",
   "metadata": {},
   "outputs": [],
   "source": [
    "import time\n",
    "\n",
    "from matplotlib import pyplot as plt\n",
    "doptays.plot()"
   ]
  },
  {
   "cell_type": "code",
   "execution_count": null,
   "id": "5bc429a9",
   "metadata": {},
   "outputs": [],
   "source": [
    "force_analysis.UmbrellaForceAnalysis(curr_um)\n",
    "v2 = force_analysis.UmbrellaForceFieldVisualization(curr_um)\n",
    "v2.show()"
   ]
  },
  {
   "cell_type": "markdown",
   "id": "208924ab",
   "metadata": {},
   "source": [
    "### Get true equilibrium state"
   ]
  },
  {
   "cell_type": "code",
   "execution_count": null,
   "id": "106c9be6",
   "metadata": {
    "scrolled": true
   },
   "outputs": [],
   "source": [
    "use_pin = True\n",
    "\n",
    "driver = curr_um.centralJoint()\n",
    "jdo = curr_um.dofOffsetForJoint(driver)\n",
    "fixedVars = (list(range(jdo, jdo + 6)) if use_pin else []) + curr_um.rigidJointAngleDoFIndices()\n",
    "\n",
    "configure_umbrella_true_equlibrium(curr_um, thickness, target_height_multiplier)\n",
    "\n",
    "allEnergies(curr_um)\n",
    "\n",
    "OPTS.niter = 600\n",
    "\n",
    "results = umbrella_mesh.compute_equilibrium(curr_um, callback = eqm_callback, options = OPTS, fixedVars = fixedVars, elasticEnergyIncreaseFactorLimit=2.5)\n",
    "\n",
    "results.success"
   ]
  },
  {
   "cell_type": "code",
   "execution_count": null,
   "id": "90f63f15",
   "metadata": {
    "tags": []
   },
   "outputs": [],
   "source": [
    "import pickle \n",
    "import gzip\n",
    "import time\n",
    "pickle.dump(curr_um, gzip.open('../../output/{}_optimized_equilibrium_{}_target_height_factor_{}.pkl.gz'.format(name, time.strftime(\"%Y_%m_%d_%H_%M\"), target_height_multiplier), 'w'))\n",
    "# load_um = pickle.load(gzip.open('test_pickle_um.pkl.gz', 'r'))\n",
    "\n",
    "# from load_jsondata import update_optimized_json\n",
    "# update_optimized_json(input_path, rest_height_optimizer.params(), output_json_path = '../../output/{}_optimized_params_{}.json'.format(name, time.strftime(\"%Y_%m_%d_%H_%M\")), optim_spacing_factor = target_height_multiplier)\n",
    "\n",
    "\n",
    "\n",
    "# from load_jsondata import write_deformed_config\n",
    "\n",
    "# write_deformed_config(curr_um, input_path, output_path = '../../output/{}_optimized_rendering_output_{}.json.gz'.format(name, time.strftime(\"%Y_%m_%d_%H_%M\"), write_stress = False, is_rest_state = False))"
   ]
  },
  {
   "cell_type": "code",
   "execution_count": null,
   "id": "b9b09389",
   "metadata": {},
   "outputs": [],
   "source": [
    "deployed_heights = curr_um.getUmbrellaHeights()"
   ]
  },
  {
   "cell_type": "markdown",
   "id": "16a97f92",
   "metadata": {},
   "source": [
    "### Undeployment"
   ]
  },
  {
   "cell_type": "code",
   "execution_count": null,
   "id": "19a411b8",
   "metadata": {},
   "outputs": [],
   "source": [
    "import configuration\n",
    "importlib.reload(configuration)\n",
    "from configuration import *"
   ]
  },
  {
   "cell_type": "code",
   "execution_count": null,
   "id": "eb54d91e",
   "metadata": {},
   "outputs": [],
   "source": [
    "configure_umbrella_undeployment_step_one(curr_um, thickness, target_height_multiplier, 5)"
   ]
  },
  {
   "cell_type": "code",
   "execution_count": null,
   "id": "696a41fa",
   "metadata": {},
   "outputs": [],
   "source": [
    "allEnergies(curr_um)"
   ]
  },
  {
   "cell_type": "code",
   "execution_count": null,
   "id": "445c3abd",
   "metadata": {},
   "outputs": [],
   "source": [
    "OPTS.niter = 30"
   ]
  },
  {
   "cell_type": "code",
   "execution_count": null,
   "id": "c998e8c3",
   "metadata": {
    "scrolled": true
   },
   "outputs": [],
   "source": [
    "results = umbrella_mesh.compute_equilibrium(curr_um, callback = eqm_callback, options = OPTS, fixedVars = fixedVars, elasticEnergyIncreaseFactorLimit=2.5)\n",
    "results.success"
   ]
  },
  {
   "cell_type": "code",
   "execution_count": null,
   "id": "ef4aef7e",
   "metadata": {},
   "outputs": [],
   "source": [
    "configure_umbrella_undeployment_step_two(curr_um)"
   ]
  },
  {
   "cell_type": "code",
   "execution_count": null,
   "id": "9378f9c1",
   "metadata": {},
   "outputs": [],
   "source": [
    "allEnergies(curr_um)"
   ]
  },
  {
   "cell_type": "code",
   "execution_count": null,
   "id": "2e9b0d3a",
   "metadata": {},
   "outputs": [],
   "source": [
    "OPTS.niter = 500"
   ]
  },
  {
   "cell_type": "code",
   "execution_count": null,
   "id": "53951176",
   "metadata": {
    "scrolled": true
   },
   "outputs": [],
   "source": [
    "results = umbrella_mesh.compute_equilibrium(curr_um, callback = eqm_callback, options = OPTS, fixedVars = fixedVars, elasticEnergyIncreaseFactorLimit=2.5)\n",
    "results.success"
   ]
  },
  {
   "cell_type": "code",
   "execution_count": null,
   "id": "b7158713",
   "metadata": {},
   "outputs": [],
   "source": [
    "initial_heights = curr_um.getUmbrellaHeights()"
   ]
  },
  {
   "cell_type": "code",
   "execution_count": null,
   "id": "3e07e293",
   "metadata": {},
   "outputs": [],
   "source": [
    "import pickle \n",
    "import gzip\n",
    "\n",
    "pickle.dump(curr_um, gzip.open('../../output/{}_optimized_rest_state_equilibrium_{}_target_height_factor_{}.pkl.gz'.format(name, time.strftime(\"%Y_%m_%d_%H_%M\"), target_height_multiplier), 'w'))\n",
    "\n",
    "# write_deformed_config(curr_um, input_path, output_path = '../../output/{}_optimized_rest_state_rendering_output_{}.json.gz'.format(name, time.strftime(\"%Y_%m_%d_%H_%M\")), write_stress = False, is_rest_state = True)"
   ]
  },
  {
   "cell_type": "markdown",
   "id": "256d347e",
   "metadata": {},
   "source": [
    "### Deployment"
   ]
  },
  {
   "cell_type": "code",
   "execution_count": null,
   "id": "a13cea96",
   "metadata": {},
   "outputs": [],
   "source": [
    "use_pin = False\n",
    "\n",
    "driver = curr_um.centralJoint()\n",
    "jdo = curr_um.dofOffsetForJoint(driver)\n",
    "fixedVars = (list(range(jdo, jdo + 6)) if use_pin else []) + curr_um.rigidJointAngleDoFIndices()\n",
    "configure_umbrella_pre_deployment(curr_um, thickness, target_height_multiplier)"
   ]
  },
  {
   "cell_type": "code",
   "execution_count": null,
   "id": "c38daded",
   "metadata": {},
   "outputs": [],
   "source": [
    "break_input_angle_symmetry(curr_um)\n",
    "\n",
    "view.showScalarField(rod_colors)\n",
    "\n",
    "results = staged_deployment(curr_um, np.logspace(-3, 0, 4), eqm_callback, OPTS, fixedVars)\n",
    "\n",
    "results.success"
   ]
  },
  {
   "cell_type": "markdown",
   "id": "322f192b",
   "metadata": {},
   "source": [
    "### Bistability Analysis"
   ]
  },
  {
   "cell_type": "code",
   "execution_count": null,
   "id": "596b679c",
   "metadata": {},
   "outputs": [],
   "source": [
    "# curr_um = pickle.load(gzip.open(\"../../output/hemisphere_5t_optimized_equilibrium_2022_01_20_20_05_target_height_factor_5.0.pkl.gz\"))"
   ]
  },
  {
   "cell_type": "code",
   "execution_count": null,
   "id": "49a9b750",
   "metadata": {},
   "outputs": [],
   "source": [
    "pos_steps = np.linspace(0, 1, 41)"
   ]
  },
  {
   "cell_type": "code",
   "execution_count": null,
   "id": "401d4037",
   "metadata": {},
   "outputs": [],
   "source": [
    "pos_steps"
   ]
  },
  {
   "cell_type": "code",
   "execution_count": null,
   "id": "6e32e56c",
   "metadata": {},
   "outputs": [],
   "source": [
    "neg_steps = pos_steps[1:4] * -1"
   ]
  },
  {
   "cell_type": "code",
   "execution_count": null,
   "id": "c0c419ab",
   "metadata": {},
   "outputs": [],
   "source": [
    "steps =  list(np.flip(neg_steps)) + list(pos_steps)"
   ]
  },
  {
   "cell_type": "code",
   "execution_count": null,
   "id": "282a998d",
   "metadata": {},
   "outputs": [],
   "source": [
    "initial_heights *  -0.075 + deployed_heights * (1 -  -0.075) - thickness"
   ]
  },
  {
   "cell_type": "code",
   "execution_count": null,
   "id": "26c29b91",
   "metadata": {},
   "outputs": [],
   "source": [
    "thickness"
   ]
  },
  {
   "cell_type": "code",
   "execution_count": null,
   "id": "4a5427b0",
   "metadata": {},
   "outputs": [],
   "source": [
    "evals = []"
   ]
  },
  {
   "cell_type": "code",
   "execution_count": null,
   "id": "e742d484",
   "metadata": {},
   "outputs": [],
   "source": [
    "curr_um.attractionWeight = 0"
   ]
  },
  {
   "cell_type": "code",
   "execution_count": null,
   "id": "6513c91f",
   "metadata": {},
   "outputs": [],
   "source": [
    "curr_um.uniformDeploymentEnergyWeight = 1e0"
   ]
  },
  {
   "cell_type": "code",
   "execution_count": null,
   "id": "8c2f3e22",
   "metadata": {},
   "outputs": [],
   "source": [
    "use_pin = True\n",
    "\n",
    "driver = curr_um.centralJoint()\n",
    "jdo = curr_um.dofOffsetForJoint(driver)\n",
    "fixedVars = (list(range(jdo, jdo + 6)) if use_pin else []) + curr_um.rigidJointAngleDoFIndices()"
   ]
  },
  {
   "cell_type": "code",
   "execution_count": null,
   "id": "2bfef570",
   "metadata": {},
   "outputs": [],
   "source": [
    "from load_jsondata import update_optimized_json\n",
    "from load_jsondata import write_deformed_config"
   ]
  },
  {
   "cell_type": "code",
   "execution_count": null,
   "id": "322a7fdf",
   "metadata": {},
   "outputs": [],
   "source": [
    "import os"
   ]
  },
  {
   "cell_type": "code",
   "execution_count": null,
   "id": "0cc0c1cd",
   "metadata": {},
   "outputs": [],
   "source": [
    "time_stamp = time.strftime(\"%Y_%m_%d_%H_%M\")\n",
    "if not os.path.exists('{}/{}/{}'.format('output', name, time_stamp)):\n",
    "    os.makedirs('{}/{}/{}'.format('output', name, time_stamp))  "
   ]
  },
  {
   "cell_type": "code",
   "execution_count": null,
   "id": "80fcb8cc",
   "metadata": {},
   "outputs": [],
   "source": [
    "def write_data(step):\n",
    "    pickle.dump(curr_um, gzip.open('output/{}/{}/equilibrium_at_step_{}_target_height_factor_{}.pkl.gz'.format(name, time_stamp, step, target_height_multiplier), 'w'))\n",
    "# load_um = pickle.load(gzip.open('test_pickle_um.pkl.gz', 'r'))\n",
    "    write_deformed_config(curr_um, input_path, output_path = 'output/{}/{}/equilibrium_at_step_{}_rendering_output.json.gz'.format(name, time_stamp, step), write_stress = False, is_rest_state = False)"
   ]
  },
  {
   "cell_type": "code",
   "execution_count": null,
   "id": "37204e89",
   "metadata": {
    "scrolled": true,
    "tags": []
   },
   "outputs": [],
   "source": [
    "for i, step in enumerate(steps):\n",
    "    heights = initial_heights * step + deployed_heights * (1 - step)\n",
    "    curr_um.targetDeploymentHeightVector = heights\n",
    "    with so(): results = umbrella_mesh.compute_equilibrium(curr_um, callback = eqm_callback, options = OPTS, fixedVars = fixedVars, elasticEnergyIncreaseFactorLimit=2.5)\n",
    "#     if i % 8 == 0:\n",
    "    write_data(step)\n",
    "    evals.append(curr_um.energyElastic())\n",
    "    print(\"the equilibrium solve for step {} is {}. The elastic energy is {}\".format(step, 'successful' if results.success else 'not successful', curr_um.energyElastic()))"
   ]
  },
  {
   "cell_type": "code",
   "execution_count": null,
   "id": "3f9d0a2e",
   "metadata": {},
   "outputs": [],
   "source": [
    "import matplotlib.pyplot as plt"
   ]
  },
  {
   "cell_type": "code",
   "execution_count": null,
   "id": "92355fdd",
   "metadata": {},
   "outputs": [],
   "source": [
    "evals.reverse()"
   ]
  },
  {
   "cell_type": "code",
   "execution_count": null,
   "id": "a833fcff",
   "metadata": {},
   "outputs": [],
   "source": [
    "from matplotlib import cm"
   ]
  },
  {
   "cell_type": "code",
   "execution_count": null,
   "id": "db5e3df3",
   "metadata": {},
   "outputs": [],
   "source": [
    "fig = plt.figure()\n",
    "ax = fig.add_subplot(111)\n",
    "plt.scatter(40, evals[40], color = cm.tab10(1), s= 50)\n",
    "\n",
    "plt.scatter(0, evals[0], color = cm.tab10(6), s= 50)\n",
    "plt.scatter(4, evals[4], color = cm.tab10(6), s= 50)\n",
    "plt.scatter(21, evals[21], color = cm.tab10(6), s= 50)\n",
    "plt.scatter(32, evals[32], color = cm.tab10(6), s= 50)\n",
    "\n",
    "\n",
    "\n",
    "plt.plot(evals, '-o', zorder = 0)\n",
    "plt.savefig('{}/bistability_analysis.svg'.format('{}/{}/{}'.format('output', name, time_stamp)))"
   ]
  },
  {
   "cell_type": "code",
   "execution_count": null,
   "id": "49bf7eda",
   "metadata": {},
   "outputs": [],
   "source": [
    "np.save('{}/bistability_analysis_energy'.format('{}/{}/{}'.format('output', name, time_stamp)), evals)"
   ]
  },
  {
   "cell_type": "code",
   "execution_count": null,
   "id": "f15a30f6",
   "metadata": {},
   "outputs": [],
   "source": [
    "selected_index = [-1, -5, -22, -33, -41]"
   ]
  },
  {
   "cell_type": "code",
   "execution_count": null,
   "id": "e3d9d66d",
   "metadata": {},
   "outputs": [],
   "source": [
    "selected_steps = ['1.0', '0.9', '0.47500000000000003', '0.2', '0.0']"
   ]
  },
  {
   "cell_type": "code",
   "execution_count": null,
   "id": "54245aee",
   "metadata": {},
   "outputs": [],
   "source": [
    "curr_um = pickle.load(gzip.open('output/hemisphere_5t/2022_01_21_16_12/equilibrium_at_step_{}_target_height_factor_5.0.pkl.gz'.format(step)))"
   ]
  },
  {
   "cell_type": "code",
   "execution_count": null,
   "id": "7c639561",
   "metadata": {},
   "outputs": [],
   "source": [
    "for step in selected_steps:\n",
    "    curr_um = pickle.load(gzip.open('output/hemisphere_5t/2022_01_21_16_12/equilibrium_at_step_{}_target_height_factor_5.0.pkl.gz'.format(step)))\n",
    "    with open('umbrella_connectivity_{}.obj'.format(step), 'w') as f:\n",
    "        for i in range(curr_um.numJoints()):\n",
    "            v = curr_um.joint(i).position\n",
    "            f.write('v {} {} {}\\n'.format(v[0], v[1], v[2]))\n",
    "        for i in range(curr_um.numSegments()):\n",
    "            s = curr_um.segment(i)\n",
    "            f.write('l {} {}\\n'.format(s.startJoint + 1, s.endJoint + 1))"
   ]
  }
 ],
 "metadata": {
  "kernelspec": {
   "display_name": "umbrella_mesh",
   "language": "python",
   "name": "umbrella_mesh"
  },
  "language_info": {
   "codemirror_mode": {
    "name": "ipython",
    "version": 3
   },
   "file_extension": ".py",
   "mimetype": "text/x-python",
   "name": "python",
   "nbconvert_exporter": "python",
   "pygments_lexer": "ipython3",
   "version": "3.9.7"
  }
 },
 "nbformat": 4,
 "nbformat_minor": 5
}
