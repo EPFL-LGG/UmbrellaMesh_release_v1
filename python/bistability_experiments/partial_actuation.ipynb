{
 "cells": [
  {
   "cell_type": "code",
   "execution_count": null,
   "id": "94cc1eab",
   "metadata": {},
   "outputs": [],
   "source": [
    "#!/usr/bin/env python\n",
    "# coding: utf-8\n",
    "import sys\n",
    "sys.path.append('..')\n",
    "import umbrella_mesh\n",
    "import elastic_rods\n",
    "import linkage_vis\n",
    "from umbrella_mesh import UmbrellaEnergyType\n",
    "from bending_validation import suppress_stdout as so\n",
    "from visualization_helper import *\n",
    "\n",
    "import pipeline_helper, importlib, design_optimization_analysis\n",
    "with so(): importlib.reload(pipeline_helper)\n",
    "with so(): importlib.reload(design_optimization_analysis)\n",
    "\n",
    "from pipeline_helper import UmbrellaOptimizationCallback, allEnergies, allGradientNorms, allDesignObjectives, allDesignGradientNorms, set_joint_vector_field, show_center_joint_normal, show_joint_normal\n",
    "\n",
    "from design_optimization_analysis import DesignOptimizationAnalysis\n",
    "\n",
    "import umbrella_optimization\n",
    "import umbrella_optimization_finite_diff\n",
    "from umbrella_optimization import OptEnergyType\n",
    "\n",
    "import numpy as np\n",
    "import numpy.linalg as la\n",
    "\n",
    "import pickle, gzip\n",
    "\n",
    "from configuration import *"
   ]
  },
  {
   "cell_type": "markdown",
   "id": "46b268ea",
   "metadata": {},
   "source": [
    "### Initialization"
   ]
  },
  {
   "cell_type": "code",
   "execution_count": null,
   "id": "70e0ecd0",
   "metadata": {},
   "outputs": [],
   "source": [
    "name = 'saddle_5t'\n",
    "input_path = '../../data/{}.json.gz'.format(name)\n",
    "\n",
    "io, input_data, target_mesh, curr_um, thickness, target_height_multiplier = parse_input(input_path)\n",
    "# target_height_multiplier = 1\n",
    "\n",
    "curr_um = pickle.load(gzip.open('../optimization_experiments/2022_01_25_16_43_saddle_5t/saddle_5t_force_equilibrium_2022_01_25_16_43_target_height_factor_5.0.pkl.gz', 'r'))"
   ]
  },
  {
   "cell_type": "markdown",
   "id": "983ecc8a",
   "metadata": {},
   "source": [
    "#### Pin Rigid Motion"
   ]
  },
  {
   "cell_type": "code",
   "execution_count": null,
   "id": "8701b9ec",
   "metadata": {},
   "outputs": [],
   "source": [
    "use_pin = True\n",
    "\n",
    "driver = curr_um.centralJoint()\n",
    "jdo = curr_um.dofOffsetForJoint(driver)\n",
    "fixedVars = (list(range(jdo, jdo + 6)) if use_pin else []) + curr_um.rigidJointAngleDoFIndices()"
   ]
  },
  {
   "cell_type": "code",
   "execution_count": null,
   "id": "befe5a15",
   "metadata": {},
   "outputs": [],
   "source": [
    "import py_newton_optimizer\n",
    "OPTS = py_newton_optimizer.NewtonOptimizerOptions()\n",
    "OPTS.gradTol = 1e-8\n",
    "OPTS.verbose = 1\n",
    "OPTS.beta = 1e-6\n",
    "OPTS.niter = 300\n",
    "OPTS.verboseNonPosDef = False\n",
    "\n",
    "rod_colors = get_color_field(curr_um, input_data)\n",
    "\n",
    "# lview = linkage_vis.LinkageViewer(curr_um, width=1024, height=600)\n",
    "# lview.update(scalarField = rod_colors)\n",
    "# lview.show()\n",
    "\n",
    "import mesh\n",
    "view = linkage_vis.LinkageViewerWithSurface(curr_um, target_mesh, width=1024, height=600)\n",
    "set_surface_view_options(view, color = 'green', surface_color = 'gray', umbrella_transparent = False, surface_transparent = True)\n",
    "view.averagedMaterialFrames = True\n",
    "view.showScalarField(rod_colors)\n",
    "view.show()"
   ]
  },
  {
   "cell_type": "code",
   "execution_count": null,
   "id": "c86da059",
   "metadata": {},
   "outputs": [],
   "source": [
    "view.getCameraParams()\n",
    "\n",
    "view.getSize()"
   ]
  },
  {
   "cell_type": "markdown",
   "id": "36fa65c3",
   "metadata": {},
   "source": [
    "### Deployment"
   ]
  },
  {
   "cell_type": "code",
   "execution_count": null,
   "id": "9b136e64",
   "metadata": {},
   "outputs": [],
   "source": [
    "from equilibrium_solve_analysis import EquilibriumSolveAnalysis\n",
    "eqays = EquilibriumSolveAnalysis(curr_um)\n",
    "def eqm_callback(prob, i):\n",
    "    eqays.record(prob)\n",
    "    if (i % 2 == 0):\n",
    "        view.showScalarField(rod_colors)"
   ]
  },
  {
   "cell_type": "code",
   "execution_count": null,
   "id": "3e4adc5d",
   "metadata": {},
   "outputs": [],
   "source": [
    "configure_umbrella_pre_deployment(curr_um, thickness, target_height_multiplier)\n",
    "\n",
    "allGradientNorms(curr_um)"
   ]
  },
  {
   "cell_type": "code",
   "execution_count": null,
   "id": "3358bd43",
   "metadata": {},
   "outputs": [],
   "source": [
    "dw = np.zeros(curr_um.numUmbrellas())"
   ]
  },
  {
   "cell_type": "code",
   "execution_count": null,
   "id": "5a244e40",
   "metadata": {},
   "outputs": [],
   "source": [
    "dw[10] = 10\n",
    "dw[21] = 10"
   ]
  },
  {
   "cell_type": "code",
   "execution_count": null,
   "id": "8b0dd941",
   "metadata": {},
   "outputs": [],
   "source": [
    "curr_um.deploymentEnergyWeight = dw"
   ]
  },
  {
   "cell_type": "code",
   "execution_count": null,
   "id": "c5aea86f",
   "metadata": {},
   "outputs": [],
   "source": [
    "curr_um.deploymentEnergyWeight"
   ]
  },
  {
   "cell_type": "code",
   "execution_count": null,
   "id": "21802f71",
   "metadata": {},
   "outputs": [],
   "source": [
    "allEnergies(curr_um)"
   ]
  },
  {
   "cell_type": "code",
   "execution_count": null,
   "id": "cf4f2e62",
   "metadata": {},
   "outputs": [],
   "source": [
    "curr_um.uniformDeploymentEnergyWeight"
   ]
  },
  {
   "cell_type": "code",
   "execution_count": null,
   "id": "ad440b75",
   "metadata": {},
   "outputs": [],
   "source": [
    "break_input_angle_symmetry(curr_um)\n",
    "\n",
    "curr_um.attractionWeight = 0\n",
    "view.showScalarField(rod_colors)\n",
    "        \n",
    "with so(): results = umbrella_mesh.compute_equilibrium(curr_um, callback = eqm_callback, options = OPTS, fixedVars = fixedVars, elasticEnergyIncreaseFactorLimit=2.5)\n"
   ]
  },
  {
   "cell_type": "code",
   "execution_count": null,
   "id": "c632ee93",
   "metadata": {},
   "outputs": [],
   "source": [
    "eqays.plot()"
   ]
  },
  {
   "cell_type": "code",
   "execution_count": null,
   "id": "88ff045d",
   "metadata": {},
   "outputs": [],
   "source": []
  },
  {
   "cell_type": "code",
   "execution_count": null,
   "id": "3a9506ff",
   "metadata": {},
   "outputs": [],
   "source": [
    "dw[11] = 10\n",
    "dw[20] = 10"
   ]
  },
  {
   "cell_type": "code",
   "execution_count": null,
   "id": "3f17f1a2",
   "metadata": {},
   "outputs": [],
   "source": [
    "curr_um.deploymentEnergyWeight = dw"
   ]
  },
  {
   "cell_type": "code",
   "execution_count": null,
   "id": "c54b013a",
   "metadata": {},
   "outputs": [],
   "source": [
    "curr_um.deploymentEnergyWeight"
   ]
  },
  {
   "cell_type": "code",
   "execution_count": null,
   "id": "6c417764",
   "metadata": {},
   "outputs": [],
   "source": [
    "allEnergies(curr_um)"
   ]
  },
  {
   "cell_type": "code",
   "execution_count": null,
   "id": "e397f4e3",
   "metadata": {},
   "outputs": [],
   "source": [
    "curr_um.uniformDeploymentEnergyWeight"
   ]
  },
  {
   "cell_type": "code",
   "execution_count": null,
   "id": "05f8a974",
   "metadata": {},
   "outputs": [],
   "source": [
    "\n",
    "curr_um.attractionWeight = 0\n",
    "view.showScalarField(rod_colors)\n",
    "        \n",
    "with so(): results = umbrella_mesh.compute_equilibrium(curr_um, callback = eqm_callback, options = OPTS, fixedVars = fixedVars, elasticEnergyIncreaseFactorLimit=2.5)\n"
   ]
  },
  {
   "cell_type": "markdown",
   "id": "542edfb9",
   "metadata": {},
   "source": [
    "### Undeployment"
   ]
  },
  {
   "cell_type": "code",
   "execution_count": null,
   "id": "496884d9",
   "metadata": {},
   "outputs": [],
   "source": [
    "configure_umbrella_undeployment_step_one(curr_um, thickness, target_height_multiplier)"
   ]
  },
  {
   "cell_type": "code",
   "execution_count": null,
   "id": "5d8e058f",
   "metadata": {},
   "outputs": [],
   "source": [
    "OPTS.niter = 30"
   ]
  },
  {
   "cell_type": "code",
   "execution_count": null,
   "id": "7b442421",
   "metadata": {
    "scrolled": true
   },
   "outputs": [],
   "source": [
    "results = umbrella_mesh.compute_equilibrium(curr_um, callback = eqm_callback, options = OPTS, fixedVars = fixedVars, elasticEnergyIncreaseFactorLimit=2.5)\n",
    "results.success"
   ]
  },
  {
   "cell_type": "code",
   "execution_count": null,
   "id": "a1240836",
   "metadata": {},
   "outputs": [],
   "source": [
    "configure_umbrella_undeployment_step_two(curr_um)"
   ]
  },
  {
   "cell_type": "code",
   "execution_count": null,
   "id": "65c4d6b2",
   "metadata": {},
   "outputs": [],
   "source": [
    "OPTS.niter = 500"
   ]
  },
  {
   "cell_type": "code",
   "execution_count": null,
   "id": "4f62544e",
   "metadata": {
    "scrolled": true
   },
   "outputs": [],
   "source": [
    "results = umbrella_mesh.compute_equilibrium(curr_um, callback = eqm_callback, options = OPTS, fixedVars = fixedVars, elasticEnergyIncreaseFactorLimit=2.5)\n",
    "results.success"
   ]
  },
  {
   "cell_type": "code",
   "execution_count": null,
   "id": "18e2ecfc",
   "metadata": {},
   "outputs": [],
   "source": []
  },
  {
   "cell_type": "code",
   "execution_count": null,
   "id": "42afa29c",
   "metadata": {},
   "outputs": [],
   "source": []
  }
 ],
 "metadata": {
  "kernelspec": {
   "display_name": "umbrella_mesh",
   "language": "python",
   "name": "umbrella_mesh"
  },
  "language_info": {
   "codemirror_mode": {
    "name": "ipython",
    "version": 3
   },
   "file_extension": ".py",
   "mimetype": "text/x-python",
   "name": "python",
   "nbconvert_exporter": "python",
   "pygments_lexer": "ipython3",
   "version": "3.9.7"
  }
 },
 "nbformat": 4,
 "nbformat_minor": 5
}
