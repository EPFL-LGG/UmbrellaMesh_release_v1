{
 "cells": [
  {
   "cell_type": "code",
   "execution_count": null,
   "id": "0091ff22",
   "metadata": {},
   "outputs": [],
   "source": [
    "import sys\n",
    "sys.path.append('..')\n",
    "import umbrella_mesh\n",
    "import elastic_rods\n",
    "import linkage_vis\n",
    "from umbrella_mesh import UmbrellaEnergyType\n",
    "from bending_validation import suppress_stdout as so\n",
    "from visualization_helper import *\n",
    "import importlib, pipeline_helper"
   ]
  },
  {
   "cell_type": "code",
   "execution_count": null,
   "id": "a70d2095",
   "metadata": {},
   "outputs": [],
   "source": [
    "importlib.reload(pipeline_helper)\n",
    "from pipeline_helper import allEnergies, allGradientNorms, allDesignObjectives, allDesignGradientNorms"
   ]
  },
  {
   "cell_type": "code",
   "execution_count": null,
   "id": "1257d06c",
   "metadata": {},
   "outputs": [],
   "source": [
    "import numpy as np\n",
    "import numpy.linalg as la"
   ]
  },
  {
   "cell_type": "code",
   "execution_count": null,
   "id": "53c11cd1",
   "metadata": {},
   "outputs": [],
   "source": [
    "import pickle, gzip"
   ]
  },
  {
   "cell_type": "markdown",
   "id": "6ea308b5",
   "metadata": {},
   "source": [
    "### Initial Deployment"
   ]
  },
  {
   "cell_type": "code",
   "execution_count": null,
   "id": "5cfcf3c9",
   "metadata": {},
   "outputs": [],
   "source": [
    "name = 'sphere_cap_0.3'"
   ]
  },
  {
   "cell_type": "code",
   "execution_count": null,
   "id": "92aefe1e",
   "metadata": {},
   "outputs": [],
   "source": [
    "input_path = '../../data/{}.json'.format(name)\n",
    "from load_jsondata import read_data\n",
    "input_data, io = read_data(filepath = input_path)\n",
    "import mesh\n",
    "target_mesh = mesh.Mesh(input_data['target_v'], input_data['target_f'])"
   ]
  },
  {
   "cell_type": "code",
   "execution_count": null,
   "id": "9b65a620",
   "metadata": {},
   "outputs": [],
   "source": [
    "curr_um = pickle.load(gzip.open('sphere_cap_0.3_initialization_in_equilibrium_2022_01_16_18_08.pkl.gz', 'r'))"
   ]
  },
  {
   "cell_type": "code",
   "execution_count": null,
   "id": "1203d99d",
   "metadata": {},
   "outputs": [],
   "source": [
    "target_height_multiplier = 5"
   ]
  },
  {
   "cell_type": "markdown",
   "id": "ac3e82b5",
   "metadata": {},
   "source": [
    "#### Pin Rigid Motion\n",
    "\n"
   ]
  },
  {
   "cell_type": "code",
   "execution_count": null,
   "id": "503aa5f7",
   "metadata": {},
   "outputs": [],
   "source": [
    "use_pin = False"
   ]
  },
  {
   "cell_type": "code",
   "execution_count": null,
   "id": "7bb01616",
   "metadata": {},
   "outputs": [],
   "source": [
    "driver = curr_um.centralJoint()\n",
    "jdo = curr_um.dofOffsetForJoint(driver)\n",
    "fixedVars = (list(range(jdo, jdo + 6)) if use_pin else []) + curr_um.rigidJointAngleDoFIndices()"
   ]
  },
  {
   "cell_type": "code",
   "execution_count": null,
   "id": "dc6a13ff",
   "metadata": {},
   "outputs": [],
   "source": [
    "import py_newton_optimizer\n",
    "OPTS = py_newton_optimizer.NewtonOptimizerOptions()\n",
    "OPTS.gradTol = 1e-8\n",
    "OPTS.verbose = 1\n",
    "OPTS.beta = 1e-6\n",
    "OPTS.niter = 300\n",
    "OPTS.verboseNonPosDef = False"
   ]
  },
  {
   "cell_type": "code",
   "execution_count": null,
   "id": "8c456ae8",
   "metadata": {},
   "outputs": [],
   "source": [
    "rod_colors = get_color_field(curr_um, input_data)"
   ]
  },
  {
   "cell_type": "code",
   "execution_count": null,
   "id": "5c8b1911",
   "metadata": {},
   "outputs": [],
   "source": [
    "import mesh\n",
    "view = linkage_vis.LinkageViewerWithSurface(curr_um, target_mesh, width=1024, height=600)\n",
    "# view = linkage_vis.LinkageViewer(curr_um, width=1024, height=600)\n",
    "# view.update(scalarField = rod_colors)\n",
    "set_surface_view_options(view, color = 'green', surface_color = 'gray', umbrella_transparent = False, surface_transparent = True)\n",
    "view.averagedMaterialFrames = True\n",
    "view.showScalarField(rod_colors)\n",
    "view.show()"
   ]
  },
  {
   "cell_type": "markdown",
   "id": "1ca55f12",
   "metadata": {},
   "source": [
    "### Initialize Design Optimization"
   ]
  },
  {
   "cell_type": "code",
   "execution_count": null,
   "id": "bbbb18df",
   "metadata": {},
   "outputs": [],
   "source": [
    "import umbrella_optimization\n",
    "import umbrella_optimization_finite_diff"
   ]
  },
  {
   "cell_type": "code",
   "execution_count": null,
   "id": "15de69a1",
   "metadata": {},
   "outputs": [],
   "source": [
    "curr_um.uniformDeploymentEnergyWeight = 1e-3"
   ]
  },
  {
   "cell_type": "code",
   "execution_count": null,
   "id": "d4efbe06",
   "metadata": {
    "tags": []
   },
   "outputs": [],
   "source": [
    "import py_newton_optimizer\n",
    "opt_opts = py_newton_optimizer.NewtonOptimizerOptions()\n",
    "opt_opts.gradTol = 1e-8\n",
    "opt_opts.verbose = 10\n",
    "opt_opts.beta = 1e-6\n",
    "opt_opts.niter = 600\n",
    "opt_opts.verboseNonPosDef = False"
   ]
  },
  {
   "cell_type": "code",
   "execution_count": null,
   "id": "43b788aa",
   "metadata": {
    "tags": []
   },
   "outputs": [],
   "source": [
    "from equilibrium_solve_analysis import EquilibriumSolveAnalysis\n",
    "eqays = EquilibriumSolveAnalysis(curr_um)\n",
    "def eqm_callback(prob, i):\n",
    "    eqays.record(prob)\n",
    "    if (i % 2 == 0):\n",
    "        view.showScalarField(rod_colors)"
   ]
  },
  {
   "cell_type": "code",
   "execution_count": null,
   "id": "45d97d50",
   "metadata": {
    "scrolled": true
   },
   "outputs": [],
   "source": [
    "results = umbrella_mesh.compute_equilibrium(curr_um, callback = eqm_callback, options = opt_opts, fixedVars = fixedVars, elasticEnergyIncreaseFactorLimit=2.5)"
   ]
  },
  {
   "cell_type": "code",
   "execution_count": null,
   "id": "d4b46338",
   "metadata": {},
   "outputs": [],
   "source": [
    "opt_opts.niter = 50"
   ]
  },
  {
   "cell_type": "code",
   "execution_count": null,
   "id": "739d2cdc",
   "metadata": {},
   "outputs": [],
   "source": [
    "results.success"
   ]
  },
  {
   "cell_type": "code",
   "execution_count": null,
   "id": "29945992",
   "metadata": {},
   "outputs": [],
   "source": [
    "# pickle.dump(curr_um, gzip.open('{}_initialization_in_equilibrium_{}.pkl.gz'.format(name, time.strftime(\"%Y_%m_%d_%H_%M\")), 'w'))"
   ]
  },
  {
   "cell_type": "code",
   "execution_count": null,
   "id": "501683e2",
   "metadata": {},
   "outputs": [],
   "source": [
    "optimizer = umbrella_optimization.UmbrellaOptimization(curr_um, opt_opts, 2.5, -1, False, fixedVars)"
   ]
  },
  {
   "cell_type": "code",
   "execution_count": null,
   "id": "140e5616",
   "metadata": {},
   "outputs": [],
   "source": [
    "optimizer.beta = 5 * 1e5\n",
    "optimizer.gamma = 1\n",
    "optimizer.eta = 0\n",
    "optimizer.zeta = 1e1"
   ]
  },
  {
   "cell_type": "code",
   "execution_count": null,
   "id": "cabd38d2",
   "metadata": {},
   "outputs": [],
   "source": [
    "rest_height_optimizer = umbrella_optimization.UmbrellaRestHeightsOptimization(optimizer)\n",
    "single_rest_height_optimizer = umbrella_optimization.UmbrellaSingleRestHeightOptimization(rest_height_optimizer)"
   ]
  },
  {
   "cell_type": "code",
   "execution_count": null,
   "id": "44ab29ea",
   "metadata": {},
   "outputs": [],
   "source": [
    "import design_optimization_analysis"
   ]
  },
  {
   "cell_type": "code",
   "execution_count": null,
   "id": "f2e68a7d",
   "metadata": {},
   "outputs": [],
   "source": [
    "doptays = design_optimization_analysis.DesignOptimizationAnalysis(rest_height_optimizer)"
   ]
  },
  {
   "cell_type": "code",
   "execution_count": null,
   "id": "04bca82a",
   "metadata": {},
   "outputs": [],
   "source": [
    "import time\n",
    "pipeline_helper.prev_time_stamp = time.time()"
   ]
  },
  {
   "cell_type": "code",
   "execution_count": null,
   "id": "9b486828",
   "metadata": {},
   "outputs": [],
   "source": [
    "cb = pipeline_helper.UmbrellaOptimizationCallback(rest_height_optimizer, view, True, False, 1, rod_colors, doptays.record)"
   ]
  },
  {
   "cell_type": "code",
   "execution_count": null,
   "id": "1735b6fb",
   "metadata": {},
   "outputs": [],
   "source": [
    "algorithm = umbrella_optimization.OptAlgorithm.NEWTON_CG\n",
    "solverStatus = umbrella_optimization.optimize(rest_height_optimizer, algorithm, 2, 1.0, 1e-2, cb, -1)"
   ]
  },
  {
   "cell_type": "markdown",
   "id": "2365f0cc",
   "metadata": {},
   "source": [
    "### Equilibrium solve with different parameters"
   ]
  },
  {
   "cell_type": "code",
   "execution_count": null,
   "id": "a9ef1d0b",
   "metadata": {},
   "outputs": [],
   "source": [
    "curr_um.uniformDeploymentEnergyWeight = 1e-2"
   ]
  },
  {
   "cell_type": "code",
   "execution_count": null,
   "id": "1fed4c43",
   "metadata": {},
   "outputs": [],
   "source": [
    "opt_opts.niter = 200"
   ]
  },
  {
   "cell_type": "code",
   "execution_count": null,
   "id": "61799e1f",
   "metadata": {
    "scrolled": true
   },
   "outputs": [],
   "source": [
    "results = umbrella_mesh.compute_equilibrium(curr_um, callback = eqm_callback, options = opt_opts, fixedVars = fixedVars, elasticEnergyIncreaseFactorLimit=2.5)"
   ]
  },
  {
   "cell_type": "code",
   "execution_count": null,
   "id": "5835d356",
   "metadata": {},
   "outputs": [],
   "source": [
    "opt_opts.niter = 50"
   ]
  },
  {
   "cell_type": "code",
   "execution_count": null,
   "id": "01f86d7e",
   "metadata": {},
   "outputs": [],
   "source": [
    "results.success"
   ]
  },
  {
   "cell_type": "code",
   "execution_count": null,
   "id": "56fd5c73",
   "metadata": {},
   "outputs": [],
   "source": [
    "solverStatus = umbrella_optimization.optimize(rest_height_optimizer, algorithm, 2, 1.0, 1e-2, cb, -1)"
   ]
  }
 ],
 "metadata": {
  "kernelspec": {
   "display_name": "Python 3",
   "language": "python",
   "name": "python3"
  },
  "language_info": {
   "codemirror_mode": {
    "name": "ipython",
    "version": 3
   },
   "file_extension": ".py",
   "mimetype": "text/x-python",
   "name": "python",
   "nbconvert_exporter": "python",
   "pygments_lexer": "ipython3",
   "version": "3.9.9"
  }
 },
 "nbformat": 4,
 "nbformat_minor": 5
}
