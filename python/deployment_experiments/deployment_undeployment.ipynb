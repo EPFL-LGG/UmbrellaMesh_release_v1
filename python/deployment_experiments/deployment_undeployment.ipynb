{
 "cells": [
  {
   "cell_type": "code",
   "execution_count": null,
   "id": "8bbb34f0-d027-4966-bd61-4044156791bd",
   "metadata": {},
   "outputs": [],
   "source": [
    "import sys\n",
    "sys.path.append('..')\n",
    "import umbrella_mesh\n",
    "import elastic_rods\n",
    "import linkage_vis\n",
    "from umbrella_mesh import UmbrellaEnergyType\n",
    "from bending_validation import suppress_stdout as so\n",
    "from visualization_helper import *"
   ]
  },
  {
   "cell_type": "code",
   "execution_count": null,
   "id": "5030bd74-1a43-439f-8fed-7f61a45859b3",
   "metadata": {},
   "outputs": [],
   "source": [
    "import numpy as np"
   ]
  },
  {
   "cell_type": "markdown",
   "id": "c962dee0-065b-40a8-a6ff-e2beedf85e56",
   "metadata": {},
   "source": [
    "### Initialization"
   ]
  },
  {
   "cell_type": "code",
   "execution_count": null,
   "id": "a5819212-9177-4956-b3bc-1d1721996bf3",
   "metadata": {},
   "outputs": [],
   "source": [
    "name = 'hemisphere'"
   ]
  },
  {
   "cell_type": "code",
   "execution_count": null,
   "id": "3325f982-a2f4-45c2-a157-0664e1669338",
   "metadata": {},
   "outputs": [],
   "source": [
    "input_path = '../../data/{}.json'.format(name)\n",
    "target_mesh_path = '../../data/target_meshes/{}.obj'.format(name)"
   ]
  },
  {
   "cell_type": "code",
   "execution_count": null,
   "id": "d5da071c-7ee6-41d0-9e45-d214ecc00ab7",
   "metadata": {},
   "outputs": [],
   "source": [
    "# input_path = '../../data/{}.json'.format('hemisphere')\n",
    "# target_mesh_path = '../../data/target_meshes/{}.obj'.format('hemisphere')"
   ]
  },
  {
   "cell_type": "code",
   "execution_count": null,
   "id": "073c77ca-e2da-4fdd-bf0e-37d3d9f701a0",
   "metadata": {},
   "outputs": [],
   "source": [
    "from load_jsondata import read_data\n",
    "input_data, io = read_data(filepath = input_path)\n",
    "width = 2*input_data['arm_plate_edge_offset']\n",
    "thickness = width * 0.5 # 1.5 mm # FIX from mm to meters everywhere\n",
    "cross_section = [thickness, width]"
   ]
  },
  {
   "cell_type": "code",
   "execution_count": null,
   "id": "3629434a-ba9e-4208-9e77-6fdaafd75468",
   "metadata": {
    "scrolled": true,
    "tags": []
   },
   "outputs": [],
   "source": [
    "curr_um = umbrella_mesh.UmbrellaMesh(target_mesh_path, io)\n",
    "curr_um.setMaterial(elastic_rods.RodMaterial('rectangle', 2000, 0.3, cross_section, stiffAxis=elastic_rods.StiffAxis.D1))"
   ]
  },
  {
   "cell_type": "code",
   "execution_count": null,
   "id": "83d8beb2-c2a1-4dc3-8ec1-332d159e3156",
   "metadata": {},
   "outputs": [],
   "source": [
    "curr_um.energy(UmbrellaEnergyType.Full)"
   ]
  },
  {
   "cell_type": "markdown",
   "id": "1da2ad81-5f1a-4f31-9649-60f0525536db",
   "metadata": {},
   "source": [
    "#### Pin Rigid Motion\n",
    "\n"
   ]
  },
  {
   "cell_type": "code",
   "execution_count": null,
   "id": "da83753d-7c54-4884-b20a-d36f65fcd1b4",
   "metadata": {},
   "outputs": [],
   "source": [
    "use_pin = False"
   ]
  },
  {
   "cell_type": "code",
   "execution_count": null,
   "id": "1e1cfb2f-355d-4727-9d68-75f23be7821e",
   "metadata": {},
   "outputs": [],
   "source": [
    "driver = curr_um.centralJoint()\n",
    "jdo = curr_um.dofOffsetForJoint(driver)\n",
    "fixedVars = (list(range(jdo, jdo + 6)) if use_pin else []) + curr_um.rigidJointAngleDoFIndices()"
   ]
  },
  {
   "cell_type": "code",
   "execution_count": null,
   "id": "b99efc8f-c841-4c6e-8667-d0dec90433ba",
   "metadata": {},
   "outputs": [],
   "source": [
    "import py_newton_optimizer\n",
    "OPTS = py_newton_optimizer.NewtonOptimizerOptions()\n",
    "OPTS.gradTol = 1e-6\n",
    "OPTS.verbose = 1\n",
    "OPTS.beta = 1e-6\n",
    "OPTS.niter = 300\n",
    "OPTS.verboseNonPosDef = False"
   ]
  },
  {
   "cell_type": "code",
   "execution_count": null,
   "id": "e903fdd3-9c9e-402d-bdcf-06ec8624493f",
   "metadata": {},
   "outputs": [],
   "source": [
    "rod_colors = []\n",
    "for ri in range(curr_um.numSegments()):\n",
    "    rod_colors.append(np.ones(curr_um.segment(ri).rod.numVertices()) * ri)"
   ]
  },
  {
   "cell_type": "code",
   "execution_count": null,
   "id": "68e5078c-80bd-4690-8a77-a592bf5ddae6",
   "metadata": {},
   "outputs": [],
   "source": [
    "import mesh\n",
    "target_mesh = mesh.Mesh(target_mesh_path)\n",
    "view = linkage_vis.LinkageViewerWithSurface(curr_um, target_mesh, width=1024, height=600)\n",
    "# view = linkage_vis.LinkageViewer(curr_um, width=1024, height=600)\n",
    "# view.update(scalarField = rod_colors)\n",
    "set_surface_view_options(view, color = 'green', surface_color = 'gray', umbrella_transparent = False, surface_transparent = True)\n",
    "view.averagedMaterialFrames = True\n",
    "view.showScalarField(rod_colors)\n",
    "view.show()"
   ]
  },
  {
   "cell_type": "code",
   "execution_count": null,
   "id": "7300fcd6-58b7-43ef-b126-b3bf498befbb",
   "metadata": {},
   "outputs": [],
   "source": [
    "angles = []\n",
    "def eqm_callback(prob, i):\n",
    "    angles.append(curr_um.getDoFs()[curr_um.jointAngleDoFIndices()])\n",
    "    if (i % 10 == 0):\n",
    "        view.update()\n",
    "        view.showScalarField(rod_colors)"
   ]
  },
  {
   "cell_type": "code",
   "execution_count": null,
   "id": "3487d9fe-d9d0-477d-897c-6da16095724d",
   "metadata": {},
   "outputs": [],
   "source": [
    "dof = curr_um.getDoFs()\n",
    "for i in range(curr_um.numJoints()):\n",
    "    if (curr_um.joint(i).jointType() == umbrella_mesh.JointType.X):\n",
    "        dof[curr_um.dofOffsetForJoint(i) + 6] = 1e-3\n",
    "curr_um.setDoFs(dof)"
   ]
  },
  {
   "cell_type": "markdown",
   "id": "876afca8-5d06-4523-a31a-0013e969d4ee",
   "metadata": {},
   "source": [
    "### Deployment"
   ]
  },
  {
   "cell_type": "code",
   "execution_count": null,
   "id": "3910d096-d667-48db-b627-96f18bdbdccd",
   "metadata": {},
   "outputs": [],
   "source": [
    "curr_um.uniformDeploymentEnergyWeight = 0.1\n",
    "# curr_um.deploymentForceType = umbrella_mesh.DeploymentForceType.Constant\n",
    "curr_um.targetDeploymentHeight = thickness * 5\n",
    "curr_um.repulsionEnergyWeight = 0\n",
    "curr_um.attractionWeight = 200000\n",
    "curr_um.setHoldClosestPointsFixed(False)\n",
    "curr_um.scaleInputPosWeights(0.6)"
   ]
  },
  {
   "cell_type": "code",
   "execution_count": null,
   "id": "998b96da-9f09-4152-9536-fcbd5e3ba229",
   "metadata": {},
   "outputs": [],
   "source": [
    "curr_um.energyElastic(), curr_um.energyDeployment(), curr_um.energyRepulsion(), curr_um.energyAttraction()"
   ]
  },
  {
   "cell_type": "code",
   "execution_count": null,
   "id": "3b8f346a-0cda-4125-b76d-b056748ab7f8",
   "metadata": {
    "scrolled": true
   },
   "outputs": [],
   "source": [
    "results = umbrella_mesh.compute_equilibrium(curr_um, callback = eqm_callback, options = OPTS, fixedVars = fixedVars, elasticEnergyIncreaseFactorLimit=2.5)"
   ]
  },
  {
   "cell_type": "code",
   "execution_count": null,
   "id": "956e1175-907b-48a0-9714-3fe48d28f260",
   "metadata": {},
   "outputs": [],
   "source": [
    "results.success"
   ]
  },
  {
   "cell_type": "code",
   "execution_count": null,
   "id": "9e82d924-c3c9-475e-b9e3-deab31c3f2e6",
   "metadata": {
    "tags": []
   },
   "outputs": [],
   "source": [
    "curr_um.energyElastic(elastic_rods.EnergyType.Bend), curr_um.energyElastic(elastic_rods.EnergyType.Twist), curr_um.energyElastic(elastic_rods.EnergyType.Stretch)"
   ]
  },
  {
   "cell_type": "markdown",
   "id": "748bfd26-18a1-4383-b5b2-973aaf2c6c83",
   "metadata": {},
   "source": [
    "### Undeployment"
   ]
  },
  {
   "cell_type": "code",
   "execution_count": null,
   "id": "7c35f785-d909-4527-93be-cedecfefe98a",
   "metadata": {},
   "outputs": [],
   "source": [
    "use_pin = True"
   ]
  },
  {
   "cell_type": "code",
   "execution_count": null,
   "id": "7a40adb6-d4ea-4aba-b698-c7697e353a3b",
   "metadata": {},
   "outputs": [],
   "source": [
    "driver = curr_um.centralJoint()\n",
    "jdo = curr_um.dofOffsetForJoint(driver)\n",
    "fixedVars = (list(range(jdo, jdo + 6)) if use_pin else []) + curr_um.rigidJointAngleDoFIndices()"
   ]
  },
  {
   "cell_type": "code",
   "execution_count": null,
   "id": "d639733f-6d00-4f89-b713-8a392a22e962",
   "metadata": {},
   "outputs": [],
   "source": [
    "curr_um.uniformDeploymentEnergyWeight = 0.1\n",
    "# curr_um.deploymentForceType = umbrella_mesh.DeploymentForceType.Constant\n",
    "curr_um.targetDeploymentHeight = thickness * 50\n",
    "curr_um.repulsionEnergyWeight = 0\n",
    "curr_um.attractionWeight = 0\n",
    "curr_um.setHoldClosestPointsFixed(False)\n",
    "curr_um.scaleInputPosWeights(0.5)"
   ]
  },
  {
   "cell_type": "code",
   "execution_count": null,
   "id": "75002456-86d9-474d-8e98-b51aefc2c171",
   "metadata": {},
   "outputs": [],
   "source": [
    "curr_um.energyElastic(), curr_um.energyDeployment(), curr_um.energyRepulsion(), curr_um.energyAttraction()"
   ]
  },
  {
   "cell_type": "code",
   "execution_count": null,
   "id": "7db0924e-40cf-48ed-b863-a0924f0b3ded",
   "metadata": {
    "scrolled": true
   },
   "outputs": [],
   "source": [
    "results = umbrella_mesh.compute_equilibrium(curr_um, callback = eqm_callback, options = OPTS, fixedVars = fixedVars, elasticEnergyIncreaseFactorLimit=2.5)"
   ]
  },
  {
   "cell_type": "code",
   "execution_count": null,
   "id": "85fb2e47-c368-48ce-bd2c-79f973c1a6bd",
   "metadata": {},
   "outputs": [],
   "source": [
    "results.success"
   ]
  },
  {
   "cell_type": "code",
   "execution_count": null,
   "id": "d1c02ccb-2bf3-488d-a00d-9a83d276a912",
   "metadata": {
    "tags": []
   },
   "outputs": [],
   "source": [
    "curr_um.energyElastic(elastic_rods.EnergyType.Bend), curr_um.energyElastic(elastic_rods.EnergyType.Twist), curr_um.energyElastic(elastic_rods.EnergyType.Stretch)"
   ]
  },
  {
   "cell_type": "code",
   "execution_count": null,
   "id": "00bb4fc8-4364-4c7a-bf6f-5edbae5055a4",
   "metadata": {},
   "outputs": [],
   "source": [
    "curr_um.uniformDeploymentEnergyWeight = 0.1"
   ]
  },
  {
   "cell_type": "code",
   "execution_count": null,
   "id": "1146c3ff-6a79-4384-96d2-cb6bac48d621",
   "metadata": {},
   "outputs": [],
   "source": [
    "results = umbrella_mesh.compute_equilibrium(curr_um, callback = eqm_callback, options = OPTS, fixedVars = fixedVars, elasticEnergyIncreaseFactorLimit=2.5)"
   ]
  }
 ],
 "metadata": {
  "kernelspec": {
   "display_name": "umbrella_mesh",
   "language": "python",
   "name": "umbrella_mesh"
  },
  "language_info": {
   "codemirror_mode": {
    "name": "ipython",
    "version": 3
   },
   "file_extension": ".py",
   "mimetype": "text/x-python",
   "name": "python",
   "nbconvert_exporter": "python",
   "pygments_lexer": "ipython3",
   "version": "3.9.7"
  }
 },
 "nbformat": 4,
 "nbformat_minor": 5
}
