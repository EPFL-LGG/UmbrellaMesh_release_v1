{
 "cells": [
  {
   "cell_type": "code",
   "execution_count": 1,
   "id": "12eff150-2550-40a2-a7e6-848bd33506c4",
   "metadata": {},
   "outputs": [],
   "source": [
    "import sys\n",
    "sys.path.append('..')\n",
    "import umbrella_mesh\n",
    "import elastic_rods\n",
    "import linkage_vis\n",
    "import benchmark\n",
    "from umbrella_mesh import UmbrellaEnergyType\n",
    "from bending_validation import suppress_stdout as so\n",
    "import numpy as np"
   ]
  },
  {
   "cell_type": "code",
   "execution_count": 2,
   "id": "a0267486-c28d-43e2-8654-6d2657d3df3a",
   "metadata": {},
   "outputs": [],
   "source": [
    "width = 0.1\n",
    "thickness = width\n",
    "cross_section = [thickness, width]\n",
    "\n",
    "input_path = '../../data/sphere_cap_0.3.json'\n",
    "from load_jsondata import read_data\n",
    "input_data, io = read_data(filepath = input_path)\n",
    "width = 2*input_data['arm_plate_edge_offset']\n",
    "thickness = width * 0.5 # 1.5 mm # FIX from mm to meters everywhere\n",
    "cross_section = [thickness, width]"
   ]
  },
  {
   "cell_type": "markdown",
   "id": "3cd77d6c",
   "metadata": {},
   "source": [
    "### Initialization"
   ]
  },
  {
   "cell_type": "code",
   "execution_count": 3,
   "id": "f2331538-62c0-4412-a8b5-61115ed3d7a6",
   "metadata": {},
   "outputs": [],
   "source": [
    "curr_um = umbrella_mesh.UmbrellaMesh(io)\n",
    "curr_um.setMaterial(elastic_rods.RodMaterial('rectangle', 2000, 0.3, cross_section, stiffAxis=elastic_rods.StiffAxis.D1))"
   ]
  },
  {
   "cell_type": "markdown",
   "id": "9f4be409",
   "metadata": {},
   "source": [
    "### Parameters"
   ]
  },
  {
   "cell_type": "code",
   "execution_count": 4,
   "id": "a433a169",
   "metadata": {},
   "outputs": [],
   "source": [
    "driver = curr_um.centralJoint()\n",
    "jdo = curr_um.dofOffsetForJoint(driver)\n",
    "fixedVars = list(range(jdo, jdo + 6)) + curr_um.rigidJointAngleDoFIndices()"
   ]
  },
  {
   "cell_type": "markdown",
   "id": "df907a7d",
   "metadata": {},
   "source": [
    "### Equilibrium solve"
   ]
  },
  {
   "cell_type": "code",
   "execution_count": 5,
   "id": "d85760d5",
   "metadata": {},
   "outputs": [],
   "source": [
    "import py_newton_optimizer\n",
    "OPTS = py_newton_optimizer.NewtonOptimizerOptions()\n",
    "OPTS.gradTol = 1e-6\n",
    "OPTS.verbose = 1\n",
    "OPTS.beta = 1e-6\n",
    "OPTS.niter = 300\n",
    "OPTS.verboseNonPosDef = False"
   ]
  },
  {
   "cell_type": "markdown",
   "id": "88f55b7d",
   "metadata": {
    "tags": []
   },
   "source": [
    "#### Distance Deployment"
   ]
  },
  {
   "cell_type": "code",
   "execution_count": 6,
   "id": "2368e0d9-96e4-4940-965f-74f711e4c833",
   "metadata": {
    "tags": []
   },
   "outputs": [
    {
     "data": {
      "application/vnd.jupyter.widget-view+json": {
       "model_id": "98657866cee1444786fc14a176990e76",
       "version_major": 2,
       "version_minor": 0
      },
      "text/plain": [
       "Renderer(camera=PerspectiveCamera(aspect=1.7066666666666668, children=(PointLight(color='#999999', position=(0…"
      ]
     },
     "metadata": {},
     "output_type": "display_data"
    }
   ],
   "source": [
    "rod_colors = []\n",
    "for ri in range(curr_um.numSegments()):\n",
    "    rod_colors.append(np.ones(curr_um.segment(ri).rod.numVertices()) * ri)\n",
    "\n",
    "view = linkage_vis.LinkageViewer(curr_um, width=1024, height=600)\n",
    "view.averagedMaterialFrames = True\n",
    "view.update(scalarField = rod_colors)\n",
    "view.show()"
   ]
  },
  {
   "cell_type": "code",
   "execution_count": 7,
   "id": "18a64980",
   "metadata": {},
   "outputs": [],
   "source": [
    "dof = curr_um.getDoFs()\n",
    "for i in range(curr_um.numJoints()):\n",
    "    if (curr_um.joint(i).jointType() == umbrella_mesh.JointType.X):\n",
    "        dof[curr_um.dofOffsetForJoint(i) + 6] = 1e-3\n",
    "curr_um.setDoFs(dof)"
   ]
  },
  {
   "cell_type": "code",
   "execution_count": 8,
   "id": "4ea17783",
   "metadata": {
    "tags": []
   },
   "outputs": [],
   "source": [
    "angles = []\n",
    "gradient_norm = []\n",
    "def eqm_callback(prob, i):\n",
    "    angles.append(curr_um.getDoFs()[curr_um.jointAngleDoFIndices()])\n",
    "    g = prob.gradient()\n",
    "    fv = prob.fixedVars()\n",
    "    g[fv] = 0\n",
    "    for b in prob.activeBoundConstraints(prob.getVars(), g):\n",
    "        g[b.idx] = 0\n",
    "    gradient_norm.append(np.linalg.norm(g))\n",
    "    if (i % 5 == 0):\n",
    "        view.update(scalarField = rod_colors)"
   ]
  },
  {
   "cell_type": "code",
   "execution_count": 9,
   "id": "2866134a-f196-4982-871b-24d8598765f5",
   "metadata": {},
   "outputs": [],
   "source": [
    "curr_um.uniformDeploymentEnergyWeight = 1\n",
    "curr_um.targetDeploymentHeight = thickness * 1"
   ]
  },
  {
   "cell_type": "code",
   "execution_count": 10,
   "id": "66dd2d20",
   "metadata": {
    "scrolled": true,
    "tags": []
   },
   "outputs": [
    {
     "name": "stdout",
     "output_type": "stream",
     "text": [
      "Launching optimization with energies:\n",
      "\t Full:1.22721\t Elastic:2.74224e-06\t Deployment:1.22721\n",
      "0\t1.22721\t2.21624\t2.21624\t0.000209542\t0\n",
      "1\t1.22704\t2.24695\t2.24695\t0.00326149\t0\n",
      "2\t1.22439\t2.24069\t2.24069\t0.00763948\t0\n",
      "3\t1.21989\t2.22562\t2.22562\t0.0101839\t0\n",
      "4\t1.21356\t2.20696\t2.20696\t0.0113098\t0\n",
      "5\t1.20603\t2.18756\t2.18756\t0.0118458\t0\n",
      "6\t1.19751\t2.16869\t2.16869\t0.012188\t0\n",
      "7\t1.1881\t2.15071\t2.15071\t0.0248288\t0\n",
      "8\t1.16784\t2.14499\t2.14499\t0.03125\t0\n",
      "9\t1.14431\t2.14856\t2.14856\t0.03125\t0\n",
      "10\t1.1203\t2.1602\t2.1602\t0.0625\t0\n",
      "11\t1.07124\t2.4438\t2.4438\t0.0625\t0\n",
      "12\t1.02725\t2.65705\t2.65705\t0.125\t0\n",
      "13\t0.940507\t3.90519\t3.90519\t0.125\t0\n",
      "14\t0.865855\t4.45434\t4.45434\t0.25\t0\n",
      "15\t0.727959\t6.67831\t6.67831\t0.5\t0\n",
      "16\t0.535903\t9.91342\t9.91342\t1\t0\n",
      "17\t0.297027\t7.66553\t7.66553\t1\t0\n",
      "18\t0.125243\t4.10964\t4.10964\t1\t0\n",
      "Added constraint 352 to working set\n",
      "Added constraint 379 to working set\n",
      "19\t0.0685212\t42.4735\t42.4735\t1\t1\n",
      "20\t0.0447024\t6.28531\t6.28531\t0.345395\t0\n",
      "Added constraint 353 to working set\n",
      "Added constraint 377 to working set\n",
      "Added constraint 421 to working set\n",
      "21\t0.0283573\t5.63328\t5.63327\t0.405611\t0\n",
      "Added constraint 419 to working set\n",
      "22\t0.017319\t4.71946\t4.71945\t1\t0\n",
      "23\t0.00652501\t4.90831\t4.90831\t0.5\t0\n",
      "24\t0.00557744\t4.69798\t4.69798\t0.286153\t0\n",
      "25\t0.00524175\t3.94175\t3.94175\t1\t0\n",
      "Added constraint 387 to working set\n",
      "Added constraint 390 to working set\n",
      "Added constraint 407 to working set\n",
      "26\t0.00468202\t6.1099\t6.10988\t1\t1\n",
      "27\t0.00444393\t0.0516661\t0.0516516\t1\t1\n",
      "28\t0.00443573\t0.00801496\t0.00796151\t1\t1\n",
      "29\t0.00442891\t0.00582954\t0.00576613\t1\t1\n",
      "30\t0.00442011\t0.00766743\t0.00762348\t1\t1\n",
      "31\t0.00440758\t0.0183128\t0.0182956\t1\t1\n",
      "32\t0.00439065\t0.0438723\t0.0438654\t1\t1\n",
      "33\t0.00436997\t0.0865771\t0.0865735\t0.0760559\t1\n",
      "Added constraint 404 to working set\n",
      "34\t0.00436804\t0.126864\t0.126861\t0.474533\t1\n",
      "Added constraint 425 to working set\n",
      "35\t0.00435121\t0.123744\t0.123741\t0.293564\t1\n",
      "Added constraint 384 to working set\n",
      "36\t0.00434075\t0.120614\t0.120611\t0.288962\t1\n",
      "Added constraint 411 to working set\n",
      "37\t0.00433802\t1.11362\t1.11361\t1\t1\n",
      "Added constraint 394 to working set\n",
      "38\t0.00433714\t2.04413\t2.04413\t0.457412\t1\n",
      "Added constraint 361 to working set\n",
      "Added constraint 373 to working set\n",
      "39\t0.00432174\t1.37226\t1.37226\t1\t1\n",
      "40\t0.00430905\t0.0169536\t0.0169106\t1\t1\n",
      "41\t0.00430832\t0.00642328\t0.00630872\t1\t1\n",
      "42\t0.00430747\t0.00949142\t0.00941456\t1\t1\n",
      "43\t0.00430584\t0.0345942\t0.034573\t1\t1\n",
      "44\t0.00429975\t0.227273\t0.227269\t0.777827\t1\n",
      "Added constraint 364 to working set\n",
      "45\t0.00429554\t1.75999\t1.75998\t0.311379\t0\n",
      "Added constraint 399 to working set\n",
      "46\t0.00427069\t2.06002\t2.06001\t1\t0\n",
      "Added constraint 359 to working set\n",
      "47\t0.00425595\t2.46045\t2.46045\t1\t0\n",
      "Added constraint 366 to working set\n",
      "Added constraint 397 to working set\n",
      "48\t0.00408334\t2.85699\t2.85698\t0.11864\t0\n",
      "Added constraint 402 to working set\n",
      "49\t0.00402081\t3.15546\t3.15545\t1\t0\n",
      "Added constraint 415 to working set\n",
      "50\t0.00388279\t2.48504\t2.48503\t0.0308052\t0\n",
      "Added constraint 398 to working set\n",
      "51\t0.00387161\t2.41538\t2.41537\t0.703685\t0\n",
      "Added constraint 413 to working set\n",
      "52\t0.00379812\t2.59733\t2.59733\t1\t0\n",
      "53\t0.0036207\t1.0488\t1.0488\t0.212961\t0\n",
      "54\t0.00357404\t1.31716\t1.31715\t1\t0\n",
      "55\t0.00348454\t0.764092\t0.764088\t0.5\t0\n",
      "56\t0.00343922\t0.952946\t0.952942\t1\t0\n",
      "57\t0.00338103\t0.871979\t0.871974\t0.491129\t0\n",
      "Added constraint 383 to working set\n",
      "58\t0.00334886\t0.67279\t0.672784\t1\t0\n",
      "59\t0.00330992\t0.643764\t0.643757\t0.52283\t0\n",
      "Added constraint 424 to working set\n",
      "60\t0.00329737\t1.19428\t1.19427\t1\t0\n",
      "61\t0.00326938\t0.513465\t0.513456\t1\t0\n",
      "62\t0.00325348\t0.251336\t0.251317\t1\t0\n",
      "63\t0.00324535\t0.421484\t0.421472\t1\t0\n",
      "64\t0.00323906\t0.0752489\t0.0751787\t1\t0\n",
      "65\t0.00323737\t0.274898\t0.274878\t1\t0\n",
      "66\t0.0032357\t0.0089724\t0.00833467\t1\t0\n",
      "67\t0.00323556\t0.0250337\t0.0248096\t1\t0\n",
      "Removed constraint 373 from working set\n",
      "Removed constraint 387 from working set\n",
      "68\t0.00323555\t0.00334183\t0.000831451\t0.00551367\t0\n",
      "Added constraint 374 to working set\n",
      "69\t0.00323355\t0.208604\t0.208578\t0.0659166\t0\n",
      "Added constraint 389 to working set\n",
      "70\t0.00321838\t0.389051\t0.389036\t0.610144\t0\n",
      "Added constraint 388 to working set\n",
      "71\t0.00318054\t1.79529\t1.79528\t0.839569\t0\n",
      "Added constraint 365 to working set\n",
      "72\t0.00313897\t1.57139\t1.57138\t1\t0\n",
      "Added constraint 372 to working set\n",
      "73\t0.00312265\t0.654752\t0.654741\t1\t0\n",
      "74\t0.00311874\t0.0650405\t0.0649618\t1\t0\n",
      "75\t0.00311843\t0.0225496\t0.0223216\t1\t0\n",
      "76\t0.0031184\t0.00387742\t0.00219313\t1\t0\n",
      "Removed constraint 407 from working set\n",
      "77\t0.0031184\t0.00319766\t0.000463541\t0.5\t0\n",
      "78\t0.00309842\t0.397116\t0.397104\t1\t0\n",
      "79\t0.00308975\t0.138379\t0.138343\t1\t0\n",
      "80\t0.00308888\t0.0917465\t0.0916929\t1\t0\n",
      "81\t0.00308869\t0.00320698\t0.000662952\t1\t0\n",
      "82\t0.00308869\t0.00316386\t0.000392731\t1\t0\n",
      "Removed constraint 366 from working set\n",
      "Removed constraint 384 from working set\n",
      "Removed constraint 402 from working set\n",
      "Removed constraint 421 from working set\n",
      "Removed constraint 425 from working set\n",
      "83\t0.00308869\t0.00313938\t0.000427831\t0.5\t0\n",
      "84\t0.00307435\t1.12011\t1.1201\t1\t0\n",
      "85\t0.0030496\t0.0526159\t0.0525245\t1\t0\n",
      "86\t0.00304945\t0.453216\t0.453204\t1\t0\n",
      "87\t0.00304625\t0.00317498\t0.000439468\t1\t0\n",
      "88\t0.00304624\t0.00344054\t0.00138987\t1\t0\n",
      "Removed constraint 364 from working set\n",
      "Removed constraint 372 from working set\n",
      "Removed constraint 377 from working set\n",
      "89\t0.00304624\t0.00314708\t5.80497e-05\t0\t0\n",
      "Added constraint 372 to working set\n",
      "90\t0.00304624\t0.00314708\t5.7879e-05\t1\t0\n",
      "91\t0.0030458\t0.208292\t0.208268\t1\t0\n",
      "92\t0.00304536\t0.00315163\t9.75728e-05\t1\t0\n",
      "93\t0.00304536\t0.00315016\t1.59391e-06\t1\t0\n",
      "94\t0.00304536\t0.00315016\t1.40857e-10\t1\t0\n",
      "Newton iterations\t0.69058\t1\n",
      "    Newton iterate\t0.689685\t95\n",
      "        Backtracking\t0.088624\t94\n",
      "            UmbrellaMesh<Real>.setDoFs\t0.0793259\t193\n",
      "                Update closest points\t0.044311\t193\n",
      "        Compute descent direction\t0.393531\t94\n",
      "            newton_step\t0.393309\t94\n",
      "                Newton solve\t0.256231\t119\n",
      "                    CHOLMOD Numeric Factorize\t0.209261\t118\n",
      "                    fixVariablesInWorkingSet\t0.000471592\t20\n",
      "                    Solve\t0.0307148\t119\n",
      "                        CHOLMOD Backsub\t0.0130198\t119\n",
      "                        CHOLMOD Numeric Factorize\t0.00362706\t1\n",
      "                        CHOLMOD Symbolic Factorize\t0.0110712\t1\n",
      "                    UmbrellaMesh<Real>.massMatrix\t0.00670028\t19\n",
      "                UmbrellaMesh<Real>.massMatrix\t0.000322104\t1\n",
      "                hessEval\t0.125536\t94\n",
      "                    fixVariablesInWorkingSet\t0.00200105\t75\n",
      "                    UmbrellaMesh<Real>.hessian\t0.111466\t94\n",
      "                        elastic\t0.109558\t94\n",
      "                largestMagnitudeEigenvalue\t0.00482082\t2\n",
      "        Preamble\t0.162396\t95\n",
      "            Callback\t0.130886\t95\n",
      "                UmbrellaMesh<Real>.gradient\t0.0195737\t95\n",
      "            UmbrellaMesh<Real>.gradient\t0.0192399\t95\n",
      "UmbrellaMesh<Real>.setDoFs\t0.0020659\t1\n",
      "    Update closest points\t0.00170612\t1\n",
      "Full time\t0.699388\n"
     ]
    }
   ],
   "source": [
    "benchmark.reset()\n",
    "umbrella_mesh.compute_equilibrium(curr_um, callback = eqm_callback, options = OPTS, fixedVars = fixedVars, elasticEnergyIncreaseFactorLimit=2.5)\n",
    "benchmark.report()"
   ]
  },
  {
   "cell_type": "code",
   "execution_count": null,
   "id": "0641780d-2e35-4620-8ce5-25beaac317da",
   "metadata": {},
   "outputs": [],
   "source": [
    "from matplotlib import pyplot as plt\n",
    "fig = plt.figure(figsize=(10,8))\n",
    "plt.semilogy(gradient_norm)\n",
    "plt.title('Free Gradient Components')\n",
    "plt.xlabel('Newton Iteration')\n",
    "plt.ylabel('Norm')\n",
    "plt.grid()"
   ]
  },
  {
   "cell_type": "code",
   "execution_count": null,
   "id": "496bc3a3-e284-433f-9bc9-100bd06d3ec0",
   "metadata": {},
   "outputs": [],
   "source": [
    "from matplotlib import pyplot as plt\n",
    "fig = plt.figure(figsize=(10,8))\n",
    "for i in range(len(angles[0])):\n",
    "    plt.plot([a[i] / np.pi for a in angles])\n",
    "plt.title('Joint Angles')\n",
    "plt.xlabel('Newton Iteration')\n",
    "plt.ylabel('Pi Radians')\n",
    "plt.tight_layout()\n",
    "plt.show()"
   ]
  },
  {
   "cell_type": "code",
   "execution_count": null,
   "id": "b5691405-7729-453b-8b5e-018b28113364",
   "metadata": {},
   "outputs": [],
   "source": [
    "import umbrella_finite_diff\n",
    "umbrella_finite_diff.gradient_convergence_plot(curr_um, umbrellaEnergyType=umbrella_mesh.UmbrellaEnergyType.Deployment, etype=elastic_rods.EnergyType.Full)"
   ]
  },
  {
   "cell_type": "code",
   "execution_count": null,
   "id": "1f9ba58c-ee2f-4669-83df-b33eaebc6307",
   "metadata": {},
   "outputs": [],
   "source": [
    "curr_um.updateSourceFrame()\n",
    "umbrella_finite_diff.hessian_convergence_plot(curr_um, umbrellaEnergyType=umbrella_mesh.UmbrellaEnergyType.Full, etype=elastic_rods.EnergyType.Full)"
   ]
  },
  {
   "cell_type": "code",
   "execution_count": null,
   "id": "c035540c-9003-40dc-ad47-ebca2cf82f0a",
   "metadata": {},
   "outputs": [],
   "source": [
    "stress = curr_um.maxBendingStresses()\n",
    "# stress = curr_um.twistingStresses()\n",
    "view.update(scalarField=stress)"
   ]
  }
 ],
 "metadata": {
  "interpreter": {
   "hash": "e7370f93d1d0cde622a1f8e1c04877d8463912d04d973331ad4851f04de6915a"
  },
  "kernelspec": {
   "display_name": "Python 3",
   "language": "python",
   "name": "python3"
  },
  "language_info": {
   "codemirror_mode": {
    "name": "ipython",
    "version": 3
   },
   "file_extension": ".py",
   "mimetype": "text/x-python",
   "name": "python",
   "nbconvert_exporter": "python",
   "pygments_lexer": "ipython3",
   "version": "3.9.9"
  }
 },
 "nbformat": 4,
 "nbformat_minor": 5
}
