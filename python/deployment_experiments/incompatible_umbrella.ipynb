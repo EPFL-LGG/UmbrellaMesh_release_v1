{
 "cells": [
  {
   "cell_type": "code",
   "execution_count": 1,
   "id": "94475abb",
   "metadata": {},
   "outputs": [],
   "source": [
    "import sys\n",
    "sys.path.append('..')\n",
    "import umbrella_mesh\n",
    "import elastic_rods\n",
    "import linkage_vis\n",
    "from umbrella_mesh import UmbrellaEnergyType\n",
    "from bending_validation import suppress_stdout as so"
   ]
  },
  {
   "cell_type": "code",
   "execution_count": 2,
   "id": "7376c082",
   "metadata": {},
   "outputs": [],
   "source": [
    "import numpy as np"
   ]
  },
  {
   "cell_type": "code",
   "execution_count": 3,
   "id": "b64a9509",
   "metadata": {},
   "outputs": [],
   "source": [
    "input_path = '../../data/saddle.json'\n",
    "from load_jsondata import read_data\n",
    "input_data, io = read_data(filepath = input_path)\n",
    "import mesh\n",
    "target_mesh = mesh.Mesh(input_data['target_v'], input_data['target_f'])"
   ]
  },
  {
   "cell_type": "markdown",
   "id": "3cd77d6c",
   "metadata": {},
   "source": [
    "### Initialization"
   ]
  },
  {
   "cell_type": "code",
   "execution_count": 4,
   "id": "fb541cce",
   "metadata": {},
   "outputs": [],
   "source": [
    "curr_um = umbrella_mesh.UmbrellaMesh(io)\n",
    "thickness = io.material_params[6]\n",
    "curr_um.targetDeploymentHeight = thickness\n"
   ]
  },
  {
   "cell_type": "code",
   "execution_count": 5,
   "id": "8b9e7213",
   "metadata": {},
   "outputs": [],
   "source": [
    "# curr_um.setMaterial(elastic_rods.RodMaterial('rectangle', 1400, 0.35, cross_section, stiffAxis=elastic_rods.StiffAxis.D1), \n",
    "#                     elastic_rods.RodMaterial('rectangle', 14000, 0.35, cross_section, stiffAxis=elastic_rods.StiffAxis.D1))"
   ]
  },
  {
   "cell_type": "code",
   "execution_count": 6,
   "id": "9e28d993",
   "metadata": {},
   "outputs": [
    {
     "data": {
      "text/plain": [
       "8.1071893602145e-28"
      ]
     },
     "execution_count": 6,
     "metadata": {},
     "output_type": "execute_result"
    }
   ],
   "source": [
    "curr_um.energy(UmbrellaEnergyType.Full)"
   ]
  },
  {
   "cell_type": "markdown",
   "id": "9f4be409",
   "metadata": {},
   "source": [
    "### Pin Rigid Motion\n",
    "\n"
   ]
  },
  {
   "cell_type": "code",
   "execution_count": 7,
   "id": "a433a169",
   "metadata": {},
   "outputs": [],
   "source": [
    "driver = curr_um.centralJoint()\n",
    "jdo = curr_um.dofOffsetForJoint(driver)\n",
    "# fixedVars = list(range(jdo, jdo + 6)) + curr_um.rigidJointAngleDoFIndices()\n",
    "fixedVars = curr_um.rigidJointAngleDoFIndices()"
   ]
  },
  {
   "cell_type": "markdown",
   "id": "df907a7d",
   "metadata": {},
   "source": [
    "### Equilibrium solve"
   ]
  },
  {
   "cell_type": "code",
   "execution_count": 8,
   "id": "d85760d5",
   "metadata": {},
   "outputs": [],
   "source": [
    "import py_newton_optimizer\n",
    "OPTS = py_newton_optimizer.NewtonOptimizerOptions()\n",
    "OPTS.gradTol = 1e-10\n",
    "OPTS.verbose = 1\n",
    "OPTS.beta = 1e-8\n",
    "OPTS.niter = 1000\n",
    "OPTS.verboseNonPosDef = False"
   ]
  },
  {
   "cell_type": "code",
   "execution_count": 9,
   "id": "9429a25a",
   "metadata": {},
   "outputs": [],
   "source": [
    "rod_colors = []\n",
    "for seg_id in range(curr_um.numSegments()):\n",
    "    rod_colors.append(np.ones(curr_um.segment(seg_id).rod.numVertices())*seg_id)"
   ]
  },
  {
   "cell_type": "code",
   "execution_count": 10,
   "id": "1b3953a2",
   "metadata": {
    "tags": []
   },
   "outputs": [
    {
     "data": {
      "application/vnd.jupyter.widget-view+json": {
       "model_id": "c9576039714644ba9c8850e1027e3a68",
       "version_major": 2,
       "version_minor": 0
      },
      "text/plain": [
       "Renderer(camera=PerspectiveCamera(aspect=1.7066666666666668, children=(PointLight(color='#999999', position=(0…"
      ]
     },
     "metadata": {},
     "output_type": "display_data"
    }
   ],
   "source": [
    "\n",
    "import mesh\n",
    "from visualization_helper import *\n",
    "view = linkage_vis.LinkageViewerWithSurface(curr_um, target_mesh, width=1024, height=600)\n",
    "set_surface_view_options(view, color = 'green', surface_color = 'gray', umbrella_transparent = False, surface_transparent = True)\n",
    "# view = linkage_vis.LinkageViewer(curr_um, width=1024, height=600)\n",
    "view.averagedMaterialFrames = True\n",
    "view.showScalarField(rod_colors)\n",
    "\n",
    "view.show()"
   ]
  },
  {
   "cell_type": "code",
   "execution_count": 11,
   "id": "a17f1d97-8420-4031-801f-e0a1439c43d2",
   "metadata": {},
   "outputs": [],
   "source": [
    "# view.update(vectorField = [[frame.d2 for frame in s.rod.deformedConfiguration().materialFrame] for s in curr_um.segments()])"
   ]
  },
  {
   "cell_type": "code",
   "execution_count": 12,
   "id": "4322f16f",
   "metadata": {},
   "outputs": [],
   "source": [
    "# from load_jsondata import write_deformed_config\n",
    "# write_deformed_config(input_data, curr_um, input_path[:-5]+'_undeformed.json', write_stress = False)"
   ]
  },
  {
   "cell_type": "code",
   "execution_count": 13,
   "id": "18a64980",
   "metadata": {},
   "outputs": [],
   "source": [
    "dof = curr_um.getDoFs()\n",
    "for i in range(curr_um.numJoints()):\n",
    "    if (curr_um.joint(i).jointType() == umbrella_mesh.JointType.X):\n",
    "        dof[curr_um.dofOffsetForJoint(i) + 6] = 1e-6\n",
    "curr_um.setDoFs(dof)"
   ]
  },
  {
   "cell_type": "code",
   "execution_count": 14,
   "id": "3ffa083c",
   "metadata": {},
   "outputs": [],
   "source": [
    "view.showScalarField(rod_colors)"
   ]
  },
  {
   "cell_type": "code",
   "execution_count": 15,
   "id": "4ea17783",
   "metadata": {
    "tags": []
   },
   "outputs": [],
   "source": [
    "def eqm_callback(prob, i):\n",
    "    if (i % 20 == 0):\n",
    "        view.showScalarField(rod_colors)"
   ]
  },
  {
   "cell_type": "code",
   "execution_count": 26,
   "id": "2866134a-f196-4982-871b-24d8598765f5",
   "metadata": {},
   "outputs": [],
   "source": [
    "curr_um.uniformDeploymentEnergyWeight = 1\n",
    "# curr_um.deploymentForceType = umbrella_mesh.DeploymentForceType.Constant\n",
    "deployment_ratio = 1\n",
    "curr_um.targetDeploymentHeight = deployment_ratio*thickness\n",
    "curr_um.repulsionEnergyWeight = 0\n",
    "curr_um.attractionWeight = 1e-4\n",
    "curr_um.setHoldClosestPointsFixed(False)\n",
    "curr_um.scaleInputPosWeights(0.5)"
   ]
  },
  {
   "cell_type": "code",
   "execution_count": 27,
   "id": "be8217f9",
   "metadata": {},
   "outputs": [
    {
     "data": {
      "text/plain": [
       "(6.226849372268259e-05, 0.0001270022870113054, 0.0, 1.0961854351131122e-07)"
      ]
     },
     "execution_count": 27,
     "metadata": {},
     "output_type": "execute_result"
    }
   ],
   "source": [
    "curr_um.energyElastic(), curr_um.energyDeployment(), curr_um.energyRepulsion(), curr_um.energyAttraction()\n",
    "# view.update()\n",
    "# view.showScalarField(rod_colors)"
   ]
  },
  {
   "cell_type": "code",
   "execution_count": 28,
   "id": "1b82c03e-0d03-4f2e-9f4c-c48eb8f98dd5",
   "metadata": {},
   "outputs": [],
   "source": [
    "# driver = curr_um.centralJoint()\n",
    "# jdo = curr_um.dofOffsetForJoint(driver)\n",
    "# fixedVars = list(range(jdo, jdo + 6)) + curr_um.rigidJointAngleDoFIndices()\n",
    "# fixedVars = curr_um.rigidJointAngleDoFIndices()"
   ]
  },
  {
   "cell_type": "code",
   "execution_count": 29,
   "id": "66dd2d20",
   "metadata": {
    "scrolled": true,
    "tags": []
   },
   "outputs": [
    {
     "name": "stdout",
     "output_type": "stream",
     "text": [
      "0\t0.00018938\t0.0223137\t0.0223137\t0.001\t1\n",
      "Added constraint 665 to working set\n",
      "Added constraint 666 to working set\n",
      "Added constraint 670 to working set\n",
      "Added constraint 673 to working set\n",
      "Added constraint 674 to working set\n",
      "Added constraint 677 to working set\n",
      "Added constraint 680 to working set\n",
      "Added constraint 682 to working set\n",
      "Added constraint 685 to working set\n",
      "Added constraint 687 to working set\n",
      "Added constraint 689 to working set\n",
      "Added constraint 690 to working set\n",
      "Added constraint 694 to working set\n",
      "Added constraint 697 to working set\n",
      "Added constraint 699 to working set\n",
      "Added constraint 702 to working set\n",
      "Added constraint 704 to working set\n",
      "Added constraint 707 to working set\n",
      "Added constraint 708 to working set\n",
      "Added constraint 709 to working set\n",
      "Added constraint 711 to working set\n",
      "Added constraint 714 to working set\n",
      "Added constraint 716 to working set\n",
      "Added constraint 719 to working set\n",
      "Added constraint 721 to working set\n",
      "Added constraint 724 to working set\n",
      "Added constraint 725 to working set\n",
      "Added constraint 727 to working set\n",
      "Added constraint 730 to working set\n",
      "Added constraint 733 to working set\n",
      "Added constraint 735 to working set\n",
      "Added constraint 737 to working set\n",
      "Added constraint 740 to working set\n",
      "Added constraint 742 to working set\n",
      "Added constraint 745 to working set\n",
      "Added constraint 748 to working set\n",
      "Added constraint 750 to working set\n",
      "Added constraint 752 to working set\n",
      "Added constraint 755 to working set\n",
      "Added constraint 757 to working set\n",
      "Added constraint 760 to working set\n",
      "Added constraint 764 to working set\n",
      "Added constraint 766 to working set\n",
      "Added constraint 772 to working set\n",
      "Added constraint 775 to working set\n",
      "Added constraint 778 to working set\n",
      "Added constraint 779 to working set\n",
      "Added constraint 782 to working set\n",
      "Added constraint 784 to working set\n",
      "Added constraint 787 to working set\n",
      "Added constraint 788 to working set\n",
      "Added constraint 790 to working set\n",
      "Added constraint 792 to working set\n",
      "Added constraint 795 to working set\n",
      "Added constraint 800 to working set\n",
      "Added constraint 803 to working set\n",
      "Added constraint 804 to working set\n",
      "Added constraint 808 to working set\n",
      "Added constraint 809 to working set\n",
      "1\t0.000189157\t0.0260268\t0.0260268\t0.0013754\t1\n",
      "Added constraint 681 to working set\n",
      "Added constraint 726 to working set\n",
      "Added constraint 741 to working set\n",
      "Added constraint 756 to working set\n",
      "Added constraint 761 to working set\n",
      "Added constraint 765 to working set\n",
      "Added constraint 770 to working set\n",
      "Added constraint 773 to working set\n",
      "2\t0.000188824\t0.0259929\t0.0259928\t0.00100277\t1\n",
      "Added constraint 695 to working set\n",
      "Added constraint 705 to working set\n",
      "Added constraint 720 to working set\n",
      "Added constraint 732 to working set\n",
      "Added constraint 798 to working set\n",
      "3\t0.000188585\t0.0259683\t0.0259682\t0.0027689\t1\n",
      "Added constraint 693 to working set\n",
      "4\t0.000187922\t0.0258964\t0.0258964\t0.0176478\t1\n",
      "Added constraint 768 to working set\n",
      "5\t0.000183775\t0.0254401\t0.02544\t0.301399\t1\n",
      "Added constraint 783 to working set\n",
      "6\t0.000124728\t0.0184962\t0.0184961\t0.0390765\t0\n",
      "Added constraint 715 to working set\n",
      "7\t0.000119717\t0.0281861\t0.0281861\t0.364204\t0\n",
      "Added constraint 728 to working set\n",
      "8\t8.69556e-05\t0.0423901\t0.0423901\t0.788148\t0\n",
      "Added constraint 696 to working set\n",
      "9\t6.29733e-05\t0.0150287\t0.0150286\t0.13939\t0\n",
      "Added constraint 785 to working set\n",
      "10\t6.22663e-05\t0.0131686\t0.0131685\t0.958872\t0\n",
      "Added constraint 686 to working set\n",
      "11\t5.99073e-05\t0.0236613\t0.0236613\t0.957732\t0\n",
      "Added constraint 698 to working set\n",
      "12\t5.83606e-05\t0.0119195\t0.0119195\t0.658906\t0\n",
      "Added constraint 683 to working set\n",
      "13\t5.82761e-05\t0.0367319\t0.0367319\t0.0848297\t0\n",
      "Added constraint 688 to working set\n",
      "14\t5.80257e-05\t0.0336279\t0.0336278\t1\t0\n",
      "15\t5.65169e-05\t0.0114109\t0.0114109\t0.182536\t0\n",
      "16\t5.62794e-05\t0.0180326\t0.0180325\t0.213366\t0\n",
      "Added constraint 675 to working set\n",
      "17\t5.60121e-05\t0.0145076\t0.0145075\t1\t0\n",
      "18\t5.56027e-05\t0.0226329\t0.0226329\t0.435175\t0\n",
      "Added constraint 746 to working set\n",
      "19\t5.50556e-05\t0.0162641\t0.016264\t1\t0\n",
      "20\t5.44191e-05\t0.00958377\t0.00958371\t0.5\t0\n",
      "21\t5.41269e-05\t0.0155017\t0.0155017\t1\t0\n",
      "22\t5.36004e-05\t0.0108702\t0.0108702\t0.5\t0\n",
      "23\t5.33555e-05\t0.0143562\t0.0143562\t1\t0\n",
      "24\t5.2883e-05\t0.0102797\t0.0102796\t0.5\t0\n",
      "25\t5.26927e-05\t0.0139053\t0.0139052\t0.410859\t0\n",
      "Added constraint 797 to working set\n",
      "26\t5.24524e-05\t0.00931566\t0.00931559\t1\t0\n",
      "27\t5.2168e-05\t0.014747\t0.014747\t1\t0\n",
      "28\t5.19679e-05\t0.0189945\t0.0189945\t0.5\t0\n",
      "29\t5.17757e-05\t0.0216155\t0.0216154\t1\t0\n",
      "30\t5.12362e-05\t0.00530931\t0.00530921\t0.114905\t0\n",
      "31\t5.11342e-05\t0.00813838\t0.00813831\t1\t0\n",
      "32\t5.11257e-05\t0.0211016\t0.0211016\t1\t0\n",
      "33\t5.07514e-05\t0.0163362\t0.0163362\t0.25\t0\n",
      "34\t5.06593e-05\t0.0184259\t0.0184258\t1\t0\n",
      "35\t5.02857e-05\t0.00745026\t0.00745019\t0.25\t0\n",
      "36\t5.02242e-05\t0.0101414\t0.0101414\t1\t0\n",
      "37\t5.00198e-05\t0.00816268\t0.00816262\t0.5\t0\n",
      "38\t4.99386e-05\t0.0102303\t0.0102302\t1\t0\n",
      "39\t4.97514e-05\t0.00836036\t0.00836029\t0.5\t0\n",
      "40\t4.96808e-05\t0.00985796\t0.0098579\t1\t0\n",
      "41\t4.95061e-05\t0.00749407\t0.007494\t0.69482\t0\n",
      "Added constraint 780 to working set\n",
      "42\t4.9504e-05\t0.014677\t0.014677\t1\t0\n",
      "43\t4.92944e-05\t0.0103658\t0.0103658\t0.5\t0\n",
      "44\t4.92545e-05\t0.0125179\t0.0125179\t1\t0\n",
      "45\t4.90586e-05\t0.00450303\t0.00450291\t0.5\t0\n",
      "46\t4.90435e-05\t0.0109478\t0.0109478\t1\t0\n",
      "47\t4.88914e-05\t0.00761893\t0.00761886\t0.399683\t0\n",
      "48\t4.88442e-05\t0.00785981\t0.00785975\t0.256825\t0\n",
      "Added constraint 767 to working set\n",
      "49\t4.88015e-05\t0.00602847\t0.00602838\t1\t0\n",
      "50\t4.87081e-05\t0.00707108\t0.007071\t1\t0\n",
      "51\t4.86785e-05\t0.0116645\t0.0116645\t0.5\t0\n",
      "52\t4.85904e-05\t0.0100086\t0.0100085\t1\t0\n",
      "53\t4.84649e-05\t0.00399805\t0.00399791\t0.5\t0\n",
      "54\t4.84497e-05\t0.00959213\t0.00959207\t1\t0\n",
      "55\t4.83321e-05\t0.00366877\t0.00366862\t0.25\t0\n",
      "56\t4.83018e-05\t0.00385939\t0.00385926\t1\t0\n",
      "57\t4.82429e-05\t0.00603333\t0.00603324\t1\t0\n",
      "58\t4.81782e-05\t0.00463881\t0.00463869\t0.5\t0\n",
      "59\t4.81402e-05\t0.00558416\t0.00558407\t1\t0\n",
      "60\t4.80744e-05\t0.00398529\t0.00398516\t0.5\t0\n",
      "61\t4.80428e-05\t0.0042113\t0.00421118\t1\t0\n",
      "62\t4.79936e-05\t0.00492655\t0.00492644\t1\t0\n",
      "63\t4.79817e-05\t0.00836985\t0.00836979\t0.5\t0\n",
      "64\t4.79256e-05\t0.00572303\t0.00572294\t1\t0\n",
      "65\t4.78725e-05\t0.00316677\t0.00316661\t0.5\t0\n",
      "66\t4.78493e-05\t0.00377792\t0.00377778\t1\t0\n",
      "67\t4.78113e-05\t0.0035187\t0.00351856\t0.5\t0\n",
      "68\t4.77898e-05\t0.00291843\t0.00291825\t1\t0\n",
      "69\t4.77601e-05\t0.00402718\t0.00402705\t1\t0\n",
      "70\t4.77372e-05\t0.00455765\t0.00455754\t0.5\t0\n",
      "71\t4.77109e-05\t0.00349867\t0.00349852\t1\t0\n",
      "72\t4.76816e-05\t0.00204677\t0.00204652\t1\t0\n",
      "73\t4.76802e-05\t0.00675834\t0.00675826\t1\t0\n",
      "74\t4.76345e-05\t0.00137368\t0.0013733\t0.25\t0\n",
      "75\t4.76221e-05\t0.00226596\t0.00226573\t1\t0\n",
      "76\t4.76032e-05\t0.00270457\t0.00270438\t1\t0\n",
      "77\t4.75853e-05\t0.00239653\t0.00239632\t1\t0\n",
      "78\t4.75782e-05\t0.00457487\t0.00457476\t1\t0\n",
      "79\t4.7552e-05\t0.00232591\t0.00232569\t0.5\t0\n",
      "80\t4.75426e-05\t0.00276281\t0.00276262\t1\t0\n",
      "81\t4.75252e-05\t0.00145409\t0.00145373\t0.5\t0\n",
      "82\t4.75177e-05\t0.00234888\t0.00234866\t1\t0\n",
      "83\t4.75043e-05\t0.00217893\t0.00217869\t0.5\t0\n",
      "84\t4.74965e-05\t0.00178124\t0.00178095\t1\t0\n",
      "85\t4.74851e-05\t0.00213223\t0.00213199\t1\t0\n",
      "86\t4.74766e-05\t0.00265374\t0.00265355\t1\t0\n",
      "87\t4.74723e-05\t0.00401987\t0.00401974\t1\t0\n",
      "88\t4.74558e-05\t0.00271002\t0.00270983\t0.25\t0\n",
      "89\t4.74484e-05\t0.00254353\t0.00254333\t1\t0\n",
      "90\t4.74369e-05\t0.00138431\t0.00138394\t0.5\t0\n",
      "91\t4.74318e-05\t0.00169905\t0.00169875\t1\t0\n",
      "92\t4.74239e-05\t0.00172429\t0.00172399\t1\t0\n",
      "93\t4.74208e-05\t0.00306494\t0.00306477\t1\t0\n",
      "94\t4.74136e-05\t0.00305993\t0.00305976\t0.5\t0\n",
      "95\t4.74063e-05\t0.00245513\t0.00245492\t1\t0\n",
      "96\t4.73968e-05\t0.0006696\t0.000668829\t0.5\t0\n",
      "97\t4.73949e-05\t0.00236216\t0.00236194\t1\t0\n",
      "98\t4.73863e-05\t0.000777346\t0.000776682\t0.5\t0\n",
      "99\t4.73856e-05\t0.00243501\t0.0024348\t1\t0\n",
      "100\t4.73772e-05\t0.00095233\t0.000951787\t0.25\t0\n",
      "101\t4.73749e-05\t0.00102775\t0.00102725\t1\t0\n",
      "102\t4.73709e-05\t0.00144319\t0.00144284\t1\t0\n",
      "103\t4.73663e-05\t0.0010164\t0.00101589\t0.5\t0\n",
      "104\t4.73635e-05\t0.0010813\t0.00108083\t1\t0\n",
      "105\t4.73596e-05\t0.000880362\t0.000879779\t1\t0\n",
      "106\t4.7357e-05\t0.00151312\t0.00151278\t1\t0\n",
      "107\t4.73531e-05\t0.00095749\t0.000956954\t0.5\t0\n",
      "108\t4.7351e-05\t0.000979267\t0.000978743\t1\t0\n",
      "109\t4.73479e-05\t0.000672901\t0.000672136\t1\t0\n",
      "110\t4.73467e-05\t0.0016441\t0.00164379\t1\t0\n",
      "111\t4.7343e-05\t0.000542154\t0.000541203\t0.5\t0\n",
      "112\t4.73425e-05\t0.00149691\t0.00149656\t1\t0\n",
      "113\t4.73392e-05\t0.000434012\t0.000432823\t0.5\t0\n",
      "114\t4.73387e-05\t0.0012594\t0.00125899\t1\t0\n",
      "115\t4.73362e-05\t0.000434056\t0.000432867\t0.470486\t0\n",
      "Added constraint 678 to working set\n",
      "116\t4.73355e-05\t0.000861079\t0.000860482\t1\t0\n",
      "117\t4.73339e-05\t0.000477799\t0.000476719\t0.5\t0\n",
      "118\t4.73331e-05\t0.000567404\t0.000566497\t1\t0\n",
      "119\t4.73319e-05\t0.000566206\t0.000565297\t1\t0\n",
      "120\t4.7331e-05\t0.000636145\t0.000635336\t1\t0\n",
      "121\t4.73302e-05\t0.000693609\t0.000692867\t1\t0\n",
      "122\t4.73297e-05\t0.000803448\t0.000802808\t1\t0\n",
      "123\t4.73288e-05\t0.000712119\t0.000711395\t1\t0\n",
      "124\t4.73283e-05\t0.000661657\t0.00066088\t1\t0\n",
      "125\t4.73278e-05\t0.000654226\t0.000653439\t1\t0\n",
      "126\t4.73273e-05\t0.00044926\t0.000448114\t1\t0\n",
      "127\t4.73271e-05\t0.000585408\t0.000584529\t1\t0\n",
      "128\t4.73267e-05\t0.000228391\t0.000226126\t0.5\t0\n",
      "129\t4.73265e-05\t0.000188597\t0.000185848\t1\t0\n",
      "130\t4.73264e-05\t0.000129735\t0.000125703\t1\t0\n",
      "131\t4.73263e-05\t0.000208225\t0.000205739\t1\t0\n",
      "132\t4.73262e-05\t5.86884e-05\t4.9128e-05\t1\t0\n",
      "133\t4.73262e-05\t0.000202275\t0.000199715\t1\t0\n",
      "134\t4.73262e-05\t3.37163e-05\t1.02848e-05\t1\t0\n",
      "135\t4.73262e-05\t0.000112629\t0.000107962\t1\t0\n",
      "136\t4.73261e-05\t0.000111582\t0.00010687\t1\t0\n",
      "137\t4.73261e-05\t3.66108e-05\t1.7601e-05\t1\t0\n",
      "138\t4.73261e-05\t0.000111916\t0.000107221\t1\t0\n",
      "139\t4.73261e-05\t3.23987e-05\t4.33449e-06\t1\t0\n",
      "140\t4.7326e-05\t3.4982e-05\t1.389e-05\t1\t0\n",
      "Removed constraint 785 from working set\n",
      "141\t4.7326e-05\t3.21077e-05\t2.03129e-06\t1\t0\n",
      "142\t4.72946e-05\t0.00400279\t0.00400267\t1\t0\n",
      "143\t4.72834e-05\t3.21163e-05\t8.5108e-07\t1\t0\n",
      "144\t4.72834e-05\t3.21219e-05\t1.04095e-06\t1\t0\n",
      "Removed constraint 670 from working set\n",
      "Removed constraint 675 from working set\n",
      "Removed constraint 677 from working set\n",
      "Removed constraint 686 from working set\n",
      "Removed constraint 696 from working set\n",
      "Removed constraint 756 from working set\n",
      "Removed constraint 757 from working set\n",
      "Removed constraint 783 from working set\n",
      "Removed constraint 792 from working set\n",
      "Removed constraint 795 from working set\n",
      "Removed constraint 797 from working set\n",
      "145\t4.72834e-05\t3.21051e-05\t1.74041e-06\t0\t0\n",
      "Added constraint 757 to working set\n",
      "Added constraint 792 to working set\n",
      "146\t4.72834e-05\t3.21051e-05\t1.67584e-06\t0.25\t0\n",
      "147\t4.72782e-05\t0.00961831\t0.00961825\t1\t0\n",
      "148\t4.71941e-05\t0.00320068\t0.00320052\t0.25\t0\n",
      "149\t4.71835e-05\t0.00326389\t0.00326373\t1\t0\n",
      "150\t4.71659e-05\t0.00160626\t0.00160594\t0.5\t0\n",
      "151\t4.71614e-05\t0.00186234\t0.00186206\t1\t0\n",
      "152\t4.71565e-05\t0.000861431\t0.000860825\t0.5\t0\n",
      "153\t4.71548e-05\t0.000965019\t0.000964478\t1\t0\n",
      "154\t4.71528e-05\t0.000695136\t0.000694385\t1\t0\n",
      "155\t4.71526e-05\t0.00141744\t0.00141707\t1\t0\n",
      "156\t4.71509e-05\t0.000738952\t0.000738245\t0.5\t0\n",
      "157\t4.71506e-05\t0.000804385\t0.000803736\t1\t0\n",
      "158\t4.71499e-05\t7.95462e-05\t7.2691e-05\t0.5\t0\n",
      "159\t4.71498e-05\t0.000257683\t0.00025565\t1\t0\n",
      "160\t4.71497e-05\t0.000103605\t9.84411e-05\t1\t0\n",
      "161\t4.71496e-05\t0.000160909\t0.000157634\t1\t0\n",
      "162\t4.71496e-05\t3.98456e-05\t2.33359e-05\t0.152603\t0\n",
      "Added constraint 774 to working set\n",
      "163\t4.71496e-05\t3.80332e-05\t2.00842e-05\t1\t0\n",
      "164\t4.71496e-05\t3.80998e-05\t2.02079e-05\t1\t0\n",
      "165\t4.71496e-05\t3.23147e-05\t9.15808e-07\t1\t0\n",
      "166\t4.71496e-05\t3.2302e-05\t7.53652e-08\t1\t0\n",
      "Removed constraint 757 from working set\n",
      "Removed constraint 766 from working set\n",
      "167\t4.71496e-05\t3.23019e-05\t2.97102e-07\t0.5\t0\n",
      "168\t4.71474e-05\t0.00149995\t0.0014996\t1\t0\n",
      "169\t4.71452e-05\t0.000151471\t0.000147983\t0.5\t0\n",
      "170\t4.7145e-05\t0.00019669\t0.000194015\t1\t0\n",
      "171\t4.71449e-05\t9.03036e-05\t8.43184e-05\t1\t0\n",
      "172\t4.71449e-05\t8.85008e-05\t8.23868e-05\t1\t0\n",
      "173\t4.71449e-05\t0.000200034\t0.000197415\t1\t0\n",
      "174\t4.71448e-05\t3.23768e-05\t1.71323e-06\t1\t0\n",
      "175\t4.71448e-05\t3.50998e-05\t1.3675e-05\t1\t0\n",
      "176\t4.71448e-05\t3.24228e-05\t2.43193e-06\t1\t0\n",
      "177\t4.71448e-05\t3.23336e-05\t2.76248e-07\t1\t0\n",
      "Removed constraint 774 from working set\n",
      "178\t4.71448e-05\t3.23325e-05\t1.33375e-08\t1\t0\n",
      "179\t4.71448e-05\t3.28686e-05\t5.8991e-06\t1\t0\n",
      "180\t4.71448e-05\t3.2335e-05\t9.81916e-12\t1\t0\n"
     ]
    }
   ],
   "source": [
    "\n",
    "report = umbrella_mesh.compute_equilibrium(curr_um, callback = eqm_callback, options = OPTS, fixedVars = fixedVars)\n",
    "view.showScalarField(rod_colors)"
   ]
  },
  {
   "cell_type": "code",
   "execution_count": 30,
   "id": "f6888b3f-1508-4a8b-8d0e-c70e18fd920c",
   "metadata": {},
   "outputs": [
    {
     "data": {
      "text/plain": [
       "True"
      ]
     },
     "execution_count": 30,
     "metadata": {},
     "output_type": "execute_result"
    }
   ],
   "source": [
    "report.success"
   ]
  },
  {
   "cell_type": "code",
   "execution_count": 37,
   "id": "594ac4eb",
   "metadata": {},
   "outputs": [],
   "source": [
    "import importlib\n",
    "import visualization_helper\n",
    "import plate_rigidity_helper\n",
    "importlib.reload(plate_rigidity_helper)\n",
    "importlib.reload(visualization_helper)\n",
    "\n",
    "alpha,  beta, e = plate_rigidity_helper.plate_top_bot_angle(curr_um, input_data['uid_top_bot_map'])\n",
    "view.showScalarField(plate_rigidity_helper.fill_plate_vars_with_center(curr_um, beta))"
   ]
  },
  {
   "cell_type": "code",
   "execution_count": 38,
   "id": "1d5d751b-3b4d-47ff-87ea-1d7bca58a78f",
   "metadata": {},
   "outputs": [
    {
     "data": {
      "image/png": "[encoded data removed]",
      "text/plain": [
       "<Figure size 2160x720 with 3 Axes>"
      ]
     },
     "metadata": {
      "needs_background": "light"
     },
     "output_type": "display_data"
    }
   ],
   "source": [
    "plate_rigidity_helper.plot_alpha_beta_e(curr_um, alpha, beta, e, thickness, deployment_ratio)"
   ]
  },
  {
   "cell_type": "code",
   "execution_count": 128,
   "id": "c92b5476-d629-422b-a835-f9fab4e9f715",
   "metadata": {},
   "outputs": [],
   "source": [
    "normal_angle, avg_angle, max_angle = plate_rigidity_helper.compute_plate_normal_variation(curr_um)\n",
    "normal_angle_vis, avg_angle_vis, max_angle_vis = plate_rigidity_helper.fill_plate_vars_with_center(curr_um, normal_angle), plate_rigidity_helper.fill_plate_vars_with_center(curr_um, avg_angle), plate_rigidity_helper.fill_plate_vars_with_center(curr_um, max_angle)\n",
    "view.showScalarField(max_angle_vis)"
   ]
  },
  {
   "cell_type": "code",
   "execution_count": 129,
   "id": "8f12c48f",
   "metadata": {},
   "outputs": [
    {
     "data": {
      "image/png": "[encoded data removed]",
      "text/plain": [
       "<Figure size 2160x720 with 2 Axes>"
      ]
     },
     "metadata": {
      "needs_background": "light"
     },
     "output_type": "display_data"
    }
   ],
   "source": [
    "plate_rigidity_helper.plot_rigidity_angles(curr_um)"
   ]
  },
  {
   "cell_type": "code",
   "execution_count": 46,
   "id": "85cb3964",
   "metadata": {},
   "outputs": [],
   "source": [
    "# from load_jsondata import write_deformed_config\n",
    "# write_deformed_config(input_data, curr_um, input_path[:-5]+'_deformed.json', write_stress = True)"
   ]
  },
  {
   "cell_type": "code",
   "execution_count": 36,
   "id": "3df0c141",
   "metadata": {},
   "outputs": [
    {
     "name": "stdout",
     "output_type": "stream",
     "text": [
      "0.009159766094121858\n"
     ]
    },
    {
     "data": {
      "text/plain": [
       "(array([ 5.,  7., 13.,  4.,  1.,  7.,  4.,  7.,  9.,  2.]),\n",
       " array([0.00913583, 0.00914209, 0.00914836, 0.00915462, 0.00916088,\n",
       "        0.00916714, 0.0091734 , 0.00917966, 0.00918592, 0.00919219,\n",
       "        0.00919845]),\n",
       " <BarContainer object of 10 artists>)"
      ]
     },
     "execution_count": 36,
     "metadata": {},
     "output_type": "execute_result"
    },
    {
     "data": {
      "image/png": "[encoded data removed]",
      "text/plain": [
       "<Figure size 432x288 with 1 Axes>"
      ]
     },
     "metadata": {
      "needs_background": "light"
     },
     "output_type": "display_data"
    }
   ],
   "source": [
    "print(thickness)\n",
    "import matplotlib.pyplot as plt\n",
    "plt.hist(curr_um.umbrellaHeights)\n"
   ]
  },
  {
   "cell_type": "code",
   "execution_count": null,
   "id": "eef136d2",
   "metadata": {},
   "outputs": [],
   "source": [
    "curr_um.uniformDeploymentEnergyWeight = 0\n",
    "umbrella_mesh.compute_equilibrium(curr_um, callback = eqm_callback, options = OPTS, fixedVars = fixedVars)\n",
    "view.update(scalarField=rod_colors)"
   ]
  },
  {
   "cell_type": "code",
   "execution_count": null,
   "id": "496bc3a3-e284-433f-9bc9-100bd06d3ec0",
   "metadata": {},
   "outputs": [],
   "source": [
    "from matplotlib import pyplot as plt\n",
    "fig = plt.figure(figsize=(10,8))\n",
    "for i in range(len(angles[0])):\n",
    "    plt.plot([a[i] / np.pi for a in angles])\n",
    "plt.title('Joint Angles')\n",
    "plt.xlabel('Newton Iteration')\n",
    "plt.ylabel('Pi Radians')\n",
    "plt.tight_layout()\n",
    "plt.show()"
   ]
  },
  {
   "cell_type": "code",
   "execution_count": null,
   "id": "5e79db25-a060-4af7-85e9-a602c6a493df",
   "metadata": {},
   "outputs": [],
   "source": [
    "np.linalg.norm(curr_um.gradient())"
   ]
  },
  {
   "cell_type": "code",
   "execution_count": null,
   "id": "06e0996f-9757-47e9-b460-4c4a965fba7d",
   "metadata": {},
   "outputs": [],
   "source": [
    "len([j.jointType() for j in curr_um.joints()])"
   ]
  },
  {
   "cell_type": "code",
   "execution_count": null,
   "id": "a3a28d57-a6aa-4785-b97d-b3595c939f71",
   "metadata": {},
   "outputs": [],
   "source": [
    "len(curr_um.jointAngleDoFIndices())"
   ]
  },
  {
   "cell_type": "code",
   "execution_count": null,
   "id": "9cec0555-83d5-4c7c-bf9f-bf35168709a6",
   "metadata": {},
   "outputs": [],
   "source": [
    "curr_um.getDoFs()[curr_um.jointAngleDoFIndices()]"
   ]
  },
  {
   "cell_type": "code",
   "execution_count": null,
   "id": "604eae1e",
   "metadata": {},
   "outputs": [],
   "source": [
    "import umbrella_finite_diff\n",
    "umbrella_finite_diff.gradient_convergence_plot(curr_um, umbrellaEnergyType=umbrella_mesh.UmbrellaEnergyType.Deployment, etype=elastic_rods.EnergyType.Full)"
   ]
  },
  {
   "cell_type": "code",
   "execution_count": null,
   "id": "8f1a3060",
   "metadata": {},
   "outputs": [],
   "source": [
    "curr_um.updateSourceFrame()"
   ]
  },
  {
   "cell_type": "code",
   "execution_count": null,
   "id": "ef3f44fe",
   "metadata": {},
   "outputs": [],
   "source": [
    "umbrella_finite_diff.hessian_convergence_plot(curr_um, umbrellaEnergyType=umbrella_mesh.UmbrellaEnergyType.Deployment, etype=elastic_rods.EnergyType.Full)"
   ]
  },
  {
   "cell_type": "code",
   "execution_count": 28,
   "id": "c0a324df",
   "metadata": {},
   "outputs": [],
   "source": [
    "bending_stress = curr_um.maxBendingStresses()"
   ]
  },
  {
   "cell_type": "code",
   "execution_count": 29,
   "id": "78ddbe57",
   "metadata": {},
   "outputs": [],
   "source": [
    "view.showScalarField(bending_stress)"
   ]
  },
  {
   "cell_type": "code",
   "execution_count": null,
   "id": "fe34e4d0",
   "metadata": {},
   "outputs": [],
   "source": []
  }
 ],
 "metadata": {
  "interpreter": {
   "hash": "e7370f93d1d0cde622a1f8e1c04877d8463912d04d973331ad4851f04de6915a"
  },
  "kernelspec": {
   "display_name": "Python 3",
   "language": "python",
   "name": "python3"
  },
  "language_info": {
   "codemirror_mode": {
    "name": "ipython",
    "version": 3
   },
   "file_extension": ".py",
   "mimetype": "text/x-python",
   "name": "python",
   "nbconvert_exporter": "python",
   "pygments_lexer": "ipython3",
   "version": "3.8.10"
  }
 },
 "nbformat": 4,
 "nbformat_minor": 5
}
