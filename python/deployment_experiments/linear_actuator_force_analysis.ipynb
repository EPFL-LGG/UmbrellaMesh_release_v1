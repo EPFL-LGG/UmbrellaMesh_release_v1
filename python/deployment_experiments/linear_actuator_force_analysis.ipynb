{
 "cells": [
  {
   "cell_type": "code",
   "execution_count": null,
   "id": "b08534a7",
   "metadata": {},
   "outputs": [],
   "source": [
    "import sys\n",
    "sys.path.append('..')\n",
    "import umbrella_mesh\n",
    "import elastic_rods\n",
    "import linkage_vis\n",
    "from umbrella_mesh import UmbrellaEnergyType\n",
    "from bending_validation import suppress_stdout as so\n",
    "from visualization_helper import *\n",
    "import importlib, pipeline_helper"
   ]
  },
  {
   "cell_type": "code",
   "execution_count": null,
   "id": "eba43907",
   "metadata": {},
   "outputs": [],
   "source": [
    "importlib.reload(pipeline_helper)\n",
    "from pipeline_helper import allEnergies, allGradientNorms, allDesignObjectives, allDesignGradientNorms"
   ]
  },
  {
   "cell_type": "code",
   "execution_count": null,
   "id": "77b19875",
   "metadata": {},
   "outputs": [],
   "source": [
    "import numpy as np\n",
    "import numpy.linalg as la"
   ]
  },
  {
   "cell_type": "code",
   "execution_count": null,
   "id": "c0a46bf1",
   "metadata": {},
   "outputs": [],
   "source": [
    "import pickle, gzip"
   ]
  },
  {
   "cell_type": "code",
   "execution_count": null,
   "id": "9d114dc6",
   "metadata": {},
   "outputs": [],
   "source": [
    "name = 'igloo'"
   ]
  },
  {
   "cell_type": "code",
   "execution_count": null,
   "id": "032058a4",
   "metadata": {},
   "outputs": [],
   "source": [
    "input_path = '../../data/{}.json'.format(name)"
   ]
  },
  {
   "cell_type": "code",
   "execution_count": null,
   "id": "665888f7",
   "metadata": {},
   "outputs": [],
   "source": [
    "from load_jsondata import read_data\n",
    "input_data, io = read_data(filepath = input_path)\n",
    "import mesh\n",
    "target_mesh = mesh.Mesh(input_data['target_v'], input_data['target_f'])"
   ]
  },
  {
   "cell_type": "markdown",
   "id": "ebc1cfed",
   "metadata": {},
   "source": [
    "### Structural Analysis"
   ]
  },
  {
   "cell_type": "code",
   "execution_count": null,
   "id": "18b827d1",
   "metadata": {},
   "outputs": [],
   "source": [
    "import deployment_force_analysis\n",
    "importlib.reload(deployment_force_analysis)"
   ]
  },
  {
   "cell_type": "code",
   "execution_count": null,
   "id": "24f54fdd",
   "metadata": {},
   "outputs": [],
   "source": [
    "initial_umbrella = pickle.load(gzip.open('../../output/igloo_input_equilibrium_2022_01_17_23_00.pkl.gz', 'r'))"
   ]
  },
  {
   "cell_type": "code",
   "execution_count": null,
   "id": "ee187f95",
   "metadata": {},
   "outputs": [],
   "source": [
    "deployment_force_analysis.deploymentForceAnalysis(initial_umbrella)\n",
    "v1 = deployment_force_analysis.deploymentForceFieldVisualization(initial_umbrella)\n",
    "v1.show()"
   ]
  },
  {
   "cell_type": "code",
   "execution_count": null,
   "id": "659bd335",
   "metadata": {},
   "outputs": [],
   "source": [
    "optimized_umbrella = pickle.load(gzip.open('../../output/igloo_optimized_without_deployment_force_2022_01_17_21_09.pkl.gz', 'r'))"
   ]
  },
  {
   "cell_type": "code",
   "execution_count": null,
   "id": "1bb0245d",
   "metadata": {},
   "outputs": [],
   "source": [
    "deployment_force_analysis.deploymentForceAnalysis(optimized_umbrella)\n",
    "v2 = deployment_force_analysis.deploymentForceFieldVisualization(optimized_umbrella)\n",
    "v2.show()"
   ]
  },
  {
   "cell_type": "code",
   "execution_count": null,
   "id": "7f13bd96",
   "metadata": {},
   "outputs": [],
   "source": [
    "rod_colors = get_color_field(initial_umbrella, input_data)"
   ]
  },
  {
   "cell_type": "code",
   "execution_count": null,
   "id": "fc2e5246",
   "metadata": {},
   "outputs": [],
   "source": [
    "import mesh\n",
    "view = linkage_vis.LinkageViewerWithSurface(optimized_umbrella, target_mesh, width=1024, height=600)\n",
    "set_surface_view_options(view, color = 'green', surface_color = 'gray', umbrella_transparent = False, surface_transparent = True)\n",
    "view.averagedMaterialFrames = True\n",
    "view.showScalarField(rod_colors)\n",
    "view.show()"
   ]
  }
 ],
 "metadata": {
  "kernelspec": {
   "display_name": "umbrella_mesh",
   "language": "python",
   "name": "umbrella_mesh"
  },
  "language_info": {
   "codemirror_mode": {
    "name": "ipython",
    "version": 3
   },
   "file_extension": ".py",
   "mimetype": "text/x-python",
   "name": "python",
   "nbconvert_exporter": "python",
   "pygments_lexer": "ipython3",
   "version": "3.9.7"
  }
 },
 "nbformat": 4,
 "nbformat_minor": 5
}
