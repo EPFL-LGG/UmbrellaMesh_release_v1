{
 "cells": [
  {
   "cell_type": "code",
   "execution_count": null,
   "id": "74448da6-632e-4811-a7c7-a9b553433d6c",
   "metadata": {},
   "outputs": [],
   "source": [
    "import sys\n",
    "sys.path.append('..')\n",
    "import umbrella_mesh\n",
    "import elastic_rods\n",
    "import linkage_vis\n",
    "from umbrella_mesh import UmbrellaEnergyType"
   ]
  },
  {
   "cell_type": "code",
   "execution_count": null,
   "id": "eaca81c9-fc88-4bb8-9004-9121594fe830",
   "metadata": {},
   "outputs": [],
   "source": [
    "import numpy as np"
   ]
  },
  {
   "cell_type": "code",
   "execution_count": null,
   "id": "83f52b70-ea94-436c-9ce8-6f97ee523850",
   "metadata": {},
   "outputs": [],
   "source": [
    "width = 0.1\n",
    "thickness = width\n",
    "cross_section = [thickness, width]"
   ]
  },
  {
   "cell_type": "code",
   "execution_count": null,
   "id": "8d46a003-c0f4-411d-a2ee-0e58d7d82992",
   "metadata": {},
   "outputs": [],
   "source": [
    "input_path = '../../data/one.json'\n",
    "from load_jsondata import read_data\n",
    "input_data = read_data(filepath = input_path)\n",
    "width = 2*input_data['arm_plate_edge_offset']\n",
    "thickness = width * 0.5 # 1.5 mm # FIX from mm to meters everywhere\n",
    "cross_section = [thickness, width]"
   ]
  },
  {
   "cell_type": "markdown",
   "id": "8ad00e4b-6134-41bd-855c-08be4e68cad4",
   "metadata": {},
   "source": [
    "### Initialization"
   ]
  },
  {
   "cell_type": "code",
   "execution_count": null,
   "id": "cc338956-569c-4a47-90e5-4bb2ba39407a",
   "metadata": {},
   "outputs": [],
   "source": [
    "curr_um = umbrella_mesh.UmbrellaMesh(input_data['vertices'], input_data['edges'], 5, input_data['alphas'], input_data['ghost_bisectors'], input_data['ghost_normals'], input_data['A_segments'], input_data['B_segments'], input_data['midpoint_offsets_A'], input_data['midpoint_offsets_B'], input_data['segment_normals'], input_data['is_rigid'], input_data['uid'], input_data['uid_top_bot_map'], input_data['color'])"
   ]
  },
  {
   "cell_type": "code",
   "execution_count": null,
   "id": "8ae5c30b-9aee-476e-87e5-44af416bfb19",
   "metadata": {},
   "outputs": [],
   "source": [
    "curr_um.setMaterial(elastic_rods.RodMaterial('rectangle', 2000, 0.3, cross_section, stiffAxis=elastic_rods.StiffAxis.D1))"
   ]
  },
  {
   "cell_type": "code",
   "execution_count": null,
   "id": "a477a3cc-0a24-4d0e-8275-9192771ac436",
   "metadata": {
    "tags": []
   },
   "outputs": [],
   "source": [
    "view = linkage_vis.LinkageViewer(curr_um, width=1024, height=600)\n",
    "view.averagedMaterialFrames = True\n",
    "# view.setCameraParams(camParam)\n",
    "view.show()"
   ]
  },
  {
   "cell_type": "code",
   "execution_count": null,
   "id": "1a47b741-4355-4ae8-b3e3-81c91f677323",
   "metadata": {},
   "outputs": [],
   "source": [
    "curr_um.energy(UmbrellaEnergyType.Full)"
   ]
  },
  {
   "cell_type": "code",
   "execution_count": null,
   "id": "a313e837-3788-4957-9397-f59443e714a4",
   "metadata": {},
   "outputs": [],
   "source": [
    "curr_um.uniformDeploymentEnergyWeight = 0.1"
   ]
  },
  {
   "cell_type": "markdown",
   "id": "eff591db-9170-4e69-a228-99b4b8ebf5d7",
   "metadata": {},
   "source": [
    "#### Perturbation"
   ]
  },
  {
   "cell_type": "code",
   "execution_count": null,
   "id": "06aa9a9f-f51e-4135-aa72-f5bca4f3e4b7",
   "metadata": {},
   "outputs": [],
   "source": [
    "dof = curr_um.getDoFs()"
   ]
  },
  {
   "cell_type": "code",
   "execution_count": null,
   "id": "0b73f4ee-d855-4d46-b761-2bd0c7046292",
   "metadata": {},
   "outputs": [],
   "source": [
    "alphas = []\n",
    "for i in range(curr_um.numJoints()):\n",
    "    alphas.append(dof[curr_um.dofOffsetForJoint(i) + 6])"
   ]
  },
  {
   "cell_type": "code",
   "execution_count": null,
   "id": "b9136af3-5395-490d-b558-44ac02a10edf",
   "metadata": {},
   "outputs": [],
   "source": [
    "for i in range(curr_um.numJoints()):\n",
    "    dof[curr_um.dofOffsetForJoint(i) + 6] += 1"
   ]
  },
  {
   "cell_type": "code",
   "execution_count": null,
   "id": "4f4271e9-687a-4668-8617-6a2c1b7d57f5",
   "metadata": {},
   "outputs": [],
   "source": [
    "curr_um.setDoFs(dof)"
   ]
  },
  {
   "cell_type": "code",
   "execution_count": null,
   "id": "e10d1aa6-8b9b-4bfc-8e37-c5bcac4ecf2b",
   "metadata": {},
   "outputs": [],
   "source": [
    "rod_colors = []\n",
    "for ri in range(curr_um.numSegments()):\n",
    "    rod_colors.append(np.ones(curr_um.segment(ri).rod.numVertices()) * ri)"
   ]
  },
  {
   "cell_type": "code",
   "execution_count": null,
   "id": "d32192a1-a93f-45a5-bdfa-d256d911306b",
   "metadata": {},
   "outputs": [],
   "source": [
    "view.update(scalarField = rod_colors)"
   ]
  },
  {
   "cell_type": "code",
   "execution_count": null,
   "id": "6447f269-252b-48aa-8ac0-5ae25e6f96a7",
   "metadata": {},
   "outputs": [],
   "source": [
    "# view.update(scalarField=curr_um.maxBendingStresses())"
   ]
  },
  {
   "cell_type": "markdown",
   "id": "c26017e3-f719-46ec-80b6-d19fd806cb71",
   "metadata": {},
   "source": [
    "### Equilibrium solve"
   ]
  },
  {
   "cell_type": "code",
   "execution_count": null,
   "id": "6985c7fe-7adf-4f98-878a-247896b0dcfc",
   "metadata": {},
   "outputs": [],
   "source": [
    "import py_newton_optimizer\n",
    "OPTS = py_newton_optimizer.NewtonOptimizerOptions()\n",
    "OPTS.gradTol = 1e-8\n",
    "OPTS.verbose = 1;\n",
    "OPTS.beta = 1e-8\n",
    "OPTS.niter = 300\n",
    "OPTS.verboseNonPosDef = False"
   ]
  },
  {
   "cell_type": "markdown",
   "id": "6e762a74-1b8f-46c9-88c3-ec9ae63475c0",
   "metadata": {},
   "source": [
    "#### Alpha deployment"
   ]
  },
  {
   "cell_type": "code",
   "execution_count": null,
   "id": "db7ec059-3d3e-471d-b0ab-6be51cfb0601",
   "metadata": {},
   "outputs": [],
   "source": [
    "driver = curr_um.centralJoint()\n",
    "jdo = curr_um.dofOffsetForJoint(driver)\n",
    "fixedVars = list(range(jdo, jdo + 6)) + curr_um.rigidJointAngleDoFIndices()"
   ]
  },
  {
   "cell_type": "code",
   "execution_count": null,
   "id": "dc3e3853-bb81-4969-a881-cc5beed53717",
   "metadata": {},
   "outputs": [],
   "source": [
    "import importlib, open_umbrella\n",
    "importlib.reload(open_umbrella)\n",
    "from open_umbrella import open_umbrella"
   ]
  },
  {
   "cell_type": "code",
   "execution_count": null,
   "id": "85442e6f-eab6-480f-9edc-20d3bac72a34",
   "metadata": {
    "scrolled": true,
    "tags": []
   },
   "outputs": [],
   "source": [
    "from time import sleep\n",
    "# sleep(0.5)\n",
    "def equilibriumSolver(tgtAngle, um, opts, fv):\n",
    "    opts.gradTol = 1e-4\n",
    "    return umbrella_mesh.compute_equilibrium(um, tgtAngle, options=opts, fixedVars=fv)\n",
    "driver = curr_um.centralJoint()\n",
    "open_umbrella(curr_um, driver, np.deg2rad(180) - curr_um.averageJointAngle, 20, view, equilibriumSolver=equilibriumSolver, maxNewtonIterationsIntermediate=30, useTargetAngleConstraint=True, fixedVars = fixedVars)"
   ]
  },
  {
   "cell_type": "markdown",
   "id": "4c0f6842-6dc4-48ad-9a07-d62556a9f9bb",
   "metadata": {
    "tags": []
   },
   "source": [
    "#### Distance Deployment"
   ]
  },
  {
   "cell_type": "code",
   "execution_count": null,
   "id": "8acfaa50-3f39-4367-80ee-90eb54efb070",
   "metadata": {
    "tags": []
   },
   "outputs": [],
   "source": [
    "def eqm_callback(prob, i):\n",
    "    view.update(scalarField = rod_colors)"
   ]
  },
  {
   "cell_type": "code",
   "execution_count": null,
   "id": "1a6bf0e3-0756-4544-8280-0d833a428fac",
   "metadata": {
    "scrolled": true
   },
   "outputs": [],
   "source": [
    "from time import sleep\n",
    "sleep(2)\n",
    "umbrella_mesh.compute_equilibrium(curr_um, callback = eqm_callback, options = OPTS, fixedVars = fixedVars)"
   ]
  }
 ],
 "metadata": {
  "kernelspec": {
   "display_name": "umbrella_mesh",
   "language": "python",
   "name": "umbrella_mesh"
  },
  "language_info": {
   "codemirror_mode": {
    "name": "ipython",
    "version": 3
   },
   "file_extension": ".py",
   "mimetype": "text/x-python",
   "name": "python",
   "nbconvert_exporter": "python",
   "pygments_lexer": "ipython3",
   "version": "3.9.7"
  }
 },
 "nbformat": 4,
 "nbformat_minor": 5
}
