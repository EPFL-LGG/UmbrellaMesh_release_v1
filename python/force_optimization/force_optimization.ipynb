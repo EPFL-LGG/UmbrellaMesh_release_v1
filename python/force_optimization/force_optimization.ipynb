{
 "cells": [
  {
   "cell_type": "code",
   "execution_count": null,
   "id": "cfd532b8",
   "metadata": {},
   "outputs": [],
   "source": [
    "#!/usr/bin/env python\n",
    "# coding: utf-8\n",
    "import sys\n",
    "sys.path.append('..')\n",
    "import umbrella_mesh\n",
    "import elastic_rods\n",
    "import linkage_vis\n",
    "from umbrella_mesh import UmbrellaEnergyType\n",
    "from bending_validation import suppress_stdout as so\n",
    "from visualization_helper import *\n",
    "\n",
    "import pipeline_helper, importlib, design_optimization_analysis\n",
    "with so(): importlib.reload(pipeline_helper)\n",
    "with so(): importlib.reload(design_optimization_analysis)\n",
    "\n",
    "from pipeline_helper import UmbrellaOptimizationCallback, allEnergies, allGradientNorms, allDesignObjectives, allDesignGradientNorms, set_joint_vector_field, show_center_joint_normal, show_joint_normal\n",
    "\n",
    "from design_optimization_analysis import DesignOptimizationAnalysis\n",
    "\n",
    "import umbrella_optimization\n",
    "import umbrella_optimization_finite_diff\n",
    "from umbrella_optimization import OptEnergyType\n",
    "\n",
    "import numpy as np\n",
    "import numpy.linalg as la\n",
    "\n",
    "import pickle, gzip\n",
    "\n",
    "from configuration import *"
   ]
  },
  {
   "cell_type": "markdown",
   "id": "90895f46",
   "metadata": {},
   "source": [
    "### Initialization"
   ]
  },
  {
   "cell_type": "code",
   "execution_count": null,
   "id": "0f0473a3",
   "metadata": {},
   "outputs": [],
   "source": [
    "name = 'hemisphere_5t'\n",
    "input_path = '../../data/{}.json.gz'.format(name)\n",
    "\n",
    "io, input_data, target_mesh, curr_um, thickness, target_height_multiplier = parse_input(input_path)\n",
    "# target_height_multiplier = 1\n",
    "\n",
    "# curr_um = pickle.load(gzip.open('../../output/lilium_top_four_parameters_optimized_rest_state_equilibrium_2022_01_19_18_33_target_height_factor_5.0.pkl.gz', 'r'))"
   ]
  },
  {
   "cell_type": "markdown",
   "id": "e154a256",
   "metadata": {},
   "source": [
    "#### Pin Rigid Motion"
   ]
  },
  {
   "cell_type": "code",
   "execution_count": null,
   "id": "5250022b",
   "metadata": {},
   "outputs": [],
   "source": [
    "use_pin = False\n",
    "\n",
    "driver = curr_um.centralJoint()\n",
    "jdo = curr_um.dofOffsetForJoint(driver)\n",
    "fixedVars = (list(range(jdo, jdo + 6)) if use_pin else []) + curr_um.rigidJointAngleDoFIndices()"
   ]
  },
  {
   "cell_type": "code",
   "execution_count": null,
   "id": "459378ef",
   "metadata": {},
   "outputs": [],
   "source": [
    "import py_newton_optimizer\n",
    "OPTS = py_newton_optimizer.NewtonOptimizerOptions()\n",
    "OPTS.gradTol = 1e-8\n",
    "OPTS.verbose = 1\n",
    "OPTS.beta = 1e-6\n",
    "OPTS.niter = 300\n",
    "OPTS.verboseNonPosDef = False\n",
    "\n",
    "rod_colors = get_color_field(curr_um, input_data)\n",
    "\n",
    "# lview = linkage_vis.LinkageViewer(curr_um, width=1024, height=600)\n",
    "# lview.update(scalarField = rod_colors)\n",
    "# lview.show()\n",
    "\n",
    "import mesh\n",
    "view = linkage_vis.LinkageViewerWithSurface(curr_um, target_mesh, width=1024, height=600)\n",
    "set_surface_view_options(view, color = 'green', surface_color = 'gray', umbrella_transparent = False, surface_transparent = True)\n",
    "view.averagedMaterialFrames = True\n",
    "view.showScalarField(rod_colors)\n",
    "view.show()"
   ]
  },
  {
   "cell_type": "code",
   "execution_count": null,
   "id": "8342e5ac",
   "metadata": {},
   "outputs": [],
   "source": [
    "view.getCameraParams()\n",
    "\n",
    "view.getSize()"
   ]
  },
  {
   "cell_type": "code",
   "execution_count": null,
   "id": "e293bd2f",
   "metadata": {},
   "outputs": [],
   "source": [
    "from equilibrium_solve_analysis import EquilibriumSolveAnalysis\n",
    "eqays = EquilibriumSolveAnalysis(curr_um)\n",
    "def eqm_callback(prob, i):\n",
    "    eqays.record(prob)\n",
    "    if (i % 2 == 0):\n",
    "        view.showScalarField(rod_colors)\n",
    "\n",
    "configure_umbrella_pre_deployment(curr_um, thickness, target_height_multiplier)\n",
    "\n",
    "allGradientNorms(curr_um)"
   ]
  },
  {
   "cell_type": "code",
   "execution_count": null,
   "id": "ff87b1c6",
   "metadata": {},
   "outputs": [],
   "source": [
    "break_input_angle_symmetry(curr_um)\n",
    "\n",
    "view.showScalarField(rod_colors)\n",
    "\n",
    "results = staged_deployment(curr_um, np.logspace(-3, 0, 4), eqm_callback, OPTS, fixedVars)\n",
    "\n",
    "results.success"
   ]
  },
  {
   "cell_type": "code",
   "execution_count": null,
   "id": "79fdc2d8",
   "metadata": {},
   "outputs": [],
   "source": [
    "eqays.plot()"
   ]
  },
  {
   "cell_type": "markdown",
   "id": "332e1061",
   "metadata": {},
   "source": [
    "### Initialize Design Optimization"
   ]
  },
  {
   "cell_type": "code",
   "execution_count": null,
   "id": "644f56c7",
   "metadata": {
    "scrolled": true
   },
   "outputs": [],
   "source": [
    "configure_umbrella_optimization(curr_um)\n",
    "\n",
    "import py_newton_optimizer\n",
    "opt_opts = py_newton_optimizer.NewtonOptimizerOptions()\n",
    "opt_opts.gradTol = 1e-8\n",
    "opt_opts.verbose = 10\n",
    "opt_opts.beta = 1e-6\n",
    "opt_opts.niter = 600\n",
    "opt_opts.verboseNonPosDef = False\n",
    "\n",
    "results = umbrella_mesh.compute_equilibrium(curr_um, callback = eqm_callback, options = opt_opts, fixedVars = fixedVars, elasticEnergyIncreaseFactorLimit=2.5)\n",
    "\n",
    "opt_opts.niter = 50\n",
    "\n",
    "results.success"
   ]
  },
  {
   "cell_type": "code",
   "execution_count": null,
   "id": "39dfd388",
   "metadata": {},
   "outputs": [],
   "source": [
    "optimizer = umbrella_optimization.UmbrellaOptimization(curr_um, opt_opts, 2.5, -1, False, fixedVars)"
   ]
  },
  {
   "cell_type": "code",
   "execution_count": null,
   "id": "a3a6e058",
   "metadata": {},
   "outputs": [],
   "source": [
    "optimizer.beta = 1 * 1e6\n",
    "optimizer.gamma = 1\n",
    "optimizer.eta = 0\n",
    "optimizer.zeta = 0# 1e1\n",
    "optimizer.iota = 1 * 1e10"
   ]
  },
  {
   "cell_type": "code",
   "execution_count": null,
   "id": "6166ddb8",
   "metadata": {},
   "outputs": [],
   "source": [
    "allDesignObjectives(optimizer)"
   ]
  },
  {
   "cell_type": "code",
   "execution_count": null,
   "id": "1c9df409",
   "metadata": {},
   "outputs": [],
   "source": [
    "allDesignGradientNorms(optimizer)"
   ]
  },
  {
   "cell_type": "code",
   "execution_count": null,
   "id": "ad556f80",
   "metadata": {},
   "outputs": [],
   "source": [
    "optimizer.objective.terms[-1].term.normalActivationThreshold = -2e-5"
   ]
  },
  {
   "cell_type": "code",
   "execution_count": null,
   "id": "e1b7e7dd",
   "metadata": {},
   "outputs": [],
   "source": [
    "optimizer.objective.terms[-1].term.normalWeight = 1\n",
    "optimizer.objective.terms[-1].term.tangentialWeight = 0\n",
    "optimizer.objective.terms[-1].term.torqueWeight = 0"
   ]
  },
  {
   "cell_type": "markdown",
   "id": "aef03e1f",
   "metadata": {},
   "source": [
    "### Force Analysis"
   ]
  },
  {
   "cell_type": "code",
   "execution_count": null,
   "id": "caab871e",
   "metadata": {},
   "outputs": [],
   "source": [
    "import force_analysis\n",
    "with so(): importlib.reload(force_analysis)"
   ]
  },
  {
   "cell_type": "code",
   "execution_count": null,
   "id": "d25d4730",
   "metadata": {},
   "outputs": [],
   "source": [
    "force_analysis.UmbrellaForceAnalysis(curr_um)\n",
    "v1 = force_analysis.UmbrellaForceFieldVisualization(curr_um)\n",
    "v1.show()"
   ]
  },
  {
   "cell_type": "markdown",
   "id": "a6e2a85d",
   "metadata": {},
   "source": [
    "### Run Optimization"
   ]
  },
  {
   "cell_type": "code",
   "execution_count": null,
   "id": "c06e2d52",
   "metadata": {},
   "outputs": [],
   "source": [
    "rest_height_optimizer = umbrella_optimization.UmbrellaRestHeightsOptimization(optimizer)\n",
    "single_rest_height_optimizer = umbrella_optimization.UmbrellaSingleRestHeightOptimization(rest_height_optimizer)"
   ]
  },
  {
   "cell_type": "code",
   "execution_count": null,
   "id": "5695e796",
   "metadata": {},
   "outputs": [],
   "source": [
    "rest_height_optimizer.newPt(rest_height_optimizer.params())"
   ]
  },
  {
   "cell_type": "code",
   "execution_count": null,
   "id": "1971371f",
   "metadata": {},
   "outputs": [],
   "source": [
    "original_design_parameters = rest_height_optimizer.params()\n",
    "\n",
    "doptays = DesignOptimizationAnalysis(rest_height_optimizer)\n",
    "def eqm_callback(prob, i):\n",
    "    eqays.record(prob)\n",
    "    if (i % 2 == 0):\n",
    "        view.showScalarField(rod_colors)\n",
    "\n",
    "import time\n",
    "pipeline_helper.prev_time_stamp = time.time()\n",
    "\n",
    "uo = rest_height_optimizer.get_parent_opt()\n",
    "\n",
    "uo.equilibriumOptimizer.options.verbose = 1\n",
    "#uo.equilibriumOptimizer.options.verboseWorkingSet = True\n",
    "uo.equilibriumOptimizer.options.gradTol = 1e-10\n",
    "# Hold the closest points fixed in the target-attraction term of the equilibrium solve:\n",
    "# this seems to make the design optimization much more robust.\n",
    "uo.setHoldClosestPointsFixed(True, False)"
   ]
  },
  {
   "cell_type": "code",
   "execution_count": null,
   "id": "5214a43f",
   "metadata": {},
   "outputs": [],
   "source": [
    "tfview = pipeline_helper.TargetFittingVisualization(curr_um, uo.target_surface_fitter, view)\n",
    "cb = pipeline_helper.UmbrellaOptimizationCallback(rest_height_optimizer, view, True, False, 1, rod_colors, doptays.record, tfview=tfview)"
   ]
  },
  {
   "cell_type": "code",
   "execution_count": null,
   "id": "c470de72",
   "metadata": {},
   "outputs": [],
   "source": [
    "algorithm = umbrella_optimization.OptAlgorithm.NEWTON_CG\n",
    "#algorithm = umbrella_optimization.OptAlgorithm.BFGS\n",
    "solverStatus = umbrella_optimization.optimize(rest_height_optimizer, algorithm, 1000, 0.005, 1e-5, cb, input_data[\"plate_edge_length\"] / 30 * 32)"
   ]
  },
  {
   "cell_type": "code",
   "execution_count": null,
   "id": "04532bd0",
   "metadata": {},
   "outputs": [],
   "source": [
    "rest_height_optimizer.beta, rest_height_optimizer.gamma, rest_height_optimizer.eta"
   ]
  },
  {
   "cell_type": "code",
   "execution_count": null,
   "id": "068f236e",
   "metadata": {},
   "outputs": [],
   "source": [
    "import time\n",
    "\n",
    "from matplotlib import pyplot as plt\n",
    "doptays.plot()"
   ]
  },
  {
   "cell_type": "code",
   "execution_count": null,
   "id": "417ae022",
   "metadata": {},
   "outputs": [],
   "source": [
    "force_analysis.UmbrellaForceAnalysis(curr_um)\n",
    "v2 = force_analysis.UmbrellaForceFieldVisualization(curr_um)\n",
    "v2.show()"
   ]
  },
  {
   "cell_type": "markdown",
   "id": "96b4a24c",
   "metadata": {},
   "source": [
    "### Get true equilibrium state"
   ]
  },
  {
   "cell_type": "code",
   "execution_count": null,
   "id": "ad25a472",
   "metadata": {},
   "outputs": [],
   "source": [
    "use_pin = True\n",
    "\n",
    "driver = curr_um.centralJoint()\n",
    "jdo = curr_um.dofOffsetForJoint(driver)\n",
    "fixedVars = (list(range(jdo, jdo + 6)) if use_pin else []) + curr_um.rigidJointAngleDoFIndices()\n",
    "\n",
    "configure_umbrella_true_equlibrium(curr_um, thickness, target_height_multiplier)\n",
    "\n",
    "allEnergies(curr_um)\n",
    "\n",
    "OPTS.niter = 100\n",
    "\n",
    "results = umbrella_mesh.compute_equilibrium(curr_um, callback = eqm_callback, options = OPTS, fixedVars = fixedVars, elasticEnergyIncreaseFactorLimit=2.5)\n",
    "\n",
    "results.success"
   ]
  },
  {
   "cell_type": "code",
   "execution_count": null,
   "id": "a3ef4a64",
   "metadata": {},
   "outputs": [],
   "source": [
    "force_analysis.UmbrellaForceAnalysis(curr_um)\n",
    "v3 = force_analysis.UmbrellaForceFieldVisualization(curr_um)\n",
    "v3.show()"
   ]
  },
  {
   "cell_type": "code",
   "execution_count": null,
   "id": "e8fa8762",
   "metadata": {},
   "outputs": [],
   "source": [
    "import pickle \n",
    "import gzip\n",
    "\n",
    "pickle.dump(curr_um, gzip.open('../../output/{}_optimized_equilibrium_{}_target_height_factor_{}.pkl.gz'.format(name, time.strftime(\"%Y_%m_%d_%H_%M\"), target_height_multiplier), 'w'))\n",
    "# load_um = pickle.load(gzip.open('test_pickle_um.pkl.gz', 'r'))\n",
    "\n",
    "from load_jsondata import update_optimized_json\n",
    "update_optimized_json(input_path, rest_height_optimizer.params(), output_json_path = '../../output/{}_optimized_params_{}.json'.format(name, time.strftime(\"%Y_%m_%d_%H_%M\")), optim_spacing_factor = target_height_multiplier)\n",
    "\n"
   ]
  },
  {
   "cell_type": "code",
   "execution_count": null,
   "id": "8e21fe9f",
   "metadata": {},
   "outputs": [],
   "source": [
    "from load_jsondata import write_deformed_config"
   ]
  },
  {
   "cell_type": "code",
   "execution_count": null,
   "id": "651e2f60",
   "metadata": {},
   "outputs": [],
   "source": [
    "write_deformed_config(curr_um, input_path, output_path = '../../output/{}_optimized_rendering_output_{}.json.gz'.format(name, time.strftime(\"%Y_%m_%d_%H_%M\"), write_stress = False, is_rest_state = False))"
   ]
  },
  {
   "cell_type": "code",
   "execution_count": null,
   "id": "957a4e83",
   "metadata": {},
   "outputs": [],
   "source": []
  },
  {
   "cell_type": "markdown",
   "id": "98eac31d",
   "metadata": {},
   "source": [
    "### Undeployment"
   ]
  },
  {
   "cell_type": "code",
   "execution_count": null,
   "id": "34e04a0c",
   "metadata": {},
   "outputs": [],
   "source": [
    "configure_umbrella_undeployment_step_one(curr_um, thickness, target_height_multiplier)"
   ]
  },
  {
   "cell_type": "code",
   "execution_count": null,
   "id": "6b0a24df",
   "metadata": {},
   "outputs": [],
   "source": [
    "allEnergies(curr_um)"
   ]
  },
  {
   "cell_type": "code",
   "execution_count": null,
   "id": "95cba5dd",
   "metadata": {},
   "outputs": [],
   "source": [
    "OPTS.niter = 10"
   ]
  },
  {
   "cell_type": "code",
   "execution_count": null,
   "id": "d5d5cce9",
   "metadata": {
    "scrolled": true
   },
   "outputs": [],
   "source": [
    "results = umbrella_mesh.compute_equilibrium(curr_um, callback = eqm_callback, options = OPTS, fixedVars = fixedVars, elasticEnergyIncreaseFactorLimit=2.5)\n",
    "results.success"
   ]
  },
  {
   "cell_type": "code",
   "execution_count": null,
   "id": "c4f99da4",
   "metadata": {},
   "outputs": [],
   "source": [
    "configure_umbrella_undeployment_step_two(curr_um)"
   ]
  },
  {
   "cell_type": "code",
   "execution_count": null,
   "id": "d1c39c9d",
   "metadata": {},
   "outputs": [],
   "source": [
    "allEnergies(curr_um)"
   ]
  },
  {
   "cell_type": "code",
   "execution_count": null,
   "id": "77007b00",
   "metadata": {},
   "outputs": [],
   "source": [
    "OPTS.niter = 500"
   ]
  },
  {
   "cell_type": "code",
   "execution_count": null,
   "id": "3d62a1c2",
   "metadata": {
    "scrolled": true
   },
   "outputs": [],
   "source": [
    "results = umbrella_mesh.compute_equilibrium(curr_um, callback = eqm_callback, options = OPTS, fixedVars = fixedVars, elasticEnergyIncreaseFactorLimit=2.5)\n",
    "results.success"
   ]
  },
  {
   "cell_type": "code",
   "execution_count": null,
   "id": "5d5ea847",
   "metadata": {},
   "outputs": [],
   "source": [
    "import pickle \n",
    "import gzip\n",
    "\n",
    "pickle.dump(curr_um, gzip.open('../../output/{}_optimized_rest_state_equilibrium_{}_target_height_factor_{}.pkl.gz'.format(name, time.strftime(\"%Y_%m_%d_%H_%M\"), target_height_multiplier), 'w'))\n",
    "\n",
    "write_deformed_config(curr_um, input_path, output_path = '../../output/{}_optimized_rest_state_rendering_output_{}.json.gz'.format(name, time.strftime(\"%Y_%m_%d_%H_%M\"), write_stress = False, is_rest_state = False))"
   ]
  }
 ],
 "metadata": {
  "kernelspec": {
   "display_name": "umbrella_mesh",
   "language": "python",
   "name": "umbrella_mesh"
  },
  "language_info": {
   "codemirror_mode": {
    "name": "ipython",
    "version": 3
   },
   "file_extension": ".py",
   "mimetype": "text/x-python",
   "name": "python",
   "nbconvert_exporter": "python",
   "pygments_lexer": "ipython3",
   "version": "3.9.7"
  }
 },
 "nbformat": 4,
 "nbformat_minor": 5
}
