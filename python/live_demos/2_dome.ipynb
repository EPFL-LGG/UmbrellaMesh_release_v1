{
 "cells": [
  {
   "cell_type": "code",
   "execution_count": null,
   "id": "1a8cd488-edfb-441f-871c-68b7ca5b00f3",
   "metadata": {},
   "outputs": [],
   "source": [
    "%run helper.py\n",
    "name = 'hemisphere_5t'\n",
    "input_path = '../../data/{}.json.gz'.format(name)\n",
    "\n",
    "io, input_data, target_mesh, curr_um, thickness, target_height_multiplier = parse_input(input_path, handleBoundary=False, handlePivots = True)\n",
    "rod_colors = get_color_field(curr_um, input_data)\n",
    "\n",
    "def get_saddle_view(umbrella):\n",
    "    import mesh\n",
    "    view = linkage_vis.LinkageViewerWithSurface(umbrella, target_mesh, width=1024, height=600)\n",
    "    set_surface_view_options(view, color = 'green', surface_color = 'gray', umbrella_transparent = False, surface_transparent = True)\n",
    "    view.averagedMaterialFrames = True\n",
    "    view.setCameraParams(((-11.144512556513881, -11.281582930201559, 4.961758097391448),\n",
    "                             (0.2578692282155091, 0.4699669630554463, 0.8441768267229215),\n",
    "                             (4.75386274113031, -3.697285366936124, -4.116992725883979)))\n",
    "    view.showScalarField(rod_colors)\n",
    "    return view"
   ]
  },
  {
   "cell_type": "code",
   "execution_count": null,
   "id": "462b4794-1a80-40d1-b845-a06117a10822",
   "metadata": {},
   "outputs": [],
   "source": [
    "curr_um = pickle.load(gzip.open(\"../../output/hemisphere_5t_optimized_rest_state_equilibrium_2022_04_25_11_08_target_height_factor_5.0.pkl.gz\", 'r'))"
   ]
  },
  {
   "cell_type": "code",
   "execution_count": null,
   "id": "580886fd-7c74-4cc3-9036-3d72a8c11afa",
   "metadata": {},
   "outputs": [],
   "source": [
    "use_pin = False\n",
    "\n",
    "driver = curr_um.centralJoint()\n",
    "jdo = curr_um.dofOffsetForJoint(driver)\n",
    "fixedVars = (list(range(jdo, jdo + 6)) if use_pin else []) + curr_um.rigidJointAngleDoFIndices()"
   ]
  },
  {
   "cell_type": "code",
   "execution_count": null,
   "id": "6b36b95f-4a27-41ff-955a-62c822d0fde8",
   "metadata": {},
   "outputs": [],
   "source": [
    "view = get_saddle_view(curr_um)\n",
    "view.show()"
   ]
  },
  {
   "cell_type": "code",
   "execution_count": null,
   "id": "b69ac10f-9b4a-4616-b6a4-5f80f526ab97",
   "metadata": {},
   "outputs": [],
   "source": [
    "break_input_angle_symmetry(curr_um)"
   ]
  },
  {
   "cell_type": "code",
   "execution_count": null,
   "id": "3294c532-abf6-4063-a702-87470e41d628",
   "metadata": {},
   "outputs": [],
   "source": [
    "def eqm_callback(prob, i):\n",
    "    if (i % 1 == 0):\n",
    "        view.showScalarField(rod_colors)"
   ]
  },
  {
   "cell_type": "code",
   "execution_count": null,
   "id": "5af97831-86e8-4e54-afb2-65f3f6de40f3",
   "metadata": {},
   "outputs": [],
   "source": [
    "configure_umbrella_pre_deployment(curr_um, thickness, target_height_multiplier)"
   ]
  },
  {
   "cell_type": "code",
   "execution_count": null,
   "id": "9b06e152-01d4-4b57-ac41-6bbea8996a7b",
   "metadata": {},
   "outputs": [],
   "source": [
    "results = staged_deployment(curr_um, np.logspace(-4, 0, 5), eqm_callback, OPTS, fixedVars, elasticEnergyIncreaseFactorLimit = 1.5)"
   ]
  },
  {
   "cell_type": "markdown",
   "id": "32b95e69-6cee-4fd6-807e-0137b16663a7",
   "metadata": {},
   "source": [
    "## Stiffness analysis"
   ]
  },
  {
   "cell_type": "markdown",
   "id": "c840900d-2cc9-4d30-8419-cfa1d0ba4000",
   "metadata": {},
   "source": [
    "$$\\frac{\\partial^2{U}}{\\partial{\\vec{x}}^2}\\vec{v} = \\lambda M \\vec{v}$$\n"
   ]
  },
  {
   "cell_type": "markdown",
   "id": "1c5bd8b7-8236-44cf-b08c-591f6dafc1f3",
   "metadata": {},
   "source": [
    "#### Update target plate separation"
   ]
  },
  {
   "cell_type": "code",
   "execution_count": null,
   "id": "15531df2-8f03-4783-94a3-32911a4fdd88",
   "metadata": {},
   "outputs": [],
   "source": [
    "configure_umbrella_pre_deployment(curr_um, thickness, 10)\n",
    "# curr_um.attractionWeight = 1e-3\n",
    "curr_um.attractionWeight = 0\n",
    "OPTS.niter = 100\n",
    "\n",
    "with so(): results = umbrella_mesh.compute_equilibrium(curr_um, callback = eqm_callback, options = OPTS, fixedVars = fixedVars, elasticEnergyIncreaseFactorLimit=2.5)\n",
    "\n",
    "results.success"
   ]
  },
  {
   "cell_type": "markdown",
   "id": "89ed81fe-5272-4e4a-a2b5-6a86718a09e7",
   "metadata": {},
   "source": [
    "#### Compute vibrational modes"
   ]
  },
  {
   "cell_type": "code",
   "execution_count": null,
   "id": "0217c19f-5e4c-4c85-b575-2567e6e8be4f",
   "metadata": {},
   "outputs": [],
   "source": [
    "import compute_vibrational_modes"
   ]
  },
  {
   "cell_type": "code",
   "execution_count": null,
   "id": "f5a12654-a179-43c5-bed2-a580a340d8e8",
   "metadata": {},
   "outputs": [],
   "source": [
    "class ModalAnalysisWrapper:\n",
    "    def __init__(self, um):\n",
    "        self.um = um\n",
    "    def hessian(self):\n",
    "        return self.um.hessian(umbrellaEnergyType=umbrella_mesh.UmbrellaEnergyType.Full)\n",
    "    def massMatrix(self): return self.um.massMatrix()\n",
    "    def lumpedMassMatrix(self): return self.um.lumpedMassMatrix()"
   ]
  },
  {
   "cell_type": "code",
   "execution_count": null,
   "id": "60122eda-b3a8-4629-b08a-7f32ffd7c2a7",
   "metadata": {},
   "outputs": [],
   "source": [
    "lambdas, modes = compute_vibrational_modes.compute_vibrational_modes(ModalAnalysisWrapper(curr_um), fixedVars=curr_um.rigidJointAngleDoFIndices(), mtype=compute_vibrational_modes.MassMatrixType.FULL, n=16, sigma=-1e-6)\n",
    "\n",
    "import mode_viewer, importlib\n",
    "importlib.reload(mode_viewer);\n",
    "mview = mode_viewer.ModeViewer(curr_um, modes, lambdas, amplitude=0.5 / lambdas[6])\n",
    "# mview.showScalarField(rod_colors)\n",
    "mview.show()"
   ]
  },
  {
   "cell_type": "code",
   "execution_count": null,
   "id": "8d506999-9e23-4987-a734-5884c84371b9",
   "metadata": {},
   "outputs": [],
   "source": [
    "lambdas[6]"
   ]
  },
  {
   "cell_type": "code",
   "execution_count": null,
   "id": "357dbbb9-0309-4560-af11-fb1ff5ec8c0d",
   "metadata": {},
   "outputs": [],
   "source": [
    "lambdas[6]"
   ]
  },
  {
   "cell_type": "code",
   "execution_count": null,
   "id": "e3e3cb3a-f9a6-4bab-b7bc-03e0f55384c0",
   "metadata": {},
   "outputs": [],
   "source": [
    "lambdas[6]"
   ]
  },
  {
   "cell_type": "markdown",
   "id": "46e233fe-41cf-42a9-a1db-4d63ccfa4aba",
   "metadata": {},
   "source": [
    "## Summary"
   ]
  },
  {
   "cell_type": "code",
   "execution_count": null,
   "id": "f52664e9-8e6b-46d0-93ac-4410eb91789a",
   "metadata": {},
   "outputs": [],
   "source": [
    "mview_5, mview_2, mview_10 = dome_vibrational_mode_analysis_helper.get_vibrational_mode_views()"
   ]
  },
  {
   "cell_type": "code",
   "execution_count": null,
   "id": "7f5782f9-fd91-4c9c-b09d-5dcee3e21a59",
   "metadata": {},
   "outputs": [],
   "source": [
    "HBox([mview_2.show(), mview_5.show(), mview_10.show()])"
   ]
  },
  {
   "cell_type": "code",
   "execution_count": null,
   "id": "5dcc51f4-3266-4e7b-80dc-5a174dbeb365",
   "metadata": {},
   "outputs": [],
   "source": [
    "mview_2.action.play(), mview_5.action.play(), mview_10.action.play()"
   ]
  },
  {
   "cell_type": "code",
   "execution_count": null,
   "id": "8779d222-8e36-4cbb-989f-5ee152a91daa",
   "metadata": {},
   "outputs": [],
   "source": [
    "mview_5.mode_selector.value = mview_5.mode_selector.options[6]"
   ]
  },
  {
   "cell_type": "code",
   "execution_count": null,
   "id": "a7f21003-422a-497c-9edd-2da90284bbb3",
   "metadata": {},
   "outputs": [],
   "source": []
  }
 ],
 "metadata": {
  "kernelspec": {
   "display_name": "umbrella_mesh",
   "language": "python",
   "name": "umbrella_mesh"
  },
  "language_info": {
   "codemirror_mode": {
    "name": "ipython",
    "version": 3
   },
   "file_extension": ".py",
   "mimetype": "text/x-python",
   "name": "python",
   "nbconvert_exporter": "python",
   "pygments_lexer": "ipython3",
   "version": "3.10.2"
  }
 },
 "nbformat": 4,
 "nbformat_minor": 5
}
