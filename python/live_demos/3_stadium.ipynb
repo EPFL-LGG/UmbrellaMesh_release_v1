{
 "cells": [
  {
   "cell_type": "code",
   "execution_count": null,
   "id": "1a8cd488-edfb-441f-871c-68b7ca5b00f3",
   "metadata": {},
   "outputs": [],
   "source": [
    "#!/usr/bin/env python\n",
    "# coding: utf-8\n",
    "import sys\n",
    "sys.path.append('..')\n",
    "import umbrella_mesh\n",
    "import elastic_rods\n",
    "import linkage_vis\n",
    "from umbrella_mesh import UmbrellaEnergyType\n",
    "from bending_validation import suppress_stdout as so\n",
    "from visualization_helper import *\n",
    "\n",
    "import pipeline_helper, importlib, design_optimization_analysis\n",
    "with so(): importlib.reload(pipeline_helper)\n",
    "with so(): importlib.reload(design_optimization_analysis)\n",
    "\n",
    "import pickle, gzip\n",
    "\n",
    "from configuration import *\n",
    "\n",
    "import py_newton_optimizer\n",
    "OPTS = py_newton_optimizer.NewtonOptimizerOptions()\n",
    "OPTS.gradTol = 1e-8\n",
    "OPTS.verbose = 1\n",
    "OPTS.beta = 1e-6\n",
    "OPTS.niter = 300\n",
    "OPTS.verboseNonPosDef = False\n",
    "\n",
    "name = 'stadium_teaser'\n",
    "input_path = '../../data/{}.json.gz'.format(name)\n",
    "\n",
    "io, input_data, target_mesh, curr_um, thickness, target_height_multiplier = parse_input(input_path, handleBoundary=False, handlePivots = True)\n",
    "rod_colors = get_color_field(curr_um, input_data)\n",
    "\n",
    "def get_saddle_view(umbrella):\n",
    "    import mesh\n",
    "    view = linkage_vis.LinkageViewerWithSurface(umbrella, target_mesh, width=1024, height=600)\n",
    "    set_surface_view_options(view, color = 'green', surface_color = 'gray', umbrella_transparent = False, surface_transparent = True)\n",
    "    view.averagedMaterialFrames = True\n",
    "    view.setCameraParams(((-9.084548137374812, -16.50668635107724, 10.928721819207178),\n",
    "                         (0.2122869979916505, 0.45555144229916267, 0.8645271042037045),\n",
    "                         (0.0, 0.0, 0.0)))\n",
    "    view.showScalarField(rod_colors)\n",
    "    return view"
   ]
  },
  {
   "cell_type": "code",
   "execution_count": null,
   "id": "462b4794-1a80-40d1-b845-a06117a10822",
   "metadata": {},
   "outputs": [],
   "source": [
    "curr_um = pickle.load(gzip.open(\"../../output/stadium_teaser_optimized_rest_state_2022_01_25_14_52_target_height_factor_5.0.pkl.gz\", 'r'))"
   ]
  },
  {
   "cell_type": "code",
   "execution_count": null,
   "id": "580886fd-7c74-4cc3-9036-3d72a8c11afa",
   "metadata": {},
   "outputs": [],
   "source": [
    "use_pin = False\n",
    "\n",
    "driver = curr_um.centralJoint()\n",
    "jdo = curr_um.dofOffsetForJoint(driver)\n",
    "fixedVars = (list(range(jdo, jdo + 6)) if use_pin else []) + curr_um.rigidJointAngleDoFIndices()"
   ]
  },
  {
   "cell_type": "code",
   "execution_count": null,
   "id": "6b36b95f-4a27-41ff-955a-62c822d0fde8",
   "metadata": {},
   "outputs": [],
   "source": [
    "view = get_saddle_view(curr_um)\n",
    "view.show()"
   ]
  },
  {
   "cell_type": "code",
   "execution_count": null,
   "id": "b69ac10f-9b4a-4616-b6a4-5f80f526ab97",
   "metadata": {},
   "outputs": [],
   "source": [
    "break_input_angle_symmetry(curr_um)"
   ]
  },
  {
   "cell_type": "code",
   "execution_count": null,
   "id": "3294c532-abf6-4063-a702-87470e41d628",
   "metadata": {},
   "outputs": [],
   "source": [
    "def eqm_callback(prob, i):\n",
    "    if (i % 1 == 0):\n",
    "        view.showScalarField(rod_colors)"
   ]
  },
  {
   "cell_type": "code",
   "execution_count": null,
   "id": "5af97831-86e8-4e54-afb2-65f3f6de40f3",
   "metadata": {},
   "outputs": [],
   "source": [
    "configure_umbrella_pre_deployment(curr_um, thickness, target_height_multiplier)"
   ]
  },
  {
   "cell_type": "code",
   "execution_count": null,
   "id": "9b06e152-01d4-4b57-ac41-6bbea8996a7b",
   "metadata": {},
   "outputs": [],
   "source": [
    "results = staged_deployment(curr_um, np.logspace(-5, 0, 6), eqm_callback, OPTS, fixedVars, elasticEnergyIncreaseFactorLimit = 1.5)"
   ]
  }
 ],
 "metadata": {
  "kernelspec": {
   "display_name": "umbrella_mesh",
   "language": "python",
   "name": "umbrella_mesh"
  },
  "language_info": {
   "codemirror_mode": {
    "name": "ipython",
    "version": 3
   },
   "file_extension": ".py",
   "mimetype": "text/x-python",
   "name": "python",
   "nbconvert_exporter": "python",
   "pygments_lexer": "ipython3",
   "version": "3.10.2"
  }
 },
 "nbformat": 4,
 "nbformat_minor": 5
}
