{
 "cells": [
  {
   "cell_type": "code",
   "execution_count": null,
   "id": "54090e1a-5237-4cd1-a077-c9c7e10fffde",
   "metadata": {},
   "outputs": [],
   "source": [
    "#!/usr/bin/env python\n",
    "# coding: utf-8\n",
    "import sys\n",
    "sys.path.append('..')\n",
    "import umbrella_mesh\n",
    "import elastic_rods\n",
    "import linkage_vis\n",
    "from umbrella_mesh import UmbrellaEnergyType\n",
    "from bending_validation import suppress_stdout as so\n",
    "from visualization_helper import *\n",
    "\n",
    "import pipeline_helper, importlib, design_optimization_analysis\n",
    "with so(): importlib.reload(pipeline_helper)\n",
    "with so(): importlib.reload(design_optimization_analysis)\n",
    "\n",
    "import pickle, gzip\n",
    "\n",
    "from configuration import *\n",
    "\n",
    "import py_newton_optimizer\n",
    "OPTS = py_newton_optimizer.NewtonOptimizerOptions()\n",
    "OPTS.gradTol = 1e-8\n",
    "OPTS.verbose = 1\n",
    "OPTS.beta = 1e-6\n",
    "OPTS.niter = 300\n",
    "OPTS.verboseNonPosDef = False\n",
    "\n",
    "name = 'squidward_highres'\n",
    "input_path = '../../data/{}.json.gz'.format(name)\n",
    "\n",
    "io, input_data, target_mesh, curr_um, thickness, target_height_multiplier = parse_input(input_path, handleBoundary=False, handlePivots = True)\n",
    "rod_colors = get_color_field(curr_um, input_data)\n",
    "\n",
    "def get_squidward_view(umbrella):\n",
    "    import mesh\n",
    "    view = linkage_vis.LinkageViewerWithSurface(umbrella, target_mesh, width=1024, height=600)\n",
    "    set_surface_view_options(view, color = 'green', surface_color = 'gray', umbrella_transparent = False, surface_transparent = True)\n",
    "    view.averagedMaterialFrames = True\n",
    "    view.setCameraParams(((-16.99669868547026, -1.6155998689650803, 4.863083631031875),\n",
    "     (0.2619754129859161, 0.1245718618523399, 0.9570009060735004),\n",
    "     (0.0, 0.0, 0.0)))\n",
    "    view.showScalarField(rod_colors)\n",
    "    return view"
   ]
  },
  {
   "cell_type": "code",
   "execution_count": null,
   "id": "d6530587-a964-4654-a9d9-22c69e5856be",
   "metadata": {},
   "outputs": [],
   "source": [
    "curr_um = pickle.load(gzip.open(\"squidward_data/optimized_single_height_rest_state.pkl.gz\", 'r'))"
   ]
  },
  {
   "cell_type": "code",
   "execution_count": null,
   "id": "2f750379-6502-4fe5-8045-c3d9ea9ebb13",
   "metadata": {},
   "outputs": [],
   "source": [
    "use_pin = False\n",
    "\n",
    "driver = curr_um.centralJoint()\n",
    "jdo = curr_um.dofOffsetForJoint(driver)\n",
    "fixedVars = (list(range(jdo, jdo + 6)) if use_pin else []) + curr_um.rigidJointAngleDoFIndices()"
   ]
  },
  {
   "cell_type": "code",
   "execution_count": null,
   "id": "d99e6c12-4901-4a63-b04d-7ea331bf440d",
   "metadata": {},
   "outputs": [],
   "source": [
    "view = get_squidward_view(curr_um)\n",
    "view.show()"
   ]
  },
  {
   "cell_type": "code",
   "execution_count": null,
   "id": "76d97b70-e2a7-4442-a636-edce3cf4fffe",
   "metadata": {},
   "outputs": [],
   "source": [
    "break_input_angle_symmetry(curr_um)"
   ]
  },
  {
   "cell_type": "code",
   "execution_count": null,
   "id": "a15d6d63-edd2-41c0-b2f9-8529c97a85ba",
   "metadata": {},
   "outputs": [],
   "source": [
    "insert_randomness(curr_um, zPerturbationEpsilon = 1e-2)"
   ]
  },
  {
   "cell_type": "code",
   "execution_count": null,
   "id": "df776426-4e23-42d8-b70f-eb991698b4fb",
   "metadata": {},
   "outputs": [],
   "source": [
    "def eqm_callback(prob, i):\n",
    "    if (i % 5 == 0):\n",
    "        view.showScalarField(rod_colors)"
   ]
  },
  {
   "cell_type": "code",
   "execution_count": null,
   "id": "e5f17506-6e25-4e2b-ba25-50e8e20d4569",
   "metadata": {},
   "outputs": [],
   "source": [
    "configure_umbrella_pre_deployment(curr_um, thickness, target_height_multiplier)"
   ]
  },
  {
   "cell_type": "code",
   "execution_count": null,
   "id": "ba514c1a-f44c-4e4b-bce4-5cbd1268e968",
   "metadata": {},
   "outputs": [],
   "source": [
    "curr_um.attractionWeight = 1e-6"
   ]
  },
  {
   "cell_type": "code",
   "execution_count": null,
   "id": "c0ea4c3d-4eb4-4d16-a2a6-c56efae005c1",
   "metadata": {},
   "outputs": [],
   "source": [
    "results = staged_deployment(curr_um, np.logspace(-4, 0, 5), eqm_callback, OPTS, fixedVars, elasticEnergyIncreaseFactorLimit = 1.5)"
   ]
  },
  {
   "cell_type": "code",
   "execution_count": null,
   "id": "a5abe2b1-ac41-44d8-a316-73714f33593d",
   "metadata": {},
   "outputs": [],
   "source": [
    "from IPython.display import Image\n",
    "Image(\"squidward_data/symmetric.png\", width = 1000)"
   ]
  },
  {
   "cell_type": "markdown",
   "id": "24151e31-c0a4-4fcd-92a9-f2e9f1ad5a5c",
   "metadata": {},
   "source": [
    "## Encoding Mean Curvature"
   ]
  },
  {
   "cell_type": "code",
   "execution_count": null,
   "id": "7a12db52-39a8-4f79-b8ae-7b84a86bfa52",
   "metadata": {},
   "outputs": [],
   "source": [
    "curr_um = pickle.load(gzip.open(\"squidward_data/optimized_rest_state.pkl.gz\", 'r'))"
   ]
  },
  {
   "cell_type": "code",
   "execution_count": null,
   "id": "2987f9f6-dcff-489a-aa5f-239f7e02e887",
   "metadata": {},
   "outputs": [],
   "source": [
    "from IPython.display import Image\n",
    "Image(\"squidward_data/asymmetric.png\", width = 1000)"
   ]
  },
  {
   "cell_type": "code",
   "execution_count": null,
   "id": "c75890a2-bdf2-41e9-b0ca-88aa81557d7b",
   "metadata": {},
   "outputs": [],
   "source": [
    "use_pin = False\n",
    "\n",
    "driver = curr_um.centralJoint()\n",
    "jdo = curr_um.dofOffsetForJoint(driver)\n",
    "fixedVars = (list(range(jdo, jdo + 6)) if use_pin else []) + curr_um.rigidJointAngleDoFIndices()"
   ]
  },
  {
   "cell_type": "code",
   "execution_count": null,
   "id": "5cf51ba7-5ef9-44ec-8f25-b2607411786e",
   "metadata": {},
   "outputs": [],
   "source": [
    "import py_newton_optimizer\n",
    "OPTS = py_newton_optimizer.NewtonOptimizerOptions()\n",
    "OPTS.gradTol = 1e-8\n",
    "OPTS.verbose = 1\n",
    "OPTS.beta = 1e-6\n",
    "OPTS.niter = 300\n",
    "OPTS.verboseNonPosDef = False\n",
    "\n",
    "rod_colors = get_color_field(curr_um, input_data)"
   ]
  },
  {
   "cell_type": "code",
   "execution_count": null,
   "id": "079efce7-5c4d-48ba-8e74-d680208b3bd2",
   "metadata": {},
   "outputs": [],
   "source": [
    "asymmetric_view = get_squidward_view(curr_um)\n",
    "asymmetric_view.show()"
   ]
  },
  {
   "cell_type": "code",
   "execution_count": null,
   "id": "aa4bdb9a-9222-45c2-a42d-e81334033d6a",
   "metadata": {},
   "outputs": [],
   "source": [
    "def eqm_callback(prob, i):\n",
    "    if (i % 2 == 0):\n",
    "        asymmetric_view.showScalarField(rod_colors)"
   ]
  },
  {
   "cell_type": "code",
   "execution_count": null,
   "id": "97bd11c8-4ba9-4ec3-bb9b-63883f84b1b9",
   "metadata": {},
   "outputs": [],
   "source": [
    "configure_umbrella_pre_deployment(curr_um, thickness, target_height_multiplier)"
   ]
  },
  {
   "cell_type": "code",
   "execution_count": null,
   "id": "ed8c4ace-afe8-4251-94d6-20183a4a059b",
   "metadata": {},
   "outputs": [],
   "source": [
    "curr_um.attractionWeight = 1e-6"
   ]
  },
  {
   "cell_type": "code",
   "execution_count": null,
   "id": "02c076d8-1812-41a3-bff5-011a3d297cce",
   "metadata": {
    "tags": []
   },
   "outputs": [],
   "source": [
    "results = staged_deployment(curr_um, np.logspace(-4, 0, 5), eqm_callback, OPTS, fixedVars, elasticEnergyIncreaseFactorLimit = 1.5)"
   ]
  }
 ],
 "metadata": {
  "kernelspec": {
   "display_name": "umbrella_mesh",
   "language": "python",
   "name": "umbrella_mesh"
  },
  "language_info": {
   "codemirror_mode": {
    "name": "ipython",
    "version": 3
   },
   "file_extension": ".py",
   "mimetype": "text/x-python",
   "name": "python",
   "nbconvert_exporter": "python",
   "pygments_lexer": "ipython3",
   "version": "3.10.2"
  }
 },
 "nbformat": 4,
 "nbformat_minor": 5
}
