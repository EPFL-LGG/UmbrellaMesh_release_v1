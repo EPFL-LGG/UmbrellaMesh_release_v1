{
 "cells": [
  {
   "cell_type": "code",
   "execution_count": null,
   "id": "9535dd75",
   "metadata": {},
   "outputs": [],
   "source": [
    "#!/usr/bin/env python\n",
    "# coding: utf-8\n",
    "import sys\n",
    "sys.path.append('..')\n",
    "import umbrella_mesh\n",
    "import elastic_rods\n",
    "import linkage_vis\n",
    "from umbrella_mesh import UmbrellaEnergyType\n",
    "from bending_validation import suppress_stdout as so\n",
    "from visualization_helper import *\n",
    "\n",
    "import pipeline_helper, importlib, design_optimization_analysis\n",
    "with so(): importlib.reload(pipeline_helper)\n",
    "with so(): importlib.reload(design_optimization_analysis)\n",
    "\n",
    "from pipeline_helper import UmbrellaOptimizationCallback, allEnergies, allGradientNorms, allDesignObjectives, allDesignGradientNorms, set_joint_vector_field, show_center_joint_normal, show_joint_normal\n",
    "\n",
    "from design_optimization_analysis import DesignOptimizationAnalysis\n",
    "\n",
    "import umbrella_optimization\n",
    "import umbrella_optimization_finite_diff\n",
    "from umbrella_optimization import OptEnergyType\n",
    "\n",
    "import numpy as np\n",
    "import numpy.linalg as la\n",
    "\n",
    "import pickle, gzip\n",
    "\n",
    "from configuration import *"
   ]
  },
  {
   "cell_type": "markdown",
   "id": "dc8fa3ff",
   "metadata": {},
   "source": [
    "### Initialization"
   ]
  },
  {
   "cell_type": "code",
   "execution_count": null,
   "id": "4001b0f9",
   "metadata": {},
   "outputs": [],
   "source": [
    "name = 'igloo'\n",
    "input_path = '../../data/{}.json.gz'.format(name)\n",
    "\n",
    "io, input_data, target_mesh, curr_um, thickness, target_height_multiplier = parse_input(input_path, handleBoundary=False)\n",
    "\n",
    "\n",
    "# curr_um = pickle.load(gzip.open('../../output/lilium_top_four_parameters_optimized_rest_state_equilibrium_2022_01_19_18_33_target_height_factor_5.0.pkl.gz', 'r'))"
   ]
  },
  {
   "cell_type": "markdown",
   "id": "f718d0b6",
   "metadata": {},
   "source": [
    "#### Pin Rigid Motion"
   ]
  },
  {
   "cell_type": "code",
   "execution_count": null,
   "id": "12415651",
   "metadata": {},
   "outputs": [],
   "source": [
    "use_pin = False\n",
    "\n",
    "driver = curr_um.centralJoint()\n",
    "jdo = curr_um.dofOffsetForJoint(driver)\n",
    "fixedVars = (list(range(jdo, jdo + 6)) if use_pin else []) + curr_um.rigidJointAngleDoFIndices()"
   ]
  },
  {
   "cell_type": "code",
   "execution_count": null,
   "id": "3a670c6f",
   "metadata": {},
   "outputs": [],
   "source": [
    "import py_newton_optimizer\n",
    "OPTS = py_newton_optimizer.NewtonOptimizerOptions()\n",
    "OPTS.gradTol = 1e-8\n",
    "OPTS.verbose = 1\n",
    "OPTS.beta = 1e-6\n",
    "OPTS.niter = 300\n",
    "OPTS.verboseNonPosDef = False\n",
    "\n",
    "rod_colors = get_color_field(curr_um, input_data)\n",
    "\n",
    "# lview = linkage_vis.LinkageViewer(curr_um, width=1024, height=600)\n",
    "# lview.update(scalarField = rod_colors)\n",
    "# lview.show()\n",
    "\n",
    "import mesh\n",
    "view = linkage_vis.LinkageViewerWithSurface(curr_um, target_mesh, width=1024, height=600)\n",
    "set_surface_view_options(view, color = 'green', surface_color = 'gray', umbrella_transparent = False, surface_transparent = True)\n",
    "view.averagedMaterialFrames = True\n",
    "view.showScalarField(rod_colors)\n",
    "view.show()"
   ]
  },
  {
   "cell_type": "code",
   "execution_count": null,
   "id": "c80d0b10",
   "metadata": {},
   "outputs": [],
   "source": [
    "view.getCameraParams()\n",
    "\n",
    "view.getSize()"
   ]
  },
  {
   "cell_type": "code",
   "execution_count": null,
   "id": "a472f3db",
   "metadata": {},
   "outputs": [],
   "source": [
    "from equilibrium_solve_analysis import EquilibriumSolveAnalysis\n",
    "eqays = EquilibriumSolveAnalysis(curr_um)\n",
    "def eqm_callback(prob, i):\n",
    "    eqays.record(prob)\n",
    "    if (i % 2 == 0):\n",
    "        view.showScalarField(rod_colors)\n",
    "\n",
    "configure_umbrella_pre_deployment(curr_um, thickness, target_height_multiplier)\n",
    "\n",
    "allGradientNorms(curr_um)"
   ]
  },
  {
   "cell_type": "code",
   "execution_count": null,
   "id": "3c1f838c",
   "metadata": {},
   "outputs": [],
   "source": [
    "break_input_angle_symmetry(curr_um)\n",
    "\n",
    "view.showScalarField(rod_colors)\n",
    "\n",
    "results = staged_deployment(curr_um, np.logspace(-3, 0, 4), eqm_callback, OPTS, fixedVars)\n",
    "\n",
    "results.success"
   ]
  },
  {
   "cell_type": "code",
   "execution_count": null,
   "id": "00d4e5bc",
   "metadata": {},
   "outputs": [],
   "source": [
    "eqays.plot()"
   ]
  },
  {
   "cell_type": "markdown",
   "id": "aeacef95",
   "metadata": {},
   "source": [
    "### Force Analysis"
   ]
  },
  {
   "cell_type": "code",
   "execution_count": null,
   "id": "f68994d9",
   "metadata": {},
   "outputs": [],
   "source": [
    "import force_analysis\n",
    "with so(): importlib.reload(force_analysis)"
   ]
  },
  {
   "cell_type": "code",
   "execution_count": null,
   "id": "c3b4b6b9",
   "metadata": {},
   "outputs": [],
   "source": [
    "force_analysis.UmbrellaForceAnalysis(curr_um)\n",
    "v1 = force_analysis.UmbrellaForceFieldVisualization(curr_um)\n",
    "v1.show()"
   ]
  },
  {
   "cell_type": "markdown",
   "id": "d725e3af",
   "metadata": {},
   "source": [
    "### Initialize Design Optimization"
   ]
  },
  {
   "cell_type": "code",
   "execution_count": null,
   "id": "4a4c2821",
   "metadata": {
    "scrolled": true
   },
   "outputs": [],
   "source": [
    "configure_umbrella_optimization(curr_um, bdryMultiplier = 0.0)\n",
    "\n",
    "import py_newton_optimizer\n",
    "opt_opts = py_newton_optimizer.NewtonOptimizerOptions()\n",
    "opt_opts.gradTol = 1e-8\n",
    "opt_opts.verbose = 10\n",
    "opt_opts.beta = 1e-6\n",
    "opt_opts.niter = 600\n",
    "opt_opts.verboseNonPosDef = False\n",
    "\n",
    "results = umbrella_mesh.compute_equilibrium(curr_um, callback = eqm_callback, options = opt_opts, fixedVars = fixedVars, elasticEnergyIncreaseFactorLimit=2.5)\n",
    "\n",
    "opt_opts.niter = 50\n",
    "\n",
    "results.success"
   ]
  },
  {
   "cell_type": "code",
   "execution_count": null,
   "id": "c5fcf445",
   "metadata": {},
   "outputs": [],
   "source": [
    "optimizer = umbrella_optimization.UmbrellaOptimization(curr_um, opt_opts, 2.5, -1, False, fixedVars)\n",
    "\n",
    "optimizer.beta = 1 * 1e6\n",
    "optimizer.gamma = 1\n",
    "optimizer.eta = 0\n",
    "optimizer.zeta = 0# 1e1\n",
    "optimizer.iota = 0\n",
    "\n",
    "optimizer.objective.terms[-1].term.normalActivationThreshold = -1e-4"
   ]
  },
  {
   "cell_type": "code",
   "execution_count": null,
   "id": "8803877d",
   "metadata": {},
   "outputs": [],
   "source": [
    "rest_height_optimizer = umbrella_optimization.UmbrellaRestHeightsOptimization(optimizer)\n",
    "single_rest_height_optimizer = umbrella_optimization.UmbrellaSingleRestHeightOptimization(rest_height_optimizer)\n",
    "\n",
    "rest_height_optimizer.newPt(rest_height_optimizer.params())\n",
    "\n",
    "original_design_parameters = rest_height_optimizer.params()\n",
    "\n",
    "doptays = DesignOptimizationAnalysis(rest_height_optimizer)\n",
    "def eqm_callback(prob, i):\n",
    "    eqays.record(prob)\n",
    "    if (i % 2 == 0):\n",
    "        view.showScalarField(rod_colors)\n",
    "\n",
    "import time\n",
    "pipeline_helper.prev_time_stamp = time.time()\n",
    "\n",
    "uo = rest_height_optimizer.get_parent_opt()\n",
    "\n",
    "uo.equilibriumOptimizer.options.verbose = 1\n",
    "#uo.equilibriumOptimizer.options.verboseWorkingSet = True\n",
    "uo.equilibriumOptimizer.options.gradTol = 1e-10\n",
    "# Hold the closest points fixed in the target-attraction term of the equilibrium solve:\n",
    "# this seems to make the design optimization much more robust.\n",
    "uo.setHoldClosestPointsFixed(True, False)"
   ]
  },
  {
   "cell_type": "code",
   "execution_count": null,
   "id": "6766f137",
   "metadata": {},
   "outputs": [],
   "source": [
    "tfview = pipeline_helper.TargetFittingVisualization(curr_um, uo.target_surface_fitter, view)\n",
    "cb = pipeline_helper.UmbrellaOptimizationCallback(rest_height_optimizer, view, True, False, 1, rod_colors, doptays.record, tfview=tfview)"
   ]
  },
  {
   "cell_type": "code",
   "execution_count": null,
   "id": "93db3fbd",
   "metadata": {},
   "outputs": [],
   "source": [
    "algorithm = umbrella_optimization.OptAlgorithm.NEWTON_CG\n",
    "#algorithm = umbrella_optimization.OptAlgorithm.BFGS\n",
    "solverStatus = umbrella_optimization.optimize(rest_height_optimizer, algorithm, 1000, 0.005, 1e-5, cb, input_data[\"plate_edge_length\"] / 30 * 32)"
   ]
  },
  {
   "cell_type": "code",
   "execution_count": null,
   "id": "f2010959",
   "metadata": {},
   "outputs": [],
   "source": []
  },
  {
   "cell_type": "code",
   "execution_count": null,
   "id": "226ec969",
   "metadata": {},
   "outputs": [],
   "source": [
    "rest_height_optimizer.reset_joint_target_with_closest_points()\n",
    "\n",
    "algorithm = umbrella_optimization.OptAlgorithm.NEWTON_CG\n",
    "#algorithm = umbrella_optimization.OptAlgorithm.BFGS\n",
    "solverStatus = umbrella_optimization.optimize(rest_height_optimizer, algorithm, 100, 0.005, 1e-5, cb, input_data[\"plate_edge_length\"] / 30 * 32)"
   ]
  },
  {
   "cell_type": "code",
   "execution_count": null,
   "id": "f6450332",
   "metadata": {},
   "outputs": [],
   "source": [
    "rest_height_optimizer.beta = 1 * 1e7\n",
    "configure_umbrella_optimization(curr_um, bdryMultiplier = 1.0)\n",
    "\n",
    "\n",
    "algorithm = umbrella_optimization.OptAlgorithm.NEWTON_CG\n",
    "solverStatus = umbrella_optimization.optimize(rest_height_optimizer, algorithm, 10000, 0.005, 1e-5, cb, input_data[\"plate_edge_length\"] / 30 * 32)"
   ]
  },
  {
   "cell_type": "code",
   "execution_count": null,
   "id": "710943f7",
   "metadata": {},
   "outputs": [],
   "source": [
    "rest_height_optimizer.beta, rest_height_optimizer.gamma, rest_height_optimizer.eta"
   ]
  },
  {
   "cell_type": "code",
   "execution_count": null,
   "id": "bc2f3dce",
   "metadata": {},
   "outputs": [],
   "source": [
    "import time\n",
    "\n",
    "from matplotlib import pyplot as plt\n",
    "doptays.plot()"
   ]
  },
  {
   "cell_type": "markdown",
   "id": "c366db49",
   "metadata": {},
   "source": [
    "### Force optimization"
   ]
  },
  {
   "cell_type": "code",
   "execution_count": null,
   "id": "487b7fb2",
   "metadata": {},
   "outputs": [],
   "source": [
    "force_analysis.UmbrellaForceAnalysis(curr_um)\n",
    "v2 = force_analysis.UmbrellaForceFieldVisualization(curr_um)\n",
    "v2.show()"
   ]
  },
  {
   "cell_type": "code",
   "execution_count": null,
   "id": "b5dff4d9",
   "metadata": {},
   "outputs": [],
   "source": [
    "optimizer = umbrella_optimization.UmbrellaOptimization(curr_um, opt_opts, 2.5, -1, False, fixedVars)\n",
    "\n",
    "optimizer.beta = 1 * 1e6\n",
    "optimizer.gamma = 1\n",
    "optimizer.eta = 0\n",
    "optimizer.zeta = 0# 1e1\n",
    "optimizer.iota = 1e10\n",
    "\n",
    "optimizer.objective.terms[-1].term.normalActivationThreshold = -0.2e-4\n",
    "optimizer.objective.terms[-1].term.normalWeight = 1\n",
    "optimizer.objective.terms[-1].term.tangentialWeight = 0\n",
    "optimizer.objective.terms[-1].term.torqueWeight = 0"
   ]
  },
  {
   "cell_type": "code",
   "execution_count": null,
   "id": "c7e01ce0",
   "metadata": {},
   "outputs": [],
   "source": [
    "allDesignObjectives(optimizer)"
   ]
  },
  {
   "cell_type": "code",
   "execution_count": null,
   "id": "76a86dea",
   "metadata": {},
   "outputs": [],
   "source": [
    "allDesignGradientNorms(optimizer)"
   ]
  },
  {
   "cell_type": "code",
   "execution_count": null,
   "id": "b7611dd8",
   "metadata": {},
   "outputs": [],
   "source": [
    "rest_height_optimizer = umbrella_optimization.UmbrellaRestHeightsOptimization(optimizer)\n",
    "single_rest_height_optimizer = umbrella_optimization.UmbrellaSingleRestHeightOptimization(rest_height_optimizer)\n",
    "\n",
    "rest_height_optimizer.newPt(rest_height_optimizer.params())\n",
    "\n",
    "original_design_parameters = rest_height_optimizer.params()\n",
    "\n",
    "doptays = DesignOptimizationAnalysis(rest_height_optimizer)\n",
    "\n",
    "import time\n",
    "pipeline_helper.prev_time_stamp = time.time()\n",
    "\n",
    "uo = rest_height_optimizer.get_parent_opt()\n",
    "\n",
    "uo.equilibriumOptimizer.options.verbose = 1\n",
    "#uo.equilibriumOptimizer.options.verboseWorkingSet = True\n",
    "uo.equilibriumOptimizer.options.gradTol = 1e-10\n",
    "# Hold the closest points fixed in the target-attraction term of the equilibrium solve:\n",
    "# this seems to make the design optimization much more robust.\n",
    "uo.setHoldClosestPointsFixed(True, False)"
   ]
  },
  {
   "cell_type": "code",
   "execution_count": null,
   "id": "77863e09",
   "metadata": {},
   "outputs": [],
   "source": [
    "tfview = pipeline_helper.TargetFittingVisualization(curr_um, uo.target_surface_fitter, view)\n",
    "cb = pipeline_helper.UmbrellaOptimizationCallback(rest_height_optimizer, view, True, False, 1, rod_colors, doptays.record, tfview=tfview)"
   ]
  },
  {
   "cell_type": "code",
   "execution_count": null,
   "id": "0ddfdf37",
   "metadata": {},
   "outputs": [],
   "source": [
    "algorithm = umbrella_optimization.OptAlgorithm.NEWTON_CG\n",
    "#algorithm = umbrella_optimization.OptAlgorithm.BFGS\n",
    "solverStatus = umbrella_optimization.optimize(rest_height_optimizer, algorithm, 1000, 0.005, 1e-5, cb, input_data[\"plate_edge_length\"] / 30 * 32)"
   ]
  },
  {
   "cell_type": "code",
   "execution_count": null,
   "id": "7f71d356",
   "metadata": {},
   "outputs": [],
   "source": [
    "rest_height_optimizer.beta, rest_height_optimizer.gamma, rest_height_optimizer.eta"
   ]
  },
  {
   "cell_type": "code",
   "execution_count": null,
   "id": "1ab59255",
   "metadata": {},
   "outputs": [],
   "source": [
    "import time\n",
    "\n",
    "from matplotlib import pyplot as plt\n",
    "doptays.plot()"
   ]
  },
  {
   "cell_type": "code",
   "execution_count": null,
   "id": "670a9e38",
   "metadata": {},
   "outputs": [],
   "source": [
    "force_analysis.UmbrellaForceAnalysis(curr_um)\n",
    "v3 = force_analysis.UmbrellaForceFieldVisualization(curr_um)\n",
    "v3.show()"
   ]
  },
  {
   "cell_type": "markdown",
   "id": "cf398167",
   "metadata": {},
   "source": [
    "### Get true equilibrium state"
   ]
  },
  {
   "cell_type": "code",
   "execution_count": null,
   "id": "280760d7",
   "metadata": {},
   "outputs": [],
   "source": [
    "curr_um.attractionWeight = 1e-5\n",
    "with so(): results = umbrella_mesh.compute_equilibrium(curr_um, callback = eqm_callback, options = OPTS, fixedVars = fixedVars, elasticEnergyIncreaseFactorLimit=2.5)\n"
   ]
  },
  {
   "cell_type": "code",
   "execution_count": null,
   "id": "9bddc7a3",
   "metadata": {
    "scrolled": true
   },
   "outputs": [],
   "source": [
    "use_pin = True\n",
    "\n",
    "driver = curr_um.centralJoint()\n",
    "jdo = curr_um.dofOffsetForJoint(driver)\n",
    "fixedVars = (list(range(jdo, jdo + 6)) if use_pin else []) + curr_um.rigidJointAngleDoFIndices()\n",
    "\n",
    "configure_umbrella_true_equlibrium(curr_um, thickness, target_height_multiplier)\n",
    "\n",
    "allEnergies(curr_um)\n",
    "\n",
    "OPTS.niter = 100\n",
    "\n",
    "results = umbrella_mesh.compute_equilibrium(curr_um, callback = eqm_callback, options = OPTS, fixedVars = fixedVars, elasticEnergyIncreaseFactorLimit=2.5)\n",
    "\n",
    "results.success"
   ]
  },
  {
   "cell_type": "code",
   "execution_count": null,
   "id": "844110df",
   "metadata": {},
   "outputs": [],
   "source": [
    "import pickle \n",
    "import gzip\n",
    "\n",
    "pickle.dump(curr_um, gzip.open('../../output/{}_optimized_equilibrium_{}_target_height_factor_{}.pkl.gz'.format(name, time.strftime(\"%Y_%m_%d_%H_%M\"), target_height_multiplier), 'w'))\n",
    "# load_um = pickle.load(gzip.open('test_pickle_um.pkl.gz', 'r'))\n",
    "\n",
    "# from load_jsondata import update_optimized_json\n",
    "# update_optimized_json(input_path, rest_height_optimizer.params(), output_json_path = '../../output/{}_optimized_params_{}.json'.format(name, time.strftime(\"%Y_%m_%d_%H_%M\")), optim_spacing_factor = target_height_multiplier)\n",
    "\n"
   ]
  },
  {
   "cell_type": "code",
   "execution_count": null,
   "id": "f9518c18",
   "metadata": {},
   "outputs": [],
   "source": [
    "from load_jsondata import write_deformed_config"
   ]
  },
  {
   "cell_type": "code",
   "execution_count": null,
   "id": "62c5b14b",
   "metadata": {},
   "outputs": [],
   "source": [
    "write_deformed_config(curr_um, input_path, output_path = '../../output/{}_optimized_rendering_output_{}.json.gz'.format(name, time.strftime(\"%Y_%m_%d_%H_%M\"), write_stress = False, is_rest_state = False))"
   ]
  },
  {
   "cell_type": "code",
   "execution_count": null,
   "id": "0381091e",
   "metadata": {},
   "outputs": [],
   "source": [
    "allDesignObjectives(optimizer)"
   ]
  },
  {
   "cell_type": "code",
   "execution_count": null,
   "id": "9835e440",
   "metadata": {},
   "outputs": [],
   "source": [
    "import force_vector_visualization_helper\n",
    "importlib.reload(force_vector_visualization_helper)"
   ]
  },
  {
   "cell_type": "code",
   "execution_count": null,
   "id": "391cbbee",
   "metadata": {},
   "outputs": [],
   "source": [
    "force_vector_visualization_helper.write_force_vector_visualization_file(['../../output/igloo_optimized_equilibrium_2022_01_24_16_10_target_height_factor_5.0.pkl.gz', '../../output/igloo_input_equilibrium_2022_01_20_14_49_target_height_factor_5.0.pkl.gz'], ['igloo_optimized', 'igloo_input'])"
   ]
  },
  {
   "cell_type": "code",
   "execution_count": null,
   "id": "8c5902c7",
   "metadata": {},
   "outputs": [],
   "source": [
    "input_igloo = pickle.load(gzip.open('../../output/igloo_input_equilibrium_2022_01_20_14_49_target_height_factor_5.0.pkl.gz', 'r'))"
   ]
  },
  {
   "cell_type": "code",
   "execution_count": null,
   "id": "18132a3b",
   "metadata": {},
   "outputs": [],
   "source": [
    "force_analysis.UmbrellaForceAnalysis(input_igloo)\n",
    "v4 = force_analysis.UmbrellaForceFieldVisualization(input_igloo)\n",
    "v4.show()"
   ]
  },
  {
   "cell_type": "markdown",
   "id": "ddef4f30",
   "metadata": {},
   "source": [
    "### Stress Optimization"
   ]
  },
  {
   "cell_type": "code",
   "execution_count": null,
   "id": "d9004e76",
   "metadata": {},
   "outputs": [],
   "source": [
    "configure_umbrella_optimization(curr_um, bdryMultiplier = 0.0)"
   ]
  },
  {
   "cell_type": "code",
   "execution_count": null,
   "id": "b4f67691",
   "metadata": {},
   "outputs": [],
   "source": [
    "optimizer = umbrella_optimization.UmbrellaOptimization(curr_um, opt_opts, 2.5, -1, False, fixedVars)\n",
    "\n",
    "optimizer.beta = 1 * 1e6\n",
    "optimizer.gamma = 1\n",
    "optimizer.eta = 0\n",
    "optimizer.zeta = 1e2# 1e1\n",
    "optimizer.iota = 1e10\n",
    "\n",
    "optimizer.objective.terms[-1].term.normalActivationThreshold = -0.2e-4\n",
    "optimizer.objective.terms[-1].term.normalWeight = 1\n",
    "optimizer.objective.terms[-1].term.tangentialWeight = 0\n",
    "optimizer.objective.terms[-1].term.torqueWeight = 0"
   ]
  },
  {
   "cell_type": "code",
   "execution_count": null,
   "id": "9540f060",
   "metadata": {},
   "outputs": [],
   "source": [
    "allDesignObjectives(optimizer)"
   ]
  },
  {
   "cell_type": "code",
   "execution_count": null,
   "id": "75cccc22",
   "metadata": {},
   "outputs": [],
   "source": [
    "allDesignGradientNorms(optimizer)"
   ]
  },
  {
   "cell_type": "code",
   "execution_count": null,
   "id": "41d7d9a5",
   "metadata": {},
   "outputs": [],
   "source": [
    "rest_height_optimizer = umbrella_optimization.UmbrellaRestHeightsOptimization(optimizer)\n",
    "single_rest_height_optimizer = umbrella_optimization.UmbrellaSingleRestHeightOptimization(rest_height_optimizer)\n",
    "\n",
    "rest_height_optimizer.newPt(rest_height_optimizer.params())\n",
    "\n",
    "original_design_parameters = rest_height_optimizer.params()\n",
    "\n",
    "doptays = DesignOptimizationAnalysis(rest_height_optimizer)\n",
    "\n",
    "import time\n",
    "pipeline_helper.prev_time_stamp = time.time()\n",
    "\n",
    "uo = rest_height_optimizer.get_parent_opt()\n",
    "\n",
    "uo.equilibriumOptimizer.options.verbose = 1\n",
    "#uo.equilibriumOptimizer.options.verboseWorkingSet = True\n",
    "uo.equilibriumOptimizer.options.gradTol = 1e-10\n",
    "# Hold the closest points fixed in the target-attraction term of the equilibrium solve:\n",
    "# this seems to make the design optimization much more robust.\n",
    "uo.setHoldClosestPointsFixed(True, False)"
   ]
  },
  {
   "cell_type": "code",
   "execution_count": null,
   "id": "af8ae3ed",
   "metadata": {},
   "outputs": [],
   "source": [
    "tfview = pipeline_helper.TargetFittingVisualization(curr_um, uo.target_surface_fitter, view)\n",
    "cb = pipeline_helper.UmbrellaOptimizationCallback(rest_height_optimizer, view, True, False, 1, rod_colors, doptays.record, tfview=tfview)"
   ]
  },
  {
   "cell_type": "code",
   "execution_count": null,
   "id": "b289a3a2",
   "metadata": {},
   "outputs": [],
   "source": [
    "algorithm = umbrella_optimization.OptAlgorithm.NEWTON_CG\n",
    "#algorithm = umbrella_optimization.OptAlgorithm.BFGS\n",
    "solverStatus = umbrella_optimization.optimize(rest_height_optimizer, algorithm, 1000, 0.005, 1e-5, cb, input_data[\"plate_edge_length\"] / 30 * 32)"
   ]
  },
  {
   "cell_type": "code",
   "execution_count": null,
   "id": "3d52aa2a",
   "metadata": {},
   "outputs": [],
   "source": [
    "rest_height_optimizer.beta, rest_height_optimizer.gamma, rest_height_optimizer.eta"
   ]
  },
  {
   "cell_type": "code",
   "execution_count": null,
   "id": "32486872",
   "metadata": {},
   "outputs": [],
   "source": [
    "import time\n",
    "\n",
    "from matplotlib import pyplot as plt\n",
    "doptays.plot()"
   ]
  },
  {
   "cell_type": "markdown",
   "id": "94648a8f",
   "metadata": {},
   "source": [
    "#### Stress visualization "
   ]
  },
  {
   "cell_type": "code",
   "execution_count": null,
   "id": "f809d435",
   "metadata": {},
   "outputs": [],
   "source": [
    "import importlib\n",
    "import stress_analysis\n",
    "importlib.reload(stress_analysis)\n",
    "stress_vis = stress_analysis.stressFieldVisualization(curr_um, target_mesh)\n",
    "stress_vis.showInitial()"
   ]
  },
  {
   "cell_type": "code",
   "execution_count": null,
   "id": "2da21859",
   "metadata": {},
   "outputs": [],
   "source": [
    "importlib.reload(stress_analysis)\n",
    "stress_analysis.plotStressDistributions([curr_um, input_igloo], ['Optimized with zeta = 1e2', 'Initial'], stress_vis.vmin, stress_vis.vmax)"
   ]
  },
  {
   "cell_type": "markdown",
   "id": "e92c8762",
   "metadata": {},
   "source": [
    "### Undeployment"
   ]
  },
  {
   "cell_type": "code",
   "execution_count": null,
   "id": "1b2b4359",
   "metadata": {},
   "outputs": [],
   "source": [
    "configure_umbrella_undeployment_step_one(curr_um, thickness, target_height_multiplier)"
   ]
  },
  {
   "cell_type": "code",
   "execution_count": null,
   "id": "dc869aeb",
   "metadata": {},
   "outputs": [],
   "source": [
    "allEnergies(curr_um)"
   ]
  },
  {
   "cell_type": "code",
   "execution_count": null,
   "id": "20fe8ae5",
   "metadata": {},
   "outputs": [],
   "source": [
    "OPTS.niter = 10"
   ]
  },
  {
   "cell_type": "code",
   "execution_count": null,
   "id": "4cff538c",
   "metadata": {
    "scrolled": true
   },
   "outputs": [],
   "source": [
    "results = umbrella_mesh.compute_equilibrium(curr_um, callback = eqm_callback, options = OPTS, fixedVars = fixedVars, elasticEnergyIncreaseFactorLimit=2.5)\n",
    "results.success"
   ]
  },
  {
   "cell_type": "code",
   "execution_count": null,
   "id": "0d335180",
   "metadata": {},
   "outputs": [],
   "source": [
    "configure_umbrella_undeployment_step_two(curr_um)"
   ]
  },
  {
   "cell_type": "code",
   "execution_count": null,
   "id": "b6e5e4ca",
   "metadata": {},
   "outputs": [],
   "source": [
    "allEnergies(curr_um)"
   ]
  },
  {
   "cell_type": "code",
   "execution_count": null,
   "id": "8417f633",
   "metadata": {},
   "outputs": [],
   "source": [
    "OPTS.niter = 500"
   ]
  },
  {
   "cell_type": "code",
   "execution_count": null,
   "id": "f79b7038",
   "metadata": {
    "scrolled": true
   },
   "outputs": [],
   "source": [
    "results = umbrella_mesh.compute_equilibrium(curr_um, callback = eqm_callback, options = OPTS, fixedVars = fixedVars, elasticEnergyIncreaseFactorLimit=2.5)\n",
    "results.success"
   ]
  },
  {
   "cell_type": "code",
   "execution_count": null,
   "id": "bc3ccbd9",
   "metadata": {},
   "outputs": [],
   "source": [
    "import pickle \n",
    "import gzip\n",
    "\n",
    "pickle.dump(curr_um, gzip.open('../../output/{}_optimized_rest_state_equilibrium_{}_target_height_factor_{}.pkl.gz'.format(name, time.strftime(\"%Y_%m_%d_%H_%M\"), target_height_multiplier), 'w'))\n",
    "\n",
    "write_deformed_config(curr_um, input_path, output_path = '../../output/{}_optimized_rest_state_rendering_output_{}.json.gz'.format(name, time.strftime(\"%Y_%m_%d_%H_%M\"), write_stress = False, is_rest_state = False))"
   ]
  }
 ],
 "metadata": {
  "kernelspec": {
   "display_name": "umbrella_mesh",
   "language": "python",
   "name": "umbrella_mesh"
  },
  "language_info": {
   "codemirror_mode": {
    "name": "ipython",
    "version": 3
   },
   "file_extension": ".py",
   "mimetype": "text/x-python",
   "name": "python",
   "nbconvert_exporter": "python",
   "pygments_lexer": "ipython3",
   "version": "3.9.7"
  }
 },
 "nbformat": 4,
 "nbformat_minor": 5
}
