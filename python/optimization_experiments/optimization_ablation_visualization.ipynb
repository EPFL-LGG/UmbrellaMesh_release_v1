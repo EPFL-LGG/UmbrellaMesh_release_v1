{
 "cells": [
  {
   "cell_type": "code",
   "execution_count": null,
   "id": "3ec937c6",
   "metadata": {},
   "outputs": [],
   "source": [
    "#!/usr/bin/env python\n",
    "# coding: utf-8\n",
    "import sys\n",
    "sys.path.append('..')\n",
    "import umbrella_mesh\n",
    "import elastic_rods\n",
    "import linkage_vis\n",
    "from umbrella_mesh import UmbrellaEnergyType\n",
    "from bending_validation import suppress_stdout as so\n",
    "from visualization_helper import *\n",
    "\n",
    "import pipeline_helper, importlib, design_optimization_analysis\n",
    "with so(): importlib.reload(pipeline_helper)\n",
    "with so(): importlib.reload(design_optimization_analysis)\n",
    "\n",
    "from pipeline_helper import UmbrellaOptimizationCallback, allEnergies, allGradientNorms, allDesignObjectives, allDesignGradientNorms, set_joint_vector_field, show_center_joint_normal, show_joint_normal\n",
    "\n",
    "from design_optimization_analysis import DesignOptimizationAnalysis\n",
    "\n",
    "import umbrella_optimization\n",
    "import umbrella_optimization_finite_diff\n",
    "from umbrella_optimization import OptEnergyType\n",
    "\n",
    "import numpy as np\n",
    "import numpy.linalg as la\n",
    "\n",
    "import pickle, gzip\n",
    "\n",
    "from configuration import *\n",
    "\n",
    "import parallelism\n",
    "parallelism.set_max_num_tbb_threads(24)\n",
    "parallelism.set_hessian_assembly_num_threads(8)\n",
    "parallelism.set_gradient_assembly_num_threads(8)"
   ]
  },
  {
   "cell_type": "markdown",
   "id": "d6bd197c",
   "metadata": {},
   "source": [
    "### Initialization"
   ]
  },
  {
   "cell_type": "code",
   "execution_count": null,
   "id": "dbc30c8b",
   "metadata": {},
   "outputs": [],
   "source": [
    "name = 'hive'\n",
    "input_path = '../../data/{}.json.gz'.format(name)\n",
    "\n",
    "io, input_data, target_mesh, curr_um, thickness, target_height_multiplier = parse_input(input_path, handleBoundary=True, handlePivots = True)"
   ]
  },
  {
   "cell_type": "markdown",
   "id": "213f6aeb",
   "metadata": {},
   "source": [
    "#### Pin Rigid Motion"
   ]
  },
  {
   "cell_type": "code",
   "execution_count": null,
   "id": "5d65bcb8",
   "metadata": {},
   "outputs": [],
   "source": [
    "import py_newton_optimizer\n",
    "OPTS = py_newton_optimizer.NewtonOptimizerOptions()\n",
    "OPTS.gradTol = 1e-8\n",
    "OPTS.verbose = 1\n",
    "OPTS.beta = 1e-6\n",
    "OPTS.niter = 300\n",
    "OPTS.verboseNonPosDef = False\n",
    "\n",
    "rod_colors = get_color_field(curr_um, input_data)"
   ]
  },
  {
   "cell_type": "markdown",
   "id": "2f6b51d6",
   "metadata": {},
   "source": [
    "### Load Optimized Model"
   ]
  },
  {
   "cell_type": "markdown",
   "id": "12c1d1bb",
   "metadata": {},
   "source": [
    "### Initialize Design Optimization"
   ]
  },
  {
   "cell_type": "code",
   "execution_count": null,
   "id": "58d176f2",
   "metadata": {
    "scrolled": true
   },
   "outputs": [],
   "source": [
    "import py_newton_optimizer\n",
    "opt_opts = py_newton_optimizer.NewtonOptimizerOptions()\n",
    "opt_opts.gradTol = 1e-8\n",
    "opt_opts.verbose = 10\n",
    "opt_opts.beta = 1e-6\n",
    "opt_opts.niter = 600\n",
    "opt_opts.verboseNonPosDef = False"
   ]
  },
  {
   "cell_type": "markdown",
   "id": "eb9bf321",
   "metadata": {},
   "source": [
    "### Load TSF optimized model"
   ]
  },
  {
   "cell_type": "code",
   "execution_count": null,
   "id": "c6d311dc",
   "metadata": {},
   "outputs": [],
   "source": [
    "curr_um = pickle.load(gzip.open(\"2022_05_02_11_35_hive/hive_\", 'r'))"
   ]
  },
  {
   "cell_type": "code",
   "execution_count": null,
   "id": "e78d9c7c",
   "metadata": {},
   "outputs": [],
   "source": [
    "use_pin = False\n",
    "\n",
    "driver = curr_um.centralJoint()\n",
    "jdo = curr_um.dofOffsetForJoint(driver)\n",
    "fixedVars = (list(range(jdo, jdo + 6)) if use_pin else []) + curr_um.rigidJointAngleDoFIndices()"
   ]
  },
  {
   "cell_type": "code",
   "execution_count": null,
   "id": "31b6b332",
   "metadata": {},
   "outputs": [],
   "source": [
    "# optimizer = umbrella_optimization.UmbrellaOptimization(curr_um, opt_opts, 2.5, -1, False, fixedVars)\n",
    "\n",
    "# optimizer.beta = 1 * 1e6\n",
    "# optimizer.gamma = 1\n",
    "# optimizer.eta = 0\n",
    "# optimizer.zeta = 0# 1e1\n",
    "# optimizer.iota = 0\n",
    "\n",
    "# optimizer.objective.terms[-1].term.normalActivationThreshold = -1e-5\n",
    "\n",
    "optimizer = umbrella_optimization.UmbrellaOptimization(curr_um, opt_opts, 2.5, -1, False, fixedVars)\n",
    "\n",
    "optimizer.beta = 1 * 1e6\n",
    "optimizer.gamma = 1\n",
    "optimizer.eta = 0\n",
    "optimizer.zeta = 0# 1e1\n",
    "optimizer.iota = 1e9\n",
    "\n",
    "optimizer.objective.terms[-1].term.normalActivationThreshold = -1e-6\n",
    "optimizer.objective.terms[-1].term.normalWeight = 1\n",
    "optimizer.objective.terms[-1].term.tangentialWeight = 0\n",
    "optimizer.objective.terms[-1].term.torqueWeight = 0"
   ]
  },
  {
   "cell_type": "code",
   "execution_count": null,
   "id": "d09da26e",
   "metadata": {},
   "outputs": [],
   "source": [
    "allDesignObjectives(optimizer)"
   ]
  },
  {
   "cell_type": "code",
   "execution_count": null,
   "id": "e69ecfce",
   "metadata": {},
   "outputs": [],
   "source": [
    "import mesh\n",
    "view = linkage_vis.LinkageViewerWithSurface(curr_um, target_mesh, width=1024, height=600)\n",
    "set_surface_view_options(view, color = 'green', surface_color = 'gray', umbrella_transparent = False, surface_transparent = True)\n",
    "view.averagedMaterialFrames = True\n",
    "view.showScalarField(rod_colors)\n",
    "view.show()"
   ]
  },
  {
   "cell_type": "code",
   "execution_count": null,
   "id": "e386f12b",
   "metadata": {},
   "outputs": [],
   "source": [
    "camParams = view.getCameraParams()"
   ]
  },
  {
   "cell_type": "code",
   "execution_count": null,
   "id": "171c992a",
   "metadata": {},
   "outputs": [],
   "source": [
    "from equilibrium_solve_analysis import EquilibriumSolveAnalysis\n",
    "eqays = EquilibriumSolveAnalysis(curr_um)\n",
    "def eqm_callback(prob, i):\n",
    "    eqays.record(prob)\n",
    "    if (i % 2 == 0):\n",
    "        view.showScalarField(rod_colors)"
   ]
  },
  {
   "cell_type": "code",
   "execution_count": null,
   "id": "1c188350",
   "metadata": {},
   "outputs": [],
   "source": [
    "configure_umbrella_true_equlibrium(curr_um, thickness, target_height_multiplier)\n",
    "curr_um.attractionWeight = 1e-16\n",
    "with so(): results = umbrella_mesh.compute_equilibrium(curr_um, callback = eqm_callback, options = OPTS, fixedVars = fixedVars, elasticEnergyIncreaseFactorLimit=2.5)\n",
    "results.success"
   ]
  },
  {
   "cell_type": "markdown",
   "id": "0a352d6e",
   "metadata": {},
   "source": [
    "### Load force optimized model"
   ]
  },
  {
   "cell_type": "code",
   "execution_count": null,
   "id": "2f813d78",
   "metadata": {},
   "outputs": [],
   "source": [
    "curr_um = pickle.load(gzip.open(\"2022_05_02_11_08_lilium_smooth/lilium_smooth_tsf+force_equilibrium_2022_05_02_11_08_target_height_factor_5.0.pkl.gz\", 'r'))"
   ]
  },
  {
   "cell_type": "code",
   "execution_count": null,
   "id": "ebdc17c9",
   "metadata": {},
   "outputs": [],
   "source": [
    "use_pin = False\n",
    "\n",
    "driver = curr_um.centralJoint()\n",
    "jdo = curr_um.dofOffsetForJoint(driver)\n",
    "fixedVars = (list(range(jdo, jdo + 6)) if use_pin else []) + curr_um.rigidJointAngleDoFIndices()"
   ]
  },
  {
   "cell_type": "code",
   "execution_count": null,
   "id": "096fb649",
   "metadata": {},
   "outputs": [],
   "source": [
    "optimizer = umbrella_optimization.UmbrellaOptimization(curr_um, opt_opts, 2.5, -1, False, fixedVars)\n",
    "\n",
    "optimizer.beta = 1 * 1e6\n",
    "optimizer.gamma = 1\n",
    "optimizer.eta = 0\n",
    "optimizer.zeta = 0# 1e1\n",
    "optimizer.iota = 1e9\n",
    "\n",
    "optimizer.objective.terms[-1].term.normalActivationThreshold = -1e-6\n",
    "optimizer.objective.terms[-1].term.normalWeight = 1\n",
    "optimizer.objective.terms[-1].term.tangentialWeight = 0\n",
    "optimizer.objective.terms[-1].term.torqueWeight = 0"
   ]
  },
  {
   "cell_type": "code",
   "execution_count": null,
   "id": "a444ceb3",
   "metadata": {},
   "outputs": [],
   "source": [
    "allDesignObjectives(optimizer)"
   ]
  },
  {
   "cell_type": "code",
   "execution_count": null,
   "id": "4a2fbc06",
   "metadata": {},
   "outputs": [],
   "source": [
    "import mesh\n",
    "view = linkage_vis.LinkageViewerWithSurface(curr_um, target_mesh, width=1024, height=600)\n",
    "set_surface_view_options(view, color = 'green', surface_color = 'gray', umbrella_transparent = False, surface_transparent = True)\n",
    "view.averagedMaterialFrames = True\n",
    "view.showScalarField(rod_colors)\n",
    "view.show()"
   ]
  },
  {
   "cell_type": "code",
   "execution_count": null,
   "id": "ca0c50b3",
   "metadata": {},
   "outputs": [],
   "source": [
    "from equilibrium_solve_analysis import EquilibriumSolveAnalysis\n",
    "eqays = EquilibriumSolveAnalysis(curr_um)\n",
    "def eqm_callback(prob, i):\n",
    "    eqays.record(prob)\n",
    "    if (i % 2 == 0):\n",
    "        view.showScalarField(rod_colors)"
   ]
  },
  {
   "cell_type": "code",
   "execution_count": null,
   "id": "5723bc24",
   "metadata": {},
   "outputs": [],
   "source": [
    "curr_um.attractionWeight = 1e-7\n",
    "with so(): results = umbrella_mesh.compute_equilibrium(curr_um, callback = eqm_callback, options = OPTS, fixedVars = fixedVars, elasticEnergyIncreaseFactorLimit=2.5)\n",
    "results.success"
   ]
  },
  {
   "cell_type": "code",
   "execution_count": null,
   "id": "183fcb89",
   "metadata": {},
   "outputs": [],
   "source": [
    "view.setCameraParams(camParams)"
   ]
  },
  {
   "cell_type": "code",
   "execution_count": null,
   "id": "ce969bc8",
   "metadata": {},
   "outputs": [],
   "source": [
    "import force_analysis\n",
    "with so(): importlib.reload(force_analysis)"
   ]
  },
  {
   "cell_type": "code",
   "execution_count": null,
   "id": "7ccc9056",
   "metadata": {},
   "outputs": [],
   "source": [
    "force_analysis.UmbrellaForceAnalysis(curr_um)\n",
    "v1 = force_analysis.UmbrellaForceFieldVisualization(curr_um)\n",
    "v1.show()"
   ]
  },
  {
   "cell_type": "markdown",
   "id": "91db24f1",
   "metadata": {},
   "source": [
    "### Visualize the ablation result"
   ]
  },
  {
   "cell_type": "code",
   "execution_count": null,
   "id": "7c1fb2aa",
   "metadata": {},
   "outputs": [],
   "source": [
    "file_name = \"2022_05_02_00_38_hemisphere_5t/hemisphere_5t_log_hemisphere_5t.txt\""
   ]
  },
  {
   "cell_type": "code",
   "execution_count": null,
   "id": "c5923293",
   "metadata": {},
   "outputs": [],
   "source": [
    "import matplotlib.pyplot as plt\n",
    "import re\n",
    "# Prepare table\n",
    "columns = ('Objective Types', 'Elastic Energy', 'TSF', 'Forces')\n",
    "rows = [\"TSF only\", \"TSF + Energy\", \"TSF + Energy + Forces\", \"TSF + Forces\"]\n",
    "highlight = \"#D9E76C\"\n",
    "colors = [[\"w\", \"w\", highlight ,\"w\"],\n",
    "          [\"w\", highlight, highlight ,\"w\"],\n",
    "          [\"w\", highlight, highlight ,highlight], \n",
    "          [\"w\", \"w\", highlight ,highlight]]\n",
    "\n",
    "\n",
    "cell_text = []\n",
    "\n",
    "with open(file_name, 'r') as f:\n",
    "    content = f.readlines()\n",
    "    row_counter = 0\n",
    "    for line in content:\n",
    "        if \"Optimization objective\" in line:\n",
    "            values = re.split(\": |, \", line)\n",
    "            row_value = [rows[row_counter], np.round(float(values[4]), 6), np.round(float(values[8]), 6), np.round(float(values[10]), 6)]\n",
    "            cell_text.append(row_value)\n",
    "            row_counter += 1\n",
    "\n",
    "fig, ax = plt.subplots()\n",
    "ax.axis('tight')\n",
    "ax.axis('off')\n",
    "table = ax.table(cellText=cell_text,cellColours=colors,\n",
    "                     colLabels=columns,loc='center')\n",
    "table.auto_set_font_size(False)\n",
    "table.set_fontsize(18)\n",
    "table.scale(4, 4)\n",
    "plt.show()"
   ]
  },
  {
   "cell_type": "code",
   "execution_count": null,
   "id": "c2e31519",
   "metadata": {},
   "outputs": [],
   "source": [
    "initial_umbrella = pickle.load(gzip.open(\"2022_05_01_23_50_lilium_smooth_new_10t/lilium_smooth_new_10t_tsf_only_equilibrium_2022_05_01_23_50_target_height_factor_10.0.pkl.gz\"))"
   ]
  },
  {
   "cell_type": "code",
   "execution_count": null,
   "id": "df753724",
   "metadata": {},
   "outputs": [],
   "source": [
    "import importlib\n",
    "import stress_analysis\n",
    "importlib.reload(stress_analysis)\n",
    "stress_vis = stress_analysis.stressFieldVisualization(initial_umbrella, target_mesh)\n",
    "stress_vis.showInitial()"
   ]
  },
  {
   "cell_type": "code",
   "execution_count": null,
   "id": "5359025c",
   "metadata": {},
   "outputs": [],
   "source": [
    "optimView1 = stress_vis.getView(curr_um)\n",
    "from ipywidgets import HBox\n",
    "HBox([stress_vis.initialView.show(), optimView1.show()])"
   ]
  },
  {
   "cell_type": "code",
   "execution_count": null,
   "id": "da17a3c4",
   "metadata": {},
   "outputs": [],
   "source": [
    "second_umbrella = pickle.load(gzip.open(\"2022_05_01_23_50_lilium_smooth_new_10t/lilium_smooth_new_10t_tsf+energy_equilibrium_2022_05_01_23_50_target_height_factor_10.0.pkl.gz\"))"
   ]
  },
  {
   "cell_type": "code",
   "execution_count": null,
   "id": "db402817",
   "metadata": {},
   "outputs": [],
   "source": [
    "importlib.reload(stress_analysis)\n",
    "stress_analysis.plotStressDistributions([initial_umbrella, curr_um, second_umbrella], ['Initial_Deployment', 'Optimized with zeta = 1e3', \"tsf + energy\"], stress_vis.vmin, stress_vis.vmax)"
   ]
  },
  {
   "cell_type": "markdown",
   "id": "98116516",
   "metadata": {},
   "source": [
    "### Continue the optimization"
   ]
  },
  {
   "cell_type": "code",
   "execution_count": null,
   "id": "68d5fcb4",
   "metadata": {},
   "outputs": [],
   "source": [
    "curr_um.attractionWeight"
   ]
  },
  {
   "cell_type": "code",
   "execution_count": null,
   "id": "4f455316",
   "metadata": {},
   "outputs": [],
   "source": [
    "import time\n",
    "### Optimization\n",
    "algorithm = umbrella_optimization.OptAlgorithm.NEWTON_CG\n",
    "#algorithm = umbrella_optimization.OptAlgorithm.BFGS\n",
    "arm_length_lower_bound = input_data[\"plate_edge_length\"] / 30 * 32\n"
   ]
  },
  {
   "cell_type": "code",
   "execution_count": null,
   "id": "03238564",
   "metadata": {},
   "outputs": [],
   "source": [
    "opt_opts.niter = 50\n",
    "\n",
    "optimizer = umbrella_optimization.UmbrellaOptimization(curr_um, opt_opts, 2.5, -1, False, fixedVars)\n",
    "rest_height_optimizer = umbrella_optimization.UmbrellaRestHeightsOptimization(optimizer)\n",
    "rest_height_optimizer.newPt(rest_height_optimizer.params())\n",
    "\n",
    "rest_height_optimizer.beta = 1e6\n",
    "rest_height_optimizer.gamma = 1\n",
    "rest_height_optimizer.eta = 0\n",
    "rest_height_optimizer.zeta = 0# 1e1\n",
    "rest_height_optimizer.iota = 0\n",
    "\n",
    "\n",
    "doptays = DesignOptimizationAnalysis(rest_height_optimizer)\n",
    "\n",
    "pipeline_helper.prev_time_stamp = time.time()\n",
    "\n",
    "uo = rest_height_optimizer.get_parent_opt()\n",
    "\n",
    "uo.equilibriumOptimizer.options.verbose = 1\n",
    "#uo.equilibriumOptimizer.options.verboseWorkingSet = True\n",
    "uo.equilibriumOptimizer.options.gradTol = 1e-10\n",
    "# Hold the closest points fixed in the target-attraction term of the equilibrium solve:\n",
    "# this seems to make the design optimization much more robust.\n",
    "uo.setHoldClosestPointsFixed(True, False)\n",
    "\n",
    "tfview = pipeline_helper.TargetFittingVisualization(curr_um, uo.target_surface_fitter, view)\n",
    "cb = pipeline_helper.UmbrellaOptimizationCallback(rest_height_optimizer, view, True, False, 1, rod_colors, doptays.record, tfview=tfview)\n",
    "\n",
    "solverStatus = umbrella_optimization.optimize(rest_height_optimizer, algorithm, 500, 0.005, 1e-5, cb, arm_length_lower_bound)"
   ]
  },
  {
   "cell_type": "code",
   "execution_count": null,
   "id": "8b9dd64b",
   "metadata": {},
   "outputs": [],
   "source": [
    "rest_height_optimizer.iota = 1e10"
   ]
  },
  {
   "cell_type": "code",
   "execution_count": null,
   "id": "55e5c0ff",
   "metadata": {},
   "outputs": [],
   "source": [
    "allDesignObjectives(rest_height_optimizer)"
   ]
  },
  {
   "cell_type": "code",
   "execution_count": null,
   "id": "50f9a9ba",
   "metadata": {},
   "outputs": [],
   "source": [
    "pickle.dump(curr_um, gzip.open(\"2022_05_01_16_11_hive/hive_tsf+energy_after_all_term_equilibrium_2022_05_01_16_11_target_height_factor_5.0.pkl.gz\", 'w'))"
   ]
  },
  {
   "cell_type": "code",
   "execution_count": null,
   "id": "60e4ed9b",
   "metadata": {},
   "outputs": [],
   "source": [
    "with open(\"2022_05_01_16_11_hive/hive_tsf+energy_after_all_term_log.txt\", \"w\") as f:\n",
    "    f.write(\"Optimization objective with constant weight: {}\\n\".format(allDesignObjectives(rest_height_optimizer)))"
   ]
  },
  {
   "cell_type": "code",
   "execution_count": null,
   "id": "bd5b7ddb",
   "metadata": {},
   "outputs": [],
   "source": []
  }
 ],
 "metadata": {
  "kernelspec": {
   "display_name": "umbrella_mesh",
   "language": "python",
   "name": "umbrella_mesh"
  },
  "language_info": {
   "codemirror_mode": {
    "name": "ipython",
    "version": 3
   },
   "file_extension": ".py",
   "mimetype": "text/x-python",
   "name": "python",
   "nbconvert_exporter": "python",
   "pygments_lexer": "ipython3",
   "version": "3.9.7"
  }
 },
 "nbformat": 4,
 "nbformat_minor": 5
}
