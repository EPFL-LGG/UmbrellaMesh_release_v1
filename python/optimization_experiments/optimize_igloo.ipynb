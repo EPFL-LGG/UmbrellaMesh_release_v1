{
 "cells": [
  {
   "cell_type": "code",
   "execution_count": null,
   "id": "b9bb19f5",
   "metadata": {},
   "outputs": [],
   "source": [
    "import sys\n",
    "sys.path.append('..')\n",
    "import umbrella_mesh\n",
    "import elastic_rods\n",
    "import linkage_vis\n",
    "from umbrella_mesh import UmbrellaEnergyType\n",
    "from bending_validation import suppress_stdout as so\n",
    "from visualization_helper import *\n",
    "import importlib, pipeline_helper"
   ]
  },
  {
   "cell_type": "code",
   "execution_count": null,
   "id": "6db497d4",
   "metadata": {},
   "outputs": [],
   "source": [
    "importlib.reload(pipeline_helper)\n",
    "from pipeline_helper import allEnergies, allGradientNorms, allDesignObjectives, allDesignGradientNorms"
   ]
  },
  {
   "cell_type": "code",
   "execution_count": null,
   "id": "38e61999",
   "metadata": {},
   "outputs": [],
   "source": [
    "import numpy as np\n",
    "import numpy.linalg as la"
   ]
  },
  {
   "cell_type": "code",
   "execution_count": null,
   "id": "d6496549",
   "metadata": {},
   "outputs": [],
   "source": [
    "import pickle, gzip"
   ]
  },
  {
   "cell_type": "markdown",
   "id": "114c5545",
   "metadata": {},
   "source": [
    "### Initial Deployment"
   ]
  },
  {
   "cell_type": "code",
   "execution_count": null,
   "id": "624eeba6",
   "metadata": {},
   "outputs": [],
   "source": [
    "name = 'igloo'"
   ]
  },
  {
   "cell_type": "code",
   "execution_count": null,
   "id": "6fff9341",
   "metadata": {},
   "outputs": [],
   "source": [
    "input_path = '../../data/{}.json'.format(name)"
   ]
  },
  {
   "cell_type": "code",
   "execution_count": null,
   "id": "e10ed657",
   "metadata": {},
   "outputs": [],
   "source": [
    "from load_jsondata import read_data\n",
    "input_data, io = read_data(filepath = input_path)\n",
    "import mesh\n",
    "target_mesh = mesh.Mesh(input_data['target_v'], input_data['target_f'])"
   ]
  },
  {
   "cell_type": "code",
   "execution_count": null,
   "id": "e1d67bea",
   "metadata": {},
   "outputs": [],
   "source": [
    "curr_um = umbrella_mesh.UmbrellaMesh(io)\n",
    "thickness = io.material_params[6]"
   ]
  },
  {
   "cell_type": "code",
   "execution_count": null,
   "id": "1d933c89",
   "metadata": {},
   "outputs": [],
   "source": [
    "curr_um.energy(UmbrellaEnergyType.Full)"
   ]
  },
  {
   "cell_type": "code",
   "execution_count": null,
   "id": "64266d34",
   "metadata": {},
   "outputs": [],
   "source": [
    "target_height_multiplier = input_data['target_spacing_factor']"
   ]
  },
  {
   "cell_type": "markdown",
   "id": "da6d6383",
   "metadata": {},
   "source": [
    "#### Pin Rigid Motion\n",
    "\n"
   ]
  },
  {
   "cell_type": "code",
   "execution_count": null,
   "id": "b9f5658f",
   "metadata": {},
   "outputs": [],
   "source": [
    "use_pin = False"
   ]
  },
  {
   "cell_type": "code",
   "execution_count": null,
   "id": "5b36cd1e",
   "metadata": {},
   "outputs": [],
   "source": [
    "driver = curr_um.centralJoint()\n",
    "jdo = curr_um.dofOffsetForJoint(driver)\n",
    "fixedVars = (list(range(jdo, jdo + 6)) if use_pin else []) + curr_um.rigidJointAngleDoFIndices()"
   ]
  },
  {
   "cell_type": "code",
   "execution_count": null,
   "id": "a3ab2aa5",
   "metadata": {},
   "outputs": [],
   "source": [
    "import py_newton_optimizer\n",
    "OPTS = py_newton_optimizer.NewtonOptimizerOptions()\n",
    "OPTS.gradTol = 1e-8\n",
    "OPTS.verbose = 1\n",
    "OPTS.beta = 1e-6\n",
    "OPTS.niter = 300\n",
    "OPTS.verboseNonPosDef = False"
   ]
  },
  {
   "cell_type": "code",
   "execution_count": null,
   "id": "0c81b126",
   "metadata": {},
   "outputs": [],
   "source": [
    "rod_colors = get_color_field(curr_um, input_data)"
   ]
  },
  {
   "cell_type": "code",
   "execution_count": null,
   "id": "474d6458",
   "metadata": {},
   "outputs": [],
   "source": [
    "view = linkage_vis.LinkageViewer(curr_um, width=1024, height=600)\n",
    "view.update(scalarField = rod_colors)\n",
    "view.show()"
   ]
  },
  {
   "cell_type": "code",
   "execution_count": null,
   "id": "754c5081",
   "metadata": {},
   "outputs": [],
   "source": [
    "import mesh\n",
    "view = linkage_vis.LinkageViewerWithSurface(curr_um, target_mesh, width=1024, height=600)\n",
    "set_surface_view_options(view, color = 'green', surface_color = 'gray', umbrella_transparent = False, surface_transparent = True)\n",
    "view.averagedMaterialFrames = True\n",
    "view.showScalarField(rod_colors)\n",
    "view.show()"
   ]
  },
  {
   "cell_type": "code",
   "execution_count": null,
   "id": "57134ce9",
   "metadata": {},
   "outputs": [],
   "source": [
    "allEnergies(curr_um)"
   ]
  },
  {
   "cell_type": "code",
   "execution_count": null,
   "id": "5b225946",
   "metadata": {},
   "outputs": [],
   "source": [
    "allGradientNorms(curr_um)"
   ]
  },
  {
   "cell_type": "code",
   "execution_count": null,
   "id": "fb2d17da",
   "metadata": {},
   "outputs": [],
   "source": [
    "curr_um.deploymentForceType = umbrella_mesh.DeploymentForceType.LinearActuator"
   ]
  },
  {
   "cell_type": "code",
   "execution_count": null,
   "id": "ead2ec85",
   "metadata": {},
   "outputs": [],
   "source": [
    "import importlib, pipeline_helper\n",
    "importlib.reload(pipeline_helper)"
   ]
  },
  {
   "cell_type": "code",
   "execution_count": null,
   "id": "553dc81d",
   "metadata": {},
   "outputs": [],
   "source": [
    "from pipeline_helper import set_joint_vector_field, show_center_joint_normal, show_joint_normal"
   ]
  },
  {
   "cell_type": "code",
   "execution_count": null,
   "id": "a55af35c",
   "metadata": {
    "tags": []
   },
   "outputs": [],
   "source": [
    "from equilibrium_solve_analysis import EquilibriumSolveAnalysis\n",
    "eqays = EquilibriumSolveAnalysis(curr_um)\n",
    "def eqm_callback(prob, i):\n",
    "    eqays.record(prob)\n",
    "    if (i % 2 == 0):\n",
    "        view.showScalarField(rod_colors)"
   ]
  },
  {
   "cell_type": "code",
   "execution_count": null,
   "id": "ec7025eb",
   "metadata": {},
   "outputs": [],
   "source": [
    "curr_um.targetDeploymentHeight = thickness * target_height_multiplier\n",
    "curr_um.repulsionEnergyWeight = 0\n",
    "curr_um.attractionWeight = 1e-1\n",
    "curr_um.setHoldClosestPointsFixed(True)\n",
    "curr_um.scaleInputPosWeights(1)"
   ]
  },
  {
   "cell_type": "code",
   "execution_count": null,
   "id": "af3dde3e",
   "metadata": {},
   "outputs": [],
   "source": [
    "curr_um.angleBoundEnforcement = umbrella_mesh.AngleBoundEnforcement.Penalty"
   ]
  },
  {
   "cell_type": "code",
   "execution_count": null,
   "id": "70b0533f",
   "metadata": {},
   "outputs": [],
   "source": [
    "allGradientNorms(curr_um)"
   ]
  },
  {
   "cell_type": "code",
   "execution_count": null,
   "id": "be018c7e",
   "metadata": {},
   "outputs": [],
   "source": [
    "dof = curr_um.getDoFs()\n",
    "for i in range(curr_um.numJoints()):\n",
    "    # if (curr_um.joint(i).jointType() == umbrella_mesh.JointType.X):\n",
    "    dof[curr_um.dofOffsetForJoint(i) + 6] = 1e-3\n",
    "curr_um.setDoFs(dof)"
   ]
  },
  {
   "cell_type": "code",
   "execution_count": null,
   "id": "753b6d98",
   "metadata": {},
   "outputs": [],
   "source": [
    "view.showScalarField(rod_colors)"
   ]
  },
  {
   "cell_type": "code",
   "execution_count": null,
   "id": "6a9c7857",
   "metadata": {
    "scrolled": true
   },
   "outputs": [],
   "source": [
    "curr_um.uniformDeploymentEnergyWeight = 1e-3\n",
    "with so(): results = umbrella_mesh.compute_equilibrium(curr_um, callback = eqm_callback, options = OPTS, fixedVars = fixedVars, elasticEnergyIncreaseFactorLimit=2.5)\n",
    "curr_um.uniformDeploymentEnergyWeight = 1e-2\n",
    "with so(): results = umbrella_mesh.compute_equilibrium(curr_um, callback = eqm_callback, options = OPTS, fixedVars = fixedVars, elasticEnergyIncreaseFactorLimit=2.5)\n",
    "curr_um.uniformDeploymentEnergyWeight = 1e-1\n",
    "with so(): results = umbrella_mesh.compute_equilibrium(curr_um, callback = eqm_callback, options = OPTS, fixedVars = fixedVars, elasticEnergyIncreaseFactorLimit=2.5)\n",
    "curr_um.uniformDeploymentEnergyWeight = 1e0\n",
    "with so(): results = umbrella_mesh.compute_equilibrium(curr_um, callback = eqm_callback, options = OPTS, fixedVars = fixedVars, elasticEnergyIncreaseFactorLimit=2.5)"
   ]
  },
  {
   "cell_type": "code",
   "execution_count": null,
   "id": "3230d507",
   "metadata": {},
   "outputs": [],
   "source": [
    "curr_um.uniformDeploymentEnergyWeight = 1e0\n",
    "with so(): results = umbrella_mesh.compute_equilibrium(curr_um, callback = eqm_callback, options = OPTS, fixedVars = fixedVars, elasticEnergyIncreaseFactorLimit=2.5)"
   ]
  },
  {
   "cell_type": "code",
   "execution_count": null,
   "id": "d11b505b",
   "metadata": {},
   "outputs": [],
   "source": [
    "results.success"
   ]
  },
  {
   "cell_type": "code",
   "execution_count": null,
   "id": "3662fcaf",
   "metadata": {},
   "outputs": [],
   "source": [
    "eqays.plot()"
   ]
  },
  {
   "cell_type": "code",
   "execution_count": null,
   "id": "666c5f20",
   "metadata": {
    "tags": []
   },
   "outputs": [],
   "source": [
    "allGradientNorms(curr_um)"
   ]
  },
  {
   "cell_type": "markdown",
   "id": "359b0c70",
   "metadata": {},
   "source": [
    "### Initialize Design Optimization"
   ]
  },
  {
   "cell_type": "code",
   "execution_count": null,
   "id": "5f5547b1",
   "metadata": {},
   "outputs": [],
   "source": [
    "allEnergies(curr_um)"
   ]
  },
  {
   "cell_type": "code",
   "execution_count": null,
   "id": "676d3c52",
   "metadata": {},
   "outputs": [],
   "source": [
    "curr_um.repulsionEnergyWeight = 0\n",
    "curr_um.attractionWeight = 1e-3\n",
    "curr_um.setHoldClosestPointsFixed(False)\n",
    "curr_um.scaleInputPosWeights(0.1)"
   ]
  },
  {
   "cell_type": "code",
   "execution_count": null,
   "id": "ff2df413",
   "metadata": {},
   "outputs": [],
   "source": [
    "import umbrella_optimization\n",
    "import umbrella_optimization_finite_diff"
   ]
  },
  {
   "cell_type": "code",
   "execution_count": null,
   "id": "2278ac41",
   "metadata": {
    "tags": []
   },
   "outputs": [],
   "source": [
    "import py_newton_optimizer\n",
    "opt_opts = py_newton_optimizer.NewtonOptimizerOptions()\n",
    "opt_opts.gradTol = 1e-8\n",
    "opt_opts.verbose = 10\n",
    "opt_opts.beta = 1e-6\n",
    "opt_opts.niter = 600\n",
    "opt_opts.verboseNonPosDef = False"
   ]
  },
  {
   "cell_type": "code",
   "execution_count": null,
   "id": "a5f29673",
   "metadata": {
    "scrolled": true
   },
   "outputs": [],
   "source": [
    "results = umbrella_mesh.compute_equilibrium(curr_um, callback = eqm_callback, options = opt_opts, fixedVars = fixedVars, elasticEnergyIncreaseFactorLimit=2.5)"
   ]
  },
  {
   "cell_type": "code",
   "execution_count": null,
   "id": "3ad3107b",
   "metadata": {},
   "outputs": [],
   "source": [
    "opt_opts.niter = 50"
   ]
  },
  {
   "cell_type": "code",
   "execution_count": null,
   "id": "41e1e2e2",
   "metadata": {},
   "outputs": [],
   "source": [
    "results.success"
   ]
  },
  {
   "cell_type": "code",
   "execution_count": null,
   "id": "78e4a5bb",
   "metadata": {},
   "outputs": [],
   "source": [
    "optimizer = umbrella_optimization.UmbrellaOptimization(curr_um, opt_opts, 2.5, -1, False, fixedVars)"
   ]
  },
  {
   "cell_type": "code",
   "execution_count": null,
   "id": "47fb2a2b",
   "metadata": {},
   "outputs": [],
   "source": [
    "# optimizer.objective.terms[-1].term.activationThreshold = thickness * 1"
   ]
  },
  {
   "cell_type": "code",
   "execution_count": null,
   "id": "0785b37c",
   "metadata": {},
   "outputs": [],
   "source": [
    "optimizer.beta = 5 * 1e6\n",
    "optimizer.gamma = 1\n",
    "optimizer.eta = 0\n",
    "optimizer.zeta = 0# 1e1"
   ]
  },
  {
   "cell_type": "code",
   "execution_count": null,
   "id": "fe713628",
   "metadata": {},
   "outputs": [],
   "source": [
    "allDesignObjectives(optimizer)"
   ]
  },
  {
   "cell_type": "code",
   "execution_count": null,
   "id": "ef2101d6",
   "metadata": {},
   "outputs": [],
   "source": [
    "allDesignGradientNorms(optimizer)"
   ]
  },
  {
   "cell_type": "code",
   "execution_count": null,
   "id": "73236800",
   "metadata": {},
   "outputs": [],
   "source": [
    "rest_height_optimizer = umbrella_optimization.UmbrellaRestHeightsOptimization(optimizer)\n",
    "single_rest_height_optimizer = umbrella_optimization.UmbrellaSingleRestHeightOptimization(rest_height_optimizer)"
   ]
  },
  {
   "cell_type": "code",
   "execution_count": null,
   "id": "4db87f48",
   "metadata": {},
   "outputs": [],
   "source": [
    "original_design_parameters = rest_height_optimizer.params()"
   ]
  },
  {
   "cell_type": "code",
   "execution_count": null,
   "id": "ee6d95a6",
   "metadata": {},
   "outputs": [],
   "source": [
    "import pipeline_helper, importlib, design_optimization_analysis\n",
    "with so(): importlib.reload(pipeline_helper)\n",
    "with so(): importlib.reload(design_optimization_analysis)"
   ]
  },
  {
   "cell_type": "code",
   "execution_count": null,
   "id": "3e9c28ff",
   "metadata": {},
   "outputs": [],
   "source": [
    "from pipeline_helper import UmbrellaOptimizationCallback"
   ]
  },
  {
   "cell_type": "code",
   "execution_count": null,
   "id": "b3e619bd",
   "metadata": {},
   "outputs": [],
   "source": [
    "from umbrella_optimization import OptEnergyType"
   ]
  },
  {
   "cell_type": "code",
   "execution_count": null,
   "id": "a4f9c1a3",
   "metadata": {},
   "outputs": [],
   "source": [
    "from design_optimization_analysis import DesignOptimizationAnalysis\n",
    "doptays = DesignOptimizationAnalysis(rest_height_optimizer)\n",
    "def eqm_callback(prob, i):\n",
    "    eqays.record(prob)\n",
    "    if (i % 2 == 0):\n",
    "        view.showScalarField(rod_colors)"
   ]
  },
  {
   "cell_type": "code",
   "execution_count": null,
   "id": "39d68e71",
   "metadata": {},
   "outputs": [],
   "source": [
    "import time"
   ]
  },
  {
   "cell_type": "code",
   "execution_count": null,
   "id": "94671cbc",
   "metadata": {},
   "outputs": [],
   "source": [
    "pipeline_helper.prev_time_stamp = time.time()"
   ]
  },
  {
   "cell_type": "code",
   "execution_count": null,
   "id": "e87402ba",
   "metadata": {},
   "outputs": [],
   "source": [
    "uo = rest_height_optimizer.get_parent_opt()"
   ]
  },
  {
   "cell_type": "code",
   "execution_count": null,
   "id": "d9ed4572",
   "metadata": {},
   "outputs": [],
   "source": [
    "uo.equilibriumOptimizer.options.verbose = 1\n",
    "#uo.equilibriumOptimizer.options.verboseWorkingSet = True\n",
    "uo.equilibriumOptimizer.options.gradTol = 1e-10\n",
    "# Hold the closest points fixed in the target-attraction term of the equilibrium solve:\n",
    "# this seems to make the design optimization much more robust.\n",
    "uo.setHoldClosestPointsFixed(True, False)"
   ]
  },
  {
   "cell_type": "code",
   "execution_count": null,
   "id": "4c3935b5-17a7-400e-934c-24fdfac35aca",
   "metadata": {},
   "outputs": [],
   "source": [
    "tfview = pipeline_helper.TargetFittingVisualization(curr_um, uo.target_surface_fitter, view)\n",
    "cb = pipeline_helper.UmbrellaOptimizationCallback(rest_height_optimizer, view, True, False, 1, rod_colors, doptays.record, tfview=tfview)"
   ]
  },
  {
   "cell_type": "code",
   "execution_count": null,
   "id": "cc020fb4",
   "metadata": {},
   "outputs": [],
   "source": [
    "algorithm = umbrella_optimization.OptAlgorithm.NEWTON_CG\n",
    "solverStatus = umbrella_optimization.optimize(rest_height_optimizer, algorithm, 10000, 0.005, 1e-5, cb, input_data[\"plate_edge_length\"] / 30 * 32)"
   ]
  },
  {
   "cell_type": "code",
   "execution_count": null,
   "id": "4b03686d",
   "metadata": {},
   "outputs": [],
   "source": [
    "rest_height_optimizer.beta, rest_height_optimizer.gamma, rest_height_optimizer.eta"
   ]
  },
  {
   "cell_type": "code",
   "execution_count": null,
   "id": "9b3c7cde",
   "metadata": {},
   "outputs": [],
   "source": [
    "import time"
   ]
  },
  {
   "cell_type": "code",
   "execution_count": null,
   "id": "cf99322d",
   "metadata": {},
   "outputs": [],
   "source": [
    "# pipeline_helper.prev_time_stamp = time.time()"
   ]
  },
  {
   "cell_type": "code",
   "execution_count": null,
   "id": "2eb727a7",
   "metadata": {},
   "outputs": [],
   "source": [
    "# solverStatus = umbrella_optimization.optimize(rest_height_optimizer, algorithm, 100, 1.0, 1e-2, cb, input_data[\"plate_edge_length\"] / 30 * 32 * 0.8)"
   ]
  },
  {
   "cell_type": "code",
   "execution_count": null,
   "id": "4e62f1b6",
   "metadata": {},
   "outputs": [],
   "source": [
    "# solverStatus = umbrella_optimization.optimize(rest_height_optimizer, algorithm, 100, 1.0, 1e-2, cb, -1)"
   ]
  },
  {
   "cell_type": "code",
   "execution_count": null,
   "id": "c1c5bd46",
   "metadata": {},
   "outputs": [],
   "source": [
    "# solverStatus"
   ]
  },
  {
   "cell_type": "code",
   "execution_count": null,
   "id": "81c10e8f",
   "metadata": {},
   "outputs": [],
   "source": [
    "doptays.plot()"
   ]
  },
  {
   "cell_type": "code",
   "execution_count": null,
   "id": "6167ac49",
   "metadata": {},
   "outputs": [],
   "source": [
    "j = curr_um.joint(0)"
   ]
  },
  {
   "cell_type": "code",
   "execution_count": null,
   "id": "18b706ae",
   "metadata": {},
   "outputs": [],
   "source": [
    "j.jointType()"
   ]
  },
  {
   "cell_type": "code",
   "execution_count": null,
   "id": "4164034c",
   "metadata": {},
   "outputs": [],
   "source": [
    "for i in range(curr_um.numJoints()):\n",
    "    if (curr_um.joint(i).jointType() == umbrella_mesh.JointType.T):\n",
    "        if (curr_um.joint(i).alpha / np.pi > 0.5):\n",
    "            print(curr_um.joint(i).alpha / np.pi)"
   ]
  },
  {
   "cell_type": "code",
   "execution_count": null,
   "id": "a83ae3f2",
   "metadata": {},
   "outputs": [],
   "source": [
    "import pickle \n",
    "import gzip\n",
    "\n",
    "pickle.dump(curr_um, gzip.open('../../output/{}_optimized_without_deployment_force_{}.pkl.gz'.format(name, time.strftime(\"%Y_%m_%d_%H_%M\")), 'w'))\n",
    "# load_um = pickle.load(gzip.open('test_pickle_um.pkl.gz', 'r'))"
   ]
  },
  {
   "cell_type": "code",
   "execution_count": null,
   "id": "b9b3d89c",
   "metadata": {},
   "outputs": [],
   "source": [
    "max(rest_height_optimizer.params() * input_data['bbox_diagonal']), min(rest_height_optimizer.params() * input_data['bbox_diagonal'])"
   ]
  },
  {
   "cell_type": "code",
   "execution_count": null,
   "id": "f4b3aa9c",
   "metadata": {},
   "outputs": [],
   "source": [
    "input_data['bbox_diagonal']"
   ]
  },
  {
   "cell_type": "code",
   "execution_count": null,
   "id": "85be97dc",
   "metadata": {},
   "outputs": [],
   "source": [
    "rest_height_optimizer.params() * input_data['bbox_diagonal']"
   ]
  },
  {
   "cell_type": "code",
   "execution_count": null,
   "id": "01ca9a25",
   "metadata": {},
   "outputs": [],
   "source": [
    "import time"
   ]
  },
  {
   "cell_type": "code",
   "execution_count": null,
   "id": "dafab6fe",
   "metadata": {},
   "outputs": [],
   "source": [
    "import load_jsondata\n",
    "importlib.reload(load_jsondata)"
   ]
  },
  {
   "cell_type": "code",
   "execution_count": null,
   "id": "76c20fdf",
   "metadata": {},
   "outputs": [],
   "source": [
    "from load_jsondata import update_optimized_json\n",
    "update_optimized_json(input_path, rest_height_optimizer.params(), output_json_path = '../../output/{}_optimized_params_{}.json'.format(name, time.strftime(\"%Y_%m_%d_%H_%M\")), optim_spacing_factor = target_height_multiplier)"
   ]
  },
  {
   "cell_type": "code",
   "execution_count": null,
   "id": "d77e6be9",
   "metadata": {},
   "outputs": [],
   "source": [
    "rest_height_optimizer.defaultLengthBound()"
   ]
  },
  {
   "cell_type": "code",
   "execution_count": null,
   "id": "bfe7271e",
   "metadata": {},
   "outputs": [],
   "source": [
    "rest_height_optimizer.numParams()"
   ]
  },
  {
   "cell_type": "code",
   "execution_count": null,
   "id": "22580b14",
   "metadata": {},
   "outputs": [],
   "source": [
    "# rest_height_optimizer.params() - rest_height_optimizer.defaultLengthBound()"
   ]
  },
  {
   "cell_type": "code",
   "execution_count": null,
   "id": "e30aa2e4",
   "metadata": {},
   "outputs": [],
   "source": [
    "# rest_height_optimizer.params()"
   ]
  },
  {
   "cell_type": "markdown",
   "id": "0476dc04",
   "metadata": {},
   "source": [
    "### Undeployment"
   ]
  },
  {
   "cell_type": "code",
   "execution_count": null,
   "id": "eaae1298",
   "metadata": {},
   "outputs": [],
   "source": [
    "use_pin = True"
   ]
  },
  {
   "cell_type": "code",
   "execution_count": null,
   "id": "f256e6b0",
   "metadata": {},
   "outputs": [],
   "source": [
    "driver = curr_um.centralJoint()\n",
    "jdo = curr_um.dofOffsetForJoint(driver)\n",
    "fixedVars = (list(range(jdo, jdo + 6)) if use_pin else []) + curr_um.rigidJointAngleDoFIndices()"
   ]
  },
  {
   "cell_type": "code",
   "execution_count": null,
   "id": "ac5eec5b",
   "metadata": {},
   "outputs": [],
   "source": [
    "curr_um.uniformDeploymentEnergyWeight = 1e-1\n",
    "# curr_um.uniformDeploymentEnergyWeight = 0\n",
    "curr_um.targetDeploymentHeight = thickness * target_height_multiplier * 10\n",
    "curr_um.repulsionEnergyWeight = 0\n",
    "curr_um.attractionWeight = 0\n",
    "curr_um.setHoldClosestPointsFixed(False)\n",
    "curr_um.scaleInputPosWeights(1)"
   ]
  },
  {
   "cell_type": "code",
   "execution_count": null,
   "id": "7abab159",
   "metadata": {},
   "outputs": [],
   "source": [
    "allEnergies(curr_um)"
   ]
  },
  {
   "cell_type": "code",
   "execution_count": null,
   "id": "f71c2aa6",
   "metadata": {},
   "outputs": [],
   "source": [
    "OPTS.niter = 100"
   ]
  },
  {
   "cell_type": "code",
   "execution_count": null,
   "id": "7bb16ec5",
   "metadata": {
    "scrolled": true
   },
   "outputs": [],
   "source": [
    "results = umbrella_mesh.compute_equilibrium(curr_um, callback = eqm_callback, options = OPTS, fixedVars = fixedVars, elasticEnergyIncreaseFactorLimit=2.5)"
   ]
  },
  {
   "cell_type": "code",
   "execution_count": null,
   "id": "be0201b8",
   "metadata": {},
   "outputs": [],
   "source": [
    "results.success"
   ]
  },
  {
   "cell_type": "code",
   "execution_count": null,
   "id": "67b2b882",
   "metadata": {
    "tags": []
   },
   "outputs": [],
   "source": [
    "allEnergies(curr_um)"
   ]
  },
  {
   "cell_type": "code",
   "execution_count": null,
   "id": "341ccf2f",
   "metadata": {},
   "outputs": [],
   "source": [
    "curr_um.uniformDeploymentEnergyWeight = 0."
   ]
  },
  {
   "cell_type": "code",
   "execution_count": null,
   "id": "909d2d73",
   "metadata": {
    "scrolled": true,
    "tags": []
   },
   "outputs": [],
   "source": [
    "results = umbrella_mesh.compute_equilibrium(curr_um, callback = eqm_callback, options = OPTS, fixedVars = fixedVars, elasticEnergyIncreaseFactorLimit=2.5)"
   ]
  },
  {
   "cell_type": "code",
   "execution_count": null,
   "id": "77cb38ff",
   "metadata": {},
   "outputs": [],
   "source": [
    "results.success"
   ]
  },
  {
   "cell_type": "code",
   "execution_count": null,
   "id": "34b0e40e",
   "metadata": {},
   "outputs": [],
   "source": [
    "allEnergies(curr_um)"
   ]
  },
  {
   "cell_type": "code",
   "execution_count": null,
   "id": "5b85461d",
   "metadata": {},
   "outputs": [],
   "source": [
    "# for i in range(curr_um.numJoints()):\n",
    "#     print(curr_um.joint(i).alpha)"
   ]
  },
  {
   "cell_type": "code",
   "execution_count": null,
   "id": "da86025a",
   "metadata": {},
   "outputs": [],
   "source": [
    "view.show()"
   ]
  },
  {
   "cell_type": "code",
   "execution_count": null,
   "id": "f683ad4c",
   "metadata": {},
   "outputs": [],
   "source": [
    "import pickle \n",
    "import gzip\n",
    "\n",
    "pickle.dump(curr_um, gzip.open('{}_optimized_equilibrium_{}.pkl.gz'.format(name, time.strftime(\"%Y_%m_%d_%H_%M\")), 'w'))\n",
    "# load_um = pickle.load(gzip.open('test_pickle_um.pkl.gz', 'r'))"
   ]
  },
  {
   "cell_type": "code",
   "execution_count": null,
   "id": "421d0b79",
   "metadata": {},
   "outputs": [],
   "source": []
  }
 ],
 "metadata": {
  "kernelspec": {
   "display_name": "Python 3",
   "language": "python",
   "name": "python3"
  },
  "language_info": {
   "codemirror_mode": {
    "name": "ipython",
    "version": 3
   },
   "file_extension": ".py",
   "mimetype": "text/x-python",
   "name": "python",
   "nbconvert_exporter": "python",
   "pygments_lexer": "ipython3",
   "version": "3.9.9"
  }
 },
 "nbformat": 4,
 "nbformat_minor": 5
}
