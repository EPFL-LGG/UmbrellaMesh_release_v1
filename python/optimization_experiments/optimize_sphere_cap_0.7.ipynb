{
 "cells": [
  {
   "cell_type": "code",
   "execution_count": null,
   "id": "68176e59",
   "metadata": {},
   "outputs": [],
   "source": [
    "import sys\n",
    "sys.path.append('..')\n",
    "import umbrella_mesh\n",
    "import elastic_rods\n",
    "import linkage_vis\n",
    "from umbrella_mesh import UmbrellaEnergyType\n",
    "from bending_validation import suppress_stdout as so\n",
    "from visualization_helper import *\n",
    "import importlib, pipeline_helper"
   ]
  },
  {
   "cell_type": "code",
   "execution_count": null,
   "id": "38038bc9",
   "metadata": {},
   "outputs": [],
   "source": [
    "importlib.reload(pipeline_helper)\n",
    "from pipeline_helper import allEnergies, allGradientNorms, allDesignObjectives, allDesignGradientNorms"
   ]
  },
  {
   "cell_type": "code",
   "execution_count": null,
   "id": "d30e9dfa",
   "metadata": {},
   "outputs": [],
   "source": [
    "import numpy as np\n",
    "import numpy.linalg as la"
   ]
  },
  {
   "cell_type": "code",
   "execution_count": null,
   "id": "2b96b627",
   "metadata": {},
   "outputs": [],
   "source": [
    "import pickle, gzip"
   ]
  },
  {
   "cell_type": "markdown",
   "id": "dd62ffe4",
   "metadata": {},
   "source": [
    "### Initial Deployment"
   ]
  },
  {
   "cell_type": "code",
   "execution_count": null,
   "id": "e4935a7a",
   "metadata": {},
   "outputs": [],
   "source": [
    "name = 'sphere_cap_0.7'"
   ]
  },
  {
   "cell_type": "code",
   "execution_count": null,
   "id": "ff8ade9a",
   "metadata": {},
   "outputs": [],
   "source": [
    "input_path = '../../data/{}.json'.format(name)"
   ]
  },
  {
   "cell_type": "code",
   "execution_count": null,
   "id": "8f3ca3f2",
   "metadata": {},
   "outputs": [],
   "source": [
    "from load_jsondata import read_data\n",
    "input_data, io = read_data(filepath = input_path)\n",
    "import mesh\n",
    "target_mesh = mesh.Mesh(input_data['target_v'], input_data['target_f'])"
   ]
  },
  {
   "cell_type": "code",
   "execution_count": null,
   "id": "50485ec4",
   "metadata": {},
   "outputs": [],
   "source": [
    "curr_um = umbrella_mesh.UmbrellaMesh(io)\n",
    "thickness = io.material_params[6]"
   ]
  },
  {
   "cell_type": "code",
   "execution_count": null,
   "id": "5d781d15",
   "metadata": {},
   "outputs": [],
   "source": [
    "curr_um.energy(UmbrellaEnergyType.Full)"
   ]
  },
  {
   "cell_type": "code",
   "execution_count": null,
   "id": "880b9264",
   "metadata": {},
   "outputs": [],
   "source": [
    "target_height_multiplier = input_data['target_spacing_factor']"
   ]
  },
  {
   "cell_type": "markdown",
   "id": "8d457211",
   "metadata": {},
   "source": [
    "#### Pin Rigid Motion\n",
    "\n"
   ]
  },
  {
   "cell_type": "code",
   "execution_count": null,
   "id": "40155f14",
   "metadata": {},
   "outputs": [],
   "source": [
    "use_pin = False"
   ]
  },
  {
   "cell_type": "code",
   "execution_count": null,
   "id": "344c983f",
   "metadata": {},
   "outputs": [],
   "source": [
    "driver = curr_um.centralJoint()\n",
    "jdo = curr_um.dofOffsetForJoint(driver)\n",
    "fixedVars = (list(range(jdo, jdo + 6)) if use_pin else []) + curr_um.rigidJointAngleDoFIndices()"
   ]
  },
  {
   "cell_type": "code",
   "execution_count": null,
   "id": "3691356f",
   "metadata": {},
   "outputs": [],
   "source": [
    "import py_newton_optimizer\n",
    "OPTS = py_newton_optimizer.NewtonOptimizerOptions()\n",
    "OPTS.gradTol = 1e-8\n",
    "OPTS.verbose = 1\n",
    "OPTS.beta = 1e-6\n",
    "OPTS.niter = 300\n",
    "OPTS.verboseNonPosDef = False"
   ]
  },
  {
   "cell_type": "code",
   "execution_count": null,
   "id": "2905994b",
   "metadata": {},
   "outputs": [],
   "source": [
    "rod_colors = get_color_field(curr_um, input_data)"
   ]
  },
  {
   "cell_type": "code",
   "execution_count": null,
   "id": "8d8c365a",
   "metadata": {},
   "outputs": [],
   "source": [
    "view = linkage_vis.LinkageViewer(curr_um, width=1024, height=600)\n",
    "view.update(scalarField = rod_colors)\n",
    "view.show()"
   ]
  },
  {
   "cell_type": "code",
   "execution_count": null,
   "id": "4e216e09",
   "metadata": {},
   "outputs": [],
   "source": [
    "import mesh\n",
    "view = linkage_vis.LinkageViewerWithSurface(curr_um, target_mesh, width=1024, height=600)\n",
    "set_surface_view_options(view, color = 'green', surface_color = 'gray', umbrella_transparent = False, surface_transparent = True)\n",
    "view.averagedMaterialFrames = True\n",
    "view.showScalarField(rod_colors)\n",
    "view.show()"
   ]
  },
  {
   "cell_type": "code",
   "execution_count": null,
   "id": "86c16325",
   "metadata": {},
   "outputs": [],
   "source": [
    "allEnergies(curr_um)"
   ]
  },
  {
   "cell_type": "code",
   "execution_count": null,
   "id": "1a4b8ee9",
   "metadata": {},
   "outputs": [],
   "source": [
    "allGradientNorms(curr_um)"
   ]
  },
  {
   "cell_type": "code",
   "execution_count": null,
   "id": "e483aa5b",
   "metadata": {},
   "outputs": [],
   "source": [
    "curr_um.deploymentForceType = umbrella_mesh.DeploymentForceType.LinearActuator"
   ]
  },
  {
   "cell_type": "code",
   "execution_count": null,
   "id": "6e650e6e",
   "metadata": {},
   "outputs": [],
   "source": [
    "import importlib, pipeline_helper\n",
    "importlib.reload(pipeline_helper)"
   ]
  },
  {
   "cell_type": "code",
   "execution_count": null,
   "id": "82fd6723",
   "metadata": {},
   "outputs": [],
   "source": [
    "from pipeline_helper import set_joint_vector_field, show_center_joint_normal, show_joint_normal"
   ]
  },
  {
   "cell_type": "code",
   "execution_count": null,
   "id": "eba1699e",
   "metadata": {
    "tags": []
   },
   "outputs": [],
   "source": [
    "from equilibrium_solve_analysis import EquilibriumSolveAnalysis\n",
    "eqays = EquilibriumSolveAnalysis(curr_um)\n",
    "def eqm_callback(prob, i):\n",
    "    eqays.record(prob)\n",
    "    if (i % 2 == 0):\n",
    "        view.showScalarField(rod_colors)"
   ]
  },
  {
   "cell_type": "code",
   "execution_count": null,
   "id": "95fad44b",
   "metadata": {},
   "outputs": [],
   "source": [
    "curr_um.targetDeploymentHeight = thickness * target_height_multiplier\n",
    "curr_um.repulsionEnergyWeight = 0\n",
    "curr_um.attractionWeight = 1e-1\n",
    "curr_um.setHoldClosestPointsFixed(True)\n",
    "curr_um.scaleInputPosWeights(1)"
   ]
  },
  {
   "cell_type": "code",
   "execution_count": null,
   "id": "93206a61",
   "metadata": {},
   "outputs": [],
   "source": [
    "curr_um.angleBoundEnforcement = umbrella_mesh.AngleBoundEnforcement.Penalty"
   ]
  },
  {
   "cell_type": "code",
   "execution_count": null,
   "id": "43779d7a",
   "metadata": {},
   "outputs": [],
   "source": [
    "allGradientNorms(curr_um)"
   ]
  },
  {
   "cell_type": "code",
   "execution_count": null,
   "id": "be98487c",
   "metadata": {},
   "outputs": [],
   "source": [
    "dof = curr_um.getDoFs()\n",
    "for i in range(curr_um.numJoints()):\n",
    "    # if (curr_um.joint(i).jointType() == umbrella_mesh.JointType.X):\n",
    "    dof[curr_um.dofOffsetForJoint(i) + 6] = 1e-3\n",
    "curr_um.setDoFs(dof)"
   ]
  },
  {
   "cell_type": "code",
   "execution_count": null,
   "id": "70dceede",
   "metadata": {},
   "outputs": [],
   "source": [
    "view.showScalarField(rod_colors)"
   ]
  },
  {
   "cell_type": "code",
   "execution_count": null,
   "id": "0f6e484e",
   "metadata": {
    "scrolled": true
   },
   "outputs": [],
   "source": [
    "curr_um.uniformDeploymentEnergyWeight = 1e-5\n",
    "with so(): results = umbrella_mesh.compute_equilibrium(curr_um, callback = eqm_callback, options = OPTS, fixedVars = fixedVars, elasticEnergyIncreaseFactorLimit=2.5)\n",
    "curr_um.uniformDeploymentEnergyWeight = 1e-4\n",
    "with so(): results = umbrella_mesh.compute_equilibrium(curr_um, callback = eqm_callback, options = OPTS, fixedVars = fixedVars, elasticEnergyIncreaseFactorLimit=2.5)\n",
    "curr_um.uniformDeploymentEnergyWeight = 1e-3\n",
    "with so(): results = umbrella_mesh.compute_equilibrium(curr_um, callback = eqm_callback, options = OPTS, fixedVars = fixedVars, elasticEnergyIncreaseFactorLimit=2.5)\n",
    "curr_um.uniformDeploymentEnergyWeight = 1e-2\n",
    "with so(): results = umbrella_mesh.compute_equilibrium(curr_um, callback = eqm_callback, options = OPTS, fixedVars = fixedVars, elasticEnergyIncreaseFactorLimit=2.5)\n",
    "curr_um.uniformDeploymentEnergyWeight = 1e-1\n",
    "with so(): results = umbrella_mesh.compute_equilibrium(curr_um, callback = eqm_callback, options = OPTS, fixedVars = fixedVars, elasticEnergyIncreaseFactorLimit=2.5)\n",
    "curr_um.uniformDeploymentEnergyWeight = 1e0\n",
    "with so(): results = umbrella_mesh.compute_equilibrium(curr_um, callback = eqm_callback, options = OPTS, fixedVars = fixedVars, elasticEnergyIncreaseFactorLimit=2.5)"
   ]
  },
  {
   "cell_type": "code",
   "execution_count": null,
   "id": "2adf61eb",
   "metadata": {},
   "outputs": [],
   "source": [
    "curr_um.uniformDeploymentEnergyWeight = 1e0\n",
    "with so(): results = umbrella_mesh.compute_equilibrium(curr_um, callback = eqm_callback, options = OPTS, fixedVars = fixedVars, elasticEnergyIncreaseFactorLimit=2.5)"
   ]
  },
  {
   "cell_type": "code",
   "execution_count": null,
   "id": "9c2381dc",
   "metadata": {},
   "outputs": [],
   "source": [
    "results.success"
   ]
  },
  {
   "cell_type": "code",
   "execution_count": null,
   "id": "3ae455d8",
   "metadata": {},
   "outputs": [],
   "source": [
    "eqays.plot()"
   ]
  },
  {
   "cell_type": "code",
   "execution_count": null,
   "id": "397fe8fd",
   "metadata": {
    "tags": []
   },
   "outputs": [],
   "source": [
    "allGradientNorms(curr_um)"
   ]
  },
  {
   "cell_type": "markdown",
   "id": "d302c55d",
   "metadata": {},
   "source": [
    "### Initialize Design Optimization"
   ]
  },
  {
   "cell_type": "code",
   "execution_count": null,
   "id": "81b88df8",
   "metadata": {},
   "outputs": [],
   "source": [
    "allEnergies(curr_um)"
   ]
  },
  {
   "cell_type": "code",
   "execution_count": null,
   "id": "858726d7",
   "metadata": {},
   "outputs": [],
   "source": [
    "curr_um.repulsionEnergyWeight = 0\n",
    "curr_um.attractionWeight = 1e-3\n",
    "curr_um.setHoldClosestPointsFixed(False)\n",
    "curr_um.scaleInputPosWeights(0.1)"
   ]
  },
  {
   "cell_type": "code",
   "execution_count": null,
   "id": "9f622507",
   "metadata": {},
   "outputs": [],
   "source": [
    "import umbrella_optimization\n",
    "import umbrella_optimization_finite_diff"
   ]
  },
  {
   "cell_type": "code",
   "execution_count": null,
   "id": "9026438d",
   "metadata": {
    "tags": []
   },
   "outputs": [],
   "source": [
    "import py_newton_optimizer\n",
    "opt_opts = py_newton_optimizer.NewtonOptimizerOptions()\n",
    "opt_opts.gradTol = 1e-8\n",
    "opt_opts.verbose = 10\n",
    "opt_opts.beta = 1e-6\n",
    "opt_opts.niter = 600\n",
    "opt_opts.verboseNonPosDef = False"
   ]
  },
  {
   "cell_type": "code",
   "execution_count": null,
   "id": "193db762",
   "metadata": {
    "scrolled": true
   },
   "outputs": [],
   "source": [
    "results = umbrella_mesh.compute_equilibrium(curr_um, callback = eqm_callback, options = opt_opts, fixedVars = fixedVars, elasticEnergyIncreaseFactorLimit=2.5)"
   ]
  },
  {
   "cell_type": "code",
   "execution_count": null,
   "id": "dd31d950",
   "metadata": {},
   "outputs": [],
   "source": [
    "opt_opts.niter = 50"
   ]
  },
  {
   "cell_type": "code",
   "execution_count": null,
   "id": "9bc22fa2",
   "metadata": {},
   "outputs": [],
   "source": [
    "results.success"
   ]
  },
  {
   "cell_type": "code",
   "execution_count": null,
   "id": "c087f64c",
   "metadata": {},
   "outputs": [],
   "source": [
    "optimizer = umbrella_optimization.UmbrellaOptimization(curr_um, opt_opts, 2.5, -1, False, fixedVars)"
   ]
  },
  {
   "cell_type": "code",
   "execution_count": null,
   "id": "011605eb",
   "metadata": {},
   "outputs": [],
   "source": [
    "# optimizer.objective.terms[-1].term.activationThreshold = thickness * 1"
   ]
  },
  {
   "cell_type": "code",
   "execution_count": null,
   "id": "6a90bdbc",
   "metadata": {},
   "outputs": [],
   "source": [
    "optimizer.beta = 5 * 1e6\n",
    "optimizer.gamma = 1\n",
    "optimizer.eta = 0\n",
    "optimizer.zeta = 0# 1e1"
   ]
  },
  {
   "cell_type": "code",
   "execution_count": null,
   "id": "3503188d",
   "metadata": {},
   "outputs": [],
   "source": [
    "allDesignObjectives(optimizer)"
   ]
  },
  {
   "cell_type": "code",
   "execution_count": null,
   "id": "8226493f",
   "metadata": {},
   "outputs": [],
   "source": [
    "allDesignGradientNorms(optimizer)"
   ]
  },
  {
   "cell_type": "code",
   "execution_count": null,
   "id": "15dd5e5d",
   "metadata": {},
   "outputs": [],
   "source": [
    "rest_height_optimizer = umbrella_optimization.UmbrellaRestHeightsOptimization(optimizer)\n",
    "single_rest_height_optimizer = umbrella_optimization.UmbrellaSingleRestHeightOptimization(rest_height_optimizer)"
   ]
  },
  {
   "cell_type": "code",
   "execution_count": null,
   "id": "9e990522",
   "metadata": {},
   "outputs": [],
   "source": [
    "original_design_parameters = rest_height_optimizer.params()"
   ]
  },
  {
   "cell_type": "code",
   "execution_count": null,
   "id": "326c8ed5",
   "metadata": {},
   "outputs": [],
   "source": [
    "import pipeline_helper, importlib, design_optimization_analysis\n",
    "with so(): importlib.reload(pipeline_helper)\n",
    "with so(): importlib.reload(design_optimization_analysis)"
   ]
  },
  {
   "cell_type": "code",
   "execution_count": null,
   "id": "45530c0e",
   "metadata": {},
   "outputs": [],
   "source": [
    "from pipeline_helper import UmbrellaOptimizationCallback"
   ]
  },
  {
   "cell_type": "code",
   "execution_count": null,
   "id": "65c51a94",
   "metadata": {},
   "outputs": [],
   "source": [
    "from umbrella_optimization import OptEnergyType"
   ]
  },
  {
   "cell_type": "code",
   "execution_count": null,
   "id": "2c51afd9",
   "metadata": {},
   "outputs": [],
   "source": [
    "from design_optimization_analysis import DesignOptimizationAnalysis\n",
    "doptays = DesignOptimizationAnalysis(rest_height_optimizer)\n",
    "def eqm_callback(prob, i):\n",
    "    eqays.record(prob)\n",
    "    if (i % 2 == 0):\n",
    "        view.showScalarField(rod_colors)"
   ]
  },
  {
   "cell_type": "code",
   "execution_count": null,
   "id": "04f87000",
   "metadata": {},
   "outputs": [],
   "source": [
    "import time"
   ]
  },
  {
   "cell_type": "code",
   "execution_count": null,
   "id": "23a12469",
   "metadata": {},
   "outputs": [],
   "source": [
    "pipeline_helper.prev_time_stamp = time.time()"
   ]
  },
  {
   "cell_type": "code",
   "execution_count": null,
   "id": "4ba98af1",
   "metadata": {},
   "outputs": [],
   "source": [
    "uo = rest_height_optimizer.get_parent_opt()"
   ]
  },
  {
   "cell_type": "code",
   "execution_count": null,
   "id": "131583a8",
   "metadata": {},
   "outputs": [],
   "source": [
    "uo.equilibriumOptimizer.options.verbose = 1\n",
    "#uo.equilibriumOptimizer.options.verboseWorkingSet = True\n",
    "uo.equilibriumOptimizer.options.gradTol = 1e-10\n",
    "# Hold the closest points fixed in the target-attraction term of the equilibrium solve:\n",
    "# this seems to make the design optimization much more robust.\n",
    "uo.setHoldClosestPointsFixed(True, False)"
   ]
  },
  {
   "cell_type": "code",
   "execution_count": null,
   "id": "15a54074",
   "metadata": {},
   "outputs": [],
   "source": [
    "tfview = pipeline_helper.TargetFittingVisualization(curr_um, uo.target_surface_fitter, view)\n",
    "cb = pipeline_helper.UmbrellaOptimizationCallback(rest_height_optimizer, view, True, False, 1, rod_colors, doptays.record, tfview=tfview)"
   ]
  },
  {
   "cell_type": "code",
   "execution_count": null,
   "id": "2c197801",
   "metadata": {},
   "outputs": [],
   "source": [
    "algorithm = umbrella_optimization.OptAlgorithm.NEWTON_CG\n",
    "solverStatus = umbrella_optimization.optimize(rest_height_optimizer, algorithm, 10000, 0.005, 1e-5, cb, input_data[\"plate_edge_length\"] / 30 * 32)"
   ]
  },
  {
   "cell_type": "code",
   "execution_count": null,
   "id": "3987acdd",
   "metadata": {},
   "outputs": [],
   "source": [
    "rest_height_optimizer.beta, rest_height_optimizer.gamma, rest_height_optimizer.eta"
   ]
  },
  {
   "cell_type": "code",
   "execution_count": null,
   "id": "515889be",
   "metadata": {},
   "outputs": [],
   "source": [
    "import time"
   ]
  },
  {
   "cell_type": "code",
   "execution_count": null,
   "id": "ee663af6",
   "metadata": {},
   "outputs": [],
   "source": [
    "# pipeline_helper.prev_time_stamp = time.time()"
   ]
  },
  {
   "cell_type": "code",
   "execution_count": null,
   "id": "74bdf1cf",
   "metadata": {},
   "outputs": [],
   "source": [
    "# solverStatus = umbrella_optimization.optimize(rest_height_optimizer, algorithm, 100, 1.0, 1e-2, cb, input_data[\"plate_edge_length\"] / 30 * 32 * 0.8)"
   ]
  },
  {
   "cell_type": "code",
   "execution_count": null,
   "id": "6f540170",
   "metadata": {},
   "outputs": [],
   "source": [
    "# solverStatus = umbrella_optimization.optimize(rest_height_optimizer, algorithm, 100, 1.0, 1e-2, cb, -1)"
   ]
  },
  {
   "cell_type": "code",
   "execution_count": null,
   "id": "ea8c8e4f",
   "metadata": {},
   "outputs": [],
   "source": [
    "# solverStatus"
   ]
  },
  {
   "cell_type": "code",
   "execution_count": null,
   "id": "bf6a48d3",
   "metadata": {},
   "outputs": [],
   "source": [
    "doptays.plot()"
   ]
  },
  {
   "cell_type": "code",
   "execution_count": null,
   "id": "73a37764",
   "metadata": {},
   "outputs": [],
   "source": [
    "j = curr_um.joint(0)"
   ]
  },
  {
   "cell_type": "code",
   "execution_count": null,
   "id": "6015eb25",
   "metadata": {},
   "outputs": [],
   "source": [
    "j.jointType()"
   ]
  },
  {
   "cell_type": "code",
   "execution_count": null,
   "id": "b71c3111",
   "metadata": {},
   "outputs": [],
   "source": [
    "for i in range(curr_um.numJoints()):\n",
    "    if (curr_um.joint(i).jointType() == umbrella_mesh.JointType.T):\n",
    "        if (curr_um.joint(i).alpha / np.pi > 0.5):\n",
    "            print(curr_um.joint(i).alpha / np.pi)"
   ]
  },
  {
   "cell_type": "code",
   "execution_count": null,
   "id": "d207ed3b",
   "metadata": {},
   "outputs": [],
   "source": [
    "import pickle \n",
    "import gzip\n",
    "\n",
    "pickle.dump(curr_um, gzip.open('../../output/{}_optimized_without_deployment_force_{}.pkl.gz'.format(name, time.strftime(\"%Y_%m_%d_%H_%M\")), 'w'))\n",
    "# load_um = pickle.load(gzip.open('test_pickle_um.pkl.gz', 'r'))"
   ]
  },
  {
   "cell_type": "code",
   "execution_count": null,
   "id": "c9844993",
   "metadata": {},
   "outputs": [],
   "source": [
    "max(rest_height_optimizer.params() * input_data['bbox_diagonal']), min(rest_height_optimizer.params() * input_data['bbox_diagonal'])"
   ]
  },
  {
   "cell_type": "code",
   "execution_count": null,
   "id": "667aec0f",
   "metadata": {},
   "outputs": [],
   "source": [
    "input_data['bbox_diagonal']"
   ]
  },
  {
   "cell_type": "code",
   "execution_count": null,
   "id": "b06b85ee",
   "metadata": {},
   "outputs": [],
   "source": [
    "rest_height_optimizer.params() * input_data['bbox_diagonal']"
   ]
  },
  {
   "cell_type": "code",
   "execution_count": null,
   "id": "7d2efe24",
   "metadata": {},
   "outputs": [],
   "source": [
    "import time"
   ]
  },
  {
   "cell_type": "code",
   "execution_count": null,
   "id": "3e745226",
   "metadata": {},
   "outputs": [],
   "source": [
    "import load_jsondata\n",
    "importlib.reload(load_jsondata)"
   ]
  },
  {
   "cell_type": "code",
   "execution_count": null,
   "id": "45935c10",
   "metadata": {},
   "outputs": [],
   "source": [
    "from load_jsondata import update_optimized_json\n",
    "update_optimized_json(input_path, rest_height_optimizer.params(), output_json_path = '../../output/{}_optimized_params_{}.json'.format(name, time.strftime(\"%Y_%m_%d_%H_%M\")), optim_spacing_factor = target_height_multiplier)"
   ]
  },
  {
   "cell_type": "code",
   "execution_count": null,
   "id": "e571545f",
   "metadata": {},
   "outputs": [],
   "source": [
    "rest_height_optimizer.defaultLengthBound()"
   ]
  },
  {
   "cell_type": "code",
   "execution_count": null,
   "id": "c4b3da0e",
   "metadata": {},
   "outputs": [],
   "source": [
    "rest_height_optimizer.numParams()"
   ]
  },
  {
   "cell_type": "code",
   "execution_count": null,
   "id": "46a3113c",
   "metadata": {},
   "outputs": [],
   "source": [
    "# rest_height_optimizer.params() - rest_height_optimizer.defaultLengthBound()"
   ]
  },
  {
   "cell_type": "code",
   "execution_count": null,
   "id": "94953c5c",
   "metadata": {},
   "outputs": [],
   "source": [
    "# rest_height_optimizer.params()"
   ]
  },
  {
   "cell_type": "markdown",
   "id": "86b6ec7d",
   "metadata": {},
   "source": [
    "### Undeployment"
   ]
  },
  {
   "cell_type": "code",
   "execution_count": null,
   "id": "e44c50b6",
   "metadata": {},
   "outputs": [],
   "source": [
    "use_pin = True"
   ]
  },
  {
   "cell_type": "code",
   "execution_count": null,
   "id": "526f5632",
   "metadata": {},
   "outputs": [],
   "source": [
    "driver = curr_um.centralJoint()\n",
    "jdo = curr_um.dofOffsetForJoint(driver)\n",
    "fixedVars = (list(range(jdo, jdo + 6)) if use_pin else []) + curr_um.rigidJointAngleDoFIndices()"
   ]
  },
  {
   "cell_type": "code",
   "execution_count": null,
   "id": "506b5269",
   "metadata": {},
   "outputs": [],
   "source": [
    "curr_um.uniformDeploymentEnergyWeight = 1e-1\n",
    "curr_um.uniformDeploymentEnergyWeight = 0\n",
    "curr_um.targetDeploymentHeight = thickness * target_height_multiplier * 10\n",
    "curr_um.repulsionEnergyWeight = 0\n",
    "curr_um.attractionWeight = 0\n",
    "curr_um.setHoldClosestPointsFixed(False)\n",
    "curr_um.scaleInputPosWeights(1)"
   ]
  },
  {
   "cell_type": "code",
   "execution_count": null,
   "id": "37156c74",
   "metadata": {},
   "outputs": [],
   "source": [
    "allEnergies(curr_um)"
   ]
  },
  {
   "cell_type": "code",
   "execution_count": null,
   "id": "eefef089",
   "metadata": {},
   "outputs": [],
   "source": [
    "OPTS.niter = 600"
   ]
  },
  {
   "cell_type": "code",
   "execution_count": null,
   "id": "812a58b4",
   "metadata": {
    "scrolled": true
   },
   "outputs": [],
   "source": [
    "results = umbrella_mesh.compute_equilibrium(curr_um, callback = eqm_callback, options = OPTS, fixedVars = fixedVars, elasticEnergyIncreaseFactorLimit=2.5)"
   ]
  },
  {
   "cell_type": "code",
   "execution_count": null,
   "id": "6cfa2024",
   "metadata": {},
   "outputs": [],
   "source": [
    "results.success"
   ]
  },
  {
   "cell_type": "code",
   "execution_count": null,
   "id": "9c36f473",
   "metadata": {
    "tags": []
   },
   "outputs": [],
   "source": [
    "allEnergies(curr_um)"
   ]
  },
  {
   "cell_type": "code",
   "execution_count": null,
   "id": "12a95dc5",
   "metadata": {},
   "outputs": [],
   "source": [
    "curr_um.uniformDeploymentEnergyWeight = 0."
   ]
  },
  {
   "cell_type": "code",
   "execution_count": null,
   "id": "b9f15d30",
   "metadata": {
    "scrolled": true,
    "tags": []
   },
   "outputs": [],
   "source": [
    "results = umbrella_mesh.compute_equilibrium(curr_um, callback = eqm_callback, options = OPTS, fixedVars = fixedVars, elasticEnergyIncreaseFactorLimit=2.5)"
   ]
  },
  {
   "cell_type": "code",
   "execution_count": null,
   "id": "3416f95d",
   "metadata": {},
   "outputs": [],
   "source": [
    "results.success"
   ]
  },
  {
   "cell_type": "code",
   "execution_count": null,
   "id": "fdae1d30",
   "metadata": {},
   "outputs": [],
   "source": [
    "allEnergies(curr_um)"
   ]
  },
  {
   "cell_type": "code",
   "execution_count": null,
   "id": "a353130b",
   "metadata": {},
   "outputs": [],
   "source": [
    "# for i in range(curr_um.numJoints()):\n",
    "#     print(curr_um.joint(i).alpha)"
   ]
  },
  {
   "cell_type": "code",
   "execution_count": null,
   "id": "de3b8da8",
   "metadata": {},
   "outputs": [],
   "source": [
    "view.show()"
   ]
  },
  {
   "cell_type": "code",
   "execution_count": null,
   "id": "030a081d",
   "metadata": {},
   "outputs": [],
   "source": [
    "import pickle \n",
    "import gzip\n",
    "\n",
    "pickle.dump(curr_um, gzip.open('../../output/{}_optimized_rest_state_equilibrium_{}.pkl.gz'.format(name, time.strftime(\"%Y_%m_%d_%H_%M\")), 'w'))\n",
    "# load_um = pickle.load(gzip.open('test_pickle_um.pkl.gz', 'r'))"
   ]
  },
  {
   "cell_type": "code",
   "execution_count": null,
   "id": "389f16fc",
   "metadata": {},
   "outputs": [],
   "source": []
  }
 ],
 "metadata": {
  "kernelspec": {
   "display_name": "umbrella_mesh",
   "language": "python",
   "name": "umbrella_mesh"
  },
  "language_info": {
   "codemirror_mode": {
    "name": "ipython",
    "version": 3
   },
   "file_extension": ".py",
   "mimetype": "text/x-python",
   "name": "python",
   "nbconvert_exporter": "python",
   "pygments_lexer": "ipython3",
   "version": "3.9.7"
  }
 },
 "nbformat": 4,
 "nbformat_minor": 5
}
