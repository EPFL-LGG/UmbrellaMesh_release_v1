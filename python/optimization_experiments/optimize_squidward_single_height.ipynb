{
 "cells": [
  {
   "cell_type": "markdown",
   "id": "b4365309",
   "metadata": {},
   "source": [
    "# Compare symmetric and asymmetric results"
   ]
  },
  {
   "cell_type": "code",
   "execution_count": null,
   "id": "6b306eed",
   "metadata": {},
   "outputs": [],
   "source": [
    "import sys\n",
    "sys.path.append('..')\n",
    "import umbrella_mesh\n",
    "import elastic_rods\n",
    "import linkage_vis\n",
    "from umbrella_mesh import UmbrellaEnergyType\n",
    "from bending_validation import suppress_stdout as so\n",
    "from visualization_helper import *\n",
    "import importlib, pipeline_helper"
   ]
  },
  {
   "cell_type": "code",
   "execution_count": null,
   "id": "3d3b3999",
   "metadata": {},
   "outputs": [],
   "source": [
    "importlib.reload(pipeline_helper)\n",
    "from pipeline_helper import allEnergies, allGradientNorms, allDesignObjectives, allDesignGradientNorms"
   ]
  },
  {
   "cell_type": "code",
   "execution_count": null,
   "id": "01446fb9",
   "metadata": {},
   "outputs": [],
   "source": [
    "import numpy as np\n",
    "import numpy.linalg as la"
   ]
  },
  {
   "cell_type": "code",
   "execution_count": null,
   "id": "36147497",
   "metadata": {},
   "outputs": [],
   "source": [
    "import pickle, gzip"
   ]
  },
  {
   "cell_type": "markdown",
   "id": "f251dd4d",
   "metadata": {},
   "source": [
    "### Initialization"
   ]
  },
  {
   "cell_type": "code",
   "execution_count": null,
   "id": "b12eb0d7",
   "metadata": {},
   "outputs": [],
   "source": [
    "name = 'squidward_highres'\n",
    "input_path = '../../data/{}.json.gz'.format(name)"
   ]
  },
  {
   "cell_type": "code",
   "execution_count": null,
   "id": "9b2004ea",
   "metadata": {},
   "outputs": [],
   "source": [
    "from load_jsondata import read_data\n",
    "input_data, io = read_data(filepath = input_path)\n",
    "import mesh\n",
    "target_mesh = mesh.Mesh(input_data['target_v'], input_data['target_f'])"
   ]
  },
  {
   "cell_type": "code",
   "execution_count": null,
   "id": "61f6b212",
   "metadata": {},
   "outputs": [],
   "source": [
    "curr_um = umbrella_mesh.UmbrellaMesh(io)\n",
    "thickness = io.material_params[6]\n",
    "target_height_multiplier = input_data['target_spacing_factor']\n",
    "# target_height_multiplier = 1"
   ]
  },
  {
   "cell_type": "code",
   "execution_count": null,
   "id": "1ff723ca",
   "metadata": {},
   "outputs": [],
   "source": [
    "# optimized_um = pickle.load(gzip.open('../../output/squidward_highres_single_height_flipped_mean_curvature_optimized_equilibrium_2022_01_20_00_26_target_height_factor_5.0.pkl.gz', 'r'))\n",
    "\n",
    "# tgt = curr_um.XJointTgtPositions().reshape(curr_um.numXJoints(), 3)\n",
    "\n",
    "# curr_pos = optimized_um.XJointPositions().reshape(curr_um.numXJoints(), 3)\n",
    "\n",
    "# import registration\n",
    "\n",
    "# registration.register_points(tgt, curr_pos)"
   ]
  },
  {
   "cell_type": "markdown",
   "id": "45a3b02e",
   "metadata": {},
   "source": [
    "#### Pin Rigid Motion\n",
    "\n"
   ]
  },
  {
   "cell_type": "code",
   "execution_count": null,
   "id": "5ee4cd6e",
   "metadata": {},
   "outputs": [],
   "source": [
    "use_pin = False"
   ]
  },
  {
   "cell_type": "code",
   "execution_count": null,
   "id": "c7d27c56",
   "metadata": {},
   "outputs": [],
   "source": [
    "driver = curr_um.centralJoint()\n",
    "jdo = curr_um.dofOffsetForJoint(driver)\n",
    "fixedVars = (list(range(jdo, jdo + 6)) if use_pin else []) + curr_um.rigidJointAngleDoFIndices()"
   ]
  },
  {
   "cell_type": "code",
   "execution_count": null,
   "id": "f74ab097",
   "metadata": {},
   "outputs": [],
   "source": [
    "import py_newton_optimizer\n",
    "OPTS = py_newton_optimizer.NewtonOptimizerOptions()\n",
    "OPTS.gradTol = 1e-8\n",
    "OPTS.verbose = 1\n",
    "OPTS.beta = 1e-6\n",
    "OPTS.niter = 300\n",
    "OPTS.verboseNonPosDef = False"
   ]
  },
  {
   "cell_type": "code",
   "execution_count": null,
   "id": "1d7e44b3",
   "metadata": {},
   "outputs": [],
   "source": [
    "rod_colors = get_color_field(curr_um, input_data)"
   ]
  },
  {
   "cell_type": "code",
   "execution_count": null,
   "id": "ff8c0bf2",
   "metadata": {},
   "outputs": [],
   "source": [
    "# lview = linkage_vis.LinkageViewer(curr_um, width=1024, height=600)\n",
    "# lview.update(scalarField = rod_colors)\n",
    "# lview.show()"
   ]
  },
  {
   "cell_type": "code",
   "execution_count": null,
   "id": "ad289772",
   "metadata": {},
   "outputs": [],
   "source": [
    "import mesh\n",
    "view = linkage_vis.LinkageViewerWithSurface(curr_um, target_mesh, width=1024, height=600)\n",
    "set_surface_view_options(view, color = 'green', surface_color = 'gray', umbrella_transparent = False, surface_transparent = True)\n",
    "view.averagedMaterialFrames = True\n",
    "view.showScalarField(rod_colors)\n",
    "view.show()"
   ]
  },
  {
   "cell_type": "code",
   "execution_count": null,
   "id": "b5e00470",
   "metadata": {},
   "outputs": [],
   "source": [
    "view.getCameraParams()"
   ]
  },
  {
   "cell_type": "code",
   "execution_count": null,
   "id": "797ff261",
   "metadata": {},
   "outputs": [],
   "source": [
    "view.getSize()"
   ]
  },
  {
   "cell_type": "code",
   "execution_count": null,
   "id": "efb48531",
   "metadata": {},
   "outputs": [],
   "source": [
    "import time"
   ]
  },
  {
   "cell_type": "code",
   "execution_count": null,
   "id": "ca3e7ec0",
   "metadata": {},
   "outputs": [],
   "source": [
    "# def renderToFile(path, view, renderCam = None):\n",
    "#     orender = view.offscreenRenderer(width=2048, height=1200)\n",
    "#     if renderCam is not None:\n",
    "#         orender.setCameraParams(renderCam)\n",
    "#     orender.render()\n",
    "#     orender.save(path)\n",
    "# renderToFile('{}_target_height_factor_{}_{}.png'.format(name, target_height_multiplier, time.strftime(\"%Y_%m_%d_%H_%M\")), view)"
   ]
  },
  {
   "cell_type": "code",
   "execution_count": null,
   "id": "ef0f79e5",
   "metadata": {},
   "outputs": [],
   "source": [
    "curr_um.deploymentForceType = umbrella_mesh.DeploymentForceType.LinearActuator"
   ]
  },
  {
   "cell_type": "code",
   "execution_count": null,
   "id": "08fd0736",
   "metadata": {},
   "outputs": [],
   "source": [
    "import importlib, pipeline_helper\n",
    "importlib.reload(pipeline_helper)"
   ]
  },
  {
   "cell_type": "code",
   "execution_count": null,
   "id": "14eb8cc7",
   "metadata": {},
   "outputs": [],
   "source": [
    "from pipeline_helper import set_joint_vector_field, show_center_joint_normal, show_joint_normal"
   ]
  },
  {
   "cell_type": "code",
   "execution_count": null,
   "id": "38252f46",
   "metadata": {
    "tags": []
   },
   "outputs": [],
   "source": [
    "from equilibrium_solve_analysis import EquilibriumSolveAnalysis\n",
    "eqays = EquilibriumSolveAnalysis(curr_um)\n",
    "def eqm_callback(prob, i):\n",
    "    eqays.record(prob)\n",
    "    if (i % 2 == 0):\n",
    "        view.showScalarField(rod_colors)"
   ]
  },
  {
   "cell_type": "code",
   "execution_count": null,
   "id": "1ac290b3",
   "metadata": {},
   "outputs": [],
   "source": [
    "curr_um.targetDeploymentHeight = thickness * target_height_multiplier\n",
    "curr_um.repulsionEnergyWeight = 0\n",
    "curr_um.attractionWeight = 1e-1\n",
    "curr_um.setHoldClosestPointsFixed(True)\n",
    "curr_um.scaleInputPosWeights(1)"
   ]
  },
  {
   "cell_type": "code",
   "execution_count": null,
   "id": "0e7dcd60",
   "metadata": {},
   "outputs": [],
   "source": [
    "curr_um.angleBoundEnforcement = umbrella_mesh.AngleBoundEnforcement.Penalty"
   ]
  },
  {
   "cell_type": "code",
   "execution_count": null,
   "id": "ff3d43a5",
   "metadata": {},
   "outputs": [],
   "source": [
    "allGradientNorms(curr_um)"
   ]
  },
  {
   "cell_type": "code",
   "execution_count": null,
   "id": "d75df58c",
   "metadata": {},
   "outputs": [],
   "source": [
    "dof = curr_um.getDoFs()\n",
    "for i in range(curr_um.numJoints()):\n",
    "    # if (curr_um.joint(i).jointType() == umbrella_mesh.JointType.X):\n",
    "    dof[curr_um.dofOffsetForJoint(i) + 6] = 1e-3\n",
    "curr_um.setDoFs(dof)"
   ]
  },
  {
   "cell_type": "code",
   "execution_count": null,
   "id": "5f61a110",
   "metadata": {},
   "outputs": [],
   "source": [
    "view.showScalarField(rod_colors)"
   ]
  },
  {
   "cell_type": "code",
   "execution_count": null,
   "id": "4e5202ce",
   "metadata": {},
   "outputs": [],
   "source": [
    "# curr_um.targetDeploymentHeight = thickness * target_height_multiplier"
   ]
  },
  {
   "cell_type": "code",
   "execution_count": null,
   "id": "a9254b00",
   "metadata": {},
   "outputs": [],
   "source": [
    "OPTS.niter = 100"
   ]
  },
  {
   "cell_type": "code",
   "execution_count": null,
   "id": "53408088",
   "metadata": {},
   "outputs": [],
   "source": [
    "# curr_um.uniformDeploymentEnergyWeight = 1e-3\n",
    "# with so(): results = umbrella_mesh.compute_equilibrium(curr_um, callback = eqm_callback, options = OPTS, fixedVars = fixedVars, elasticEnergyIncreaseFactorLimit=2.5)"
   ]
  },
  {
   "cell_type": "code",
   "execution_count": null,
   "id": "31dcf2bb",
   "metadata": {},
   "outputs": [],
   "source": [
    "# curr_um.uniformDeploymentEnergyWeight = 1e-2\n",
    "# with so(): results = umbrella_mesh.compute_equilibrium(curr_um, callback = eqm_callback, options = OPTS, fixedVars = fixedVars, elasticEnergyIncreaseFactorLimit=2.5)\n",
    "# curr_um.uniformDeploymentEnergyWeight = 1e-1\n",
    "# with so(): results = umbrella_mesh.compute_equilibrium(curr_um, callback = eqm_callback, options = OPTS, fixedVars = fixedVars, elasticEnergyIncreaseFactorLimit=2.5)\n",
    "# curr_um.uniformDeploymentEnergyWeight = 1e0\n",
    "# with so(): results = umbrella_mesh.compute_equilibrium(curr_um, callback = eqm_callback, options = OPTS, fixedVars = fixedVars, elasticEnergyIncreaseFactorLimit=2.5)"
   ]
  },
  {
   "cell_type": "code",
   "execution_count": null,
   "id": "bd00e387",
   "metadata": {},
   "outputs": [],
   "source": [
    "# curr_um.uniformDeploymentEnergyWeight = 1e0\n",
    "# with so(): results = umbrella_mesh.compute_equilibrium(curr_um, callback = eqm_callback, options = OPTS, fixedVars = fixedVars, elasticEnergyIncreaseFactorLimit=2.5)"
   ]
  },
  {
   "cell_type": "code",
   "execution_count": null,
   "id": "c9fa111e",
   "metadata": {
    "scrolled": true
   },
   "outputs": [],
   "source": [
    "curr_um.uniformDeploymentEnergyWeight = 1e-3\n",
    "with so(): results = umbrella_mesh.compute_equilibrium(curr_um, callback = eqm_callback, options = OPTS, fixedVars = fixedVars, elasticEnergyIncreaseFactorLimit=2.5)\n",
    "curr_um.uniformDeploymentEnergyWeight = 1e-2\n",
    "with so(): results = umbrella_mesh.compute_equilibrium(curr_um, callback = eqm_callback, options = OPTS, fixedVars = fixedVars, elasticEnergyIncreaseFactorLimit=2.5)\n",
    "curr_um.uniformDeploymentEnergyWeight = 1e-1\n",
    "with so(): results = umbrella_mesh.compute_equilibrium(curr_um, callback = eqm_callback, options = OPTS, fixedVars = fixedVars, elasticEnergyIncreaseFactorLimit=2.5)\n",
    "curr_um.uniformDeploymentEnergyWeight = 1e0\n",
    "with so(): results = umbrella_mesh.compute_equilibrium(curr_um, callback = eqm_callback, options = OPTS, fixedVars = fixedVars, elasticEnergyIncreaseFactorLimit=2.5)"
   ]
  },
  {
   "cell_type": "code",
   "execution_count": null,
   "id": "ef509866",
   "metadata": {},
   "outputs": [],
   "source": [
    "curr_um.uniformDeploymentEnergyWeight = 1e0\n",
    "with so(): results = umbrella_mesh.compute_equilibrium(curr_um, callback = eqm_callback, options = OPTS, fixedVars = fixedVars, elasticEnergyIncreaseFactorLimit=2.5)"
   ]
  },
  {
   "cell_type": "code",
   "execution_count": null,
   "id": "253d8295",
   "metadata": {},
   "outputs": [],
   "source": [
    "results.success"
   ]
  },
  {
   "cell_type": "code",
   "execution_count": null,
   "id": "a61e53e5",
   "metadata": {},
   "outputs": [],
   "source": [
    "eqays.plot()"
   ]
  },
  {
   "cell_type": "markdown",
   "id": "24c4524d",
   "metadata": {},
   "source": [
    "### Initialize Design Optimization"
   ]
  },
  {
   "cell_type": "code",
   "execution_count": null,
   "id": "685ed974",
   "metadata": {},
   "outputs": [],
   "source": [
    "curr_um.repulsionEnergyWeight = 0\n",
    "curr_um.attractionWeight = 1e-3\n",
    "curr_um.setHoldClosestPointsFixed(False)\n",
    "curr_um.scaleInputPosWeights(0.1)"
   ]
  },
  {
   "cell_type": "code",
   "execution_count": null,
   "id": "16d9507f",
   "metadata": {},
   "outputs": [],
   "source": [
    "import umbrella_optimization\n",
    "import umbrella_optimization_finite_diff"
   ]
  },
  {
   "cell_type": "code",
   "execution_count": null,
   "id": "9008f88a",
   "metadata": {
    "tags": []
   },
   "outputs": [],
   "source": [
    "import py_newton_optimizer\n",
    "opt_opts = py_newton_optimizer.NewtonOptimizerOptions()\n",
    "opt_opts.gradTol = 1e-8\n",
    "opt_opts.verbose = 10\n",
    "opt_opts.beta = 1e-6\n",
    "opt_opts.niter = 600\n",
    "opt_opts.verboseNonPosDef = False"
   ]
  },
  {
   "cell_type": "code",
   "execution_count": null,
   "id": "477e3553",
   "metadata": {
    "scrolled": true
   },
   "outputs": [],
   "source": [
    "results = umbrella_mesh.compute_equilibrium(curr_um, callback = eqm_callback, options = opt_opts, fixedVars = fixedVars, elasticEnergyIncreaseFactorLimit=2.5)"
   ]
  },
  {
   "cell_type": "code",
   "execution_count": null,
   "id": "0d1f38a9",
   "metadata": {},
   "outputs": [],
   "source": [
    "opt_opts.niter = 50"
   ]
  },
  {
   "cell_type": "code",
   "execution_count": null,
   "id": "373db53b",
   "metadata": {},
   "outputs": [],
   "source": [
    "results.success"
   ]
  },
  {
   "cell_type": "code",
   "execution_count": null,
   "id": "da02e243",
   "metadata": {},
   "outputs": [],
   "source": [
    "optimizer = umbrella_optimization.UmbrellaOptimization(curr_um, opt_opts, 2.5, -1, False, fixedVars)"
   ]
  },
  {
   "cell_type": "code",
   "execution_count": null,
   "id": "f0db16ce",
   "metadata": {},
   "outputs": [],
   "source": [
    "optimizer.beta = 5 * 1e6\n",
    "optimizer.gamma = 1\n",
    "optimizer.eta = 0\n",
    "optimizer.zeta = 0# 1e1"
   ]
  },
  {
   "cell_type": "code",
   "execution_count": null,
   "id": "94392143",
   "metadata": {},
   "outputs": [],
   "source": [
    "rest_height_optimizer = umbrella_optimization.UmbrellaRestHeightsOptimization(optimizer)\n",
    "single_rest_height_optimizer = umbrella_optimization.UmbrellaSingleRestHeightOptimization(rest_height_optimizer)"
   ]
  },
  {
   "cell_type": "code",
   "execution_count": null,
   "id": "ce4cd6e9",
   "metadata": {},
   "outputs": [],
   "source": [
    "import pipeline_helper, importlib, design_optimization_analysis\n",
    "with so(): importlib.reload(pipeline_helper)\n",
    "with so(): importlib.reload(design_optimization_analysis)"
   ]
  },
  {
   "cell_type": "code",
   "execution_count": null,
   "id": "3eef0dcc",
   "metadata": {},
   "outputs": [],
   "source": [
    "from pipeline_helper import UmbrellaOptimizationCallback"
   ]
  },
  {
   "cell_type": "code",
   "execution_count": null,
   "id": "f0931aee",
   "metadata": {},
   "outputs": [],
   "source": [
    "from umbrella_optimization import OptEnergyType"
   ]
  },
  {
   "cell_type": "code",
   "execution_count": null,
   "id": "446e3137",
   "metadata": {},
   "outputs": [],
   "source": [
    "from design_optimization_analysis import DesignOptimizationAnalysis\n",
    "doptays = DesignOptimizationAnalysis(single_rest_height_optimizer)\n",
    "def eqm_callback(prob, i):\n",
    "    eqays.record(prob)\n",
    "    if (i % 2 == 0):\n",
    "        view.showScalarField(rod_colors)"
   ]
  },
  {
   "cell_type": "code",
   "execution_count": null,
   "id": "d5a76a16",
   "metadata": {},
   "outputs": [],
   "source": [
    "import time"
   ]
  },
  {
   "cell_type": "code",
   "execution_count": null,
   "id": "1d6d1ced",
   "metadata": {},
   "outputs": [],
   "source": [
    "pipeline_helper.prev_time_stamp = time.time()"
   ]
  },
  {
   "cell_type": "code",
   "execution_count": null,
   "id": "1faaa91b",
   "metadata": {},
   "outputs": [],
   "source": [
    "uo = single_rest_height_optimizer.get_parent_opt().get_parent_opt()"
   ]
  },
  {
   "cell_type": "code",
   "execution_count": null,
   "id": "6a2fe0c8",
   "metadata": {},
   "outputs": [],
   "source": [
    "uo.equilibriumOptimizer.options.verbose = 1\n",
    "#uo.equilibriumOptimizer.options.verboseWorkingSet = True\n",
    "uo.equilibriumOptimizer.options.gradTol = 1e-10\n",
    "# Hold the closest points fixed in the target-attraction term of the equilibrium solve:\n",
    "# this seems to make the design optimization much more robust.\n",
    "uo.setHoldClosestPointsFixed(True, False)"
   ]
  },
  {
   "cell_type": "code",
   "execution_count": null,
   "id": "be285162",
   "metadata": {},
   "outputs": [],
   "source": [
    "tfview = pipeline_helper.TargetFittingVisualization(curr_um, uo.target_surface_fitter, view)\n",
    "cb = pipeline_helper.UmbrellaOptimizationCallback(single_rest_height_optimizer, view, True, False, 1, rod_colors, doptays.record, tfview=tfview)"
   ]
  },
  {
   "cell_type": "code",
   "execution_count": null,
   "id": "39ec4a5e",
   "metadata": {},
   "outputs": [],
   "source": [
    "algorithm = umbrella_optimization.OptAlgorithm.NEWTON_CG\n",
    "solverStatus = umbrella_optimization.optimize(single_rest_height_optimizer, algorithm, 2000, 0.005, 1e-5, cb, input_data[\"plate_edge_length\"] / 30 * 32)"
   ]
  },
  {
   "cell_type": "code",
   "execution_count": null,
   "id": "b15dcdd7",
   "metadata": {},
   "outputs": [],
   "source": [
    "single_rest_height_optimizer.beta, single_rest_height_optimizer.gamma, single_rest_height_optimizer.eta"
   ]
  },
  {
   "cell_type": "code",
   "execution_count": null,
   "id": "b682012b",
   "metadata": {},
   "outputs": [],
   "source": [
    "import time"
   ]
  },
  {
   "cell_type": "code",
   "execution_count": null,
   "id": "97e5047d",
   "metadata": {},
   "outputs": [],
   "source": [
    "doptays.plot()"
   ]
  },
  {
   "cell_type": "markdown",
   "id": "ef23f5f0",
   "metadata": {},
   "source": [
    "### Get true equilibrium state"
   ]
  },
  {
   "cell_type": "code",
   "execution_count": null,
   "id": "1dec8f1d",
   "metadata": {},
   "outputs": [],
   "source": [
    "use_pin = True"
   ]
  },
  {
   "cell_type": "code",
   "execution_count": null,
   "id": "b84fdc8a",
   "metadata": {},
   "outputs": [],
   "source": [
    "driver = curr_um.centralJoint()\n",
    "jdo = curr_um.dofOffsetForJoint(driver)\n",
    "fixedVars = (list(range(jdo, jdo + 6)) if use_pin else []) + curr_um.rigidJointAngleDoFIndices()"
   ]
  },
  {
   "cell_type": "code",
   "execution_count": null,
   "id": "30c27751",
   "metadata": {},
   "outputs": [],
   "source": [
    "curr_um.uniformDeploymentEnergyWeight = 1e0\n",
    "# curr_um.uniformDeploymentEnergyWeight = 0\n",
    "curr_um.targetDeploymentHeight = thickness * target_height_multiplier \n",
    "curr_um.attractionWeight = 0"
   ]
  },
  {
   "cell_type": "code",
   "execution_count": null,
   "id": "8082c6b4",
   "metadata": {},
   "outputs": [],
   "source": [
    "allEnergies(curr_um)"
   ]
  },
  {
   "cell_type": "code",
   "execution_count": null,
   "id": "92d735e4",
   "metadata": {},
   "outputs": [],
   "source": [
    "OPTS.niter = 100"
   ]
  },
  {
   "cell_type": "code",
   "execution_count": null,
   "id": "c5e35c76",
   "metadata": {
    "scrolled": true
   },
   "outputs": [],
   "source": [
    "results = umbrella_mesh.compute_equilibrium(curr_um, callback = eqm_callback, options = OPTS, fixedVars = fixedVars, elasticEnergyIncreaseFactorLimit=2.5)"
   ]
  },
  {
   "cell_type": "code",
   "execution_count": null,
   "id": "a3df6d4b",
   "metadata": {},
   "outputs": [],
   "source": [
    "results.success"
   ]
  },
  {
   "cell_type": "code",
   "execution_count": null,
   "id": "a58668be",
   "metadata": {},
   "outputs": [],
   "source": [
    "import pickle \n",
    "import gzip\n",
    "\n",
    "pickle.dump(curr_um, gzip.open('../../output/{}_single_height_flipped_mean_curvature_optimized_equilibrium_{}_target_height_factor_{}.pkl.gz'.format(name, time.strftime(\"%Y_%m_%d_%H_%M\"), target_height_multiplier), 'w'))\n",
    "# load_um = pickle.load(gzip.open('test_pickle_um.pkl.gz', 'r'))"
   ]
  },
  {
   "cell_type": "code",
   "execution_count": null,
   "id": "aeb51eba",
   "metadata": {},
   "outputs": [],
   "source": [
    "import pickle \n",
    "import gzip\n",
    "\n",
    "pickle.dump(curr_um, gzip.open('../../output/{}_single_height_optimized_equilibrium_{}_target_height_factor_{}.pkl.gz'.format(name, time.strftime(\"%Y_%m_%d_%H_%M\"), target_height_multiplier), 'w'))\n",
    "# load_um = pickle.load(gzip.open('test_pickle_um.pkl.gz', 'r'))"
   ]
  },
  {
   "cell_type": "code",
   "execution_count": null,
   "id": "a3840c0d",
   "metadata": {},
   "outputs": [],
   "source": [
    "from load_jsondata import update_optimized_json\n",
    "update_optimized_json(input_path, rest_height_optimizer.params(), output_json_path = '../../output/{}_single_height_optimized_params_{}.json'.format(name, time.strftime(\"%Y_%m_%d_%H_%M\")), optim_spacing_factor = target_height_multiplier)"
   ]
  },
  {
   "cell_type": "code",
   "execution_count": null,
   "id": "3990cb40",
   "metadata": {},
   "outputs": [],
   "source": [
    "import pickle \n",
    "import gzip\n",
    "\n",
    "pickle.dump(curr_um, gzip.open('../../output/{}_input_equilibrium_{}_target_height_factor_{}.pkl.gz'.format(name, time.strftime(\"%Y_%m_%d_%H_%M\"), target_height_multiplier), 'w'))\n",
    "# load_um = pickle.load(gzip.open('test_pickle_um.pkl.gz', 'r'))"
   ]
  },
  {
   "cell_type": "markdown",
   "id": "c8e9834a",
   "metadata": {},
   "source": [
    "### Undeployment"
   ]
  },
  {
   "cell_type": "code",
   "execution_count": null,
   "id": "83785765",
   "metadata": {},
   "outputs": [],
   "source": [
    "curr_um.uniformDeploymentEnergyWeight = 1e-1\n",
    "# curr_um.uniformDeploymentEnergyWeight = 0\n",
    "curr_um.targetDeploymentHeight = thickness * target_height_multiplier * 10\n",
    "curr_um.attractionWeight = 0"
   ]
  },
  {
   "cell_type": "code",
   "execution_count": null,
   "id": "1241fe10",
   "metadata": {},
   "outputs": [],
   "source": [
    "allEnergies(curr_um)"
   ]
  },
  {
   "cell_type": "code",
   "execution_count": null,
   "id": "c925c81b",
   "metadata": {},
   "outputs": [],
   "source": [
    "OPTS.niter = 10"
   ]
  },
  {
   "cell_type": "code",
   "execution_count": null,
   "id": "4d21bfc2",
   "metadata": {
    "scrolled": true
   },
   "outputs": [],
   "source": [
    "results = umbrella_mesh.compute_equilibrium(curr_um, callback = eqm_callback, options = OPTS, fixedVars = fixedVars, elasticEnergyIncreaseFactorLimit=2.5)"
   ]
  },
  {
   "cell_type": "code",
   "execution_count": null,
   "id": "cf68dd47",
   "metadata": {},
   "outputs": [],
   "source": [
    "results.success"
   ]
  },
  {
   "cell_type": "code",
   "execution_count": null,
   "id": "d7285015",
   "metadata": {},
   "outputs": [],
   "source": [
    "curr_um.uniformDeploymentEnergyWeight = 0"
   ]
  },
  {
   "cell_type": "code",
   "execution_count": null,
   "id": "1fa00271",
   "metadata": {},
   "outputs": [],
   "source": [
    "allEnergies(curr_um)"
   ]
  },
  {
   "cell_type": "code",
   "execution_count": null,
   "id": "f67d3d54",
   "metadata": {},
   "outputs": [],
   "source": [
    "OPTS.niter = 500"
   ]
  },
  {
   "cell_type": "code",
   "execution_count": null,
   "id": "b6431427",
   "metadata": {
    "scrolled": true
   },
   "outputs": [],
   "source": [
    "results = umbrella_mesh.compute_equilibrium(curr_um, callback = eqm_callback, options = OPTS, fixedVars = fixedVars, elasticEnergyIncreaseFactorLimit=2.5)"
   ]
  },
  {
   "cell_type": "code",
   "execution_count": null,
   "id": "b4452d64",
   "metadata": {},
   "outputs": [],
   "source": [
    "results.success"
   ]
  },
  {
   "cell_type": "code",
   "execution_count": null,
   "id": "bc8ef84a",
   "metadata": {},
   "outputs": [],
   "source": [
    "import pickle \n",
    "import gzip\n",
    "\n",
    "pickle.dump(curr_um, gzip.open('../../output/{}_single_height_optimized_rest_state_equilibrium_{}_target_height_factor_{}.pkl.gz'.format(name, time.strftime(\"%Y_%m_%d_%H_%M\"), target_height_multiplier), 'w'))\n",
    "# load_um = pickle.load(gzip.open('test_pickle_um.pkl.gz', 'r'))"
   ]
  },
  {
   "cell_type": "markdown",
   "id": "aae6fe41",
   "metadata": {},
   "source": []
  }
 ],
 "metadata": {
  "kernelspec": {
   "display_name": "umbrella_mesh",
   "language": "python",
   "name": "umbrella_mesh"
  },
  "language_info": {
   "codemirror_mode": {
    "name": "ipython",
    "version": 3
   },
   "file_extension": ".py",
   "mimetype": "text/x-python",
   "name": "python",
   "nbconvert_exporter": "python",
   "pygments_lexer": "ipython3",
   "version": "3.9.7"
  }
 },
 "nbformat": 4,
 "nbformat_minor": 5
}
