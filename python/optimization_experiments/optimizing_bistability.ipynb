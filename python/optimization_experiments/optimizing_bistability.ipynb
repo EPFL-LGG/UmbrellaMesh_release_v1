{
 "cells": [
  {
   "cell_type": "code",
   "execution_count": null,
   "id": "0e01fbfc",
   "metadata": {},
   "outputs": [],
   "source": [
    "import sys\n",
    "sys.path.append('..')\n",
    "import umbrella_mesh\n",
    "import elastic_rods\n",
    "import linkage_vis\n",
    "from umbrella_mesh import UmbrellaEnergyType\n",
    "from bending_validation import suppress_stdout as so\n",
    "from visualization_helper import *"
   ]
  },
  {
   "cell_type": "code",
   "execution_count": null,
   "id": "ad836c90",
   "metadata": {},
   "outputs": [],
   "source": [
    "import numpy as np\n",
    "import numpy.linalg as la"
   ]
  },
  {
   "cell_type": "markdown",
   "id": "ac9640a4",
   "metadata": {},
   "source": [
    "### Initial Deployment"
   ]
  },
  {
   "cell_type": "code",
   "execution_count": null,
   "id": "cad0606c",
   "metadata": {},
   "outputs": [],
   "source": [
    "name = 'sphere_cap_0.3_straight'"
   ]
  },
  {
   "cell_type": "code",
   "execution_count": null,
   "id": "f2e394e2",
   "metadata": {},
   "outputs": [],
   "source": [
    "input_path = '../../data/{}.json'.format(name)\n",
    "target_mesh_path = '../../data/target_meshes/{}.obj'.format(name)"
   ]
  },
  {
   "cell_type": "code",
   "execution_count": null,
   "id": "d4b728e0",
   "metadata": {},
   "outputs": [],
   "source": [
    "# input_path = '../../data/{}.json'.format('hemisphere')\n",
    "# target_mesh_path = '../../data/target_meshes/{}.obj'.format('hemisphere')"
   ]
  },
  {
   "cell_type": "code",
   "execution_count": null,
   "id": "4563eb51",
   "metadata": {},
   "outputs": [],
   "source": [
    "from load_jsondata import read_data\n",
    "input_data, io = read_data(filepath = input_path)\n",
    "width = 0.5*input_data['arm_plate_edge_offset']\n",
    "thickness = width * 0.5 # 1.5 mm # FIX from mm to meters everywhere\n",
    "cross_section = [thickness, width]"
   ]
  },
  {
   "cell_type": "code",
   "execution_count": null,
   "id": "b7ca08dc",
   "metadata": {
    "scrolled": true,
    "tags": []
   },
   "outputs": [],
   "source": [
    "curr_um = umbrella_mesh.UmbrellaMesh(target_mesh_path, io)\n",
    "curr_um.setMaterial(elastic_rods.RodMaterial('rectangle', 2000, 0.3, cross_section, stiffAxis=elastic_rods.StiffAxis.D1))"
   ]
  },
  {
   "cell_type": "code",
   "execution_count": null,
   "id": "3c21b4b2",
   "metadata": {},
   "outputs": [],
   "source": [
    "curr_um.energy(UmbrellaEnergyType.Full)"
   ]
  },
  {
   "cell_type": "markdown",
   "id": "d5fde7ce",
   "metadata": {},
   "source": [
    "#### Pin Rigid Motion\n",
    "\n"
   ]
  },
  {
   "cell_type": "code",
   "execution_count": null,
   "id": "a359710c",
   "metadata": {},
   "outputs": [],
   "source": [
    "use_pin = False"
   ]
  },
  {
   "cell_type": "code",
   "execution_count": null,
   "id": "c49f1047",
   "metadata": {},
   "outputs": [],
   "source": [
    "driver = curr_um.centralJoint()\n",
    "jdo = curr_um.dofOffsetForJoint(driver)\n",
    "fixedVars = (list(range(jdo, jdo + 6)) if use_pin else []) + curr_um.rigidJointAngleDoFIndices()"
   ]
  },
  {
   "cell_type": "code",
   "execution_count": null,
   "id": "d780d79e",
   "metadata": {},
   "outputs": [],
   "source": [
    "import py_newton_optimizer\n",
    "OPTS = py_newton_optimizer.NewtonOptimizerOptions()\n",
    "OPTS.gradTol = 1e-6\n",
    "OPTS.verbose = 1\n",
    "OPTS.beta = 1e-6\n",
    "OPTS.niter = 300\n",
    "OPTS.verboseNonPosDef = False"
   ]
  },
  {
   "cell_type": "code",
   "execution_count": null,
   "id": "5895ae9a",
   "metadata": {},
   "outputs": [],
   "source": [
    "rod_colors = []\n",
    "for ri in range(curr_um.numSegments()):\n",
    "    rod_colors.append(np.ones(curr_um.segment(ri).rod.numVertices()) * ri)"
   ]
  },
  {
   "cell_type": "code",
   "execution_count": null,
   "id": "3e5d4321",
   "metadata": {},
   "outputs": [],
   "source": [
    "import mesh\n",
    "target_mesh = mesh.Mesh(target_mesh_path)\n",
    "view = linkage_vis.LinkageViewerWithSurface(curr_um, target_mesh, width=1024, height=600)\n",
    "# view = linkage_vis.LinkageViewer(curr_um, width=1024, height=600)\n",
    "# view.update(scalarField = rod_colors)\n",
    "set_surface_view_options(view, color = 'green', surface_color = 'gray', umbrella_transparent = False, surface_transparent = True)\n",
    "view.averagedMaterialFrames = True\n",
    "view.showScalarField(rod_colors)\n",
    "view.show()"
   ]
  },
  {
   "cell_type": "code",
   "execution_count": null,
   "id": "d1485a8b",
   "metadata": {},
   "outputs": [],
   "source": [
    "# camParams = view.getCameraParams()"
   ]
  },
  {
   "cell_type": "code",
   "execution_count": null,
   "id": "48dc3043",
   "metadata": {},
   "outputs": [],
   "source": [
    "# view.setCameraParams(camParams)"
   ]
  },
  {
   "cell_type": "code",
   "execution_count": null,
   "id": "f025f950",
   "metadata": {},
   "outputs": [],
   "source": [
    "# import time\n",
    "# time.sleep(5)"
   ]
  },
  {
   "cell_type": "code",
   "execution_count": null,
   "id": "385abd0f",
   "metadata": {
    "tags": []
   },
   "outputs": [],
   "source": [
    "angles = []\n",
    "def eqm_callback(prob, i):\n",
    "    angles.append(curr_um.getDoFs()[curr_um.jointAngleDoFIndices()])\n",
    "    if (i % 10 == 0):\n",
    "        view.update()\n",
    "        view.showScalarField(rod_colors)"
   ]
  },
  {
   "cell_type": "code",
   "execution_count": null,
   "id": "a8240f4a",
   "metadata": {},
   "outputs": [],
   "source": [
    "curr_um.uniformDeploymentEnergyWeight = 0.1\n",
    "# curr_um.deploymentForceType = umbrella_mesh.DeploymentForceType.Constant\n",
    "curr_um.targetDeploymentHeight = thickness * 5\n",
    "curr_um.repulsionEnergyWeight = 0\n",
    "curr_um.attractionWeight = 2000\n",
    "curr_um.setHoldClosestPointsFixed(False)\n",
    "curr_um.scaleInputPosWeights(0.5)"
   ]
  },
  {
   "cell_type": "code",
   "execution_count": null,
   "id": "80472137",
   "metadata": {},
   "outputs": [],
   "source": [
    "curr_um.energyElastic(), curr_um.energyDeployment(), curr_um.energyRepulsion(), curr_um.energyAttraction()"
   ]
  },
  {
   "cell_type": "code",
   "execution_count": null,
   "id": "4c2479c7",
   "metadata": {},
   "outputs": [],
   "source": [
    "dof = curr_um.getDoFs()\n",
    "for i in range(curr_um.numJoints()):\n",
    "    if (curr_um.joint(i).jointType() == umbrella_mesh.JointType.X):\n",
    "        dof[curr_um.dofOffsetForJoint(i) + 6] = 1e-3\n",
    "curr_um.setDoFs(dof)"
   ]
  },
  {
   "cell_type": "code",
   "execution_count": null,
   "id": "f7badc80",
   "metadata": {},
   "outputs": [],
   "source": [
    "angles = []\n",
    "def eqm_callback(prob, i):\n",
    "    angles.append(curr_um.getDoFs()[curr_um.jointAngleDoFIndices()])\n",
    "    if (i % 10 == 0):\n",
    "        view.update()\n",
    "        view.showScalarField(rod_colors)"
   ]
  },
  {
   "cell_type": "code",
   "execution_count": null,
   "id": "e2e0bcd9",
   "metadata": {
    "scrolled": true
   },
   "outputs": [],
   "source": [
    "results = umbrella_mesh.compute_equilibrium(curr_um, callback = eqm_callback, options = OPTS, fixedVars = fixedVars, elasticEnergyIncreaseFactorLimit=2.5)"
   ]
  },
  {
   "cell_type": "code",
   "execution_count": null,
   "id": "80ea70b5",
   "metadata": {},
   "outputs": [],
   "source": [
    "results.success"
   ]
  },
  {
   "cell_type": "code",
   "execution_count": null,
   "id": "9801e602",
   "metadata": {
    "tags": []
   },
   "outputs": [],
   "source": [
    "curr_um.energyElastic(elastic_rods.EnergyType.Bend), curr_um.energyElastic(elastic_rods.EnergyType.Twist), curr_um.energyElastic(elastic_rods.EnergyType.Stretch)"
   ]
  },
  {
   "cell_type": "markdown",
   "id": "6ea4bc95",
   "metadata": {},
   "source": [
    "### Initialize Design Optimization"
   ]
  },
  {
   "cell_type": "code",
   "execution_count": null,
   "id": "917c1c17",
   "metadata": {},
   "outputs": [],
   "source": [
    "curr_um.energyElastic(), curr_um.energyDeployment(), curr_um.energyRepulsion(), curr_um.energyAttraction()"
   ]
  },
  {
   "cell_type": "code",
   "execution_count": null,
   "id": "58f648c2",
   "metadata": {},
   "outputs": [],
   "source": [
    "curr_um.uniformDeploymentEnergyWeight = 50\n",
    "# curr_um.deploymentForceType = umbrella_mesh.DeploymentForceType.Constant\n",
    "curr_um.targetDeploymentHeight = thickness * 5\n",
    "curr_um.repulsionEnergyWeight = 0\n",
    "curr_um.attractionWeight = 0.1\n",
    "curr_um.setHoldClosestPointsFixed(False)\n",
    "curr_um.scaleInputPosWeights(0.1)"
   ]
  },
  {
   "cell_type": "code",
   "execution_count": null,
   "id": "d3c39b61",
   "metadata": {},
   "outputs": [],
   "source": [
    "import umbrella_optimization\n",
    "import umbrella_optimization_finite_diff"
   ]
  },
  {
   "cell_type": "code",
   "execution_count": null,
   "id": "a4f179fc",
   "metadata": {
    "tags": []
   },
   "outputs": [],
   "source": [
    "import py_newton_optimizer\n",
    "opt_opts = py_newton_optimizer.NewtonOptimizerOptions()\n",
    "opt_opts.gradTol = 1e-6\n",
    "opt_opts.verbose = 1\n",
    "opt_opts.beta = 1e-6\n",
    "opt_opts.niter = 50\n",
    "opt_opts.verboseNonPosDef = False"
   ]
  },
  {
   "cell_type": "code",
   "execution_count": null,
   "id": "6e221911",
   "metadata": {
    "scrolled": true
   },
   "outputs": [],
   "source": [
    "results = umbrella_mesh.compute_equilibrium(curr_um, callback = eqm_callback, options = OPTS, fixedVars = fixedVars, elasticEnergyIncreaseFactorLimit=2.5)"
   ]
  },
  {
   "cell_type": "code",
   "execution_count": null,
   "id": "9222413a",
   "metadata": {},
   "outputs": [],
   "source": [
    "results.success"
   ]
  },
  {
   "cell_type": "code",
   "execution_count": null,
   "id": "eedcf082",
   "metadata": {},
   "outputs": [],
   "source": [
    "optimizer = umbrella_optimization.UmbrellaOptimization(curr_um, opt_opts, 2.5, -1, False, fixedVars)"
   ]
  },
  {
   "cell_type": "code",
   "execution_count": null,
   "id": "fabad658",
   "metadata": {},
   "outputs": [],
   "source": [
    "optimizer.objective.terms[-1].term.activationThreshold = thickness "
   ]
  },
  {
   "cell_type": "code",
   "execution_count": null,
   "id": "1dbb0e5c",
   "metadata": {},
   "outputs": [],
   "source": [
    "optimizer.beta = 5 * 1e6\n",
    "optimizer.gamma = 1\n",
    "optimizer.eta = 1e7"
   ]
  },
  {
   "cell_type": "code",
   "execution_count": null,
   "id": "4b2ff9bc",
   "metadata": {},
   "outputs": [],
   "source": [
    "optimizer.J(curr_um.getDesignParameters(), umbrella_optimization.OptEnergyType.Umbrella),  optimizer.J(curr_um.getDesignParameters(), umbrella_optimization.OptEnergyType.Target),  optimizer.J(curr_um.getDesignParameters(), umbrella_optimization.OptEnergyType.DeploymentForce)"
   ]
  },
  {
   "cell_type": "code",
   "execution_count": null,
   "id": "5e0d9b48",
   "metadata": {},
   "outputs": [],
   "source": [
    "la.norm(optimizer.gradp_J(curr_um.getDesignParameters(), umbrella_optimization.OptEnergyType.Umbrella))"
   ]
  },
  {
   "cell_type": "code",
   "execution_count": null,
   "id": "a44f8bd4",
   "metadata": {},
   "outputs": [],
   "source": [
    "la.norm(optimizer.gradp_J(curr_um.getDesignParameters(), umbrella_optimization.OptEnergyType.Target))"
   ]
  },
  {
   "cell_type": "code",
   "execution_count": null,
   "id": "959e39e3",
   "metadata": {},
   "outputs": [],
   "source": [
    "la.norm(optimizer.gradp_J(curr_um.getDesignParameters(), umbrella_optimization.OptEnergyType.DeploymentForce))"
   ]
  },
  {
   "cell_type": "code",
   "execution_count": null,
   "id": "e87c732b",
   "metadata": {},
   "outputs": [],
   "source": [
    "original_design_parameters = curr_um.getDesignParameters()"
   ]
  },
  {
   "cell_type": "code",
   "execution_count": null,
   "id": "65c43757",
   "metadata": {},
   "outputs": [],
   "source": [
    "rest_height_optimizer = umbrella_optimization.UmbrellaRestHeightsOptimization(optimizer)\n",
    "single_rest_height_optimizer = umbrella_optimization.UmbrellaSingleRestHeightOptimization(rest_height_optimizer)"
   ]
  },
  {
   "cell_type": "code",
   "execution_count": null,
   "id": "a483f69c",
   "metadata": {},
   "outputs": [],
   "source": [
    "import pipeline_helper, importlib\n",
    "with so(): importlib.reload(pipeline_helper)"
   ]
  },
  {
   "cell_type": "code",
   "execution_count": null,
   "id": "f659c829",
   "metadata": {},
   "outputs": [],
   "source": [
    "from pipeline_helper import UmbrellaOptimizationCallback"
   ]
  },
  {
   "cell_type": "code",
   "execution_count": null,
   "id": "3fa0425a",
   "metadata": {},
   "outputs": [],
   "source": [
    "from umbrella_optimization import OptEnergyType\n"
   ]
  },
  {
   "cell_type": "code",
   "execution_count": null,
   "id": "5e470680",
   "metadata": {},
   "outputs": [],
   "source": [
    "algorithm = umbrella_optimization.OptAlgorithm.NEWTON_CG\n",
    "cb = UmbrellaOptimizationCallback(rest_height_optimizer, curr_um, view, True, False, 1, rod_colors)"
   ]
  },
  {
   "cell_type": "code",
   "execution_count": null,
   "id": "3544b273",
   "metadata": {},
   "outputs": [],
   "source": [
    "rest_height_optimizer.beta, rest_height_optimizer.gamma, rest_height_optimizer.eta"
   ]
  },
  {
   "cell_type": "code",
   "execution_count": null,
   "id": "c1222e7f",
   "metadata": {},
   "outputs": [],
   "source": [
    "import time"
   ]
  },
  {
   "cell_type": "code",
   "execution_count": null,
   "id": "a470a119",
   "metadata": {},
   "outputs": [],
   "source": [
    "pipeline_helper.prev_time_stamp = time.time()"
   ]
  },
  {
   "cell_type": "code",
   "execution_count": null,
   "id": "1d04d03f",
   "metadata": {},
   "outputs": [],
   "source": [
    "solverStatus = umbrella_optimization.optimize(rest_height_optimizer, algorithm, 100, 1.0, 1e-2, cb, -1)"
   ]
  },
  {
   "cell_type": "code",
   "execution_count": null,
   "id": "55cc50cb",
   "metadata": {},
   "outputs": [],
   "source": [
    "solverStatus"
   ]
  },
  {
   "cell_type": "markdown",
   "id": "78458b64",
   "metadata": {},
   "source": [
    "### Visualization"
   ]
  },
  {
   "cell_type": "code",
   "execution_count": null,
   "id": "da080dee",
   "metadata": {},
   "outputs": [],
   "source": [
    "import importlib, pipeline_helper\n",
    "importlib.reload(pipeline_helper)\n",
    "from pipeline_helper import plot_objective, Visualization_Setting, get_objective_components, plot_objective_stack, get_grad_norm_components\n",
    "\n",
    "vs = Visualization_Setting()\n",
    "use_svg = False"
   ]
  },
  {
   "cell_type": "code",
   "execution_count": null,
   "id": "ba88a4d5",
   "metadata": {},
   "outputs": [],
   "source": [
    "vs.figure_size = (10, 6)"
   ]
  },
  {
   "cell_type": "code",
   "execution_count": null,
   "id": "a024af3d",
   "metadata": {},
   "outputs": [],
   "source": [
    "import matplotlib.pyplot as plt"
   ]
  },
  {
   "cell_type": "markdown",
   "id": "d8208cd8",
   "metadata": {},
   "source": [
    "#### Objective"
   ]
  },
  {
   "cell_type": "code",
   "execution_count": null,
   "id": "e7797f18",
   "metadata": {},
   "outputs": [],
   "source": [
    "opt_objective_elastic, opt_objective_target, opt_objective_deployment, opt_total_objective, colors, labels = get_objective_components(cb.iterateData, vs)"
   ]
  },
  {
   "cell_type": "code",
   "execution_count": null,
   "id": "4b61da74",
   "metadata": {},
   "outputs": [],
   "source": [
    "plot_objective(vs, opt_total_objective, 'objective.{}'.format('svg' if use_svg else 'png'), \"Optimization\")"
   ]
  },
  {
   "cell_type": "code",
   "execution_count": null,
   "id": "5952fd98",
   "metadata": {},
   "outputs": [],
   "source": [
    "plot_objective_stack(vs, opt_total_objective, [opt_objective_elastic, opt_objective_target, opt_objective_deployment], colors, labels, 'objective_stack.{}'.format('svg' if use_svg else 'png'), \"Optimization\")"
   ]
  },
  {
   "cell_type": "code",
   "execution_count": null,
   "id": "5d66299a",
   "metadata": {},
   "outputs": [],
   "source": [
    "objective_components_list = [opt_objective_elastic, opt_objective_target, opt_objective_deployment]\n",
    "label_list = labels\n",
    "color_list = colors\n",
    "grad_norm = False"
   ]
  },
  {
   "cell_type": "code",
   "execution_count": null,
   "id": "3e7dfc0f",
   "metadata": {},
   "outputs": [],
   "source": [
    "fig, host = plt.subplots()\n",
    "cmap = plt.get_cmap(\"Set2\")\n",
    "x=range(len(opt_total_objective))\n",
    "y=np.array(opt_total_objective)\n",
    "\n",
    "plt.plot(x,y)\n",
    "fig.set_size_inches(vs.figure_size)\n",
    "plt.ylabel('Grad Norm' if grad_norm else 'Objective Value', fontsize = vs.figure_label_size)\n",
    "plt.title('Objective', fontsize = vs.figure_label_size)\n",
    "fig.set_size_inches(vs.figure_size)"
   ]
  },
  {
   "cell_type": "code",
   "execution_count": null,
   "id": "bcabb412",
   "metadata": {},
   "outputs": [],
   "source": [
    "fig, host = plt.subplots()\n",
    "fig.set_size_inches(vs.figure_size)\n",
    "\n",
    "x=range(len(opt_total_objective))\n",
    "y=np.array(objective_components_list)\n",
    "\n",
    "# Basic stacked area chart.\n",
    "plt.stackplot(x,y, labels=label_list, colors = color_list, baseline='zero')\n",
    "plt.legend(loc='upper right', prop={'size': 15}, fancybox=True)\n",
    "plt.ylabel('Grad Norm' if grad_norm else 'Objective Value', fontsize = vs.figure_label_size)\n",
    "plt.title(\"Optimization Objective\", fontsize = vs.figure_label_size)"
   ]
  },
  {
   "cell_type": "markdown",
   "id": "0515abfb",
   "metadata": {},
   "source": [
    "#### Gradient Norm"
   ]
  },
  {
   "cell_type": "code",
   "execution_count": null,
   "id": "b4ba7977",
   "metadata": {},
   "outputs": [],
   "source": [
    "opt_grad_norm_elastic, opt_grad_norm_target, opt_grad_norm_deployment, opt_total_grad_norm, colors, labels = get_grad_norm_components(cb.iterateData, vs)"
   ]
  },
  {
   "cell_type": "code",
   "execution_count": null,
   "id": "71cfb424",
   "metadata": {},
   "outputs": [],
   "source": [
    "grad_norm_components_list = [opt_grad_norm_elastic, opt_grad_norm_target, opt_grad_norm_deployment]\n",
    "label_list = labels\n",
    "color_list = colors\n",
    "grad_norm = True"
   ]
  },
  {
   "cell_type": "code",
   "execution_count": null,
   "id": "a01cbe54",
   "metadata": {},
   "outputs": [],
   "source": [
    "plot_objective(vs, opt_total_grad_norm, 'objective_grad_norm.{}'.format('svg' if use_svg else 'png'), \"Optimization\", grad_norm=grad_norm)"
   ]
  },
  {
   "cell_type": "code",
   "execution_count": null,
   "id": "9d204106",
   "metadata": {},
   "outputs": [],
   "source": [
    "plot_objective_stack(vs, opt_total_grad_norm, [opt_grad_norm_elastic, opt_grad_norm_target, opt_grad_norm_deployment], colors, labels, 'objective_grad_norm_stack.{}'.format('svg' if use_svg else 'png'), \"Optimization Gradient Norm\", grad_norm=grad_norm)"
   ]
  },
  {
   "cell_type": "code",
   "execution_count": null,
   "id": "7c244e26",
   "metadata": {},
   "outputs": [],
   "source": [
    "fig, host = plt.subplots()\n",
    "cmap = plt.get_cmap(\"Set2\")\n",
    "x=range(len(opt_total_grad_norm))\n",
    "y=np.array(opt_total_grad_norm)\n",
    "\n",
    "plt.plot(x,y)\n",
    "fig.set_size_inches(vs.figure_size)\n",
    "plt.ylabel('Grad Norm' if grad_norm else 'Objective Value', fontsize = vs.figure_label_size)\n",
    "plt.title('Grad Norm', fontsize = vs.figure_label_size)\n",
    "fig.set_size_inches(vs.figure_size)"
   ]
  },
  {
   "cell_type": "code",
   "execution_count": null,
   "id": "e793eee5",
   "metadata": {},
   "outputs": [],
   "source": [
    "fig, host = plt.subplots()\n",
    "fig.set_size_inches(vs.figure_size)\n",
    "\n",
    "x=range(len(opt_total_grad_norm))\n",
    "y=np.array(grad_norm_components_list)\n",
    "\n",
    "# Basic stacked area chart.\n",
    "plt.stackplot(x,y, labels=label_list, colors = color_list, baseline='zero')\n",
    "plt.legend(loc='upper right', prop={'size': 15}, fancybox=True)\n",
    "plt.ylabel('Grad Norm' if grad_norm else 'Objective Value', fontsize = vs.figure_label_size)\n",
    "plt.title(\"Optimization Gradient Norm\", fontsize = vs.figure_label_size)"
   ]
  },
  {
   "cell_type": "code",
   "execution_count": null,
   "id": "f5492d4a",
   "metadata": {},
   "outputs": [],
   "source": [
    "import numpy.linalg as la"
   ]
  },
  {
   "cell_type": "code",
   "execution_count": null,
   "id": "97675332",
   "metadata": {},
   "outputs": [],
   "source": [
    "la.norm(curr_um.getDesignParameters() - rest_height_optimizer.applyTransformation(rest_height_optimizer.params()))"
   ]
  },
  {
   "cell_type": "markdown",
   "id": "1fc5c583",
   "metadata": {},
   "source": [
    "### Undeployment"
   ]
  },
  {
   "cell_type": "code",
   "execution_count": null,
   "id": "c147a61f",
   "metadata": {},
   "outputs": [],
   "source": [
    "use_pin = True"
   ]
  },
  {
   "cell_type": "code",
   "execution_count": null,
   "id": "a6c1484a",
   "metadata": {},
   "outputs": [],
   "source": [
    "driver = curr_um.centralJoint()\n",
    "jdo = curr_um.dofOffsetForJoint(driver)\n",
    "fixedVars = (list(range(jdo, jdo + 6)) if use_pin else []) + curr_um.rigidJointAngleDoFIndices()"
   ]
  },
  {
   "cell_type": "code",
   "execution_count": null,
   "id": "07224d0e",
   "metadata": {},
   "outputs": [],
   "source": [
    "curr_um.uniformDeploymentEnergyWeight = 0.1\n",
    "# curr_um.deploymentForceType = umbrella_mesh.DeploymentForceType.Constant\n",
    "curr_um.targetDeploymentHeight = thickness * 1\n",
    "curr_um.repulsionEnergyWeight = 0\n",
    "curr_um.attractionWeight = 0\n",
    "curr_um.setHoldClosestPointsFixed(False)\n",
    "curr_um.scaleInputPosWeights(0.5)"
   ]
  },
  {
   "cell_type": "code",
   "execution_count": null,
   "id": "aa2dd803",
   "metadata": {},
   "outputs": [],
   "source": [
    "curr_um.energyElastic(), curr_um.energyDeployment(), curr_um.energyRepulsion(), curr_um.energyAttraction()"
   ]
  },
  {
   "cell_type": "code",
   "execution_count": null,
   "id": "296e0dea",
   "metadata": {
    "scrolled": true
   },
   "outputs": [],
   "source": [
    "results = umbrella_mesh.compute_equilibrium(curr_um, callback = eqm_callback, options = OPTS, fixedVars = fixedVars, elasticEnergyIncreaseFactorLimit=2.5)"
   ]
  },
  {
   "cell_type": "code",
   "execution_count": null,
   "id": "e46351fe",
   "metadata": {},
   "outputs": [],
   "source": [
    "results.success"
   ]
  },
  {
   "cell_type": "code",
   "execution_count": null,
   "id": "33828375",
   "metadata": {
    "tags": []
   },
   "outputs": [],
   "source": [
    "curr_um.energyElastic(elastic_rods.EnergyType.Bend), curr_um.energyElastic(elastic_rods.EnergyType.Twist), curr_um.energyElastic(elastic_rods.EnergyType.Stretch)"
   ]
  },
  {
   "cell_type": "code",
   "execution_count": null,
   "id": "5903ba88",
   "metadata": {},
   "outputs": [],
   "source": [
    "curr_um.uniformDeploymentEnergyWeight = 0."
   ]
  },
  {
   "cell_type": "code",
   "execution_count": null,
   "id": "7b31607d",
   "metadata": {
    "scrolled": true,
    "tags": []
   },
   "outputs": [],
   "source": [
    "results = umbrella_mesh.compute_equilibrium(curr_um, callback = eqm_callback, options = OPTS, fixedVars = fixedVars, elasticEnergyIncreaseFactorLimit=2.5)"
   ]
  },
  {
   "cell_type": "code",
   "execution_count": null,
   "id": "85909444",
   "metadata": {},
   "outputs": [],
   "source": [
    "results.success"
   ]
  },
  {
   "cell_type": "code",
   "execution_count": null,
   "id": "f0c20498",
   "metadata": {},
   "outputs": [],
   "source": [
    "curr_um.energyElastic(elastic_rods.EnergyType.Bend), curr_um.energyElastic(elastic_rods.EnergyType.Twist), curr_um.energyElastic(elastic_rods.EnergyType.Stretch)"
   ]
  },
  {
   "cell_type": "code",
   "execution_count": null,
   "id": "b41e9a55",
   "metadata": {},
   "outputs": [],
   "source": [
    "# for i in range(curr_um.numJoints()):\n",
    "#     print(curr_um.joint(i).alpha)"
   ]
  },
  {
   "cell_type": "code",
   "execution_count": null,
   "id": "f31ddf95",
   "metadata": {},
   "outputs": [],
   "source": [
    "view.show()"
   ]
  },
  {
   "cell_type": "code",
   "execution_count": null,
   "id": "a7494be9",
   "metadata": {},
   "outputs": [],
   "source": []
  }
 ],
 "metadata": {
  "kernelspec": {
   "display_name": "umbrella_mesh",
   "language": "python",
   "name": "umbrella_mesh"
  },
  "language_info": {
   "codemirror_mode": {
    "name": "ipython",
    "version": 3
   },
   "file_extension": ".py",
   "mimetype": "text/x-python",
   "name": "python",
   "nbconvert_exporter": "python",
   "pygments_lexer": "ipython3",
   "version": "3.9.7"
  }
 },
 "nbformat": 4,
 "nbformat_minor": 5
}
