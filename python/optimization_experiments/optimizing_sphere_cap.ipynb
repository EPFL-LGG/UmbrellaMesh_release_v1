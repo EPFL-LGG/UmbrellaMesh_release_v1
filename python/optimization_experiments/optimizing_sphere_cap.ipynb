{
 "cells": [
  {
   "cell_type": "code",
   "execution_count": 1,
   "id": "91a4ba6f",
   "metadata": {},
   "outputs": [],
   "source": [
    "import sys\n",
    "sys.path.append('..')\n",
    "import umbrella_mesh\n",
    "import elastic_rods\n",
    "import linkage_vis\n",
    "from umbrella_mesh import UmbrellaEnergyType\n",
    "from bending_validation import suppress_stdout as so\n",
    "from visualization_helper import *"
   ]
  },
  {
   "cell_type": "code",
   "execution_count": 2,
   "id": "a66f000f",
   "metadata": {},
   "outputs": [],
   "source": [
    "import numpy as np"
   ]
  },
  {
   "cell_type": "markdown",
   "id": "1855f02d",
   "metadata": {},
   "source": [
    "### Initial Deployment"
   ]
  },
  {
   "cell_type": "code",
   "execution_count": 3,
   "id": "d0004269",
   "metadata": {},
   "outputs": [],
   "source": [
    "name = 'sphere_cap_0.3_straight'"
   ]
  },
  {
   "cell_type": "code",
   "execution_count": 4,
   "id": "e406d0f8",
   "metadata": {},
   "outputs": [],
   "source": [
    "input_path = '../../data/{}.json'.format(name)\n",
    "target_mesh_path = '../../data/target_meshes/{}.obj'.format(name)"
   ]
  },
  {
   "cell_type": "code",
   "execution_count": 5,
   "id": "e23dac4f",
   "metadata": {},
   "outputs": [],
   "source": [
    "# input_path = '../../data/{}.json'.format('hemisphere')\n",
    "# target_mesh_path = '../../data/target_meshes/{}.obj'.format('hemisphere')"
   ]
  },
  {
   "cell_type": "code",
   "execution_count": 6,
   "id": "2900ab6c",
   "metadata": {},
   "outputs": [
    {
     "ename": "KeyError",
     "evalue": "'bbox_diagonal'",
     "output_type": "error",
     "traceback": [
      "\u001b[0;31m---------------------------------------------------------------------------\u001b[0m",
      "\u001b[0;31mKeyError\u001b[0m                                  Traceback (most recent call last)",
      "\u001b[0;32m<ipython-input-6-e05db0e970c0>\u001b[0m in \u001b[0;36m<module>\u001b[0;34m\u001b[0m\n\u001b[1;32m      1\u001b[0m \u001b[0;32mfrom\u001b[0m \u001b[0mload_jsondata\u001b[0m \u001b[0;32mimport\u001b[0m \u001b[0mread_data\u001b[0m\u001b[0;34m\u001b[0m\u001b[0;34m\u001b[0m\u001b[0m\n\u001b[0;32m----> 2\u001b[0;31m \u001b[0minput_data\u001b[0m\u001b[0;34m,\u001b[0m \u001b[0mio\u001b[0m \u001b[0;34m=\u001b[0m \u001b[0mread_data\u001b[0m\u001b[0;34m(\u001b[0m\u001b[0mfilepath\u001b[0m \u001b[0;34m=\u001b[0m \u001b[0minput_path\u001b[0m\u001b[0;34m)\u001b[0m\u001b[0;34m\u001b[0m\u001b[0;34m\u001b[0m\u001b[0m\n\u001b[0m\u001b[1;32m      3\u001b[0m \u001b[0mwidth\u001b[0m \u001b[0;34m=\u001b[0m \u001b[0;36m0.5\u001b[0m\u001b[0;34m*\u001b[0m\u001b[0minput_data\u001b[0m\u001b[0;34m[\u001b[0m\u001b[0;34m'arm_plate_edge_offset'\u001b[0m\u001b[0;34m]\u001b[0m\u001b[0;34m\u001b[0m\u001b[0;34m\u001b[0m\u001b[0m\n\u001b[1;32m      4\u001b[0m \u001b[0mthickness\u001b[0m \u001b[0;34m=\u001b[0m \u001b[0mwidth\u001b[0m \u001b[0;34m*\u001b[0m \u001b[0;36m0.5\u001b[0m \u001b[0;31m# 1.5 mm # FIX from mm to meters everywhere\u001b[0m\u001b[0;34m\u001b[0m\u001b[0;34m\u001b[0m\u001b[0m\n\u001b[1;32m      5\u001b[0m \u001b[0mcross_section\u001b[0m \u001b[0;34m=\u001b[0m \u001b[0;34m[\u001b[0m\u001b[0mthickness\u001b[0m\u001b[0;34m,\u001b[0m \u001b[0mwidth\u001b[0m\u001b[0;34m]\u001b[0m\u001b[0;34m\u001b[0m\u001b[0;34m\u001b[0m\u001b[0m\n",
      "\u001b[0;32m~/Research/UmbrellaMesh/python/optimization_experiments/../load_jsondata.py\u001b[0m in \u001b[0;36mread_data\u001b[0;34m(filepath, material_params)\u001b[0m\n\u001b[1;32m    106\u001b[0m     \u001b[0;32mif\u001b[0m \u001b[0mt1\u001b[0m \u001b[0;34m==\u001b[0m \u001b[0;32mNone\u001b[0m \u001b[0;32mand\u001b[0m \u001b[0;34m'thickness'\u001b[0m \u001b[0;32min\u001b[0m \u001b[0minput_data\u001b[0m\u001b[0;34m:\u001b[0m \u001b[0mt1\u001b[0m \u001b[0;34m=\u001b[0m \u001b[0minput_data\u001b[0m\u001b[0;34m[\u001b[0m\u001b[0;34m'thickness'\u001b[0m\u001b[0;34m]\u001b[0m\u001b[0;34m\u001b[0m\u001b[0;34m\u001b[0m\u001b[0m\n\u001b[1;32m    107\u001b[0m     \u001b[0;32mif\u001b[0m \u001b[0mt2\u001b[0m \u001b[0;34m==\u001b[0m \u001b[0;32mNone\u001b[0m \u001b[0;32mand\u001b[0m \u001b[0;34m'thickness'\u001b[0m \u001b[0;32min\u001b[0m \u001b[0minput_data\u001b[0m\u001b[0;34m:\u001b[0m \u001b[0mt2\u001b[0m \u001b[0;34m=\u001b[0m \u001b[0minput_data\u001b[0m\u001b[0;34m[\u001b[0m\u001b[0;34m'thickness'\u001b[0m\u001b[0;34m]\u001b[0m\u001b[0;34m\u001b[0m\u001b[0;34m\u001b[0m\u001b[0m\n\u001b[0;32m--> 108\u001b[0;31m     \u001b[0;32mif\u001b[0m \u001b[0mt1\u001b[0m \u001b[0;34m==\u001b[0m \u001b[0;32mNone\u001b[0m\u001b[0;34m:\u001b[0m \u001b[0mt1\u001b[0m \u001b[0;34m=\u001b[0m \u001b[0;36m3.0\u001b[0m\u001b[0;34m/\u001b[0m\u001b[0minput_data\u001b[0m\u001b[0;34m[\u001b[0m\u001b[0;34m'bbox_diagonal'\u001b[0m\u001b[0;34m]\u001b[0m\u001b[0;34m\u001b[0m\u001b[0;34m\u001b[0m\u001b[0m\n\u001b[0m\u001b[1;32m    109\u001b[0m     \u001b[0;32mif\u001b[0m \u001b[0mt2\u001b[0m \u001b[0;34m==\u001b[0m \u001b[0;32mNone\u001b[0m\u001b[0;34m:\u001b[0m \u001b[0mt2\u001b[0m \u001b[0;34m=\u001b[0m \u001b[0;36m3.0\u001b[0m\u001b[0;34m/\u001b[0m\u001b[0minput_data\u001b[0m\u001b[0;34m[\u001b[0m\u001b[0;34m'bbox_diagonal'\u001b[0m\u001b[0;34m]\u001b[0m\u001b[0;34m\u001b[0m\u001b[0;34m\u001b[0m\u001b[0m\n\u001b[1;32m    110\u001b[0m \u001b[0;34m\u001b[0m\u001b[0m\n",
      "\u001b[0;31mKeyError\u001b[0m: 'bbox_diagonal'"
     ]
    }
   ],
   "source": [
    "from load_jsondata import read_data\n",
    "input_data, io = read_data(filepath = input_path)\n",
    "width = 0.5*input_data['arm_plate_edge_offset']\n",
    "thickness = width * 0.5 # 1.5 mm # FIX from mm to meters everywhere\n",
    "cross_section = [thickness, width]"
   ]
  },
  {
   "cell_type": "code",
   "execution_count": null,
   "id": "683789ef",
   "metadata": {
    "scrolled": true,
    "tags": []
   },
   "outputs": [],
   "source": [
    "curr_um = umbrella_mesh.UmbrellaMesh(target_mesh_path, io)\n",
    "curr_um.setMaterial(elastic_rods.RodMaterial('rectangle', 2000, 0.3, cross_section, stiffAxis=elastic_rods.StiffAxis.D1))"
   ]
  },
  {
   "cell_type": "code",
   "execution_count": null,
   "id": "ac44a73b",
   "metadata": {},
   "outputs": [],
   "source": [
    "curr_um.energy(UmbrellaEnergyType.Full)"
   ]
  },
  {
   "cell_type": "markdown",
   "id": "7585154d",
   "metadata": {},
   "source": [
    "#### Pin Rigid Motion\n",
    "\n"
   ]
  },
  {
   "cell_type": "code",
   "execution_count": null,
   "id": "21c24d24",
   "metadata": {},
   "outputs": [],
   "source": [
    "use_pin = False"
   ]
  },
  {
   "cell_type": "code",
   "execution_count": null,
   "id": "94d832fb",
   "metadata": {},
   "outputs": [],
   "source": [
    "driver = curr_um.centralJoint()\n",
    "jdo = curr_um.dofOffsetForJoint(driver)\n",
    "fixedVars = (list(range(jdo, jdo + 6)) if use_pin else []) + curr_um.rigidJointAngleDoFIndices()"
   ]
  },
  {
   "cell_type": "code",
   "execution_count": null,
   "id": "83bebed8",
   "metadata": {},
   "outputs": [],
   "source": [
    "import py_newton_optimizer\n",
    "OPTS = py_newton_optimizer.NewtonOptimizerOptions()\n",
    "OPTS.gradTol = 1e-6\n",
    "OPTS.verbose = 1\n",
    "OPTS.beta = 1e-6\n",
    "OPTS.niter = 300\n",
    "OPTS.verboseNonPosDef = False"
   ]
  },
  {
   "cell_type": "code",
   "execution_count": null,
   "id": "f0e8546c",
   "metadata": {},
   "outputs": [],
   "source": [
    "rod_colors = []\n",
    "for ri in range(curr_um.numSegments()):\n",
    "    rod_colors.append(np.ones(curr_um.segment(ri).rod.numVertices()) * ri)"
   ]
  },
  {
   "cell_type": "code",
   "execution_count": null,
   "id": "2c683db5",
   "metadata": {},
   "outputs": [],
   "source": [
    "import mesh\n",
    "target_mesh = mesh.Mesh(target_mesh_path)\n",
    "view = linkage_vis.LinkageViewerWithSurface(curr_um, target_mesh, width=1024, height=600)\n",
    "# view = linkage_vis.LinkageViewer(curr_um, width=1024, height=600)\n",
    "# view.update(scalarField = rod_colors)\n",
    "set_surface_view_options(view, color = 'green', surface_color = 'gray', umbrella_transparent = False, surface_transparent = True)\n",
    "view.averagedMaterialFrames = True\n",
    "view.showScalarField(rod_colors)\n",
    "view.show()"
   ]
  },
  {
   "cell_type": "code",
   "execution_count": null,
   "id": "548d437e",
   "metadata": {},
   "outputs": [],
   "source": [
    "# camParams = view.getCameraParams()"
   ]
  },
  {
   "cell_type": "code",
   "execution_count": null,
   "id": "0b608361",
   "metadata": {},
   "outputs": [],
   "source": [
    "# view.setCameraParams(camParams)"
   ]
  },
  {
   "cell_type": "code",
   "execution_count": null,
   "id": "bcea6939",
   "metadata": {},
   "outputs": [],
   "source": [
    "import time\n",
    "time.sleep(5)"
   ]
  },
  {
   "cell_type": "code",
   "execution_count": null,
   "id": "9b548255",
   "metadata": {
    "tags": []
   },
   "outputs": [],
   "source": [
    "angles = []\n",
    "def eqm_callback(prob, i):\n",
    "    angles.append(curr_um.getDoFs()[curr_um.jointAngleDoFIndices()])\n",
    "    if (i % 10 == 0):\n",
    "        view.update()\n",
    "        view.showScalarField(rod_colors)"
   ]
  },
  {
   "cell_type": "code",
   "execution_count": null,
   "id": "209a40b8",
   "metadata": {},
   "outputs": [],
   "source": [
    "curr_um.uniformDeploymentEnergyWeight = 1\n",
    "# curr_um.deploymentForceType = umbrella_mesh.DeploymentForceType.Constant\n",
    "curr_um.targetDeploymentHeight = thickness * 5\n",
    "curr_um.repulsionEnergyWeight = 0\n",
    "curr_um.attractionWeight = 2000\n",
    "curr_um.setHoldClosestPointsFixed(False)\n",
    "curr_um.scaleInputPosWeights(0.5)"
   ]
  },
  {
   "cell_type": "code",
   "execution_count": null,
   "id": "c9e6299a",
   "metadata": {},
   "outputs": [],
   "source": [
    "curr_um.energyElastic(), curr_um.energyDeployment(), curr_um.energyRepulsion(), curr_um.energyAttraction()"
   ]
  },
  {
   "cell_type": "code",
   "execution_count": null,
   "id": "d97846d7",
   "metadata": {},
   "outputs": [],
   "source": [
    "dof = curr_um.getDoFs()\n",
    "for i in range(curr_um.numJoints()):\n",
    "    if (curr_um.joint(i).jointType() == umbrella_mesh.JointType.X):\n",
    "        dof[curr_um.dofOffsetForJoint(i) + 6] = 1e-3\n",
    "curr_um.setDoFs(dof)"
   ]
  },
  {
   "cell_type": "code",
   "execution_count": null,
   "id": "f4b18aac",
   "metadata": {},
   "outputs": [],
   "source": [
    "angles = []\n",
    "def eqm_callback(prob, i):\n",
    "    angles.append(curr_um.getDoFs()[curr_um.jointAngleDoFIndices()])\n",
    "    if (i % 10 == 0):\n",
    "        view.update()\n",
    "        view.showScalarField(rod_colors)"
   ]
  },
  {
   "cell_type": "code",
   "execution_count": null,
   "id": "a1c3980f",
   "metadata": {
    "scrolled": true
   },
   "outputs": [],
   "source": [
    "results = umbrella_mesh.compute_equilibrium(curr_um, callback = eqm_callback, options = OPTS, fixedVars = fixedVars, elasticEnergyIncreaseFactorLimit=2.5)"
   ]
  },
  {
   "cell_type": "code",
   "execution_count": null,
   "id": "970b6f45",
   "metadata": {},
   "outputs": [],
   "source": [
    "results.success"
   ]
  },
  {
   "cell_type": "code",
   "execution_count": null,
   "id": "013b65c3",
   "metadata": {
    "tags": []
   },
   "outputs": [],
   "source": [
    "curr_um.energyElastic(elastic_rods.EnergyType.Bend), curr_um.energyElastic(elastic_rods.EnergyType.Twist), curr_um.energyElastic(elastic_rods.EnergyType.Stretch)"
   ]
  },
  {
   "cell_type": "markdown",
   "id": "6955a6f5",
   "metadata": {},
   "source": [
    "### Initialize Design Optimization"
   ]
  },
  {
   "cell_type": "code",
   "execution_count": null,
   "id": "08b53597",
   "metadata": {},
   "outputs": [],
   "source": [
    "curr_um.energyElastic(), curr_um.energyDeployment(), curr_um.energyRepulsion(), curr_um.energyAttraction()"
   ]
  },
  {
   "cell_type": "code",
   "execution_count": null,
   "id": "7b22f1e6",
   "metadata": {},
   "outputs": [],
   "source": [
    "curr_um.uniformDeploymentEnergyWeight = 50\n",
    "# curr_um.deploymentForceType = umbrella_mesh.DeploymentForceType.Constant\n",
    "curr_um.targetDeploymentHeight = thickness * 5\n",
    "curr_um.repulsionEnergyWeight = 0\n",
    "curr_um.attractionWeight = 0.1\n",
    "curr_um.setHoldClosestPointsFixed(False)\n",
    "curr_um.scaleInputPosWeights(0.1)"
   ]
  },
  {
   "cell_type": "code",
   "execution_count": null,
   "id": "fe46bdf8",
   "metadata": {},
   "outputs": [],
   "source": [
    "import umbrella_optimization\n",
    "import umbrella_optimization_finite_diff"
   ]
  },
  {
   "cell_type": "code",
   "execution_count": null,
   "id": "e30e4fd0",
   "metadata": {
    "tags": []
   },
   "outputs": [],
   "source": [
    "import py_newton_optimizer\n",
    "opt_opts = py_newton_optimizer.NewtonOptimizerOptions()\n",
    "opt_opts.gradTol = 1e-6\n",
    "opt_opts.verbose = 1\n",
    "opt_opts.beta = 1e-6\n",
    "opt_opts.niter = 50\n",
    "opt_opts.verboseNonPosDef = False"
   ]
  },
  {
   "cell_type": "code",
   "execution_count": null,
   "id": "d414a7bf",
   "metadata": {},
   "outputs": [],
   "source": [
    "optimizer = umbrella_optimization.UmbrellaOptimization(curr_um, opt_opts, 2.5, -1, False, fixedVars)"
   ]
  },
  {
   "cell_type": "code",
   "execution_count": null,
   "id": "0697a0e7",
   "metadata": {},
   "outputs": [],
   "source": [
    "optimizer.beta = 5 * 10e5"
   ]
  },
  {
   "cell_type": "code",
   "execution_count": null,
   "id": "c37e1d98",
   "metadata": {},
   "outputs": [],
   "source": [
    "optimizer.gamma"
   ]
  },
  {
   "cell_type": "code",
   "execution_count": null,
   "id": "a04a36ac",
   "metadata": {},
   "outputs": [],
   "source": [
    "optimizer.J(curr_um.getDesignParameters(), umbrella_optimization.OptEnergyType.Umbrella)"
   ]
  },
  {
   "cell_type": "code",
   "execution_count": null,
   "id": "8c182b6a",
   "metadata": {},
   "outputs": [],
   "source": [
    "optimizer.J(curr_um.getDesignParameters(), umbrella_optimization.OptEnergyType.Target)"
   ]
  },
  {
   "cell_type": "code",
   "execution_count": null,
   "id": "ea36f1f7",
   "metadata": {},
   "outputs": [],
   "source": [
    "optimizer.J(curr_um.getDesignParameters(), umbrella_optimization.OptEnergyType.Full)"
   ]
  },
  {
   "cell_type": "code",
   "execution_count": null,
   "id": "cbd73aac",
   "metadata": {},
   "outputs": [],
   "source": [
    "original_design_parameters = curr_um.getDesignParameters()"
   ]
  },
  {
   "cell_type": "code",
   "execution_count": null,
   "id": "507a6ddc",
   "metadata": {},
   "outputs": [],
   "source": [
    "rest_height_optimizer = umbrella_optimization.UmbrellaRestHeightsOptimization(optimizer)\n",
    "single_rest_height_optimizer = umbrella_optimization.UmbrellaSingleRestHeightOptimization(rest_height_optimizer)"
   ]
  },
  {
   "cell_type": "code",
   "execution_count": null,
   "id": "8dbdb759",
   "metadata": {},
   "outputs": [],
   "source": [
    "class UmbrellaOptimizationCallback:\n",
    "    def __init__(self, optimizer, umbrella, view, update_color = False, no_surface = False, callback_freq = 1):\n",
    "        self.optimizer     = optimizer\n",
    "        self.umbrella       = umbrella\n",
    "        self.view  = view\n",
    "        self.update_color = update_color\n",
    "        self.no_surface    = no_surface\n",
    "        self.callback_freq = callback_freq\n",
    "        self.iterateData = []\n",
    "\n",
    "    def __call__(self):\n",
    "        if self.view and (len(self.iterateData) % self.callback_freq == 0):\n",
    "            if self.update_color:\n",
    "                self.view.showScalarField(rod_colors)\n",
    "            else:\n",
    "                pass\n",
    "                self.view.update()\n",
    "        return\n",
    "\n",
    "    def numIterations(self): return len(self.iterateData)"
   ]
  },
  {
   "cell_type": "code",
   "execution_count": null,
   "id": "31c87b1d",
   "metadata": {},
   "outputs": [],
   "source": [
    "algorithm = umbrella_optimization.OptAlgorithm.NEWTON_CG\n",
    "cb = UmbrellaOptimizationCallback(optimizer, curr_um, view, True, False, 1)"
   ]
  },
  {
   "cell_type": "code",
   "execution_count": null,
   "id": "ce05382a",
   "metadata": {},
   "outputs": [],
   "source": [
    "optimizer.getAttractionWeight(), optimizer.beta"
   ]
  },
  {
   "cell_type": "code",
   "execution_count": null,
   "id": "3c4117c4",
   "metadata": {},
   "outputs": [],
   "source": [
    "import time"
   ]
  },
  {
   "cell_type": "code",
   "execution_count": null,
   "id": "48009da3",
   "metadata": {},
   "outputs": [],
   "source": [
    "solverStatus = umbrella_optimization.optimize(single_rest_height_optimizer, algorithm, 40, 1.0, 1e-2, cb, -1)"
   ]
  },
  {
   "cell_type": "code",
   "execution_count": null,
   "id": "27bbcaf2",
   "metadata": {},
   "outputs": [],
   "source": [
    "solverStatus"
   ]
  },
  {
   "cell_type": "code",
   "execution_count": null,
   "id": "6480d18d",
   "metadata": {},
   "outputs": [],
   "source": [
    "import numpy.linalg as la"
   ]
  },
  {
   "cell_type": "code",
   "execution_count": null,
   "id": "0264a442",
   "metadata": {},
   "outputs": [],
   "source": [
    "la.norm(curr_um.getDesignParameters() - rest_height_optimizer.applyTransformation(rest_height_optimizer.params()))"
   ]
  },
  {
   "cell_type": "markdown",
   "id": "b36a987a",
   "metadata": {},
   "source": [
    "### Undeployment"
   ]
  },
  {
   "cell_type": "code",
   "execution_count": null,
   "id": "2bb3c4ef",
   "metadata": {},
   "outputs": [],
   "source": [
    "use_pin = True"
   ]
  },
  {
   "cell_type": "code",
   "execution_count": null,
   "id": "618510fb",
   "metadata": {},
   "outputs": [],
   "source": [
    "driver = curr_um.centralJoint()\n",
    "jdo = curr_um.dofOffsetForJoint(driver)\n",
    "fixedVars = (list(range(jdo, jdo + 6)) if use_pin else []) + curr_um.rigidJointAngleDoFIndices()"
   ]
  },
  {
   "cell_type": "code",
   "execution_count": null,
   "id": "4c8b3a14",
   "metadata": {},
   "outputs": [],
   "source": [
    "curr_um.uniformDeploymentEnergyWeight = 0.1\n",
    "# curr_um.deploymentForceType = umbrella_mesh.DeploymentForceType.Constant\n",
    "curr_um.targetDeploymentHeight = thickness * 1\n",
    "curr_um.repulsionEnergyWeight = 0\n",
    "curr_um.attractionWeight = 0\n",
    "curr_um.setHoldClosestPointsFixed(False)\n",
    "curr_um.scaleInputPosWeights(0.5)"
   ]
  },
  {
   "cell_type": "code",
   "execution_count": null,
   "id": "5ec9c792",
   "metadata": {},
   "outputs": [],
   "source": [
    "curr_um.energyElastic(), curr_um.energyDeployment(), curr_um.energyRepulsion(), curr_um.energyAttraction()"
   ]
  },
  {
   "cell_type": "code",
   "execution_count": null,
   "id": "cc1003a4",
   "metadata": {
    "scrolled": true
   },
   "outputs": [],
   "source": [
    "results = umbrella_mesh.compute_equilibrium(curr_um, callback = eqm_callback, options = OPTS, fixedVars = fixedVars, elasticEnergyIncreaseFactorLimit=2.5)"
   ]
  },
  {
   "cell_type": "code",
   "execution_count": null,
   "id": "2bf5e8b7",
   "metadata": {},
   "outputs": [],
   "source": [
    "results.success"
   ]
  },
  {
   "cell_type": "code",
   "execution_count": null,
   "id": "00edfa44",
   "metadata": {
    "tags": []
   },
   "outputs": [],
   "source": [
    "curr_um.energyElastic(elastic_rods.EnergyType.Bend), curr_um.energyElastic(elastic_rods.EnergyType.Twist), curr_um.energyElastic(elastic_rods.EnergyType.Stretch)"
   ]
  },
  {
   "cell_type": "code",
   "execution_count": null,
   "id": "be96450d",
   "metadata": {},
   "outputs": [],
   "source": [
    "curr_um.uniformDeploymentEnergyWeight = 0."
   ]
  },
  {
   "cell_type": "code",
   "execution_count": null,
   "id": "266c1b65",
   "metadata": {
    "scrolled": true,
    "tags": []
   },
   "outputs": [],
   "source": [
    "results = umbrella_mesh.compute_equilibrium(curr_um, callback = eqm_callback, options = OPTS, fixedVars = fixedVars, elasticEnergyIncreaseFactorLimit=2.5)"
   ]
  },
  {
   "cell_type": "code",
   "execution_count": null,
   "id": "55f69c3b",
   "metadata": {},
   "outputs": [],
   "source": [
    "results.success"
   ]
  },
  {
   "cell_type": "code",
   "execution_count": null,
   "id": "d72001ad",
   "metadata": {},
   "outputs": [],
   "source": [
    "curr_um.energyElastic(elastic_rods.EnergyType.Bend), curr_um.energyElastic(elastic_rods.EnergyType.Twist), curr_um.energyElastic(elastic_rods.EnergyType.Stretch)"
   ]
  },
  {
   "cell_type": "code",
   "execution_count": null,
   "id": "d8579091",
   "metadata": {},
   "outputs": [],
   "source": [
    "# for i in range(curr_um.numJoints()):\n",
    "#     print(curr_um.joint(i).alpha)"
   ]
  },
  {
   "cell_type": "code",
   "execution_count": null,
   "id": "2a86fafc",
   "metadata": {},
   "outputs": [],
   "source": [
    "view.show()"
   ]
  },
  {
   "cell_type": "code",
   "execution_count": null,
   "id": "10908a39",
   "metadata": {},
   "outputs": [],
   "source": []
  }
 ],
 "metadata": {
  "kernelspec": {
   "display_name": "Python 3",
   "language": "python",
   "name": "python3"
  },
  "language_info": {
   "codemirror_mode": {
    "name": "ipython",
    "version": 3
   },
   "file_extension": ".py",
   "mimetype": "text/x-python",
   "name": "python",
   "nbconvert_exporter": "python",
   "pygments_lexer": "ipython3",
   "version": "3.9.9"
  }
 },
 "nbformat": 4,
 "nbformat_minor": 5
}
