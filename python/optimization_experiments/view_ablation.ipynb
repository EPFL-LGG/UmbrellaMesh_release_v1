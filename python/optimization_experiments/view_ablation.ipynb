{
 "cells": [
  {
   "cell_type": "code",
   "execution_count": null,
   "id": "7c5784ea",
   "metadata": {},
   "outputs": [],
   "source": [
    "#!/usr/bin/env python\n",
    "# coding: utf-8\n",
    "import sys\n",
    "sys.path.append('..')\n",
    "import umbrella_mesh\n",
    "import elastic_rods\n",
    "import linkage_vis\n",
    "from umbrella_mesh import UmbrellaEnergyType\n",
    "from bending_validation import suppress_stdout as so\n",
    "from visualization_helper import *\n",
    "\n",
    "import pipeline_helper, importlib, design_optimization_analysis\n",
    "with so(): importlib.reload(pipeline_helper)\n",
    "with so(): importlib.reload(design_optimization_analysis)\n",
    "\n",
    "from pipeline_helper import UmbrellaOptimizationCallback, allEnergies, allGradientNorms, allDesignObjectives, allDesignGradientNorms, set_joint_vector_field, show_center_joint_normal, show_joint_normal\n",
    "\n",
    "from design_optimization_analysis import DesignOptimizationAnalysis\n",
    "\n",
    "import umbrella_optimization\n",
    "import umbrella_optimization_finite_diff\n",
    "from umbrella_optimization import OptEnergyType\n",
    "\n",
    "import numpy as np\n",
    "import numpy.linalg as la\n",
    "\n",
    "import pickle, gzip\n",
    "\n",
    "from configuration import *\n",
    "\n",
    "import parallelism\n",
    "parallelism.set_max_num_tbb_threads(24)\n",
    "parallelism.set_hessian_assembly_num_threads(8)\n",
    "parallelism.set_gradient_assembly_num_threads(8)"
   ]
  },
  {
   "cell_type": "markdown",
   "id": "186e5812",
   "metadata": {},
   "source": [
    "### Initialization"
   ]
  },
  {
   "cell_type": "code",
   "execution_count": null,
   "id": "39040a5b",
   "metadata": {},
   "outputs": [],
   "source": [
    "handleBoundary = False"
   ]
  },
  {
   "cell_type": "code",
   "execution_count": null,
   "id": "4be26a18",
   "metadata": {},
   "outputs": [],
   "source": [
    "name = 'hemisphere_5t'\n",
    "input_path = '../../data/{}.json.gz'.format(name)\n",
    "\n",
    "io, input_data, target_mesh, curr_um, thickness, target_height_multiplier = parse_input(input_path, handleBoundary=handleBoundary, handlePivots = True)"
   ]
  },
  {
   "cell_type": "code",
   "execution_count": null,
   "id": "470708e4",
   "metadata": {},
   "outputs": [],
   "source": [
    "use_pin = True\n",
    "\n",
    "driver = curr_um.centralJoint()\n",
    "jdo = curr_um.dofOffsetForJoint(driver)\n",
    "fixedVars = (list(range(jdo, jdo + 6)) if use_pin else []) + curr_um.rigidJointAngleDoFIndices()"
   ]
  },
  {
   "cell_type": "code",
   "execution_count": null,
   "id": "3b454b46",
   "metadata": {},
   "outputs": [],
   "source": [
    "um_1 = pickle.load(gzip.open('2022_01_25_16_43_saddle_5t/saddle_5t_input_equilibrium_2022_01_25_16_43_target_height_factor_5.0.pkl.gz', 'r'))"
   ]
  },
  {
   "cell_type": "code",
   "execution_count": null,
   "id": "1540767f",
   "metadata": {},
   "outputs": [],
   "source": [
    "um_2 = pickle.load(gzip.open('2022_01_25_14_23_hemisphere_5t/hemisphere_5t_tsf_equilibrium_2022_01_25_14_23_target_height_factor_5.0.pkl.gz', 'r'))"
   ]
  },
  {
   "cell_type": "code",
   "execution_count": null,
   "id": "5cb4af46",
   "metadata": {},
   "outputs": [],
   "source": [
    "um_3 = pickle.load(gzip.open('2022_01_25_16_43_saddle_5t/saddle_5t_force_equilibrium_2022_01_25_16_43_target_height_factor_5.0.pkl.gz', 'r'))"
   ]
  },
  {
   "cell_type": "code",
   "execution_count": null,
   "id": "c7a3c9e5",
   "metadata": {},
   "outputs": [],
   "source": [
    "import py_newton_optimizer\n",
    "OPTS = py_newton_optimizer.NewtonOptimizerOptions()\n",
    "OPTS.gradTol = 1e-8\n",
    "OPTS.verbose = 1\n",
    "OPTS.beta = 1e-6\n",
    "OPTS.niter = 300\n",
    "OPTS.verboseNonPosDef = False\n",
    "\n",
    "rod_colors = get_color_field(curr_um, input_data)\n",
    "\n",
    "import mesh\n",
    "mv1 = linkage_vis.LinkageViewerWithSurface(um_1, target_mesh, width=1024, height=600)\n",
    "set_surface_view_options(mv1, color = 'green', surface_color = 'gray', umbrella_transparent = False, surface_transparent = True)\n",
    "mv1.averagedMaterialFrames = True\n",
    "mv1.showScalarField(rod_colors)\n",
    "mv1.show()"
   ]
  },
  {
   "cell_type": "code",
   "execution_count": null,
   "id": "14b4a2e9",
   "metadata": {},
   "outputs": [],
   "source": [
    "configure_umbrella_true_equlibrium(um_1, thickness, target_height_multiplier)\n",
    "def eqm_callback(prob, i):\n",
    "    if (i % 2 == 0):\n",
    "        mv1.showScalarField(rod_colors)\n",
    "with so(): results = umbrella_mesh.compute_equilibrium(um_1, callback = eqm_callback, options = OPTS, fixedVars = fixedVars, elasticEnergyIncreaseFactorLimit=2.5)\n",
    "results.success"
   ]
  },
  {
   "cell_type": "code",
   "execution_count": null,
   "id": "40653ae9",
   "metadata": {},
   "outputs": [],
   "source": [
    "import force_analysis\n",
    "with so(): importlib.reload(force_analysis)"
   ]
  },
  {
   "cell_type": "code",
   "execution_count": null,
   "id": "9b1057ff",
   "metadata": {},
   "outputs": [],
   "source": [
    "force_analysis.UmbrellaForceAnalysis(um_1)\n",
    "v1 = force_analysis.UmbrellaForceFieldVisualization(um_1)\n",
    "v1.show()"
   ]
  },
  {
   "cell_type": "code",
   "execution_count": null,
   "id": "0652b62b",
   "metadata": {},
   "outputs": [],
   "source": []
  },
  {
   "cell_type": "code",
   "execution_count": null,
   "id": "66e25348",
   "metadata": {},
   "outputs": [],
   "source": [
    "import mesh\n",
    "mv2 = linkage_vis.LinkageViewerWithSurface(um_2, target_mesh, width=1024, height=600)\n",
    "set_surface_view_options(mv2, color = 'green', surface_color = 'gray', umbrella_transparent = False, surface_transparent = True)\n",
    "mv2.averagedMaterialFrames = True\n",
    "mv2.showScalarField(rod_colors)\n",
    "mv2.show()"
   ]
  },
  {
   "cell_type": "code",
   "execution_count": null,
   "id": "5b331dfc",
   "metadata": {},
   "outputs": [],
   "source": [
    "configure_umbrella_true_equlibrium(um_2, thickness, target_height_multiplier)\n",
    "def eqm_callback(prob, i):\n",
    "    if (i % 2 == 0):\n",
    "        mv2.showScalarField(rod_colors)\n",
    "with so(): results = umbrella_mesh.compute_equilibrium(um_2, callback = eqm_callback, options = OPTS, fixedVars = fixedVars, elasticEnergyIncreaseFactorLimit=2.5)\n",
    "results.success"
   ]
  },
  {
   "cell_type": "code",
   "execution_count": null,
   "id": "29a76e42",
   "metadata": {},
   "outputs": [],
   "source": [
    "import force_analysis\n",
    "with so(): importlib.reload(force_analysis)"
   ]
  },
  {
   "cell_type": "code",
   "execution_count": null,
   "id": "671f2b6c",
   "metadata": {},
   "outputs": [],
   "source": [
    "force_analysis.UmbrellaForceAnalysis(um_2)\n",
    "v2 = force_analysis.UmbrellaForceFieldVisualization(um_2)\n",
    "v2.show()"
   ]
  },
  {
   "cell_type": "code",
   "execution_count": null,
   "id": "732643b7",
   "metadata": {},
   "outputs": [],
   "source": []
  },
  {
   "cell_type": "code",
   "execution_count": null,
   "id": "8b3b62a6",
   "metadata": {},
   "outputs": [],
   "source": [
    "import mesh\n",
    "mv3 = linkage_vis.LinkageViewerWithSurface(um_3, target_mesh, width=1024, height=600)\n",
    "set_surface_view_options(mv3, color = 'green', surface_color = 'gray', umbrella_transparent = False, surface_transparent = True)\n",
    "mv3.averagedMaterialFrames = True\n",
    "mv3.showScalarField(rod_colors)\n",
    "mv3.show()"
   ]
  },
  {
   "cell_type": "code",
   "execution_count": null,
   "id": "d8eac4bc",
   "metadata": {},
   "outputs": [],
   "source": [
    "configure_umbrella_true_equlibrium(um_2, thickness, target_height_multiplier)\n",
    "\n",
    "def eqm_callback(prob, i):\n",
    "    if (i % 2 == 0):\n",
    "        mv3.showScalarField(rod_colors)\n",
    "with so(): results = umbrella_mesh.compute_equilibrium(um_3, callback = eqm_callback, options = OPTS, fixedVars = fixedVars, elasticEnergyIncreaseFactorLimit=2.5)\n",
    "results.success"
   ]
  },
  {
   "cell_type": "code",
   "execution_count": null,
   "id": "0e4758a3",
   "metadata": {},
   "outputs": [],
   "source": [
    "import force_analysis\n",
    "with so(): importlib.reload(force_analysis)"
   ]
  },
  {
   "cell_type": "code",
   "execution_count": null,
   "id": "49673658",
   "metadata": {},
   "outputs": [],
   "source": [
    "force_analysis.UmbrellaForceAnalysis(um_3)\n",
    "v3 = force_analysis.UmbrellaForceFieldVisualization(um_3)\n",
    "v3.show()"
   ]
  },
  {
   "cell_type": "code",
   "execution_count": null,
   "id": "b9fec0e8",
   "metadata": {},
   "outputs": [],
   "source": [
    "import time\n",
    "time_stamp = time.strftime(\"%Y_%m_%d_%H_%M\")\n",
    "import os\n",
    "output_folder = '{}_{}'.format(time_stamp, name)\n",
    "if not os.path.exists(output_folder):\n",
    "    os.makedirs(output_folder)  \n"
   ]
  },
  {
   "cell_type": "code",
   "execution_count": null,
   "id": "03036e3f",
   "metadata": {},
   "outputs": [],
   "source": [
    "importlib.reload(pipeline_helper)"
   ]
  },
  {
   "cell_type": "code",
   "execution_count": null,
   "id": "51a8a815",
   "metadata": {},
   "outputs": [],
   "source": [
    "\n",
    "input_pickle_path = '{}/{}_input_equilibrium_{}_target_height_factor_{}.pkl.gz'.format(output_folder, name, time_stamp, target_height_multiplier)\n",
    "\n",
    "input_rendering_path = '{}/{}_input_equilibrium_{}_rendering_output_{}.json.gz'.format(output_folder, name, time_stamp, target_height_multiplier)\n",
    "\n",
    "pipeline_helper.save_data(um_1, input_pickle_path, input_rendering_path, input_path, False, handleBoundary)\n"
   ]
  },
  {
   "cell_type": "code",
   "execution_count": null,
   "id": "d36abcc2",
   "metadata": {},
   "outputs": [],
   "source": [
    "\n",
    "tsf_pickle_path = '{}/{}_tsf_equilibrium_{}_target_height_factor_{}.pkl.gz'.format(output_folder, name, time_stamp, target_height_multiplier)\n",
    "\n",
    "tsf_rendering_path = '{}/{}_tsf_equilibrium_{}_rendering_output_{}.json.gz'.format(output_folder, name, time_stamp, target_height_multiplier)\n",
    "\n",
    "pipeline_helper.save_data(um_2, tsf_pickle_path, tsf_rendering_path, input_path, False, handleBoundary)\n"
   ]
  },
  {
   "cell_type": "code",
   "execution_count": null,
   "id": "6c0f1776",
   "metadata": {},
   "outputs": [],
   "source": [
    "\n",
    "force_pickle_path = '{}/{}_force_equilibrium_{}_target_height_factor_{}.pkl.gz'.format(output_folder, name, time_stamp, target_height_multiplier)\n",
    "\n",
    "force_rendering_path = '{}/{}_force_equilibrium_{}_rendering_output_{}.json.gz'.format(output_folder, name, time_stamp, target_height_multiplier)\n",
    "\n",
    "pipeline_helper.save_data(um_3, force_pickle_path, force_rendering_path, input_path, False, handleBoundary)\n"
   ]
  },
  {
   "cell_type": "code",
   "execution_count": null,
   "id": "013f9a48",
   "metadata": {},
   "outputs": [],
   "source": [
    "import force_vector_visualization_helper\n",
    "importlib.reload(force_vector_visualization_helper)\n",
    "\n",
    "force_vector_visualization_helper.write_force_vector_visualization_file([tsf_pickle_path, force_pickle_path], ['{}/{}_tsf'.format(output_folder, name), '{}/{}_force'.format(output_folder, name)])"
   ]
  },
  {
   "cell_type": "code",
   "execution_count": null,
   "id": "2f0df5c9",
   "metadata": {},
   "outputs": [],
   "source": [
    "import py_newton_optimizer\n",
    "opt_opts = py_newton_optimizer.NewtonOptimizerOptions()\n",
    "opt_opts.gradTol = 1e-8\n",
    "opt_opts.verbose = 10\n",
    "opt_opts.beta = 1e-6\n",
    "opt_opts.niter = 600\n",
    "opt_opts.verboseNonPosDef = False\n",
    "        \n",
    "optimizer = umbrella_optimization.UmbrellaOptimization(um_3, opt_opts, 2.5, -1, False, fixedVars)\n",
    "\n",
    "optimizer.beta = 1 * 1e6\n",
    "optimizer.gamma = 1\n",
    "optimizer.eta = 0\n",
    "optimizer.zeta = 0# 1e1\n",
    "optimizer.iota = 0\n",
    "\n",
    "rest_height_optimizer = umbrella_optimization.UmbrellaRestHeightsOptimization(optimizer)\n",
    "single_rest_height_optimizer = umbrella_optimization.UmbrellaSingleRestHeightOptimization(rest_height_optimizer)"
   ]
  },
  {
   "cell_type": "code",
   "execution_count": null,
   "id": "d421909b",
   "metadata": {},
   "outputs": [],
   "source": [
    "fabrication_path = '{}/{}_force_equilibrium_{}_target_height_factor_{}.json.gz'.format(output_folder, name, time_stamp, target_height_multiplier)"
   ]
  },
  {
   "cell_type": "code",
   "execution_count": null,
   "id": "d971571b",
   "metadata": {},
   "outputs": [],
   "source": [
    "import importlib, load_jsondata\n",
    "importlib.reload(load_jsondata)\n",
    "load_jsondata.update_optimized_json(input_path, rest_height_optimizer.params(), output_json_path = fabrication_path, optim_spacing_factor = target_height_multiplier, handleBoundary = False)\n"
   ]
  }
 ],
 "metadata": {
  "kernelspec": {
   "display_name": "umbrella_mesh",
   "language": "python",
   "name": "umbrella_mesh"
  },
  "language_info": {
   "codemirror_mode": {
    "name": "ipython",
    "version": 3
   },
   "file_extension": ".py",
   "mimetype": "text/x-python",
   "name": "python",
   "nbconvert_exporter": "python",
   "pygments_lexer": "ipython3",
   "version": "3.9.7"
  }
 },
 "nbformat": 4,
 "nbformat_minor": 5
}
