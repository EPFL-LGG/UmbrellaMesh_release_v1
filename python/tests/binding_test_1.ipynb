{
 "cells": [
  {
   "cell_type": "code",
   "execution_count": null,
   "id": "3644a434",
   "metadata": {},
   "outputs": [],
   "source": [
    "import sys\n",
    "sys.path.append('..')\n",
    "import umbrella_mesh\n",
    "import elastic_rods\n",
    "import linkage_vis"
   ]
  },
  {
   "cell_type": "code",
   "execution_count": null,
   "id": "5f9e61dd",
   "metadata": {},
   "outputs": [],
   "source": [
    "import numpy as np"
   ]
  },
  {
   "cell_type": "markdown",
   "id": "31cb561b",
   "metadata": {},
   "source": [
    "### Input data"
   ]
  },
  {
   "cell_type": "code",
   "execution_count": null,
   "id": "9c6c87d9",
   "metadata": {},
   "outputs": [],
   "source": [
    "vertices = np.array([[0, 0, 0], [0, 1, 0], [1, 0, 0], [-1, 0, 0]])\n",
    "\n",
    "edges = np.array([[0, 1], [0, 2], [0, 3]])\n",
    "\n",
    "input_alphas = [0, 0, 0, 0]\n",
    "\n",
    "input_ghost_bisectors = np.array([[0, 1, 0], [0, 1, 0], [0, 1, 0], [0, 1, 0]])\n",
    "\n",
    "input_ghost_normals = np.array([[1, 0, 0], [1, 0, 0], [1, 0, 0], [1, 0, 0]])\n",
    "\n",
    "A_segments = [[0], [0], [1], [2]]\n",
    "B_segments = [[1, 2], [], [], []]\n",
    "\n",
    "input_segment_normals = np.array([[0, 0, 1], [0, 0, 1], [0, 0, 1]])\n",
    "\n",
    "segment_continuation_info = [[0, 0], [0, 0], [0, 0]]"
   ]
  },
  {
   "cell_type": "markdown",
   "id": "c92c3df5",
   "metadata": {},
   "source": [
    "### Material"
   ]
  },
  {
   "cell_type": "code",
   "execution_count": null,
   "id": "d62ccbfa",
   "metadata": {},
   "outputs": [],
   "source": [
    "width = 0.1\n",
    "thickness = width\n",
    "cross_section = [thickness, width]"
   ]
  },
  {
   "cell_type": "markdown",
   "id": "97993614-a961-4454-a001-4fb485591ea0",
   "metadata": {},
   "source": [
    "### Initialization"
   ]
  },
  {
   "cell_type": "code",
   "execution_count": null,
   "id": "bbcc94bf",
   "metadata": {},
   "outputs": [],
   "source": [
    "curr_um = umbrella_mesh.UmbrellaMesh(vertices, edges, 5, input_alphas, input_ghost_bisectors, input_ghost_normals, A_segments, B_segments, input_segment_normals, segment_continuation_info)"
   ]
  },
  {
   "cell_type": "code",
   "execution_count": null,
   "id": "37b95f06",
   "metadata": {},
   "outputs": [],
   "source": [
    "curr_um.setMaterial(elastic_rods.RodMaterial('rectangle', 2000, 0.3, cross_section, stiffAxis=elastic_rods.StiffAxis.D1))"
   ]
  },
  {
   "cell_type": "code",
   "execution_count": null,
   "id": "d9ee90ff-078b-447e-ac5b-66e28c80aaad",
   "metadata": {},
   "outputs": [],
   "source": [
    "curr_um.energy()"
   ]
  },
  {
   "cell_type": "markdown",
   "id": "074f63b6-b533-4422-9460-b496cc82e156",
   "metadata": {},
   "source": [
    "### Visualization"
   ]
  },
  {
   "cell_type": "code",
   "execution_count": null,
   "id": "5c52afd2",
   "metadata": {
    "tags": []
   },
   "outputs": [],
   "source": [
    "view = linkage_vis.LinkageViewer(curr_um, width=1024, height=600)\n",
    "view.averagedMaterialFrames = True\n",
    "view.show()"
   ]
  }
 ],
 "metadata": {
  "kernelspec": {
   "display_name": "umbrella_mesh",
   "language": "python",
   "name": "umbrella_mesh"
  },
  "language_info": {
   "codemirror_mode": {
    "name": "ipython",
    "version": 3
   },
   "file_extension": ".py",
   "mimetype": "text/x-python",
   "name": "python",
   "nbconvert_exporter": "python",
   "pygments_lexer": "ipython3",
   "version": "3.9.7"
  }
 },
 "nbformat": 4,
 "nbformat_minor": 5
}
