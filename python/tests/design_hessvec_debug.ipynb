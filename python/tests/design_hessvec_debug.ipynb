{
 "cells": [
  {
   "cell_type": "code",
   "execution_count": null,
   "id": "07d1ec78-c6ca-40d6-94da-0a6ebc675af1",
   "metadata": {},
   "outputs": [],
   "source": [
    "import sys\n",
    "sys.path.append('..')\n",
    "import umbrella_mesh, umbrella_optimization\n",
    "import elastic_rods\n",
    "import linkage_vis\n",
    "from umbrella_mesh import UmbrellaEnergyType\n",
    "from bending_validation import suppress_stdout as so\n",
    "from visualization_helper import *\n",
    "import numpy as np"
   ]
  },
  {
   "cell_type": "markdown",
   "id": "d0e5e988",
   "metadata": {},
   "source": [
    "### Initial Deployment"
   ]
  },
  {
   "cell_type": "code",
   "execution_count": null,
   "id": "cf724ecf-e60b-4523-b948-3daf13747ff3",
   "metadata": {},
   "outputs": [],
   "source": [
    "input_path = '../../data/{}.json'.format('hemisphere')\n",
    "target_mesh_path = '../../data/target_meshes/{}.obj'.format('hemisphere')"
   ]
  },
  {
   "cell_type": "code",
   "execution_count": null,
   "id": "e7a71380",
   "metadata": {},
   "outputs": [],
   "source": [
    "from helpers.deployment_helper import get_deployed_umbrella_mesh"
   ]
  },
  {
   "cell_type": "code",
   "execution_count": null,
   "id": "83366bb8",
   "metadata": {},
   "outputs": [],
   "source": [
    "from load_jsondata import read_data\n",
    "input_data, io = read_data(filepath = input_path)"
   ]
  },
  {
   "cell_type": "code",
   "execution_count": null,
   "id": "ae266f0c",
   "metadata": {
    "scrolled": true,
    "tags": []
   },
   "outputs": [],
   "source": [
    "curr_um = umbrella_mesh.UmbrellaMesh(target_mesh_path, io)"
   ]
  },
  {
   "cell_type": "code",
   "execution_count": null,
   "id": "70d4f9ee",
   "metadata": {},
   "outputs": [],
   "source": [
    "curr_um.energy(UmbrellaEnergyType.Full)"
   ]
  },
  {
   "cell_type": "markdown",
   "id": "43f85d1a",
   "metadata": {},
   "source": [
    "#### Pin Rigid Motion\n",
    "\n"
   ]
  },
  {
   "cell_type": "code",
   "execution_count": null,
   "id": "5306221b",
   "metadata": {},
   "outputs": [],
   "source": [
    "fixedVars = curr_um.rigidJointAngleDoFIndices()"
   ]
  },
  {
   "cell_type": "code",
   "execution_count": null,
   "id": "60224778",
   "metadata": {},
   "outputs": [],
   "source": [
    "import py_newton_optimizer\n",
    "OPTS = py_newton_optimizer.NewtonOptimizerOptions()\n",
    "OPTS.gradTol = 1e-6\n",
    "OPTS.verbose = 1\n",
    "OPTS.beta = 1e-6\n",
    "OPTS.niter = 600\n",
    "OPTS.verboseNonPosDef = False"
   ]
  },
  {
   "cell_type": "code",
   "execution_count": null,
   "id": "82864215-a788-42b2-a379-db54291ed238",
   "metadata": {},
   "outputs": [],
   "source": [
    "curr_um = umbrella_mesh.UmbrellaMesh(io)\n",
    "thickness = io.material_params[6]\n",
    "curr_um.targetDeploymentHeight = thickness"
   ]
  },
  {
   "cell_type": "code",
   "execution_count": null,
   "id": "691fb2c8-8532-40ce-8546-7443f6e0894f",
   "metadata": {},
   "outputs": [],
   "source": [
    "curr_um.uniformDeploymentEnergyWeight = 1e-3\n",
    "# curr_um.deploymentForceType = umbrella_mesh.DeploymentForceType.Constant\n",
    "curr_um.targetDeploymentHeight = thickness * 5\n",
    "curr_um.repulsionEnergyWeight = 0\n",
    "curr_um.attractionWeight = 1\n",
    "curr_um.setHoldClosestPointsFixed(False)\n",
    "curr_um.scaleInputPosWeights(0.5)"
   ]
  },
  {
   "cell_type": "code",
   "execution_count": null,
   "id": "cb77fae1",
   "metadata": {},
   "outputs": [],
   "source": [
    "curr_um.energyElastic(), curr_um.energyDeployment(), curr_um.energyRepulsion(), curr_um.energyAttraction()"
   ]
  },
  {
   "cell_type": "code",
   "execution_count": null,
   "id": "31ae2054",
   "metadata": {},
   "outputs": [],
   "source": [
    "dof = curr_um.getDoFs()\n",
    "for i in range(curr_um.numJoints()):\n",
    "    if (curr_um.joint(i).jointType() == umbrella_mesh.JointType.X):\n",
    "        dof[curr_um.dofOffsetForJoint(i) + 6] = 1e-3\n",
    "curr_um.setDoFs(dof)"
   ]
  },
  {
   "cell_type": "code",
   "execution_count": null,
   "id": "785cf65a",
   "metadata": {},
   "outputs": [],
   "source": [
    "angles = []\n",
    "def eqm_callback(prob, i):\n",
    "    angles.append(curr_um.getDoFs()[curr_um.jointAngleDoFIndices()])"
   ]
  },
  {
   "cell_type": "code",
   "execution_count": null,
   "id": "18da89ef",
   "metadata": {
    "scrolled": true
   },
   "outputs": [],
   "source": [
    "results = umbrella_mesh.compute_equilibrium(curr_um, callback = eqm_callback, options = OPTS, fixedVars = fixedVars, elasticEnergyIncreaseFactorLimit=2.5)"
   ]
  },
  {
   "cell_type": "code",
   "execution_count": null,
   "id": "19634dcb",
   "metadata": {},
   "outputs": [],
   "source": [
    "results.success"
   ]
  },
  {
   "cell_type": "markdown",
   "id": "1d24839d",
   "metadata": {},
   "source": [
    "### Initialize Design Optimization"
   ]
  },
  {
   "cell_type": "code",
   "execution_count": null,
   "id": "6836a748",
   "metadata": {},
   "outputs": [],
   "source": [
    "import umbrella_optimization\n",
    "import umbrella_optimization_finite_diff"
   ]
  },
  {
   "cell_type": "code",
   "execution_count": null,
   "id": "00d2c387",
   "metadata": {},
   "outputs": [],
   "source": [
    "EO = umbrella_optimization.ElasticEnergyObjective(curr_um)"
   ]
  },
  {
   "cell_type": "code",
   "execution_count": null,
   "id": "0b59243c-54ff-4111-954d-9853aee4ba62",
   "metadata": {},
   "outputs": [],
   "source": [
    "x0 = curr_um.getDoFs().copy()"
   ]
  },
  {
   "cell_type": "code",
   "execution_count": null,
   "id": "9fc68889-7479-4d5e-a463-61738b7bcb0a",
   "metadata": {},
   "outputs": [],
   "source": [
    "optimizer = umbrella_optimization.UmbrellaOptimization(curr_um, OPTS, 2.5, -1, False, fixedVars)"
   ]
  },
  {
   "cell_type": "code",
   "execution_count": null,
   "id": "710bb54b-b790-4643-a6c9-0b7d0806142c",
   "metadata": {},
   "outputs": [],
   "source": [
    "optimizer.setHoldClosestPointsFixed(True, True)"
   ]
  },
  {
   "cell_type": "code",
   "execution_count": null,
   "id": "3768db00-5c61-4873-bd56-ff1b713cf2fd",
   "metadata": {},
   "outputs": [],
   "source": [
    "optimizer.setAttractionWeight(optimizer.getAttractionWeight())"
   ]
  },
  {
   "cell_type": "code",
   "execution_count": null,
   "id": "686d7e15-4a49-4c18-80ea-58ed7dc016d8",
   "metadata": {},
   "outputs": [],
   "source": [
    "np.linalg.norm(curr_um.getDoFs() - x0) / np.linalg.norm(x0)"
   ]
  },
  {
   "cell_type": "code",
   "execution_count": null,
   "id": "e789040a",
   "metadata": {},
   "outputs": [],
   "source": [
    "def set_weight_for_one_type(optimizer, curr_type):\n",
    "    optimizer.beta = 0\n",
    "    optimizer.gamma = 0\n",
    "    if curr_type == umbrella_optimization.OptEnergyType.Full:\n",
    "        optimizer.beta = 5e5\n",
    "        optimizer.gamma = 1\n",
    "    elif curr_type == umbrella_optimization.OptEnergyType.Target:\n",
    "        optimizer.beta = 5e5\n",
    "    elif curr_type == umbrella_optimization.OptEnergyType.Umbrella:\n",
    "        optimizer.gamma = 1"
   ]
  },
  {
   "cell_type": "code",
   "execution_count": null,
   "id": "72c29910-4a3d-4994-a93f-3f48963162b0",
   "metadata": {},
   "outputs": [],
   "source": [
    "energyTerm = optimizer.objective.terms[0].term\n",
    "tgtfitTerm = optimizer.objective.terms[1].term\n",
    "stressTerm = optimizer.objective.terms[-1].term"
   ]
  },
  {
   "cell_type": "code",
   "execution_count": null,
   "id": "74edfa0f-100e-4e1f-acc2-0478f993eb5f",
   "metadata": {},
   "outputs": [],
   "source": [
    "x = curr_um.getExtendedDoFsPARL()"
   ]
  },
  {
   "cell_type": "code",
   "execution_count": null,
   "id": "f28d09cd-0be0-4ee1-bbf7-e8a6bd12a58b",
   "metadata": {},
   "outputs": [],
   "source": [
    "import fd_validation\n",
    "def filterGrad(g):\n",
    "    #g[curr_um.numDoF()] = 0\n",
    "    return g\n",
    "class ObjectiveTermFDWrapper():\n",
    "    def __init__(self, term): self.term, self.obj = term, term.object()\n",
    "    def numVars(self):    return self.obj.numExtendedDoFPARL()\n",
    "    def getVars(self):    return self.obj.getExtendedDoFsPARL()\n",
    "    def setVars(self, x): self.obj.setExtendedDoFsPARL(x); self.obj.updateSourceFrame() # Note: the source frame is always up-to-date when the design objective/gradient/hessvec is evaluated.\n",
    "    def energy(self):     return self.term.value()\n",
    "    def gradient(self):   return filterGrad(self.term.computeGrad())\n",
    "    def hessVec(self, v): return filterGrad(self.term.computeDeltaGrad(v))"
   ]
  },
  {
   "cell_type": "code",
   "execution_count": null,
   "id": "d82b873a-e01a-49ac-a8c0-d53eab95dd35",
   "metadata": {},
   "outputs": [],
   "source": [
    "import benchmark\n",
    "benchmark.reset()\n",
    "fd_validation.gradConvergencePlot(ObjectiveTermFDWrapper(stressTerm))\n",
    "benchmark.report()"
   ]
  },
  {
   "cell_type": "code",
   "execution_count": null,
   "id": "25391f66-b7b6-4af3-b065-253e8bc810bd",
   "metadata": {},
   "outputs": [],
   "source": [
    "import benchmark\n",
    "benchmark.reset()\n",
    "fd_validation.hessConvergencePlot(ObjectiveTermFDWrapper(stressTerm), testHessVec=True)\n",
    "benchmark.report()"
   ]
  },
  {
   "cell_type": "markdown",
   "id": "604e0305",
   "metadata": {},
   "source": [
    "### Gradient Finite Difference Error"
   ]
  },
  {
   "cell_type": "code",
   "execution_count": null,
   "id": "3fcec066",
   "metadata": {},
   "outputs": [],
   "source": [
    "direction = np.random.uniform(0, 1, optimizer.numParams())\n",
    "direction /= np.linalg.norm(direction)"
   ]
  },
  {
   "cell_type": "code",
   "execution_count": null,
   "id": "8aa09014-171e-4b29-8edc-de9beec38ebc",
   "metadata": {},
   "outputs": [],
   "source": [
    "optimizer.prediction_order = 1"
   ]
  },
  {
   "cell_type": "code",
   "execution_count": null,
   "id": "19660933-82a9-41d4-9346-57083bc3773c",
   "metadata": {},
   "outputs": [],
   "source": [
    "# Note: when rotation parameterization updates are enabled the rotation variable entires of \"delta_x\" will\n",
    "# not match their finite difference counterparts (which are always zero)\n",
    "optimizer.linesearchObject.disableRotationParametrizationUpdates = False\n",
    "optimizer. committedObject.disableRotationParametrizationUpdates = False"
   ]
  },
  {
   "cell_type": "code",
   "execution_count": null,
   "id": "a4a22400-933b-4616-9d75-1ee799dff214",
   "metadata": {},
   "outputs": [],
   "source": [
    "p = optimizer.params()"
   ]
  },
  {
   "cell_type": "code",
   "execution_count": null,
   "id": "3e75d5fc-56e7-44cc-984c-0f231b0f0653",
   "metadata": {},
   "outputs": [],
   "source": [
    "delta_dJ = optimizer.apply_hess_J(p, direction)"
   ]
  },
  {
   "cell_type": "code",
   "execution_count": null,
   "id": "d2a03b1c-4ef4-4ec3-beb8-c9e9b6600374",
   "metadata": {},
   "outputs": [],
   "source": [
    "x = optimizer.linesearchObject.getDoFs().copy()\n",
    "w = optimizer.w.copy()\n",
    "delta_w = optimizer.delta_w.copy()\n",
    "delta_x = optimizer.delta_x.copy()\n",
    "d3E_w = optimizer.d3E_w\n",
    "delta_w_rhs = optimizer.delta_w_rhs\n",
    "H_delta_w = optimizer.get_H_times(delta_w)"
   ]
  },
  {
   "cell_type": "code",
   "execution_count": null,
   "id": "cfdbd4fb-ee7f-437a-9e5d-05876367efd8",
   "metadata": {},
   "outputs": [],
   "source": [
    "eps = 1e-1\n",
    "J_plus = optimizer.      J(p + eps * direction)\n",
    "g_plus = optimizer.gradp_J(p + eps * direction)\n",
    "x_plus = optimizer.linesearchObject.getDoFs().copy()\n",
    "w_plus = optimizer.w.copy()\n",
    "Hw_plus = optimizer.get_H_times(w)\n",
    "w_rhs_plus = optimizer.w_rhs\n",
    "\n",
    "J_minus = optimizer.      J(p - eps * direction)\n",
    "g_minus = optimizer.gradp_J(p - eps * direction)\n",
    "x_minus = optimizer.linesearchObject.getDoFs().copy()\n",
    "w_minus = optimizer.w.copy()\n",
    "Hw_minus = optimizer.get_H_times(w)\n",
    "w_rhs_minus = optimizer.w_rhs\n",
    "#benchmark.report()\n",
    "\n",
    "\n",
    "fd_delta_w = (w_plus - w_minus) / (2 * eps)\n",
    "fd_delta_x = (x_plus - x_minus) / (2 * eps)\n",
    "fd_w_rhs   = (w_rhs_plus - w_rhs_minus) / (2 * eps)\n",
    "fd_Hw      = (Hw_plus - Hw_minus) / (2 * eps)\n",
    "\n",
    "print(fd_delta_w)\n",
    "print(delta_w)\n",
    "print(w_plus)\n",
    "print(w_minus)"
   ]
  },
  {
   "cell_type": "code",
   "execution_count": null,
   "id": "d96b0440-330e-48d2-840d-3c5306b9f78d",
   "metadata": {},
   "outputs": [],
   "source": [
    "optimizer.J(p)\n",
    "H_fd_delta_w = optimizer.get_H_times(fd_delta_w)"
   ]
  },
  {
   "cell_type": "code",
   "execution_count": null,
   "id": "f0edcb2a-919c-4be3-920a-c92a717a8969",
   "metadata": {},
   "outputs": [],
   "source": [
    "np.linalg.norm(delta_w - fd_delta_w) / np.linalg.norm(delta_w)"
   ]
  },
  {
   "cell_type": "code",
   "execution_count": null,
   "id": "6a5fd7f7-8518-4d9c-9051-b53f51b50994",
   "metadata": {},
   "outputs": [],
   "source": [
    "np.linalg.norm(delta_x - fd_delta_x) / np.linalg.norm(delta_x)"
   ]
  },
  {
   "cell_type": "code",
   "execution_count": null,
   "id": "628ac78b-8aa0-48ff-a8d7-96253367cf92",
   "metadata": {},
   "outputs": [],
   "source": [
    "np.linalg.norm(d3E_w[0:fd_Hw.size] - fd_Hw) / np.linalg.norm(d3E_w)"
   ]
  },
  {
   "cell_type": "code",
   "execution_count": null,
   "id": "50e20efd-198a-4ab1-8994-08a347841ece",
   "metadata": {},
   "outputs": [],
   "source": [
    "ws = optimizer.committedWorkingSet"
   ]
  },
  {
   "cell_type": "code",
   "execution_count": null,
   "id": "4cf81d5b-d252-4a09-970b-e4e905a2b67c",
   "metadata": {},
   "outputs": [],
   "source": [
    "np.linalg.norm(ws.getFreeComponent(d3E_w[0:fd_Hw.size] - fd_Hw)) / np.linalg.norm(ws.getFreeComponent(d3E_w[0:fd_Hw.size]))"
   ]
  },
  {
   "cell_type": "code",
   "execution_count": null,
   "id": "dfdd88ed-296d-48b7-afe3-088a4a920e54",
   "metadata": {},
   "outputs": [],
   "source": [
    "np.linalg.norm(d3E_w[0:fd_Hw.size] - fd_Hw) / np.linalg.norm(d3E_w[0:fd_Hw.size])"
   ]
  },
  {
   "cell_type": "code",
   "execution_count": null,
   "id": "680a5154-e13c-4736-b614-92d84d79e5a7",
   "metadata": {},
   "outputs": [],
   "source": [
    "np.linalg.norm(ws.getFreeComponent(fd_Hw[0:fd_Hw.size]) + ws.getFreeComponent(H_delta_w) - ws.getFreeComponent(delta_w_rhs)) / np.linalg.norm(delta_w_rhs)"
   ]
  },
  {
   "cell_type": "code",
   "execution_count": null,
   "id": "16215937-554e-4b8a-89a5-5fd004645c46",
   "metadata": {},
   "outputs": [],
   "source": [
    "np.linalg.norm(ws.getFreeComponent(d3E_w[0:fd_Hw.size]) + ws.getFreeComponent(H_delta_w) - ws.getFreeComponent(delta_w_rhs)) / np.linalg.norm(delta_w_rhs)"
   ]
  },
  {
   "cell_type": "code",
   "execution_count": null,
   "id": "0c5d1bcc-bf5c-47f8-a78c-6589385102e6",
   "metadata": {},
   "outputs": [],
   "source": [
    "np.linalg.norm(ws.getFreeComponent(d3E_w[0:fd_Hw.size]) + ws.getFreeComponent(H_fd_delta_w) - ws.getFreeComponent(delta_w_rhs)) / np.linalg.norm(delta_w_rhs)"
   ]
  },
  {
   "cell_type": "code",
   "execution_count": null,
   "id": "11316a64-3a50-4b0d-8ac5-72cdd11b0e74",
   "metadata": {},
   "outputs": [],
   "source": [
    "np.linalg.norm(ws.getFreeComponent(fd_Hw[0:fd_Hw.size]) + ws.getFreeComponent(H_fd_delta_w) - ws.getFreeComponent(fd_w_rhs)) / np.linalg.norm(delta_w_rhs)"
   ]
  },
  {
   "cell_type": "code",
   "execution_count": null,
   "id": "e2eab749-6cc8-4066-bf98-2827bfb8b828",
   "metadata": {},
   "outputs": [],
   "source": [
    "np.linalg.norm(ws.getFreeComponent(d3E_w[0:fd_Hw.size])), np.linalg.norm(ws.getFreeComponent(H_delta_w)), np.linalg.norm(ws.getFreeComponent(fd_w_rhs))"
   ]
  },
  {
   "cell_type": "code",
   "execution_count": null,
   "id": "f4deeff3",
   "metadata": {},
   "outputs": [],
   "source": [
    "#set_weight_for_one_type(optimizer, umbrella_optimization.OptEnergyType.Full)\n",
    "umbrella_optimization_finite_diff.gradient_convergence_plot(optimizer, direction, umbrella_optimization.OptEnergyType.Full, minStepSize=1e-9, maxStepSize=1e-1)"
   ]
  },
  {
   "cell_type": "code",
   "execution_count": null,
   "id": "bfecc784",
   "metadata": {},
   "outputs": [],
   "source": [
    "#set_weight_for_one_type(optimizer, umbrella_optimization.OptEnergyType.Umbrella)\n",
    "umbrella_optimization_finite_diff.gradient_convergence_plot(optimizer, direction, umbrella_optimization.OptEnergyType.Umbrella, minStepSize=1e-9, maxStepSize=1e-1)"
   ]
  },
  {
   "cell_type": "code",
   "execution_count": null,
   "id": "897040f2",
   "metadata": {},
   "outputs": [],
   "source": [
    "#set_weight_for_one_type(optimizer, umbrella_optimization.OptEnergyType.Target)\n",
    "umbrella_optimization_finite_diff.gradient_convergence_plot(optimizer, direction, umbrella_optimization.OptEnergyType.Target, minStepSize=1e-9, maxStepSize=1e-1)"
   ]
  },
  {
   "cell_type": "code",
   "execution_count": null,
   "id": "bddcfca0-e443-4f17-bc33-773cc065fab8",
   "metadata": {},
   "outputs": [],
   "source": [
    "umbrella_optimization_finite_diff.gradient_convergence_plot(optimizer, direction, umbrella_optimization.OptEnergyType.DeploymentForce, minStepSize=1e-9, maxStepSize=1e-1)"
   ]
  },
  {
   "cell_type": "markdown",
   "id": "4a9b0474",
   "metadata": {},
   "source": [
    "### Hessian Finite Difference Errors"
   ]
  },
  {
   "cell_type": "code",
   "execution_count": null,
   "id": "4bb9273b",
   "metadata": {},
   "outputs": [],
   "source": [
    "#set_weight_for_one_type(optimizer, umbrella_optimization.OptEnergyType.Full)\n",
    "umbrella_optimization_finite_diff.hessian_convergence_plot(optimizer, direction, umbrella_optimization_finite_diff.OptEnergyType.Full, minStepSize=1e-9, maxStepSize=1e1)"
   ]
  },
  {
   "cell_type": "code",
   "execution_count": null,
   "id": "1b5435b0",
   "metadata": {},
   "outputs": [],
   "source": [
    "#set_weight_for_one_type(optimizer, umbrella_optimization.OptEnergyType.Umbrella)\n",
    "error = umbrella_optimization_finite_diff.hessian_convergence_plot(optimizer, direction, umbrella_optimization.OptEnergyType.Umbrella, minStepSize=1e-9, maxStepSize=1e1)"
   ]
  },
  {
   "cell_type": "code",
   "execution_count": null,
   "id": "d4d09e83",
   "metadata": {},
   "outputs": [],
   "source": [
    "#set_weight_for_one_type(optimizer, umbrella_optimization.OptEnergyType.Target)\n",
    "umbrella_optimization_finite_diff.hessian_convergence_plot(optimizer, direction, umbrella_optimization.OptEnergyType.Target, minStepSize=1e-9, maxStepSize=1e1)"
   ]
  }
 ],
 "metadata": {
  "kernelspec": {
   "display_name": "Python 3",
   "language": "python",
   "name": "python3"
  },
  "language_info": {
   "codemirror_mode": {
    "name": "ipython",
    "version": 3
   },
   "file_extension": ".py",
   "mimetype": "text/x-python",
   "name": "python",
   "nbconvert_exporter": "python",
   "pygments_lexer": "ipython3",
   "version": "3.9.9"
  }
 },
 "nbformat": 4,
 "nbformat_minor": 5
}
