{
 "cells": [
  {
   "cell_type": "code",
   "execution_count": null,
   "id": "e4db584f",
   "metadata": {},
   "outputs": [],
   "source": [
    "import sys\n",
    "sys.path.append('..')\n",
    "import umbrella_mesh\n",
    "import elastic_rods\n",
    "import linkage_vis"
   ]
  },
  {
   "cell_type": "code",
   "execution_count": null,
   "id": "b54e573f",
   "metadata": {},
   "outputs": [],
   "source": [
    "import numpy as np\n",
    "import numpy.linalg as la"
   ]
  },
  {
   "cell_type": "markdown",
   "id": "1482c815",
   "metadata": {},
   "source": [
    "### Material"
   ]
  },
  {
   "cell_type": "code",
   "execution_count": null,
   "id": "4462d8f2",
   "metadata": {},
   "outputs": [],
   "source": [
    "width = 1\n",
    "thickness = width / 1.2\n",
    "cross_section = [thickness, width]"
   ]
  },
  {
   "cell_type": "markdown",
   "id": "22d96d67",
   "metadata": {},
   "source": [
    "### Initialization"
   ]
  },
  {
   "cell_type": "markdown",
   "id": "4bc8ab79",
   "metadata": {},
   "source": [
    "### Lilium"
   ]
  },
  {
   "cell_type": "code",
   "execution_count": null,
   "id": "d8e29ed4",
   "metadata": {},
   "outputs": [],
   "source": [
    "width = 5\n",
    "thickness = width * 1\n",
    "cross_section = [thickness, width]\n",
    "\n",
    "input_path = '../../data/lilium.json'\n",
    "from load_jsondata import read_data\n",
    "vertices, edges, input_alphas, input_ghost_bisectors, input_ghost_normals, A_segments, B_segments, input_segment_normals, input_midpoint_offsets_A, input_midpoint_offsets_B, is_rigid  = read_data(filepath = input_path)\n"
   ]
  },
  {
   "cell_type": "markdown",
   "id": "d4412877",
   "metadata": {},
   "source": [
    "### Unit T shape"
   ]
  },
  {
   "cell_type": "code",
   "execution_count": null,
   "id": "efb94486",
   "metadata": {},
   "outputs": [],
   "source": [
    "# width = 0.1\n",
    "# thickness = width / 1.2\n",
    "# cross_section = [thickness, width]\n",
    "\n",
    "# vertices = np.array([[0, 0, 0], [0, 1, 0], [1, 0, 0], [-1, 0, 0]])\n",
    "\n",
    "# edges = np.array([[0, 1], [0, 2], [0, 3]])\n",
    "\n",
    "# input_alphas = [0, 0, 0, 0]\n",
    "\n",
    "# input_ghost_bisectors = np.array([[0, 1, 0], [0, 1, 0], [0, 1, 0], [0, 1, 0]])\n",
    "\n",
    "# input_ghost_normals = np.array([[1, 0, 0], [1, 0, 0], [1, 0, 0], [1, 0, 0]])\n",
    "\n",
    "# A_segments = [[0], [0], [1], [2]]\n",
    "# B_segments = [[1, 2], [], [], []]\n",
    "\n",
    "# zero_offset = np.array([0, 0, 0])\n",
    "# special_offset = np.array([0.3, 0.1, 0.1])\n",
    "# input_midpoint_offsets_A = [[special_offset], [zero_offset], [special_offset], [zero_offset]]\n",
    "# input_midpoint_offsets_B = [[zero_offset, zero_offset], [], [], []]\n",
    "\n",
    "# input_segment_normals = np.array([[2., 1, 3], [0, 1, -1], [0, 0, 1]])\n",
    "\n",
    "# for nid in range(3):\n",
    "#     input_segment_normals[nid] = input_segment_normals[nid]/np.linalg.norm(input_segment_normals[nid])\n",
    "# is_rigid = [0, 1, 1, 1]"
   ]
  },
  {
   "cell_type": "code",
   "execution_count": null,
   "id": "befc56d9",
   "metadata": {},
   "outputs": [],
   "source": [
    "curr_um = umbrella_mesh.UmbrellaMesh(vertices, edges, 10, input_alphas, input_ghost_bisectors, input_ghost_normals, A_segments, B_segments, input_midpoint_offsets_A, input_midpoint_offsets_B, input_segment_normals, is_rigid)"
   ]
  },
  {
   "cell_type": "code",
   "execution_count": null,
   "id": "df9a3c22",
   "metadata": {},
   "outputs": [],
   "source": [
    "curr_um.setMaterial(elastic_rods.RodMaterial('rectangle', 2000, 0.3, cross_section, stiffAxis=elastic_rods.StiffAxis.D1))"
   ]
  },
  {
   "cell_type": "code",
   "execution_count": null,
   "id": "48aac907",
   "metadata": {},
   "outputs": [],
   "source": [
    "curr_um.energy()"
   ]
  },
  {
   "cell_type": "markdown",
   "id": "c6cc0773",
   "metadata": {},
   "source": [
    "### Visualization"
   ]
  },
  {
   "cell_type": "code",
   "execution_count": null,
   "id": "b516e5a3",
   "metadata": {
    "tags": []
   },
   "outputs": [],
   "source": [
    "view = linkage_vis.LinkageViewer(curr_um, width=1024, height=600)\n",
    "view.averagedMaterialFrames = True\n",
    "# view.setCameraParams(camParam)\n",
    "view.show()"
   ]
  },
  {
   "cell_type": "code",
   "execution_count": null,
   "id": "dfb6c1dc",
   "metadata": {},
   "outputs": [],
   "source": [
    "import py_newton_optimizer\n",
    "OPTS = py_newton_optimizer.NewtonOptimizerOptions()\n",
    "OPTS.gradTol = 1e-8\n",
    "OPTS.verbose = 1;\n",
    "OPTS.beta = 1e-8\n",
    "OPTS.niter = 200\n",
    "OPTS.verboseNonPosDef = False"
   ]
  },
  {
   "cell_type": "code",
   "execution_count": null,
   "id": "468f61ce",
   "metadata": {},
   "outputs": [],
   "source": [
    "# def eqm_callback(prob, i):\n",
    "#     view.update()"
   ]
  },
  {
   "cell_type": "code",
   "execution_count": null,
   "id": "f04a6f13",
   "metadata": {
    "scrolled": true
   },
   "outputs": [],
   "source": [
    "# umbrella_mesh.compute_equilibrium(curr_um, targetAverageAngle= np.deg2rad(90) - curr_um.averageJointAngle, callback = eqm_callback, options = OPTS, fixedVars = curr_um.rigidJointAngleDoFIndices())"
   ]
  },
  {
   "cell_type": "code",
   "execution_count": null,
   "id": "ab54f035",
   "metadata": {},
   "outputs": [],
   "source": [
    "view.update()"
   ]
  },
  {
   "cell_type": "code",
   "execution_count": null,
   "id": "4eb24d2f",
   "metadata": {},
   "outputs": [],
   "source": [
    "len(curr_um.rigidJointAngleDoFIndices())"
   ]
  },
  {
   "cell_type": "code",
   "execution_count": null,
   "id": "2cf83bcf",
   "metadata": {},
   "outputs": [],
   "source": [
    "import importlib, open_umbrella\n",
    "importlib.reload(open_umbrella)\n",
    "from open_umbrella import open_umbrella"
   ]
  },
  {
   "cell_type": "code",
   "execution_count": null,
   "id": "22c2390a",
   "metadata": {
    "scrolled": true
   },
   "outputs": [],
   "source": [
    "from time import sleep\n",
    "sleep(0.5)\n",
    "def equilibriumSolver(tgtAngle, um, opts, fv):\n",
    "    opts.gradTol = 1e-4\n",
    "    return umbrella_mesh.compute_equilibrium(um, tgtAngle, options=opts, fixedVars=fv)\n",
    "driver = curr_um.centralJoint()\n",
    "open_umbrella(curr_um, driver, np.deg2rad(90) - curr_um.averageJointAngle, 50, view, equilibriumSolver=equilibriumSolver, maxNewtonIterationsIntermediate=100, useTargetAngleConstraint=True, fixedVars = curr_um.rigidJointAngleDoFIndices())"
   ]
  }
 ],
 "metadata": {
  "kernelspec": {
   "display_name": "umbrella_mesh",
   "language": "python",
   "name": "umbrella_mesh"
  },
  "language_info": {
   "codemirror_mode": {
    "name": "ipython",
    "version": 3
   },
   "file_extension": ".py",
   "mimetype": "text/x-python",
   "name": "python",
   "nbconvert_exporter": "python",
   "pygments_lexer": "ipython3",
   "version": "3.9.7"
  }
 },
 "nbformat": 4,
 "nbformat_minor": 5
}
