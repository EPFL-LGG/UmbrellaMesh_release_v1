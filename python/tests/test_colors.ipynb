{
 "cells": [
  {
   "cell_type": "code",
   "execution_count": null,
   "id": "b7d5d2e9-ed94-4713-bd83-5468aa669c17",
   "metadata": {},
   "outputs": [],
   "source": [
    "import sys\n",
    "sys.path.append('..')\n",
    "import umbrella_mesh\n",
    "import elastic_rods\n",
    "import linkage_vis"
   ]
  },
  {
   "cell_type": "code",
   "execution_count": null,
   "id": "663322af-a1b2-470e-a3cb-1f5ce6edc987",
   "metadata": {},
   "outputs": [],
   "source": [
    "import numpy as np\n",
    "import numpy.linalg as la"
   ]
  },
  {
   "cell_type": "markdown",
   "id": "6e5fa54e-8aea-4871-a777-9f1a09e175d7",
   "metadata": {},
   "source": [
    "### Material"
   ]
  },
  {
   "cell_type": "code",
   "execution_count": null,
   "id": "2baa4b6f-38a5-4d0d-a7bc-dd8369205300",
   "metadata": {},
   "outputs": [],
   "source": [
    "width = 1\n",
    "thickness = width / 1.2\n",
    "cross_section = [thickness, width]"
   ]
  },
  {
   "cell_type": "markdown",
   "id": "e5e7ea3b-2c66-4e09-bb11-112ef03bdc03",
   "metadata": {},
   "source": [
    "### Initialization"
   ]
  },
  {
   "cell_type": "markdown",
   "id": "eb1ea9d0-314f-46fe-b1b1-85b26720e996",
   "metadata": {},
   "source": [
    "### Lilium"
   ]
  },
  {
   "cell_type": "code",
   "execution_count": null,
   "id": "f09a13d8-b35e-430b-82dc-2f85a60ab91a",
   "metadata": {},
   "outputs": [],
   "source": [
    "width = 1\n",
    "thickness = width * 0.1\n",
    "cross_section = [thickness, width]\n",
    "\n",
    "input_path = '../../data/lilium.json'\n",
    "from load_jsondata import read_data\n",
    "vertices, edges, input_alphas, input_ghost_bisectors, input_ghost_normals, A_segments, B_segments, input_segment_normals, input_midpoint_offsets_A, input_midpoint_offsets_B, is_rigid  = read_data(filepath = input_path)\n"
   ]
  },
  {
   "cell_type": "code",
   "execution_count": null,
   "id": "294c9b21-8527-4e01-b602-d9e0f3e68cce",
   "metadata": {},
   "outputs": [],
   "source": [
    "curr_um = umbrella_mesh.UmbrellaMesh(vertices, edges, 10, input_alphas, input_ghost_bisectors, input_ghost_normals, A_segments, B_segments, input_midpoint_offsets_A, input_midpoint_offsets_B, input_segment_normals, is_rigid)"
   ]
  },
  {
   "cell_type": "code",
   "execution_count": null,
   "id": "81f243b6-43e0-4587-8758-d3290785bef2",
   "metadata": {},
   "outputs": [],
   "source": [
    "width = 1\n",
    "thickness = width * 1\n",
    "cross_section = [thickness, width]"
   ]
  },
  {
   "cell_type": "code",
   "execution_count": null,
   "id": "ec5ebdf2-f54f-4c15-bf0c-890d9ff459ab",
   "metadata": {},
   "outputs": [],
   "source": [
    "curr_um.setMaterial(elastic_rods.RodMaterial('rectangle', 2000, 0.3, cross_section, stiffAxis=elastic_rods.StiffAxis.D1))"
   ]
  },
  {
   "cell_type": "code",
   "execution_count": null,
   "id": "c00a0fba-db04-4b0d-b482-4344673f8c59",
   "metadata": {},
   "outputs": [],
   "source": [
    "curr_um.setMaterial(elastic_rods.RodMaterial('ellipse', 2000, 0.3, cross_section, stiffAxis=elastic_rods.StiffAxis.D1))"
   ]
  },
  {
   "cell_type": "code",
   "execution_count": null,
   "id": "8b95bf37-8eb0-4364-8e04-282ff70e6a14",
   "metadata": {},
   "outputs": [],
   "source": [
    "curr_um.energy()"
   ]
  },
  {
   "cell_type": "code",
   "execution_count": null,
   "id": "cd114d26-1a0a-4d63-b7b4-bc440bd41ade",
   "metadata": {},
   "outputs": [],
   "source": [
    "view = linkage_vis.LinkageViewer(curr_um, width=1024, height=600)\n",
    "view.averagedMaterialFrames = True\n",
    "# view.setCameraParams(camParam)\n",
    "view.show()"
   ]
  },
  {
   "cell_type": "code",
   "execution_count": null,
   "id": "20a0030a-6e79-4f2f-ae86-8cddd2e6cba3",
   "metadata": {},
   "outputs": [],
   "source": [
    "view.update(scalarField=curr_um.maxBendingStresses())"
   ]
  },
  {
   "cell_type": "code",
   "execution_count": null,
   "id": "3cd3e868-897c-47ee-9dbd-fd59b1c1277f",
   "metadata": {},
   "outputs": [],
   "source": [
    "rod_colors = []\n",
    "for ri in range(curr_um.numSegments()):\n",
    "    rod_colors.append(np.ones(curr_um.segment(ri).rod.numVertices()) * ri)"
   ]
  },
  {
   "cell_type": "code",
   "execution_count": null,
   "id": "41da64d6-27b6-4d97-b4b5-5b0e54951254",
   "metadata": {},
   "outputs": [],
   "source": [
    "view.update(scalarField=rod_colors)"
   ]
  }
 ],
 "metadata": {
  "kernelspec": {
   "display_name": "umbrella_mesh",
   "language": "python",
   "name": "umbrella_mesh"
  },
  "language_info": {
   "codemirror_mode": {
    "name": "ipython",
    "version": 3
   },
   "file_extension": ".py",
   "mimetype": "text/x-python",
   "name": "python",
   "nbconvert_exporter": "python",
   "pygments_lexer": "ipython3",
   "version": "3.9.7"
  }
 },
 "nbformat": 4,
 "nbformat_minor": 5
}
