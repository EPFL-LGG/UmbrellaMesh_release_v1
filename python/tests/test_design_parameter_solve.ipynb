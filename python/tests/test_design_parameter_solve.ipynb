{
 "cells": [
  {
   "cell_type": "code",
   "execution_count": null,
   "id": "3da48ee4",
   "metadata": {},
   "outputs": [],
   "source": [
    "import sys\n",
    "sys.path.append('..')\n",
    "import umbrella_mesh\n",
    "import elastic_rods\n",
    "import linkage_vis\n",
    "from umbrella_mesh import UmbrellaEnergyType\n",
    "from elastic_rods import EnergyType\n",
    "from bending_validation import suppress_stdout as so"
   ]
  },
  {
   "cell_type": "code",
   "execution_count": null,
   "id": "4e9884e0",
   "metadata": {},
   "outputs": [],
   "source": [
    "import numpy as np"
   ]
  },
  {
   "cell_type": "code",
   "execution_count": null,
   "id": "7960c415",
   "metadata": {},
   "outputs": [],
   "source": [
    "input_path = '../../data/sphere_cap_0.3.json'\n",
    "from load_jsondata import read_data\n",
    "input_data, io = read_data(filepath = input_path)\n",
    "width = 2*input_data['arm_plate_edge_offset']\n",
    "thickness = width * 0.5 # 1.5 mm # FIX from mm to meters everywhere\n",
    "cross_section = [thickness, width]"
   ]
  },
  {
   "cell_type": "markdown",
   "id": "874f9abc",
   "metadata": {},
   "source": [
    "### Initialization"
   ]
  },
  {
   "cell_type": "code",
   "execution_count": null,
   "id": "b36dca82",
   "metadata": {},
   "outputs": [],
   "source": [
    "curr_um = umbrella_mesh.UmbrellaMesh(io)\n",
    "curr_um.setMaterial(elastic_rods.RodMaterial('rectangle', 2000, 0.3, cross_section, stiffAxis=elastic_rods.StiffAxis.D1))\n",
    "curr_um.targetDeploymentHeight = thickness * 1"
   ]
  },
  {
   "cell_type": "code",
   "execution_count": null,
   "id": "c383ed1a",
   "metadata": {},
   "outputs": [],
   "source": [
    "curr_um.energy(UmbrellaEnergyType.Elastic)"
   ]
  },
  {
   "cell_type": "code",
   "execution_count": null,
   "id": "c4ed2a35",
   "metadata": {},
   "outputs": [],
   "source": [
    "curr_um.set_design_parameter_config(True, False)"
   ]
  },
  {
   "cell_type": "code",
   "execution_count": null,
   "id": "d53d94cc",
   "metadata": {},
   "outputs": [],
   "source": [
    "# curr_um.gradient(variableDesignParameters = True, designParameterOnly = False)"
   ]
  },
  {
   "cell_type": "markdown",
   "id": "a12784aa",
   "metadata": {},
   "source": [
    "### Parameters"
   ]
  },
  {
   "cell_type": "code",
   "execution_count": null,
   "id": "2a663762",
   "metadata": {},
   "outputs": [],
   "source": [
    "curr_um.uniformDeploymentEnergyWeight = 2\n",
    "curr_um.targetDeploymentHeight = thickness * 1"
   ]
  },
  {
   "cell_type": "code",
   "execution_count": null,
   "id": "2c062805",
   "metadata": {
    "tags": []
   },
   "outputs": [],
   "source": [
    "view = linkage_vis.LinkageViewer(curr_um, width=1024, height=600)\n",
    "view.averagedMaterialFrames = True\n",
    "view.show()"
   ]
  },
  {
   "cell_type": "code",
   "execution_count": null,
   "id": "c1194ced",
   "metadata": {},
   "outputs": [],
   "source": [
    "curr_um.hessian(variableDesignParameters = True)"
   ]
  },
  {
   "cell_type": "code",
   "execution_count": null,
   "id": "e509c83b",
   "metadata": {},
   "outputs": [],
   "source": [
    "curr_um.updateSourceFrame()"
   ]
  },
  {
   "cell_type": "code",
   "execution_count": null,
   "id": "fe0519cc",
   "metadata": {},
   "outputs": [],
   "source": [
    "curr_um.hessianSparsityPattern()"
   ]
  },
  {
   "cell_type": "code",
   "execution_count": null,
   "id": "f029d06e",
   "metadata": {},
   "outputs": [],
   "source": [
    "curr_um.hessian()"
   ]
  },
  {
   "cell_type": "code",
   "execution_count": null,
   "id": "7b2e1eb1",
   "metadata": {},
   "outputs": [],
   "source": [
    "dof = curr_um.getDoFs()\n",
    "for i in range(curr_um.numJoints()):\n",
    "    if (curr_um.joint(i).jointType() == umbrella_mesh.JointType.X):\n",
    "        dof[curr_um.dofOffsetForJoint(i) + 6] += 0.5\n",
    "curr_um.setDoFs(dof)"
   ]
  },
  {
   "cell_type": "code",
   "execution_count": null,
   "id": "b6e81271",
   "metadata": {},
   "outputs": [],
   "source": [
    "driver = curr_um.centralJoint()\n",
    "jdo = curr_um.dofOffsetForJoint(driver)\n",
    "fixedVars = list(range(jdo, jdo + 6)) + curr_um.rigidJointAngleDoFIndices()"
   ]
  },
  {
   "cell_type": "code",
   "execution_count": null,
   "id": "4122dedb",
   "metadata": {},
   "outputs": [],
   "source": [
    "import py_newton_optimizer\n",
    "OPTS = py_newton_optimizer.NewtonOptimizerOptions()\n",
    "OPTS.gradTol = 1e-7\n",
    "OPTS.verbose = 20\n",
    "OPTS.beta = 1e-8\n",
    "OPTS.niter = 100\n",
    "OPTS.verboseNonPosDef = False"
   ]
  },
  {
   "cell_type": "code",
   "execution_count": null,
   "id": "3cfa8973",
   "metadata": {},
   "outputs": [],
   "source": [
    "rod_colors = []\n",
    "for ri in range(curr_um.numSegments()):\n",
    "    rod_colors.append(np.ones(curr_um.segment(ri).rod.numVertices()) * ri)"
   ]
  },
  {
   "cell_type": "code",
   "execution_count": null,
   "id": "f3dc195b",
   "metadata": {},
   "outputs": [],
   "source": [
    "view.update(scalarField=rod_colors)"
   ]
  },
  {
   "cell_type": "code",
   "execution_count": null,
   "id": "a389ebc3",
   "metadata": {
    "tags": []
   },
   "outputs": [],
   "source": [
    "def eqm_callback(prob, i):\n",
    "    if (i % 20 == 0):\n",
    "        view.update(scalarField = rod_colors)"
   ]
  },
  {
   "cell_type": "code",
   "execution_count": null,
   "id": "a7944540",
   "metadata": {},
   "outputs": [],
   "source": [
    "curr_um.energyElastic(), curr_um.energyDeployment()"
   ]
  },
  {
   "cell_type": "code",
   "execution_count": null,
   "id": "3ba3acec",
   "metadata": {
    "scrolled": true
   },
   "outputs": [],
   "source": [
    "from time import sleep\n",
    "# sleep(2)\n",
    "umbrella_mesh.compute_equilibrium(curr_um, callback = eqm_callback, options = OPTS, fixedVars = fixedVars)"
   ]
  },
  {
   "cell_type": "code",
   "execution_count": null,
   "id": "c6169e64",
   "metadata": {},
   "outputs": [],
   "source": [
    "preoptimize_stress = curr_um.maxBendingStresses()"
   ]
  },
  {
   "cell_type": "code",
   "execution_count": null,
   "id": "c065927a",
   "metadata": {},
   "outputs": [],
   "source": [
    "import visualization_helper\n",
    "import importlib\n",
    "importlib.reload(visualization_helper)"
   ]
  },
  {
   "cell_type": "code",
   "execution_count": null,
   "id": "5a07cb82",
   "metadata": {},
   "outputs": [],
   "source": [
    "pre_sf = visualization_helper.get_scalar_field(curr_um, preoptimize_stress, rangeMin, rangeMax)"
   ]
  },
  {
   "cell_type": "code",
   "execution_count": null,
   "id": "1ecb5193",
   "metadata": {},
   "outputs": [],
   "source": [
    "view.update(scalarField=pre_sf)"
   ]
  },
  {
   "cell_type": "code",
   "execution_count": null,
   "id": "33d2da6d",
   "metadata": {},
   "outputs": [],
   "source": [
    "import umbrella_finite_diff\n",
    "umbrella_finite_diff.gradient_convergence_plot(curr_um, umbrellaEnergyType=umbrella_mesh.UmbrellaEnergyType.Deployment, etype=elastic_rods.EnergyType.Full)"
   ]
  },
  {
   "cell_type": "code",
   "execution_count": null,
   "id": "4fb67d06",
   "metadata": {},
   "outputs": [],
   "source": [
    "view.setCameraParams(camParams)"
   ]
  },
  {
   "cell_type": "code",
   "execution_count": null,
   "id": "102b4a29",
   "metadata": {},
   "outputs": [],
   "source": [
    "def callback(prob, i):\n",
    "    if (i % 5) != 0: return\n",
    "    view.update()"
   ]
  },
  {
   "cell_type": "code",
   "execution_count": null,
   "id": "9c887892",
   "metadata": {},
   "outputs": [],
   "source": [
    "dpo = umbrella_mesh.get_designParameter_optimizer(curr_um, callback = callback, E0 = -1, fixedVars = fixedVars)"
   ]
  },
  {
   "cell_type": "code",
   "execution_count": null,
   "id": "1bc8535c",
   "metadata": {},
   "outputs": [],
   "source": [
    "dpo.options.niter = 1000"
   ]
  },
  {
   "cell_type": "code",
   "execution_count": null,
   "id": "dc454ad9",
   "metadata": {
    "scrolled": true
   },
   "outputs": [],
   "source": [
    "cr = dpo.optimize()"
   ]
  },
  {
   "cell_type": "code",
   "execution_count": null,
   "id": "96a56cba",
   "metadata": {},
   "outputs": [],
   "source": [
    "postoptimize_stress = curr_um.maxBendingStresses()\n",
    "post_sf = visualization_helper.get_scalar_field(curr_um, postoptimize_stress, rangeMin, rangeMax)"
   ]
  },
  {
   "cell_type": "code",
   "execution_count": null,
   "id": "cd767d42",
   "metadata": {},
   "outputs": [],
   "source": [
    "second_postoptimize_stress = curr_um.maxBendingStresses()\n",
    "second_post_sf = visualization_helper.get_scalar_field(curr_um, second_postoptimize_stress, rangeMin, rangeMax)"
   ]
  },
  {
   "cell_type": "code",
   "execution_count": null,
   "id": "b340d786",
   "metadata": {},
   "outputs": [],
   "source": [
    "np.max(second_postoptimize_stress)"
   ]
  },
  {
   "cell_type": "code",
   "execution_count": null,
   "id": "195ea227",
   "metadata": {},
   "outputs": [],
   "source": [
    "np.max(postoptimize_stress)"
   ]
  },
  {
   "cell_type": "code",
   "execution_count": null,
   "id": "66bfbd51",
   "metadata": {},
   "outputs": [],
   "source": [
    "np.max(preoptimize_stress)"
   ]
  },
  {
   "cell_type": "code",
   "execution_count": null,
   "id": "e1d693ba",
   "metadata": {},
   "outputs": [],
   "source": [
    "view.update(scalarField=second_post_sf)"
   ]
  },
  {
   "cell_type": "code",
   "execution_count": null,
   "id": "f174579e",
   "metadata": {},
   "outputs": [],
   "source": [
    "rangeMin = np.stack([preoptimize_stress, postoptimize_stress]).min()"
   ]
  },
  {
   "cell_type": "code",
   "execution_count": null,
   "id": "2aa29a49",
   "metadata": {},
   "outputs": [],
   "source": [
    "rangeMax = np.stack([preoptimize_stress, postoptimize_stress]).max()"
   ]
  },
  {
   "cell_type": "code",
   "execution_count": null,
   "id": "bf632cb0",
   "metadata": {},
   "outputs": [],
   "source": [
    "camParams = view.getCameraParams()"
   ]
  },
  {
   "cell_type": "code",
   "execution_count": null,
   "id": "950ca4c0",
   "metadata": {},
   "outputs": [],
   "source": []
  }
 ],
 "metadata": {
  "kernelspec": {
   "display_name": "umbrella_mesh",
   "language": "python",
   "name": "umbrella_mesh"
  },
  "language_info": {
   "codemirror_mode": {
    "name": "ipython",
    "version": 3
   },
   "file_extension": ".py",
   "mimetype": "text/x-python",
   "name": "python",
   "nbconvert_exporter": "python",
   "pygments_lexer": "ipython3",
   "version": "3.9.7"
  }
 },
 "nbformat": 4,
 "nbformat_minor": 5
}
