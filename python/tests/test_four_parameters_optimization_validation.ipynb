{
 "cells": [
  {
   "cell_type": "code",
   "execution_count": null,
   "id": "608d6d3f",
   "metadata": {},
   "outputs": [],
   "source": [
    "import sys\n",
    "sys.path.append('..')\n",
    "import umbrella_mesh\n",
    "import elastic_rods\n",
    "import linkage_vis\n",
    "from visualization_helper import *\n",
    "from bending_validation import suppress_stdout as so"
   ]
  },
  {
   "cell_type": "code",
   "execution_count": null,
   "id": "669f4920",
   "metadata": {},
   "outputs": [],
   "source": [
    "import numpy as np\n",
    "import numpy.linalg as la"
   ]
  },
  {
   "cell_type": "code",
   "execution_count": null,
   "id": "652cb5b5",
   "metadata": {},
   "outputs": [],
   "source": [
    "import importlib, pipeline_helper\n",
    "importlib.reload(pipeline_helper)\n",
    "from pipeline_helper import allEnergies, allGradientNorms, allDesignObjectives, allDesignGradientNorms"
   ]
  },
  {
   "cell_type": "code",
   "execution_count": null,
   "id": "13e5aafa",
   "metadata": {},
   "outputs": [],
   "source": [
    "input_path = '../../data/sphere_cap_0.3.json'\n",
    "from load_jsondata import read_data\n",
    "input_data, io = read_data(filepath = input_path)\n",
    "import mesh\n",
    "target_mesh = mesh.Mesh(input_data['target_v'], input_data['target_f'])\n",
    "target_height_multiplier = input_data['target_spacing_factor']"
   ]
  },
  {
   "cell_type": "markdown",
   "id": "2b2c5240",
   "metadata": {},
   "source": [
    "### Initialization"
   ]
  },
  {
   "cell_type": "code",
   "execution_count": null,
   "id": "8bd457b1",
   "metadata": {},
   "outputs": [],
   "source": [
    "curr_um = umbrella_mesh.UmbrellaMesh(io)\n",
    "thickness = io.material_params[6]\n",
    "curr_um.targetDeploymentHeight = thickness"
   ]
  },
  {
   "cell_type": "code",
   "execution_count": null,
   "id": "b09c0c46",
   "metadata": {},
   "outputs": [],
   "source": [
    "curr_um.energy()"
   ]
  },
  {
   "cell_type": "markdown",
   "id": "deb1b15b",
   "metadata": {},
   "source": [
    "### Visualization"
   ]
  },
  {
   "cell_type": "code",
   "execution_count": null,
   "id": "46dc7362",
   "metadata": {},
   "outputs": [],
   "source": [
    "rod_colors = get_color_field(curr_um, input_data)"
   ]
  },
  {
   "cell_type": "code",
   "execution_count": null,
   "id": "6bdfecea",
   "metadata": {
    "tags": []
   },
   "outputs": [],
   "source": [
    "import mesh\n",
    "view = linkage_vis.LinkageViewerWithSurface(curr_um, target_mesh, width=1024, height=600)\n",
    "set_surface_view_options(view, color = 'green', surface_color = 'gray', umbrella_transparent = False, surface_transparent = True)\n",
    "view.averagedMaterialFrames = True\n",
    "view.showScalarField(rod_colors)\n",
    "view.show()"
   ]
  },
  {
   "cell_type": "markdown",
   "id": "d97a7c9a",
   "metadata": {},
   "source": [
    "#### Pin Rigid Motion\n",
    "\n"
   ]
  },
  {
   "cell_type": "code",
   "execution_count": null,
   "id": "583e366b",
   "metadata": {},
   "outputs": [],
   "source": [
    "use_pin = False"
   ]
  },
  {
   "cell_type": "code",
   "execution_count": null,
   "id": "65149c3f",
   "metadata": {},
   "outputs": [],
   "source": [
    "driver = curr_um.centralJoint()\n",
    "jdo = curr_um.dofOffsetForJoint(driver)\n",
    "fixedVars = (list(range(jdo, jdo + 6)) if use_pin else []) + curr_um.rigidJointAngleDoFIndices()"
   ]
  },
  {
   "cell_type": "code",
   "execution_count": null,
   "id": "ac7349e8",
   "metadata": {},
   "outputs": [],
   "source": [
    "import py_newton_optimizer\n",
    "OPTS = py_newton_optimizer.NewtonOptimizerOptions()\n",
    "OPTS.gradTol = 1e-10\n",
    "OPTS.verbose = 1\n",
    "OPTS.beta = 1e-8\n",
    "OPTS.niter = 1000\n",
    "OPTS.verboseNonPosDef = False"
   ]
  },
  {
   "cell_type": "code",
   "execution_count": null,
   "id": "7dddce70",
   "metadata": {},
   "outputs": [],
   "source": [
    "curr_um.deploymentForceType = umbrella_mesh.DeploymentForceType.LinearActuator"
   ]
  },
  {
   "cell_type": "code",
   "execution_count": null,
   "id": "ae3cc419",
   "metadata": {},
   "outputs": [],
   "source": [
    "import importlib, pipeline_helper\n",
    "importlib.reload(pipeline_helper)"
   ]
  },
  {
   "cell_type": "code",
   "execution_count": null,
   "id": "d899f35e",
   "metadata": {},
   "outputs": [],
   "source": [
    "from pipeline_helper import set_joint_vector_field, show_center_joint_normal, show_joint_normal"
   ]
  },
  {
   "cell_type": "code",
   "execution_count": null,
   "id": "8d4a8eab",
   "metadata": {
    "tags": []
   },
   "outputs": [],
   "source": [
    "from equilibrium_solve_analysis import EquilibriumSolveAnalysis\n",
    "eqays = EquilibriumSolveAnalysis(curr_um)\n",
    "def eqm_callback(prob, i):\n",
    "    eqays.record(prob)\n",
    "    if (i % 2 == 0):\n",
    "        view.showScalarField(rod_colors)"
   ]
  },
  {
   "cell_type": "code",
   "execution_count": null,
   "id": "4c058c02",
   "metadata": {},
   "outputs": [],
   "source": [
    "curr_um.targetDeploymentHeight = thickness * target_height_multiplier\n",
    "curr_um.repulsionEnergyWeight = 0\n",
    "curr_um.attractionWeight = 1e-1\n",
    "curr_um.setHoldClosestPointsFixed(True)\n",
    "curr_um.scaleInputPosWeights(1)"
   ]
  },
  {
   "cell_type": "code",
   "execution_count": null,
   "id": "955e06a8",
   "metadata": {},
   "outputs": [],
   "source": [
    "curr_um.angleBoundEnforcement = umbrella_mesh.AngleBoundEnforcement.Hard"
   ]
  },
  {
   "cell_type": "code",
   "execution_count": null,
   "id": "bfcbc6ec",
   "metadata": {},
   "outputs": [],
   "source": [
    "allGradientNorms(curr_um)"
   ]
  },
  {
   "cell_type": "code",
   "execution_count": null,
   "id": "e1a445ec",
   "metadata": {},
   "outputs": [],
   "source": [
    "dof = curr_um.getDoFs()\n",
    "for i in range(curr_um.numJoints()):\n",
    "    # if (curr_um.joint(i).jointType() == umbrella_mesh.JointType.X):\n",
    "    dof[curr_um.dofOffsetForJoint(i) + 6] = 1e-3\n",
    "curr_um.setDoFs(dof)"
   ]
  },
  {
   "cell_type": "code",
   "execution_count": null,
   "id": "011a8979",
   "metadata": {},
   "outputs": [],
   "source": [
    "view.showScalarField(rod_colors)"
   ]
  },
  {
   "cell_type": "code",
   "execution_count": null,
   "id": "b289c461",
   "metadata": {
    "scrolled": true
   },
   "outputs": [],
   "source": [
    "# curr_um.uniformDeploymentEnergyWeight = 1e-3\n",
    "# with so(): results = umbrella_mesh.compute_equilibrium(curr_um, callback = eqm_callback, options = OPTS, fixedVars = fixedVars, elasticEnergyIncreaseFactorLimit=2.5)\n",
    "curr_um.uniformDeploymentEnergyWeight = 1e-2\n",
    "with so(): results = umbrella_mesh.compute_equilibrium(curr_um, callback = eqm_callback, options = OPTS, fixedVars = fixedVars, elasticEnergyIncreaseFactorLimit=2.5)\n",
    "curr_um.uniformDeploymentEnergyWeight = 1e-1\n",
    "with so(): results = umbrella_mesh.compute_equilibrium(curr_um, callback = eqm_callback, options = OPTS, fixedVars = fixedVars, elasticEnergyIncreaseFactorLimit=2.5)\n",
    "curr_um.uniformDeploymentEnergyWeight = 1e0\n",
    "with so(): results = umbrella_mesh.compute_equilibrium(curr_um, callback = eqm_callback, options = OPTS, fixedVars = fixedVars, elasticEnergyIncreaseFactorLimit=2.5)"
   ]
  },
  {
   "cell_type": "code",
   "execution_count": null,
   "id": "884375eb",
   "metadata": {},
   "outputs": [],
   "source": [
    "results.success"
   ]
  },
  {
   "cell_type": "code",
   "execution_count": null,
   "id": "8f86f30c",
   "metadata": {},
   "outputs": [],
   "source": [
    "eqays.plot()"
   ]
  },
  {
   "cell_type": "markdown",
   "id": "dce312e9",
   "metadata": {},
   "source": [
    "### Initialize Design Optimization"
   ]
  },
  {
   "cell_type": "code",
   "execution_count": null,
   "id": "54bebd7f",
   "metadata": {},
   "outputs": [],
   "source": [
    "import umbrella_optimization\n",
    "import umbrella_optimization_finite_diff"
   ]
  },
  {
   "cell_type": "code",
   "execution_count": null,
   "id": "b94074a2",
   "metadata": {},
   "outputs": [],
   "source": [
    "EO = umbrella_optimization.ElasticEnergyObjective(curr_um)"
   ]
  },
  {
   "cell_type": "code",
   "execution_count": null,
   "id": "fc7c6523",
   "metadata": {},
   "outputs": [],
   "source": [
    "curr_um.setHoldClosestPointsFixed(True)"
   ]
  },
  {
   "cell_type": "code",
   "execution_count": null,
   "id": "69cb2893",
   "metadata": {},
   "outputs": [],
   "source": [
    "optimizer = umbrella_optimization.UmbrellaOptimization(curr_um, OPTS, 2.5, -1, False, fixedVars)"
   ]
  },
  {
   "cell_type": "code",
   "execution_count": null,
   "id": "6ffabb0e",
   "metadata": {},
   "outputs": [],
   "source": [
    "optimizer.J(curr_um.getDesignParameters(), umbrella_optimization.OptEnergyType.Elastic)"
   ]
  },
  {
   "cell_type": "code",
   "execution_count": null,
   "id": "87309ef9",
   "metadata": {},
   "outputs": [],
   "source": [
    "optimizer.J(curr_um.getDesignParameters(), umbrella_optimization.OptEnergyType.Target)"
   ]
  },
  {
   "cell_type": "code",
   "execution_count": null,
   "id": "79b31c31",
   "metadata": {},
   "outputs": [],
   "source": [
    "optimizer.J(curr_um.getDesignParameters(), umbrella_optimization.OptEnergyType.DeploymentForce)"
   ]
  },
  {
   "cell_type": "code",
   "execution_count": null,
   "id": "d0ec1d63",
   "metadata": {},
   "outputs": [],
   "source": [
    "optimizer.J(curr_um.getDesignParameters(), umbrella_optimization.OptEnergyType.Full)"
   ]
  },
  {
   "cell_type": "code",
   "execution_count": null,
   "id": "37eee5aa",
   "metadata": {},
   "outputs": [],
   "source": [
    "four_parameter_optimizer = umbrella_optimization.UmbrellaFourParametersOptimization(optimizer)"
   ]
  },
  {
   "cell_type": "code",
   "execution_count": null,
   "id": "e00eb45b",
   "metadata": {},
   "outputs": [],
   "source": [
    "len(four_parameter_optimizer.params()) / 4"
   ]
  },
  {
   "cell_type": "code",
   "execution_count": null,
   "id": "8ef64de4",
   "metadata": {},
   "outputs": [],
   "source": [
    "four_parameter_optimizer.params()"
   ]
  },
  {
   "cell_type": "markdown",
   "id": "ea9f4212",
   "metadata": {},
   "source": [
    "### Gradient Finite Difference Error"
   ]
  },
  {
   "cell_type": "code",
   "execution_count": null,
   "id": "4498e7d1",
   "metadata": {},
   "outputs": [],
   "source": [
    "direction = np.random.uniform(0, 1, four_parameter_optimizer.numParams())"
   ]
  },
  {
   "cell_type": "code",
   "execution_count": null,
   "id": "35ee0f79",
   "metadata": {},
   "outputs": [],
   "source": [
    "umbrella_optimization_finite_diff.gradient_convergence_plot(four_parameter_optimizer, direction, umbrella_optimization.OptEnergyType.Full, minStepSize=1e-9, maxStepSize=1e-1)"
   ]
  },
  {
   "cell_type": "code",
   "execution_count": null,
   "id": "21ab302f",
   "metadata": {},
   "outputs": [],
   "source": [
    "umbrella_optimization_finite_diff.gradient_convergence_plot(four_parameter_optimizer, direction, umbrella_optimization.OptEnergyType.Elastic, minStepSize=1e-9, maxStepSize=1e-1)"
   ]
  },
  {
   "cell_type": "code",
   "execution_count": null,
   "id": "b1c8c0be",
   "metadata": {},
   "outputs": [],
   "source": [
    "umbrella_optimization_finite_diff.gradient_convergence_plot(four_parameter_optimizer, direction, umbrella_optimization.OptEnergyType.Target, minStepSize=1e-9, maxStepSize=1e0)"
   ]
  },
  {
   "cell_type": "code",
   "execution_count": null,
   "id": "77dc9a04",
   "metadata": {},
   "outputs": [],
   "source": [
    "umbrella_optimization_finite_diff.gradient_convergence_plot(four_parameter_optimizer, direction, umbrella_optimization.OptEnergyType.DeploymentForce, minStepSize=1e-9, maxStepSize=1e0)"
   ]
  },
  {
   "cell_type": "markdown",
   "id": "8951264e",
   "metadata": {},
   "source": [
    "### Hessian Finite Difference Errors"
   ]
  },
  {
   "cell_type": "code",
   "execution_count": null,
   "id": "a0b6cd23",
   "metadata": {},
   "outputs": [],
   "source": [
    "umbrella_optimization_finite_diff.hessian_convergence_plot(four_parameter_optimizer, direction, umbrella_optimization_finite_diff.OptEnergyType.Full, minStepSize=1e-9, maxStepSize=1e1)"
   ]
  },
  {
   "cell_type": "code",
   "execution_count": null,
   "id": "6a6d504c",
   "metadata": {},
   "outputs": [],
   "source": [
    "error = umbrella_optimization_finite_diff.hessian_convergence_plot(four_parameter_optimizer, direction, umbrella_optimization.OptEnergyType.Elastic, minStepSize=1e-9, maxStepSize=1e1)"
   ]
  },
  {
   "cell_type": "code",
   "execution_count": null,
   "id": "600b3495",
   "metadata": {},
   "outputs": [],
   "source": [
    "umbrella_optimization_finite_diff.hessian_convergence_plot(four_parameter_optimizer, direction, umbrella_optimization.OptEnergyType.Target, maxStepSize=1e1, minStepSize=1e-9)"
   ]
  },
  {
   "cell_type": "code",
   "execution_count": null,
   "id": "f4a15fdb",
   "metadata": {},
   "outputs": [],
   "source": [
    "umbrella_optimization_finite_diff.hessian_convergence_plot(four_parameter_optimizer, direction, umbrella_optimization.OptEnergyType.DeploymentForce, maxStepSize=1e1, minStepSize=1e-9)"
   ]
  },
  {
   "cell_type": "code",
   "execution_count": null,
   "id": "bcfe3eb5",
   "metadata": {},
   "outputs": [],
   "source": [
    "import importlib\n",
    "importlib.reload(umbrella_optimization_finite_diff)"
   ]
  },
  {
   "cell_type": "code",
   "execution_count": null,
   "id": "82bbe767",
   "metadata": {},
   "outputs": [],
   "source": []
  }
 ],
 "metadata": {
  "kernelspec": {
   "display_name": "umbrella_mesh",
   "language": "python",
   "name": "umbrella_mesh"
  },
  "language_info": {
   "codemirror_mode": {
    "name": "ipython",
    "version": 3
   },
   "file_extension": ".py",
   "mimetype": "text/x-python",
   "name": "python",
   "nbconvert_exporter": "python",
   "pygments_lexer": "ipython3",
   "version": "3.9.7"
  }
 },
 "nbformat": 4,
 "nbformat_minor": 5
}
