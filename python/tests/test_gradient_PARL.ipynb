{
 "cells": [
  {
   "cell_type": "code",
   "execution_count": 1,
   "id": "10a05e15",
   "metadata": {},
   "outputs": [],
   "source": [
    "import sys\n",
    "sys.path.append('..')\n",
    "import umbrella_mesh\n",
    "import elastic_rods\n",
    "import linkage_vis\n",
    "from umbrella_mesh import UmbrellaEnergyType\n",
    "from elastic_rods import EnergyType\n",
    "from bending_validation import suppress_stdout as so"
   ]
  },
  {
   "cell_type": "code",
   "execution_count": 2,
   "id": "06d3721c",
   "metadata": {},
   "outputs": [],
   "source": [
    "import numpy as np"
   ]
  },
  {
   "cell_type": "code",
   "execution_count": 3,
   "id": "be55a0b6",
   "metadata": {},
   "outputs": [],
   "source": [
    "input_path = '../../data/sphere_cap_0.3.json'\n",
    "# input_path = '../../data/hemisphere.json'\n",
    "from load_jsondata import read_data\n",
    "input_data, io = read_data(filepath = input_path)\n",
    "import mesh\n",
    "target_mesh = mesh.Mesh(input_data['target_v'], input_data['target_f'])"
   ]
  },
  {
   "cell_type": "markdown",
   "id": "f6fa8adc",
   "metadata": {},
   "source": [
    "### Initialization"
   ]
  },
  {
   "cell_type": "code",
   "execution_count": 4,
   "id": "986eb116",
   "metadata": {},
   "outputs": [],
   "source": [
    "curr_um = umbrella_mesh.UmbrellaMesh(io)\n",
    "thickness = io.material_params[6]\n",
    "curr_um.targetDeploymentHeight = thickness"
   ]
  },
  {
   "cell_type": "code",
   "execution_count": 5,
   "id": "ca503d22",
   "metadata": {},
   "outputs": [
    {
     "data": {
      "text/plain": [
       "7.54216878670477e-28"
      ]
     },
     "execution_count": 5,
     "metadata": {},
     "output_type": "execute_result"
    }
   ],
   "source": [
    "curr_um.energy(UmbrellaEnergyType.Elastic)"
   ]
  },
  {
   "cell_type": "code",
   "execution_count": 6,
   "id": "392e34a7",
   "metadata": {},
   "outputs": [],
   "source": [
    "curr_um.set_design_parameter_config(True, False)"
   ]
  },
  {
   "cell_type": "code",
   "execution_count": 7,
   "id": "54226c59",
   "metadata": {},
   "outputs": [],
   "source": [
    "# curr_um.gradient(variableDesignParameters = True, designParameterOnly = False)"
   ]
  },
  {
   "cell_type": "markdown",
   "id": "4cf99d48",
   "metadata": {},
   "source": [
    "### Parameters"
   ]
  },
  {
   "cell_type": "code",
   "execution_count": 8,
   "id": "6c897dfb",
   "metadata": {},
   "outputs": [],
   "source": [
    "curr_um.uniformDeploymentEnergyWeight = 1e-3\n",
    "curr_um.targetDeploymentHeight = thickness * 1"
   ]
  },
  {
   "cell_type": "code",
   "execution_count": 9,
   "id": "3b720622",
   "metadata": {
    "tags": []
   },
   "outputs": [
    {
     "data": {
      "application/vnd.jupyter.widget-view+json": {
       "model_id": "e9b94ad2e11e4075bf56fbdcc55277e3",
       "version_major": 2,
       "version_minor": 0
      },
      "text/plain": [
       "Renderer(camera=PerspectiveCamera(aspect=1.7066666666666668, children=(PointLight(color='#999999', position=(0…"
      ]
     },
     "metadata": {},
     "output_type": "display_data"
    }
   ],
   "source": [
    "view = linkage_vis.LinkageViewer(curr_um, width=1024, height=600)\n",
    "view.averagedMaterialFrames = True\n",
    "view.show()"
   ]
  },
  {
   "cell_type": "markdown",
   "id": "0b872cfd",
   "metadata": {},
   "source": [
    "### Gradient Validation"
   ]
  },
  {
   "cell_type": "code",
   "execution_count": 10,
   "id": "5841b461",
   "metadata": {},
   "outputs": [],
   "source": [
    "import umbrella_finite_diff"
   ]
  },
  {
   "cell_type": "code",
   "execution_count": 11,
   "id": "91787bcc",
   "metadata": {},
   "outputs": [
    {
     "data": {
      "text/plain": [
       "<module 'umbrella_finite_diff' from '/home/uday/UmbrellaMesh/python/tests/../umbrella_finite_diff.py'>"
      ]
     },
     "execution_count": 11,
     "metadata": {},
     "output_type": "execute_result"
    }
   ],
   "source": [
    "import importlib\n",
    "importlib.reload(umbrella_finite_diff)"
   ]
  },
  {
   "cell_type": "code",
   "execution_count": 12,
   "id": "7296f797",
   "metadata": {},
   "outputs": [],
   "source": [
    "init_dof = curr_um.getExtendedDoFs()"
   ]
  },
  {
   "cell_type": "code",
   "execution_count": 13,
   "id": "b1bbc82f",
   "metadata": {},
   "outputs": [],
   "source": [
    "perturbation = np.random.uniform(-1e-3, 1e-3, curr_um.numExtendedDoF())"
   ]
  },
  {
   "cell_type": "code",
   "execution_count": 14,
   "id": "cec0ed46",
   "metadata": {},
   "outputs": [],
   "source": [
    "curr_um.setExtendedDoFs(init_dof + perturbation)"
   ]
  },
  {
   "cell_type": "code",
   "execution_count": 15,
   "id": "5e02a2bf",
   "metadata": {},
   "outputs": [],
   "source": [
    "view.update()"
   ]
  },
  {
   "cell_type": "code",
   "execution_count": 16,
   "id": "43b05fb9",
   "metadata": {},
   "outputs": [],
   "source": [
    "direction = np.random.uniform(-1e-3, 1e-3, curr_um.numExtendedDoFPARL())"
   ]
  },
  {
   "cell_type": "code",
   "execution_count": 17,
   "id": "6721d1f8",
   "metadata": {},
   "outputs": [],
   "source": [
    "curr_um.updateSourceFrame()"
   ]
  },
  {
   "cell_type": "code",
   "execution_count": 18,
   "id": "52e9b321",
   "metadata": {},
   "outputs": [],
   "source": [
    "curr_um.uniformDeploymentEnergyWeight = 1e-3"
   ]
  },
  {
   "cell_type": "code",
   "execution_count": 19,
   "id": "808e7113",
   "metadata": {},
   "outputs": [],
   "source": [
    "curr_um.targetDeploymentHeight = thickness"
   ]
  },
  {
   "cell_type": "code",
   "execution_count": 20,
   "id": "b123fef9",
   "metadata": {},
   "outputs": [
    {
     "data": {
      "text/plain": [
       "0.001455662549139096"
      ]
     },
     "execution_count": 20,
     "metadata": {},
     "output_type": "execute_result"
    }
   ],
   "source": [
    "curr_um.energy(umbrellaEnergyType=umbrella_mesh.UmbrellaEnergyType.Deployment)"
   ]
  },
  {
   "cell_type": "code",
   "execution_count": 21,
   "id": "32298d5f",
   "metadata": {},
   "outputs": [],
   "source": [
    "import numpy.linalg as la"
   ]
  },
  {
   "cell_type": "code",
   "execution_count": 22,
   "id": "94808402",
   "metadata": {},
   "outputs": [
    {
     "data": {
      "text/plain": [
       "175.6294827781377"
      ]
     },
     "execution_count": 22,
     "metadata": {},
     "output_type": "execute_result"
    }
   ],
   "source": [
    "la.norm(curr_um.gradientPerArmRestlen(umbrellaEnergyType=umbrella_mesh.UmbrellaEnergyType.Elastic))"
   ]
  },
  {
   "cell_type": "code",
   "execution_count": 23,
   "id": "fcd5c121",
   "metadata": {},
   "outputs": [
    {
     "data": {
      "text/plain": [
       "1.3376780220123905"
      ]
     },
     "execution_count": 23,
     "metadata": {},
     "output_type": "execute_result"
    }
   ],
   "source": [
    "curr_um.energy(umbrellaEnergyType=umbrella_mesh.UmbrellaEnergyType.Elastic)"
   ]
  },
  {
   "cell_type": "code",
   "execution_count": 24,
   "id": "ecd81c31",
   "metadata": {},
   "outputs": [
    {
     "data": {
      "image/png": "[encoded data removed]",
      "text/plain": [
       "<Figure size 432x288 with 1 Axes>"
      ]
     },
     "metadata": {
      "needs_background": "light"
     },
     "output_type": "display_data"
    }
   ],
   "source": [
    "umbrella_finite_diff.gradient_convergence_plot(curr_um, umbrellaEnergyType=umbrella_mesh.UmbrellaEnergyType.Deployment, etype=elastic_rods.EnergyType.Full, direction = direction, variableDesignParameters=True, perArmRestLen=True)"
   ]
  },
  {
   "cell_type": "code",
   "execution_count": 25,
   "id": "8b21c478",
   "metadata": {},
   "outputs": [
    {
     "data": {
      "image/png": "[encoded data removed]",
      "text/plain": [
       "<Figure size 432x288 with 1 Axes>"
      ]
     },
     "metadata": {
      "needs_background": "light"
     },
     "output_type": "display_data"
    }
   ],
   "source": [
    "umbrella_finite_diff.gradient_convergence_plot(curr_um, umbrellaEnergyType=umbrella_mesh.UmbrellaEnergyType.Full, etype=elastic_rods.EnergyType.Full, direction = direction, variableDesignParameters=True, perArmRestLen=True)"
   ]
  },
  {
   "cell_type": "code",
   "execution_count": 26,
   "id": "420a078b",
   "metadata": {},
   "outputs": [
    {
     "data": {
      "image/png": "[encoded data removed]",
      "text/plain": [
       "<Figure size 432x288 with 1 Axes>"
      ]
     },
     "metadata": {
      "needs_background": "light"
     },
     "output_type": "display_data"
    }
   ],
   "source": [
    "umbrella_finite_diff.gradient_convergence_plot(curr_um, umbrellaEnergyType=umbrella_mesh.UmbrellaEnergyType.Elastic, etype=elastic_rods.EnergyType.Full, direction = direction, variableDesignParameters=True, perArmRestLen=True)"
   ]
  }
 ],
 "metadata": {
  "kernelspec": {
   "display_name": "meta_kernel",
   "language": "python",
   "name": "meta_kernel"
  },
  "language_info": {
   "codemirror_mode": {
    "name": "ipython",
    "version": 3
   },
   "file_extension": ".py",
   "mimetype": "text/x-python",
   "name": "python",
   "nbconvert_exporter": "python",
   "pygments_lexer": "ipython3",
   "version": "3.8.10"
  }
 },
 "nbformat": 4,
 "nbformat_minor": 5
}
