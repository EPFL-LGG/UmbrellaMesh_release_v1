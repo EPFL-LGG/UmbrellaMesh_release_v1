{
 "cells": [
  {
   "cell_type": "code",
   "execution_count": null,
   "id": "10a05e15",
   "metadata": {},
   "outputs": [],
   "source": [
    "import sys\n",
    "sys.path.append('..')\n",
    "import umbrella_mesh\n",
    "import elastic_rods\n",
    "import linkage_vis\n",
    "from umbrella_mesh import UmbrellaEnergyType\n",
    "from elastic_rods import EnergyType\n",
    "from bending_validation import suppress_stdout as so"
   ]
  },
  {
   "cell_type": "code",
   "execution_count": null,
   "id": "06d3721c",
   "metadata": {},
   "outputs": [],
   "source": [
    "import numpy as np"
   ]
  },
  {
   "cell_type": "code",
   "execution_count": null,
   "id": "be55a0b6",
   "metadata": {},
   "outputs": [],
   "source": [
    "input_path = '../../data/sphere_cap_0.3.json'\n",
    "from load_jsondata import read_data\n",
    "input_data, io = read_data(filepath = input_path)\n",
    "width = 2*input_data['arm_plate_edge_offset']\n",
    "thickness = width * 0.5 # 1.5 mm # FIX from mm to meters everywhere\n",
    "cross_section = [thickness, width]"
   ]
  },
  {
   "cell_type": "markdown",
   "id": "f6fa8adc",
   "metadata": {},
   "source": [
    "### Initialization"
   ]
  },
  {
   "cell_type": "code",
   "execution_count": null,
   "id": "986eb116",
   "metadata": {},
   "outputs": [],
   "source": [
    "curr_um = umbrella_mesh.UmbrellaMesh(io)\n",
    "curr_um.setMaterial(elastic_rods.RodMaterial('rectangle', 2000, 0.3, cross_section, stiffAxis=elastic_rods.StiffAxis.D1))\n",
    "curr_um.targetDeploymentHeight = thickness * 1"
   ]
  },
  {
   "cell_type": "code",
   "execution_count": null,
   "id": "ca503d22",
   "metadata": {},
   "outputs": [],
   "source": [
    "curr_um.energy(UmbrellaEnergyType.Elastic)"
   ]
  },
  {
   "cell_type": "code",
   "execution_count": null,
   "id": "392e34a7",
   "metadata": {},
   "outputs": [],
   "source": [
    "curr_um.set_design_parameter_config(True, False)"
   ]
  },
  {
   "cell_type": "code",
   "execution_count": null,
   "id": "54226c59",
   "metadata": {},
   "outputs": [],
   "source": [
    "# curr_um.gradient(variableDesignParameters = True, designParameterOnly = False)"
   ]
  },
  {
   "cell_type": "markdown",
   "id": "4cf99d48",
   "metadata": {},
   "source": [
    "### Parameters"
   ]
  },
  {
   "cell_type": "code",
   "execution_count": null,
   "id": "6c897dfb",
   "metadata": {},
   "outputs": [],
   "source": [
    "curr_um.uniformDeploymentEnergyWeight = 2\n",
    "curr_um.targetDeploymentHeight = thickness * 1"
   ]
  },
  {
   "cell_type": "code",
   "execution_count": null,
   "id": "3b720622",
   "metadata": {
    "tags": []
   },
   "outputs": [],
   "source": [
    "view = linkage_vis.LinkageViewer(curr_um, width=1024, height=600)\n",
    "view.averagedMaterialFrames = True\n",
    "view.show()"
   ]
  },
  {
   "cell_type": "markdown",
   "id": "0b872cfd",
   "metadata": {},
   "source": [
    "### Gradient Validation"
   ]
  },
  {
   "cell_type": "code",
   "execution_count": null,
   "id": "5841b461",
   "metadata": {},
   "outputs": [],
   "source": [
    "import umbrella_finite_diff"
   ]
  },
  {
   "cell_type": "code",
   "execution_count": null,
   "id": "91787bcc",
   "metadata": {},
   "outputs": [],
   "source": [
    "import importlib\n",
    "importlib.reload(umbrella_finite_diff)"
   ]
  },
  {
   "cell_type": "code",
   "execution_count": null,
   "id": "7296f797",
   "metadata": {},
   "outputs": [],
   "source": [
    "init_dof = curr_um.getExtendedDoFs()"
   ]
  },
  {
   "cell_type": "code",
   "execution_count": null,
   "id": "b1bbc82f",
   "metadata": {},
   "outputs": [],
   "source": [
    "perturbation = np.random.uniform(-0.1, 0.1, curr_um.numExtendedDoF())"
   ]
  },
  {
   "cell_type": "code",
   "execution_count": null,
   "id": "cec0ed46",
   "metadata": {},
   "outputs": [],
   "source": [
    "curr_um.setExtendedDoFs(init_dof + perturbation)"
   ]
  },
  {
   "cell_type": "code",
   "execution_count": null,
   "id": "5e02a2bf",
   "metadata": {},
   "outputs": [],
   "source": [
    "view.update()"
   ]
  },
  {
   "cell_type": "code",
   "execution_count": null,
   "id": "43b05fb9",
   "metadata": {},
   "outputs": [],
   "source": [
    "direction = np.random.uniform(-1, 1, curr_um.numExtendedDoFPSRL())"
   ]
  },
  {
   "cell_type": "code",
   "execution_count": null,
   "id": "6721d1f8",
   "metadata": {},
   "outputs": [],
   "source": [
    "curr_um.updateSourceFrame()"
   ]
  },
  {
   "cell_type": "code",
   "execution_count": null,
   "id": "52e9b321",
   "metadata": {},
   "outputs": [],
   "source": [
    "curr_um.uniformDeploymentEnergyWeight = 100"
   ]
  },
  {
   "cell_type": "code",
   "execution_count": null,
   "id": "808e7113",
   "metadata": {},
   "outputs": [],
   "source": [
    "curr_um.targetDeploymentHeight = thickness"
   ]
  },
  {
   "cell_type": "code",
   "execution_count": null,
   "id": "b123fef9",
   "metadata": {},
   "outputs": [],
   "source": [
    "curr_um.energy(umbrellaEnergyType=umbrella_mesh.UmbrellaEnergyType.Deployment)"
   ]
  },
  {
   "cell_type": "code",
   "execution_count": null,
   "id": "32298d5f",
   "metadata": {},
   "outputs": [],
   "source": [
    "import numpy.linalg as la"
   ]
  },
  {
   "cell_type": "code",
   "execution_count": null,
   "id": "94808402",
   "metadata": {},
   "outputs": [],
   "source": [
    "la.norm(curr_um.gradientPerSegmentRestlen(umbrellaEnergyType=umbrella_mesh.UmbrellaEnergyType.Elastic))"
   ]
  },
  {
   "cell_type": "code",
   "execution_count": null,
   "id": "fcd5c121",
   "metadata": {},
   "outputs": [],
   "source": [
    "curr_um.energy(umbrellaEnergyType=umbrella_mesh.UmbrellaEnergyType.Elastic)"
   ]
  },
  {
   "cell_type": "code",
   "execution_count": null,
   "id": "ecd81c31",
   "metadata": {},
   "outputs": [],
   "source": [
    "umbrella_finite_diff.gradient_convergence_plot(curr_um, umbrellaEnergyType=umbrella_mesh.UmbrellaEnergyType.Deployment, etype=elastic_rods.EnergyType.Full, direction = direction, variableDesignParameters=True, perSegmentRestLen=True)"
   ]
  },
  {
   "cell_type": "code",
   "execution_count": null,
   "id": "8b21c478",
   "metadata": {},
   "outputs": [],
   "source": [
    "umbrella_finite_diff.gradient_convergence_plot(curr_um, umbrellaEnergyType=umbrella_mesh.UmbrellaEnergyType.Full, etype=elastic_rods.EnergyType.Full, direction = direction, variableDesignParameters=True, perSegmentRestLen=True)"
   ]
  },
  {
   "cell_type": "code",
   "execution_count": null,
   "id": "420a078b",
   "metadata": {},
   "outputs": [],
   "source": [
    "umbrella_finite_diff.gradient_convergence_plot(curr_um, umbrellaEnergyType=umbrella_mesh.UmbrellaEnergyType.Elastic, etype=elastic_rods.EnergyType.Full, direction = direction, variableDesignParameters=True, perSegmentRestLen=True)"
   ]
  }
 ],
 "metadata": {
  "kernelspec": {
   "display_name": "umbrella_mesh",
   "language": "python",
   "name": "umbrella_mesh"
  },
  "language_info": {
   "codemirror_mode": {
    "name": "ipython",
    "version": 3
   },
   "file_extension": ".py",
   "mimetype": "text/x-python",
   "name": "python",
   "nbconvert_exporter": "python",
   "pygments_lexer": "ipython3",
   "version": "3.9.7"
  }
 },
 "nbformat": 4,
 "nbformat_minor": 5
}
