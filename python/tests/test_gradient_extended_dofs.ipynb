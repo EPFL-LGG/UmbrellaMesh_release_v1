{
 "cells": [
  {
   "cell_type": "code",
   "execution_count": null,
   "id": "be498b10",
   "metadata": {},
   "outputs": [],
   "source": [
    "import sys\n",
    "sys.path.append('..')\n",
    "import umbrella_mesh\n",
    "import elastic_rods\n",
    "import linkage_vis\n",
    "from umbrella_mesh import UmbrellaEnergyType\n",
    "from elastic_rods import EnergyType\n",
    "from bending_validation import suppress_stdout as so"
   ]
  },
  {
   "cell_type": "code",
   "execution_count": null,
   "id": "2e938f55",
   "metadata": {},
   "outputs": [],
   "source": [
    "import numpy as np"
   ]
  },
  {
   "cell_type": "code",
   "execution_count": null,
   "id": "8bd1a89d",
   "metadata": {},
   "outputs": [],
   "source": [
    "width = 0.1\n",
    "thickness = width\n",
    "cross_section = [thickness, width]"
   ]
  },
  {
   "cell_type": "code",
   "execution_count": null,
   "id": "50e2f3a4",
   "metadata": {},
   "outputs": [],
   "source": [
    "input_path = '../../data/sphere_cap_0.3.json'\n",
    "from load_jsondata import read_data\n",
    "input_data, io = read_data(filepath = input_path)\n",
    "width = 2*input_data['arm_plate_edge_offset']\n",
    "thickness = width * 0.5 # 1.5 mm # FIX from mm to meters everywhere\n",
    "cross_section = [thickness, width]"
   ]
  },
  {
   "cell_type": "markdown",
   "id": "99c4b488",
   "metadata": {},
   "source": [
    "### Initialization"
   ]
  },
  {
   "cell_type": "code",
   "execution_count": null,
   "id": "f0309b9f",
   "metadata": {},
   "outputs": [],
   "source": [
    "curr_um = umbrella_mesh.UmbrellaMesh(io)\n",
    "curr_um.setMaterial(elastic_rods.RodMaterial('rectangle', 2000, 0.3, cross_section, stiffAxis=elastic_rods.StiffAxis.D1))\n",
    "curr_um.targetDeploymentHeight = thickness * 1"
   ]
  },
  {
   "cell_type": "code",
   "execution_count": null,
   "id": "c07b5893",
   "metadata": {},
   "outputs": [],
   "source": [
    "curr_um.energy(UmbrellaEnergyType.Elastic)"
   ]
  },
  {
   "cell_type": "code",
   "execution_count": null,
   "id": "baebc0fc",
   "metadata": {},
   "outputs": [],
   "source": [
    "curr_um.set_design_parameter_config(True, False)"
   ]
  },
  {
   "cell_type": "markdown",
   "id": "23f879bb",
   "metadata": {},
   "source": [
    "### Parameters"
   ]
  },
  {
   "cell_type": "code",
   "execution_count": null,
   "id": "16cae3b3",
   "metadata": {
    "tags": []
   },
   "outputs": [],
   "source": [
    "view = linkage_vis.LinkageViewer(curr_um, width=1024, height=600)\n",
    "view.averagedMaterialFrames = True\n",
    "view.show()"
   ]
  },
  {
   "cell_type": "markdown",
   "id": "f58bab53",
   "metadata": {},
   "source": [
    "### Gradient Validation"
   ]
  },
  {
   "cell_type": "code",
   "execution_count": null,
   "id": "b6899c43",
   "metadata": {},
   "outputs": [],
   "source": [
    "import umbrella_finite_diff"
   ]
  },
  {
   "cell_type": "code",
   "execution_count": null,
   "id": "0a165426",
   "metadata": {},
   "outputs": [],
   "source": [
    "import importlib\n",
    "importlib.reload(umbrella_finite_diff)"
   ]
  },
  {
   "cell_type": "code",
   "execution_count": null,
   "id": "5c7bbaf7",
   "metadata": {},
   "outputs": [],
   "source": [
    "init_dof = curr_um.getExtendedDoFs()"
   ]
  },
  {
   "cell_type": "code",
   "execution_count": null,
   "id": "d6f62205",
   "metadata": {},
   "outputs": [],
   "source": [
    "perturbation = np.random.uniform(-0.1, 0.1, curr_um.numExtendedDoF())"
   ]
  },
  {
   "cell_type": "code",
   "execution_count": null,
   "id": "9bef6a98",
   "metadata": {},
   "outputs": [],
   "source": [
    "curr_um.setExtendedDoFs(init_dof + perturbation)"
   ]
  },
  {
   "cell_type": "code",
   "execution_count": null,
   "id": "c45c2a75",
   "metadata": {},
   "outputs": [],
   "source": [
    "view.update()"
   ]
  },
  {
   "cell_type": "code",
   "execution_count": null,
   "id": "7af7ce04",
   "metadata": {},
   "outputs": [],
   "source": [
    "direction = np.random.uniform(-1, 1, curr_um.numExtendedDoF())"
   ]
  },
  {
   "cell_type": "code",
   "execution_count": null,
   "id": "b8216c16",
   "metadata": {},
   "outputs": [],
   "source": [
    "curr_um.updateSourceFrame()"
   ]
  },
  {
   "cell_type": "code",
   "execution_count": null,
   "id": "536d753b",
   "metadata": {},
   "outputs": [],
   "source": [
    "curr_um.uniformDeploymentEnergyWeight = 100"
   ]
  },
  {
   "cell_type": "code",
   "execution_count": null,
   "id": "2299875b",
   "metadata": {},
   "outputs": [],
   "source": [
    "curr_um.targetDeploymentHeight = thickness"
   ]
  },
  {
   "cell_type": "code",
   "execution_count": null,
   "id": "be4045aa",
   "metadata": {},
   "outputs": [],
   "source": [
    "curr_um.energy(umbrellaEnergyType=umbrella_mesh.UmbrellaEnergyType.Deployment)"
   ]
  },
  {
   "cell_type": "code",
   "execution_count": null,
   "id": "7e991b85",
   "metadata": {},
   "outputs": [],
   "source": [
    "import numpy.linalg as la"
   ]
  },
  {
   "cell_type": "code",
   "execution_count": null,
   "id": "cfffd90c",
   "metadata": {},
   "outputs": [],
   "source": [
    "la.norm(curr_um.gradient(umbrellaEnergyType=umbrella_mesh.UmbrellaEnergyType.Deployment, variableDesignParameters=True))"
   ]
  },
  {
   "cell_type": "code",
   "execution_count": null,
   "id": "5af54aab",
   "metadata": {},
   "outputs": [],
   "source": [
    "curr_um.energy(umbrellaEnergyType=umbrella_mesh.UmbrellaEnergyType.Deployment)"
   ]
  },
  {
   "cell_type": "code",
   "execution_count": null,
   "id": "8c38f433",
   "metadata": {},
   "outputs": [],
   "source": [
    "curr_um.energy(umbrellaEnergyType=umbrella_mesh.UmbrellaEnergyType.Elastic)"
   ]
  },
  {
   "cell_type": "code",
   "execution_count": null,
   "id": "8127cc39",
   "metadata": {},
   "outputs": [],
   "source": [
    "umbrella_finite_diff.gradient_convergence_plot(curr_um, umbrellaEnergyType=umbrella_mesh.UmbrellaEnergyType.Deployment, etype=elastic_rods.EnergyType.Full, direction = direction, variableDesignParameters=True)"
   ]
  },
  {
   "cell_type": "code",
   "execution_count": null,
   "id": "9f681b16",
   "metadata": {},
   "outputs": [],
   "source": [
    "umbrella_finite_diff.gradient_convergence_plot(curr_um, umbrellaEnergyType=umbrella_mesh.UmbrellaEnergyType.Full, etype=elastic_rods.EnergyType.Full, direction = direction, variableDesignParameters=True)"
   ]
  },
  {
   "cell_type": "code",
   "execution_count": null,
   "id": "96d21382",
   "metadata": {},
   "outputs": [],
   "source": [
    "umbrella_finite_diff.gradient_convergence_plot(curr_um, umbrellaEnergyType=umbrella_mesh.UmbrellaEnergyType.Elastic, etype=elastic_rods.EnergyType.Full, direction = direction, variableDesignParameters=True)"
   ]
  }
 ],
 "metadata": {
  "kernelspec": {
   "display_name": "umbrella_mesh",
   "language": "python",
   "name": "umbrella_mesh"
  },
  "language_info": {
   "codemirror_mode": {
    "name": "ipython",
    "version": 3
   },
   "file_extension": ".py",
   "mimetype": "text/x-python",
   "name": "python",
   "nbconvert_exporter": "python",
   "pygments_lexer": "ipython3",
   "version": "3.9.7"
  }
 },
 "nbformat": 4,
 "nbformat_minor": 5
}
