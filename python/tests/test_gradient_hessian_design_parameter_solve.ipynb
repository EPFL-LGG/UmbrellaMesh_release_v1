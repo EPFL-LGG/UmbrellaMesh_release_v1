{
 "cells": [
  {
   "cell_type": "code",
   "execution_count": null,
   "id": "474cd544",
   "metadata": {},
   "outputs": [],
   "source": [
    "import sys\n",
    "sys.path.append('..')\n",
    "import umbrella_mesh\n",
    "import elastic_rods\n",
    "import linkage_vis\n",
    "from umbrella_mesh import UmbrellaEnergyType\n",
    "from elastic_rods import EnergyType\n",
    "from bending_validation import suppress_stdout as so"
   ]
  },
  {
   "cell_type": "code",
   "execution_count": null,
   "id": "e6b54a04",
   "metadata": {},
   "outputs": [],
   "source": [
    "import numpy as np"
   ]
  },
  {
   "cell_type": "code",
   "execution_count": null,
   "id": "6f4f4158",
   "metadata": {},
   "outputs": [],
   "source": [
    "input_path = '../../data/sphere_cap_0.3.json'\n",
    "from load_jsondata import read_data\n",
    "input_data, io = read_data(filepath = input_path)\n",
    "width = 2*input_data['arm_plate_edge_offset']\n",
    "thickness = width * 0.5 # 1.5 mm # FIX from mm to meters everywhere\n",
    "cross_section = [thickness, width]"
   ]
  },
  {
   "cell_type": "markdown",
   "id": "3292b1df",
   "metadata": {},
   "source": [
    "### Initialization"
   ]
  },
  {
   "cell_type": "code",
   "execution_count": null,
   "id": "42ce6689",
   "metadata": {},
   "outputs": [],
   "source": [
    "curr_um = umbrella_mesh.UmbrellaMesh(io)\n",
    "curr_um.setMaterial(elastic_rods.RodMaterial('rectangle', 2000, 0.3, cross_section, stiffAxis=elastic_rods.StiffAxis.D1))\n",
    "curr_um.targetDeploymentHeight = thickness * 1"
   ]
  },
  {
   "cell_type": "code",
   "execution_count": null,
   "id": "f3b756db",
   "metadata": {},
   "outputs": [],
   "source": [
    "curr_um.setMaterial(elastic_rods.RodMaterial('rectangle', 2000, 0.3, cross_section, stiffAxis=elastic_rods.StiffAxis.D1))"
   ]
  },
  {
   "cell_type": "code",
   "execution_count": null,
   "id": "9e1bfa8f",
   "metadata": {},
   "outputs": [],
   "source": [
    "curr_um.energy(UmbrellaEnergyType.Elastic)"
   ]
  },
  {
   "cell_type": "code",
   "execution_count": null,
   "id": "458e2997",
   "metadata": {},
   "outputs": [],
   "source": [
    "curr_um.set_design_parameter_config(True, False)"
   ]
  },
  {
   "cell_type": "code",
   "execution_count": null,
   "id": "3e05ffca",
   "metadata": {},
   "outputs": [],
   "source": [
    "# curr_um.gradient(variableDesignParameters = True, designParameterOnly = False)"
   ]
  },
  {
   "cell_type": "markdown",
   "id": "35c54b77",
   "metadata": {},
   "source": [
    "### Parameters"
   ]
  },
  {
   "cell_type": "code",
   "execution_count": null,
   "id": "566b1c81",
   "metadata": {},
   "outputs": [],
   "source": [
    "curr_um.uniformDeploymentEnergyWeight = 2\n",
    "curr_um.targetDeploymentHeight = thickness * 1"
   ]
  },
  {
   "cell_type": "code",
   "execution_count": null,
   "id": "33cf3f3f",
   "metadata": {
    "tags": []
   },
   "outputs": [],
   "source": [
    "view = linkage_vis.LinkageViewer(curr_um, width=1024, height=600)\n",
    "view.averagedMaterialFrames = True\n",
    "view.show()"
   ]
  },
  {
   "cell_type": "code",
   "execution_count": null,
   "id": "c541cc5e",
   "metadata": {},
   "outputs": [],
   "source": [
    "curr_um.hessian(variableDesignParameters = True)"
   ]
  },
  {
   "cell_type": "markdown",
   "id": "d18f2a22",
   "metadata": {},
   "source": [
    "### Validate Design Parameter Solve Derivatives"
   ]
  },
  {
   "cell_type": "code",
   "execution_count": null,
   "id": "5766e6b9",
   "metadata": {},
   "outputs": [],
   "source": [
    "# Reloadable libraries\n",
    "import fd_design_parameter_solve, importlib\n",
    "importlib.reload(fd_design_parameter_solve)\n",
    "from fd_design_parameter_solve import fd_hessian_test, fd_gradient_test, gradient_convergence_plot, hessian_convergence_plot"
   ]
  },
  {
   "cell_type": "code",
   "execution_count": null,
   "id": "a1737bb9",
   "metadata": {},
   "outputs": [],
   "source": [
    "dof = curr_um.getDoFs()\n",
    "for i in range(curr_um.numJoints()):\n",
    "    if (curr_um.joint(i).jointType() == umbrella_mesh.JointType.X):\n",
    "        dof[curr_um.dofOffsetForJoint(i) + 6] += 0.5\n",
    "curr_um.setDoFs(dof)"
   ]
  },
  {
   "cell_type": "code",
   "execution_count": null,
   "id": "310812b8",
   "metadata": {},
   "outputs": [],
   "source": [
    "driver = curr_um.centralJoint()\n",
    "jdo = curr_um.dofOffsetForJoint(driver)\n",
    "fixedVars = list(range(jdo, jdo + 6)) + curr_um.rigidJointAngleDoFIndices()"
   ]
  },
  {
   "cell_type": "code",
   "execution_count": null,
   "id": "0ba8ef60",
   "metadata": {},
   "outputs": [],
   "source": [
    "import py_newton_optimizer\n",
    "OPTS = py_newton_optimizer.NewtonOptimizerOptions()\n",
    "OPTS.gradTol = 1e-7\n",
    "OPTS.verbose = 20\n",
    "OPTS.beta = 1e-8\n",
    "OPTS.niter = 100\n",
    "OPTS.verboseNonPosDef = False"
   ]
  },
  {
   "cell_type": "code",
   "execution_count": null,
   "id": "9f16563a",
   "metadata": {},
   "outputs": [],
   "source": [
    "rod_colors = []\n",
    "for ri in range(curr_um.numSegments()):\n",
    "    rod_colors.append(np.ones(curr_um.segment(ri).rod.numVertices()) * ri)"
   ]
  },
  {
   "cell_type": "code",
   "execution_count": null,
   "id": "f249443b",
   "metadata": {},
   "outputs": [],
   "source": [
    "view.update(scalarField=rod_colors)"
   ]
  },
  {
   "cell_type": "code",
   "execution_count": null,
   "id": "4c69df31",
   "metadata": {
    "tags": []
   },
   "outputs": [],
   "source": [
    "def eqm_callback(prob, i):\n",
    "    if (i % 20 == 0):\n",
    "        view.update(scalarField = rod_colors)"
   ]
  },
  {
   "cell_type": "code",
   "execution_count": null,
   "id": "b02b795c",
   "metadata": {},
   "outputs": [],
   "source": [
    "curr_um.energyElastic(), curr_um.energyDeployment()"
   ]
  },
  {
   "cell_type": "code",
   "execution_count": null,
   "id": "00a87fae",
   "metadata": {},
   "outputs": [],
   "source": [
    "def callback(prob, i):\n",
    "    if (i % 5) != 0: return\n",
    "    view.update()"
   ]
  },
  {
   "cell_type": "code",
   "execution_count": null,
   "id": "9db2e869",
   "metadata": {},
   "outputs": [],
   "source": [
    "dpo = umbrella_mesh.get_designParameter_optimizer(curr_um, callback = callback, E0 = -1, fixedVars = fixedVars)"
   ]
  },
  {
   "cell_type": "code",
   "execution_count": null,
   "id": "1c745069",
   "metadata": {},
   "outputs": [],
   "source": [
    "dp_problem = umbrella_mesh.DesignParameterProblem(curr_um)"
   ]
  },
  {
   "cell_type": "code",
   "execution_count": null,
   "id": "7184609f",
   "metadata": {},
   "outputs": [],
   "source": [
    "long_direction = np.random.normal(-1, 1, dp_problem.numVars())\n",
    "gradient_convergence_plot(dp_problem, minStepSize=1e-9, maxStepSize=1e-1, direction = long_direction)"
   ]
  },
  {
   "cell_type": "code",
   "execution_count": null,
   "id": "4116b1e6",
   "metadata": {},
   "outputs": [],
   "source": [
    "curr_um.updateSourceFrame()"
   ]
  },
  {
   "cell_type": "code",
   "execution_count": null,
   "id": "f61967fc",
   "metadata": {},
   "outputs": [],
   "source": [
    "hessian_convergence_plot(dp_problem, minStepSize=1e-11, maxStepSize=1e-1, direction = long_direction)"
   ]
  }
 ],
 "metadata": {
  "kernelspec": {
   "display_name": "umbrella_mesh",
   "language": "python",
   "name": "umbrella_mesh"
  },
  "language_info": {
   "codemirror_mode": {
    "name": "ipython",
    "version": 3
   },
   "file_extension": ".py",
   "mimetype": "text/x-python",
   "name": "python",
   "nbconvert_exporter": "python",
   "pygments_lexer": "ipython3",
   "version": "3.9.7"
  }
 },
 "nbformat": 4,
 "nbformat_minor": 5
}
