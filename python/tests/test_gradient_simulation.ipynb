{
 "cells": [
  {
   "cell_type": "code",
   "execution_count": null,
   "id": "556a93f4",
   "metadata": {},
   "outputs": [],
   "source": [
    "import sys\n",
    "sys.path.append('..')\n",
    "import umbrella_mesh\n",
    "import elastic_rods\n",
    "import linkage_vis\n",
    "import numpy.linalg as la\n",
    "from visualization_helper import *"
   ]
  },
  {
   "cell_type": "code",
   "execution_count": null,
   "id": "cd80ce3c",
   "metadata": {},
   "outputs": [],
   "source": [
    "import numpy as np"
   ]
  },
  {
   "cell_type": "code",
   "execution_count": null,
   "id": "a933e067",
   "metadata": {},
   "outputs": [],
   "source": [
    "input_path = '../../data/sphere_cap_0.3.json'\n",
    "# input_path = '../../data/hemisphere.json'\n",
    "from load_jsondata import read_data\n",
    "input_data, io = read_data(filepath = input_path)\n",
    "import mesh\n",
    "target_mesh = mesh.Mesh(input_data['target_v'], input_data['target_f'])\n"
   ]
  },
  {
   "cell_type": "markdown",
   "id": "2b1a2a2a",
   "metadata": {},
   "source": [
    "### Initialization"
   ]
  },
  {
   "cell_type": "code",
   "execution_count": null,
   "id": "9f80e721",
   "metadata": {},
   "outputs": [],
   "source": [
    "curr_um = umbrella_mesh.UmbrellaMesh(io)\n",
    "thickness = io.material_params[6]\n",
    "curr_um.targetDeploymentHeight = thickness"
   ]
  },
  {
   "cell_type": "code",
   "execution_count": null,
   "id": "90e296e2",
   "metadata": {},
   "outputs": [],
   "source": [
    "curr_um.energy()"
   ]
  },
  {
   "cell_type": "markdown",
   "id": "52ac58f0",
   "metadata": {},
   "source": [
    "### Visualization"
   ]
  },
  {
   "cell_type": "code",
   "execution_count": null,
   "id": "f7a01124",
   "metadata": {},
   "outputs": [],
   "source": [
    "rod_colors = get_color_field(curr_um, input_data)"
   ]
  },
  {
   "cell_type": "code",
   "execution_count": null,
   "id": "daa42492",
   "metadata": {
    "tags": []
   },
   "outputs": [],
   "source": [
    "import mesh\n",
    "view = linkage_vis.LinkageViewerWithSurface(curr_um, target_mesh, width=1024, height=600)\n",
    "set_surface_view_options(view, color = 'green', surface_color = 'gray', umbrella_transparent = False, surface_transparent = True)\n",
    "view.averagedMaterialFrames = True\n",
    "view.showScalarField(rod_colors)\n",
    "view.show()"
   ]
  },
  {
   "cell_type": "markdown",
   "id": "3c623fcf",
   "metadata": {},
   "source": [
    "### Gradient Validation"
   ]
  },
  {
   "cell_type": "code",
   "execution_count": null,
   "id": "a5417c6b",
   "metadata": {},
   "outputs": [],
   "source": [
    "import umbrella_finite_diff"
   ]
  },
  {
   "cell_type": "code",
   "execution_count": null,
   "id": "b2353b59",
   "metadata": {},
   "outputs": [],
   "source": [
    "import importlib\n",
    "importlib.reload(umbrella_finite_diff)"
   ]
  },
  {
   "cell_type": "code",
   "execution_count": null,
   "id": "30923c34",
   "metadata": {},
   "outputs": [],
   "source": [
    "curr_um.setDoFs(curr_um.getDoFs() + np.random.uniform(-1e-4, 1e-4, curr_um.numDoF()))"
   ]
  },
  {
   "cell_type": "code",
   "execution_count": null,
   "id": "eaf57ca0",
   "metadata": {},
   "outputs": [],
   "source": [
    "direction = np.random.uniform(-1, 1, curr_um.numDoF())"
   ]
  },
  {
   "cell_type": "code",
   "execution_count": null,
   "id": "49a39f9f",
   "metadata": {},
   "outputs": [],
   "source": [
    "curr_um.updateSourceFrame()"
   ]
  },
  {
   "cell_type": "code",
   "execution_count": null,
   "id": "d473a2a7",
   "metadata": {},
   "outputs": [],
   "source": [
    "\n",
    "curr_um.uniformDeploymentEnergyWeight = 0.01\n",
    "curr_um.attractionWeight = 0.01\n",
    "curr_um.scaleInputPosWeights(0.5)\n",
    "curr_um.setHoldClosestPointsFixed(False)\n",
    "# curr_um.deploymentForceType = umbrella_mesh.DeploymentForceType.Constant\n",
    "curr_um.repulsionEnergyWeight = 0.01"
   ]
  },
  {
   "cell_type": "code",
   "execution_count": null,
   "id": "dee751a8",
   "metadata": {},
   "outputs": [],
   "source": [
    "curr_um.targetDeploymentHeight = thickness"
   ]
  },
  {
   "cell_type": "code",
   "execution_count": null,
   "id": "1ed8014a",
   "metadata": {},
   "outputs": [],
   "source": [
    "curr_um.energy(umbrellaEnergyType=umbrella_mesh.UmbrellaEnergyType.Deployment)"
   ]
  },
  {
   "cell_type": "code",
   "execution_count": null,
   "id": "e1c22f8d",
   "metadata": {},
   "outputs": [],
   "source": [
    "la.norm(curr_um.gradient(umbrellaEnergyType=umbrella_mesh.UmbrellaEnergyType.Deployment))"
   ]
  },
  {
   "cell_type": "code",
   "execution_count": null,
   "id": "bc64b696",
   "metadata": {},
   "outputs": [],
   "source": [
    "curr_um.energy(umbrellaEnergyType=umbrella_mesh.UmbrellaEnergyType.Elastic)"
   ]
  },
  {
   "cell_type": "code",
   "execution_count": null,
   "id": "dbc3be30",
   "metadata": {},
   "outputs": [],
   "source": [
    "la.norm(curr_um.gradient(umbrellaEnergyType=umbrella_mesh.UmbrellaEnergyType.Elastic))"
   ]
  },
  {
   "cell_type": "code",
   "execution_count": null,
   "id": "96f08294",
   "metadata": {},
   "outputs": [],
   "source": [
    "curr_um.energy(umbrellaEnergyType=umbrella_mesh.UmbrellaEnergyType.Attraction)"
   ]
  },
  {
   "cell_type": "code",
   "execution_count": null,
   "id": "fd0fc90d",
   "metadata": {},
   "outputs": [],
   "source": [
    "la.norm(curr_um.gradient(umbrellaEnergyType=umbrella_mesh.UmbrellaEnergyType.Attraction))"
   ]
  },
  {
   "cell_type": "code",
   "execution_count": null,
   "id": "d8cf2e72",
   "metadata": {},
   "outputs": [],
   "source": [
    "curr_um.energy(umbrellaEnergyType=umbrella_mesh.UmbrellaEnergyType.Repulsion)"
   ]
  },
  {
   "cell_type": "code",
   "execution_count": null,
   "id": "e7ed7935",
   "metadata": {},
   "outputs": [],
   "source": [
    "la.norm(curr_um.gradient(umbrellaEnergyType=umbrella_mesh.UmbrellaEnergyType.Repulsion))"
   ]
  },
  {
   "cell_type": "code",
   "execution_count": null,
   "id": "efb0bd90",
   "metadata": {},
   "outputs": [],
   "source": [
    "umbrella_finite_diff.gradient_convergence_plot(curr_um, umbrellaEnergyType=umbrella_mesh.UmbrellaEnergyType.Repulsion, etype=elastic_rods.EnergyType.Full, direction = direction)"
   ]
  },
  {
   "cell_type": "code",
   "execution_count": null,
   "id": "1d764010",
   "metadata": {},
   "outputs": [],
   "source": [
    "umbrella_finite_diff.gradient_convergence_plot(curr_um, umbrellaEnergyType=umbrella_mesh.UmbrellaEnergyType.Attraction, etype=elastic_rods.EnergyType.Full, direction = direction)"
   ]
  },
  {
   "cell_type": "code",
   "execution_count": null,
   "id": "5f695fb3",
   "metadata": {},
   "outputs": [],
   "source": [
    "umbrella_finite_diff.gradient_convergence_plot(curr_um, umbrellaEnergyType=umbrella_mesh.UmbrellaEnergyType.Deployment, etype=elastic_rods.EnergyType.Full, direction = direction)"
   ]
  },
  {
   "cell_type": "code",
   "execution_count": null,
   "id": "ac811989",
   "metadata": {},
   "outputs": [],
   "source": [
    "umbrella_finite_diff.gradient_convergence_plot(curr_um, umbrellaEnergyType=umbrella_mesh.UmbrellaEnergyType.Full, etype=elastic_rods.EnergyType.Full, direction = direction)"
   ]
  },
  {
   "cell_type": "code",
   "execution_count": null,
   "id": "924ebafc",
   "metadata": {},
   "outputs": [],
   "source": [
    "umbrella_finite_diff.gradient_convergence_plot(curr_um, umbrellaEnergyType=umbrella_mesh.UmbrellaEnergyType.Elastic, etype=elastic_rods.EnergyType.Full, direction = direction)"
   ]
  }
 ],
 "metadata": {
  "interpreter": {
   "hash": "b0731418c403ae7c7c2c65a6cfb677ed9574f7b0e1d7d53528d0c6221b27a8c5"
  },
  "kernelspec": {
   "display_name": "Python 3",
   "language": "python",
   "name": "python3"
  },
  "language_info": {
   "codemirror_mode": {
    "name": "ipython",
    "version": 3
   },
   "file_extension": ".py",
   "mimetype": "text/x-python",
   "name": "python",
   "nbconvert_exporter": "python",
   "pygments_lexer": "ipython3",
   "version": "3.9.7"
  }
 },
 "nbformat": 4,
 "nbformat_minor": 5
}
