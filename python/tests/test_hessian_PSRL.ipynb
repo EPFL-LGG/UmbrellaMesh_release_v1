{
 "cells": [
  {
   "cell_type": "code",
   "execution_count": null,
   "id": "d821377d",
   "metadata": {},
   "outputs": [],
   "source": [
    "import sys\n",
    "sys.path.append('..')\n",
    "import umbrella_mesh\n",
    "import elastic_rods\n",
    "import linkage_vis\n",
    "from umbrella_mesh import UmbrellaEnergyType\n",
    "from elastic_rods import EnergyType\n",
    "from bending_validation import suppress_stdout as so"
   ]
  },
  {
   "cell_type": "code",
   "execution_count": null,
   "id": "f8965690",
   "metadata": {},
   "outputs": [],
   "source": [
    "import numpy as np"
   ]
  },
  {
   "cell_type": "code",
   "execution_count": null,
   "id": "4694500a",
   "metadata": {},
   "outputs": [],
   "source": [
    "input_path = '../../data/sphere_cap_0.3.json'\n",
    "from load_jsondata import read_data\n",
    "input_data, io = read_data(filepath = input_path)\n",
    "width = 2*input_data['arm_plate_edge_offset']\n",
    "thickness = width * 0.5 # 1.5 mm # FIX from mm to meters everywhere\n",
    "cross_section = [thickness, width]"
   ]
  },
  {
   "cell_type": "markdown",
   "id": "ead4e2c9",
   "metadata": {},
   "source": [
    "### Initialization"
   ]
  },
  {
   "cell_type": "code",
   "execution_count": null,
   "id": "8a76f49c",
   "metadata": {},
   "outputs": [],
   "source": [
    "curr_um = umbrella_mesh.UmbrellaMesh(io)\n",
    "curr_um.setMaterial(elastic_rods.RodMaterial('rectangle', 2000, 0.3, cross_section, stiffAxis=elastic_rods.StiffAxis.D1))\n",
    "curr_um.targetDeploymentHeight = thickness * 1"
   ]
  },
  {
   "cell_type": "code",
   "execution_count": null,
   "id": "2f07021b",
   "metadata": {},
   "outputs": [],
   "source": [
    "curr_um.energy(UmbrellaEnergyType.Elastic)"
   ]
  },
  {
   "cell_type": "code",
   "execution_count": null,
   "id": "090a597b",
   "metadata": {},
   "outputs": [],
   "source": [
    "curr_um.set_design_parameter_config(True, False)"
   ]
  },
  {
   "cell_type": "code",
   "execution_count": null,
   "id": "c64eaa22",
   "metadata": {},
   "outputs": [],
   "source": [
    "# curr_um.gradient(variableDesignParameters = True, designParameterOnly = False)"
   ]
  },
  {
   "cell_type": "markdown",
   "id": "e5574075",
   "metadata": {},
   "source": [
    "### Parameters"
   ]
  },
  {
   "cell_type": "code",
   "execution_count": null,
   "id": "3d0ae01b",
   "metadata": {},
   "outputs": [],
   "source": [
    "curr_um.uniformDeploymentEnergyWeight = 2\n",
    "curr_um.targetDeploymentHeight = thickness * 1"
   ]
  },
  {
   "cell_type": "code",
   "execution_count": null,
   "id": "932cadbe",
   "metadata": {
    "tags": []
   },
   "outputs": [],
   "source": [
    "view = linkage_vis.LinkageViewer(curr_um, width=1024, height=600)\n",
    "view.averagedMaterialFrames = True\n",
    "view.show()"
   ]
  },
  {
   "cell_type": "code",
   "execution_count": null,
   "id": "5ec914b1",
   "metadata": {},
   "outputs": [],
   "source": [
    "curr_um.hessian(variableDesignParameters = True)"
   ]
  },
  {
   "cell_type": "markdown",
   "id": "7482d1e1",
   "metadata": {},
   "source": [
    "### Hessian Validation"
   ]
  },
  {
   "cell_type": "code",
   "execution_count": null,
   "id": "719b501a",
   "metadata": {},
   "outputs": [],
   "source": [
    "curr_um.updateSourceFrame()"
   ]
  },
  {
   "cell_type": "code",
   "execution_count": null,
   "id": "bbc1f381",
   "metadata": {},
   "outputs": [],
   "source": [
    "curr_um.hessianSparsityPattern()"
   ]
  },
  {
   "cell_type": "code",
   "execution_count": null,
   "id": "8e1bc85c",
   "metadata": {},
   "outputs": [],
   "source": [
    "curr_um.hessian()"
   ]
  },
  {
   "cell_type": "code",
   "execution_count": null,
   "id": "d3855033",
   "metadata": {},
   "outputs": [],
   "source": [
    "import umbrella_finite_diff"
   ]
  },
  {
   "cell_type": "code",
   "execution_count": null,
   "id": "f27dd2e4",
   "metadata": {},
   "outputs": [],
   "source": [
    "import importlib\n",
    "importlib.reload(umbrella_finite_diff)"
   ]
  },
  {
   "cell_type": "code",
   "execution_count": null,
   "id": "3caa2b55",
   "metadata": {},
   "outputs": [],
   "source": [
    "perturbation = np.random.uniform(-0.1, 0.1, curr_um.numDoF())"
   ]
  },
  {
   "cell_type": "code",
   "execution_count": null,
   "id": "296ce86e",
   "metadata": {},
   "outputs": [],
   "source": [
    "dof = curr_um.getDoFs()"
   ]
  },
  {
   "cell_type": "code",
   "execution_count": null,
   "id": "889284ee",
   "metadata": {},
   "outputs": [],
   "source": [
    "import copy"
   ]
  },
  {
   "cell_type": "code",
   "execution_count": null,
   "id": "872e6913",
   "metadata": {},
   "outputs": [],
   "source": [
    "curr_um.setDoFs(dof + perturbation)\n",
    "# curr_um.setDoFs(perturbation_along_segment_dof)"
   ]
  },
  {
   "cell_type": "code",
   "execution_count": null,
   "id": "7c861d84",
   "metadata": {
    "tags": []
   },
   "outputs": [],
   "source": [
    "view.update()"
   ]
  },
  {
   "cell_type": "code",
   "execution_count": null,
   "id": "96d48031",
   "metadata": {},
   "outputs": [],
   "source": [
    "curr_um.uniformDeploymentEnergyWeight = 200"
   ]
  },
  {
   "cell_type": "code",
   "execution_count": null,
   "id": "0f8c1d78",
   "metadata": {},
   "outputs": [],
   "source": [
    "curr_um.targetDeploymentHeight = thickness"
   ]
  },
  {
   "cell_type": "code",
   "execution_count": null,
   "id": "e569be34",
   "metadata": {},
   "outputs": [],
   "source": [
    "curr_um.updateSourceFrame()"
   ]
  },
  {
   "cell_type": "code",
   "execution_count": null,
   "id": "757bc623",
   "metadata": {},
   "outputs": [],
   "source": [
    "umbrella_finite_diff.hessian_convergence_plot(curr_um, umbrellaEnergyType=umbrella_mesh.UmbrellaEnergyType.Deployment, etype=elastic_rods.EnergyType.Full, maxStepSize=1e-1, variableDesignParameters=True, perSegmentRestLen=True)"
   ]
  },
  {
   "cell_type": "code",
   "execution_count": null,
   "id": "8ce835c8",
   "metadata": {},
   "outputs": [],
   "source": [
    "direction = np.random.uniform(-1, 1, curr_um.numExtendedDoFPSRL())"
   ]
  },
  {
   "cell_type": "code",
   "execution_count": null,
   "id": "e39ebd87",
   "metadata": {},
   "outputs": [],
   "source": [
    "umbrella_finite_diff.hessian_convergence_plot(curr_um, umbrellaEnergyType=umbrella_mesh.UmbrellaEnergyType.Elastic, etype=elastic_rods.EnergyType.Full, variableDesignParameters=True, direction = direction, perSegmentRestLen=True)"
   ]
  },
  {
   "cell_type": "code",
   "execution_count": null,
   "id": "0ad2bf8d",
   "metadata": {},
   "outputs": [],
   "source": [
    "umbrella_finite_diff.hessian_convergence_plot(curr_um, umbrellaEnergyType=umbrella_mesh.UmbrellaEnergyType.Elastic, etype=elastic_rods.EnergyType.Full, variableDesignParameters=False, direction = direction[:curr_um.numDoF()])"
   ]
  },
  {
   "cell_type": "code",
   "execution_count": null,
   "id": "427e6c46",
   "metadata": {},
   "outputs": [],
   "source": [
    "var_types = ['FULL', 'RodSegment', 'Joint']\n",
    "var_indices = {'FULL': range(0, curr_um.numDoF()),\n",
    "               'RodSegment': range(0, curr_um.dofOffsetForJoint(0)),\n",
    "               'Joint': range( curr_um.dofOffsetForJoint(0), curr_um.numDoF())}"
   ]
  },
  {
   "cell_type": "code",
   "execution_count": null,
   "id": "430398e9",
   "metadata": {},
   "outputs": [],
   "source": [
    "umbrella_finite_diff.hessian_convergence_block_plot(curr_um, var_types, var_indices, umbrellaEnergyType=umbrella_mesh.UmbrellaEnergyType.Full, etype=elastic_rods.EnergyType.Full, variableDesignParameters=True, perSegmentRestLen=True)"
   ]
  },
  {
   "cell_type": "code",
   "execution_count": null,
   "id": "eee8a7e4",
   "metadata": {},
   "outputs": [],
   "source": [
    "position_indices = [np.arange(curr_um.dofOffsetForJoint(i), curr_um.dofOffsetForJoint(i) + 3) for i in range(curr_um.numJoints())]\n",
    "position_indices = np.array(position_indices).flatten()\n",
    "\n",
    "omega_indices = [np.arange(curr_um.dofOffsetForJoint(i) + 3, curr_um.dofOffsetForJoint(i) + 6) for i in range(curr_um.numJoints())]\n",
    "omega_indices = np.array(omega_indices).flatten()\n",
    "\n",
    "alpha_indices = [np.arange(curr_um.dofOffsetForJoint(i) + 6, curr_um.dofOffsetForJoint(i) + 7) for i in range(curr_um.numJoints())]\n",
    "alpha_indices = np.array(alpha_indices).flatten()\n",
    "\n",
    "length_indices = []\n",
    "for i in range(curr_um.numJoints()):\n",
    "    length_indices += list(np.arange(curr_um.dofOffsetForJoint(i) + 7, curr_um.dofOffsetForJoint(i) + curr_um.joint(i).numDoF()))\n",
    "length_indices = np.array(length_indices)"
   ]
  },
  {
   "cell_type": "code",
   "execution_count": null,
   "id": "0484138f",
   "metadata": {},
   "outputs": [],
   "source": [
    "var_types = ['position', 'omega', 'alpha', 'length']\n",
    "var_indices = {'position': position_indices,\n",
    "               'omega': omega_indices,\n",
    "               'alpha': alpha_indices,\n",
    "               'length': length_indices}"
   ]
  },
  {
   "cell_type": "code",
   "execution_count": null,
   "id": "b29dcf33",
   "metadata": {},
   "outputs": [],
   "source": [
    "umbrella_finite_diff.hessian_convergence_block_plot(curr_um, var_types, var_indices, umbrellaEnergyType=umbrella_mesh.UmbrellaEnergyType.Full, etype=elastic_rods.EnergyType.Full, perSegmentRestLen=True)"
   ]
  }
 ],
 "metadata": {
  "kernelspec": {
   "display_name": "umbrella_mesh",
   "language": "python",
   "name": "umbrella_mesh"
  },
  "language_info": {
   "codemirror_mode": {
    "name": "ipython",
    "version": 3
   },
   "file_extension": ".py",
   "mimetype": "text/x-python",
   "name": "python",
   "nbconvert_exporter": "python",
   "pygments_lexer": "ipython3",
   "version": "3.9.7"
  }
 },
 "nbformat": 4,
 "nbformat_minor": 5
}
