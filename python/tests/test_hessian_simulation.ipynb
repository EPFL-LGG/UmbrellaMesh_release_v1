{
 "cells": [
  {
   "cell_type": "code",
   "execution_count": null,
   "id": "de3bddb5",
   "metadata": {},
   "outputs": [],
   "source": [
    "import sys\n",
    "sys.path.append('..')\n",
    "import umbrella_mesh\n",
    "import elastic_rods\n",
    "import linkage_vis\n",
    "from visualization_helper import *"
   ]
  },
  {
   "cell_type": "code",
   "execution_count": null,
   "id": "65242b9e",
   "metadata": {},
   "outputs": [],
   "source": [
    "import numpy as np\n",
    "import numpy.linalg as la"
   ]
  },
  {
   "cell_type": "code",
   "execution_count": null,
   "id": "05e6d6ce",
   "metadata": {},
   "outputs": [],
   "source": [
    "input_path = '../../data/sphere_cap_0.3.json'\n",
    "from load_jsondata import read_data\n",
    "input_data, io = read_data(filepath = input_path)\n",
    "import mesh\n",
    "target_mesh = mesh.Mesh(input_data['target_v'], input_data['target_f'])\n"
   ]
  },
  {
   "cell_type": "markdown",
   "id": "b68fcbe6",
   "metadata": {},
   "source": [
    "### Initialization"
   ]
  },
  {
   "cell_type": "code",
   "execution_count": null,
   "id": "06e6e113",
   "metadata": {},
   "outputs": [],
   "source": [
    "curr_um = umbrella_mesh.UmbrellaMesh(io)\n",
    "thickness = io.material_params[6]\n",
    "curr_um.targetDeploymentHeight = thickness"
   ]
  },
  {
   "cell_type": "code",
   "execution_count": null,
   "id": "84d82128",
   "metadata": {},
   "outputs": [],
   "source": [
    "curr_um.energy()"
   ]
  },
  {
   "cell_type": "markdown",
   "id": "ba3baed9",
   "metadata": {},
   "source": [
    "### Visualization"
   ]
  },
  {
   "cell_type": "code",
   "execution_count": null,
   "id": "0c6ceba0",
   "metadata": {},
   "outputs": [],
   "source": [
    "rod_colors = get_color_field(curr_um, input_data)"
   ]
  },
  {
   "cell_type": "code",
   "execution_count": null,
   "id": "1f26a966",
   "metadata": {
    "tags": []
   },
   "outputs": [],
   "source": [
    "import mesh\n",
    "view = linkage_vis.LinkageViewerWithSurface(curr_um, target_mesh, width=1024, height=600)\n",
    "set_surface_view_options(view, color = 'green', surface_color = 'gray', umbrella_transparent = False, surface_transparent = True)\n",
    "view.averagedMaterialFrames = True\n",
    "view.showScalarField(rod_colors)\n",
    "view.show()"
   ]
  },
  {
   "cell_type": "markdown",
   "id": "556a1b19",
   "metadata": {},
   "source": [
    "### Hessian Validation"
   ]
  },
  {
   "cell_type": "code",
   "execution_count": null,
   "id": "47c1b8a6",
   "metadata": {},
   "outputs": [],
   "source": [
    "curr_um.updateSourceFrame()"
   ]
  },
  {
   "cell_type": "code",
   "execution_count": null,
   "id": "b2b53610",
   "metadata": {},
   "outputs": [],
   "source": [
    "curr_um.hessianSparsityPattern()"
   ]
  },
  {
   "cell_type": "code",
   "execution_count": null,
   "id": "07166c96",
   "metadata": {},
   "outputs": [],
   "source": [
    "curr_um.hessian()"
   ]
  },
  {
   "cell_type": "code",
   "execution_count": null,
   "id": "25fa0721",
   "metadata": {},
   "outputs": [],
   "source": [
    "import umbrella_finite_diff"
   ]
  },
  {
   "cell_type": "code",
   "execution_count": null,
   "id": "7b2311ab",
   "metadata": {},
   "outputs": [],
   "source": [
    "import importlib\n",
    "importlib.reload(umbrella_finite_diff)"
   ]
  },
  {
   "cell_type": "code",
   "execution_count": null,
   "id": "741a4fcd",
   "metadata": {},
   "outputs": [],
   "source": [
    "perturbation = np.random.uniform(-1e-3, 1e-3, curr_um.numDoF())"
   ]
  },
  {
   "cell_type": "code",
   "execution_count": null,
   "id": "418a1588",
   "metadata": {},
   "outputs": [],
   "source": [
    "dof = curr_um.getDoFs()"
   ]
  },
  {
   "cell_type": "code",
   "execution_count": null,
   "id": "338d3c56",
   "metadata": {},
   "outputs": [],
   "source": [
    "import copy"
   ]
  },
  {
   "cell_type": "code",
   "execution_count": null,
   "id": "352beac7",
   "metadata": {},
   "outputs": [],
   "source": [
    "curr_um.setDoFs(dof + perturbation)\n",
    "# curr_um.setDoFs(perturbation_along_segment_dof)"
   ]
  },
  {
   "cell_type": "code",
   "execution_count": null,
   "id": "d351beb3",
   "metadata": {},
   "outputs": [],
   "source": [
    "curr_um.uniformDeploymentEnergyWeight = 0.1\n",
    "curr_um.attractionWeight = 0.1\n",
    "curr_um.setHoldClosestPointsFixed(False)\n",
    "curr_um.scaleInputPosWeights(0)\n",
    "# curr_um.deploymentForceType = umbrella_mesh.DeploymentForceType.Constant\n",
    "curr_um.repulsionEnergyWeight = 0.1"
   ]
  },
  {
   "cell_type": "code",
   "execution_count": null,
   "id": "54a42870",
   "metadata": {},
   "outputs": [],
   "source": [
    "curr_um.targetDeploymentHeight = thickness"
   ]
  },
  {
   "cell_type": "code",
   "execution_count": null,
   "id": "dffcd579",
   "metadata": {},
   "outputs": [],
   "source": [
    "curr_um.updateSourceFrame()"
   ]
  },
  {
   "cell_type": "code",
   "execution_count": null,
   "id": "9cb03474",
   "metadata": {},
   "outputs": [],
   "source": [
    "umbrella_finite_diff.hessian_convergence_plot(curr_um, umbrellaEnergyType=umbrella_mesh.UmbrellaEnergyType.Repulsion, etype=elastic_rods.EnergyType.Full, maxStepSize=1e-1)"
   ]
  },
  {
   "cell_type": "code",
   "execution_count": null,
   "id": "a187faac",
   "metadata": {},
   "outputs": [],
   "source": [
    "umbrella_finite_diff.hessian_convergence_plot(curr_um, umbrellaEnergyType=umbrella_mesh.UmbrellaEnergyType.Deployment, etype=elastic_rods.EnergyType.Full, maxStepSize=1e-1)"
   ]
  },
  {
   "cell_type": "code",
   "execution_count": null,
   "id": "b8ce1ba5",
   "metadata": {},
   "outputs": [],
   "source": [
    "umbrella_finite_diff.hessian_convergence_plot(curr_um, umbrellaEnergyType=umbrella_mesh.UmbrellaEnergyType.Attraction, etype=elastic_rods.EnergyType.Full, maxStepSize=1e-1)"
   ]
  },
  {
   "cell_type": "code",
   "execution_count": null,
   "id": "593f9bb8",
   "metadata": {},
   "outputs": [],
   "source": [
    "umbrella_finite_diff.hessian_convergence_plot(curr_um, umbrellaEnergyType=umbrella_mesh.UmbrellaEnergyType.Elastic, etype=elastic_rods.EnergyType.Full)"
   ]
  },
  {
   "cell_type": "code",
   "execution_count": null,
   "id": "6e9886ca",
   "metadata": {},
   "outputs": [],
   "source": [
    "var_types = ['FULL', 'RodSegment', 'Joint']\n",
    "var_indices = {'FULL': range(0, curr_um.numDoF()),\n",
    "               'RodSegment': range(0, curr_um.dofOffsetForJoint(0)),\n",
    "               'Joint': range( curr_um.dofOffsetForJoint(0), curr_um.numDoF())}"
   ]
  },
  {
   "cell_type": "code",
   "execution_count": null,
   "id": "cd8249ba",
   "metadata": {},
   "outputs": [],
   "source": [
    "umbrella_finite_diff.hessian_convergence_block_plot(curr_um, var_types, var_indices, umbrellaEnergyType=umbrella_mesh.UmbrellaEnergyType.Full, etype=elastic_rods.EnergyType.Full)"
   ]
  },
  {
   "cell_type": "code",
   "execution_count": null,
   "id": "d4216933",
   "metadata": {},
   "outputs": [],
   "source": [
    "position_indices = [np.arange(curr_um.dofOffsetForJoint(i), curr_um.dofOffsetForJoint(i) + 3) for i in range(curr_um.numJoints())]\n",
    "position_indices = np.array(position_indices).flatten()\n",
    "\n",
    "omega_indices = [np.arange(curr_um.dofOffsetForJoint(i) + 3, curr_um.dofOffsetForJoint(i) + 6) for i in range(curr_um.numJoints())]\n",
    "omega_indices = np.array(omega_indices).flatten()\n",
    "\n",
    "alpha_indices = [np.arange(curr_um.dofOffsetForJoint(i) + 6, curr_um.dofOffsetForJoint(i) + 7) for i in range(curr_um.numJoints())]\n",
    "alpha_indices = np.array(alpha_indices).flatten()\n",
    "\n",
    "length_indices = []\n",
    "for i in range(curr_um.numJoints()):\n",
    "    length_indices += list(np.arange(curr_um.dofOffsetForJoint(i) + 7, curr_um.dofOffsetForJoint(i) + curr_um.joint(i).numDoF()))\n",
    "length_indices = np.array(length_indices)"
   ]
  },
  {
   "cell_type": "code",
   "execution_count": null,
   "id": "0a928300",
   "metadata": {},
   "outputs": [],
   "source": [
    "var_types = ['position', 'omega', 'alpha', 'length']\n",
    "var_indices = {'position': position_indices,\n",
    "               'omega': omega_indices,\n",
    "               'alpha': alpha_indices,\n",
    "               'length': length_indices}"
   ]
  },
  {
   "cell_type": "code",
   "execution_count": null,
   "id": "e51bd4b3",
   "metadata": {},
   "outputs": [],
   "source": [
    "umbrella_finite_diff.hessian_convergence_block_plot(curr_um, var_types, var_indices, umbrellaEnergyType=umbrella_mesh.UmbrellaEnergyType.Full, etype=elastic_rods.EnergyType.Full)"
   ]
  }
 ],
 "metadata": {
  "kernelspec": {
   "display_name": "Python 3",
   "language": "python",
   "name": "python3"
  },
  "language_info": {
   "codemirror_mode": {
    "name": "ipython",
    "version": 3
   },
   "file_extension": ".py",
   "mimetype": "text/x-python",
   "name": "python",
   "nbconvert_exporter": "python",
   "pygments_lexer": "ipython3",
   "version": "3.9.7"
  }
 },
 "nbformat": 4,
 "nbformat_minor": 5
}
