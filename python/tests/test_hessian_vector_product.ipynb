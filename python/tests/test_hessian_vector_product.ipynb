{
 "cells": [
  {
   "cell_type": "code",
   "execution_count": 1,
   "id": "777b2133",
   "metadata": {},
   "outputs": [],
   "source": [
    "import sys\n",
    "sys.path.append('..')\n",
    "import umbrella_mesh\n",
    "import elastic_rods\n",
    "import linkage_vis\n",
    "from umbrella_mesh import UmbrellaEnergyType\n",
    "from elastic_rods import EnergyType\n",
    "from bending_validation import suppress_stdout as so\n",
    "import numpy.linalg as la"
   ]
  },
  {
   "cell_type": "code",
   "execution_count": 2,
   "id": "a0656569",
   "metadata": {},
   "outputs": [],
   "source": [
    "import numpy as np"
   ]
  },
  {
   "cell_type": "code",
   "execution_count": 3,
   "id": "d3b36dbd",
   "metadata": {},
   "outputs": [],
   "source": [
    "input_path = '../../data/sphere_cap_0.3.json'\n",
    "from load_jsondata import read_data\n",
    "input_data, io = read_data(filepath = input_path)\n",
    "import mesh\n",
    "target_mesh = mesh.Mesh(input_data['target_v'], input_data['target_f'])"
   ]
  },
  {
   "cell_type": "markdown",
   "id": "775752a4",
   "metadata": {},
   "source": [
    "### Initialization"
   ]
  },
  {
   "cell_type": "code",
   "execution_count": 4,
   "id": "e07f73be",
   "metadata": {},
   "outputs": [],
   "source": [
    "curr_um = umbrella_mesh.UmbrellaMesh(io)\n",
    "thickness = io.material_params[6]\n",
    "curr_um.targetDeploymentHeight = thickness"
   ]
  },
  {
   "cell_type": "code",
   "execution_count": 5,
   "id": "d2db72d1",
   "metadata": {},
   "outputs": [
    {
     "data": {
      "application/vnd.jupyter.widget-view+json": {
       "model_id": "7707d099d4984d09b635dae84969ca59",
       "version_major": 2,
       "version_minor": 0
      },
      "text/plain": [
       "Renderer(camera=PerspectiveCamera(aspect=1.7066666666666668, children=(PointLight(color='#999999', position=(0…"
      ]
     },
     "metadata": {},
     "output_type": "display_data"
    }
   ],
   "source": [
    "view = linkage_vis.LinkageViewerWithSurface(curr_um, target_mesh, width=1024, height=600)\n",
    "view.averagedMaterialFrames = True\n",
    "# view.setCameraParams(camParam)\n",
    "view.show()"
   ]
  },
  {
   "cell_type": "markdown",
   "id": "6332be2c",
   "metadata": {},
   "source": [
    "### Parameters"
   ]
  },
  {
   "cell_type": "code",
   "execution_count": 6,
   "id": "d6ba1f2d",
   "metadata": {},
   "outputs": [],
   "source": [
    "curr_um.uniformDeploymentEnergyWeight = 0.01\n",
    "curr_um.targetDeploymentHeight = thickness * 1\n",
    "curr_um.attractionWeight = 0.01"
   ]
  },
  {
   "cell_type": "code",
   "execution_count": 7,
   "id": "4f05b96f",
   "metadata": {},
   "outputs": [],
   "source": [
    "perturbation = np.random.uniform(-1e-3, 1e-3, curr_um.numDoF())\n",
    "dof = curr_um.getDoFs()\n",
    "curr_um.setDoFs(dof + perturbation)\n",
    "view.update()"
   ]
  },
  {
   "cell_type": "code",
   "execution_count": 8,
   "id": "01f1e920",
   "metadata": {},
   "outputs": [],
   "source": [
    "curr_um.updateSourceFrame()"
   ]
  },
  {
   "cell_type": "code",
   "execution_count": 9,
   "id": "726c89d6",
   "metadata": {},
   "outputs": [
    {
     "data": {
      "text/plain": [
       "(1.2950467575967137,\n",
       " -0.1716742409542453,\n",
       " 9.834387701608016e-05,\n",
       " 1.1234708605194843)"
      ]
     },
     "execution_count": 9,
     "metadata": {},
     "output_type": "execute_result"
    }
   ],
   "source": [
    "curr_um.energy(umbrella_mesh.UmbrellaEnergyType.Elastic), curr_um.energy(umbrella_mesh.UmbrellaEnergyType.Deployment), curr_um.energy(umbrella_mesh.UmbrellaEnergyType.Attraction), curr_um.energy()"
   ]
  },
  {
   "cell_type": "markdown",
   "id": "e64d5760-5cd4-49ba-97e0-1e71b4784d27",
   "metadata": {},
   "source": [
    "### Validate Joint Hessian Vector Product"
   ]
  },
  {
   "cell_type": "code",
   "execution_count": 10,
   "id": "1dae469c-2390-4334-9592-dcf25c6dc5df",
   "metadata": {},
   "outputs": [],
   "source": [
    "jIndex = curr_um.segment(31).startJoint"
   ]
  },
  {
   "cell_type": "code",
   "execution_count": 11,
   "id": "a31727fc-7238-4946-8da7-dfdb950eb276",
   "metadata": {},
   "outputs": [],
   "source": [
    "evalHessianJS = curr_um.getTerminalEdgeSensitivity(31, umbrella_mesh.TerminalEdge.Start, True, True)"
   ]
  },
  {
   "cell_type": "code",
   "execution_count": 12,
   "id": "f134d694-12d7-4dbd-8234-fe7248c2d54d",
   "metadata": {},
   "outputs": [],
   "source": [
    "total_perturbation = np.random.uniform(0, 1e-3, curr_um.numDoF())\n",
    "joint_perturbation = np.zeros(5)\n",
    "joint_perturbation[:4] = total_perturbation[curr_um.dofOffsetForJoint(jIndex) + 3: curr_um.dofOffsetForJoint(jIndex) + 3 + 4]\n",
    "joint_perturbation[4] = total_perturbation[curr_um.dofOffsetForJoint(jIndex) + 3 + 4 + evalHessianJS.localSegmentIndex]"
   ]
  },
  {
   "cell_type": "code",
   "execution_count": 13,
   "id": "2c3f3a7a-8126-4cd8-b103-d39488ce4bb2",
   "metadata": {},
   "outputs": [],
   "source": [
    "deltaJS = curr_um.getTerminalEdgeSensitivity(31, umbrella_mesh.TerminalEdge.Start, True, total_perturbation)"
   ]
  },
  {
   "cell_type": "code",
   "execution_count": 14,
   "id": "bc0f0d7a-40a0-43c8-b4bf-370f9039b23a",
   "metadata": {},
   "outputs": [],
   "source": [
    "error = np.array(evalHessianJS.hessian) @ joint_perturbation - deltaJS.delta_jacobian"
   ]
  },
  {
   "cell_type": "code",
   "execution_count": 15,
   "id": "57ca6ac9-20c7-46f3-90c5-4cce97e90a15",
   "metadata": {},
   "outputs": [
    {
     "data": {
      "text/plain": [
       "1.3559149445364337e-20"
      ]
     },
     "execution_count": 15,
     "metadata": {},
     "output_type": "execute_result"
    }
   ],
   "source": [
    "la.norm(error)"
   ]
  },
  {
   "cell_type": "markdown",
   "id": "d55a9edd",
   "metadata": {},
   "source": [
    "### Hessian Vector Product"
   ]
  },
  {
   "cell_type": "code",
   "execution_count": 16,
   "id": "f277894e-9ced-4192-9adc-f2272eecaa96",
   "metadata": {},
   "outputs": [],
   "source": [
    "energyType = umbrella_mesh.UmbrellaEnergyType.Elastic"
   ]
  },
  {
   "cell_type": "code",
   "execution_count": 17,
   "id": "5100dbd0",
   "metadata": {},
   "outputs": [],
   "source": [
    "# Get Hessian\n",
    "variableDesignParameters = True\n",
    "hessian = curr_um.hessian(variableDesignParameters = variableDesignParameters, umbrellaEnergyType = energyType)\n",
    "hessian.reflectUpperTriangle()\n",
    "hessian = hessian.compressedColumn()"
   ]
  },
  {
   "cell_type": "code",
   "execution_count": 18,
   "id": "d5a49190",
   "metadata": {},
   "outputs": [
    {
     "name": "stdout",
     "output_type": "stream",
     "text": [
      "Num of DOF:  8531\n",
      "8.975144657232476e-16\n"
     ]
    }
   ],
   "source": [
    "n_dof = curr_um.numExtendedDoF() if variableDesignParameters else curr_um.numDoF()\n",
    "print(\"Num of DOF: \", n_dof)\n",
    "perturb = np.random.uniform(0, 1e-3, n_dof)\n",
    "# perturb = np.ones(n_dof)\n",
    "\n",
    "input_vector = perturb\n",
    "code_output = curr_um.applyHessian(input_vector, variableDesignParameters, umbrellaEnergyType = energyType)\n",
    "matrix_output = hessian * input_vector\n",
    "error = la.norm(code_output - matrix_output) / (la.norm(code_output) + 1e-8) \n",
    "print(error)"
   ]
  },
  {
   "cell_type": "code",
   "execution_count": 19,
   "id": "1b864448",
   "metadata": {},
   "outputs": [],
   "source": [
    "# offsets\n",
    "jv_offset = curr_um.dofOffsetForJoint(0)\n",
    "rl_offset = curr_um.restLenDofOffsetForSegment(0)"
   ]
  },
  {
   "cell_type": "code",
   "execution_count": 20,
   "id": "51b4d884",
   "metadata": {},
   "outputs": [],
   "source": [
    "var_types = ['FULL', 'Rod', 'Joint', 'Design']\n",
    "var_indices = {'FULL': range(0, n_dof),\n",
    "                'Rod': range(0, jv_offset),\n",
    "                'Joint' : range(jv_offset, rl_offset),\n",
    "                'Design': range(rl_offset, n_dof)}"
   ]
  },
  {
   "cell_type": "markdown",
   "id": "ebe68b73",
   "metadata": {},
   "source": [
    "### Validate Hessian Vector Product Per Block"
   ]
  },
  {
   "cell_type": "code",
   "execution_count": 21,
   "id": "42dae9a3",
   "metadata": {},
   "outputs": [
    {
     "name": "stdout",
     "output_type": "stream",
     "text": [
      "Error for Rod Rod block: 8.448815704849058e-16, 63.33364496764193, 63.33364496764194\n",
      "Error for Rod Joint block: 9.358219765461164e-16, 27.036441020819336, 27.036441020819336\n",
      "Error for Rod Design block: 3.9066737401923396e-16, 0.32406311240831526, 0.3240631124083153\n",
      "Error for Joint Rod block: 8.425231143381754e-16, 24.029323919942687, 24.029323919942687\n",
      "Error for Joint Joint block: 7.883483830029137e-16, 27.21149580854279, 27.21149580854279\n",
      "Error for Joint Design block: 3.074218306670075e-16, 0.2375078463805892, 0.2375078463805892\n",
      "Error for Design Rod block: 3.186836558594981e-16, 0.3698211611441727, 0.3698211611441727\n",
      "Error for Design Joint block: 2.6880177672903926e-16, 0.33706916842706636, 0.33706916842706636\n",
      "Error for Design Design block: 2.7315365070897606e-16, 0.5216426954422501, 0.5216426954422501\n"
     ]
    }
   ],
   "source": [
    "for i, vi in enumerate(var_types[1:]):\n",
    "    for j, vj in enumerate(var_types[1:]):\n",
    "        input_vector = np.zeros_like(perturb)\n",
    "        input_vector[var_indices[vj]] = perturb[var_indices[vj]]\n",
    "        code_output = curr_um.applyHessian(input_vector, variableDesignParameters, umbrellaEnergyType = energyType)\n",
    "        matrix_output = hessian * input_vector\n",
    "        code_output = code_output[var_indices[vi]]\n",
    "        matrix_output = matrix_output[var_indices[vi]]\n",
    "        error = la.norm(code_output - matrix_output) / (la.norm(code_output) + 1e-8)\n",
    "        print('Error for {} {} block: {}, {}, {}'.format(vi, vj, error, la.norm(code_output), la.norm(matrix_output)))"
   ]
  },
  {
   "cell_type": "markdown",
   "id": "9a1888f5",
   "metadata": {},
   "source": [
    "## Per Arm Rest Length"
   ]
  },
  {
   "cell_type": "code",
   "execution_count": 22,
   "id": "c8aa8a33",
   "metadata": {},
   "outputs": [],
   "source": [
    "# Get Hessian\n",
    "hessian = curr_um.hessianPerArmRestlen(umbrellaEnergyType = energyType)\n",
    "hessian.reflectUpperTriangle()\n",
    "hessian = hessian.compressedColumn()"
   ]
  },
  {
   "cell_type": "code",
   "execution_count": 23,
   "id": "ad9dd08a",
   "metadata": {},
   "outputs": [
    {
     "name": "stdout",
     "output_type": "stream",
     "text": [
      "Num of DOF:  5171\n",
      "1.935389047535645e-15\n"
     ]
    }
   ],
   "source": [
    "n_dof = curr_um.numExtendedDoFPARL()\n",
    "print(\"Num of DOF: \", n_dof)\n",
    "perturb = np.random.uniform(0, 1e-3, n_dof)\n",
    "\n",
    "input_vector = perturb\n",
    "code_output = curr_um.applyHessianPerArmRestlen(input_vector, umbrellaEnergyType = energyType)\n",
    "matrix_output = hessian * input_vector\n",
    "error = la.norm(code_output - matrix_output) / la.norm(code_output)\n",
    "print(error)"
   ]
  },
  {
   "cell_type": "code",
   "execution_count": 24,
   "id": "f93a0731",
   "metadata": {},
   "outputs": [
    {
     "name": "stdout",
     "output_type": "stream",
     "text": [
      "4002 5111\n"
     ]
    }
   ],
   "source": [
    "# offsets\n",
    "jv_offset = curr_um.dofOffsetForJoint(0)\n",
    "rl_offset = curr_um.restLenDofOffsetForSegment(0)\n",
    "\n",
    "print(jv_offset, rl_offset)"
   ]
  },
  {
   "cell_type": "code",
   "execution_count": 25,
   "id": "858a1f6d",
   "metadata": {},
   "outputs": [],
   "source": [
    "var_types = ['FULL', 'Rod', 'Joint', 'Design']\n",
    "var_indices = {'FULL': range(0, n_dof),\n",
    "                'Rod': range(0, jv_offset),\n",
    "                'Joint' : range(jv_offset, rl_offset),\n",
    "                'Design': range(rl_offset, n_dof)}"
   ]
  },
  {
   "cell_type": "markdown",
   "id": "d2bcd28f",
   "metadata": {},
   "source": [
    "### Validate Hessian Vector Product Per Block"
   ]
  },
  {
   "cell_type": "code",
   "execution_count": 26,
   "id": "9d5135eb",
   "metadata": {},
   "outputs": [
    {
     "name": "stdout",
     "output_type": "stream",
     "text": [
      "Error for Rod Rod block: 1.8569484479737195e-15, 87.17146872344424, 87.17146872344422\n",
      "Error for Rod Joint block: 2.3916729623481363e-15, 33.26086163030682, 33.26086163030681\n",
      "Error for Rod Design block: 2.4964554483488936e-15, 0.005115230772368281, 0.005115230772368281\n",
      "Error for Joint Rod block: 1.7123827773930446e-15, 31.79886916466375, 31.798869164663742\n",
      "Error for Joint Joint block: 1.8431157559036116e-15, 30.964031238571895, 30.964031238571888\n",
      "Error for Joint Design block: 4.074459932466936e-16, 0.020449068674004076, 0.020449068674004076\n",
      "Error for Design Rod block: 3.434573138312989e-15, 0.003208091814437906, 0.0032080918144379057\n",
      "Error for Design Joint block: 4.79014208214656e-16, 0.019842913816744693, 0.019842913816744693\n",
      "Error for Design Design block: 2.956622036788434e-16, 0.01775655686552309, 0.01775655686552309\n"
     ]
    }
   ],
   "source": [
    "for i, vi in enumerate(var_types[1:]):\n",
    "    for j, vj in enumerate(var_types[1:]):\n",
    "        input_vector = np.zeros_like(perturb)\n",
    "        input_vector[var_indices[vj]] = perturb[var_indices[vj]]\n",
    "        code_output = curr_um.applyHessianPerArmRestlen(input_vector, umbrellaEnergyType = energyType)\n",
    "        matrix_output = hessian * input_vector\n",
    "        code_output = code_output[var_indices[vi]]\n",
    "        matrix_output = matrix_output[var_indices[vi]]\n",
    "        error = la.norm(code_output - matrix_output) / la.norm(code_output)\n",
    "        print('Error for {} {} block: {}, {}, {}'.format(vi, vj, error, la.norm(code_output), la.norm(matrix_output)))"
   ]
  },
  {
   "cell_type": "code",
   "execution_count": null,
   "id": "265b9632",
   "metadata": {},
   "outputs": [],
   "source": []
  }
 ],
 "metadata": {
  "kernelspec": {
   "display_name": "Python 3",
   "language": "python",
   "name": "python3"
  },
  "language_info": {
   "codemirror_mode": {
    "name": "ipython",
    "version": 3
   },
   "file_extension": ".py",
   "mimetype": "text/x-python",
   "name": "python",
   "nbconvert_exporter": "python",
   "pygments_lexer": "ipython3",
   "version": "3.9.9"
  }
 },
 "nbformat": 4,
 "nbformat_minor": 5
}
