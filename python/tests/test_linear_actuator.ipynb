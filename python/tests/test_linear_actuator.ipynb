{
 "cells": [
  {
   "cell_type": "code",
   "execution_count": null,
   "id": "cffe82fe-99cc-4fa0-a739-aa78b937a4eb",
   "metadata": {},
   "outputs": [],
   "source": [
    "import sys\n",
    "sys.path.append('..')\n",
    "import umbrella_mesh\n",
    "import elastic_rods\n",
    "import linkage_vis\n",
    "from umbrella_mesh import UmbrellaEnergyType\n",
    "from bending_validation import suppress_stdout as so\n",
    "from visualization_helper import *\n",
    "from matplotlib import pyplot as plt\n",
    "import numpy as np"
   ]
  },
  {
   "cell_type": "markdown",
   "id": "5cd2797c",
   "metadata": {},
   "source": [
    "### Initial Deployment"
   ]
  },
  {
   "cell_type": "code",
   "execution_count": null,
   "id": "6a4ac6d2",
   "metadata": {},
   "outputs": [],
   "source": [
    "name = 'sphere_cap_0.3_one_ring'"
   ]
  },
  {
   "cell_type": "code",
   "execution_count": null,
   "id": "f9365f53",
   "metadata": {},
   "outputs": [],
   "source": [
    "input_path = '../../data/{}.json'.format(name)\n",
    "target_mesh_path = '../../data/target_meshes/{}.obj'.format('sphere_cap_0.3')"
   ]
  },
  {
   "cell_type": "code",
   "execution_count": null,
   "id": "da7cc8b3-1c77-4d17-8c64-896c5e1e9b7e",
   "metadata": {},
   "outputs": [],
   "source": [
    "#input_path = '../../data/{}.json'.format('hemisphere')\n",
    "#target_mesh_path = '../../data/target_meshes/{}.obj'.format('hemisphere')"
   ]
  },
  {
   "cell_type": "code",
   "execution_count": null,
   "id": "92a82717",
   "metadata": {},
   "outputs": [],
   "source": [
    "from load_jsondata import read_data\n",
    "input_data, io = read_data(filepath = input_path)\n",
    "import mesh\n",
    "target_mesh = mesh.Mesh(input_data['target_v'], input_data['target_f'])"
   ]
  },
  {
   "cell_type": "code",
   "execution_count": null,
   "id": "083d4d1f",
   "metadata": {},
   "outputs": [],
   "source": [
    "curr_um = umbrella_mesh.UmbrellaMesh(io)\n",
    "thickness = io.material_params[6]\n",
    "curr_um.targetDeploymentHeight = thickness"
   ]
  },
  {
   "cell_type": "markdown",
   "id": "e7ad3eeb",
   "metadata": {},
   "source": [
    "#### Pin Rigid Motion\n",
    "\n"
   ]
  },
  {
   "cell_type": "code",
   "execution_count": null,
   "id": "691e4c37",
   "metadata": {},
   "outputs": [],
   "source": [
    "use_pin = False"
   ]
  },
  {
   "cell_type": "code",
   "execution_count": null,
   "id": "1ab9a84f",
   "metadata": {},
   "outputs": [],
   "source": [
    "driver = curr_um.centralJoint()\n",
    "jdo = curr_um.dofOffsetForJoint(driver)\n",
    "fixedVars = (list(range(jdo, jdo + 6)) if use_pin else []) + curr_um.rigidJointAngleDoFIndices()"
   ]
  },
  {
   "cell_type": "code",
   "execution_count": null,
   "id": "2c468ce9",
   "metadata": {},
   "outputs": [],
   "source": [
    "import py_newton_optimizer\n",
    "OPTS = py_newton_optimizer.NewtonOptimizerOptions()\n",
    "OPTS.gradTol = 1e-10\n",
    "OPTS.verbose = 1\n",
    "OPTS.beta = 1e-8\n",
    "OPTS.niter = 1000\n",
    "OPTS.verboseNonPosDef = False"
   ]
  },
  {
   "cell_type": "code",
   "execution_count": null,
   "id": "8401ca37",
   "metadata": {},
   "outputs": [],
   "source": [
    "rod_colors = []\n",
    "for ri in range(curr_um.numSegments()):\n",
    "    rod_colors.append(np.ones(curr_um.segment(ri).rod.numVertices()) * ri)"
   ]
  },
  {
   "cell_type": "code",
   "execution_count": null,
   "id": "67bbc4e6",
   "metadata": {},
   "outputs": [],
   "source": [
    "curr_um.uniformDeploymentEnergyWeight = 1e-3\n",
    "curr_um.targetDeploymentHeight = thickness * 5\n",
    "curr_um.repulsionEnergyWeight = 0\n",
    "curr_um.attractionWeight = 0.001\n",
    "curr_um.setHoldClosestPointsFixed(False)\n",
    "curr_um.scaleInputPosWeights(0.5)"
   ]
  },
  {
   "cell_type": "code",
   "execution_count": null,
   "id": "22716f23",
   "metadata": {},
   "outputs": [],
   "source": [
    "dof = curr_um.getDoFs()\n",
    "for i in range(curr_um.numJoints()):\n",
    "    if (curr_um.joint(i).jointType() == umbrella_mesh.JointType.X):\n",
    "        dof[curr_um.dofOffsetForJoint(i) + 6] = 1e-5\n",
    "curr_um.setDoFs(dof)"
   ]
  },
  {
   "cell_type": "code",
   "execution_count": null,
   "id": "d183853b-d669-44f0-b99d-e074707290bd",
   "metadata": {},
   "outputs": [],
   "source": [
    "import fd_validation\n",
    "class LAEWrapper():\n",
    "    def __init__(self, um): self.obj = um\n",
    "    def numVars(self):    return self.obj.numDoF()\n",
    "    def getVars(self):    return self.obj.getDoFs()\n",
    "    def setVars(self, x): self.obj.setDoFs(x);\n",
    "    def energy(self):     return self.obj.linearActuatorEnergy()\n",
    "    def gradient(self):   return self.obj.linearActuatorGradient()\n",
    "    def hessian (self):   return self.obj.linearActuatorHessian()\n",
    "    def hessVec(self, v): return self.obj.linearActuatorHessVec(v)"
   ]
  },
  {
   "cell_type": "code",
   "execution_count": null,
   "id": "d0820938-950c-417b-8f2c-53e917352bca",
   "metadata": {},
   "outputs": [],
   "source": [
    "lae = LAEWrapper(curr_um)"
   ]
  },
  {
   "cell_type": "code",
   "execution_count": null,
   "id": "b448918e-b02d-420a-8708-2fae01987744",
   "metadata": {},
   "outputs": [],
   "source": [
    "lae.setVars(lae.getVars() + 1e-2 * np.random.normal(size=lae.numVars()))"
   ]
  },
  {
   "cell_type": "code",
   "execution_count": null,
   "id": "47313a96-2331-451e-8cfe-8fd5f1f444fc",
   "metadata": {},
   "outputs": [],
   "source": [
    "fd_validation.gradConvergencePlot(LAEWrapper(curr_um))"
   ]
  },
  {
   "cell_type": "code",
   "execution_count": null,
   "id": "5a566fa4-605c-434c-9d69-077953912ba0",
   "metadata": {},
   "outputs": [],
   "source": [
    "fd_validation.hessConvergencePlot(LAEWrapper(curr_um))"
   ]
  },
  {
   "cell_type": "code",
   "execution_count": null,
   "id": "52ef2e64-42c2-465c-a79d-ed374ecece22",
   "metadata": {},
   "outputs": [],
   "source": [
    "fd_validation.hessConvergencePlot(LAEWrapper(curr_um), testHessVec=True)"
   ]
  },
  {
   "cell_type": "code",
   "execution_count": null,
   "id": "88500eba-7b5f-43bb-a673-a359d62faa96",
   "metadata": {},
   "outputs": [],
   "source": [
    "curr_um.updateRotationParametrizations()"
   ]
  },
  {
   "cell_type": "code",
   "execution_count": null,
   "id": "fe6272e0-8ec1-494e-ae66-7ba0698d9402",
   "metadata": {},
   "outputs": [],
   "source": [
    "fd_validation.hessConvergencePlot(LAEWrapper(curr_um))"
   ]
  },
  {
   "cell_type": "code",
   "execution_count": null,
   "id": "8dfdd420-4566-43c9-ba32-79d4452ac2c9",
   "metadata": {},
   "outputs": [],
   "source": [
    "perturb = np.random.normal(size=lae.numVars())\n",
    "joint_pos_indices = np.array(curr_um.jointPositionDoFIndices())\n",
    "omega_indices = np.array(curr_um.jointPositionDoFIndices()) + 3"
   ]
  },
  {
   "cell_type": "code",
   "execution_count": null,
   "id": "b3fdda63-debb-4645-aa3f-c3255b93efcc",
   "metadata": {},
   "outputs": [],
   "source": [
    "import umbrella_finite_diff"
   ]
  },
  {
   "cell_type": "code",
   "execution_count": null,
   "id": "d2fbd98f-36a5-433a-be41-3c6cb1dd823d",
   "metadata": {},
   "outputs": [],
   "source": [
    "curr_um.deploymentForceType = umbrella_mesh.DeploymentForceType.LinearActuator"
   ]
  },
  {
   "cell_type": "code",
   "execution_count": null,
   "id": "2e40c66c-c4df-4bc3-aa16-219558ae2b8e",
   "metadata": {},
   "outputs": [],
   "source": [
    "curr_um.updateRotationParametrizations()"
   ]
  },
  {
   "cell_type": "code",
   "execution_count": null,
   "id": "7d95cb6a-b8d8-4303-8c3f-5e5e54e6f511",
   "metadata": {},
   "outputs": [],
   "source": [
    "curr_um.updateSourceFrame()"
   ]
  },
  {
   "cell_type": "code",
   "execution_count": null,
   "id": "8c328b22-372b-41d4-8c43-57e1034aa122",
   "metadata": {},
   "outputs": [],
   "source": [
    "import parallelism"
   ]
  },
  {
   "cell_type": "code",
   "execution_count": null,
   "id": "807adb8c-8afd-4d25-b38b-52de2f833a99",
   "metadata": {},
   "outputs": [],
   "source": [
    "parallelism.set_max_num_tbb_threads(1)"
   ]
  },
  {
   "cell_type": "code",
   "execution_count": null,
   "id": "b09fb419-f1ee-4b6a-a4fd-62ae0f82e8bf",
   "metadata": {},
   "outputs": [],
   "source": [
    "umbrella_finite_diff.gradient_convergence_plot(curr_um, umbrellaEnergyType=umbrella_mesh.UmbrellaEnergyType.Elastic)"
   ]
  },
  {
   "cell_type": "code",
   "execution_count": null,
   "id": "bf95a2a7-1cb8-4109-963d-4cc173e4b158",
   "metadata": {},
   "outputs": [],
   "source": [
    "umbrella_finite_diff.gradient_convergence_plot(curr_um, umbrellaEnergyType=umbrella_mesh.UmbrellaEnergyType.Deployment)"
   ]
  },
  {
   "cell_type": "code",
   "execution_count": null,
   "id": "116ef73f-f1a8-477a-952f-fcf91da4b8ad",
   "metadata": {},
   "outputs": [],
   "source": [
    "umbrella_finite_diff.hessian_convergence_plot(curr_um, umbrellaEnergyType=umbrella_mesh.UmbrellaEnergyType.Deployment)"
   ]
  }
 ],
 "metadata": {
  "kernelspec": {
   "display_name": "Python 3",
   "language": "python",
   "name": "python3"
  },
  "language_info": {
   "codemirror_mode": {
    "name": "ipython",
    "version": 3
   },
   "file_extension": ".py",
   "mimetype": "text/x-python",
   "name": "python",
   "nbconvert_exporter": "python",
   "pygments_lexer": "ipython3",
   "version": "3.9.9"
  }
 },
 "nbformat": 4,
 "nbformat_minor": 5
}
