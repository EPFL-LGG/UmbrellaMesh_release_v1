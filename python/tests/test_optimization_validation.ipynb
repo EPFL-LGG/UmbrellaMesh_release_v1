{
 "cells": [
  {
   "cell_type": "code",
   "execution_count": null,
   "id": "e8fc2112",
   "metadata": {},
   "outputs": [],
   "source": [
    "#!/usr/bin/env python\n",
    "# coding: utf-8\n",
    "import sys\n",
    "sys.path.append('..')\n",
    "import umbrella_mesh\n",
    "import elastic_rods\n",
    "import linkage_vis\n",
    "from umbrella_mesh import UmbrellaEnergyType\n",
    "from bending_validation import suppress_stdout as so\n",
    "from visualization_helper import *\n",
    "\n",
    "import pipeline_helper, importlib, design_optimization_analysis\n",
    "with so(): importlib.reload(pipeline_helper)\n",
    "with so(): importlib.reload(design_optimization_analysis)\n",
    "\n",
    "from pipeline_helper import UmbrellaOptimizationCallback, allEnergies, allGradientNorms, allDesignObjectives, allDesignGradientNorms, set_joint_vector_field, show_center_joint_normal, show_joint_normal\n",
    "\n",
    "from design_optimization_analysis import DesignOptimizationAnalysis\n",
    "\n",
    "import umbrella_optimization\n",
    "import umbrella_optimization_finite_diff\n",
    "from umbrella_optimization import OptEnergyType\n",
    "\n",
    "import numpy as np\n",
    "import numpy.linalg as la\n",
    "\n",
    "import pickle, gzip\n",
    "\n",
    "from configuration import *"
   ]
  },
  {
   "cell_type": "markdown",
   "id": "38f1e649",
   "metadata": {},
   "source": [
    "### Initialization"
   ]
  },
  {
   "cell_type": "code",
   "execution_count": null,
   "id": "83ed9d17",
   "metadata": {},
   "outputs": [],
   "source": [
    "name = 'sphere_cap_0.3'\n",
    "input_path = '../../data/{}.json.gz'.format(name)\n",
    "\n",
    "io, input_data, target_mesh, curr_um, thickness, target_height_multiplier = parse_input(input_path)\n",
    "# target_height_multiplier = 1\n",
    "\n",
    "# curr_um = pickle.load(gzip.open('../../output/lilium_top_four_parameters_optimized_rest_state_equilibrium_2022_01_19_18_33_target_height_factor_5.0.pkl.gz', 'r'))"
   ]
  },
  {
   "cell_type": "markdown",
   "id": "e853c97f",
   "metadata": {},
   "source": [
    "#### Pin Rigid Motion"
   ]
  },
  {
   "cell_type": "code",
   "execution_count": null,
   "id": "26411f9d",
   "metadata": {},
   "outputs": [],
   "source": [
    "use_pin = False\n",
    "\n",
    "driver = curr_um.centralJoint()\n",
    "jdo = curr_um.dofOffsetForJoint(driver)\n",
    "fixedVars = (list(range(jdo, jdo + 6)) if use_pin else []) + curr_um.rigidJointAngleDoFIndices()"
   ]
  },
  {
   "cell_type": "code",
   "execution_count": null,
   "id": "53f594e4",
   "metadata": {},
   "outputs": [],
   "source": [
    "import py_newton_optimizer\n",
    "OPTS = py_newton_optimizer.NewtonOptimizerOptions()\n",
    "OPTS.gradTol = 1e-8\n",
    "OPTS.verbose = 1\n",
    "OPTS.beta = 1e-6\n",
    "OPTS.niter = 300\n",
    "OPTS.verboseNonPosDef = False\n",
    "\n",
    "rod_colors = get_color_field(curr_um, input_data)\n",
    "\n",
    "# lview = linkage_vis.LinkageViewer(curr_um, width=1024, height=600)\n",
    "# lview.update(scalarField = rod_colors)\n",
    "# lview.show()\n",
    "\n",
    "import mesh\n",
    "view = linkage_vis.LinkageViewerWithSurface(curr_um, target_mesh, width=1024, height=600)\n",
    "set_surface_view_options(view, color = 'green', surface_color = 'gray', umbrella_transparent = False, surface_transparent = True)\n",
    "view.averagedMaterialFrames = True\n",
    "view.showScalarField(rod_colors)\n",
    "view.show()"
   ]
  },
  {
   "cell_type": "code",
   "execution_count": null,
   "id": "0fe7ff78",
   "metadata": {},
   "outputs": [],
   "source": [
    "view.getCameraParams()\n",
    "\n",
    "view.getSize()"
   ]
  },
  {
   "cell_type": "code",
   "execution_count": null,
   "id": "1bfcb1fb",
   "metadata": {},
   "outputs": [],
   "source": [
    "from equilibrium_solve_analysis import EquilibriumSolveAnalysis\n",
    "eqays = EquilibriumSolveAnalysis(curr_um)\n",
    "def eqm_callback(prob, i):\n",
    "    eqays.record(prob)\n",
    "    if (i % 2 == 0):\n",
    "        view.showScalarField(rod_colors)\n",
    "\n",
    "configure_umbrella_pre_deployment(curr_um, thickness, target_height_multiplier)\n",
    "\n",
    "allGradientNorms(curr_um)"
   ]
  },
  {
   "cell_type": "code",
   "execution_count": null,
   "id": "916fb4b3",
   "metadata": {},
   "outputs": [],
   "source": [
    "break_input_angle_symmetry(curr_um)\n",
    "\n",
    "view.showScalarField(rod_colors)\n",
    "\n",
    "results = staged_deployment(curr_um, np.logspace(-3, 0, 4), eqm_callback, OPTS, fixedVars)\n",
    "\n",
    "results.success"
   ]
  },
  {
   "cell_type": "code",
   "execution_count": null,
   "id": "492c6202",
   "metadata": {},
   "outputs": [],
   "source": [
    "eqays.plot()"
   ]
  },
  {
   "cell_type": "markdown",
   "id": "dbbcdcb2",
   "metadata": {},
   "source": [
    "### Initialize Design Optimization"
   ]
  },
  {
   "cell_type": "code",
   "execution_count": null,
   "id": "9d23de9e",
   "metadata": {
    "scrolled": true
   },
   "outputs": [],
   "source": [
    "configure_umbrella_optimization(curr_um)\n",
    "\n",
    "import py_newton_optimizer\n",
    "opt_opts = py_newton_optimizer.NewtonOptimizerOptions()\n",
    "opt_opts.gradTol = 1e-8\n",
    "opt_opts.verbose = 10\n",
    "opt_opts.beta = 1e-6\n",
    "opt_opts.niter = 600\n",
    "opt_opts.verboseNonPosDef = False\n",
    "\n",
    "results = umbrella_mesh.compute_equilibrium(curr_um, callback = eqm_callback, options = opt_opts, fixedVars = fixedVars, elasticEnergyIncreaseFactorLimit=2.5)\n",
    "\n",
    "opt_opts.niter = 50\n",
    "\n",
    "results.success"
   ]
  },
  {
   "cell_type": "code",
   "execution_count": null,
   "id": "58b0f8f4",
   "metadata": {},
   "outputs": [],
   "source": [
    "optimizer = umbrella_optimization.UmbrellaOptimization(curr_um, opt_opts, 2.5, -1, False, fixedVars)"
   ]
  },
  {
   "cell_type": "code",
   "execution_count": null,
   "id": "f07eb09a",
   "metadata": {},
   "outputs": [],
   "source": [
    "optimizer.beta = 1 * 1e6\n",
    "optimizer.gamma = 1\n",
    "optimizer.eta = 1\n",
    "optimizer.zeta = 1# 1e1\n",
    "optimizer.iota = 1 * 1e9"
   ]
  },
  {
   "cell_type": "code",
   "execution_count": null,
   "id": "e85ec4d6",
   "metadata": {},
   "outputs": [],
   "source": [
    "allDesignObjectives(optimizer)"
   ]
  },
  {
   "cell_type": "code",
   "execution_count": null,
   "id": "6b0c77c2",
   "metadata": {},
   "outputs": [],
   "source": [
    "allDesignGradientNorms(optimizer)"
   ]
  },
  {
   "cell_type": "code",
   "execution_count": null,
   "id": "900f61d8",
   "metadata": {},
   "outputs": [],
   "source": [
    "optimizer.objective.terms[-1].term.normalActivationThreshold = -2e-5"
   ]
  },
  {
   "cell_type": "code",
   "execution_count": null,
   "id": "8fc4619c",
   "metadata": {},
   "outputs": [],
   "source": [
    "optimizer.objective.terms[-1].term.normalWeight = 1\n",
    "optimizer.objective.terms[-1].term.tangentialWeight = 1\n",
    "optimizer.objective.terms[-1].term.torqueWeight = 0"
   ]
  },
  {
   "cell_type": "markdown",
   "id": "3efd86c0",
   "metadata": {},
   "source": [
    "### Gradient Finite Difference Error"
   ]
  },
  {
   "cell_type": "code",
   "execution_count": null,
   "id": "37373221",
   "metadata": {},
   "outputs": [],
   "source": [
    "direction = np.random.uniform(0, 1e-3, optimizer.numParams())"
   ]
  },
  {
   "cell_type": "code",
   "execution_count": null,
   "id": "47d8a847",
   "metadata": {},
   "outputs": [],
   "source": [
    "umbrella_optimization_finite_diff.gradient_convergence_plot(optimizer, direction, umbrella_optimization.OptEnergyType.Full, minStepSize=1e-9, maxStepSize=1e-1)"
   ]
  },
  {
   "cell_type": "code",
   "execution_count": null,
   "id": "0dba2673",
   "metadata": {},
   "outputs": [],
   "source": [
    "umbrella_optimization_finite_diff.gradient_convergence_plot(optimizer, direction, umbrella_optimization.OptEnergyType.UmbrellaForces, minStepSize=1e-9, maxStepSize=1e1)"
   ]
  },
  {
   "cell_type": "code",
   "execution_count": null,
   "id": "e3382d5c",
   "metadata": {},
   "outputs": [],
   "source": [
    "umbrella_optimization_finite_diff.gradient_convergence_plot(optimizer, direction, umbrella_optimization.OptEnergyType.Elastic, minStepSize=1e-9, maxStepSize=1e-1)"
   ]
  },
  {
   "cell_type": "code",
   "execution_count": null,
   "id": "4bd34299",
   "metadata": {},
   "outputs": [],
   "source": [
    "umbrella_optimization_finite_diff.gradient_convergence_plot(optimizer, direction, umbrella_optimization.OptEnergyType.Target, minStepSize=1e-9, maxStepSize=1e0)"
   ]
  },
  {
   "cell_type": "code",
   "execution_count": null,
   "id": "32c59227",
   "metadata": {},
   "outputs": [],
   "source": [
    "umbrella_optimization_finite_diff.gradient_convergence_plot(optimizer, direction, umbrella_optimization.OptEnergyType.DeploymentForce, minStepSize=1e-9, maxStepSize=1e0)"
   ]
  },
  {
   "cell_type": "code",
   "execution_count": null,
   "id": "0f2a4ede",
   "metadata": {},
   "outputs": [],
   "source": [
    "umbrella_optimization_finite_diff.gradient_convergence_plot(optimizer, direction, umbrella_optimization.OptEnergyType.Stress, minStepSize=1e-9, maxStepSize=1e0)"
   ]
  },
  {
   "cell_type": "markdown",
   "id": "e47c2117",
   "metadata": {},
   "source": [
    "### Hessian Finite Difference Errors"
   ]
  },
  {
   "cell_type": "code",
   "execution_count": null,
   "id": "fdd83e78",
   "metadata": {},
   "outputs": [],
   "source": [
    "umbrella_optimization_finite_diff.hessian_convergence_plot(optimizer, direction, umbrella_optimization_finite_diff.OptEnergyType.Full, minStepSize=1e-9, maxStepSize=1e1)"
   ]
  },
  {
   "cell_type": "code",
   "execution_count": null,
   "id": "6626a847",
   "metadata": {},
   "outputs": [],
   "source": [
    "umbrella_optimization_finite_diff.hessian_convergence_plot(optimizer, direction, umbrella_optimization.OptEnergyType.UmbrellaForces, minStepSize=1e-9, maxStepSize=1e1)"
   ]
  },
  {
   "cell_type": "code",
   "execution_count": null,
   "id": "1c5b3b72",
   "metadata": {},
   "outputs": [],
   "source": [
    "umbrella_optimization_finite_diff.hessian_convergence_plot(optimizer, direction, umbrella_optimization.OptEnergyType.Elastic, minStepSize=1e-9, maxStepSize=1e1)"
   ]
  },
  {
   "cell_type": "code",
   "execution_count": null,
   "id": "bb79c6ef",
   "metadata": {},
   "outputs": [],
   "source": [
    "umbrella_optimization_finite_diff.hessian_convergence_plot(optimizer, direction, umbrella_optimization.OptEnergyType.Target, maxStepSize=1e1, minStepSize=1e-9)"
   ]
  },
  {
   "cell_type": "code",
   "execution_count": null,
   "id": "560ac801",
   "metadata": {},
   "outputs": [],
   "source": [
    "umbrella_optimization_finite_diff.hessian_convergence_plot(optimizer, direction, umbrella_optimization.OptEnergyType.DeploymentForce, maxStepSize=1e1, minStepSize=1e-9)"
   ]
  },
  {
   "cell_type": "code",
   "execution_count": null,
   "id": "6d45c56a",
   "metadata": {},
   "outputs": [],
   "source": [
    "umbrella_optimization_finite_diff.hessian_convergence_plot(optimizer, direction, umbrella_optimization.OptEnergyType.Stress, maxStepSize=1e1, minStepSize=1e-9)"
   ]
  },
  {
   "cell_type": "markdown",
   "id": "0b694c12",
   "metadata": {},
   "source": [
    "## Stress Objective Debugging"
   ]
  },
  {
   "cell_type": "code",
   "execution_count": null,
   "id": "b212d529",
   "metadata": {},
   "outputs": [],
   "source": [
    "import importlib, fd_validation"
   ]
  },
  {
   "cell_type": "code",
   "execution_count": null,
   "id": "c1cceaf2",
   "metadata": {},
   "outputs": [],
   "source": [
    "import fd_validation\n",
    "from matplotlib import pyplot as plt\n",
    "ST = elastic_rods.CrossSectionStressAnalysis.StressType\n",
    "class StressLpNormFDWrapper():\n",
    "    def __init__(self, stressType, p, obj): self.stressType, self.p, self.obj = stressType, p, obj\n",
    "    def numVars(self):    return self.obj.numExtendedDoF()\n",
    "    def getVars(self):    return self.obj.getExtendedDoFs()\n",
    "    def setVars(self, x): self.obj.setExtendedDoFs(x)\n",
    "    def energy(self):     return self.obj.surfaceStressLpNorm(self.stressType, self.p, True)\n",
    "    def gradient(self):   return self.obj.gradSurfaceStressLpNorm(self.stressType, self.p, False, True)\n",
    "    def name(self):       return self.stressType.name + f' L_{self.p} norm'\n",
    "    \n",
    "STs_to_test = [ST.VonMises, ST.ZStress, ST.MaxMag]\n",
    "numSTs = len(STs_to_test)\n",
    "counter = 1\n",
    "plt.figure(figsize=(14,12))\n",
    "direction = np.random.normal(size=curr_um.numExtendedDoF())\n",
    "for st in STs_to_test:\n",
    "    plt.subplot(numSTs, 2, counter)\n",
    "    fd_validation.gradConvergencePlot(StressLpNormFDWrapper(st, 2, curr_um), direction)\n",
    "    plt.subplot(numSTs, 2, counter + 1)\n",
    "    fd_validation.gradConvergencePlot(StressLpNormFDWrapper(st, 6, curr_um), direction)\n",
    "    counter += 2\n",
    "plt.tight_layout()"
   ]
  },
  {
   "cell_type": "code",
   "execution_count": null,
   "id": "05ea18e1",
   "metadata": {},
   "outputs": [],
   "source": [
    "energyTerm = optimizer.objective.terms[0].term\n",
    "tgtfitTerm = optimizer.objective.terms[1].term\n",
    "stressTerm = optimizer.objective.terms[-1].term"
   ]
  },
  {
   "cell_type": "code",
   "execution_count": null,
   "id": "fb1c8cf9",
   "metadata": {},
   "outputs": [],
   "source": [
    "direction = np.random.normal(size=curr_um.numExtendedDoFPARL())"
   ]
  },
  {
   "cell_type": "code",
   "execution_count": null,
   "id": "fc975f9b",
   "metadata": {},
   "outputs": [],
   "source": [
    "x = curr_um.getExtendedDoFsPARL()"
   ]
  },
  {
   "cell_type": "code",
   "execution_count": null,
   "id": "a8e7b4b4",
   "metadata": {},
   "outputs": [],
   "source": [
    "import fd_validation\n",
    "class ObjectiveTermFDWrapper():\n",
    "    def __init__(self, term): self.term, self.obj = term, term.object()\n",
    "    def numVars(self):    return self.obj.numExtendedDoFPARL()\n",
    "    def getVars(self):    return self.obj.getExtendedDoFsPARL()\n",
    "    def setVars(self, x): self.obj.setExtendedDoFsPARL(x);\n",
    "    def energy(self):     return self.term.value()\n",
    "    def gradient(self):   return self.term.computeGrad()\n",
    "    def hessVec(self, v): return self.term.computeDeltaGrad(v)"
   ]
  },
  {
   "cell_type": "code",
   "execution_count": null,
   "id": "75dd06ca",
   "metadata": {},
   "outputs": [],
   "source": [
    "stressTerm.value()"
   ]
  },
  {
   "cell_type": "code",
   "execution_count": null,
   "id": "34c677ba",
   "metadata": {},
   "outputs": [],
   "source": [
    "import benchmark\n",
    "benchmark.reset()\n",
    "fd_validation.gradConvergencePlot(ObjectiveTermFDWrapper(stressTerm))\n",
    "benchmark.report()"
   ]
  },
  {
   "cell_type": "code",
   "execution_count": null,
   "id": "d69bc4cf",
   "metadata": {},
   "outputs": [],
   "source": [
    "import benchmark\n",
    "benchmark.reset()\n",
    "fd_validation.hessConvergencePlot(ObjectiveTermFDWrapper(stressTerm), testHessVec=True)\n",
    "benchmark.report()"
   ]
  },
  {
   "cell_type": "code",
   "execution_count": null,
   "id": "59f0ed17",
   "metadata": {},
   "outputs": [],
   "source": []
  }
 ],
 "metadata": {
  "kernelspec": {
   "display_name": "umbrella_mesh",
   "language": "python",
   "name": "umbrella_mesh"
  },
  "language_info": {
   "codemirror_mode": {
    "name": "ipython",
    "version": 3
   },
   "file_extension": ".py",
   "mimetype": "text/x-python",
   "name": "python",
   "nbconvert_exporter": "python",
   "pygments_lexer": "ipython3",
   "version": "3.9.7"
  }
 },
 "nbformat": 4,
 "nbformat_minor": 5
}
