{
 "cells": [
  {
   "cell_type": "code",
   "execution_count": 1,
   "id": "996441c3-564b-42ac-afad-150a709e90b2",
   "metadata": {},
   "outputs": [],
   "source": [
    "import sys\n",
    "sys.path.append('..')\n",
    "import umbrella_mesh\n",
    "import elastic_rods\n",
    "import linkage_vis\n",
    "from umbrella_mesh import UmbrellaEnergyType\n",
    "from bending_validation import suppress_stdout as so\n",
    "from visualization_helper import *"
   ]
  },
  {
   "cell_type": "code",
   "execution_count": 2,
   "id": "c7e6653c-64a4-4c3f-bae2-5983d0d545bd",
   "metadata": {},
   "outputs": [],
   "source": [
    "import numpy as np"
   ]
  },
  {
   "cell_type": "markdown",
   "id": "6d97a5e3-d081-45d0-8721-416924f54c2d",
   "metadata": {},
   "source": [
    "### Initial Deployment"
   ]
  },
  {
   "cell_type": "code",
   "execution_count": 3,
   "id": "3416503b-f8db-4d37-9d21-f68a90e9de3d",
   "metadata": {},
   "outputs": [],
   "source": [
    "name = 'hemisphere'"
   ]
  },
  {
   "cell_type": "code",
   "execution_count": 4,
   "id": "3a057822-fa86-455e-83fa-bfdfa767d4eb",
   "metadata": {},
   "outputs": [],
   "source": [
    "input_path = '../../data/{}.json'.format(name)\n",
    "target_mesh_path = '../../data/target_meshes/{}.obj'.format(name)"
   ]
  },
  {
   "cell_type": "code",
   "execution_count": 5,
   "id": "12fee236-5fa8-46ab-b8ac-5ea3e3e0981e",
   "metadata": {},
   "outputs": [],
   "source": [
    "# input_path = '../../data/{}.json'.format('hemisphere')\n",
    "# target_mesh_path = '../../data/target_meshes/{}.obj'.format('hemisphere')"
   ]
  },
  {
   "cell_type": "code",
   "execution_count": 6,
   "id": "217f62af-aa82-4922-85d5-2b6e859243b1",
   "metadata": {},
   "outputs": [],
   "source": [
    "from helpers.deployment_helper import get_deployed_umbrella_mesh"
   ]
  },
  {
   "cell_type": "code",
   "execution_count": 7,
   "id": "71aa6be8-0dcf-4d07-9b0e-7fc865c1071b",
   "metadata": {},
   "outputs": [],
   "source": [
    "from load_jsondata import read_data\n",
    "input_data, io = read_data(filepath = input_path)\n",
    "width = 2*input_data['arm_plate_edge_offset']\n",
    "thickness = width * 0.5 # 1.5 mm # FIX from mm to meters everywhere\n",
    "cross_section = [thickness, width]"
   ]
  },
  {
   "cell_type": "code",
   "execution_count": 8,
   "id": "c97d6abd-0e62-423f-8624-70a12f033a20",
   "metadata": {
    "scrolled": true,
    "tags": []
   },
   "outputs": [],
   "source": [
    "curr_um = umbrella_mesh.UmbrellaMesh(target_mesh_path, io)\n",
    "curr_um.setMaterial(elastic_rods.RodMaterial('rectangle', 2000, 0.3, cross_section, stiffAxis=elastic_rods.StiffAxis.D1))"
   ]
  },
  {
   "cell_type": "code",
   "execution_count": 9,
   "id": "a6c96a56-4088-4fd2-8c50-3801a042120e",
   "metadata": {},
   "outputs": [
    {
     "data": {
      "text/plain": [
       "7.589897059399548e-21"
      ]
     },
     "execution_count": 9,
     "metadata": {},
     "output_type": "execute_result"
    }
   ],
   "source": [
    "curr_um.energy(UmbrellaEnergyType.Full)"
   ]
  },
  {
   "cell_type": "markdown",
   "id": "fa491471-3d19-4234-9746-baad7f6dae40",
   "metadata": {},
   "source": [
    "#### Pin Rigid Motion\n",
    "\n"
   ]
  },
  {
   "cell_type": "code",
   "execution_count": 10,
   "id": "678a8f3a-0376-41ee-a683-16ae1977bcb6",
   "metadata": {},
   "outputs": [],
   "source": [
    "use_pin = False"
   ]
  },
  {
   "cell_type": "code",
   "execution_count": 11,
   "id": "b76e0f9b-6e95-4332-82a8-975b2b2f2ae7",
   "metadata": {},
   "outputs": [],
   "source": [
    "driver = curr_um.centralJoint()\n",
    "jdo = curr_um.dofOffsetForJoint(driver)\n",
    "fixedVars = (list(range(jdo, jdo + 6)) if use_pin else []) + curr_um.rigidJointAngleDoFIndices()"
   ]
  },
  {
   "cell_type": "code",
   "execution_count": 12,
   "id": "d2800006-3ba4-454a-83fc-5411b1547125",
   "metadata": {},
   "outputs": [],
   "source": [
    "import py_newton_optimizer\n",
    "OPTS = py_newton_optimizer.NewtonOptimizerOptions()\n",
    "OPTS.gradTol = 1e-6\n",
    "OPTS.verbose = 1\n",
    "OPTS.beta = 1e-6\n",
    "OPTS.niter = 300\n",
    "OPTS.verboseNonPosDef = False"
   ]
  },
  {
   "cell_type": "code",
   "execution_count": 13,
   "id": "5d6d8393-7ae1-4e8f-9f87-cd554aaeebfb",
   "metadata": {},
   "outputs": [],
   "source": [
    "rod_colors = []\n",
    "for ri in range(curr_um.numSegments()):\n",
    "    rod_colors.append(np.ones(curr_um.segment(ri).rod.numVertices()) * ri)"
   ]
  },
  {
   "cell_type": "code",
   "execution_count": 14,
   "id": "14bd6c43-14d9-448b-a784-e315c55c451e",
   "metadata": {},
   "outputs": [
    {
     "data": {
      "application/vnd.jupyter.widget-view+json": {
       "model_id": "641948e2a6ab442e831e2694fe658529",
       "version_major": 2,
       "version_minor": 0
      },
      "text/plain": [
       "Renderer(camera=PerspectiveCamera(aspect=1.7066666666666668, children=(PointLight(color='#999999', position=(0…"
      ]
     },
     "metadata": {},
     "output_type": "display_data"
    }
   ],
   "source": [
    "import mesh\n",
    "target_mesh = mesh.Mesh(target_mesh_path)\n",
    "view = linkage_vis.LinkageViewerWithSurface(curr_um, target_mesh, width=1024, height=600)\n",
    "# view = linkage_vis.LinkageViewer(curr_um, width=1024, height=600)\n",
    "# view.update(scalarField = rod_colors)\n",
    "set_surface_view_options(view, color = 'green', surface_color = 'gray', umbrella_transparent = False, surface_transparent = True)\n",
    "view.averagedMaterialFrames = True\n",
    "view.showScalarField(rod_colors)\n",
    "view.show()"
   ]
  },
  {
   "cell_type": "code",
   "execution_count": 15,
   "id": "cc1f5f34-d296-4ff6-8071-4786b8d4d201",
   "metadata": {},
   "outputs": [],
   "source": [
    "angles = []\n",
    "def eqm_callback(prob, i):\n",
    "    angles.append(curr_um.getDoFs()[curr_um.jointAngleDoFIndices()])\n",
    "    if (i % 10 == 0):\n",
    "        view.update()\n",
    "        view.showScalarField(rod_colors)"
   ]
  },
  {
   "cell_type": "code",
   "execution_count": 49,
   "id": "0b696101-d675-4218-8937-dda618efabc6",
   "metadata": {},
   "outputs": [],
   "source": [
    "curr_um.uniformDeploymentEnergyWeight = 0.1\n",
    "# curr_um.deploymentForceType = umbrella_mesh.DeploymentForceType.Constant\n",
    "curr_um.targetDeploymentHeight = thickness * 50\n",
    "curr_um.repulsionEnergyWeight = 0\n",
    "curr_um.attractionWeight = 0\n",
    "curr_um.setHoldClosestPointsFixed(False)\n",
    "curr_um.scaleInputPosWeights(0.5)"
   ]
  },
  {
   "cell_type": "code",
   "execution_count": 50,
   "id": "587c8ae7-e9c0-43bb-bfb0-b90d423876c8",
   "metadata": {},
   "outputs": [
    {
     "data": {
      "text/plain": [
       "(1864.5883320645164, 34229.59369078609, 0.0, 0.0)"
      ]
     },
     "execution_count": 50,
     "metadata": {},
     "output_type": "execute_result"
    }
   ],
   "source": [
    "curr_um.energyElastic(), curr_um.energyDeployment(), curr_um.energyRepulsion(), curr_um.energyAttraction()"
   ]
  },
  {
   "cell_type": "code",
   "execution_count": 51,
   "id": "2e8f04bb-e057-4473-a402-d6d602983077",
   "metadata": {},
   "outputs": [],
   "source": [
    "dof = curr_um.getDoFs()\n",
    "for i in range(curr_um.numJoints()):\n",
    "    if (curr_um.joint(i).jointType() == umbrella_mesh.JointType.X):\n",
    "        dof[curr_um.dofOffsetForJoint(i) + 6] = 1e-3\n",
    "curr_um.setDoFs(dof)"
   ]
  },
  {
   "cell_type": "code",
   "execution_count": 52,
   "id": "b69928d0-2b89-4dcb-b90f-2ad44cd3b76f",
   "metadata": {},
   "outputs": [],
   "source": [
    "angles = []\n",
    "def eqm_callback(prob, i):\n",
    "    angles.append(curr_um.getDoFs()[curr_um.jointAngleDoFIndices()])\n",
    "    if (i % 10 == 0):\n",
    "        view.update()\n",
    "        view.showScalarField(rod_colors)"
   ]
  },
  {
   "cell_type": "code",
   "execution_count": 55,
   "id": "ff0b05f9-2658-4283-9439-a8504822dd0f",
   "metadata": {
    "scrolled": true
   },
   "outputs": [
    {
     "name": "stdout",
     "output_type": "stream",
     "text": [
      "0\t24511.6\t1412.14\t1412.14\t0\t1\n",
      "Added constraint 1128 to working set\n",
      "Added constraint 1131 to working set\n",
      "Added constraint 1132 to working set\n",
      "Added constraint 1164 to working set\n",
      "Added constraint 1166 to working set\n",
      "Added constraint 1167 to working set\n",
      "Added constraint 1169 to working set\n",
      "Added constraint 1177 to working set\n",
      "Added constraint 1181 to working set\n",
      "Added constraint 1182 to working set\n",
      "Added constraint 1230 to working set\n",
      "Added constraint 1241 to working set\n",
      "Added constraint 1252 to working set\n",
      "1\t24511.6\t1412.14\t916.16\t0\t1\n",
      "Added constraint 1246 to working set\n",
      "2\t24511.6\t1412.14\t871.994\t5.66297e-16\t1\n",
      "Added constraint 1184 to working set\n",
      "3\t24511.6\t1412.14\t862.273\t4.77823e-14\t1\n",
      "Added constraint 1133 to working set\n",
      "4\t24511.6\t1412.14\t785.1\t3.76595e-14\t1\n",
      "Added constraint 1251 to working set\n",
      "5\t24511.6\t1412.14\t696.517\t1.05234e-13\t1\n",
      "Added constraint 1245 to working set\n",
      "6\t24511.6\t1412.14\t669.409\t4.1714e-14\t1\n",
      "Added constraint 1226 to working set\n",
      "7\t24511.6\t1412.14\t583.667\t5.10387e-15\t1\n",
      "Added constraint 1247 to working set\n",
      "8\t24511.6\t1412.14\t541.386\t1.28867e-13\t1\n",
      "Added constraint 1162 to working set\n",
      "9\t24511.6\t1412.14\t407.667\t4.32709e-13\t1\n",
      "Added constraint 1248 to working set\n",
      "10\t24511.6\t1412.14\t399.988\t5.84286e-13\t1\n",
      "Added constraint 1168 to working set\n",
      "11\t24511.6\t1412.14\t206.652\t5.25566e-13\t1\n",
      "Added constraint 1183 to working set\n",
      "12\t24511.6\t1412.14\t13.1139\t3.55383e-12\t1\n",
      "Added constraint 1180 to working set\n",
      "13\t24511.6\t1412.14\t3.24496e-06\t1\t1\n",
      "14\t24511.6\t1412.14\t2.11353e-07\t1\t1\n",
      "15\t24511.6\t1412.14\t2.18601e-07\t1\t1\n",
      "16\t24511.6\t1412.14\t2.17858e-07\t1\t1\n",
      "17\t24511.6\t1412.14\t2.17923e-07\t1\t1\n",
      "18\t24511.6\t1412.14\t2.14293e-07\t1\t1\n",
      "19\t24511.6\t1412.14\t2.17579e-07\t1\t1\n",
      "20\t24511.6\t1412.14\t2.14744e-07\t1\t1\n",
      "21\t24511.6\t1412.14\t2.0536e-07\t1\t1\n",
      "Computing negative curvature direction for scaled tau = 1.14245e-15\n",
      "22\t24511.6\t1412.14\t2.15359e-07\t0.001\t1\n"
     ]
    },
    {
     "name": "stderr",
     "output_type": "stream",
     "text": [
      "Bound constraint on variable 12838 reencounteredstep component: 3.2108e-10\n",
      "g_free component: 0\n",
      "throwing logic error (this freezes Knitro!!!)\n"
     ]
    },
    {
     "ename": "RuntimeError",
     "evalue": "Re-encountered bound in working set",
     "output_type": "error",
     "traceback": [
      "\u001b[0;31m---------------------------------------------------------------------------\u001b[0m",
      "\u001b[0;31mRuntimeError\u001b[0m                              Traceback (most recent call last)",
      "\u001b[0;32m<ipython-input-55-7b2175ec676b>\u001b[0m in \u001b[0;36m<module>\u001b[0;34m\u001b[0m\n\u001b[0;32m----> 1\u001b[0;31m \u001b[0mresults\u001b[0m \u001b[0;34m=\u001b[0m \u001b[0mumbrella_mesh\u001b[0m\u001b[0;34m.\u001b[0m\u001b[0mcompute_equilibrium\u001b[0m\u001b[0;34m(\u001b[0m\u001b[0mcurr_um\u001b[0m\u001b[0;34m,\u001b[0m \u001b[0mcallback\u001b[0m \u001b[0;34m=\u001b[0m \u001b[0meqm_callback\u001b[0m\u001b[0;34m,\u001b[0m \u001b[0moptions\u001b[0m \u001b[0;34m=\u001b[0m \u001b[0mOPTS\u001b[0m\u001b[0;34m,\u001b[0m \u001b[0mfixedVars\u001b[0m \u001b[0;34m=\u001b[0m \u001b[0mfixedVars\u001b[0m\u001b[0;34m,\u001b[0m \u001b[0melasticEnergyIncreaseFactorLimit\u001b[0m\u001b[0;34m=\u001b[0m\u001b[0;36m2.5\u001b[0m\u001b[0;34m)\u001b[0m\u001b[0;34m\u001b[0m\u001b[0;34m\u001b[0m\u001b[0m\n\u001b[0m",
      "\u001b[0;31mRuntimeError\u001b[0m: Re-encountered bound in working set"
     ]
    }
   ],
   "source": [
    "results = umbrella_mesh.compute_equilibrium(curr_um, callback = eqm_callback, options = OPTS, fixedVars = fixedVars, elasticEnergyIncreaseFactorLimit=2.5)"
   ]
  },
  {
   "cell_type": "code",
   "execution_count": 21,
   "id": "42fd2e28-b151-4dd6-820c-6e75559d2c9f",
   "metadata": {},
   "outputs": [
    {
     "data": {
      "text/plain": [
       "True"
      ]
     },
     "execution_count": 21,
     "metadata": {},
     "output_type": "execute_result"
    }
   ],
   "source": [
    "results.success"
   ]
  },
  {
   "cell_type": "markdown",
   "id": "9cf28828-a4f7-40f6-9430-3d380763ad19",
   "metadata": {},
   "source": [
    "### Initialize Design Optimization"
   ]
  },
  {
   "cell_type": "code",
   "execution_count": 22,
   "id": "508fa5c0-cecc-4d85-93c7-05893f97f546",
   "metadata": {},
   "outputs": [],
   "source": [
    "import umbrella_optimization\n",
    "import umbrella_optimization_finite_diff"
   ]
  },
  {
   "cell_type": "code",
   "execution_count": 23,
   "id": "212a646a-dac5-4bce-a233-9a69a550b658",
   "metadata": {},
   "outputs": [],
   "source": [
    "optimizer = umbrella_optimization.UmbrellaOptimization(curr_um, OPTS, 2.5, -1, False, fixedVars)"
   ]
  },
  {
   "cell_type": "code",
   "execution_count": 24,
   "id": "e8ae49ff-781d-4715-ab86-4a932f594b28",
   "metadata": {},
   "outputs": [],
   "source": [
    "optimizer.beta = 5 * 10e5"
   ]
  },
  {
   "cell_type": "code",
   "execution_count": 25,
   "id": "e412d03c-e003-40d2-9e2c-6a58c73e6c5a",
   "metadata": {},
   "outputs": [
    {
     "data": {
      "text/plain": [
       "1.0"
      ]
     },
     "execution_count": 25,
     "metadata": {},
     "output_type": "execute_result"
    }
   ],
   "source": [
    "optimizer.gamma"
   ]
  },
  {
   "cell_type": "code",
   "execution_count": 26,
   "id": "dbc97ee5-22d1-49be-9101-8cedd51cf04f",
   "metadata": {},
   "outputs": [],
   "source": [
    "optimizer.set_holdClosestPointsFixed(False)"
   ]
  },
  {
   "cell_type": "code",
   "execution_count": 27,
   "id": "b0082606-35ef-451e-b72f-c9aeb9c3fe1b",
   "metadata": {},
   "outputs": [
    {
     "data": {
      "text/plain": [
       "0.9999999999999906"
      ]
     },
     "execution_count": 27,
     "metadata": {},
     "output_type": "execute_result"
    }
   ],
   "source": [
    "optimizer.J(curr_um.getDesignParameters(), umbrella_optimization.OptEnergyType.Umbrella)"
   ]
  },
  {
   "cell_type": "code",
   "execution_count": 28,
   "id": "a4bf2f61-03d3-4fb4-a36f-ec6b631f53eb",
   "metadata": {},
   "outputs": [
    {
     "data": {
      "text/plain": [
       "53.67434835911158"
      ]
     },
     "execution_count": 28,
     "metadata": {},
     "output_type": "execute_result"
    }
   ],
   "source": [
    "optimizer.J(curr_um.getDesignParameters(), umbrella_optimization.OptEnergyType.Target)"
   ]
  },
  {
   "cell_type": "code",
   "execution_count": 29,
   "id": "2034dd9b-fa7c-4ff2-aaa6-675b0e868802",
   "metadata": {},
   "outputs": [
    {
     "data": {
      "text/plain": [
       "54.674348359111576"
      ]
     },
     "execution_count": 29,
     "metadata": {},
     "output_type": "execute_result"
    }
   ],
   "source": [
    "optimizer.J(curr_um.getDesignParameters(), umbrella_optimization.OptEnergyType.Full)"
   ]
  },
  {
   "cell_type": "code",
   "execution_count": 30,
   "id": "8b9ed1b1-c404-445d-8a30-3017a081eaf4",
   "metadata": {},
   "outputs": [],
   "source": [
    "original_design_parameters = curr_um.getDesignParameters()"
   ]
  },
  {
   "cell_type": "code",
   "execution_count": 31,
   "id": "c721b658-004e-46b2-a4c5-b1099bc403b8",
   "metadata": {},
   "outputs": [],
   "source": [
    "rest_height_optimizer = umbrella_optimization.UmbrellaRestHeightsOptimization(optimizer)"
   ]
  },
  {
   "cell_type": "code",
   "execution_count": 32,
   "id": "93de3e36-968f-4af3-ba55-24164b18249b",
   "metadata": {},
   "outputs": [
    {
     "data": {
      "text/plain": [
       "array([-0.00632466,  1.65755653, -2.23491565,  2.26207482,  0.05154824,\n",
       "       -1.70959191, -3.81370241, -0.61622033, -0.24436055,  0.45930648,\n",
       "       -3.26697478, -1.68361762,  0.62587767, -4.14823099,  0.61390905,\n",
       "       -0.18648684,  0.57538401, -0.13090394, -0.92004069, -2.79706783,\n",
       "       -0.51380654,  1.57813311, -1.37434514,  0.28913641, -0.82584089,\n",
       "        0.00510864,  0.33042519, -0.29870306, -3.66890537,  2.30574845,\n",
       "        1.87331508,  0.3286631 , -3.45546092, -1.72898905, -3.51414843,\n",
       "       -0.48998991,  2.06565789,  0.72738685, -1.39738509,  2.08220953,\n",
       "       -1.84511146,  0.65615038,  2.10981206,  4.23983063, -0.39149454,\n",
       "       -1.39899525, -1.38028077,  3.96411728,  2.26348559, -0.17117002,\n",
       "        4.58586004, -1.34534165, -0.27863493, -0.20392469, -0.38280249,\n",
       "       -0.15979987,  3.44904131,  1.35297002, -1.27570985,  1.3288103 ,\n",
       "       -1.49925887, -0.00631462, -0.48108868, -1.24895256, -1.48199838,\n",
       "        3.42689603, -1.81196532, -1.7122842 ,  0.1658546 ,  3.86143541,\n",
       "        2.18200944,  4.07518343,  1.17436249, -1.72133843])"
      ]
     },
     "execution_count": 32,
     "metadata": {},
     "output_type": "execute_result"
    }
   ],
   "source": [
    "rest_height_optimizer.gradp_J()"
   ]
  },
  {
   "cell_type": "code",
   "execution_count": 33,
   "id": "4bed3947-87a0-4a3a-8ac9-ec77d88217b5",
   "metadata": {},
   "outputs": [],
   "source": [
    "class UmbrellaOptimizationCallback:\n",
    "    def __init__(self, optimizer, umbrella, view, update_color = False, no_surface = False, callback_freq = 1):\n",
    "        self.optimizer     = optimizer\n",
    "        self.umbrella       = umbrella\n",
    "        self.view  = view\n",
    "        self.update_color = update_color\n",
    "        self.no_surface    = no_surface\n",
    "        self.callback_freq = callback_freq\n",
    "        self.iterateData = []\n",
    "\n",
    "    def __call__(self):\n",
    "        if self.view and (len(self.iterateData) % self.callback_freq == 0):\n",
    "            if self.update_color:\n",
    "                self.view.showScalarField(rod_colors)\n",
    "            else:\n",
    "                pass\n",
    "                self.view.update()\n",
    "        return\n",
    "\n",
    "    def numIterations(self): return len(self.iterateData)"
   ]
  },
  {
   "cell_type": "code",
   "execution_count": 34,
   "id": "4191d3d0-19a1-47d0-9244-9716568215f0",
   "metadata": {},
   "outputs": [],
   "source": [
    "algorithm = umbrella_optimization.OptAlgorithm.NEWTON_CG\n",
    "cb = UmbrellaOptimizationCallback(optimizer, curr_um, view, True, False, 1)"
   ]
  },
  {
   "cell_type": "code",
   "execution_count": 35,
   "id": "de8f6539-9f04-4d8e-b264-2c1477da0382",
   "metadata": {},
   "outputs": [
    {
     "data": {
      "text/plain": [
       "(20000.0, 5000000.0)"
      ]
     },
     "execution_count": 35,
     "metadata": {},
     "output_type": "execute_result"
    }
   ],
   "source": [
    "optimizer.getAttractionWeight(), optimizer.beta"
   ]
  },
  {
   "cell_type": "code",
   "execution_count": 36,
   "id": "903f6d92-7730-4d22-b598-ce018fd0aa5e",
   "metadata": {},
   "outputs": [],
   "source": [
    "solverStatus = umbrella_optimization.optimize(rest_height_optimizer, algorithm, 20, 1.0, 1e-2, cb, -1)"
   ]
  },
  {
   "cell_type": "code",
   "execution_count": 37,
   "id": "6d9a033c-8310-40dd-8513-4bf349f97eaa",
   "metadata": {},
   "outputs": [
    {
     "data": {
      "text/plain": [
       "1"
      ]
     },
     "execution_count": 37,
     "metadata": {},
     "output_type": "execute_result"
    }
   ],
   "source": [
    "solverStatus"
   ]
  },
  {
   "cell_type": "code",
   "execution_count": 38,
   "id": "a1b6aea6-93c0-45e8-becd-c8ffc4133cba",
   "metadata": {},
   "outputs": [
    {
     "data": {
      "text/plain": [
       "array([40.62096911, 50.78566104, 40.62096911, 38.92980297, 38.24880759,\n",
       "       40.77835526, 38.24880759, 43.12143542, 46.32201977, 38.92980297,\n",
       "       46.32201977, 58.8264265 , 46.32201977, 37.34163296, 36.93303243,\n",
       "       43.12143542, 36.93303243, 37.44374091, 37.29110627, 37.34163296,\n",
       "       37.29110627, 46.7319472 , 48.62571257, 52.99146035, 48.62571257,\n",
       "       50.78566104, 52.84103319, 47.91184761, 52.84103319, 40.77835526,\n",
       "       52.84103319, 64.14603784, 63.90425505, 50.78566104, 63.90425505,\n",
       "       71.31416061, 63.90425505, 58.8264265 , 59.50627071, 64.14603784,\n",
       "       59.50627071, 43.12143542, 59.50627071, 60.99872726, 59.30433709,\n",
       "       58.8264265 , 59.30433709, 67.49970524, 59.30433709, 46.7319472 ,\n",
       "       48.79928287, 60.99872726, 48.79928287, 37.44374091, 48.79928287,\n",
       "       42.32869596, 42.75745781, 46.7319472 , 42.75745781, 45.51629814,\n",
       "       42.87837875, 41.87023972, 42.87837875, 52.99146035, 55.15927549,\n",
       "       43.30802753, 55.15927549, 47.91184761, 55.15927549, 66.50374599,\n",
       "       64.82051021, 52.99146035, 64.82051021, 63.31708183, 64.82051021,\n",
       "       71.31416061, 71.00587821, 66.50374599, 71.00587821, 64.14603784,\n",
       "       71.00587821, 73.09228263, 72.0165398 , 71.31416061, 72.0165398 ,\n",
       "       69.51534388, 72.0165398 , 67.49970524, 67.16011358, 73.09228263,\n",
       "       67.16011358, 60.99872726, 67.16011358, 59.92346891, 59.38558999,\n",
       "       67.49970524, 59.38558999, 56.93469625, 59.38558999, 45.51629814,\n",
       "       47.48847888, 59.92346891, 47.48847888, 42.32869596, 47.48847888,\n",
       "       37.34562691, 36.90779794, 45.51629814, 36.90779794, 36.23612197,\n",
       "       41.20515048, 43.30802753, 41.20515048, 47.3514015 , 50.75214426,\n",
       "       41.87023972, 50.75214426, 41.43763218, 50.75214426, 63.31708183,\n",
       "       61.67037472, 47.3514015 , 61.67037472, 66.50374599, 61.67037472,\n",
       "       65.36714899, 65.31650699, 63.31708183, 65.31650699, 51.21193813,\n",
       "       65.31650699, 69.51534388, 68.88477844, 65.36714899, 68.88477844,\n",
       "       73.09228263, 68.88477844, 62.13701093, 60.54600942, 69.51534388,\n",
       "       60.54600942, 48.44894641, 60.54600942, 56.93469625, 57.54590646,\n",
       "       62.13701093, 57.54590646, 59.92346891, 57.54590646, 41.83106415,\n",
       "       44.76406371, 56.93469625, 44.76406371, 36.8881187 , 44.76406371,\n",
       "       36.23612197, 35.39105198, 41.83106415, 35.39105198, 37.34562691,\n",
       "       40.6445502 , 47.3514015 , 40.6445502 , 41.48953594, 41.33378203,\n",
       "       41.43763218, 41.33378203, 51.21193813, 53.517802  , 41.48953594,\n",
       "       53.517802  , 65.36714899, 53.517802  , 46.10837497, 46.83745805,\n",
       "       51.21193813, 46.83745805, 48.44894641, 50.72552797, 46.10837497,\n",
       "       50.72552797, 62.13701093, 50.72552797, 38.91658339, 38.75997496,\n",
       "       48.44894641, 38.75997496, 36.8881187 , 36.45649958, 38.91658339,\n",
       "       36.45649958, 41.83106415])"
      ]
     },
     "execution_count": 38,
     "metadata": {},
     "output_type": "execute_result"
    }
   ],
   "source": [
    "curr_um.getDesignParameters()"
   ]
  },
  {
   "cell_type": "code",
   "execution_count": 39,
   "id": "cc629762-ec51-4aef-8e50-89761015a626",
   "metadata": {},
   "outputs": [
    {
     "data": {
      "text/plain": [
       "array([40.62096911, 38.24880759, 46.32201977, 36.93303243, 37.29110627,\n",
       "       48.62571257, 52.84103319, 63.90425505, 59.50627071, 59.30433709,\n",
       "       48.79928287, 42.75745781, 42.87837875, 55.15927549, 64.82051021,\n",
       "       71.00587821, 72.0165398 , 67.16011358, 59.38558999, 47.48847888,\n",
       "       36.90779794, 41.20515048, 50.75214426, 61.67037472, 65.31650699,\n",
       "       68.88477844, 60.54600942, 57.54590646, 44.76406371, 35.39105198,\n",
       "       40.6445502 , 41.33378203, 53.517802  , 46.83745805, 50.72552797,\n",
       "       38.75997496, 36.45649958, 40.77835526, 38.92980297, 43.12143542,\n",
       "       37.34163296, 37.44374091, 47.91184761, 50.78566104, 64.14603784,\n",
       "       58.8264265 , 60.99872726, 46.7319472 , 42.32869596, 43.30802753,\n",
       "       52.99146035, 66.50374599, 71.31416061, 73.09228263, 67.49970524,\n",
       "       59.92346891, 45.51629814, 37.34562691, 41.87023972, 47.3514015 ,\n",
       "       63.31708183, 65.36714899, 69.51534388, 62.13701093, 56.93469625,\n",
       "       41.83106415, 36.23612197, 41.43763218, 41.48953594, 51.21193813,\n",
       "       46.10837497, 48.44894641, 38.91658339, 36.8881187 ])"
      ]
     },
     "execution_count": 39,
     "metadata": {},
     "output_type": "execute_result"
    }
   ],
   "source": [
    "rest_height_optimizer.params()"
   ]
  },
  {
   "cell_type": "code",
   "execution_count": 41,
   "id": "37bd67e6-c3a1-4552-a60e-bc47085c9c92",
   "metadata": {},
   "outputs": [],
   "source": [
    "import numpy.linalg as la"
   ]
  },
  {
   "cell_type": "code",
   "execution_count": 42,
   "id": "57be39a8-cb12-4854-8b5b-5412dc14b543",
   "metadata": {},
   "outputs": [
    {
     "data": {
      "text/plain": [
       "0.0"
      ]
     },
     "execution_count": 42,
     "metadata": {},
     "output_type": "execute_result"
    }
   ],
   "source": [
    "la.norm(curr_um.getDesignParameters() - rest_height_optimizer.applyTransformation(rest_height_optimizer.params()))"
   ]
  }
 ],
 "metadata": {
  "kernelspec": {
   "display_name": "umbrella_mesh",
   "language": "python",
   "name": "umbrella_mesh"
  },
  "language_info": {
   "codemirror_mode": {
    "name": "ipython",
    "version": 3
   },
   "file_extension": ".py",
   "mimetype": "text/x-python",
   "name": "python",
   "nbconvert_exporter": "python",
   "pygments_lexer": "ipython3",
   "version": "3.9.7"
  }
 },
 "nbformat": 4,
 "nbformat_minor": 5
}
