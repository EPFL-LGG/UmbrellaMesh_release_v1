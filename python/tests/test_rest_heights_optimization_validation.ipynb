{
 "cells": [
  {
   "cell_type": "code",
   "execution_count": null,
   "id": "4dad9710",
   "metadata": {},
   "outputs": [],
   "source": [
    "import sys\n",
    "sys.path.append('..')\n",
    "import umbrella_mesh\n",
    "import elastic_rods\n",
    "import linkage_vis\n",
    "from umbrella_mesh import UmbrellaEnergyType\n",
    "from bending_validation import suppress_stdout as so\n",
    "from visualization_helper import *"
   ]
  },
  {
   "cell_type": "code",
   "execution_count": null,
   "id": "439d9325",
   "metadata": {},
   "outputs": [],
   "source": [
    "import numpy as np"
   ]
  },
  {
   "cell_type": "markdown",
   "id": "de1fb024",
   "metadata": {},
   "source": [
    "### Initial Deployment"
   ]
  },
  {
   "cell_type": "code",
   "execution_count": null,
   "id": "7a8972d1",
   "metadata": {},
   "outputs": [],
   "source": [
    "name = 'sphere_cap_0.3_one_ring'"
   ]
  },
  {
   "cell_type": "code",
   "execution_count": null,
   "id": "12d6bcfc",
   "metadata": {},
   "outputs": [],
   "source": [
    "input_path = '../../data/{}.json'.format(name)\n",
    "target_mesh_path = '../../data/target_meshes/{}.obj'.format('sphere_cap_0.3')"
   ]
  },
  {
   "cell_type": "code",
   "execution_count": null,
   "id": "8eea5b58",
   "metadata": {},
   "outputs": [],
   "source": [
    "# input_path = '../../data/{}.json'.format('hemisphere')\n",
    "# target_mesh_path = '../../data/target_meshes/{}.obj'.format('hemisphere')"
   ]
  },
  {
   "cell_type": "code",
   "execution_count": null,
   "id": "e45a329d",
   "metadata": {},
   "outputs": [],
   "source": [
    "from helpers.deployment_helper import get_deployed_umbrella_mesh"
   ]
  },
  {
   "cell_type": "code",
   "execution_count": null,
   "id": "9af80457",
   "metadata": {},
   "outputs": [],
   "source": [
    "from load_jsondata import read_data\n",
    "input_data, io = read_data(filepath = input_path)\n",
    "width = 2*input_data['arm_plate_edge_offset']\n",
    "thickness = width * 0.5 # 1.5 mm # FIX from mm to meters everywhere\n",
    "cross_section = [thickness, width]"
   ]
  },
  {
   "cell_type": "code",
   "execution_count": null,
   "id": "7336e894",
   "metadata": {
    "scrolled": true,
    "tags": []
   },
   "outputs": [],
   "source": [
    "curr_um = umbrella_mesh.UmbrellaMesh(target_mesh_path, io)\n",
    "curr_um.setMaterial(elastic_rods.RodMaterial('rectangle', 2000, 0.3, cross_section, stiffAxis=elastic_rods.StiffAxis.D1))"
   ]
  },
  {
   "cell_type": "code",
   "execution_count": null,
   "id": "c83a798e",
   "metadata": {},
   "outputs": [],
   "source": [
    "curr_um.energy(UmbrellaEnergyType.Full)"
   ]
  },
  {
   "cell_type": "markdown",
   "id": "4388d78b",
   "metadata": {},
   "source": [
    "#### Pin Rigid Motion\n",
    "\n"
   ]
  },
  {
   "cell_type": "code",
   "execution_count": null,
   "id": "961da8ec",
   "metadata": {},
   "outputs": [],
   "source": [
    "use_pin = False"
   ]
  },
  {
   "cell_type": "code",
   "execution_count": null,
   "id": "3d515109",
   "metadata": {},
   "outputs": [],
   "source": [
    "driver = curr_um.centralJoint()\n",
    "jdo = curr_um.dofOffsetForJoint(driver)\n",
    "fixedVars = (list(range(jdo, jdo + 6)) if use_pin else []) + curr_um.rigidJointAngleDoFIndices()"
   ]
  },
  {
   "cell_type": "code",
   "execution_count": null,
   "id": "47f6f7e0",
   "metadata": {},
   "outputs": [],
   "source": [
    "import py_newton_optimizer\n",
    "OPTS = py_newton_optimizer.NewtonOptimizerOptions()\n",
    "OPTS.gradTol = 1e-6\n",
    "OPTS.verbose = 1\n",
    "OPTS.beta = 1e-6\n",
    "OPTS.niter = 300\n",
    "OPTS.verboseNonPosDef = False"
   ]
  },
  {
   "cell_type": "code",
   "execution_count": null,
   "id": "b212062e",
   "metadata": {},
   "outputs": [],
   "source": [
    "rod_colors = []\n",
    "for ri in range(curr_um.numSegments()):\n",
    "    rod_colors.append(np.ones(curr_um.segment(ri).rod.numVertices()) * ri)"
   ]
  },
  {
   "cell_type": "code",
   "execution_count": null,
   "id": "18d37e37",
   "metadata": {},
   "outputs": [],
   "source": [
    "import mesh\n",
    "target_mesh = mesh.Mesh(target_mesh_path)\n",
    "view = linkage_vis.LinkageViewerWithSurface(curr_um, target_mesh, width=1024, height=600)\n",
    "# view = linkage_vis.LinkageViewer(curr_um, width=1024, height=600)\n",
    "# view.update(scalarField = rod_colors)\n",
    "set_surface_view_options(view, color = 'green', surface_color = 'gray', umbrella_transparent = False, surface_transparent = True)\n",
    "view.averagedMaterialFrames = True\n",
    "view.showScalarField(rod_colors)\n",
    "view.show()"
   ]
  },
  {
   "cell_type": "code",
   "execution_count": null,
   "id": "1b50dfd0",
   "metadata": {},
   "outputs": [],
   "source": [
    "angles = []\n",
    "def eqm_callback(prob, i):\n",
    "    angles.append(curr_um.getDoFs()[curr_um.jointAngleDoFIndices()])\n",
    "    if (i % 10 == 0):\n",
    "        view.update()\n",
    "        view.showScalarField(rod_colors)"
   ]
  },
  {
   "cell_type": "code",
   "execution_count": null,
   "id": "248ed6f6",
   "metadata": {},
   "outputs": [],
   "source": [
    "curr_um.uniformDeploymentEnergyWeight = 0.1\n",
    "# curr_um.deploymentForceType = umbrella_mesh.DeploymentForceType.Constant\n",
    "curr_um.targetDeploymentHeight = thickness * 2\n",
    "curr_um.repulsionEnergyWeight = 0\n",
    "curr_um.attractionWeight = 20000\n",
    "curr_um.setHoldClosestPointsFixed(False)\n",
    "curr_um.scaleInputPosWeights(0)"
   ]
  },
  {
   "cell_type": "code",
   "execution_count": null,
   "id": "a6a6c60e",
   "metadata": {},
   "outputs": [],
   "source": [
    "curr_um.energyElastic(), curr_um.energyDeployment(), curr_um.energyRepulsion(), curr_um.energyAttraction()"
   ]
  },
  {
   "cell_type": "code",
   "execution_count": null,
   "id": "7e884a60",
   "metadata": {},
   "outputs": [],
   "source": [
    "dof = curr_um.getDoFs()\n",
    "for i in range(curr_um.numJoints()):\n",
    "    if (curr_um.joint(i).jointType() == umbrella_mesh.JointType.X):\n",
    "        dof[curr_um.dofOffsetForJoint(i) + 6] = 1e-3\n",
    "curr_um.setDoFs(dof)"
   ]
  },
  {
   "cell_type": "code",
   "execution_count": null,
   "id": "000333c6",
   "metadata": {},
   "outputs": [],
   "source": [
    "angles = []\n",
    "def eqm_callback(prob, i):\n",
    "    angles.append(curr_um.getDoFs()[curr_um.jointAngleDoFIndices()])\n",
    "    if (i % 10 == 0):\n",
    "        view.update()\n",
    "        view.showScalarField(rod_colors)"
   ]
  },
  {
   "cell_type": "code",
   "execution_count": null,
   "id": "0984c4a2",
   "metadata": {
    "scrolled": true
   },
   "outputs": [],
   "source": [
    "results = umbrella_mesh.compute_equilibrium(curr_um, callback = eqm_callback, options = OPTS, fixedVars = fixedVars, elasticEnergyIncreaseFactorLimit=2.5)"
   ]
  },
  {
   "cell_type": "code",
   "execution_count": null,
   "id": "620c5633",
   "metadata": {},
   "outputs": [],
   "source": [
    "results.success"
   ]
  },
  {
   "cell_type": "markdown",
   "id": "e1aafbc6",
   "metadata": {},
   "source": [
    "### Initialize Design Optimization"
   ]
  },
  {
   "cell_type": "code",
   "execution_count": null,
   "id": "e191e30c",
   "metadata": {},
   "outputs": [],
   "source": [
    "import umbrella_optimization\n",
    "import umbrella_optimization_finite_diff"
   ]
  },
  {
   "cell_type": "code",
   "execution_count": null,
   "id": "7efd11c1",
   "metadata": {},
   "outputs": [],
   "source": [
    "EO = umbrella_optimization.ElasticEnergyObjective(curr_um)"
   ]
  },
  {
   "cell_type": "code",
   "execution_count": null,
   "id": "5c3e6eb4",
   "metadata": {},
   "outputs": [],
   "source": [
    "curr_um.setHoldClosestPointsFixed(True)"
   ]
  },
  {
   "cell_type": "code",
   "execution_count": null,
   "id": "4ccef4f5",
   "metadata": {},
   "outputs": [],
   "source": [
    "optimizer = umbrella_optimization.UmbrellaOptimization(curr_um, OPTS, 2.5, -1, False, fixedVars)"
   ]
  },
  {
   "cell_type": "code",
   "execution_count": null,
   "id": "e61d11ac",
   "metadata": {},
   "outputs": [],
   "source": [
    "optimizer.J(curr_um.getDesignParameters(), umbrella_optimization.OptEnergyType.Umbrella)"
   ]
  },
  {
   "cell_type": "code",
   "execution_count": null,
   "id": "69841267",
   "metadata": {},
   "outputs": [],
   "source": [
    "optimizer.J(curr_um.getDesignParameters(), umbrella_optimization.OptEnergyType.Target)"
   ]
  },
  {
   "cell_type": "code",
   "execution_count": null,
   "id": "f5689f22",
   "metadata": {},
   "outputs": [],
   "source": [
    "optimizer.J(curr_um.getDesignParameters(), umbrella_optimization.OptEnergyType.DeploymentForce)"
   ]
  },
  {
   "cell_type": "code",
   "execution_count": null,
   "id": "faaa5c68",
   "metadata": {},
   "outputs": [],
   "source": [
    "optimizer.J(curr_um.getDesignParameters(), umbrella_optimization.OptEnergyType.Full)"
   ]
  },
  {
   "cell_type": "code",
   "execution_count": null,
   "id": "438079c1",
   "metadata": {},
   "outputs": [],
   "source": [
    "optimizer.objective.terms[-1].term.activationThreshold = thickness "
   ]
  },
  {
   "cell_type": "code",
   "execution_count": null,
   "id": "d5f578c4",
   "metadata": {},
   "outputs": [],
   "source": [
    "rest_height_optimizer = umbrella_optimization.UmbrellaRestHeightsOptimization(optimizer)"
   ]
  },
  {
   "cell_type": "markdown",
   "id": "a9c80003",
   "metadata": {},
   "source": [
    "### Gradient Finite Difference Error"
   ]
  },
  {
   "cell_type": "code",
   "execution_count": null,
   "id": "517ab101",
   "metadata": {},
   "outputs": [],
   "source": [
    "direction = np.random.uniform(0, 1, rest_height_optimizer.numParams())"
   ]
  },
  {
   "cell_type": "code",
   "execution_count": null,
   "id": "60ae2fdb",
   "metadata": {},
   "outputs": [],
   "source": [
    "umbrella_optimization_finite_diff.gradient_convergence_plot(rest_height_optimizer, direction, umbrella_optimization.OptEnergyType.Full, minStepSize=1e-9, maxStepSize=1e-1)"
   ]
  },
  {
   "cell_type": "code",
   "execution_count": null,
   "id": "f1a44a46",
   "metadata": {},
   "outputs": [],
   "source": [
    "umbrella_optimization_finite_diff.gradient_convergence_plot(rest_height_optimizer, direction, umbrella_optimization.OptEnergyType.Umbrella, minStepSize=1e-9, maxStepSize=1e-1)"
   ]
  },
  {
   "cell_type": "code",
   "execution_count": null,
   "id": "93da3519",
   "metadata": {},
   "outputs": [],
   "source": [
    "umbrella_optimization_finite_diff.gradient_convergence_plot(rest_height_optimizer, direction, umbrella_optimization.OptEnergyType.Target, minStepSize=1e-9, maxStepSize=1e0)"
   ]
  },
  {
   "cell_type": "code",
   "execution_count": null,
   "id": "04c39635",
   "metadata": {},
   "outputs": [],
   "source": [
    "umbrella_optimization_finite_diff.gradient_convergence_plot(rest_height_optimizer, direction, umbrella_optimization.OptEnergyType.DeploymentForce, minStepSize=1e-9, maxStepSize=1e0)"
   ]
  },
  {
   "cell_type": "markdown",
   "id": "e9cb9592",
   "metadata": {},
   "source": [
    "### Hessian Finite Difference Errors"
   ]
  },
  {
   "cell_type": "code",
   "execution_count": null,
   "id": "3b6dc3c0",
   "metadata": {},
   "outputs": [],
   "source": [
    "umbrella_optimization_finite_diff.hessian_convergence_plot(rest_height_optimizer, direction, umbrella_optimization_finite_diff.OptEnergyType.Full, minStepSize=1e-9, maxStepSize=1e1)"
   ]
  },
  {
   "cell_type": "code",
   "execution_count": null,
   "id": "50fbd9af",
   "metadata": {},
   "outputs": [],
   "source": [
    "error = umbrella_optimization_finite_diff.hessian_convergence_plot(rest_height_optimizer, direction, umbrella_optimization.OptEnergyType.Umbrella, minStepSize=1e-9, maxStepSize=1e1)"
   ]
  },
  {
   "cell_type": "code",
   "execution_count": null,
   "id": "cdec4c39",
   "metadata": {},
   "outputs": [],
   "source": [
    "umbrella_optimization_finite_diff.hessian_convergence_plot(rest_height_optimizer, direction, umbrella_optimization.OptEnergyType.Target, maxStepSize=1e1, minStepSize=1e-9)"
   ]
  },
  {
   "cell_type": "code",
   "execution_count": null,
   "id": "9d9b8e21",
   "metadata": {},
   "outputs": [],
   "source": [
    "umbrella_optimization_finite_diff.hessian_convergence_plot(rest_height_optimizer, direction, umbrella_optimization.OptEnergyType.DeploymentForce, maxStepSize=1e1, minStepSize=1e-9)"
   ]
  },
  {
   "cell_type": "code",
   "execution_count": null,
   "id": "a15e6b8b",
   "metadata": {},
   "outputs": [],
   "source": [
    "import importlib\n",
    "importlib.reload(umbrella_optimization_finite_diff)"
   ]
  },
  {
   "cell_type": "code",
   "execution_count": null,
   "id": "241ed144",
   "metadata": {},
   "outputs": [],
   "source": []
  }
 ],
 "metadata": {
  "kernelspec": {
   "display_name": "umbrella_mesh",
   "language": "python",
   "name": "umbrella_mesh"
  },
  "language_info": {
   "codemirror_mode": {
    "name": "ipython",
    "version": 3
   },
   "file_extension": ".py",
   "mimetype": "text/x-python",
   "name": "python",
   "nbconvert_exporter": "python",
   "pygments_lexer": "ipython3",
   "version": "3.9.7"
  }
 },
 "nbformat": 4,
 "nbformat_minor": 5
}
