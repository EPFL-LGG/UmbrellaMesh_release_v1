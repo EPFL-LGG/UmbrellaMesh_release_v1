{
 "cells": [
  {
   "cell_type": "code",
   "execution_count": null,
   "id": "1abf1c18",
   "metadata": {},
   "outputs": [],
   "source": [
    "import sys\n",
    "sys.path.append('..')\n",
    "import umbrella_mesh\n",
    "import elastic_rods\n",
    "import linkage_vis\n",
    "from umbrella_mesh import UmbrellaEnergyType\n",
    "from bending_validation import suppress_stdout as so\n",
    "from visualization_helper import *"
   ]
  },
  {
   "cell_type": "code",
   "execution_count": null,
   "id": "2fffe117",
   "metadata": {},
   "outputs": [],
   "source": [
    "import numpy as np"
   ]
  },
  {
   "cell_type": "markdown",
   "id": "4b47cd23",
   "metadata": {},
   "source": [
    "### Initial Deployment"
   ]
  },
  {
   "cell_type": "code",
   "execution_count": null,
   "id": "139809d3",
   "metadata": {},
   "outputs": [],
   "source": [
    "name = 'sphere_cap_0.3'"
   ]
  },
  {
   "cell_type": "code",
   "execution_count": null,
   "id": "882cbfbb",
   "metadata": {},
   "outputs": [],
   "source": [
    "input_path = '../../data/{}.json'.format(name)\n",
    "target_mesh_path = '../../data/target_meshes/{}.obj'.format(name)"
   ]
  },
  {
   "cell_type": "code",
   "execution_count": null,
   "id": "d6e46160",
   "metadata": {},
   "outputs": [],
   "source": [
    "# input_path = '../../data/{}.json'.format('hemisphere')\n",
    "# target_mesh_path = '../../data/target_meshes/{}.obj'.format('hemisphere')"
   ]
  },
  {
   "cell_type": "code",
   "execution_count": null,
   "id": "d3c527d7",
   "metadata": {},
   "outputs": [],
   "source": [
    "from helpers.deployment_helper import get_deployed_umbrella_mesh"
   ]
  },
  {
   "cell_type": "code",
   "execution_count": null,
   "id": "bbbf5b9f",
   "metadata": {},
   "outputs": [],
   "source": [
    "from load_jsondata import read_data\n",
    "input_data, io = read_data(filepath = input_path)\n",
    "width = 2*input_data['arm_plate_edge_offset']\n",
    "thickness = width * 0.5 # 1.5 mm # FIX from mm to meters everywhere\n",
    "cross_section = [thickness, width]"
   ]
  },
  {
   "cell_type": "code",
   "execution_count": null,
   "id": "a7dde136",
   "metadata": {
    "scrolled": true,
    "tags": []
   },
   "outputs": [],
   "source": [
    "curr_um = umbrella_mesh.UmbrellaMesh(target_mesh_path, io)\n",
    "curr_um.setMaterial(elastic_rods.RodMaterial('rectangle', 2000, 0.3, cross_section, stiffAxis=elastic_rods.StiffAxis.D1))"
   ]
  },
  {
   "cell_type": "code",
   "execution_count": null,
   "id": "f404b4d3",
   "metadata": {},
   "outputs": [],
   "source": [
    "curr_um.energy(UmbrellaEnergyType.Full)"
   ]
  },
  {
   "cell_type": "markdown",
   "id": "b6b03f90",
   "metadata": {},
   "source": [
    "#### Pin Rigid Motion\n",
    "\n"
   ]
  },
  {
   "cell_type": "code",
   "execution_count": null,
   "id": "a8052a20",
   "metadata": {},
   "outputs": [],
   "source": [
    "use_pin = False"
   ]
  },
  {
   "cell_type": "code",
   "execution_count": null,
   "id": "03b8903c",
   "metadata": {},
   "outputs": [],
   "source": [
    "driver = curr_um.centralJoint()\n",
    "jdo = curr_um.dofOffsetForJoint(driver)\n",
    "fixedVars = (list(range(jdo, jdo + 6)) if use_pin else []) + curr_um.rigidJointAngleDoFIndices()"
   ]
  },
  {
   "cell_type": "code",
   "execution_count": null,
   "id": "aaf75510",
   "metadata": {},
   "outputs": [],
   "source": [
    "import py_newton_optimizer\n",
    "OPTS = py_newton_optimizer.NewtonOptimizerOptions()\n",
    "OPTS.gradTol = 1e-6\n",
    "OPTS.verbose = 1\n",
    "OPTS.beta = 1e-6\n",
    "OPTS.niter = 300\n",
    "OPTS.verboseNonPosDef = False"
   ]
  },
  {
   "cell_type": "code",
   "execution_count": null,
   "id": "d8db2519",
   "metadata": {},
   "outputs": [],
   "source": [
    "rod_colors = []\n",
    "for ri in range(curr_um.numSegments()):\n",
    "    rod_colors.append(np.ones(curr_um.segment(ri).rod.numVertices()) * ri)"
   ]
  },
  {
   "cell_type": "code",
   "execution_count": null,
   "id": "2221f713",
   "metadata": {},
   "outputs": [],
   "source": [
    "import mesh\n",
    "target_mesh = mesh.Mesh(target_mesh_path)\n",
    "view = linkage_vis.LinkageViewerWithSurface(curr_um, target_mesh, width=1024, height=600)\n",
    "# view = linkage_vis.LinkageViewer(curr_um, width=1024, height=600)\n",
    "# view.update(scalarField = rod_colors)\n",
    "set_surface_view_options(view, color = 'green', surface_color = 'gray', umbrella_transparent = False, surface_transparent = True)\n",
    "view.averagedMaterialFrames = True\n",
    "view.showScalarField(rod_colors)\n",
    "view.show()"
   ]
  },
  {
   "cell_type": "code",
   "execution_count": null,
   "id": "a9ea3852",
   "metadata": {},
   "outputs": [],
   "source": [
    "angles = []\n",
    "def eqm_callback(prob, i):\n",
    "    angles.append(curr_um.getDoFs()[curr_um.jointAngleDoFIndices()])\n",
    "    if (i % 10 == 0):\n",
    "        view.update()\n",
    "        view.showScalarField(rod_colors)"
   ]
  },
  {
   "cell_type": "code",
   "execution_count": null,
   "id": "265d8c98",
   "metadata": {},
   "outputs": [],
   "source": [
    "curr_um.uniformDeploymentEnergyWeight = 0.1\n",
    "# curr_um.deploymentForceType = umbrella_mesh.DeploymentForceType.Constant\n",
    "curr_um.targetDeploymentHeight = thickness * 5\n",
    "curr_um.repulsionEnergyWeight = 0\n",
    "curr_um.attractionWeight = 2000\n",
    "curr_um.setHoldClosestPointsFixed(False)\n",
    "curr_um.scaleInputPosWeights(0.5)"
   ]
  },
  {
   "cell_type": "code",
   "execution_count": null,
   "id": "a6fdfddd",
   "metadata": {},
   "outputs": [],
   "source": [
    "curr_um.energyElastic(), curr_um.energyDeployment(), curr_um.energyRepulsion(), curr_um.energyAttraction()"
   ]
  },
  {
   "cell_type": "code",
   "execution_count": null,
   "id": "ee0ac9a6",
   "metadata": {},
   "outputs": [],
   "source": [
    "dof = curr_um.getDoFs()\n",
    "for i in range(curr_um.numJoints()):\n",
    "    if (curr_um.joint(i).jointType() == umbrella_mesh.JointType.X):\n",
    "        dof[curr_um.dofOffsetForJoint(i) + 6] = 1e-3\n",
    "curr_um.setDoFs(dof)"
   ]
  },
  {
   "cell_type": "code",
   "execution_count": null,
   "id": "a9ef1ae1",
   "metadata": {},
   "outputs": [],
   "source": [
    "angles = []\n",
    "def eqm_callback(prob, i):\n",
    "    angles.append(curr_um.getDoFs()[curr_um.jointAngleDoFIndices()])\n",
    "    if (i % 10 == 0):\n",
    "        view.update()\n",
    "        view.showScalarField(rod_colors)"
   ]
  },
  {
   "cell_type": "code",
   "execution_count": null,
   "id": "c50e6d8f",
   "metadata": {
    "scrolled": true
   },
   "outputs": [],
   "source": [
    "results = umbrella_mesh.compute_equilibrium(curr_um, callback = eqm_callback, options = OPTS, fixedVars = fixedVars, elasticEnergyIncreaseFactorLimit=2.5)"
   ]
  },
  {
   "cell_type": "code",
   "execution_count": null,
   "id": "10dd31f8",
   "metadata": {},
   "outputs": [],
   "source": [
    "curr_um.numDoF()"
   ]
  },
  {
   "cell_type": "code",
   "execution_count": null,
   "id": "c4e68f1e",
   "metadata": {},
   "outputs": [],
   "source": [
    "results.success"
   ]
  },
  {
   "cell_type": "markdown",
   "id": "195e0f6b",
   "metadata": {},
   "source": [
    "### Initialize Design Optimization"
   ]
  },
  {
   "cell_type": "code",
   "execution_count": null,
   "id": "5548850a",
   "metadata": {},
   "outputs": [],
   "source": [
    "import umbrella_optimization\n",
    "import umbrella_optimization_finite_diff"
   ]
  },
  {
   "cell_type": "code",
   "execution_count": null,
   "id": "149fc4c1",
   "metadata": {},
   "outputs": [],
   "source": [
    "optimizer = umbrella_optimization.UmbrellaOptimization(curr_um, OPTS, 2.5, -1, False, fixedVars)"
   ]
  },
  {
   "cell_type": "code",
   "execution_count": null,
   "id": "15ee7d2c",
   "metadata": {},
   "outputs": [],
   "source": [
    "optimizer.beta = 5 * 10e5"
   ]
  },
  {
   "cell_type": "code",
   "execution_count": null,
   "id": "e9a4a81d",
   "metadata": {},
   "outputs": [],
   "source": [
    "optimizer.gamma"
   ]
  },
  {
   "cell_type": "code",
   "execution_count": null,
   "id": "cedf1eb1",
   "metadata": {},
   "outputs": [],
   "source": [
    "optimizer.setHoldClosestPointsFixed(False, False)"
   ]
  },
  {
   "cell_type": "code",
   "execution_count": null,
   "id": "336a58a5",
   "metadata": {},
   "outputs": [],
   "source": [
    "optimizer.J(curr_um.getDesignParameters(), umbrella_optimization.OptEnergyType.Umbrella)"
   ]
  },
  {
   "cell_type": "code",
   "execution_count": null,
   "id": "2f64423c",
   "metadata": {},
   "outputs": [],
   "source": [
    "optimizer.J(curr_um.getDesignParameters(), umbrella_optimization.OptEnergyType.Target)"
   ]
  },
  {
   "cell_type": "code",
   "execution_count": null,
   "id": "dd377def",
   "metadata": {},
   "outputs": [],
   "source": [
    "optimizer.J(curr_um.getDesignParameters(), umbrella_optimization.OptEnergyType.Full)"
   ]
  },
  {
   "cell_type": "code",
   "execution_count": null,
   "id": "7a566b4d",
   "metadata": {},
   "outputs": [],
   "source": [
    "original_design_parameters = curr_um.getDesignParameters()"
   ]
  },
  {
   "cell_type": "code",
   "execution_count": null,
   "id": "fb215677",
   "metadata": {},
   "outputs": [],
   "source": [
    "rest_height_optimizer = umbrella_optimization.UmbrellaRestHeightsOptimization(optimizer)\n",
    "single_rest_height_optimizer = umbrella_optimization.UmbrellaSingleRestHeightOptimization(rest_height_optimizer)"
   ]
  },
  {
   "cell_type": "code",
   "execution_count": null,
   "id": "c942fdbd",
   "metadata": {},
   "outputs": [],
   "source": [
    "class UmbrellaOptimizationCallback:\n",
    "    def __init__(self, optimizer, umbrella, view, update_color = False, no_surface = False, callback_freq = 1):\n",
    "        self.optimizer     = optimizer\n",
    "        self.umbrella       = umbrella\n",
    "        self.view  = view\n",
    "        self.update_color = update_color\n",
    "        self.no_surface    = no_surface\n",
    "        self.callback_freq = callback_freq\n",
    "        self.iterateData = []\n",
    "\n",
    "    def __call__(self):\n",
    "        if self.view and (len(self.iterateData) % self.callback_freq == 0):\n",
    "            if self.update_color:\n",
    "                self.view.showScalarField(rod_colors)\n",
    "            else:\n",
    "                pass\n",
    "                self.view.update()\n",
    "        return\n",
    "\n",
    "    def numIterations(self): return len(self.iterateData)"
   ]
  },
  {
   "cell_type": "code",
   "execution_count": null,
   "id": "1dafe2e5",
   "metadata": {},
   "outputs": [],
   "source": [
    "algorithm = umbrella_optimization.OptAlgorithm.NEWTON_CG\n",
    "cb = UmbrellaOptimizationCallback(single_rest_height_optimizer, curr_um, view, True, False, 1)"
   ]
  },
  {
   "cell_type": "code",
   "execution_count": null,
   "id": "4bd06189",
   "metadata": {},
   "outputs": [],
   "source": [
    "solverStatus = umbrella_optimization.optimize(single_rest_height_optimizer, algorithm, 20, 1.0, 1e-2, cb, -1)"
   ]
  },
  {
   "cell_type": "code",
   "execution_count": null,
   "id": "8086bd18",
   "metadata": {},
   "outputs": [],
   "source": [
    "solverStatus"
   ]
  },
  {
   "cell_type": "code",
   "execution_count": null,
   "id": "da6a4edd",
   "metadata": {},
   "outputs": [],
   "source": [
    "curr_um.getDesignParameters()"
   ]
  },
  {
   "cell_type": "code",
   "execution_count": null,
   "id": "79af66a9",
   "metadata": {},
   "outputs": [],
   "source": [
    "rest_height_optimizer.params()"
   ]
  },
  {
   "cell_type": "code",
   "execution_count": null,
   "id": "f7be7866",
   "metadata": {},
   "outputs": [],
   "source": [
    "import numpy.linalg as la"
   ]
  },
  {
   "cell_type": "code",
   "execution_count": null,
   "id": "ed86426a",
   "metadata": {},
   "outputs": [],
   "source": []
  }
 ],
 "metadata": {
  "kernelspec": {
   "display_name": "umbrella_mesh",
   "language": "python",
   "name": "umbrella_mesh"
  },
  "language_info": {
   "codemirror_mode": {
    "name": "ipython",
    "version": 3
   },
   "file_extension": ".py",
   "mimetype": "text/x-python",
   "name": "python",
   "nbconvert_exporter": "python",
   "pygments_lexer": "ipython3",
   "version": "3.9.7"
  }
 },
 "nbformat": 4,
 "nbformat_minor": 5
}
