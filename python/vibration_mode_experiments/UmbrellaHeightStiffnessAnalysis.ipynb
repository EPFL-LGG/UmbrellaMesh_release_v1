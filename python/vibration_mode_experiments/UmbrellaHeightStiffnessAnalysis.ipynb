{
 "cells": [
  {
   "cell_type": "code",
   "execution_count": null,
   "id": "4ca11055",
   "metadata": {},
   "outputs": [],
   "source": [
    "#!/usr/bin/env python\n",
    "# coding: utf-8\n",
    "import sys\n",
    "sys.path.append('..')\n",
    "import umbrella_mesh\n",
    "import elastic_rods\n",
    "import linkage_vis\n",
    "from umbrella_mesh import UmbrellaEnergyType\n",
    "from bending_validation import suppress_stdout as so\n",
    "from visualization_helper import *\n",
    "\n",
    "import pipeline_helper, importlib, design_optimization_analysis\n",
    "with so(): importlib.reload(pipeline_helper)\n",
    "with so(): importlib.reload(design_optimization_analysis)\n",
    "\n",
    "from pipeline_helper import UmbrellaOptimizationCallback, allEnergies, allGradientNorms, allDesignObjectives, allDesignGradientNorms, set_joint_vector_field, show_center_joint_normal, show_joint_normal\n",
    "\n",
    "from design_optimization_analysis import DesignOptimizationAnalysis\n",
    "\n",
    "import umbrella_optimization\n",
    "import umbrella_optimization_finite_diff\n",
    "from umbrella_optimization import OptEnergyType\n",
    "\n",
    "import numpy as np\n",
    "import numpy.linalg as la\n",
    "\n",
    "import pickle, gzip\n",
    "\n",
    "from configuration import *"
   ]
  },
  {
   "cell_type": "markdown",
   "id": "7c6ab795",
   "metadata": {},
   "source": [
    "### Initialization"
   ]
  },
  {
   "cell_type": "code",
   "execution_count": null,
   "id": "4175c0b8",
   "metadata": {},
   "outputs": [],
   "source": [
    "name = 'hemisphere_10t'\n",
    "input_path = '../../data/{}.json.gz'.format(name)\n",
    "\n",
    "io, input_data, target_mesh, curr_um, thickness, target_height_multiplier = parse_input(input_path)\n",
    "# target_height_multiplier = 1\n",
    "\n",
    "# curr_um = pickle.load(gzip.open('../../output/lilium_top_four_parameters_optimized_rest_state_equilibrium_2022_01_19_18_33_target_height_factor_5.0.pkl.gz', 'r'))"
   ]
  },
  {
   "cell_type": "markdown",
   "id": "8a111f7b",
   "metadata": {},
   "source": [
    "#### Pin Rigid Motion"
   ]
  },
  {
   "cell_type": "code",
   "execution_count": null,
   "id": "ec9c50f9",
   "metadata": {},
   "outputs": [],
   "source": [
    "use_pin = False\n",
    "\n",
    "driver = curr_um.centralJoint()\n",
    "jdo = curr_um.dofOffsetForJoint(driver)\n",
    "fixedVars = (list(range(jdo, jdo + 6)) if use_pin else []) + curr_um.rigidJointAngleDoFIndices()"
   ]
  },
  {
   "cell_type": "code",
   "execution_count": null,
   "id": "0efffe23",
   "metadata": {},
   "outputs": [],
   "source": [
    "import py_newton_optimizer\n",
    "OPTS = py_newton_optimizer.NewtonOptimizerOptions()\n",
    "OPTS.gradTol = 1e-8\n",
    "OPTS.verbose = 1\n",
    "OPTS.beta = 1e-6\n",
    "OPTS.niter = 300\n",
    "OPTS.verboseNonPosDef = False\n",
    "\n",
    "rod_colors = get_color_field(curr_um, input_data)\n",
    "\n",
    "# lview = linkage_vis.LinkageViewer(curr_um, width=1024, height=600)\n",
    "# lview.update(scalarField = rod_colors)\n",
    "# lview.show()\n",
    "\n",
    "import mesh\n",
    "view = linkage_vis.LinkageViewerWithSurface(curr_um, target_mesh, width=1024, height=600)\n",
    "set_surface_view_options(view, color = 'green', surface_color = 'gray', umbrella_transparent = False, surface_transparent = True)\n",
    "view.averagedMaterialFrames = True\n",
    "view.showScalarField(rod_colors)\n",
    "view.show()"
   ]
  },
  {
   "cell_type": "code",
   "execution_count": null,
   "id": "4709a197",
   "metadata": {},
   "outputs": [],
   "source": [
    "view.getCameraParams()\n",
    "\n",
    "view.getSize()"
   ]
  },
  {
   "cell_type": "code",
   "execution_count": null,
   "id": "59e7606c",
   "metadata": {},
   "outputs": [],
   "source": [
    "from equilibrium_solve_analysis import EquilibriumSolveAnalysis\n",
    "eqays = EquilibriumSolveAnalysis(curr_um)\n",
    "def eqm_callback(prob, i):\n",
    "    eqays.record(prob)\n",
    "    if (i % 2 == 0):\n",
    "        view.showScalarField(rod_colors)\n",
    "\n",
    "configure_umbrella_pre_deployment(curr_um, thickness, target_height_multiplier)\n",
    "\n",
    "allGradientNorms(curr_um)"
   ]
  },
  {
   "cell_type": "code",
   "execution_count": null,
   "id": "e0ba3aac",
   "metadata": {},
   "outputs": [],
   "source": [
    "break_input_angle_symmetry(curr_um)\n",
    "\n",
    "view.showScalarField(rod_colors)\n",
    "\n",
    "results = staged_deployment(curr_um, np.logspace(-3, 0, 4), eqm_callback, OPTS, fixedVars)\n",
    "\n",
    "results.success"
   ]
  },
  {
   "cell_type": "code",
   "execution_count": null,
   "id": "e7437f66",
   "metadata": {},
   "outputs": [],
   "source": [
    "eqays.plot()"
   ]
  },
  {
   "cell_type": "markdown",
   "id": "e41861a4",
   "metadata": {},
   "source": [
    "### Initialize Design Optimization"
   ]
  },
  {
   "cell_type": "code",
   "execution_count": null,
   "id": "26240867",
   "metadata": {
    "scrolled": true
   },
   "outputs": [],
   "source": [
    "configure_umbrella_optimization(curr_um)\n",
    "\n",
    "import py_newton_optimizer\n",
    "opt_opts = py_newton_optimizer.NewtonOptimizerOptions()\n",
    "opt_opts.gradTol = 1e-8\n",
    "opt_opts.verbose = 10\n",
    "opt_opts.beta = 1e-6\n",
    "opt_opts.niter = 600\n",
    "opt_opts.verboseNonPosDef = False\n",
    "\n",
    "results = umbrella_mesh.compute_equilibrium(curr_um, callback = eqm_callback, options = opt_opts, fixedVars = fixedVars, elasticEnergyIncreaseFactorLimit=2.5)\n",
    "\n",
    "opt_opts.niter = 50\n",
    "\n",
    "results.success"
   ]
  },
  {
   "cell_type": "code",
   "execution_count": null,
   "id": "7605056d",
   "metadata": {},
   "outputs": [],
   "source": [
    "optimizer = umbrella_optimization.UmbrellaOptimization(curr_um, opt_opts, 2.5, -1, False, fixedVars)\n",
    "\n",
    "optimizer.beta = 1 * 1e6\n",
    "optimizer.gamma = 1\n",
    "optimizer.eta = 0\n",
    "optimizer.zeta = 0# 1e1\n",
    "\n",
    "rest_height_optimizer = umbrella_optimization.UmbrellaRestHeightsOptimization(optimizer)\n",
    "single_rest_height_optimizer = umbrella_optimization.UmbrellaSingleRestHeightOptimization(rest_height_optimizer)\n",
    "\n",
    "rest_height_optimizer.newPt(rest_height_optimizer.params())\n",
    "\n",
    "original_design_parameters = rest_height_optimizer.params()\n",
    "\n",
    "doptays = DesignOptimizationAnalysis(rest_height_optimizer)\n",
    "def eqm_callback(prob, i):\n",
    "    eqays.record(prob)\n",
    "    if (i % 2 == 0):\n",
    "        view.showScalarField(rod_colors)\n",
    "\n",
    "import time\n",
    "pipeline_helper.prev_time_stamp = time.time()\n",
    "\n",
    "uo = rest_height_optimizer.get_parent_opt()\n",
    "\n",
    "uo.equilibriumOptimizer.options.verbose = 1\n",
    "#uo.equilibriumOptimizer.options.verboseWorkingSet = True\n",
    "uo.equilibriumOptimizer.options.gradTol = 1e-10\n",
    "# Hold the closest points fixed in the target-attraction term of the equilibrium solve:\n",
    "# this seems to make the design optimization much more robust.\n",
    "uo.setHoldClosestPointsFixed(True, False)"
   ]
  },
  {
   "cell_type": "code",
   "execution_count": null,
   "id": "901e5f17",
   "metadata": {},
   "outputs": [],
   "source": [
    "tfview = pipeline_helper.TargetFittingVisualization(curr_um, uo.target_surface_fitter, view)\n",
    "cb = pipeline_helper.UmbrellaOptimizationCallback(rest_height_optimizer, view, True, False, 1, rod_colors, doptays.record, tfview=tfview)"
   ]
  },
  {
   "cell_type": "code",
   "execution_count": null,
   "id": "a4de4824",
   "metadata": {},
   "outputs": [],
   "source": [
    "algorithm = umbrella_optimization.OptAlgorithm.NEWTON_CG\n",
    "#algorithm = umbrella_optimization.OptAlgorithm.BFGS\n",
    "solverStatus = umbrella_optimization.optimize(rest_height_optimizer, algorithm, 1000, 0.005, 1e-5, cb, input_data[\"plate_edge_length\"] / 30 * 32)"
   ]
  },
  {
   "cell_type": "code",
   "execution_count": null,
   "id": "2b6a7a15",
   "metadata": {},
   "outputs": [],
   "source": [
    "import time\n",
    "\n",
    "from matplotlib import pyplot as plt\n",
    "doptays.plot()"
   ]
  },
  {
   "cell_type": "code",
   "execution_count": null,
   "id": "d015e89b",
   "metadata": {},
   "outputs": [],
   "source": [
    "rest_height_optimizer.beta, rest_height_optimizer.gamma, rest_height_optimizer.eta"
   ]
  },
  {
   "cell_type": "markdown",
   "id": "c638e115",
   "metadata": {},
   "source": [
    "### Get true equilibrium state"
   ]
  },
  {
   "cell_type": "code",
   "execution_count": null,
   "id": "5f1dff9b",
   "metadata": {
    "scrolled": true
   },
   "outputs": [],
   "source": [
    "use_pin = True\n",
    "\n",
    "driver = curr_um.centralJoint()\n",
    "jdo = curr_um.dofOffsetForJoint(driver)\n",
    "fixedVars = (list(range(jdo, jdo + 6)) if use_pin else []) + curr_um.rigidJointAngleDoFIndices()\n",
    "\n",
    "configure_umbrella_true_equlibrium(curr_um, thickness, target_height_multiplier)\n",
    "\n",
    "# curr_um.attractionWeight = 1e-3\n",
    "allEnergies(curr_um)\n",
    "\n",
    "OPTS.niter = 100\n",
    "\n",
    "results = umbrella_mesh.compute_equilibrium(curr_um, callback = eqm_callback, options = OPTS, fixedVars = fixedVars, elasticEnergyIncreaseFactorLimit=2.5)\n",
    "\n",
    "results.success"
   ]
  },
  {
   "cell_type": "markdown",
   "id": "bc28d15c",
   "metadata": {},
   "source": [
    "### Vibration Mode Analysis"
   ]
  },
  {
   "cell_type": "code",
   "execution_count": null,
   "id": "3d3a3ef9",
   "metadata": {},
   "outputs": [],
   "source": [
    "allEnergies(curr_um)"
   ]
  },
  {
   "cell_type": "code",
   "execution_count": null,
   "id": "0ce7ce1d",
   "metadata": {},
   "outputs": [],
   "source": [
    "import compute_vibrational_modes"
   ]
  },
  {
   "cell_type": "code",
   "execution_count": null,
   "id": "519eed00",
   "metadata": {},
   "outputs": [],
   "source": [
    "class ModalAnalysisWrapper:\n",
    "    def __init__(self, um):\n",
    "        self.um = um\n",
    "    def hessian(self):\n",
    "        return self.um.hessian(umbrellaEnergyType=umbrella_mesh.UmbrellaEnergyType.Full)\n",
    "    def massMatrix(self): return self.um.massMatrix()\n",
    "    def lumpedMassMatrix(self): return self.um.lumpedMassMatrix()"
   ]
  },
  {
   "cell_type": "code",
   "execution_count": null,
   "id": "b6cd9284",
   "metadata": {},
   "outputs": [],
   "source": [
    "lambdas, modes = compute_vibrational_modes.compute_vibrational_modes(ModalAnalysisWrapper(curr_um), fixedVars=curr_um.rigidJointAngleDoFIndices(), mtype=compute_vibrational_modes.MassMatrixType.FULL, n=16, sigma=-1e-6)\n",
    "\n",
    "import mode_viewer, importlib\n",
    "importlib.reload(mode_viewer);\n",
    "mview = mode_viewer.ModeViewer(curr_um, modes, lambdas, amplitude=2.0)\n",
    "# mview.showScalarField(rod_colors)\n",
    "mview.show()"
   ]
  },
  {
   "cell_type": "code",
   "execution_count": null,
   "id": "fc620a1b",
   "metadata": {},
   "outputs": [],
   "source": [
    "modeVector = modes[:, 0]\n",
    "paramVelocity = curr_um.approxLinfVelocity(modeVector)\n",
    "normalizedOffset = modeVector * (curr_um.characteristicLength() / paramVelocity)"
   ]
  }
 ],
 "metadata": {
  "kernelspec": {
   "display_name": "umbrella_mesh",
   "language": "python",
   "name": "umbrella_mesh"
  },
  "language_info": {
   "codemirror_mode": {
    "name": "ipython",
    "version": 3
   },
   "file_extension": ".py",
   "mimetype": "text/x-python",
   "name": "python",
   "nbconvert_exporter": "python",
   "pygments_lexer": "ipython3",
   "version": "3.9.7"
  }
 },
 "nbformat": 4,
 "nbformat_minor": 5
}
