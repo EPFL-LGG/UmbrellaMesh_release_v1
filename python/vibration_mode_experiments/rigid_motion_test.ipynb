{
 "cells": [
  {
   "cell_type": "code",
   "execution_count": null,
   "id": "06814c61",
   "metadata": {},
   "outputs": [],
   "source": [
    "import sys\n",
    "sys.path.append('..')\n",
    "import umbrella_mesh\n",
    "import elastic_rods\n",
    "import linkage_vis\n",
    "from umbrella_mesh import UmbrellaEnergyType\n",
    "from bending_validation import suppress_stdout as so\n",
    "from visualization_helper import *"
   ]
  },
  {
   "cell_type": "code",
   "execution_count": null,
   "id": "d2904741",
   "metadata": {},
   "outputs": [],
   "source": [
    "import numpy as np"
   ]
  },
  {
   "cell_type": "code",
   "execution_count": null,
   "id": "027743dc",
   "metadata": {},
   "outputs": [],
   "source": [
    "width = 0.1\n",
    "thickness = width\n",
    "cross_section = [thickness, width]"
   ]
  },
  {
   "cell_type": "code",
   "execution_count": null,
   "id": "f93c7136",
   "metadata": {},
   "outputs": [],
   "source": [
    "input_path = '../../data/hemisphere.json'\n",
    "target_mesh_path = '../../data/target_meshes/hemisphere.obj'\n",
    "# input_path = '../../data/TB.json'\n",
    "from load_jsondata import read_data\n",
    "input_data, io = read_data(filepath = input_path)\n",
    "width = 2*input_data['arm_plate_edge_offset']\n",
    "thickness = width * 0.5 # 1.5 mm # FIX from mm to meters everywhere\n",
    "cross_section = [thickness, width]"
   ]
  },
  {
   "cell_type": "code",
   "execution_count": null,
   "id": "cf65ef8a",
   "metadata": {},
   "outputs": [],
   "source": [
    "import numpy.linalg as la"
   ]
  },
  {
   "cell_type": "code",
   "execution_count": null,
   "id": "2b6eb15d",
   "metadata": {},
   "outputs": [],
   "source": [
    "with open(\"correspondence_points.obj\", 'w') as f:\n",
    "    for pt in input_data['correspondence']:\n",
    "        if (la.norm(pt) > 0):\n",
    "            f.write(\"v {} {} {}\\n\".format(pt[0], pt[1], pt[2]))"
   ]
  },
  {
   "cell_type": "markdown",
   "id": "ef8e28bf",
   "metadata": {},
   "source": [
    "### Initialization"
   ]
  },
  {
   "cell_type": "code",
   "execution_count": null,
   "id": "3d54e378",
   "metadata": {},
   "outputs": [],
   "source": [
    "# curr_um = umbrella_mesh.UmbrellaMesh(io)\n",
    "curr_um = umbrella_mesh.UmbrellaMesh(target_mesh_path, io)"
   ]
  },
  {
   "cell_type": "code",
   "execution_count": null,
   "id": "88f2941c",
   "metadata": {},
   "outputs": [],
   "source": [
    "curr_um.setMaterial(elastic_rods.RodMaterial('rectangle', 2000, 0.3, cross_section, stiffAxis=elastic_rods.StiffAxis.D1))"
   ]
  },
  {
   "cell_type": "code",
   "execution_count": null,
   "id": "09409cd1",
   "metadata": {},
   "outputs": [],
   "source": [
    "curr_um.energy(UmbrellaEnergyType.Full)"
   ]
  },
  {
   "cell_type": "markdown",
   "id": "bec97507",
   "metadata": {},
   "source": [
    "### Pin Rigid Motion\n",
    "\n"
   ]
  },
  {
   "cell_type": "code",
   "execution_count": null,
   "id": "7c53f8a7",
   "metadata": {},
   "outputs": [],
   "source": [
    "use_pin = False"
   ]
  },
  {
   "cell_type": "code",
   "execution_count": null,
   "id": "2ec9e33e",
   "metadata": {},
   "outputs": [],
   "source": [
    "driver = curr_um.centralJoint()\n",
    "jdo = curr_um.dofOffsetForJoint(driver)\n",
    "fixedVars = (list(range(jdo, jdo + 6)) if use_pin else []) + curr_um.rigidJointAngleDoFIndices()"
   ]
  },
  {
   "cell_type": "markdown",
   "id": "71474674",
   "metadata": {},
   "source": [
    "### Equilibrium solve"
   ]
  },
  {
   "cell_type": "code",
   "execution_count": null,
   "id": "214cced8",
   "metadata": {},
   "outputs": [],
   "source": [
    "import py_newton_optimizer\n",
    "OPTS = py_newton_optimizer.NewtonOptimizerOptions()\n",
    "OPTS.gradTol = 1e-2\n",
    "OPTS.verbose = 1\n",
    "OPTS.beta = 1e-6\n",
    "OPTS.niter = 500\n",
    "OPTS.verboseNonPosDef = False"
   ]
  },
  {
   "cell_type": "code",
   "execution_count": null,
   "id": "a68a220f",
   "metadata": {},
   "outputs": [],
   "source": [
    "rod_colors = []\n",
    "for ri in range(curr_um.numSegments()):\n",
    "    rod_colors.append(np.ones(curr_um.segment(ri).rod.numVertices()) * ri)"
   ]
  },
  {
   "cell_type": "code",
   "execution_count": null,
   "id": "1feceacc",
   "metadata": {
    "tags": []
   },
   "outputs": [],
   "source": [
    "import mesh\n",
    "target_mesh = mesh.Mesh(target_mesh_path)\n",
    "view = linkage_vis.LinkageViewerWithSurface(curr_um, target_mesh, width=1024, height=600)\n",
    "# view = linkage_vis.LinkageViewer(curr_um, width=1024, height=600)\n",
    "# view.update(scalarField = rod_colors)\n",
    "set_surface_view_options(view, color = 'green', surface_color = 'gray', umbrella_transparent = False, surface_transparent = True)\n",
    "view.averagedMaterialFrames = True\n",
    "view.showScalarField(rod_colors)\n",
    "view.show()"
   ]
  },
  {
   "cell_type": "code",
   "execution_count": null,
   "id": "ba7ea71f",
   "metadata": {},
   "outputs": [],
   "source": [
    "dof = curr_um.getDoFs()\n",
    "for i in range(curr_um.numJoints()):\n",
    "    if (curr_um.joint(i).jointType() == umbrella_mesh.JointType.X):\n",
    "        dof[curr_um.dofOffsetForJoint(i) + 6] = 1e-3\n",
    "curr_um.setDoFs(dof)"
   ]
  },
  {
   "cell_type": "code",
   "execution_count": null,
   "id": "5ef02794",
   "metadata": {},
   "outputs": [],
   "source": [
    "view.update()\n",
    "view.showScalarField(rod_colors)"
   ]
  },
  {
   "cell_type": "code",
   "execution_count": null,
   "id": "26ed8f9d",
   "metadata": {
    "tags": []
   },
   "outputs": [],
   "source": [
    "angles = []\n",
    "def eqm_callback(prob, i):\n",
    "    angles.append(curr_um.getDoFs()[curr_um.jointAngleDoFIndices()])\n",
    "    if (i % 10 == 0):\n",
    "        view.update()\n",
    "        view.showScalarField(rod_colors)"
   ]
  },
  {
   "cell_type": "code",
   "execution_count": null,
   "id": "facf4841",
   "metadata": {},
   "outputs": [],
   "source": [
    "curr_um.uniformDeploymentEnergyWeight = 0.1\n",
    "# curr_um.deploymentForceType = umbrella_mesh.DeploymentForceType.Constant\n",
    "curr_um.targetDeploymentHeight = thickness * 2\n",
    "curr_um.repulsionEnergyWeight = 0\n",
    "curr_um.attractionWeight = 1000\n",
    "curr_um.setHoldClosestPointsFixed(False)\n",
    "curr_um.scaleInputPosWeights(0.5)"
   ]
  },
  {
   "cell_type": "code",
   "execution_count": null,
   "id": "d30ac98c",
   "metadata": {},
   "outputs": [],
   "source": [
    "curr_um.energyElastic(), curr_um.energyDeployment(), curr_um.energyRepulsion(), curr_um.energyAttraction()"
   ]
  },
  {
   "cell_type": "code",
   "execution_count": null,
   "id": "a5d2404d",
   "metadata": {
    "scrolled": true,
    "tags": []
   },
   "outputs": [],
   "source": [
    "results = umbrella_mesh.compute_equilibrium(curr_um, callback = eqm_callback, options = OPTS, fixedVars = fixedVars)\n",
    "view.showScalarField(rod_colors)"
   ]
  },
  {
   "cell_type": "code",
   "execution_count": null,
   "id": "9169ad83",
   "metadata": {},
   "outputs": [],
   "source": []
  }
 ],
 "metadata": {
  "kernelspec": {
   "display_name": "umbrella_mesh",
   "language": "python",
   "name": "umbrella_mesh"
  },
  "language_info": {
   "codemirror_mode": {
    "name": "ipython",
    "version": 3
   },
   "file_extension": ".py",
   "mimetype": "text/x-python",
   "name": "python",
   "nbconvert_exporter": "python",
   "pygments_lexer": "ipython3",
   "version": "3.9.7"
  }
 },
 "nbformat": 4,
 "nbformat_minor": 5
}
