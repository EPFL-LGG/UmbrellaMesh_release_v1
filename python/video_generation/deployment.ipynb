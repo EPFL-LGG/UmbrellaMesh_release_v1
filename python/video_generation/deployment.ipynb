{
 "cells": [
  {
   "cell_type": "code",
   "execution_count": null,
   "id": "6ae7a626",
   "metadata": {
    "tags": []
   },
   "outputs": [],
   "source": [
    "#!/usr/bin/env python\n",
    "# coding: utf-8\n",
    "import sys\n",
    "sys.path.append('..')\n",
    "import umbrella_mesh\n",
    "import elastic_rods\n",
    "import linkage_vis\n",
    "from umbrella_mesh import UmbrellaEnergyType\n",
    "from bending_validation import suppress_stdout as so\n",
    "from visualization_helper import *\n",
    "\n",
    "import pipeline_helper, importlib, design_optimization_analysis\n",
    "with so(): importlib.reload(pipeline_helper)\n",
    "with so(): importlib.reload(design_optimization_analysis)\n",
    "\n",
    "from pipeline_helper import UmbrellaOptimizationCallback, allEnergies, allGradientNorms, allDesignObjectives, allDesignGradientNorms, set_joint_vector_field, show_center_joint_normal, show_joint_normal\n",
    "\n",
    "from design_optimization_analysis import DesignOptimizationAnalysis\n",
    "\n",
    "import umbrella_optimization\n",
    "import umbrella_optimization_finite_diff\n",
    "from umbrella_optimization import OptEnergyType\n",
    "\n",
    "import numpy as np\n",
    "import numpy.linalg as la\n",
    "\n",
    "import pickle, gzip\n",
    "\n",
    "from configuration import *\n",
    "\n",
    "from datetime import datetime\n",
    "\n",
    "import os\n",
    "\n",
    "from load_jsondata import read_data, write_deformed_config\n",
    "import mesh\n",
    "import importlib, pipeline_helper\n",
    "\n",
    "\n",
    "importlib.reload(pipeline_helper)\n",
    "\n",
    "from pipeline_helper import set_joint_vector_field, show_center_joint_normal, show_joint_normal\n",
    "\n",
    "from equilibrium_solve_analysis import EquilibriumSolveAnalysis\n",
    "import py_newton_optimizer\n",
    "OPTS = py_newton_optimizer.NewtonOptimizerOptions()\n",
    "OPTS.gradTol = 1e-8\n",
    "OPTS.verbose = 1\n",
    "OPTS.beta = 1e-6\n",
    "OPTS.niter = 300\n",
    "OPTS.verboseNonPosDef = False\n",
    "\n",
    "import time\n",
    "\n",
    "\n",
    "import umbrella_optimization\n",
    "\n",
    "import py_newton_optimizer\n",
    "opt_opts = py_newton_optimizer.NewtonOptimizerOptions()\n",
    "opt_opts.gradTol = 1e-8\n",
    "opt_opts.verbose = 10\n",
    "opt_opts.beta = 1e-6\n",
    "opt_opts.niter = 600\n",
    "opt_opts.verboseNonPosDef = False\n",
    "\n",
    "\n",
    "import pipeline_helper, importlib, design_optimization_analysis\n",
    "with so(): importlib.reload(pipeline_helper)\n",
    "with so(): importlib.reload(design_optimization_analysis)\n",
    "\n",
    "from pipeline_helper import UmbrellaOptimizationCallback\n",
    "\n",
    "from umbrella_optimization import OptEnergyType\n",
    "\n",
    "from design_optimization_analysis import DesignOptimizationAnalysis\n",
    "\n",
    "import pickle \n",
    "import gzip\n",
    "\n",
    "import compute_vibrational_modes\n",
    "\n",
    "from configuration import *"
   ]
  },
  {
   "cell_type": "code",
   "execution_count": null,
   "id": "e2476550",
   "metadata": {},
   "outputs": [],
   "source": [
    "# ### Initialization\n",
    "name = 'sphere_cap_0.7'\n",
    "input_path = '../../data/{}.json.gz'.format(name)\n",
    "io, input_data, target_mesh, curr_um, thickness, target_height_multiplier = parse_input(input_path)\n",
    "# curr_um = pickle.load(gzip.open('../../Optimized_model/tigridia/Copy of tigridia_optimized_rest_state_2022_01_23_16_15_target_height_factor_5.0.pkl.gz'))\n",
    "# curr_um = pickle.load(gzip.open('../../Optimized_model/sphere_cap_0.7/sphere_cap_0.7_optimized_rest_state_2022_01_24_18_35_target_height_factor_5.0.pkl.gz', 'r'))\n",
    "curr_um = pickle.load(gzip.open('sphere_cap_0.7_rest_state.pkl.gz'))"
   ]
  },
  {
   "cell_type": "code",
   "execution_count": null,
   "id": "f1ddc27b",
   "metadata": {},
   "outputs": [],
   "source": [
    "# #### Pin Rigid Motion\n",
    "# \n",
    "# \n",
    "use_pin = False\n",
    "\n",
    "driver = curr_um.centralJoint()\n",
    "jdo = curr_um.dofOffsetForJoint(driver)\n",
    "fixedVars = (list(range(jdo, jdo + 6)) if use_pin else []) + curr_um.rigidJointAngleDoFIndices()"
   ]
  },
  {
   "cell_type": "code",
   "execution_count": null,
   "id": "6b896a0a",
   "metadata": {},
   "outputs": [],
   "source": [
    "rod_colors = get_color_field(curr_um, input_data)\n",
    "\n",
    "view = linkage_vis.LinkageViewerWithSurface(curr_um, target_mesh, width=1024, height=512)\n",
    "set_surface_view_options(view, color = 'green', surface_color = 'gray', umbrella_transparent = False, surface_transparent = True)\n",
    "view.averagedMaterialFrames = True\n",
    "view.showScalarField(rod_colors)\n",
    "view.show()"
   ]
  },
  {
   "cell_type": "code",
   "execution_count": null,
   "id": "e7e28e70",
   "metadata": {},
   "outputs": [],
   "source": [
    "# np.save('{}_cam_view.npy'.format(name), view.getCameraParams())"
   ]
  },
  {
   "cell_type": "code",
   "execution_count": null,
   "id": "8a3d6ddb",
   "metadata": {},
   "outputs": [],
   "source": [
    "# view.setCameraParams(tuple([tuple(pt) for pt in np.load('{}_cam_view.npy'.format(name))]))"
   ]
  },
  {
   "cell_type": "markdown",
   "id": "d955a9cc",
   "metadata": {},
   "source": [
    "### Offscreen render"
   ]
  },
  {
   "cell_type": "code",
   "execution_count": null,
   "id": "7209a995",
   "metadata": {
    "tags": []
   },
   "outputs": [],
   "source": [
    "import OffscreenRenderer"
   ]
  },
  {
   "cell_type": "code",
   "execution_count": null,
   "id": "2913302d",
   "metadata": {},
   "outputs": [],
   "source": [
    "width = 3840\n",
    "height = 2160"
   ]
  },
  {
   "cell_type": "code",
   "execution_count": null,
   "id": "a422b2d9",
   "metadata": {},
   "outputs": [],
   "source": [
    "render = view.offscreenRenderer(width, height)"
   ]
  },
  {
   "cell_type": "code",
   "execution_count": null,
   "id": "a5f257de",
   "metadata": {},
   "outputs": [],
   "source": [
    "def render_callback(prob, i):\n",
    "    view.showScalarField(rod_colors)\n",
    "    geometry = view.getVisualizationGeometry()\n",
    "    render.updateMeshData(geometry[0], geometry[2], rod_colors.colors())\n",
    "    vw.writeFrame()"
   ]
  },
  {
   "cell_type": "code",
   "execution_count": null,
   "id": "5f7d3f0a",
   "metadata": {},
   "outputs": [],
   "source": [
    "def eqm_callback(prob, i):\n",
    "    view.showScalarField(rod_colors)"
   ]
  },
  {
   "cell_type": "markdown",
   "id": "83fad39a",
   "metadata": {},
   "source": [
    "### Undeployment"
   ]
  },
  {
   "cell_type": "code",
   "execution_count": null,
   "id": "29ea2398",
   "metadata": {
    "scrolled": true
   },
   "outputs": [],
   "source": [
    "# use_pin = False\n",
    "\n",
    "# driver = curr_um.centralJoint()\n",
    "# jdo = curr_um.dofOffsetForJoint(driver)\n",
    "# fixedVars = (list(range(jdo, jdo + 6)) if use_pin else []) + curr_um.rigidJointAngleDoFIndices()\n",
    "\n",
    "# configure_umbrella_undeployment_step_one(curr_um, thickness, target_height_multiplier)\n",
    "\n",
    "# OPTS.niter = 10\n",
    "\n",
    "# results = umbrella_mesh.compute_equilibrium(curr_um, callback = eqm_callback, options = OPTS, fixedVars = fixedVars, elasticEnergyIncreaseFactorLimit=2.5)\n",
    "# results.success\n",
    "# configure_umbrella_undeployment_step_two(curr_um)\n",
    "\n",
    "# curr_um.attractionWeight = 0\n",
    "\n",
    "# OPTS.niter = 100\n",
    "\n",
    "# results = umbrella_mesh.compute_equilibrium(curr_um, callback = eqm_callback, options = OPTS, fixedVars = fixedVars, elasticEnergyIncreaseFactorLimit=2.5)\n",
    "# results.success\n",
    "\n",
    "# pickle.dump(curr_um, gzip.open('tigridia_rest_state.pkl.gz'.format(name, time.strftime(\"%Y_%m_%d_%H_%M\"), target_height_multiplier), 'w'))"
   ]
  },
  {
   "cell_type": "code",
   "execution_count": null,
   "id": "8368d095",
   "metadata": {},
   "outputs": [],
   "source": [
    "# pickle.dump(curr_um, gzip.open('{}_rest_state.pkl.gz'.format(name), 'w'))"
   ]
  },
  {
   "cell_type": "markdown",
   "id": "886992a7",
   "metadata": {},
   "source": [
    "### Deployment"
   ]
  },
  {
   "cell_type": "code",
   "execution_count": null,
   "id": "1a5c1fe0",
   "metadata": {},
   "outputs": [],
   "source": [
    "use_pin = False\n",
    "\n",
    "driver = curr_um.centralJoint()\n",
    "jdo = curr_um.dofOffsetForJoint(driver)\n",
    "fixedVars = (list(range(jdo, jdo + 6)) if use_pin else []) + curr_um.rigidJointAngleDoFIndices()\n",
    "\n"
   ]
  },
  {
   "cell_type": "code",
   "execution_count": null,
   "id": "138024cc",
   "metadata": {},
   "outputs": [],
   "source": [
    "configure_umbrella_pre_deployment(curr_um, thickness, target_height_multiplier)\n",
    "\n",
    "\n",
    "curr_um.attractionWeight = 1e-3\n",
    "curr_um.scaleInputPosWeights(0.5, bdryMultiplier = 0.0)"
   ]
  },
  {
   "cell_type": "code",
   "execution_count": null,
   "id": "9c6006f8",
   "metadata": {},
   "outputs": [],
   "source": [
    "allGradientNorms(curr_um)\n",
    "\n",
    "break_input_angle_symmetry(curr_um)\n",
    "\n",
    "view.showScalarField(rod_colors)\n",
    "vw = OffscreenRenderer.video_writer.MeshRendererVideoWriter('{}_deployment.mp4'.format(name), render, outWidth = 1920, outHeight = 1080)"
   ]
  },
  {
   "cell_type": "code",
   "execution_count": null,
   "id": "95c00725",
   "metadata": {},
   "outputs": [],
   "source": [
    "results = staged_deployment(curr_um, np.logspace(-6, -3, 6), render_callback, OPTS, fixedVars)"
   ]
  },
  {
   "cell_type": "code",
   "execution_count": null,
   "id": "4652ee85",
   "metadata": {},
   "outputs": [],
   "source": [
    "curr_um.attractionWeight = 1e-5\n",
    "curr_um.scaleInputPosWeights(0.1, bdryMultiplier = 0.0)"
   ]
  },
  {
   "cell_type": "code",
   "execution_count": null,
   "id": "4309d1c9",
   "metadata": {},
   "outputs": [],
   "source": [
    "results = staged_deployment(curr_um, np.logspace(-3, 0, 6), render_callback, OPTS, fixedVars)"
   ]
  },
  {
   "cell_type": "code",
   "execution_count": null,
   "id": "a5f1862d",
   "metadata": {},
   "outputs": [],
   "source": [
    "vw.finish()"
   ]
  },
  {
   "cell_type": "code",
   "execution_count": null,
   "id": "06f4a6b3",
   "metadata": {},
   "outputs": [],
   "source": []
  },
  {
   "cell_type": "code",
   "execution_count": null,
   "id": "50141ba1",
   "metadata": {},
   "outputs": [],
   "source": []
  }
 ],
 "metadata": {
  "kernelspec": {
   "display_name": "umbrella_mesh",
   "language": "python",
   "name": "umbrella_mesh"
  },
  "language_info": {
   "codemirror_mode": {
    "name": "ipython",
    "version": 3
   },
   "file_extension": ".py",
   "mimetype": "text/x-python",
   "name": "python",
   "nbconvert_exporter": "python",
   "pygments_lexer": "ipython3",
   "version": "3.9.7"
  }
 },
 "nbformat": 4,
 "nbformat_minor": 5
}
