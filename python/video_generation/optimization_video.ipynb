{
 "cells": [
  {
   "cell_type": "code",
   "execution_count": null,
   "id": "ca4ee524",
   "metadata": {
    "tags": []
   },
   "outputs": [],
   "source": [
    "#!/usr/bin/env python\n",
    "# coding: utf-8\n",
    "import sys\n",
    "sys.path.append('..')\n",
    "import umbrella_mesh\n",
    "import elastic_rods\n",
    "import linkage_vis\n",
    "from umbrella_mesh import UmbrellaEnergyType\n",
    "from bending_validation import suppress_stdout as so\n",
    "from visualization_helper import *\n",
    "\n",
    "import pipeline_helper, importlib, design_optimization_analysis\n",
    "with so(): importlib.reload(pipeline_helper)\n",
    "with so(): importlib.reload(design_optimization_analysis)\n",
    "\n",
    "from pipeline_helper import UmbrellaOptimizationCallback, allEnergies, allGradientNorms, allDesignObjectives, allDesignGradientNorms, set_joint_vector_field, show_center_joint_normal, show_joint_normal\n",
    "\n",
    "from design_optimization_analysis import DesignOptimizationAnalysis\n",
    "\n",
    "import umbrella_optimization\n",
    "import umbrella_optimization_finite_diff\n",
    "from umbrella_optimization import OptEnergyType\n",
    "\n",
    "import numpy as np\n",
    "import numpy.linalg as la\n",
    "\n",
    "import pickle, gzip\n",
    "\n",
    "from configuration import *\n",
    "\n",
    "from datetime import datetime\n",
    "\n",
    "import os\n",
    "\n",
    "from load_jsondata import read_data, write_deformed_config\n",
    "import mesh\n",
    "import importlib, pipeline_helper\n",
    "\n",
    "from equilibrium_solve_analysis import EquilibriumSolveAnalysis\n",
    "import py_newton_optimizer\n",
    "OPTS = py_newton_optimizer.NewtonOptimizerOptions()\n",
    "OPTS.gradTol = 1e-8\n",
    "OPTS.verbose = 1\n",
    "OPTS.beta = 1e-6\n",
    "OPTS.niter = 300\n",
    "OPTS.verboseNonPosDef = False\n",
    "\n",
    "import time\n",
    "\n",
    "\n",
    "import umbrella_optimization\n",
    "\n",
    "import py_newton_optimizer\n",
    "opt_opts = py_newton_optimizer.NewtonOptimizerOptions()\n",
    "opt_opts.gradTol = 1e-8\n",
    "opt_opts.verbose = 10\n",
    "opt_opts.beta = 1e-6\n",
    "opt_opts.niter = 600\n",
    "opt_opts.verboseNonPosDef = False\n",
    "\n",
    "\n",
    "import pickle \n",
    "import gzip\n",
    "\n",
    "import compute_vibrational_modes\n",
    "\n",
    "from configuration import *"
   ]
  },
  {
   "cell_type": "code",
   "execution_count": null,
   "id": "c01ca4fb",
   "metadata": {},
   "outputs": [],
   "source": [
    "# ### Initialization\n",
    "name = 'tigridia'\n",
    "input_path = '../../data/{}.json.gz'.format(name)\n",
    "io, input_data, target_mesh, curr_um, thickness, target_height_multiplier = parse_input(input_path)\n",
    "# curr_um = pickle.load(gzip.open('../../Optimized_model/tigridia/Copy of tigridia_optimized_rest_state_2022_01_23_16_15_target_height_factor_5.0.pkl.gz'))\n",
    "curr_um = pickle.load(gzip.open('../../python/optimization_experiments/2022_01_25_14_46_tigridia/tigridia_input_equilibrium_2022_01_25_14_46_target_height_factor_5.0.pkl.gz', 'r'))"
   ]
  },
  {
   "cell_type": "code",
   "execution_count": null,
   "id": "05ef7b0c",
   "metadata": {},
   "outputs": [],
   "source": [
    "# #### Pin Rigid Motion\n",
    "# \n",
    "# \n",
    "use_pin = False\n",
    "\n",
    "driver = curr_um.centralJoint()\n",
    "jdo = curr_um.dofOffsetForJoint(driver)\n",
    "fixedVars = (list(range(jdo, jdo + 6)) if use_pin else []) + curr_um.rigidJointAngleDoFIndices()"
   ]
  },
  {
   "cell_type": "code",
   "execution_count": null,
   "id": "8987b4e6",
   "metadata": {},
   "outputs": [],
   "source": [
    "rod_colors = get_color_field(curr_um, input_data)\n",
    "\n",
    "view = linkage_vis.LinkageViewerWithSurface(curr_um, target_mesh, width=1024, height=512)\n",
    "set_surface_view_options(view, color = 'green', surface_color = 'gray', umbrella_transparent = False, surface_transparent = True)\n",
    "view.averagedMaterialFrames = True\n",
    "view.showScalarField(rod_colors)\n",
    "view.show()"
   ]
  },
  {
   "cell_type": "code",
   "execution_count": null,
   "id": "08f3de82",
   "metadata": {},
   "outputs": [],
   "source": [
    "# np.save('{}_cam_view.npy'.format(name), view.getCameraParams())"
   ]
  },
  {
   "cell_type": "code",
   "execution_count": null,
   "id": "19294557",
   "metadata": {},
   "outputs": [],
   "source": [
    "# view.setCameraParams(tuple([tuple(pt) for pt in np.load('{}_cam_view.npy'.format(name))]))"
   ]
  },
  {
   "cell_type": "code",
   "execution_count": null,
   "id": "b846f9d6",
   "metadata": {},
   "outputs": [],
   "source": [
    "import time\n",
    "time_stamp = time.strftime(\"%Y_%m_%d_%H_%M\")\n",
    "import os\n",
    "output_folder = '{}_{}'.format(time_stamp, name)\n",
    "if not os.path.exists(output_folder):\n",
    "    os.makedirs(output_folder)  "
   ]
  },
  {
   "cell_type": "markdown",
   "id": "2d5c6e86",
   "metadata": {},
   "source": [
    "### Offscreen render"
   ]
  },
  {
   "cell_type": "code",
   "execution_count": null,
   "id": "a1e24976",
   "metadata": {
    "tags": []
   },
   "outputs": [],
   "source": [
    "import OffscreenRenderer"
   ]
  },
  {
   "cell_type": "code",
   "execution_count": null,
   "id": "f48530dd",
   "metadata": {},
   "outputs": [],
   "source": [
    "width = 3840\n",
    "height = 2160"
   ]
  },
  {
   "cell_type": "code",
   "execution_count": null,
   "id": "49d9589e",
   "metadata": {},
   "outputs": [],
   "source": [
    "render = view.offscreenRenderer(width, height)"
   ]
  },
  {
   "cell_type": "code",
   "execution_count": null,
   "id": "2b86c9d1",
   "metadata": {},
   "outputs": [],
   "source": [
    "def render_callback(prob, i):\n",
    "    view.showScalarField(rod_colors)\n",
    "    geometry = view.getVisualizationGeometry()\n",
    "    render.updateMeshData(geometry[0], geometry[2], rod_colors.colors())\n",
    "    vw.writeFrame()"
   ]
  },
  {
   "cell_type": "code",
   "execution_count": null,
   "id": "a84e62bb",
   "metadata": {},
   "outputs": [],
   "source": [
    "def eqm_callback(prob, i):\n",
    "    view.showScalarField(rod_colors)"
   ]
  },
  {
   "cell_type": "code",
   "execution_count": null,
   "id": "bcce94c8",
   "metadata": {},
   "outputs": [],
   "source": [
    "def optimization_render():\n",
    "    geometry = view.getVisualizationGeometry()\n",
    "    render.updateMeshData(geometry[0], geometry[2], rod_colors.colors())\n",
    "    vw.writeFrame()"
   ]
  },
  {
   "cell_type": "markdown",
   "id": "aa48d787",
   "metadata": {},
   "source": [
    "### Undeployment"
   ]
  },
  {
   "cell_type": "code",
   "execution_count": null,
   "id": "6f68bdff",
   "metadata": {
    "scrolled": true
   },
   "outputs": [],
   "source": [
    "# use_pin = False\n",
    "\n",
    "# driver = curr_um.centralJoint()\n",
    "# jdo = curr_um.dofOffsetForJoint(driver)\n",
    "# fixedVars = (list(range(jdo, jdo + 6)) if use_pin else []) + curr_um.rigidJointAngleDoFIndices()\n",
    "\n",
    "# configure_umbrella_undeployment_step_one(curr_um, thickness, target_height_multiplier)\n",
    "\n",
    "# OPTS.niter = 10\n",
    "\n",
    "# results = umbrella_mesh.compute_equilibrium(curr_um, callback = eqm_callback, options = OPTS, fixedVars = fixedVars, elasticEnergyIncreaseFactorLimit=2.5)\n",
    "# results.success\n",
    "# configure_umbrella_undeployment_step_two(curr_um)\n",
    "\n",
    "# curr_um.attractionWeight = 0\n",
    "\n",
    "# OPTS.niter = 100\n",
    "\n",
    "# results = umbrella_mesh.compute_equilibrium(curr_um, callback = eqm_callback, options = OPTS, fixedVars = fixedVars, elasticEnergyIncreaseFactorLimit=2.5)\n",
    "# results.success\n",
    "\n",
    "# pickle.dump(curr_um, gzip.open('{}_rest_state.pkl.gz'.format(name), 'w'))"
   ]
  },
  {
   "cell_type": "markdown",
   "id": "6cab57f7",
   "metadata": {},
   "source": [
    "### Deployment"
   ]
  },
  {
   "cell_type": "code",
   "execution_count": null,
   "id": "4c92f482",
   "metadata": {},
   "outputs": [],
   "source": [
    "# use_pin = False\n",
    "\n",
    "# driver = curr_um.centralJoint()\n",
    "# jdo = curr_um.dofOffsetForJoint(driver)\n",
    "# fixedVars = (list(range(jdo, jdo + 6)) if use_pin else []) + curr_um.rigidJointAngleDoFIndices()\n",
    "\n",
    "\n",
    "\n",
    "# configure_umbrella_pre_deployment(curr_um, thickness, target_height_multiplier)\n",
    "\n",
    "# break_input_angle_symmetry(curr_um)\n",
    "# results = umbrella_mesh.compute_equilibrium(curr_um, callback = eqm_callback, options = OPTS, fixedVars = fixedVars, elasticEnergyIncreaseFactorLimit=2.5)"
   ]
  },
  {
   "cell_type": "markdown",
   "id": "387ce3d5",
   "metadata": {},
   "source": [
    "### TSF Optimization"
   ]
  },
  {
   "cell_type": "code",
   "execution_count": null,
   "id": "14933317",
   "metadata": {},
   "outputs": [],
   "source": [
    "import pipeline_helper, importlib\n",
    "with so(): importlib.reload(pipeline_helper)"
   ]
  },
  {
   "cell_type": "code",
   "execution_count": null,
   "id": "ae54add1",
   "metadata": {},
   "outputs": [],
   "source": [
    "# ### Initialize Design Optimization\n",
    "configure_umbrella_optimization(curr_um, bdryMultiplier = 1)\n",
    "\n",
    "import py_newton_optimizer\n",
    "opt_opts = py_newton_optimizer.NewtonOptimizerOptions()\n",
    "opt_opts.gradTol = 1e-8\n",
    "opt_opts.verbose = 10\n",
    "opt_opts.beta = 1e-6\n",
    "opt_opts.niter = 600\n",
    "opt_opts.verboseNonPosDef = False\n",
    "\n",
    "results = umbrella_mesh.compute_equilibrium(curr_um, callback = eqm_callback, options = opt_opts, fixedVars = fixedVars, elasticEnergyIncreaseFactorLimit=2.5)\n",
    "\n",
    "opt_opts.niter = 50\n",
    "\n",
    "results.success\n",
    "\n",
    "# Run target surface fitting first\n",
    "\n",
    "optimizer = umbrella_optimization.UmbrellaOptimization(curr_um, opt_opts, 2.5, -1, False, fixedVars)"
   ]
  },
  {
   "cell_type": "code",
   "execution_count": null,
   "id": "724ad51a",
   "metadata": {},
   "outputs": [],
   "source": [
    "vw = OffscreenRenderer.video_writer.MeshRendererVideoWriter('{}_tsf_optimization.mp4'.format(name), render, outWidth = 1920, outHeight = 1080)"
   ]
  },
  {
   "cell_type": "code",
   "execution_count": null,
   "id": "52bc4d16",
   "metadata": {},
   "outputs": [],
   "source": [
    "optimizer.beta = 1 * 1e6\n",
    "optimizer.gamma = 1\n",
    "optimizer.eta = 0\n",
    "optimizer.zeta = 0# 1e1\n",
    "optimizer.iota = 0\n",
    "\n",
    "rest_height_optimizer = umbrella_optimization.UmbrellaRestHeightsOptimization(optimizer)\n",
    "single_rest_height_optimizer = umbrella_optimization.UmbrellaSingleRestHeightOptimization(rest_height_optimizer)\n",
    "\n",
    "rest_height_optimizer.newPt(rest_height_optimizer.params())\n",
    "\n",
    "doptays = DesignOptimizationAnalysis(rest_height_optimizer)\n",
    "\n",
    "pipeline_helper.prev_time_stamp = time.time()\n",
    "\n",
    "uo = rest_height_optimizer.get_parent_opt()\n",
    "\n",
    "uo.equilibriumOptimizer.options.verbose = 1\n",
    "#uo.equilibriumOptimizer.options.verboseWorkingSet = True\n",
    "uo.equilibriumOptimizer.options.gradTol = 1e-10\n",
    "# Hold the closest points fixed in the target-attraction term of the equilibrium solve:\n",
    "# this seems to make the design optimization much more robust.\n",
    "uo.setHoldClosestPointsFixed(True, False)\n",
    "tfview = pipeline_helper.TargetFittingVisualization(curr_um, uo.target_surface_fitter, view)\n",
    "cb = pipeline_helper.UmbrellaOptimizationCallback(rest_height_optimizer, view, True, False, 1, rod_colors, doptays.record, tfview=tfview, osrender = optimization_render)"
   ]
  },
  {
   "cell_type": "code",
   "execution_count": null,
   "id": "540dd4a2",
   "metadata": {},
   "outputs": [],
   "source": [
    "algorithm = umbrella_optimization.OptAlgorithm.NEWTON_CG\n",
    "#algorithm = umbrella_optimization.OptAlgorithm.BFGS\n",
    "arm_length_lower_bound = input_data[\"plate_edge_length\"] / 30 * 32"
   ]
  },
  {
   "cell_type": "code",
   "execution_count": null,
   "id": "a2bee8a6",
   "metadata": {},
   "outputs": [],
   "source": [
    "solverStatus = umbrella_optimization.optimize(rest_height_optimizer, algorithm, 200, 0.005, 1e-5, cb, arm_length_lower_bound)"
   ]
  },
  {
   "cell_type": "code",
   "execution_count": null,
   "id": "1be85bff",
   "metadata": {},
   "outputs": [],
   "source": [
    "rest_height_optimizer.reset_joint_target_with_closest_points()\n",
    "curr_um.scaleInputPosWeights(0.1, bdryMultiplier = 2.0)\n",
    "\n",
    "solverStatus = umbrella_optimization.optimize(rest_height_optimizer, algorithm, 100, 0.005, 1e-5, cb, arm_length_lower_bound)"
   ]
  },
  {
   "cell_type": "code",
   "execution_count": null,
   "id": "691df40f",
   "metadata": {},
   "outputs": [],
   "source": [
    "rest_height_optimizer.beta = 1 * 1e7\n",
    "rest_height_optimizer.reset_joint_target_with_closest_points()\n",
    "curr_um.scaleInputPosWeights(0.1, bdryMultiplier = 1.0)\n",
    "\n",
    "solverStatus = umbrella_optimization.optimize(rest_height_optimizer, algorithm, 100, 0.005, 1e-5, cb, arm_length_lower_bound)"
   ]
  },
  {
   "cell_type": "code",
   "execution_count": null,
   "id": "bf312d8a",
   "metadata": {},
   "outputs": [],
   "source": [
    "vw.finish()"
   ]
  },
  {
   "cell_type": "code",
   "execution_count": null,
   "id": "42a4ccbe",
   "metadata": {
    "scrolled": true
   },
   "outputs": [],
   "source": [
    "np.save('{}/{}_tsf_arm_lengths.npy'.format(output_folder, name), doptays.armLengths)"
   ]
  },
  {
   "cell_type": "code",
   "execution_count": null,
   "id": "bff232c8",
   "metadata": {},
   "outputs": [],
   "source": [
    "# np.save('{}_tsf_cam_view.npy'.format(name), view.getCameraParams())"
   ]
  },
  {
   "cell_type": "markdown",
   "id": "d4955f52",
   "metadata": {},
   "source": [
    "### Force Optimization"
   ]
  },
  {
   "cell_type": "code",
   "execution_count": null,
   "id": "71cfa971",
   "metadata": {},
   "outputs": [],
   "source": [
    "vw = OffscreenRenderer.video_writer.MeshRendererVideoWriter('{}_force_optimization.mp4'.format(name), render, outWidth = 1920, outHeight = 1080)"
   ]
  },
  {
   "cell_type": "code",
   "execution_count": null,
   "id": "cfca1911",
   "metadata": {},
   "outputs": [],
   "source": [
    "\n",
    "optimizer.beta = 1 * 1e6\n",
    "optimizer.gamma = 1\n",
    "optimizer.eta = 0\n",
    "optimizer.zeta = 0# 1e1\n",
    "optimizer.iota = 1e10\n",
    "\n",
    "import force_analysis\n",
    "cfm = force_analysis.UmbrellaForceMagnitudes(curr_um)\n",
    "\n",
    "normalActivationThreshold = min(np.percentile(cfm[:, 0], 30), 0)\n",
    "\n",
    "optimizer.objective.terms[-1].term.normalActivationThreshold = normalActivationThreshold\n",
    "\n",
    "optimizer.objective.terms[-1].term.normalWeight = 1\n",
    "optimizer.objective.terms[-1].term.tangentialWeight = 0\n",
    "optimizer.objective.terms[-1].term.torqueWeight = 0\n",
    "\n",
    "rest_height_optimizer = umbrella_optimization.UmbrellaRestHeightsOptimization(optimizer)\n",
    "single_rest_height_optimizer = umbrella_optimization.UmbrellaSingleRestHeightOptimization(rest_height_optimizer)\n",
    "\n",
    "rest_height_optimizer.newPt(rest_height_optimizer.params())\n",
    "\n",
    "doptays = DesignOptimizationAnalysis(rest_height_optimizer)\n",
    "\n",
    "import time\n",
    "pipeline_helper.prev_time_stamp = time.time()\n",
    "\n",
    "uo = rest_height_optimizer.get_parent_opt()\n",
    "\n",
    "uo.equilibriumOptimizer.options.verbose = 1\n",
    "#uo.equilibriumOptimizer.options.verboseWorkingSet = True\n",
    "uo.equilibriumOptimizer.options.gradTol = 1e-10\n",
    "# Hold the closest points fixed in the target-attraction term of the equilibrium solve:\n",
    "# this seems to make the design optimization much more robust.\n",
    "uo.setHoldClosestPointsFixed(True, False)\n",
    "cb = pipeline_helper.UmbrellaOptimizationCallback(rest_height_optimizer, view, True, False, 1, rod_colors, doptays.record, tfview=tfview, osrender = optimization_render)\n",
    "algorithm = umbrella_optimization.OptAlgorithm.NEWTON_CG\n",
    "#algorithm = umbrella_optimization.OptAlgorithm.BFGS\n",
    "solverStatus = umbrella_optimization.optimize(rest_height_optimizer, algorithm, 300, 0.005, 1e-5, cb, arm_length_lower_bound)\n"
   ]
  },
  {
   "cell_type": "code",
   "execution_count": null,
   "id": "54ce2ce9",
   "metadata": {},
   "outputs": [],
   "source": [
    "np.save('{}/{}_force_arm_lengths.npy'.format(output_folder, name), doptays.armLengths)"
   ]
  },
  {
   "cell_type": "code",
   "execution_count": null,
   "id": "c5448016",
   "metadata": {},
   "outputs": [],
   "source": [
    "vw.finish()"
   ]
  },
  {
   "cell_type": "markdown",
   "id": "c3617e2b",
   "metadata": {},
   "source": [
    "### Render Optimized rest state"
   ]
  },
  {
   "cell_type": "code",
   "execution_count": null,
   "id": "1281c336",
   "metadata": {},
   "outputs": [],
   "source": [
    "# ### Initialization\n",
    "name = 'tigridia'\n",
    "input_path = '../../data/{}.json.gz'.format(name)\n",
    "io, input_data, target_mesh, rest_um, thickness, target_height_multiplier = parse_input(input_path, handleBoundary=True)"
   ]
  },
  {
   "cell_type": "code",
   "execution_count": null,
   "id": "5f7c0140",
   "metadata": {},
   "outputs": [],
   "source": [
    "# #### Pin Rigid Motion\n",
    "# \n",
    "# \n",
    "use_pin = True\n",
    "\n",
    "driver = rest_um.centralJoint()\n",
    "jdo = rest_um.dofOffsetForJoint(driver)\n",
    "fixedVars = (list(range(jdo, jdo + 6)) if use_pin else []) + rest_um.rigidJointAngleDoFIndices()"
   ]
  },
  {
   "cell_type": "code",
   "execution_count": null,
   "id": "5a263719",
   "metadata": {},
   "outputs": [],
   "source": [
    "rod_colors = get_rest_state_color_field(rest_um, input_data)\n",
    "\n",
    "rv = linkage_vis.LinkageViewer(rest_um, width=1024, height=512)\n",
    "rv.averagedMaterialFrames = True\n",
    "rv.update(scalarField=rod_colors)\n",
    "rv.show()"
   ]
  },
  {
   "cell_type": "code",
   "execution_count": null,
   "id": "074a8777",
   "metadata": {},
   "outputs": [],
   "source": [
    "tsf_opt_arm_lengths = np.load('{}/{}_tsf_arm_lengths.npy'.format('2022_01_26_16_25_tigridia', name))\n",
    "# force_opt_arm_lengths = np.load('{}/{}_force_arm_lengths.npy'.format(output_folder, name))"
   ]
  },
  {
   "cell_type": "code",
   "execution_count": null,
   "id": "d171faa3",
   "metadata": {},
   "outputs": [],
   "source": [
    "rest_render = rv.offscreenRenderer(width, height)"
   ]
  },
  {
   "cell_type": "code",
   "execution_count": null,
   "id": "4d4b464c",
   "metadata": {},
   "outputs": [],
   "source": [
    "vw = OffscreenRenderer.video_writer.MeshRendererVideoWriter('{}_tsf_opt_rest_state.mp4'.format(name), rest_render, outWidth = 1920, outHeight = 1080)"
   ]
  },
  {
   "cell_type": "code",
   "execution_count": null,
   "id": "93d188f1",
   "metadata": {},
   "outputs": [],
   "source": [
    "def rest_eqm_callback(prob, i):\n",
    "    rv.update(scalarField=rod_colors)"
   ]
  },
  {
   "cell_type": "code",
   "execution_count": null,
   "id": "b71cb5a4",
   "metadata": {},
   "outputs": [],
   "source": [
    "OPTS.niter = 500"
   ]
  },
  {
   "cell_type": "code",
   "execution_count": null,
   "id": "7f90ed0b",
   "metadata": {
    "scrolled": true
   },
   "outputs": [],
   "source": [
    "for armlengths in tsf_opt_arm_lengths:\n",
    "    rest_um.setPerArmRestLength(armlengths)\n",
    "    with so(): results = umbrella_mesh.compute_equilibrium(rest_um, callback = rest_eqm_callback, options = OPTS, fixedVars = fixedVars, elasticEnergyIncreaseFactorLimit=2.5)\n",
    "    rv.update(scalarField=rod_colors)\n",
    "    print(results.success)\n",
    "    geometry = rv.getVisualizationGeometry()\n",
    "    rest_render.updateMeshData(geometry[0], geometry[2], rod_colors.colors())\n",
    "    vw.writeFrame()"
   ]
  },
  {
   "cell_type": "code",
   "execution_count": null,
   "id": "007cbe48",
   "metadata": {},
   "outputs": [],
   "source": [
    "vw.finish()"
   ]
  },
  {
   "cell_type": "markdown",
   "id": "1101aacc",
   "metadata": {},
   "source": [
    "### Render tsf true equilibrium state"
   ]
  },
  {
   "cell_type": "code",
   "execution_count": null,
   "id": "8f4808a4",
   "metadata": {},
   "outputs": [],
   "source": [
    "# ### Initialization\n",
    "name = 'tigridia'\n",
    "input_path = '../../data/{}.json.gz'.format(name)\n",
    "io, input_data, target_mesh, deployed_um, thickness, target_height_multiplier = parse_input(input_path, handleBoundary=True)\n",
    "deployed_um = pickle.load(gzip.open('../../python/optimization_experiments/2022_01_25_14_46_tigridia/tigridia_tsf_equilibrium_2022_01_25_14_46_target_height_factor_5.0.pkl.gz', 'r'))"
   ]
  },
  {
   "cell_type": "code",
   "execution_count": null,
   "id": "d21e63cc",
   "metadata": {},
   "outputs": [],
   "source": [
    "# #### Pin Rigid Motion\n",
    "# \n",
    "# \n",
    "use_pin = True\n",
    "\n",
    "driver = deployed_um.centralJoint()\n",
    "jdo = deployed_um.dofOffsetForJoint(driver)\n",
    "fixedVars = (list(range(jdo, jdo + 6)) if use_pin else []) + deployed_um.rigidJointAngleDoFIndices()"
   ]
  },
  {
   "cell_type": "code",
   "execution_count": null,
   "id": "ae4e702c",
   "metadata": {},
   "outputs": [],
   "source": [
    "rod_colors = get_color_field(deployed_um, input_data)\n",
    "\n",
    "dv = linkage_vis.LinkageViewerWithSurface(deployed_um, target_mesh, width=1024, height=512)\n",
    "dv.averagedMaterialFrames = True\n",
    "set_surface_view_options(dv, color = 'green', surface_color = 'gray', umbrella_transparent = False, surface_transparent = True)\n",
    "dv.showScalarField(rod_colors)\n",
    "dv.show()"
   ]
  },
  {
   "cell_type": "code",
   "execution_count": null,
   "id": "0610c4ab",
   "metadata": {},
   "outputs": [],
   "source": [
    "tsf_opt_arm_lengths = np.load('{}/{}_tsf_arm_lengths.npy'.format('2022_01_26_16_25_tigridia', name))\n",
    "# force_opt_arm_lengths = np.load('{}/{}_force_arm_lengths.npy'.format(output_folder, name))"
   ]
  },
  {
   "cell_type": "code",
   "execution_count": null,
   "id": "9761678f",
   "metadata": {},
   "outputs": [],
   "source": [
    "dv.setCameraParams(tuple([tuple(pt) for pt in np.load('{}_tsf_cam_view.npy'.format(name))]))"
   ]
  },
  {
   "cell_type": "code",
   "execution_count": null,
   "id": "215f8126",
   "metadata": {},
   "outputs": [],
   "source": [
    "deploy_render = dv.offscreenRenderer(width, height)"
   ]
  },
  {
   "cell_type": "code",
   "execution_count": null,
   "id": "2056d970",
   "metadata": {},
   "outputs": [],
   "source": [
    "vw = OffscreenRenderer.video_writer.MeshRendererVideoWriter('{}_tsf_opt_deployed_state.mp4'.format(name), deploy_render, outWidth = 1920, outHeight = 1080)"
   ]
  },
  {
   "cell_type": "code",
   "execution_count": null,
   "id": "3fdaa013",
   "metadata": {},
   "outputs": [],
   "source": [
    "def deployed_eqm_callback(prob, i):\n",
    "    dv.showScalarField(rod_colors)"
   ]
  },
  {
   "cell_type": "code",
   "execution_count": null,
   "id": "4c138095",
   "metadata": {
    "jupyter": {
     "source_hidden": true
    }
   },
   "outputs": [],
   "source": [
    "OPTS.niter = 500"
   ]
  },
  {
   "cell_type": "code",
   "execution_count": null,
   "id": "4fbb0ffa",
   "metadata": {},
   "outputs": [],
   "source": [
    "configure_umbrella_pre_deployment(deployed_um, thickness, target_height_multiplier)\n",
    "curr_um.attractionWeight = 0"
   ]
  },
  {
   "cell_type": "code",
   "execution_count": null,
   "id": "314bd4f5",
   "metadata": {
    "scrolled": true
   },
   "outputs": [],
   "source": [
    "for armlengths in tsf_opt_arm_lengths:\n",
    "    deployed_um.setPerArmRestLength(armlengths)\n",
    "    with so(): results = umbrella_mesh.compute_equilibrium(deployed_um, callback = deployed_eqm_callback, options = OPTS, fixedVars = fixedVars, elasticEnergyIncreaseFactorLimit=2.5)\n",
    "    dv.showScalarField(rod_colors)\n",
    "\n",
    "    print(results.success)\n",
    "    geometry = dv.getVisualizationGeometry()\n",
    "    deploy_render.updateMeshData(geometry[0], geometry[2], rod_colors.colors())\n",
    "    vw.writeFrame()"
   ]
  },
  {
   "cell_type": "code",
   "execution_count": null,
   "id": "cd13f494",
   "metadata": {},
   "outputs": [],
   "source": [
    "vw.finish()"
   ]
  },
  {
   "cell_type": "markdown",
   "id": "28d32cb6",
   "metadata": {},
   "source": [
    "#### Write force optimization rest state"
   ]
  },
  {
   "cell_type": "code",
   "execution_count": null,
   "id": "8c38066f",
   "metadata": {},
   "outputs": [],
   "source": []
  },
  {
   "cell_type": "code",
   "execution_count": null,
   "id": "d289daa1",
   "metadata": {},
   "outputs": [],
   "source": [
    "vw = OffscreenRenderer.video_writer.MeshRendererVideoWriter('{}_force_opt_rest_state.mp4'.format(name), rest_render, outWidth = 1920, outHeight = 1080)"
   ]
  },
  {
   "cell_type": "code",
   "execution_count": null,
   "id": "57bc50ac",
   "metadata": {},
   "outputs": [],
   "source": [
    "def rest_eqm_callback(prob, i):\n",
    "    rv.update(scalarField=rod_colors)"
   ]
  },
  {
   "cell_type": "code",
   "execution_count": null,
   "id": "631cddd4",
   "metadata": {},
   "outputs": [],
   "source": [
    "OPTS.niter = 500"
   ]
  },
  {
   "cell_type": "code",
   "execution_count": null,
   "id": "8723a0b4",
   "metadata": {
    "scrolled": true
   },
   "outputs": [],
   "source": [
    "for armlengths in force_opt_arm_lengths:\n",
    "    rest_um.setPerArmRestLength(armlengths)\n",
    "    with so(): results = umbrella_mesh.compute_equilibrium(rest_um, callback = rest_eqm_callback, options = OPTS, fixedVars = fixedVars, elasticEnergyIncreaseFactorLimit=2.5)\n",
    "    rv.update(scalarField=rod_colors)\n",
    "    print(results.success)\n",
    "    geometry = rv.getVisualizationGeometry()\n",
    "    rest_render.updateMeshData(geometry[0], geometry[2], rod_colors.colors())\n",
    "    vw.writeFrame()"
   ]
  },
  {
   "cell_type": "code",
   "execution_count": null,
   "id": "564092cd",
   "metadata": {},
   "outputs": [],
   "source": [
    "vw.finish()"
   ]
  }
 ],
 "metadata": {
  "kernelspec": {
   "display_name": "umbrella_mesh",
   "language": "python",
   "name": "umbrella_mesh"
  },
  "language_info": {
   "codemirror_mode": {
    "name": "ipython",
    "version": 3
   },
   "file_extension": ".py",
   "mimetype": "text/x-python",
   "name": "python",
   "nbconvert_exporter": "python",
   "pygments_lexer": "ipython3",
   "version": "3.9.7"
  }
 },
 "nbformat": 4,
 "nbformat_minor": 5
}
