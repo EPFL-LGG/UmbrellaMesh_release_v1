{
 "cells": [
  {
   "cell_type": "code",
   "execution_count": null,
   "id": "dd21ff08",
   "metadata": {
    "tags": []
   },
   "outputs": [],
   "source": [
    "#!/usr/bin/env python\n",
    "# coding: utf-8\n",
    "import sys\n",
    "sys.path.append('..')\n",
    "import umbrella_mesh\n",
    "import elastic_rods\n",
    "import linkage_vis\n",
    "from umbrella_mesh import UmbrellaEnergyType\n",
    "from bending_validation import suppress_stdout as so\n",
    "from visualization_helper import *\n",
    "\n",
    "import pipeline_helper, importlib, design_optimization_analysis\n",
    "with so(): importlib.reload(pipeline_helper)\n",
    "with so(): importlib.reload(design_optimization_analysis)\n",
    "\n",
    "from pipeline_helper import UmbrellaOptimizationCallback, allEnergies, allGradientNorms, allDesignObjectives, allDesignGradientNorms, set_joint_vector_field, show_center_joint_normal, show_joint_normal\n",
    "\n",
    "from design_optimization_analysis import DesignOptimizationAnalysis\n",
    "\n",
    "import umbrella_optimization\n",
    "import umbrella_optimization_finite_diff\n",
    "from umbrella_optimization import OptEnergyType\n",
    "\n",
    "import numpy as np\n",
    "import numpy.linalg as la\n",
    "\n",
    "import pickle, gzip\n",
    "\n",
    "from configuration import *\n",
    "\n",
    "from datetime import datetime\n",
    "\n",
    "import os\n",
    "\n",
    "from load_jsondata import read_data, write_deformed_config\n",
    "import mesh\n",
    "import importlib, pipeline_helper\n",
    "\n",
    "\n",
    "importlib.reload(pipeline_helper)\n",
    "\n",
    "from pipeline_helper import set_joint_vector_field, show_center_joint_normal, show_joint_normal\n",
    "\n",
    "from equilibrium_solve_analysis import EquilibriumSolveAnalysis\n",
    "import py_newton_optimizer\n",
    "OPTS = py_newton_optimizer.NewtonOptimizerOptions()\n",
    "OPTS.gradTol = 1e-8\n",
    "OPTS.verbose = 1\n",
    "OPTS.beta = 1e-6\n",
    "OPTS.niter = 300\n",
    "OPTS.verboseNonPosDef = False\n",
    "\n",
    "import time\n",
    "\n",
    "\n",
    "import umbrella_optimization\n",
    "\n",
    "import py_newton_optimizer\n",
    "opt_opts = py_newton_optimizer.NewtonOptimizerOptions()\n",
    "opt_opts.gradTol = 1e-8\n",
    "opt_opts.verbose = 10\n",
    "opt_opts.beta = 1e-6\n",
    "opt_opts.niter = 600\n",
    "opt_opts.verboseNonPosDef = False\n",
    "\n",
    "\n",
    "import pipeline_helper, importlib, design_optimization_analysis\n",
    "with so(): importlib.reload(pipeline_helper)\n",
    "with so(): importlib.reload(design_optimization_analysis)\n",
    "\n",
    "from pipeline_helper import UmbrellaOptimizationCallback\n",
    "\n",
    "from umbrella_optimization import OptEnergyType\n",
    "\n",
    "from design_optimization_analysis import DesignOptimizationAnalysis\n",
    "\n",
    "import pickle \n",
    "import gzip\n",
    "\n",
    "import compute_vibrational_modes\n",
    "\n",
    "from configuration import *"
   ]
  },
  {
   "cell_type": "code",
   "execution_count": null,
   "id": "d0406923",
   "metadata": {},
   "outputs": [],
   "source": [
    "# ### Initialization\n",
    "name = 'squid'\n",
    "input_path = '../../data/{}.json.gz'.format(name)\n",
    "io, input_data, target_mesh, curr_um, thickness, target_height_multiplier = parse_input(input_path)\n",
    "# curr_um = pickle.load(gzip.open('../../Optimized_model/tigridia/Copy of tigridia_optimized_rest_state_2022_01_23_16_15_target_height_factor_5.0.pkl.gz'))\n",
    "# curr_um = pickle.load(gzip.open('../../python/optimization_experiments/2022_01_26_10_14_saddle_5t/saddle_5t_force_equilibrium_2022_01_26_10_14_target_height_factor_5.0.pkl.gz', 'r'))\n",
    "curr_um = pickle.load(gzip.open('saddle_5t_rest_state.pkl.gz'))"
   ]
  },
  {
   "cell_type": "code",
   "execution_count": null,
   "id": "a816c106",
   "metadata": {},
   "outputs": [],
   "source": [
    "# #### Pin Rigid Motion\n",
    "# \n",
    "# \n",
    "use_pin = False\n",
    "\n",
    "driver = curr_um.centralJoint()\n",
    "jdo = curr_um.dofOffsetForJoint(driver)\n",
    "fixedVars = (list(range(jdo, jdo + 6)) if use_pin else []) + curr_um.rigidJointAngleDoFIndices()"
   ]
  },
  {
   "cell_type": "code",
   "execution_count": null,
   "id": "47c4ef0f",
   "metadata": {},
   "outputs": [],
   "source": [
    "rod_colors = get_color_field(curr_um, input_data)\n",
    "\n",
    "view = linkage_vis.LinkageViewer(curr_um, width=1024, height=512)\n",
    "# set_surface_view_options(view, color = 'green', surface_color = 'gray', umbrella_transparent = False, surface_transparent = True)\n",
    "view.averagedMaterialFrames = True\n",
    "# view.showScalarField(rod_colors)\n",
    "view.update(scalarField=rod_colors)\n",
    "view.show()"
   ]
  },
  {
   "cell_type": "code",
   "execution_count": null,
   "id": "52bf1928",
   "metadata": {},
   "outputs": [],
   "source": [
    "# np.save('{}_cam_view.npy'.format(name), view.getCameraParams())"
   ]
  },
  {
   "cell_type": "code",
   "execution_count": null,
   "id": "9db16776",
   "metadata": {},
   "outputs": [],
   "source": [
    "# view.setCameraParams(tuple([tuple(pt) for pt in np.load('{}_cam_view.npy'.format(name))]))"
   ]
  },
  {
   "cell_type": "markdown",
   "id": "f2beffd1",
   "metadata": {},
   "source": [
    "### Offscreen render"
   ]
  },
  {
   "cell_type": "code",
   "execution_count": null,
   "id": "086f66b6",
   "metadata": {
    "tags": []
   },
   "outputs": [],
   "source": [
    "import OffscreenRenderer"
   ]
  },
  {
   "cell_type": "code",
   "execution_count": null,
   "id": "b31d9109",
   "metadata": {},
   "outputs": [],
   "source": [
    "width = 3840\n",
    "height = 2160"
   ]
  },
  {
   "cell_type": "code",
   "execution_count": null,
   "id": "337c8503",
   "metadata": {},
   "outputs": [],
   "source": [
    "render = view.offscreenRenderer(width, height)"
   ]
  },
  {
   "cell_type": "code",
   "execution_count": null,
   "id": "153fadf9",
   "metadata": {},
   "outputs": [],
   "source": [
    "def render_callback(prob, i):\n",
    "    view.update(scalarField=rod_colors)\n",
    "    geometry = view.getVisualizationGeometry()\n",
    "    render.updateMeshData(geometry[0], geometry[2], rod_colors.colors())\n",
    "    vw.writeFrame()"
   ]
  },
  {
   "cell_type": "code",
   "execution_count": null,
   "id": "8f4e7081",
   "metadata": {},
   "outputs": [],
   "source": [
    "def eqm_callback(prob, i):\n",
    "    view.showScalarField(rod_colors)"
   ]
  },
  {
   "cell_type": "markdown",
   "id": "69d5ccb8",
   "metadata": {},
   "source": [
    "### Undeployment"
   ]
  },
  {
   "cell_type": "code",
   "execution_count": null,
   "id": "71f8b2a2",
   "metadata": {
    "scrolled": true
   },
   "outputs": [],
   "source": [
    "# use_pin = False\n",
    "\n",
    "# driver = curr_um.centralJoint()\n",
    "# jdo = curr_um.dofOffsetForJoint(driver)\n",
    "# fixedVars = (list(range(jdo, jdo + 6)) if use_pin else []) + curr_um.rigidJointAngleDoFIndices()\n",
    "\n",
    "# configure_umbrella_undeployment_step_one(curr_um, thickness, target_height_multiplier)\n",
    "\n",
    "# OPTS.niter = 10\n",
    "\n",
    "# results = umbrella_mesh.compute_equilibrium(curr_um, callback = eqm_callback, options = OPTS, fixedVars = fixedVars, elasticEnergyIncreaseFactorLimit=2.5)\n",
    "# results.success\n",
    "# configure_umbrella_undeployment_step_two(curr_um)\n",
    "\n",
    "# curr_um.attractionWeight = 0\n",
    "\n",
    "# OPTS.niter = 100\n",
    "\n",
    "# results = umbrella_mesh.compute_equilibrium(curr_um, callback = eqm_callback, options = OPTS, fixedVars = fixedVars, elasticEnergyIncreaseFactorLimit=2.5)\n",
    "# results.success\n",
    "\n",
    "# pickle.dump(curr_um, gzip.open('{}_rest_state.pkl.gz'.format(name), 'w'))"
   ]
  },
  {
   "cell_type": "markdown",
   "id": "dc33b9be",
   "metadata": {},
   "source": [
    "### Deployment"
   ]
  },
  {
   "cell_type": "code",
   "execution_count": null,
   "id": "ba673225",
   "metadata": {},
   "outputs": [],
   "source": [
    "use_pin = False\n",
    "\n",
    "driver = curr_um.centralJoint()\n",
    "jdo = curr_um.dofOffsetForJoint(driver)\n",
    "fixedVars = (list(range(jdo, jdo + 6)) if use_pin else []) + curr_um.rigidJointAngleDoFIndices()\n",
    "\n"
   ]
  },
  {
   "cell_type": "code",
   "execution_count": null,
   "id": "86d98d2c",
   "metadata": {},
   "outputs": [],
   "source": [
    "configure_umbrella_pre_deployment(curr_um, thickness, target_height_multiplier)\n",
    "\n",
    "\n",
    "curr_um.attractionWeight = 1e-6\n",
    "curr_um.scaleInputPosWeights(0.5, bdryMultiplier = 0.0)"
   ]
  },
  {
   "cell_type": "code",
   "execution_count": null,
   "id": "cca1b54c",
   "metadata": {},
   "outputs": [],
   "source": [
    "dw = np.zeros(curr_um.numUmbrellas())"
   ]
  },
  {
   "cell_type": "code",
   "execution_count": null,
   "id": "023a2b98",
   "metadata": {},
   "outputs": [],
   "source": [
    "dw[10] = 10\n",
    "dw[21] = 10"
   ]
  },
  {
   "cell_type": "code",
   "execution_count": null,
   "id": "8eec2d13",
   "metadata": {},
   "outputs": [],
   "source": [
    "curr_um.deploymentEnergyWeight = dw"
   ]
  },
  {
   "cell_type": "code",
   "execution_count": null,
   "id": "c44a4cbe",
   "metadata": {},
   "outputs": [],
   "source": [
    "allGradientNorms(curr_um)\n",
    "\n",
    "break_input_angle_symmetry(curr_um)\n",
    "\n",
    "view.update(scalarField=rod_colors)\n",
    "\n",
    "vw = OffscreenRenderer.video_writer.MeshRendererVideoWriter('{}_deployment.mp4'.format(name), render, outWidth = 1920, outHeight = 1080)"
   ]
  },
  {
   "cell_type": "code",
   "execution_count": null,
   "id": "c25d4ce1",
   "metadata": {
    "scrolled": true
   },
   "outputs": [],
   "source": [
    "break_input_angle_symmetry(curr_um)\n",
    "results = umbrella_mesh.compute_equilibrium(curr_um, callback = render_callback, options = OPTS, fixedVars = fixedVars, elasticEnergyIncreaseFactorLimit=2.5)"
   ]
  },
  {
   "cell_type": "code",
   "execution_count": null,
   "id": "d29df580",
   "metadata": {
    "scrolled": true
   },
   "outputs": [],
   "source": [
    "dw[11] = 10\n",
    "dw[20] = 10\n",
    "curr_um.deploymentEnergyWeight = dw\n",
    "results = umbrella_mesh.compute_equilibrium(curr_um, callback = render_callback, options = OPTS, fixedVars = fixedVars, elasticEnergyIncreaseFactorLimit=2.5)"
   ]
  },
  {
   "cell_type": "code",
   "execution_count": null,
   "id": "61cc0f0f",
   "metadata": {},
   "outputs": [],
   "source": [
    "vw.finish()"
   ]
  },
  {
   "cell_type": "code",
   "execution_count": null,
   "id": "0a55f517",
   "metadata": {},
   "outputs": [],
   "source": []
  },
  {
   "cell_type": "code",
   "execution_count": null,
   "id": "693966a3",
   "metadata": {},
   "outputs": [],
   "source": []
  },
  {
   "cell_type": "code",
   "execution_count": null,
   "id": "0a5d61de",
   "metadata": {},
   "outputs": [],
   "source": []
  }
 ],
 "metadata": {
  "kernelspec": {
   "display_name": "umbrella_mesh",
   "language": "python",
   "name": "umbrella_mesh"
  },
  "language_info": {
   "codemirror_mode": {
    "name": "ipython",
    "version": 3
   },
   "file_extension": ".py",
   "mimetype": "text/x-python",
   "name": "python",
   "nbconvert_exporter": "python",
   "pygments_lexer": "ipython3",
   "version": "3.9.7"
  }
 },
 "nbformat": 4,
 "nbformat_minor": 5
}
